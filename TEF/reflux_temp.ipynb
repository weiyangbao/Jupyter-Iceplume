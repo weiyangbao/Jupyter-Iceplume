{
 "cells": [
  {
   "cell_type": "code",
   "execution_count": 1,
   "metadata": {},
   "outputs": [],
   "source": [
    "# Calculate the Reflux Coefficient from TEF\n",
    "import xarray as xr\n",
    "import numpy as np\n",
    "import matplotlib.pyplot as plt\n",
    "import os, sys\n",
    "import TEF_Variables as tef"
   ]
  },
  {
   "cell_type": "code",
   "execution_count": 2,
   "metadata": {},
   "outputs": [],
   "source": [
    "def reflux(Qsg, hs, xi):\n",
    "\n",
    "    State = xr.open_dataset('/Volumes/Extreme SSD/MITgcm outputs/qf' + str(format(Qsg,'03d')) + '_rot/state_' + str(format(hs,'03d')) + '.nc')\n",
    "    Grid = xr.open_dataset('/Volumes/Extreme SSD/MITgcm outputs/qf' + str(format(Qsg,'03d')) + '_rot/grid_' + str(format(hs,'03d')) + '.nc')\n",
    "    # Confine to the range of fjord\n",
    "    state = State.isel(X=range(120), Xp1=range(121), Y=range(30,39), T=range(1,len(State.T)))\n",
    "    grid = Grid.isel(X=range(120), Xp1=range(121), Y=range(30,39))\n",
    "\n",
    "\n",
    "    s = state.S.data.mean(2) # Salinity in T,Z,X\n",
    "    u = (state.U.data[:,:,:,1:].mean(2) + state.U.data[:,:,:,:-1].mean(2)) / 2 # Along channel velocity\n",
    "    ot = state.T.data # Time in seconds\n",
    "\n",
    "\n",
    "    HFacC1 = grid.HFacC.data.mean(1)\n",
    "    dyF1 = grid.dyF.data.mean(0)\n",
    "    drF1 = grid.drF.data\n",
    "    gridA = np.broadcast_to(drF1[:, np.newaxis], HFacC1.shape) * np.broadcast_to(dyF1[np.newaxis, :], HFacC1.shape) * HFacC1 # Grid Area\n",
    "    da = np.broadcast_to(gridA[np.newaxis,:,:], u.shape)\n",
    "\n",
    "    S = state.S.data\n",
    "    U = (state.U.data[:,:,:,1:] + state.U.data[:,:,:,:-1]) / 2\n",
    "    drF = np.broadcast_to(grid.drF.data[np.newaxis, :, np.newaxis, np.newaxis], U.shape)\n",
    "    dyF = np.broadcast_to(grid.dyF.data[np.newaxis, np.newaxis, :, :], U.shape)\n",
    "    HFacC = np.broadcast_to(grid.HFacC.data[np.newaxis, :, :, :], U.shape)\n",
    "    DA = drF * dyF * HFacC\n",
    "    \n",
    "    \n",
    "    Qin = np.empty(len(xi))\n",
    "    Qout = np.empty(len(xi))\n",
    "    Sin = np.empty(len(xi))\n",
    "    Sout = np.empty(len(xi))\n",
    "\n",
    "    for i in range(len(xi)):\n",
    "    \n",
    "        tef_q1, tef_vel1, tef_da1, tef_qs1, tef_qs21, sbins1 = tef.process_section(U,S,DA,ot,xi[i],23,testing=False)\n",
    "\n",
    "        qin1, qout1, sin1, sout1 = tef.bulk_calc(tef_q1, tef_vel1, tef_da1, tef_qs1, tef_qs21, sbins1, ot)\n",
    "    \n",
    "        Qin[i] = qin1[274:].mean() # Time averaging from 1+274 hour\n",
    "        Qout[i] = qout1[274:].mean()\n",
    "        Sin[i] = sin1[274:].mean() # Time averaging from 1+274 hour\n",
    "        Sout[i] = sout1[274:].mean()\n",
    "        \n",
    "    #a00 = (Sin[0]/Sout[0])*(Sout[1]-Sout[0])/(Sout[1]-Sin[0])\n",
    "    a00 = (Qin[0]-Qin[1]) / Qin[0]    \n",
    "    a11 = (Sout[1]/Sin[1])*(Sin[1]-Sin[0])/(Sout[1]-Sin[0])    \n",
    "    a01 = (Sout[1]/Sout[0])*(Sout[0]-Sin[0])/(Sout[1]-Sin[0])\n",
    "    \n",
    "    a10 = (Sin[0]/Sin[1])*(Sout[1]-Sin[1])/(Sout[1]-Sin[0])\n",
    "    \n",
    "    #a00 = -(Qout[0]/Qin[0])*(Sout[1]-Sout[0])/(Sout[1]-Sin[0])\n",
    "    #a11 = -(Qin[1]/Qout[1])*(Sin[1]-Sin[0])/(Sout[1]-Sin[0])\n",
    "    #a01 = (Qin[1]/Qin[0])*(Sout[1]-Sin[1])/(Sout[1]-Sin[0])\n",
    "    #a10 = (Qout[0]/Qout[1])*(Sout[0]-Sin[0])/(Sout[1]-Sin[0])\n",
    "    \n",
    "    q0 = Qin[0]\n",
    "    q1 = -Qout[-1]\n",
    "    Q0 = -Qout[0]\n",
    "    Q1 = Qin[-1]\n",
    "    f0 = Sin[0]*q0\n",
    "    f1 = Sout[-1]*q1\n",
    "    F0 = Sout[0]*Q0\n",
    "    F1 = Sin[-1]*Q1\n",
    "    \n",
    "    A = np.array([[q1, q0, 0, 0], [f1, f0, 0, 0], [0, 0, q1, q0], [0, 0, f1, f0]])\n",
    "    B = np.array([Q1, F1, Q0, F0])\n",
    "    X = np.linalg.solve(A,B)\n",
    "    \n",
    "    return a00, q0, q1, Q0\n"
   ]
  },
  {
   "cell_type": "code",
   "execution_count": 3,
   "metadata": {},
   "outputs": [],
   "source": [
    "def vol_temp(Qsg, hs, xi):\n",
    "    \n",
    "    State = xr.open_dataset('/Volumes/Extreme SSD/MITgcm outputs/qf' + str(format(Qsg,'03d')) + '_rot/state_' + str(format(hs,'03d')) + '.nc')\n",
    "    Grid = xr.open_dataset('/Volumes/Extreme SSD/MITgcm outputs/qf' + str(format(Qsg,'03d')) + '_rot/grid_' + str(format(hs,'03d')) + '.nc')\n",
    "    # Confine to the range of fjord\n",
    "    state = State.isel(X=range(120), Xp1=range(121), Y=range(30,39), T=range(1,len(State.T)))\n",
    "    grid = Grid.isel(X=range(120), Xp1=range(121), Y=range(30,39))\n",
    "\n",
    "    U = (state.U.data[:,:,:,1:] + state.U.data[:,:,:,:-1]) / 2 # Along-channel velocity\n",
    "    \n",
    "    drF = np.broadcast_to(grid.drF.data[np.newaxis, :, np.newaxis, np.newaxis], U.shape)\n",
    "    dyF = np.broadcast_to(grid.dyF.data[np.newaxis, np.newaxis, :, :], U.shape)\n",
    "    HFacC = np.broadcast_to(grid.HFacC.data[np.newaxis, :, :, :], U.shape)\n",
    "    DA = drF * dyF * HFacC\n",
    "    \n",
    "    da = DA[274:,:,:,xi[0]+1:xi[1]+1].mean(axis=(0,2))\n",
    "    s = state.S.data[274:,:,:,xi[0]+1:xi[1]+1].mean(axis=(0,2))\n",
    "    temp = state.Temp.data[274:,:,:,xi[0]+1:xi[1]+1].mean(axis=(0,2))\n",
    "    u = U[274:,:,:,xi[0]+1:xi[1]+1].mean(axis=(0,2))\n",
    "    sma = np.ma.masked_where(s==0, s)\n",
    "    topo = np.ma.getmask(sma) # Masked Topography\n",
    "    uma = np.ma.MaskedArray(u, mask=topo)\n",
    "    tma = np.ma.MaskedArray(temp, mask=topo)\n",
    "    \n",
    "    #HFacC = grid.HFacC.data\n",
    "    #CV = np.broadcast_to(grid.drF.data[:, np.newaxis, np.newaxis], HFacC.shape) * np.broadcast_to(grid.rA.data[np.newaxis, :, :], HFacC.shape) * HFacC # Cell Volume\n",
    "    \n",
    "    Tv1 = np.empty(uma.shape[1])\n",
    "    Tv2 = np.empty(uma.shape[1])\n",
    "    \n",
    "    for i in range(uma.shape[1]):\n",
    "            \n",
    "        if any(uma[:,i]<0)==False:\n",
    "            pass\n",
    "            \n",
    "        else:\n",
    "            l = np.where(uma[:,i] < 0)[-1][0]    \n",
    "            Tv1[i] = np.sum(tma[:l,i]*da[:l,i]*uma[:l,i]) / np.sum(da[:l,i]*uma[:l,i])\n",
    "            Tv2[i] = np.sum(tma[l:,i]*da[l:,i]*uma[l:,i]) / np.sum(da[l:,i]*uma[l:,i])\n",
    "            \n",
    "        Tf = Tv1[:-1].mean()\n",
    "        Ts = Tv2[:-1].mean()\n",
    "        Ts_in = Tv2[-1]\n",
    "            \n",
    "    return Tf, Ts, Ts_in"
   ]
  },
  {
   "cell_type": "code",
   "execution_count": 4,
   "metadata": {},
   "outputs": [
    {
     "name": "stdout",
     "output_type": "stream",
     "text": [
      "  time 0 out of 336\n",
      "  time 0 out of 336\n"
     ]
    },
    {
     "name": "stderr",
     "output_type": "stream",
     "text": [
      "/Users/weiyangbao/Documents/Jupyter-Iceplume/TEF/TEF_Variables.py:269: RuntimeWarning: invalid value encountered in true_divide\n",
      "  Sm = QSm/Qm\n",
      "/Users/weiyangbao/Documents/Jupyter-Iceplume/TEF/TEF_Variables.py:273: RuntimeWarning: invalid value encountered in true_divide\n",
      "  S2m = QS2m/Qm\n"
     ]
    },
    {
     "name": "stdout",
     "output_type": "stream",
     "text": [
      "  time 0 out of 336\n",
      "  time 0 out of 336\n",
      "  time 0 out of 336\n",
      "  time 0 out of 336\n",
      "  time 0 out of 336\n",
      "  time 0 out of 336\n"
     ]
    }
   ],
   "source": [
    "Qsg = 700\n",
    "hs = np.array([9,12,15,18])\n",
    "xrange = np.array([47,72])\n",
    "\n",
    "rflx = np.empty(len(hs))\n",
    "Qin0 = np.empty(len(hs))\n",
    "Qin1 = np.empty(len(hs))\n",
    "Qout0 = np.empty(len(hs))\n",
    "Ts = np.empty(len(hs))\n",
    "Tf = np.empty(len(hs))\n",
    "Ts_in = np.empty(len(hs))\n",
    "\n",
    "for j in range(len(hs)):\n",
    "    \n",
    "    rflx[j], Qin0[j], Qin1[j], Qout0[j] = reflux(Qsg,hs[j],xrange)\n",
    "    \n",
    "    Tf[j], Ts[j], Ts_in[j] = vol_temp(Qsg,hs[j],xrange)"
   ]
  },
  {
   "cell_type": "code",
   "execution_count": 22,
   "metadata": {},
   "outputs": [
    {
     "data": {
      "text/plain": [
       "Text(6.8999999999999995, 8.75, '$\\\\frac{h_s}{h}$')"
      ]
     },
     "execution_count": 22,
     "metadata": {},
     "output_type": "execute_result"
    },
    {
     "data": {
      "image/png": "[encoded data removed]",
      "text/plain": [
       "<Figure size 720x504 with 1 Axes>"
      ]
     },
     "metadata": {
      "needs_background": "light"
     },
     "output_type": "display_data"
    }
   ],
   "source": [
    "Tse = (Ts_in*Qin1 + Tf*Qin0*rflx) / Qout0\n",
    "\n",
    "fig1, ax1 =plt.subplots(figsize=(10,7))\n",
    "\n",
    "\n",
    "\n",
    "plt.axis('square')\n",
    "plt.xticks(fontsize=15)\n",
    "plt.yticks(fontsize=15)\n",
    "plt.xlabel(r'$T_s-est\\;(^\\circ C)$', size=20)\n",
    "plt.ylabel(r'$T_s-obs\\;(^\\circ C)$', size=20)\n",
    "\n",
    "\n",
    "for j in range(len(hs)):\n",
    "\n",
    "    ax1.plot(Tse[j], Ts[j], marker='o', alpha=.7, ms=3*(j+3), color='orange', markeredgecolor='k')\n",
    "\n",
    "ax1.set(xlim=(6.5, 9), ylim=(6.5, 9))\n",
    "ax1.plot(ax1.get_xlim(), ax1.get_ylim(), ls=\"--\", c=\".3\")\n",
    "loc_mark = [6.8, 8.8]\n",
    "plt.plot(loc_mark[0],loc_mark[1], marker='o', alpha=.7, ms=15, color='orange', markeredgecolor='k')\n",
    "plt.text(loc_mark[0]+0.1, loc_mark[1]-0.05, r'$\\frac{h_s}{h}$', fontsize=20)\n"
   ]
  },
  {
   "cell_type": "code",
   "execution_count": 15,
   "metadata": {},
   "outputs": [
    {
     "data": {
      "text/plain": [
       "(array([6.91355312, 7.61066222, 8.0636339 , 8.45222259]),\n",
       " array([7.39375254, 8.0275618 , 8.44129221, 8.72635756]))"
      ]
     },
     "execution_count": 15,
     "metadata": {},
     "output_type": "execute_result"
    }
   ],
   "source": [
    "Tse, Ts"
   ]
  },
  {
   "cell_type": "code",
   "execution_count": null,
   "metadata": {},
   "outputs": [],
   "source": []
  }
 ],
 "metadata": {
  "kernelspec": {
   "display_name": "Python 3",
   "language": "python",
   "name": "python3"
  },
  "language_info": {
   "codemirror_mode": {
    "name": "ipython",
    "version": 3
   },
   "file_extension": ".py",
   "mimetype": "text/x-python",
   "name": "python",
   "nbconvert_exporter": "python",
   "pygments_lexer": "ipython3",
   "version": "3.7.9"
  }
 },
 "nbformat": 4,
 "nbformat_minor": 4
}
