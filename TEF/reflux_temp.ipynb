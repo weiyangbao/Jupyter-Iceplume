{
 "cells": [
  {
   "cell_type": "code",
   "execution_count": 1,
   "metadata": {},
   "outputs": [],
   "source": [
    "# Calculate the Reflux Coefficient from TEF\n",
    "import xarray as xr\n",
    "import numpy as np\n",
    "import matplotlib.pyplot as plt\n",
    "import os, sys\n",
    "import TEF_Variables as tef"
   ]
  },
  {
   "cell_type": "code",
   "execution_count": 4,
   "metadata": {},
   "outputs": [],
   "source": [
    "def reflux(Qsg, hs, xi):\n",
    "    #/Volumes/Extreme SSD/MITgcm outputs\n",
    "    #../../Model_outputs\n",
    "#     State = xr.open_dataset('/Volumes/Extreme SSD/MITgcm outputs/Qsg' + str(format(Qsg,'03d')) + '/state_' + str(format(hs,'03d')) + '.nc')\n",
    "#     Grid = xr.open_dataset('/Volumes/Extreme SSD/MITgcm outputs/Qsg' + str(format(Qsg,'03d')) + '/grid_' + str(format(hs,'03d')) + '.nc')\n",
    "\n",
    "    # Confine to the range of fjord\n",
    "#     state = State.isel(X=range(120), Xp1=range(121), Y=range(30,39), T=range(1,len(State.T)))\n",
    "#     grid = Grid.isel(X=range(120), Xp1=range(121), Y=range(30,39))\n",
    "    State = xr.open_dataset('/work/oceans/wbao/MITgcm_results/iceplume/Qsg' + str(format(Qsg,'03d')) + 'n/state_' + str(format(hs,'03d')) + '.nc')\n",
    "    Grid = xr.open_dataset('/work/oceans/wbao/MITgcm_results/iceplume/Qsg' + str(format(Qsg,'03d')) + 'n/grid_' + str(format(hs,'03d')) + '.nc')\n",
    "    state = State.isel(X=range(260), Xp1=range(261), Y=range(35,45), T=range(10,21))\n",
    "    grid = Grid.isel(X=range(260), Xp1=range(261), Y=range(35,45))\n",
    "    s = state.S.data.mean(2) # Salinity in T,Z,X\n",
    "    u = (state.U.data[:,:,:,1:].mean(2) + state.U.data[:,:,:,:-1].mean(2)) / 2 # Along channel velocity\n",
    "    ot = state.T.data # Time in seconds\n",
    "\n",
    "\n",
    "    HFacC1 = grid.HFacC.data.mean(1)\n",
    "    dyF1 = grid.dyF.data.mean(0)\n",
    "    drF1 = grid.drF.data\n",
    "    gridA = np.broadcast_to(drF1[:, np.newaxis], HFacC1.shape) * np.broadcast_to(dyF1[np.newaxis, :], HFacC1.shape) * HFacC1 # Grid Area\n",
    "    da = np.broadcast_to(gridA[np.newaxis,:,:], u.shape)\n",
    "\n",
    "    S = state.S.data\n",
    "    U = (state.U.data[:,:,:,1:] + state.U.data[:,:,:,:-1]) / 2\n",
    "    drF = np.broadcast_to(grid.drF.data[np.newaxis, :, np.newaxis, np.newaxis], U.shape)\n",
    "    dyF = np.broadcast_to(grid.dyF.data[np.newaxis, np.newaxis, :, :], U.shape)\n",
    "    HFacC = np.broadcast_to(grid.HFacC.data[np.newaxis, :, :, :], U.shape)\n",
    "    DA = drF * dyF * HFacC\n",
    "    \n",
    "    \n",
    "    Qin = np.empty(len(xi))\n",
    "    Qout = np.empty(len(xi))\n",
    "    Sin = np.empty(len(xi))\n",
    "    Sout = np.empty(len(xi))\n",
    "    t0 = 89 # 274\n",
    "    \n",
    "    for i in range(len(xi)):\n",
    "    \n",
    "        tef_q1, tef_vel1, tef_da1, tef_qs1, tef_qs21, sbins1 = tef.process_section(U,S,DA,ot,xi[i],23,testing=False)\n",
    "\n",
    "        qin1, qout1, sin1, sout1 = tef.bulk_calc(tef_q1, tef_vel1, tef_da1, tef_qs1, tef_qs21, sbins1, ot)\n",
    "    \n",
    "#         Qin[i] = qin1[t0:].mean() # Time averaging from 1+t0 hour\n",
    "#         Qout[i] = qout1[t0:].mean()\n",
    "#         Sin[i] = sin1[t0:].mean() # Time averaging from 1+t0 hour\n",
    "#         Sout[i] = sout1[t0:].mean()\n",
    "        Qin[i] = qin1[10:21].mean() # Time averaging from 1+t0 hour\n",
    "        Qout[i] = qout1[10:21].mean()\n",
    "        Sin[i] = sin1[10:21].mean() # Time averaging from 1+t0 hour\n",
    "        Sout[i] = sout1[10:21].mean()\n",
    "        \n",
    "    a002 = (Sin[0]/Sout[0])*(Sout[1]-Sout[0])/(Sout[1]-Sin[0])\n",
    "    a001 = (Qin[0]-Qin[1]) / Qin[0]    \n",
    "    a11 = (Sout[1]/Sin[1])*(Sin[1]-Sin[0])/(Sout[1]-Sin[0])    \n",
    "    a01 = (Sout[1]/Sout[0])*(Sout[0]-Sin[0])/(Sout[1]-Sin[0])\n",
    "    \n",
    "    a10 = (Sin[0]/Sin[1])*(Sout[1]-Sin[1])/(Sout[1]-Sin[0])\n",
    "    \n",
    "    #a00 = -(Qout[0]/Qin[0])*(Sout[1]-Sout[0])/(Sout[1]-Sin[0])\n",
    "    #a11 = -(Qin[1]/Qout[1])*(Sin[1]-Sin[0])/(Sout[1]-Sin[0])\n",
    "    #a01 = (Qin[1]/Qin[0])*(Sout[1]-Sin[1])/(Sout[1]-Sin[0])\n",
    "    #a10 = (Qout[0]/Qout[1])*(Sout[0]-Sin[0])/(Sout[1]-Sin[0])\n",
    "    \n",
    "    q0 = Qin[0]\n",
    "    q1 = -Qout[-1]\n",
    "    Q0 = -Qout[0]\n",
    "    Q1 = Qin[-1]\n",
    "    f0 = Sin[0]*q0\n",
    "    f1 = Sout[-1]*q1\n",
    "    F0 = Sout[0]*Q0\n",
    "    F1 = Sin[-1]*Q1\n",
    "    \n",
    "    A = np.array([[q1, q0, 0, 0], [f1, f0, 0, 0], [0, 0, q1, q0], [0, 0, f1, f0]])\n",
    "    B = np.array([Q1, F1, Q0, F0])\n",
    "    X = np.linalg.solve(A,B) # a11, a01, a10, a00\n",
    "    \n",
    "    #return a00,q q0, q1, Q0\n",
    "    #return a001, a002, X[-1]\n",
    "    return X[0],X[-1],q1,q0,Q1,Q0"
   ]
  },
  {
   "cell_type": "code",
   "execution_count": 5,
   "metadata": {},
   "outputs": [
    {
     "name": "stdout",
     "output_type": "stream",
     "text": [
      "  time 0 out of 11\n",
      "  time 0 out of 11\n",
      "  time 0 out of 11\n",
      "  time 0 out of 11\n",
      "  time 0 out of 11\n",
      "  time 0 out of 11\n",
      "  time 0 out of 11\n",
      "  time 0 out of 11\n",
      "  time 0 out of 11\n",
      "  time 0 out of 11\n",
      "  time 0 out of 11\n",
      "  time 0 out of 11\n"
     ]
    }
   ],
   "source": [
    "qsg = 500\n",
    "hs = np.array([1,2,3,4,5,6])\n",
    "# xrange = np.array([47,97])\n",
    "xrange = np.array([120,235])\n",
    "\n",
    "eflx = np.empty(len(hs))\n",
    "rflx = np.empty(len(hs))\n",
    "q1 = np.empty(len(hs))\n",
    "q0 = np.empty(len(hs))\n",
    "Q1 = np.empty(len(hs))\n",
    "Q0 = np.empty(len(hs))\n",
    "\n",
    "for j in range(len(hs)):\n",
    "    \n",
    "    eflx[j], rflx[j], q1[j], q0[j], Q1[j], Q0[j] = reflux(qsg,hs[j],xrange)\n",
    "    \n"
   ]
  },
  {
   "cell_type": "code",
   "execution_count": 13,
   "metadata": {},
   "outputs": [
    {
     "data": {
      "text/plain": [
       "array([8349.14284569, 8283.76804842, 6298.34057841, 4480.47808994,\n",
       "       3308.30476634])"
      ]
     },
     "execution_count": 13,
     "metadata": {},
     "output_type": "execute_result"
    }
   ],
   "source": [
    "#eflx, rflx, Q0 - q1, q0- Q1, Q0\n",
    "Q0[:-1]-q1[:-1]"
   ]
  },
  {
   "cell_type": "code",
   "execution_count": 12,
   "metadata": {},
   "outputs": [
    {
     "data": {
      "image/png": "[encoded data removed]",
      "text/plain": [
       "<Figure size 360x360 with 2 Axes>"
      ]
     },
     "metadata": {
      "needs_background": "light"
     },
     "output_type": "display_data"
    }
   ],
   "source": [
    "# fig0,ax0 = plt.subplots(figsize=(10,7))\n",
    "\n",
    "# ax0.plot(hsr,rflx1,'o-',label='downward only')\n",
    "# ax0.plot(hsr,rflx3,'o-',label='two-way')\n",
    "\n",
    "# ax0.legend(loc='best', fontsize=15)\n",
    "# ax0.set_ylabel(r'reflux coefficient $\\alpha_{00}$',size = 20)\n",
    "# ax0.set_xlabel(r'$h_s/h$', size = 20)\n",
    "# ax0.grid(linestyle='--', linewidth='0.5')\n",
    "hsr = np.array([0.04,0.06,0.08,0.10,0.12,1.0])\n",
    "\n",
    "fig0, ax1 = plt.subplots(figsize=(5,5))\n",
    "plt.grid(linestyle = '--', linewidth = 0.5)\n",
    "ax1.plot(hsr[:-1],rflx[:-1],'o-r',label=r'$\\alpha_{00}$')\n",
    "eflx[eflx<0] = 0\n",
    "ax1.plot(hsr[:-1],eflx[:-1],'o-g',label=r'$\\alpha_{11}$')\n",
    "ax1.legend(loc='center left', fontsize=12)\n",
    "ax1.set_xticks([0.04, 0.06, 0.08, 0.10, 0.12])\n",
    "ax1.set_xlabel(r\"$h_s/h$\",fontsize=12)\n",
    "#ax1.set_ylim([0, .7])\n",
    "ax1.set_ylabel(r\"Reflux Coefficient\",fontsize=12)\n",
    "\n",
    "ax2=ax1.twinx()\n",
    "ax2.plot(hsr[:-1],Q0[:-1]-q1[:-1],'^-b',label=r'$Q_e$')\n",
    "ax2.legend(loc='right', fontsize=12)\n",
    "# ax2.set_ylim([0, 2800])\n",
    "ax2.set_ylim([3000, 9000])\n",
    "ax2.set_ylabel(r\"Volume Flux $[m^3/s]$\",fontsize=12)\n",
    "\n",
    "\n",
    "plt.show()"
   ]
  },
  {
   "cell_type": "code",
   "execution_count": 10,
   "metadata": {},
   "outputs": [],
   "source": [
    "def vol_temp(Qsg, hs, xi):\n",
    "    #/Volumes/Extreme SSD/MITgcm outputs\n",
    "    State = xr.open_dataset('/Volumes/Extreme SSD/MITgcm outputs/Qsg' + str(format(Qsg,'03d')) + '/state_' + str(format(hs,'03d')) + '.nc')\n",
    "    Grid = xr.open_dataset('/Volumes/Extreme SSD/MITgcm outputs/Qsg' + str(format(Qsg,'03d')) + '/grid_' + str(format(hs,'03d')) + '.nc')\n",
    "    # Confine to the range of fjord\n",
    "    state = State.isel(X=range(120), Xp1=range(121), Y=range(30,39), T=range(1,len(State.T)))\n",
    "    grid = Grid.isel(X=range(120), Xp1=range(121), Y=range(30,39))\n",
    "\n",
    "    U = (state.U.data[:,:,:,1:] + state.U.data[:,:,:,:-1]) / 2 # Along-channel velocity\n",
    "    \n",
    "    drF = np.broadcast_to(grid.drF.data[np.newaxis, :, np.newaxis, np.newaxis], U.shape)\n",
    "    dyF = np.broadcast_to(grid.dyF.data[np.newaxis, np.newaxis, :, :], U.shape)\n",
    "    HFacC = np.broadcast_to(grid.HFacC.data[np.newaxis, :, :, :], U.shape)\n",
    "    DA = drF * dyF * HFacC\n",
    "    \n",
    "    rA = np.broadcast_to(grid.rA.data[np.newaxis, np.newaxis, :, :], U.shape)\n",
    "    CV = rA * drF * HFacC\n",
    "\n",
    "    \n",
    "    t0 = 89 # 274\n",
    "    da = DA[t0:,:,:,xi[0]+1:xi[1]+1].mean(axis=(0,2))\n",
    "    cv = CV[t0:,:,:,xi[0]+1:xi[1]+1].mean(axis=(0,2))\n",
    "    s = state.S.data[t0:,:,:,xi[0]+1:xi[1]+1].mean(axis=(0,2))\n",
    "    temp = state.Temp.data[t0:,:,:,xi[0]+1:xi[1]+1].mean(axis=(0,2))\n",
    "    u = U[t0:,:,:,xi[0]+1:xi[1]+1].mean(axis=(0,2))\n",
    "    sma = np.ma.masked_where(s==0, s)\n",
    "    topo = np.ma.getmask(sma) # Masked Topography\n",
    "    uma = np.ma.MaskedArray(u, mask=topo)\n",
    "    tma = np.ma.MaskedArray(temp, mask=topo)\n",
    "    \n",
    "    #HFacC = grid.HFacC.data\n",
    "    #CV = np.broadcast_to(grid.drF.data[:, np.newaxis, np.newaxis], HFacC.shape) * np.broadcast_to(grid.rA.data[np.newaxis, :, :], HFacC.shape) * HFacC # Cell Volume\n",
    "    \n",
    "    Tv1 = np.empty(uma.shape[1])\n",
    "    Tv2 = np.empty(uma.shape[1])\n",
    "    Vol1 = np.empty(uma.shape[1])\n",
    "    Vol2 = np.empty(uma.shape[1])\n",
    "    Tvol1 = np.empty(uma.shape[1])\n",
    "    Tvol2 = np.empty(uma.shape[1])\n",
    "    \n",
    "    for i in range(uma.shape[1]):\n",
    "            \n",
    "        if any(uma[:,i]<0)==False:\n",
    "            pass\n",
    "            \n",
    "        else:\n",
    "            l = np.where(uma[:,i] < 0)[-1][0]    \n",
    "            Tv1[i] = np.sum(tma[:l,i]*da[:l,i]*uma[:l,i]) / np.sum(da[:l,i]*uma[:l,i])\n",
    "            Tv2[i] = np.sum(tma[l:,i]*da[l:,i]*uma[l:,i]) / np.sum(da[l:,i]*uma[l:,i])\n",
    "            Vol1[i] = cv[:l,i].sum()\n",
    "            Vol2[i] = cv[l:,i].sum()\n",
    "            Tvol1[i] = np.sum(tma[:l,i]*cv[:l,i])\n",
    "            Tvol2[i] = np.sum(tma[l:,i]*cv[l:,i])\n",
    "            \n",
    "        Tf = Tv1[:-1].mean()\n",
    "        Ts = Tv2[:-1].mean()\n",
    "        #Tf = Tvol1[:-1].sum()/Vol1[:-1].sum()\n",
    "        #Ts = Tvol2[:-1].sum()/Vol2[:-1].sum()\n",
    "        Ts_in = Tv2[-1]\n",
    "            \n",
    "    return Tf, Ts, Ts_in\n",
    "    #return Tv1, Tv2"
   ]
  },
  {
   "cell_type": "code",
   "execution_count": 11,
   "metadata": {},
   "outputs": [
    {
     "name": "stdout",
     "output_type": "stream",
     "text": [
      "  time 0 out of 120\n",
      "  time 0 out of 120\n",
      "  time 0 out of 120\n",
      "  time 0 out of 120\n",
      "  time 0 out of 120\n",
      "  time 0 out of 120\n",
      "  time 0 out of 120\n",
      "  time 0 out of 120\n",
      "  time 0 out of 120\n",
      "  time 0 out of 120\n",
      "  time 0 out of 120\n",
      "  time 0 out of 120\n",
      "  time 0 out of 120\n",
      "  time 0 out of 120\n",
      "  time 0 out of 120\n",
      "  time 0 out of 120\n",
      "  time 0 out of 120\n",
      "  time 0 out of 120\n",
      "  time 0 out of 120\n",
      "  time 0 out of 120\n"
     ]
    }
   ],
   "source": [
    "qsg = 500\n",
    "hs = np.array([1,2,3,4,5])\n",
    "xrange1 = np.array([5,47]) # 3~47 47~97\n",
    "xrange2 = np.array([47,97]) # 3~47 47~97\n",
    "\n",
    "rflx1 = np.empty(len(hs))\n",
    "alp111 = np.empty(len(hs))\n",
    "alp001 = np.empty(len(hs))\n",
    "Qin01 = np.empty(len(hs))\n",
    "Qin11 = np.empty(len(hs))\n",
    "Qout01 = np.empty(len(hs))\n",
    "Ts1 = np.empty(len(hs))\n",
    "Tf1 = np.empty(len(hs))\n",
    "Ts_in1 = np.empty(len(hs))\n",
    "\n",
    "\n",
    "rflx2 = np.empty(len(hs))\n",
    "alp112 = np.empty(len(hs))\n",
    "alp002 = np.empty(len(hs))\n",
    "Qin02 = np.empty(len(hs))\n",
    "Qin12 = np.empty(len(hs))\n",
    "Qout02 = np.empty(len(hs))\n",
    "Ts2 = np.empty(len(hs))\n",
    "Tf2 = np.empty(len(hs))\n",
    "Ts_in2 = np.empty(len(hs))\n",
    "\n",
    "\n",
    "\n",
    "for j in range(len(hs)):\n",
    "    \n",
    "    alp111[j], alp001[j], Qin11[j], Qin01[j], Qout11, Qout01[j] = reflux(qsg,hs[j],xrange1)\n",
    "    \n",
    "    Tf1[j], Ts1[j], Ts_in1[j] = vol_temp(qsg,hs[j],xrange1)\n",
    "    \n",
    "    alp112[j], alp002[j], Qin12[j], Qin02[j], Qout12, Qout02[j] = reflux(qsg,hs[j],xrange2)\n",
    "    \n",
    "    Tf2[j], Ts2[j], Ts_in2[j] = vol_temp(qsg,hs[j],xrange2)"
   ]
  },
  {
   "cell_type": "code",
   "execution_count": null,
   "metadata": {},
   "outputs": [],
   "source": [
    "actual = np.concatenate((Ts1, Ts2))\n",
    "actual"
   ]
  },
  {
   "cell_type": "code",
   "execution_count": 13,
   "metadata": {},
   "outputs": [
    {
     "name": "stdout",
     "output_type": "stream",
     "text": [
      "0.9304314953767439\n"
     ]
    }
   ],
   "source": [
    "#Tse = (Ts_in*Qin1 + Tf*Qin0*alp00) / Qout0\n",
    "Tse1 = (Ts_in1*Qin11*(1-alp111) + Tf1*Qin01*alp001) / Qout01\n",
    "Tse2 = (Ts_in2*Qin12*(1-alp112) + Tf2*Qin02*alp002) / Qout02\n",
    "\n",
    "\n",
    "actual = np.concatenate((Ts1, Ts2))\n",
    "predict = np.concatenate((Tse1, Tse2))\n",
    " \n",
    "corr_matrix = np.corrcoef(actual, predict)\n",
    "corr = corr_matrix[0,1]\n",
    "R_sq = corr**2\n",
    "print(R_sq)"
   ]
  },
  {
   "cell_type": "code",
   "execution_count": 18,
   "metadata": {},
   "outputs": [
    {
     "data": {
      "image/png": "[encoded data removed]",
      "text/plain": [
       "<Figure size 500x500 with 1 Axes>"
      ]
     },
     "metadata": {},
     "output_type": "display_data"
    }
   ],
   "source": [
    "\n",
    "#fig1, (ax1, ax2) = plt.subplots(1,2, figsize=(10,5))\n",
    "fig1, ax1 = plt.subplots(figsize=(5,5))\n",
    "\n",
    "\n",
    "plt.axis('square')\n",
    "plt.xticks(fontsize=12)\n",
    "plt.yticks(fontsize=12)\n",
    "plt.xlabel(r'$T_s^{est}\\;[^\\circ C]$', size=12)\n",
    "plt.ylabel(r'$T_s^{obs}\\;[^\\circ C]$', size=12)\n",
    "\n",
    "\n",
    "for j in range(len(hs)):\n",
    "\n",
    "    ax1.plot(Tse2[j], Ts2[j], marker='o', alpha=.7, ms=3*(j+3), color='orange', markeredgecolor='k')\n",
    "    ax1.plot(Tse1[j], Ts1[j], marker='^', alpha=.7, ms=3*(j+3), color='blue', markeredgecolor='k')\n",
    "    \n",
    "ax1.set(xlim=(6, 9.5), ylim=(6, 9.5))\n",
    "ax1.plot(ax1.get_xlim(), ax1.get_ylim(), ls=\"--\", c=\"red\")\n",
    "loc_mark1 = [6.5, 9.3]\n",
    "plt.plot(loc_mark1[0],loc_mark1[1], marker='o', alpha=.7, ms=12, color='orange', markeredgecolor='k')\n",
    "plt.text(loc_mark1[0]+0.15, loc_mark1[1]-0.06, r'Fjord Interior', fontsize=12)\n",
    "loc_mark2 = [6.5, 9]\n",
    "plt.plot(loc_mark2[0],loc_mark2[1], marker='^', alpha=.7, ms=12, color='blue', markeredgecolor='k')\n",
    "plt.text(loc_mark2[0]+0.15, loc_mark2[1]-0.06, r'Sill', fontsize=12)\n",
    "\n",
    "plt.text(7.8, 6.5, r'$r^2=$'+str(format(R_sq,'1.2f')), fontsize=12)\n",
    "\n",
    "plt.grid(linestyle = '--', linewidth = 0.5)\n",
    "#ax1.set_title(r'Interior', loc='center', size=15)\n",
    "#ax1.set_title(r'Fjord', loc='center', size=15)\n",
    "# ax1.set_aspect('equal', 'box')\n",
    "# ax2.set(xlim=(6, 9.5), ylim=(6, 9.5))\n",
    "# ax2.plot(ax2.get_xlim(), ax2.get_ylim(), ls=\"--\", c=\".3\")\n",
    "# ax2.set_title(r'Sill', loc='center', size=15)\n",
    "# ax2.set_aspect('equal', 'box')\n",
    "plt.show()"
   ]
  },
  {
   "cell_type": "code",
   "execution_count": null,
   "metadata": {},
   "outputs": [],
   "source": [
    "#Tse, Ts\n",
    "alp00, alp11"
   ]
  },
  {
   "cell_type": "code",
   "execution_count": null,
   "metadata": {},
   "outputs": [],
   "source": [
    "hsr = hs / 150\n",
    "\n",
    "fig3, ax3 =plt.subplots(figsize=(10,7))\n",
    "\n",
    "plt.xticks(fontsize=15)\n",
    "plt.yticks(fontsize=15)\n",
    "plt.xlabel(r'$h_s/h$', size=20)\n",
    "#plt.ylabel(r'$\\alpha_{00}$', size=20)\n",
    "plt.ylabel(r'$T_f\\;(^\\circ C)$', size=20)\n",
    "ax3.plot(hsr,Tf,'o-r',lw=2)\n",
    "#ax3.plot(hsr,alp00,'o-b',lw=2)\n",
    "#ax3.set(ylim=(0, .6))\n",
    "ax3.set_title(r'Interior', loc='center', size=15)"
   ]
  },
  {
   "cell_type": "code",
   "execution_count": null,
   "metadata": {},
   "outputs": [],
   "source": [
    "## Compare the along fjord distribution of Ts from Model and Efflux/Reflux Estimate\n",
    "\n",
    "Qsg = 700\n",
    "Xi = np.arange(2,6)\n",
    "sill = np.array([9,12])\n",
    "\n",
    "state = xr.open_dataset('/Volumes/Extreme SSD/MITgcm outputs/qf' + str(format(Qsg,'03d')) + '_ShelfTracer/state_' + str(format(sill[0],'03d')) + '.nc')\n",
    "xdist = state.X.data\n",
    "\n",
    "Tf, Ts = vol_temp(Qsg,sill[1],np.array([Xi[0],Xi[-1]+1]))\n",
    "\n",
    "Tse = np.empty(len(Xi)-1)\n",
    "for k in range(len(Xi)-1):\n",
    "    xrange = np.array([Xi[0]+k,Xi[0]+k+2])\n",
    "    alp11, alp00, Qin1, Qin0, Qout0 = reflux(Qsg,sill[1],xrange)\n",
    "    Tse[k] = (Ts[k+1]*Qin1*(1-alp11) + Tf[k]*Qin0*alp00) / Qout0\n",
    "    \n",
    "\n"
   ]
  },
  {
   "cell_type": "code",
   "execution_count": null,
   "metadata": {},
   "outputs": [],
   "source": [
    "Ts,Tse"
   ]
  },
  {
   "cell_type": "code",
   "execution_count": null,
   "metadata": {},
   "outputs": [],
   "source": [
    "xx = np.array([3,5])\n",
    "a11, a00, q1, q0, Q0 = reflux(700,9,xx)\n",
    "a11, a00, q1, q0, Q0"
   ]
  },
  {
   "cell_type": "code",
   "execution_count": null,
   "metadata": {},
   "outputs": [],
   "source": [
    "fig2,ax2 = plt.subplots(figsize=(12,6))\n",
    "\n",
    "ax2.plot(xdist[Xi[0]:Xi[-1]],Ts[:-1],'r-',label='Observation')\n",
    "ax2.plot(xdist[Xi[0]:Xi[-1]],Tse,'b-',label='Estimate')\n",
    "ax2.axvline(x=5800, color='k',lw=2,linestyle='--')\n",
    "#ax1.plot(time,Tr1_rlx2,'-',label='Relax-1800s')\n",
    "\n",
    "ax2.legend(loc='best', fontsize=15)\n",
    "ax2.set_ylabel(r'$T_s$ ($^\\circ$C)',size = 20)\n",
    "ax2.set_xlabel(r'Distance from glacier (m)', size = 20)\n",
    "ax2.grid(linestyle='--', linewidth='0.5')\n",
    "ax2.set_title(r'$h_s=$'+str(sill[1])+'m', loc='center', size=15)\n",
    "ax2.set(xlim=(4000, 6000), ylim=(6, 10))"
   ]
  },
  {
   "cell_type": "code",
   "execution_count": null,
   "metadata": {},
   "outputs": [],
   "source": [
    "correlation_matrix = np.corrcoef(Tse, Ts)\n",
    "r_squared = correlation_matrix[0,1]**2\n",
    "r_squared"
   ]
  },
  {
   "cell_type": "code",
   "execution_count": 24,
   "metadata": {},
   "outputs": [],
   "source": [
    "fig_path = \"/Users/weiyangbao/Documents/Results_Figs/TEF/\"\n",
    "if not os.path.exists(fig_path):\n",
    "    os.makedirs(fig_path)\n",
    "\n",
    "fig0.savefig(fig_path + '/reflux.png', dpi=200, bbox_inches='tight')\n",
    "fig1.savefig(fig_path + '/Tf.png', dpi=200, bbox_inches='tight')"
   ]
  },
  {
   "cell_type": "code",
   "execution_count": 14,
   "metadata": {},
   "outputs": [],
   "source": [
    "fig_path =\"/home/1959/Jupyter_Figs/Qsg500n/\"\n",
    "if not os.path.exists(fig_path):\n",
    "    os.makedirs(fig_path)\n",
    "\n",
    "fig0.savefig(fig_path + '/reflux.png', dpi=200, bbox_inches='tight')    "
   ]
  },
  {
   "cell_type": "code",
   "execution_count": null,
   "metadata": {},
   "outputs": [],
   "source": []
  }
 ],
 "metadata": {
  "kernelspec": {
   "display_name": "Python 3 (ipykernel)",
   "language": "python",
   "name": "python3"
  },
  "language_info": {
   "codemirror_mode": {
    "name": "ipython",
    "version": 3
   },
   "file_extension": ".py",
   "mimetype": "text/x-python",
   "name": "python",
   "nbconvert_exporter": "python",
   "pygments_lexer": "ipython3",
   "version": "3.7.11"
  }
 },
 "nbformat": 4,
 "nbformat_minor": 4
}
