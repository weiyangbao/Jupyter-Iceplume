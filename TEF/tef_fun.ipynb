{
 "cells": [
  {
   "cell_type": "code",
   "execution_count": 1,
   "metadata": {},
   "outputs": [],
   "source": [
    "# Total Exchange Flow (TEF) Calculation  (MacCready, 2011)\n",
    "import xarray as xr\n",
    "import numpy as np\n",
    "import matplotlib.pyplot as plt\n",
    "import os, sys\n",
    "import TEF_Variables as tef\n",
    "sys.path.append(os.path.abspath('../Functions'))\n",
    "import ExchangeFlow2 as exg \n",
    "\n",
    "#import netCDF4 as nc\n",
    "#import pickle"
   ]
  },
  {
   "cell_type": "code",
   "execution_count": 2,
   "metadata": {},
   "outputs": [],
   "source": [
    "# Load fields\n",
    "Qsg = 500\n",
    "hs = 6\n",
    "State = xr.open_dataset('/Volumes/Extreme SSD/MITgcm outputs/Qsg' + str(format(Qsg,'03d')) + '/state_' + str(format(hs,'03d')) + '.nc')\n",
    "Grid = xr.open_dataset('/Volumes/Extreme SSD/MITgcm outputs/Qsg' + str(format(Qsg,'03d')) + '/grid_' + str(format(hs,'03d')) + '.nc')\n",
    "# Confine to the range of fjord\n",
    "state = State.isel(X=range(120), Xp1=range(121), Y=range(30,39), T=range(1,len(State.T)))\n",
    "grid = Grid.isel(X=range(120), Xp1=range(121), Y=range(30,39))\n",
    "\n",
    "\n",
    "s = state.S.data.mean(2) # Salinity in T,Z,X\n",
    "u = (state.U.data[:,:,:,1:].mean(2) + state.U.data[:,:,:,:-1].mean(2)) / 2 # Along channel velocity\n",
    "ot = state.T.data # Time in seconds\n",
    "\n",
    "\n",
    "x = grid.X.data\n",
    "z = grid.Z.data\n",
    "NY = len(state.Y)\n",
    "\n",
    "HFacC1 = grid.HFacC.data.mean(1)\n",
    "dyF1 = grid.dyF.data.mean(0)\n",
    "drF1 = grid.drF.data\n",
    "gridA = np.broadcast_to(drF1[:, np.newaxis], HFacC1.shape) * np.broadcast_to(dyF1[np.newaxis, :], HFacC1.shape) * HFacC1 # Grid Area\n",
    "da = np.broadcast_to(gridA[np.newaxis,:,:], u.shape)\n",
    "\n",
    "S = state.S.data\n",
    "U = (state.U.data[:,:,:,1:] + state.U.data[:,:,:,:-1]) / 2\n",
    "drF = np.broadcast_to(grid.drF.data[np.newaxis, :, np.newaxis, np.newaxis], U.shape)\n",
    "dyF = np.broadcast_to(grid.dyF.data[np.newaxis, np.newaxis, :, :], U.shape)\n",
    "HFacC = np.broadcast_to(grid.HFacC.data[np.newaxis, :, :, :], U.shape)\n",
    "DA = drF * dyF * HFacC\n",
    "\n"
   ]
  },
  {
   "cell_type": "code",
   "execution_count": null,
   "metadata": {},
   "outputs": [],
   "source": [
    "len(x[1:121])"
   ]
  },
  {
   "cell_type": "code",
   "execution_count": null,
   "metadata": {},
   "outputs": [],
   "source": [
    "xi = 71\n",
    "\n",
    "tef_q, tef_vel, tef_da, tef_qs, tef_qs2, sbins = tef.process_section(U,S,DA,ot,xi,23,testing=True)"
   ]
  },
  {
   "cell_type": "code",
   "execution_count": null,
   "metadata": {},
   "outputs": [],
   "source": [
    "qin, qout, sin, sout = tef.bulk_calc(tef_q, tef_vel, tef_da, tef_qs, tef_qs2, sbins, ot)"
   ]
  },
  {
   "cell_type": "code",
   "execution_count": null,
   "metadata": {},
   "outputs": [],
   "source": [
    "q1, q2, s1, s2 = exg.ef_Eu(U,S,DA,xi)\n",
    "\n",
    "fig1 = plt.figure(figsize=(16,8))\n",
    "fig1.tight_layout()\n",
    "\n",
    "ax1 = fig1.add_subplot(121)\n",
    "ax1.plot(ot[10:]/3600,s1[10:],'b-',lw=2,label=r'$S_1, S_2$')\n",
    "ax1.plot(ot[10:]/3600,sin[10:],'r-',lw=2,label=r'$S_1^{TEF},S_2^{TEF}$')\n",
    "ax1.plot(ot[10:]/3600,s2[10:],'b-',lw=2,)\n",
    "ax1.plot(ot[10:]/3600,sout[10:],'r-',lw=2)\n",
    "ax1.set_ylim(20,26)\n",
    "ax1.invert_yaxis()\n",
    "ax1.legend(loc='right', fontsize=15)\n",
    "ax1.set_ylabel(r'Salinity (psu)',size = 15)\n",
    "ax1.set_xlabel(r'Time (h)', size = 15)\n",
    "\n",
    "ax2 = fig1.add_subplot(122)\n",
    "ax2.plot(ot[10:]/3600,q1[10:]/1e3,'b-',lw=2,label=r'$Q_1,Q_2$')\n",
    "ax2.plot(ot[10:]/3600,qin[10:]/1e3,'r-',lw=2,label=r'$Q_1^{TEF},Q_2^{TEF}$')\n",
    "ax2.plot(ot[10:]/3600,q2[10:]/1e3,'b-',lw=2)\n",
    "ax2.plot(ot[10:]/3600,qout[10:]/1e3,'r-',lw=2)\n",
    "ax2.set_ylim(-3,3)\n",
    "ax2.legend(loc='right', fontsize=15)\n",
    "ax2.set_ylabel(r'Transport ($10^3\\;m^3/s$)',size = 15)\n",
    "ax2.set_xlabel(r'Time (h)', size = 15)"
   ]
  },
  {
   "cell_type": "code",
   "execution_count": null,
   "metadata": {},
   "outputs": [],
   "source": [
    "Sma = np.ma.masked_where(s==0, s)\n",
    "topo = np.ma.getmask(Sma)\n",
    "Uma = np.ma.MaskedArray(u, mask=topo)\n",
    "\n",
    "ch = grid.drF.data * grid.HFacC.data[:,:,xi].mean(1)# Cell height\n",
    "Sm = np.sum(Sma[275:,:,xi].mean(0) * ch) / ch.sum()\n",
    "Sm1 = np.sum(Sma[275:,:19,xi].mean(0) * ch[:19]) / ch[:19].sum()\n",
    "Sm2 = np.sum(Sma[275:,19:,xi].mean(0) * ch[19:]) / ch[19:].sum()\n",
    "Se = (sin[275:].mean() + sout[275:].mean()) / 2\n",
    "Sv = (s1[275:].mean() + s2[275:].mean()) / 2\n",
    "# Two-panel plot\n",
    "fig2, (ax1, ax2) = plt.subplots(1,2,sharey=True, figsize=(12,8))\n",
    "fig2.tight_layout()\n",
    "\n",
    "# Salinity\n",
    "ax1.plot(Sma[300:,:,xi].mean(0),z,'o-k')\n",
    "#ax1.axvline(x=23.2, color='k',lw=1,linestyle='--')\n",
    "ax1.set_ylabel('Depth (m)',size = 15)\n",
    "\n",
    "dep = z[:30]\n",
    "S1m = np.ones(len(dep)) * s1[300:].mean()\n",
    "Sin = np.ones(len(dep)) * sin[300:].mean()\n",
    "S2m = np.ones(len(dep)) * s2[300:].mean()\n",
    "Sout = np.ones(len(dep)) * sout[300:].mean()\n",
    "\n",
    "ax1.plot(S1m,dep,'b-', label=r'$S_1,S_2$')\n",
    "ax1.plot(Sin,dep,'r-', label=r'$S_{out},S_{in}$')\n",
    "ax1.plot(S2m,dep,'b-')\n",
    "ax1.plot(Sout,dep,'r-')\n",
    "ax1.legend(loc='best', fontsize=15)\n",
    "\n",
    "\n",
    "#ax1.set_ylim(ax2.get_ylim()[::-1]) #this reverses the yaxis (i.e. deep at the bottom)\n",
    "ax1.set_xlabel('S (psu)', size = 15)\n",
    "ax1.xaxis.set_label_position('top') # this moves the label to the top\n",
    "ax1.xaxis.set_ticks_position('top') # this moves the ticks to the top\n",
    "# Along-channel velocity\n",
    "ax2.plot(Uma[300:,:,xi].mean(0),z,'o-k')\n",
    "ax2.axvline(x=0, color='k',lw=1,linestyle='--')\n",
    "#ax2.legend(fontsize=15)\n",
    "ax2.set_xlabel('U (m/s)', size = 15)\n",
    "ax2.xaxis.set_label_position('top') # this moves the label to the top\n",
    "ax2.xaxis.set_ticks_position('top') # this moves the ticks to the top\n",
    "ax2.yaxis.set_visible(False) # This erases the y ticks\n",
    "\n",
    "print(Sm1, s1[275:].mean(), sin[275:].mean(), Sm2, s2[275:].mean(), sout[275:].mean())"
   ]
  },
  {
   "cell_type": "code",
   "execution_count": 3,
   "metadata": {},
   "outputs": [
    {
     "name": "stdout",
     "output_type": "stream",
     "text": [
      "  time 0 out of 120\n",
      "  time 0 out of 120\n",
      "  time 0 out of 120\n",
      "  time 0 out of 120\n",
      "  time 0 out of 120\n",
      "  time 0 out of 120\n",
      "  time 0 out of 120\n",
      "  time 0 out of 120\n",
      "  time 0 out of 120\n",
      "  time 0 out of 120\n",
      "  time 0 out of 120\n",
      "  time 0 out of 120\n",
      "  time 0 out of 120\n",
      "  time 0 out of 120\n",
      "  time 0 out of 120\n",
      "  time 0 out of 120\n",
      "  time 0 out of 120\n",
      "  time 0 out of 120\n",
      "  time 0 out of 120\n",
      "  time 0 out of 120\n",
      "  time 0 out of 120\n",
      "  time 0 out of 120\n",
      "  time 0 out of 120\n",
      "  time 0 out of 120\n",
      "  time 0 out of 120\n",
      "  time 0 out of 120\n",
      "  time 0 out of 120\n",
      "  time 0 out of 120\n",
      "  time 0 out of 120\n",
      "  time 0 out of 120\n",
      "  time 0 out of 120\n",
      "  time 0 out of 120\n",
      "  time 0 out of 120\n",
      "  time 0 out of 120\n",
      "  time 0 out of 120\n",
      "  time 0 out of 120\n",
      "  time 0 out of 120\n",
      "  time 0 out of 120\n",
      "  time 0 out of 120\n",
      "  time 0 out of 120\n",
      "  time 0 out of 120\n",
      "  time 0 out of 120\n",
      "  time 0 out of 120\n",
      "  time 0 out of 120\n",
      "  time 0 out of 120\n",
      "  time 0 out of 120\n",
      "  time 0 out of 120\n",
      "  time 0 out of 120\n",
      "  time 0 out of 120\n",
      "  time 0 out of 120\n",
      "  time 0 out of 120\n",
      "  time 0 out of 120\n",
      "  time 0 out of 120\n",
      "  time 0 out of 120\n",
      "  time 0 out of 120\n",
      "  time 0 out of 120\n",
      "  time 0 out of 120\n",
      "  time 0 out of 120\n",
      "  time 0 out of 120\n",
      "  time 0 out of 120\n",
      "  time 0 out of 120\n",
      "  time 0 out of 120\n",
      "  time 0 out of 120\n",
      "  time 0 out of 120\n",
      "  time 0 out of 120\n",
      "  time 0 out of 120\n",
      "  time 0 out of 120\n",
      "  time 0 out of 120\n",
      "  time 0 out of 120\n",
      "  time 0 out of 120\n",
      "  time 0 out of 120\n",
      "  time 0 out of 120\n",
      "  time 0 out of 120\n",
      "  time 0 out of 120\n",
      "  time 0 out of 120\n",
      "  time 0 out of 120\n",
      "  time 0 out of 120\n",
      "  time 0 out of 120\n",
      "  time 0 out of 120\n",
      "  time 0 out of 120\n",
      "  time 0 out of 120\n",
      "  time 0 out of 120\n",
      "  time 0 out of 120\n",
      "  time 0 out of 120\n",
      "  time 0 out of 120\n",
      "  time 0 out of 120\n",
      "  time 0 out of 120\n",
      "  time 0 out of 120\n",
      "  time 0 out of 120\n",
      "  time 0 out of 120\n",
      "  time 0 out of 120\n",
      "  time 0 out of 120\n",
      "  time 0 out of 120\n",
      "  time 0 out of 120\n",
      "  time 0 out of 120\n",
      "  time 0 out of 120\n",
      "  time 0 out of 120\n",
      "  time 0 out of 120\n",
      "  time 0 out of 120\n",
      "  time 0 out of 120\n",
      "  time 0 out of 120\n",
      "  time 0 out of 120\n",
      "  time 0 out of 120\n",
      "  time 0 out of 120\n",
      "  time 0 out of 120\n",
      "  time 0 out of 120\n",
      "  time 0 out of 120\n",
      "  time 0 out of 120\n",
      "  time 0 out of 120\n",
      "  time 0 out of 120\n",
      "  time 0 out of 120\n",
      "  time 0 out of 120\n",
      "  time 0 out of 120\n",
      "  time 0 out of 120\n",
      "  time 0 out of 120\n",
      "  time 0 out of 120\n",
      "  time 0 out of 120\n",
      "  time 0 out of 120\n",
      "  time 0 out of 120\n"
     ]
    }
   ],
   "source": [
    "xrange = np.arange(1,120)\n",
    "\n",
    "QEin = np.empty(len(xrange))\n",
    "QEout = np.empty(len(xrange))\n",
    "SEin = np.empty(len(xrange))\n",
    "SEout = np.empty(len(xrange))\n",
    "Qin = np.empty(len(xrange))\n",
    "Qout = np.empty(len(xrange))\n",
    "Sin = np.empty(len(xrange))\n",
    "Sout = np.empty(len(xrange))\n",
    "\n",
    "for i in range(len(xrange)):\n",
    "\n",
    "    qein, qeout, sein, seout = exg.ef_Eu(U,S,DA,i+xrange[0])\n",
    "    \n",
    "    tef_q1, tef_vel1, tef_da1, tef_qs1, tef_qs21, sbins1 = tef.process_section(U,S,DA,ot,i+xrange[0],23,testing=False)\n",
    "\n",
    "    qin1, qout1, sin1, sout1 = tef.bulk_calc(tef_q1, tef_vel1, tef_da1, tef_qs1, tef_qs21, sbins1, ot)\n",
    "    \n",
    "    QEin[i] = qein[88:].mean()\n",
    "    QEout[i] = qeout[88:].mean()\n",
    "    SEin[i] = sein[88:].mean()\n",
    "    SEout[i] = seout[88:].mean()\n",
    "    \n",
    "    Qin[i] = qin1[88:].mean()\n",
    "    Qout[i] = qout1[88:].mean()\n",
    "    Sin[i] = sin1[88:].mean()\n",
    "    Sout[i] = sout1[88:].mean()"
   ]
  },
  {
   "cell_type": "code",
   "execution_count": null,
   "metadata": {},
   "outputs": [],
   "source": [
    "Qin"
   ]
  },
  {
   "cell_type": "code",
   "execution_count": 5,
   "metadata": {},
   "outputs": [
    {
     "data": {
      "text/plain": [
       "Text(0.5, 0, 'X (m)')"
      ]
     },
     "execution_count": 5,
     "metadata": {},
     "output_type": "execute_result"
    },
    {
     "data": {
      "image/png": "[encoded data removed]",
      "text/plain": [
       "<Figure size 1152x576 with 2 Axes>"
      ]
     },
     "metadata": {
      "needs_background": "light"
     },
     "output_type": "display_data"
    }
   ],
   "source": [
    "# Salinity and transport vs X, tidally averaged\n",
    "fig3 = plt.figure(figsize=(16,8))\n",
    "fig3.tight_layout()\n",
    "    \n",
    "ax1 = fig3.add_subplot(121)\n",
    "ax1.plot(x[xrange],SEin,'o-b',lw=2,label=r'$S_1,S_2$')\n",
    "ax1.plot(x[xrange],Sin,'o-r',lw=2,label=r'$S_1^{TEF},S_2^{TEF}$')\n",
    "ax1.plot(x[xrange],SEout,'o-b')\n",
    "ax1.plot(x[xrange],Sout,'o-r',lw=2)\n",
    "ax1.set_ylim(20,25)\n",
    "ax1.invert_yaxis()\n",
    "ax1.legend(loc='center left', fontsize=15)\n",
    "ax1.set_ylabel(r'Salinity (psu)',size = 15)\n",
    "ax1.set_xlabel(r'X (m)', size = 15)\n",
    "\n",
    "ax2 = fig3.add_subplot(122)\n",
    "ax2.plot(x[xrange],QEin/1e3,'o-b',lw=2,label=r'$Q_1,Q_2$')\n",
    "ax2.plot(x[xrange],Qin/1e3,'o-r',lw=2,label=r'$Q_1^{TEF},Q_2^{TEF}$')\n",
    "ax2.plot(x[xrange],QEout/1e3,'o-b',lw=2)\n",
    "ax2.plot(x[xrange],Qout/1e3,'o-r',lw=2)\n",
    "ax2.set_ylim(-5,5)\n",
    "ax2.legend(loc='center left', fontsize=15)\n",
    "ax2.set_ylabel(r'Transport ($10^3\\;m^3/s$)',size = 15)\n",
    "ax2.set_xlabel(r'X (m)', size = 15)"
   ]
  },
  {
   "cell_type": "code",
   "execution_count": null,
   "metadata": {},
   "outputs": [],
   "source": [
    "fig_path = \"/Users/weiyangbao/Documents/Results_Figs/TEF/\"\n",
    "if not os.path.exists(fig_path):\n",
    "    os.makedirs(fig_path)\n",
    "\n",
    "fig1.savefig(fig_path + '/TS_sill.png', dpi=200, bbox_inches='tight')\n",
    "#fig2.savefig(fig_path + '/Sections.png', dpi=200, bbox_inches='tight')\n",
    "fig3.savefig(fig_path + '/Sections.png', dpi=200, bbox_inches='tight')"
   ]
  },
  {
   "cell_type": "code",
   "execution_count": 4,
   "metadata": {},
   "outputs": [],
   "source": [
    "# MLD_ds = xr.Dataset(\n",
    "#     data_vars={'MLD' : (('time', 'y', 'x'), density_mld),\n",
    "#     'time' : time.data,\n",
    "#     'lon' : (('x'), lon),\n",
    "#     'lat' : (('y'), lat),\n",
    "#     'z_t' : (('z_t'), z_rho)})\n",
    "\n",
    "# MLD_ds.to_netcdf('~/MLD_IE/HRIE/density_mld_' + ocn_file[-10:] )\n",
    "\n",
    "TEF_ds = xr.Dataset(\n",
    "    data_vars={'Qin' : Qin,\n",
    "    'Qout' : Qout,\n",
    "    'Sin' : Sin,\n",
    "    'Sout' : Sout,\n",
    "    'x_dist' : x[1:]})\n",
    "\n",
    "TEF_ds.to_netcdf('./output/Qsg' + str(format(Qsg,'03d')) + '_hs' + str(format(hs,'03d')) + '.nc')\n",
    "\n"
   ]
  },
  {
   "cell_type": "code",
   "execution_count": null,
   "metadata": {},
   "outputs": [],
   "source": [
    "ds = xr.open_dataset('./output/Qsg500_hs001.nc')\n"
   ]
  },
  {
   "cell_type": "code",
   "execution_count": 9,
   "metadata": {},
   "outputs": [
    {
     "data": {
      "text/plain": [
       "(550.0, 4827.714177179812, 6846.84378198635)"
      ]
     },
     "execution_count": 9,
     "metadata": {},
     "output_type": "execute_result"
    }
   ],
   "source": [
    "dist = x[1:]\n",
    "dist[4], dist[47], dist[96]"
   ]
  },
  {
   "cell_type": "code",
   "execution_count": null,
   "metadata": {},
   "outputs": [],
   "source": []
  }
 ],
 "metadata": {
  "kernelspec": {
   "display_name": "Python 3",
   "language": "python",
   "name": "python3"
  },
  "language_info": {
   "codemirror_mode": {
    "name": "ipython",
    "version": 3
   },
   "file_extension": ".py",
   "mimetype": "text/x-python",
   "name": "python",
   "nbconvert_exporter": "python",
   "pygments_lexer": "ipython3",
   "version": "3.7.9"
  }
 },
 "nbformat": 4,
 "nbformat_minor": 4
}
