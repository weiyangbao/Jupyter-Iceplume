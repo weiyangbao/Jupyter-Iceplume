{
 "cells": [
  {
   "cell_type": "code",
   "execution_count": 1,
   "metadata": {},
   "outputs": [],
   "source": [
    "# Heat budget terms\n",
    "import xarray as xr\n",
    "import numpy as np\n",
    "import matplotlib.pyplot as plt\n",
    "import os"
   ]
  },
  {
   "cell_type": "code",
   "execution_count": 29,
   "metadata": {},
   "outputs": [],
   "source": [
    "def heat_budget(filename):\n",
    "    state0 = xr.open_dataset(filename) \n",
    "    state = state0.isel(Y = range(1,10)) # Remove the boundary walls in y direction\n",
    "    Time = state.T.data\n",
    "    pt = state.Temp.data\n",
    "    u0 = state.U.data\n",
    "    u = (u0[:, :, :, 1:] + u0[:, :, :, :-1]) / 2\n",
    "    \n",
    "    Cp = 4220  # Specific heat content J/kg/C\n",
    "    rho = 1025 # Density\n",
    "    # Grid areas\n",
    "    Area = np.empty([50, 9])\n",
    "    Area[:10, :] = 100\n",
    "    Area[10:20, :] = 200\n",
    "    Area[20:30, :] = 300\n",
    "    Area[30:40, :] = 800\n",
    "    Area[40:, :] = 1600\n",
    "    \n",
    "    H1 = np.empty(len(Time))\n",
    "    H2 = np.empty(len(Time))\n",
    "    pt_vol = np.empty(len(Time))\n",
    "    for t in range(len(Time)):\n",
    "        pt_t = pt[t,:,:,1:29]\n",
    "        H1[t] = -Cp*rho*np.sum(u[t,:,:,28]*Area*(pt[t,:,:,28]))\n",
    "        H2[t] = Cp*rho*np.sum(u[t,:,:,1]*Area*(pt[t,:,:,1]))\n",
    "        pt_x = np.empty(28)\n",
    "        for xl in range(28):\n",
    "            pt_x[xl] = np.sum(pt_t[:,:,xl]*Area*200) # Theta*V\n",
    "        pt_vol[t] = pt_x.sum()\n",
    "    Hax = H1.mean()\n",
    "    HR = H2.mean()\n",
    "    Hst = np.gradient(pt_vol, Time).mean()*Cp*rho\n",
    "    return (Hax, HR, Hst)"
   ]
  },
  {
   "cell_type": "code",
   "execution_count": 36,
   "metadata": {},
   "outputs": [
    {
     "data": {
      "text/plain": [
       "1689991844.4836729"
      ]
     },
     "execution_count": 36,
     "metadata": {},
     "output_type": "execute_result"
    }
   ],
   "source": [
    "Hax, HR, Hst = heat_budget('/Users/weiyangbao/Documents/Model_outputs/nodrag_010/state_009.nc')\n",
    "\n",
    "#state0 = xr.open_dataset('/Users/weiyangbao/Desktop/State/'+str(format(Hs,'03d'))+'/state_'+str(format(int(Qf/100),'03d'))+'.nc')\n",
    "Hst-Hax-HR"
   ]
  },
  {
   "cell_type": "code",
   "execution_count": null,
   "metadata": {},
   "outputs": [],
   "source": []
  }
 ],
 "metadata": {
  "kernelspec": {
   "display_name": "Python 3",
   "language": "python",
   "name": "python3"
  },
  "language_info": {
   "codemirror_mode": {
    "name": "ipython",
    "version": 3
   },
   "file_extension": ".py",
   "mimetype": "text/x-python",
   "name": "python",
   "nbconvert_exporter": "python",
   "pygments_lexer": "ipython3",
   "version": "3.7.3"
  }
 },
 "nbformat": 4,
 "nbformat_minor": 2
}
