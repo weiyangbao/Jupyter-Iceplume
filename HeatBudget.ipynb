{
 "cells": [
  {
   "cell_type": "code",
   "execution_count": 1,
   "metadata": {},
   "outputs": [
    {
     "name": "stderr",
     "output_type": "stream",
     "text": [
      "/Users/weiyangbao/miniconda3/envs/py37/lib/python3.7/site-packages/xarray/core/merge.py:17: FutureWarning: The Panel class is removed from pandas. Accessing it from the top-level namespace will also be removed in the next version\n",
      "  PANDAS_TYPES = (pd.Series, pd.DataFrame, pd.Panel)\n"
     ]
    }
   ],
   "source": [
    "# Heat budget terms for the different layers\n",
    "import xarray as xr\n",
    "import numpy as np\n",
    "import matplotlib.pyplot as plt\n",
    "import os\n",
    "import glob"
   ]
  },
  {
   "cell_type": "code",
   "execution_count": 2,
   "metadata": {},
   "outputs": [],
   "source": [
    "Cp = 4220  # Specific heat content J/kg/C\n",
    "rho = 1025 # Density\n",
    "T0 = 9 # Initial temperature\n",
    "ny = 9 # Number of grids in Y direction\n",
    "ga = np.repeat(np.array([[.5],[1],[1.5],[4],[8]]),10) * 200 # Grid area\n",
    "X = 50 # Number of cells in x direction\n",
    "\n",
    "Area = np.empty([50, 9])\n",
    "Area[:10, :] = 100\n",
    "Area[10:20, :] = 200\n",
    "Area[20:30, :] = 300\n",
    "Area[30:40, :] = 800\n",
    "Area[40:, :] = 1600\n"
   ]
  },
  {
   "cell_type": "code",
   "execution_count": 3,
   "metadata": {},
   "outputs": [],
   "source": [
    "# Find the interface and vertical flux of theta\n",
    "def Layer(u):\n",
    "    # Layer interface, zero velocity crossing point\n",
    "    z_th = np.empty(X)\n",
    "    itf = np.empty(X, dtype=int)\n",
    "    z_th[[0,-1]] = 0\n",
    "    itf[[0,-1]] = 0\n",
    "    for i in range(1,X-1):\n",
    "        l = np.where(u[:, i] < 0)[-1][0]\n",
    "        itf[i] = l\n",
    "        z_th[i] = -w[l, i] * (pt[l-1:l+1,i].mean()-T0)\n",
    "    return (itf, z_th)"
   ]
  },
  {
   "cell_type": "code",
   "execution_count": 13,
   "metadata": {},
   "outputs": [],
   "source": [
    "files = sorted(glob.glob('/Users/weiyangbao/Documents/Model_outputs/State700/Hs*.nc'))\n",
    "sd = np.array([10, 12, 15, 110, 150]) # Sill depth\n",
    "f = 3 # Index of the left boundary\n",
    "s = 28 # Index of the right boundary\n",
    "\n",
    "wi = np.empty([50, s-f+1])\n",
    "wi[:10, :] = 0.5 / 150\n",
    "wi[10:20, :] = 1 / 150\n",
    "wi[20:30, :] = 1.5 / 150\n",
    "wi[30:40, :] = 4 / 150\n",
    "wi[40:, :] = 8 / 150\n",
    "\n",
    "\n",
    "def Volume(theta):\n",
    "    tim = state.T.data\n",
    "    dt = tim[1] - tim[0]\n",
    "    Tvol1 = np.empty(len(tim))\n",
    "    Tvol2 = np.empty(len(tim))\n",
    "    Tvol = np.empty(len(tim))\n",
    "    H1t = np.empty(len(tim))\n",
    "    H2t = np.empty(len(tim))\n",
    "    Ht = np.empty(len(tim))\n",
    "    for t in range(len(tim)):\n",
    "        thetaV = theta[t,:,f:s+1] * wi / (s-f+1)\n",
    "        mask = np.ma.masked_equal(thetaV, 0)\n",
    "        V = mask/mask * wi * 150 * 200 * 200 * ny\n",
    "        V1x = np.empty(s-f+1)\n",
    "        V2x = np.empty(s-f+1)\n",
    "        T1x = np.empty(s-f+1)\n",
    "        T2x = np.empty(s-f+1)\n",
    "        for j in range(s-f+1):\n",
    "            V1x[j] = V[:itf[f+j],j].sum()\n",
    "            V2x[j] = V[itf[f+j]:,j].sum()\n",
    "            T1x[j] = thetaV[:itf[f+j],j].sum()\n",
    "            T2 = thetaV[itf[f+j]:,j]\n",
    "            T2x[j] = T2[T2!=0].sum()\n",
    "        \n",
    "        Tvol1[t] = T1x.sum()\n",
    "        Tvol2[t] = T2x.sum()\n",
    "        Tvol[t] = thetaV[thetaV!=0].sum()\n",
    "        V1 = V1x.sum()\n",
    "        V2 = V2x.sum()\n",
    "        \n",
    "        \n",
    "    H1t[0] = 0\n",
    "    H2t[0] = 0\n",
    "    Ht[0] = 0\n",
    "    for i in range(1,len(tim)):\n",
    "        H1t[i] = -(Tvol1[i]-Tvol1[i-1])/ dt * V1\n",
    "        H2t[i] = -(Tvol2[i]-Tvol2[i-1])/ dt * V2\n",
    "        Ht[i] = -(Tvol[i]-Tvol[i-1])/ dt * (V.sum())\n",
    "        #H2t = np.diff(Tvol2).mean() / dt * V2\n",
    "        #Ht = np.diff(Tvol).mean() / dt * (V.sum())\n",
    "    H1 = H1t[-1] - H1t[1]\n",
    "    H2 = H2t[-1] - H2t[1]\n",
    "    H = Ht[-1] - Ht[1]\n",
    "    return (H1, H2, H)\n",
    "\n",
    "\n",
    "Hs = np.empty(len(sd)) # Heat flux through the ice front\n",
    "Hs1 = np.empty(len(sd)) # 1: upper layer\n",
    "Hx = np.empty(len(sd)) # Heat flux through the sill\n",
    "Hx1 = np.empty(len(sd))\n",
    "#Hx2 = np.empty(len(sd))\n",
    "Hz = np.empty(len(sd)) # Vertical heat flux\n",
    "H_stor1 = np.empty(len(sd))\n",
    "H_stor2 = np.empty(len(sd))\n",
    "H_stor = np.empty(len(sd))\n",
    "for i in range(len(sd)):\n",
    "    state0 = xr.open_dataset(files[i])\n",
    "    t0 = 39 # Start from day 20\n",
    "    tn = len(state0.T) # End day\n",
    "    state = state0.isel(Y = range(1,10), T = range(t0,tn)) # Remove the boundary walls in y direction\n",
    "    pt = state.Temp.data.mean(axis=(0,2)) # Z, X\n",
    "    w = state.W.data.mean(axis=(0,2)) # Zl, X\n",
    "    u0 = state.U.data # dims = T, Z, Y, Xp1\n",
    "    u_x = 0.5 * (u0[:, :, :, 1:] + u0[:, :, :, :-1]) # Convert the value to grid center in x direction\n",
    "    u = u_x.mean(axis=(0,2)) # dims = Z, X \n",
    "    itf, z_th = Layer(u)\n",
    "    \n",
    "    theta = state.Temp.data.mean(2) # T, Z, X (averaged in Y)\n",
    "\n",
    "\n",
    "    H1, H2, H = Volume(theta)\n",
    "    H_stor1[i] = H1 * Cp * rho \n",
    "    H_stor2[i] = H2 * Cp * rho\n",
    "    H_stor[i] = H * Cp * rho\n",
    "    Hz[i] = z_th[s:f+1].sum() * 200 * 200 * ny\n",
    "    Hs[i] = np.sum(u[:,f] * (pt[:,f]-T0) * ga) * ny\n",
    "    Hs1[i] = np.sum(u[:itf[f],f] * (pt[:itf[f],f]-T0) * ga[:itf[f]]) * ny\n",
    "    Hx[i] = -np.sum(u[:,s] * (pt[:,s]-T0) * ga) * ny\n",
    "    Hx1[i] = -np.sum(u[:itf[s],s] * (pt[:itf[s],s]-T0) * ga[:itf[s]]) * ny\n",
    "    #Hx2[i] = -np.sum(u[itf[r]:,r] * (pt[itf[r]:,r]-T0) * ga[itf[r]:]) * ny\n"
   ]
  },
  {
   "cell_type": "code",
   "execution_count": 11,
   "metadata": {},
   "outputs": [
    {
     "data": {
      "text/plain": [
       "(array([ 3734364.03575425,  2192357.56030484, -4577263.34475579,\n",
       "          307675.29234683, -2867704.34308612]),\n",
       " array([1.18903415e+09, 5.64882830e+08, 9.02259404e+07, 1.73088577e+07,\n",
       "        8.05082536e+06]),\n",
       " array([ 1.32977736e+09,  6.38169858e+08,  3.45512655e+07,  2.28047319e+07,\n",
       "        -2.97331735e+07]))"
      ]
     },
     "execution_count": 11,
     "metadata": {},
     "output_type": "execute_result"
    }
   ],
   "source": [
    "H_stor1, H_stor2, H_stor"
   ]
  },
  {
   "cell_type": "code",
   "execution_count": 24,
   "metadata": {},
   "outputs": [
    {
     "data": {
      "text/plain": [
       "('-3.73E+06', '-9.02E+07', '-3.08E+05', '2.87E+06')"
      ]
     },
     "execution_count": 24,
     "metadata": {},
     "output_type": "execute_result"
    }
   ],
   "source": [
    "\"{:.2E}\".format(H_stor1[0]), \"{:.2E}\".format(H_stor2[2]), \"{:.2E}\".format(H_stor1[3]), \"{:.2E}\".format(H_stor1[4])"
   ]
  },
  {
   "cell_type": "code",
   "execution_count": 8,
   "metadata": {},
   "outputs": [
    {
     "ename": "NameError",
     "evalue": "name 'dt' is not defined",
     "output_type": "error",
     "traceback": [
      "\u001b[0;31m---------------------------------------------------------------------------\u001b[0m",
      "\u001b[0;31mNameError\u001b[0m                                 Traceback (most recent call last)",
      "\u001b[0;32m<ipython-input-8-36673dcb6ee0>\u001b[0m in \u001b[0;36m<module>\u001b[0;34m\u001b[0m\n\u001b[0;32m----> 1\u001b[0;31m \u001b[0mdt\u001b[0m\u001b[0;34m\u001b[0m\u001b[0;34m\u001b[0m\u001b[0m\n\u001b[0m",
      "\u001b[0;31mNameError\u001b[0m: name 'dt' is not defined"
     ]
    }
   ],
   "source": [
    "dt"
   ]
  },
  {
   "cell_type": "code",
   "execution_count": null,
   "metadata": {},
   "outputs": [],
   "source": []
  }
 ],
 "metadata": {
  "kernelspec": {
   "display_name": "Python 3",
   "language": "python",
   "name": "python3"
  },
  "language_info": {
   "codemirror_mode": {
    "name": "ipython",
    "version": 3
   },
   "file_extension": ".py",
   "mimetype": "text/x-python",
   "name": "python",
   "nbconvert_exporter": "python",
   "pygments_lexer": "ipython3",
   "version": "3.7.4"
  }
 },
 "nbformat": 4,
 "nbformat_minor": 4
}
