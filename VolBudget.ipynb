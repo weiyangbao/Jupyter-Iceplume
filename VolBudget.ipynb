{
 "cells": [
  {
   "cell_type": "code",
   "execution_count": 1,
   "metadata": {},
   "outputs": [],
   "source": [
    "# Volume fluxes for the different layers\n",
    "import xarray as xr\n",
    "import numpy as np\n",
    "import matplotlib.pyplot as plt\n",
    "import os\n",
    "import math"
   ]
  },
  {
   "cell_type": "code",
   "execution_count": 2,
   "metadata": {},
   "outputs": [],
   "source": [
    "sd = 6 # sill depth\n",
    "\n",
    "state01 = xr.open_dataset('/Volumes/Extreme SSD/MITgcm outputs/Qsg500/state_' + str(format(sd,'03d')) + '.nc')\n",
    "grid = xr.open_dataset('/Volumes/Extreme SSD/MITgcm outputs/Qsg500/grid_' + str(format(sd,'03d')) + '.nc')\n",
    "\n",
    "state1 = state01.isel(X=range(120), Xp1=range(121), Y=range(30,39), Yp1=range(30,40), T=range(89,121))\n",
    "\n",
    "HFacW = grid.HFacW.data[:,30:39,:] # vertical fraction of open cell at West face\n",
    "rA = grid.rA.data[30:39,:] # r face area at U point\n",
    "\n",
    "\n",
    "Area = np.empty([50, 9]) # Cross Y direction\n",
    "Area[:10, :] = 100\n",
    "Area[10:20, :] = 200\n",
    "Area[20:30, :] = 300\n",
    "Area[30:40, :] = 800\n",
    "Area[40:, :] = 1600\n",
    "\n",
    "rho = 999.8 # Density\n",
    "f = 5\n",
    "s = 97\n"
   ]
  },
  {
   "cell_type": "code",
   "execution_count": 3,
   "metadata": {},
   "outputs": [],
   "source": [
    "# Read data in T,Z,Y,X\n",
    "u = state1.U.data\n",
    "#u = 0.5 * (u0[:,:,:,:-1] + u0[:,:,:,1:])\n",
    "uzx = u.mean(axis=(0,2)) # Z, X\n",
    "w = state1.W.data\n",
    "#w = 0.5 * (w0[:,:-1,:,:] + w0[:,1:,:,:])"
   ]
  },
  {
   "cell_type": "code",
   "execution_count": 4,
   "metadata": {},
   "outputs": [
    {
     "data": {
      "text/plain": [
       "(500.0899390608538, 499.93126089684665)"
      ]
     },
     "execution_count": 4,
     "metadata": {},
     "output_type": "execute_result"
    }
   ],
   "source": [
    "# Advective flux of potential temperature\n",
    "Vf = np.sum(Area * u[:,:,:,f].mean(0))\n",
    "Vs = np.sum(Area * u[:,:,:,s].mean(0))\n",
    "\n",
    "Vf, Vs"
   ]
  },
  {
   "cell_type": "code",
   "execution_count": 5,
   "metadata": {},
   "outputs": [],
   "source": [
    "# Find the interface and vertical flux of theta\n",
    "def Layer(uzx):\n",
    "    # Layer interface, zero velocity crossing point\n",
    "    \n",
    "    wt = w.mean(0) # Z, Y, X\n",
    "    X = uzx.shape[1]\n",
    "    Vzx = np.empty(X)\n",
    "    itf = np.empty(X, dtype=int)\n",
    "    Vzx[[0,1,-2,-1]] = 0\n",
    "    itf[[0,1,-2,-1]] = 0\n",
    "    for i in range(2,X-2):\n",
    "        l = np.where(uzx[:, i] < 0)[-1][0]\n",
    "        itf[i] = l\n",
    "        Vzx[i] = np.sum(wt[l,:,i] * rA[:,i]) # Vertical advective flux through the interface\n",
    "    return (itf, Vzx)"
   ]
  },
  {
   "cell_type": "code",
   "execution_count": 6,
   "metadata": {},
   "outputs": [
    {
     "data": {
      "text/plain": [
       "(3382.8672943636775,\n",
       " 3808.782286569476,\n",
       " -2882.7773553028237,\n",
       " -3308.8510256726295)"
      ]
     },
     "execution_count": 6,
     "metadata": {},
     "output_type": "execute_result"
    }
   ],
   "source": [
    "itf, Vzx = Layer(uzx)\n",
    "\n",
    "#f = 5 # Control volume start index near the ice front 3\n",
    "#s = 88 # Control volume end index at the sill crest 28\n",
    "\n",
    "Vz = Vzx[f:s].sum() \n",
    "\n",
    "Vf1 = np.sum(HFacW[:itf[f],:,f] * Area[:itf[f],:] * u[:,:itf[f],:,f].mean(0)) \n",
    "Vs1 = np.sum(HFacW[:itf[s],:,s] * Area[:itf[s],:] * u[:,:itf[s],:,s].mean(0)) \n",
    "\n",
    "Vf2 = np.sum(HFacW[itf[f]:,:,f] * Area[itf[f]:,:] * u[:,itf[f]:,:,f].mean(0))\n",
    "Vs2 = np.sum(HFacW[itf[s]:,:,s] * Area[itf[s]:,:] * u[:,itf[s]:,:,s].mean(0))\n",
    "\n",
    "Vf1, Vs1, Vf2, Vs2"
   ]
  },
  {
   "cell_type": "code",
   "execution_count": 7,
   "metadata": {},
   "outputs": [
    {
     "data": {
      "text/plain": [
       "425.85326037608115"
      ]
     },
     "execution_count": 7,
     "metadata": {},
     "output_type": "execute_result"
    }
   ],
   "source": [
    "Vzx[f:s].sum()"
   ]
  },
  {
   "cell_type": "code",
   "execution_count": null,
   "metadata": {},
   "outputs": [],
   "source": []
  }
 ],
 "metadata": {
  "kernelspec": {
   "display_name": "Python 3",
   "language": "python",
   "name": "python3"
  },
  "language_info": {
   "codemirror_mode": {
    "name": "ipython",
    "version": 3
   },
   "file_extension": ".py",
   "mimetype": "text/x-python",
   "name": "python",
   "nbconvert_exporter": "python",
   "pygments_lexer": "ipython3",
   "version": "3.7.9"
  }
 },
 "nbformat": 4,
 "nbformat_minor": 4
}
