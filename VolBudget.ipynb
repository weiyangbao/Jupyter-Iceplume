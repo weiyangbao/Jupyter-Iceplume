{
 "cells": [
  {
   "cell_type": "code",
   "execution_count": 1,
   "metadata": {},
   "outputs": [
    {
     "name": "stderr",
     "output_type": "stream",
     "text": [
      "/Users/weiyangbao/miniconda3/envs/py37/lib/python3.7/site-packages/xarray/core/merge.py:17: FutureWarning: The Panel class is removed from pandas. Accessing it from the top-level namespace will also be removed in the next version\n",
      "  PANDAS_TYPES = (pd.Series, pd.DataFrame, pd.Panel)\n"
     ]
    }
   ],
   "source": [
    "# Heat budget terms for the different layers\n",
    "import xarray as xr\n",
    "import numpy as np\n",
    "import matplotlib.pyplot as plt\n",
    "import os"
   ]
  },
  {
   "cell_type": "code",
   "execution_count": 2,
   "metadata": {},
   "outputs": [],
   "source": [
    "sd = 10 # sill depth\n",
    "\n",
    "state01 = xr.open_dataset('/Users/weiyangbao/Documents/Model_outputs/State700/Hs_' + str(format(sd,'03d')) + '.nc')\n",
    "\n",
    "\n",
    "state1 = state01.isel(Y=range(1,10), T=range(40,121))\n",
    "\n",
    "Area = np.empty([50, 9]) # Cross Y direction\n",
    "Area[:10, :] = 100\n",
    "Area[10:20, :] = 200\n",
    "Area[20:30, :] = 300\n",
    "Area[30:40, :] = 800\n",
    "Area[40:, :] = 1600\n",
    "\n",
    "f = 3 # Control volume start index near the ice front\n",
    "s = 28 # Control volume end index at the sill crest\n",
    "rho = 1025 # Density"
   ]
  },
  {
   "cell_type": "code",
   "execution_count": 3,
   "metadata": {},
   "outputs": [],
   "source": [
    "# Read data in T,Z,Y,X\n",
    "u0 = state1.U.data\n",
    "u = 0.5 * (u0[:,:,:,:-1] + u0[:,:,:,1:])\n",
    "\n",
    "w0 = state1.W.data\n",
    "w = 0.5 * (w0[:,:-1,:,:] + w0[:,1:,:,:])\n"
   ]
  },
  {
   "cell_type": "code",
   "execution_count": 4,
   "metadata": {},
   "outputs": [
    {
     "data": {
      "text/plain": [
       "(700.1421100227162, 700.0675454735756)"
      ]
     },
     "execution_count": 4,
     "metadata": {},
     "output_type": "execute_result"
    }
   ],
   "source": [
    "# Advective flux of potential temperature\n",
    "Vf = np.sum(Area * u[:,:,:,f].mean(0))\n",
    "Vs = np.sum(Area * u[:,:,:,s].mean(0))\n",
    "\n",
    "Vf, Vs"
   ]
  },
  {
   "cell_type": "code",
   "execution_count": 5,
   "metadata": {},
   "outputs": [],
   "source": [
    "## Budget terms for different layers\n",
    "\n",
    "uzx = u.mean(axis=(0,2)) # Z, X\n",
    "# Time average\n",
    "wt = w.mean(0) # Z, Y, X\n",
    "dxdy = 200**2\n",
    "\n",
    "# Find the interface and vertical flux of theta\n",
    "def Layer(uzx):\n",
    "    # Layer interface, zero velocity crossing point\n",
    "    X = uzx.shape[1]\n",
    "    Vzx = np.empty(X)\n",
    "    itf = np.empty(X, dtype=int)\n",
    "    Vzx[[0,-1]] = 0\n",
    "    itf[[0,-1]] = 0\n",
    "    for i in range(1,X-1):\n",
    "        l = np.where(uzx[:, i] < 0)[-1][0]\n",
    "        itf[i] = l\n",
    "        Vzx[i] = np.sum(wt[l,:,i] * dxdy) # Vertical advective flux through the interface\n",
    "    return (itf, Vzx)"
   ]
  },
  {
   "cell_type": "code",
   "execution_count": 6,
   "metadata": {},
   "outputs": [
    {
     "data": {
      "text/plain": [
       "(3998.9064840599895,\n",
       " 2168.652582168579,\n",
       " -3298.7643740372732,\n",
       " -1468.5850366950035,\n",
       " -2377.473024189472)"
      ]
     },
     "execution_count": 6,
     "metadata": {},
     "output_type": "execute_result"
    }
   ],
   "source": [
    "itf, Vzx = Layer(uzx)\n",
    "\n",
    "Vz = Vzx[f:s+1].sum() \n",
    "\n",
    "Vf1 = np.sum(Area[:itf[f],:] * u[:,:itf[f],:,f].mean(0)) \n",
    "Vs1 = np.sum(Area[:itf[s],:] * u[:,:itf[s],:,s].mean(0)) \n",
    "\n",
    "Vf2 = np.sum(Area[itf[f]:,:] * u[:,itf[f]:,:,f].mean(0))\n",
    "Vs2 = np.sum(Area[itf[s]:,:] * u[:,itf[s]:,:,s].mean(0))\n",
    "\n",
    "Vf1, Vs1, Vf2, Vs2, Vz"
   ]
  },
  {
   "cell_type": "code",
   "execution_count": null,
   "metadata": {},
   "outputs": [],
   "source": []
  }
 ],
 "metadata": {
  "kernelspec": {
   "display_name": "Python 3",
   "language": "python",
   "name": "python3"
  },
  "language_info": {
   "codemirror_mode": {
    "name": "ipython",
    "version": 3
   },
   "file_extension": ".py",
   "mimetype": "text/x-python",
   "name": "python",
   "nbconvert_exporter": "python",
   "pygments_lexer": "ipython3",
   "version": "3.7.4"
  }
 },
 "nbformat": 4,
 "nbformat_minor": 4
}
