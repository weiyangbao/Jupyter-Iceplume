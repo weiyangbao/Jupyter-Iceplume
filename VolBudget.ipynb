{
 "cells": [
  {
   "cell_type": "code",
   "execution_count": 1,
   "metadata": {},
   "outputs": [],
   "source": [
    "# Volume fluxes for the different layers\n",
    "import xarray as xr\n",
    "import numpy as np\n",
    "import matplotlib.pyplot as plt\n",
    "import os\n",
    "import math"
   ]
  },
  {
   "cell_type": "code",
   "execution_count": 2,
   "metadata": {},
   "outputs": [],
   "source": [
    "sd = 1 # sill depth\n",
    "\n",
    "file0 = xr.open_dataset('/Volumes/Extreme SSD/MITgcm outputs/1_BaseCase/state_' + str(format(sd,'03d')) + '.nc')\n",
    "grid = xr.open_dataset('/Volumes/Extreme SSD/MITgcm outputs/1_BaseCase/grid_' + str(format(sd,'03d')) + '.nc')\n",
    "\n",
    "file = file0.isel(T=~file0.get_index(\"T\").duplicated())\n",
    "state1 = file.isel(X=range(260), Xp1=range(261), Y=range(35,45), Yp1=range(35,45), T=range(90,121))\n",
    "\n",
    "HFacW = grid.HFacW.data[:,35:45,:] # vertical fraction of open cell at West face\n",
    "rA = grid.rA.data[35:45,:] # r face area at U point\n",
    "\n",
    "\n",
    "# Area = np.empty([50, 9]) # Cross Y direction\n",
    "# Area[:10, :] = 100\n",
    "# Area[10:20, :] = 200\n",
    "# Area[20:30, :] = 300\n",
    "# Area[30:40, :] = 800\n",
    "# Area[40:, :] = 1600\n",
    "\n",
    "Area = np.empty([90, 10]) # Cross Y direction\n",
    "Area[:20, :] = 400\n",
    "Area[20:50, :] = 800\n",
    "Area[50:, :] = 1200\n",
    "\n",
    "\n",
    "rho = 999.8 # Density\n",
    "f = 6\n",
    "s = 235\n"
   ]
  },
  {
   "cell_type": "code",
   "execution_count": 3,
   "metadata": {},
   "outputs": [],
   "source": [
    "# Read data in T,Z,Y,X\n",
    "u = state1.U.data\n",
    "#u = 0.5 * (u0[:,:,:,:-1] + u0[:,:,:,1:])\n",
    "uzx = u.mean(axis=(0,2)) # Z, X\n",
    "w = state1.W.data\n",
    "#w = 0.5 * (w0[:,:-1,:,:] + w0[:,1:,:,:])"
   ]
  },
  {
   "cell_type": "code",
   "execution_count": 4,
   "metadata": {},
   "outputs": [],
   "source": [
    "# Advective flux of potential temperature\n",
    "Vf = np.sum(Area * u[:,:,:,f].mean(0))\n",
    "Vs = np.sum(Area * u[:,:,:,s].mean(0))\n"
   ]
  },
  {
   "cell_type": "code",
   "execution_count": 5,
   "metadata": {},
   "outputs": [],
   "source": [
    "# Find the interface and vertical flux of theta\n",
    "def Layer(uzx):\n",
    "    # Layer interface, zero velocity crossing point\n",
    "    \n",
    "    wt = w.mean(0) # Z, Y, X\n",
    "    X = uzx.shape[1]\n",
    "    Vzx = np.empty(X)\n",
    "    itf = np.empty(X, dtype=int)\n",
    "    Vzx[[0,1,-2,-1]] = 0\n",
    "    itf[[0,1,-2,-1]] = 0\n",
    "    for i in range(2,X-2):\n",
    "        l = np.where(uzx[:, i] < 0)[-1][0]\n",
    "        itf[i] = l\n",
    "        if l == 0:\n",
    "            itf[i] = itf[i-1]\n",
    "        Vzx[i] = np.sum(wt[l,:,i] * rA[:,i]) # Vertical advective flux through the interface\n",
    "    return (itf, Vzx)"
   ]
  },
  {
   "cell_type": "code",
   "execution_count": 6,
   "metadata": {},
   "outputs": [
    {
     "data": {
      "text/plain": [
       "(7153.958104830235,\n",
       " 2447.4952074699104,\n",
       " -6903.955614617735,\n",
       " -2198.8531113602226,\n",
       " array([ 0,  0, 22, 21, 21, 21, 21, 20, 20, 20, 20, 20, 20, 19, 19, 19, 19,\n",
       "        19, 19, 19, 19, 19, 19, 19, 18, 18, 18, 18, 18, 18, 18, 18, 18, 18,\n",
       "        18, 18, 18, 18, 19, 19, 19, 19, 19, 19, 19, 19, 19, 19, 19, 19, 19,\n",
       "        19, 19, 19, 19, 19, 19, 19, 19, 19, 19, 19, 19, 19, 19, 19, 19, 19,\n",
       "        19, 19, 19, 19, 19, 19, 19, 19, 19, 19, 19, 19, 19, 19, 19, 19, 19,\n",
       "        19, 19, 19, 19, 19, 19, 19, 19, 19, 19, 19, 19, 19, 19, 19, 19, 19,\n",
       "        19, 19, 19, 19, 19, 19, 19, 19, 19, 19, 19, 19, 19, 19, 19, 19, 19,\n",
       "        19, 19, 19, 19, 19, 19, 19, 19, 20, 20, 20, 20, 20, 20, 20, 20, 19,\n",
       "        19, 18, 18, 18, 17, 17, 17, 16, 16, 16, 16, 16, 16, 16, 16, 16, 16,\n",
       "        16, 16, 16, 15, 15, 14, 13, 12, 11, 10, 10,  9,  9,  8,  7,  7,  7,\n",
       "         6,  6,  6,  6,  5,  5,  5,  5,  5,  4,  4,  4,  4,  4,  4,  4,  4,\n",
       "         4,  4,  4,  4,  4,  4,  4,  4,  4,  4,  4,  5,  5,  5,  5,  5,  5,\n",
       "         5,  5,  5,  5,  5,  5,  5,  5,  5,  5,  5,  5,  5,  5,  5,  5,  5,\n",
       "         5,  5,  5,  5,  5,  5,  5,  5,  5,  5,  5,  5,  5,  5,  5,  5,  5,\n",
       "         5,  5,  5,  5,  5,  5,  5,  5,  5,  5,  5,  5,  5,  5,  5,  5,  5,\n",
       "         5,  5,  5,  5,  0,  0]))"
      ]
     },
     "execution_count": 6,
     "metadata": {},
     "output_type": "execute_result"
    }
   ],
   "source": [
    "itf, Vzx = Layer(uzx)\n",
    "\n",
    "#f = 5 # Control volume start index near the ice front 3\n",
    "#s = 88 # Control volume end index at the sill crest 28\n",
    "\n",
    "Vz = Vzx[f:s].sum() \n",
    "\n",
    "Vf1 = np.sum(HFacW[:itf[f],:,f] * Area[:itf[f],:] * u[:,:itf[f],:,f].mean(0)) \n",
    "Vs1 = np.sum(HFacW[:itf[s],:,s] * Area[:itf[s],:] * u[:,:itf[s],:,s].mean(0)) \n",
    "\n",
    "Vf2 = np.sum(HFacW[itf[f]:,:,f] * Area[itf[f]:,:] * u[:,itf[f]:,:,f].mean(0))\n",
    "Vs2 = np.sum(HFacW[itf[s]:,:,s] * Area[itf[s]:,:] * u[:,itf[s]:,:,s].mean(0))\n",
    "\n",
    "Vf1, Vs1, Vf2, Vs2, itf"
   ]
  },
  {
   "cell_type": "code",
   "execution_count": 7,
   "metadata": {},
   "outputs": [
    {
     "data": {
      "text/plain": [
       "-5647.461578074766"
      ]
     },
     "execution_count": 7,
     "metadata": {},
     "output_type": "execute_result"
    }
   ],
   "source": [
    "Vzx[f:s].sum()"
   ]
  },
  {
   "cell_type": "code",
   "execution_count": null,
   "metadata": {},
   "outputs": [],
   "source": []
  }
 ],
 "metadata": {
  "kernelspec": {
   "display_name": "Python 3 (ipykernel)",
   "language": "python",
   "name": "python3"
  },
  "language_info": {
   "codemirror_mode": {
    "name": "ipython",
    "version": 3
   },
   "file_extension": ".py",
   "mimetype": "text/x-python",
   "name": "python",
   "nbconvert_exporter": "python",
   "pygments_lexer": "ipython3",
   "version": "3.7.11"
  }
 },
 "nbformat": 4,
 "nbformat_minor": 4
}
