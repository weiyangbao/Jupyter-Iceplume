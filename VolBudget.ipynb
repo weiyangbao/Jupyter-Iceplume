{
 "cells": [
  {
   "cell_type": "code",
   "execution_count": 1,
   "metadata": {},
   "outputs": [
    {
     "name": "stderr",
     "output_type": "stream",
     "text": [
      "/Users/weiyangbao/miniconda3/envs/py37/lib/python3.7/site-packages/xarray/core/merge.py:17: FutureWarning: The Panel class is removed from pandas. Accessing it from the top-level namespace will also be removed in the next version\n",
      "  PANDAS_TYPES = (pd.Series, pd.DataFrame, pd.Panel)\n"
     ]
    }
   ],
   "source": [
    "# Heat budget terms for the different layers\n",
    "import xarray as xr\n",
    "import numpy as np\n",
    "import matplotlib.pyplot as plt\n",
    "import os\n",
    "import math"
   ]
  },
  {
   "cell_type": "code",
   "execution_count": 13,
   "metadata": {},
   "outputs": [],
   "source": [
    "sd = 10 # sill depth\n",
    "\n",
    "state01 = xr.open_dataset('/Users/weiyangbao/Documents/Model_outputs/Sills/state_' + str(format(sd,'03d')) + '.nc')\n",
    "grid = xr.open_dataset('/Users/weiyangbao/Documents/Model_outputs/Sills/grid_' + str(format(sd,'03d')) + '.nc')\n",
    "\n",
    "state1 = state01.isel(Y=range(1,10), T=range(40,121))\n",
    "\n",
    "HFacW = grid.HFacW.data[:,1:-1,:] # vertical fraction of open cell at West face\n",
    "rA = grid.rA.data[1:-1,:] # r face area at U point\n",
    "\n",
    "\n",
    "Area = np.empty([50, 9]) # Cross Y direction\n",
    "Area[:10, :] = 100\n",
    "Area[10:20, :] = 200\n",
    "Area[20:30, :] = 300\n",
    "Area[30:40, :] = 800\n",
    "Area[40:, :] = 1600\n",
    "\n",
    "rho = 999.8 # Density\n"
   ]
  },
  {
   "cell_type": "code",
   "execution_count": 14,
   "metadata": {},
   "outputs": [
    {
     "data": {
      "text/plain": [
       "1280.1816500435916"
      ]
     },
     "execution_count": 14,
     "metadata": {},
     "output_type": "execute_result"
    }
   ],
   "source": [
    "# Read data in T,Z,Y,X\n",
    "u0 = state1.U.data\n",
    "u = 0.5 * (u0[:,:,:,:-1] + u0[:,:,:,1:])\n",
    "\n",
    "w0 = state1.W.data\n",
    "w = 0.5 * (w0[:,:-1,:,:] + w0[:,1:,:,:])\n",
    "\n",
    "ut = u0[:,:,:,2].mean(0)\n",
    "((6/5)**(4/3)) * ((9/10)**(1/3)) * (math.pi**(2/3)) * (0.1**(5/3)) * (150**2)"
   ]
  },
  {
   "cell_type": "code",
   "execution_count": null,
   "metadata": {},
   "outputs": [],
   "source": [
    "# Advective flux of potential temperature\n",
    "Vf = np.sum(Area * u0[:,:,:,f].mean(0))\n",
    "Vs = np.sum(Area * u0[:,:,:,s].mean(0))\n",
    "\n",
    "Vf, Vs"
   ]
  },
  {
   "cell_type": "code",
   "execution_count": 15,
   "metadata": {},
   "outputs": [],
   "source": [
    "## Budget terms for different layers\n",
    "\n",
    "uzx = u0.mean(axis=(0,2)) # Z, X\n",
    "# Time average\n",
    "wt = w0.mean(0) # Z, Y, X\n",
    "dxdy = 200**2\n",
    "\n",
    "# Find the interface and vertical flux of theta\n",
    "def Layer(uzx):\n",
    "    # Layer interface, zero velocity crossing point\n",
    "    X = uzx.shape[1]\n",
    "    Vzx = np.empty(X)\n",
    "    itf = np.empty(X, dtype=int)\n",
    "    Vzx[[0,1,-2,-1]] = 0\n",
    "    itf[[0,1,-2,-1]] = 0\n",
    "    for i in range(2,X-2):\n",
    "        l = np.where(uzx[:, i] < 0)[-1][0]\n",
    "        itf[i] = l\n",
    "        Vzx[i] = np.sum(wt[10,:,i] * rA[:,i]) # Vertical advective flux through the interface\n",
    "    return (itf, Vzx)"
   ]
  },
  {
   "cell_type": "code",
   "execution_count": 18,
   "metadata": {},
   "outputs": [
    {
     "data": {
      "text/plain": [
       "4276.474287128076"
      ]
     },
     "execution_count": 18,
     "metadata": {},
     "output_type": "execute_result"
    }
   ],
   "source": [
    "itf, Vzx = Layer(uzx)\n",
    "\n",
    "f = 5 # Control volume start index near the ice front 3\n",
    "s = 88 # Control volume end index at the sill crest 28\n",
    "\n",
    "Vz = Vzx[f:s].sum() \n",
    "\n",
    "Vf1 = np.sum(HFacW[:itf[f],:,f] * Area[:itf[f],:] * u0[:,:itf[f],:,f].mean(0)) \n",
    "Vs1 = np.sum(HFacW[:itf[f],:,s] * Area[:itf[f],:] * u0[:,:itf[f],:,s].mean(0)) \n",
    "\n",
    "Vf2 = np.sum(HFacW[10:,:,f] * Area[10:,:] * u0[:,10:,:,f].mean(0))\n",
    "Vs2 = np.sum(HFacW[10:,:,s] * Area[10:,:] * u0[:,10:,:,s].mean(0))\n",
    "\n",
    "Vf1"
   ]
  },
  {
   "cell_type": "code",
   "execution_count": null,
   "metadata": {},
   "outputs": [],
   "source": [
    "Vzx[f:s].sum()"
   ]
  },
  {
   "cell_type": "code",
   "execution_count": null,
   "metadata": {},
   "outputs": [],
   "source": []
  }
 ],
 "metadata": {
  "kernelspec": {
   "display_name": "Python 3",
   "language": "python",
   "name": "python3"
  },
  "language_info": {
   "codemirror_mode": {
    "name": "ipython",
    "version": 3
   },
   "file_extension": ".py",
   "mimetype": "text/x-python",
   "name": "python",
   "nbconvert_exporter": "python",
   "pygments_lexer": "ipython3",
   "version": "3.7.4"
  }
 },
 "nbformat": 4,
 "nbformat_minor": 4
}
