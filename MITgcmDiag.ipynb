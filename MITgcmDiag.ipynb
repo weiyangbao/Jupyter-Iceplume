{
 "cells": [
  {
   "cell_type": "code",
   "execution_count": 1,
   "metadata": {},
   "outputs": [],
   "source": [
    "# Momentum Balance Diagnostics\n",
    "import xarray as xr\n",
    "import numpy as np\n",
    "import matplotlib.pyplot as plt\n",
    "import os"
   ]
  },
  {
   "cell_type": "code",
   "execution_count": 2,
   "metadata": {},
   "outputs": [],
   "source": [
    "sd = 9 # Sill depth\n",
    "Diag = xr.open_dataset('/Volumes/Extreme SSD/MITgcm outputs/qf700_drag000/UmomDiag_' + str(format(sd,'03d')) + '.nc')\n",
    "SrfDiag = xr.open_dataset('/Volumes/Extreme SSD/MITgcm outputs/qf700_drag000/SrfDiag_' + str(format(sd,'03d')) + '.nc')\n",
    "Grid = xr.open_dataset('/Volumes/Extreme SSD/MITgcm outputs/qf700_drag000/grid_' + str(format(sd,'03d')) + '.nc')\n",
    "State = xr.open_dataset('/Volumes/Extreme SSD/MITgcm outputs/qf700_drag000/state_' + str(format(sd,'03d')) + '.nc')\n",
    "\n",
    "Ut = Diag.TOTUTEND.data #Tendency of Zonal Component of Velocity (m/s/day) T*Zmd*Y*Xp1\n",
    "Udis = Diag.Um_Diss.data # U momentum tendency from Dissipation (m/s^2) T*Zmd*Y*Xp1\n",
    "Uadv = Diag.Um_Advec.data # U momentum tendency from Advection terms (m/s^2) T*Zmd*Y*Xp1\n",
    "Uext = Diag.Um_Ext.data # U momentum from External Forcing (m/s^2) T*Zmd*Y*Xp1\n",
    "Uph = Diag.Um_dPHdx.data # U momentum from Hydrostatic Pressure grad (m/s^2) T*Zmd*Y*Xp1\n",
    "Uab = Diag.AB_gU.data # U momentum from Adam-Bashforth (m/s^2) T*Zmd*Y*Xp1\n",
    "Ucori = Diag.Um_Cori.data # U momentum tendency from Coriolis term (m/s^2) T*Zmd*Y*Xp1\n",
    "UvisrI = Diag.VISrI_Um.data # Vertical Viscous Flux of U momentum (Implicit part) (m^4/s^2)  T*Zld*Y*Xp1\n",
    "Uimp = Diag.Um_ImplD.data # U momentum tendency from Dissipation (Implicit part) (m/s^2) T*Zmd*Y*Xp1\n",
    "SidDrag = Diag.USidDrag.data # U momentum tendency from Bottom Drag (m/s^2) T*Zmd*Y*Xp1\n",
    "BotDrag = Diag.UBotDrag.data # U momentum tendency from Side Drag (m/s^2) T*Zmd*Y*Xp1\n",
    "\n",
    "Etan = SrfDiag.ETAN.data # Surface Height Anomaly (m) T*1*Y*X\n",
    "\n",
    "\n",
    "rAw = Grid.rAw.data # r-face area at U point (Y*Xp1)\n",
    "drF = Grid.drF.data # r cell face separation (Z)\n",
    "HFacW = Grid.HFacW.data # vertical fraction of open cell at West face (Z*Y*Xp1)\n",
    "dxC = Grid.dxC.data # x cell center separation (Y*Xp1)\n",
    "\n",
    "\n",
    "Eta = State.Eta.data # free-surface_r-anomaly (m) (T-1)*Y*X\n"
   ]
  },
  {
   "cell_type": "code",
   "execution_count": 6,
   "metadata": {},
   "outputs": [
    {
     "data": {
      "text/plain": [
       "(3.341750750594117e-07,\n",
       " -4.7064608088301515e-06,\n",
       " -4.222444e-06,\n",
       " -1.5049676e-07,\n",
       " 1.4322542e-09,\n",
       " 0.0,\n",
       " -3.0941676e-11,\n",
       " 3.515739e-10)"
      ]
     },
     "execution_count": 6,
     "metadata": {},
     "output_type": "execute_result"
    }
   ],
   "source": [
    "# Set up Gravity, Time and locations\n",
    "g, t, z, y, x = 9.81, 150, -1, 34, 30\n",
    "\n",
    "dudt = Ut[t, z, y, x] / 86400\n",
    "#pg_barotropic = g * (Eta[t+1, y, x] - Eta[t+1, y, x-1]) / dxC[y, x]\n",
    "pg_barotropic = g * (Etan[t, 0, y, x] - Etan[t, 0, y, x-1]) / dxC[y, x]\n",
    "pg_baroclinic = Uph[t, z, y, x]\n",
    "adv = Uadv[t, z, y, x]\n",
    "dis = Udis[t, z, y, x]\n",
    "ext = Uext[t, z, y, x]\n",
    "ab = Uab[t, z, y, x]\n",
    "visr = (UvisrI[t, z+1, y, x] - UvisrI[t, z, y, x]) / (rAw[y, x] * drF[z] * HFacW[z, y, x])\n",
    "vimp = Uimp[t, z, y, x]\n",
    "botdrag = BotDrag[t, z, y, x]\n",
    "dudt, pg_barotropic, pg_baroclinic, adv, dis, ext, ab, vimp\n"
   ]
  },
  {
   "cell_type": "code",
   "execution_count": 20,
   "metadata": {},
   "outputs": [
    {
     "data": {
      "text/plain": [
       "-1.098049041943265e-09"
      ]
     },
     "execution_count": 20,
     "metadata": {},
     "output_type": "execute_result"
    }
   ],
   "source": [
    "dudt - pg_baroclinic - adv - dis - ext - ab - vimp + pg_barotropic"
   ]
  },
  {
   "cell_type": "code",
   "execution_count": null,
   "metadata": {},
   "outputs": [],
   "source": [
    "Grid.dxF.data[34,:]"
   ]
  },
  {
   "cell_type": "code",
   "execution_count": null,
   "metadata": {},
   "outputs": [],
   "source": [
    "State.Xp1.data, dxC[y,:]"
   ]
  },
  {
   "cell_type": "code",
   "execution_count": null,
   "metadata": {},
   "outputs": [],
   "source": [
    "Z = State.Zl.data\n",
    "\n",
    "#np.diff(State.Zl.data)\n",
    "np.diff(State.Zl.data)"
   ]
  },
  {
   "cell_type": "code",
   "execution_count": null,
   "metadata": {},
   "outputs": [],
   "source": [
    "Diag"
   ]
  },
  {
   "cell_type": "code",
   "execution_count": null,
   "metadata": {},
   "outputs": [],
   "source": []
  }
 ],
 "metadata": {
  "kernelspec": {
   "display_name": "Python 3",
   "language": "python",
   "name": "python3"
  },
  "language_info": {
   "codemirror_mode": {
    "name": "ipython",
    "version": 3
   },
   "file_extension": ".py",
   "mimetype": "text/x-python",
   "name": "python",
   "nbconvert_exporter": "python",
   "pygments_lexer": "ipython3",
   "version": "3.7.9"
  }
 },
 "nbformat": 4,
 "nbformat_minor": 4
}
