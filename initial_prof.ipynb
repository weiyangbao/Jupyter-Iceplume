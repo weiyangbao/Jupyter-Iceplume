{
 "cells": [
  {
   "cell_type": "code",
   "execution_count": 1,
   "metadata": {},
   "outputs": [],
   "source": [
    "# Initial T S Profiles\n",
    "import xarray as xr\n",
    "import numpy as np\n",
    "import matplotlib.pyplot as plt\n",
    "import os"
   ]
  },
  {
   "cell_type": "code",
   "execution_count": null,
   "metadata": {},
   "outputs": [],
   "source": [
    "#'/Volumes/Extreme SSD/MITgcm outputs/qf700_strat/state_001.nc'\n",
    "state1 = xr.open_dataset('/work/oceans/wbao/MITgcm_results/iceplume/4_Sz_maxhs/state_001.nc')\n",
    "state2 = xr.open_dataset('/work/oceans/wbao/MITgcm_results/iceplume/4_Sz_maxhs/state_002.nc')\n",
    "state3 = xr.open_dataset('/work/oceans/wbao/MITgcm_results/iceplume/4_Sz_maxhs/state_003.nc')\n",
    "state4 = xr.open_dataset('/work/oceans/wbao/MITgcm_results/iceplume/4_Sz_maxhs/state_004.nc')\n",
    "\n",
    "\n",
    "s_ini1 = state1.S.data[0,:,:,:]\n",
    "s_ini2 = state2.S.data[0,:,:,:]\n",
    "s_ini3 = state3.S.data[0,:,:,:]\n",
    "s_ini4 = state4.S.data[0,:,:,:]\n",
    "\n",
    "pt_ini1 = state1.Temp.data[0,:,:,:]\n",
    "pt_ini2 = state2.Temp.data[0,:,:,:]\n",
    "pt_ini3 = state3.Temp.data[0,:,:,:]\n",
    "pt_ini4 = state4.Temp.data[0,:,:,:]\n",
    "\n",
    "s_end1 = state1.S.data[-1,:,:,:]\n",
    "s_end2 = state2.S.data[-1,:,:,:]\n",
    "s_end3 = state3.S.data[-1,:,:,:]\n",
    "s_end4 = state4.S.data[-1,:,:,:]\n",
    "\n",
    "pt_end1 = state1.Temp.data[-1,:,:,:]\n",
    "pt_end2 = state2.Temp.data[-1,:,:,:]\n",
    "pt_end3 = state3.Temp.data[-1,:,:,:]\n",
    "pt_end4 = state4.Temp.data[-1,:,:,:]\n",
    "\n",
    "depth = state1.Z.data\n",
    "\n"
   ]
  },
  {
   "cell_type": "code",
   "execution_count": null,
   "metadata": {},
   "outputs": [],
   "source": [
    "depth"
   ]
  },
  {
   "cell_type": "code",
   "execution_count": null,
   "metadata": {},
   "outputs": [],
   "source": [
    "xi, yi = 10, 35\n",
    "\n",
    "fig1 = plt.figure(figsize=(4,6))\n",
    "fig1.tight_layout()  \n",
    "\n",
    "ax1 = fig1.add_subplot(111)\n",
    "ax1.set_ylim([-150, 0])\n",
    "ax2 = ax1.twiny()\n",
    "\n",
    "ax1.plot(pt_ini1[:,yi,xi], depth, 'k--', lw=2, label=r'$T_0$')\n",
    "ax2.plot(s_ini1[:,yi,xi], depth, '-', lw=2, label=r'$\\frac{\\partial s_0}{\\partial z}$')\n",
    "ax2.plot(s_ini2[:,yi,xi], depth, '-', lw=2, label=r'$2\\frac{\\partial s_0}{\\partial z}$')\n",
    "ax2.plot(s_ini3[:,yi,xi], depth, '-', lw=2, label=r'$3\\frac{\\partial s_0}{\\partial z}$')\n",
    "ax2.plot(s_ini4[:,yi,xi], depth, '-', lw=2, label=r'$4\\frac{\\partial s_0}{\\partial z}$')\n",
    "#ax2.plot(s_ini4[:,yi,xi], depth, '-', lw=2, label=r'case 4')\n",
    "ax1.legend(loc='center left', fontsize=12)\n",
    "ax2.legend(loc='upper left', fontsize=12)\n",
    "\n",
    "\n",
    "ax1.set_ylabel(r'Depth [m]', size=12)\n",
    "ax1.set_xlabel(r'Temperature [$^\\circ$C]', size=12)\n",
    "ax2.set_xlabel(r'Salinity [psu]', size=12)\n",
    "\n",
    "ax1.yaxis.set_tick_params(labelsize=12)\n",
    "ax1.xaxis.set_tick_params(labelsize=12)\n",
    "ax2.xaxis.set_tick_params(labelsize=12)\n",
    "#ax2.set_xticks(fontsize=15)\n",
    "plt.show()"
   ]
  },
  {
   "cell_type": "code",
   "execution_count": null,
   "metadata": {},
   "outputs": [],
   "source": [
    "xj, yj = 3, 35\n",
    "\n",
    "fig2 = plt.figure(figsize=(6,10))\n",
    "fig2.tight_layout()  \n",
    "\n",
    "ax1 = fig2.add_subplot(111)\n",
    "ax1.set_ylim([-150, 0])\n",
    "ax2 = ax1.twiny()\n",
    "\n",
    "p1t = ax1.plot(pt_end1[:,yj,xj], depth, '--', lw=2)\n",
    "p1s = ax2.plot(s_end1[:,yj,xj], depth, '-', lw=2)\n",
    "\n",
    "p2t = ax1.plot(pt_end2[:,yj,xj], depth, '--', lw=2)\n",
    "p2s = ax2.plot(s_end2[:,yj,xj], depth, '-', lw=2)\n",
    "\n",
    "p3t = ax1.plot(pt_end3[:,yj,xj], depth, '--', lw=2)\n",
    "p3s = ax2.plot(s_end3[:,yj,xj], depth, '-', lw=2)\n",
    "\n",
    "p4t = ax1.plot(pt_end4[:,yj,xj], depth, '--', lw=2)\n",
    "p4s = ax2.plot(s_end4[:,yj,xj], depth, '-', lw=2)\n",
    "\n",
    "\n",
    "from matplotlib.legend_handler import HandlerBase\n",
    "\n",
    "\n",
    "class AnyObjectHandler(HandlerBase):\n",
    "    def create_artists(self, legend, orig_handle,\n",
    "                       x0, y0, width, height, fontsize, trans):\n",
    "        l1 = plt.Line2D([x0,y0+width], [0.7*height,0.7*height],\n",
    "                           linestyle=orig_handle[1],color=orig_handle[0])\n",
    "        l2 = plt.Line2D([x0,y0+width], [0.3*height,0.3*height], \n",
    "                           color=orig_handle[0])\n",
    "        return [l1, l2]\n",
    "    \n",
    "plt.legend([(\"#1f77b4\",\"--\"), (\"#ff7f0e\",\"--\"), (\"#2ca02c\",\"--\"), (\"#d62728\",\"--\")], ['case 1', 'case 2', 'case 3', 'case 4'],\n",
    "           handler_map={tuple: AnyObjectHandler()}, loc='center left', fontsize=15)\n",
    "#ax2.legend(title=r'$Q_{sg}=700\\;m^3/s$', loc='center left', fontsize=15)\n",
    "\n",
    "ax1.set_ylabel(r'Depth (m)', size=15)\n",
    "ax1.set_xlabel(r'Temperature ($^\\circ$C)', size=15)\n",
    "ax2.set_xlabel(r'Salinity (psu)', size=15)\n",
    "\n",
    "ax1.yaxis.set_tick_params(labelsize=15)\n",
    "ax1.xaxis.set_tick_params(labelsize=15)\n",
    "ax2.xaxis.set_tick_params(labelsize=15)\n",
    "#ax2.set_xticks(fontsize=15)"
   ]
  },
  {
   "cell_type": "code",
   "execution_count": null,
   "metadata": {},
   "outputs": [],
   "source": [
    "fig_path = \"/Users/weiyangbao/Documents/Results_Figs/Model/\"\n",
    "if not os.path.exists(fig_path):\n",
    "    os.makedirs(fig_path)\n",
    "\n",
    "fig1.savefig(fig_path + '/initial_TS.png', dpi=200, bbox_inches='tight')\n",
    "#fig2.savefig(fig_path + '/Final_TS.png', dpi=200, bbox_inches='tight')"
   ]
  },
  {
   "cell_type": "code",
   "execution_count": null,
   "metadata": {},
   "outputs": [],
   "source": []
  }
 ],
 "metadata": {
  "kernelspec": {
   "display_name": "Python 3 (ipykernel)",
   "language": "python",
   "name": "python3"
  },
  "language_info": {
   "codemirror_mode": {
    "name": "ipython",
    "version": 3
   },
   "file_extension": ".py",
   "mimetype": "text/x-python",
   "name": "python",
   "nbconvert_exporter": "python",
   "pygments_lexer": "ipython3",
   "version": "3.7.11"
  }
 },
 "nbformat": 4,
 "nbformat_minor": 4
}
