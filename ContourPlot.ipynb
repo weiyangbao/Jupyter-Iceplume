{
 "cells": [
  {
   "cell_type": "code",
   "execution_count": 1,
   "metadata": {},
   "outputs": [],
   "source": [
    "import xarray as xr\n",
    "import numpy as np\n",
    "import matplotlib.pyplot as plt\n",
    "#from scipy.interpolate import interp2d\n",
    "import gsw\n",
    "import os"
   ]
  },
  {
   "cell_type": "code",
   "execution_count": 2,
   "metadata": {},
   "outputs": [],
   "source": [
    "#state0 = xr.open_dataset('/Users/weiyangbao/Desktop/sill12/state_003.nc')\n",
    "state0 = xr.open_dataset('/work/oceans/wbao/MITgcm_results/iceplume/sill30/state_002.nc')\n",
    "state = state0.isel(Y = range(1,10)) # Remove the boundary walls in y direction"
   ]
  },
  {
   "cell_type": "code",
   "execution_count": 3,
   "metadata": {},
   "outputs": [],
   "source": [
    "#fig_path = \"/Users/weiyangbao/Documents/Jupyter_Figs/Sill012/Along_fjord_animation_Qf0300/\"\n",
    "fig_path = \"/home/1959/Jupyter_Figs/sill30/Along_fjord_animation_Qf0200/\"\n",
    "if not os.path.exists(fig_path):\n",
    "    os.makedirs(fig_path)\n",
    "    \n",
    "x = state.X.data / 1000 # x coornidate in km\n",
    "z = state.Z.data\n",
    "pres = gsw.p_from_z(z, 0)\n",
    "ct = np.linspace(6.5,9,20) # Contour range for temperature\n",
    "count = 0\n",
    "\n",
    "# Time range\n",
    "for t in range(60,81):\n",
    "    count += 1\n",
    "    pt = state.Temp.isel(T = t).data\n",
    "    s = state.S.isel(T = t).data\n",
    "    # Convert the location of data U from cell corner to center\n",
    "    u = (state.U.isel(T = t, Xp1 = range(50)).data + state.U.isel(T = t, Xp1 = range(1,51)).data) /2\n",
    "    w = state.W.isel(T = t).data\n",
    "\n",
    "    mask = (pt == 0)\n",
    "    pt[mask] = np.nan\n",
    "    s[mask] = np.nan\n",
    "    u[mask] = np.nan\n",
    "    w[mask] = np.nan\n",
    "    pt_ymean = pt.mean(1)\n",
    "    s_ymean = s.mean(1)\n",
    "    rho_ymean = gsw.rho(s_ymean, pt_ymean, pres)\n",
    "    u_ymean = u.mean(1)\n",
    "    w_ymean = w.mean(1)\n",
    "    \n",
    "\n",
    "    fig, ax = plt.subplots(figsize=(16,8))  \n",
    "    # Plot potential temperature field\n",
    "    plt.contourf(x,z,pt_ymean, ct, cmap = 'RdYlBu_r')\n",
    "    cbar = plt.colorbar(ticks = np.linspace(6.5,9,6))\n",
    "    cbar.ax.tick_params(labelsize = 15)\n",
    "    cbar.set_label('Potential Temperature [\\N{DEGREE SIGN}C]', size = 20, weight = 'bold')\n",
    "    \n",
    "    # Plot isopycnals\n",
    "    CS = plt.contour(x,z,rho_ymean,10, colors = 'b', linewidths = 3)\n",
    "    plt.clabel(CS, fmt='%1.1f', fontsize=15, inline=1)\n",
    "\n",
    "    # Plot velocity(Z, X) field\n",
    "    u_ymean[[1,2,3,4,6,7,8,9,11,12,14,15,17,18,19,21,23,24,26,27,29,30], :] = np.nan\n",
    "    w_ymean[[1,2,3,4,6,7,8,9,11,12,14,15,17,18,19,21,23,24,26,27,29,30], :] = np.nan\n",
    "    u_ymean[:,::2] = np.nan\n",
    "    w_ymean[:,::2] = np.nan\n",
    "    Q = ax.quiver(x,z,u_ymean, w_ymean,scale = 1)\n",
    "    ax.quiverkey(Q, 0.7, 0.89, 0.05,r'5 $cm/s$', fontproperties={'weight': 'bold', 'size' : 10}, coordinates='figure')\n",
    "\n",
    "    ax.set_xlim([0,10])\n",
    "    #ax.set_xticklabels(np.linspace(0,10,6, dtype = int), size = 20)\n",
    "    ax.set_ylim([min(z),0])\n",
    "    #ax.set_yticklabels(np.linspace(-150,0,11, dtype = int), size = 20)\n",
    "    plt.yticks(fontsize = 20)\n",
    "    plt.xticks(fontsize = 20)\n",
    "    ax.set_xlabel('Distance from glacier [km]', size = 20, weight = 'bold')\n",
    "    ax.set_ylabel('Depth [m]', size = 20, weight = 'bold')\n",
    "    plt.title('Day ' + str(int(t/2)), size = 25, weight = 'bold')\n",
    "    plt.close()\n",
    "    fig.savefig(fig_path + '/time' + format(count, '03d') + '.png', dpi = 150, bbox_inches='tight')"
   ]
  },
  {
   "cell_type": "code",
   "execution_count": 5,
   "metadata": {},
   "outputs": [],
   "source": [
    "# Generate GIF from saved output figures\n",
    "import imageio\n",
    "import glob\n",
    "\n",
    "images = []\n",
    "imagenames = sorted(glob.glob(fig_path + '/time*.png'))\n",
    "\n",
    "for filename in imagenames:\n",
    "    images.append(imageio.imread(filename))\n",
    "imageio.mimsave(fig_path + '/30Day.gif', images, duration=.6)"
   ]
  },
  {
   "cell_type": "code",
   "execution_count": null,
   "metadata": {},
   "outputs": [],
   "source": []
  }
 ],
 "metadata": {
  "kernelspec": {
   "display_name": "Python 3",
   "language": "python",
   "name": "python3"
  },
  "language_info": {
   "codemirror_mode": {
    "name": "ipython",
    "version": 3
   },
   "file_extension": ".py",
   "mimetype": "text/x-python",
   "name": "python",
   "nbconvert_exporter": "python",
   "pygments_lexer": "ipython3",
   "version": "3.7.1"
  }
 },
 "nbformat": 4,
 "nbformat_minor": 2
}
