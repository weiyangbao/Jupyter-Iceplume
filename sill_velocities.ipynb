{
 "cells": [
  {
   "cell_type": "code",
   "execution_count": 1,
   "id": "14f62e0e",
   "metadata": {},
   "outputs": [],
   "source": [
    "# Calculate velocities at the sill\n",
    "import xarray as xr\n",
    "import numpy as np\n",
    "import matplotlib.pyplot as plt\n",
    "import os, sys\n",
    "sys.path.append(os.path.abspath('./TEF'))\n",
    "import TEF_Variables as tef"
   ]
  },
  {
   "cell_type": "code",
   "execution_count": null,
   "id": "5c669d28",
   "metadata": {},
   "outputs": [],
   "source": [
    "case_id = 5\n",
    "file1 = xr.open_dataset('/work/oceans/wbao/MITgcm_results/iceplume/6_Tide_minhs/state_' + str(format(case_id,'03d')) + '.nc')\n",
    "State = file1.isel(T=~file1.get_index(\"T\").duplicated())\n",
    "Grid = xr.open_dataset('/work/oceans/wbao/MITgcm_results/iceplume/6_Tide_minhs/grid_' + str(format(case_id,'03d')) + '.nc')\n",
    "\n",
    "\n",
    "\n",
    "# Confine to the range of fjord\n",
    "# state = State.isel(X=range(260), Xp1=range(261), Y=range(35,45), T=range(1,len(State.T)))\n",
    "# grid = Grid.isel(X=range(260), Xp1=range(261), Y=range(35,45))\n",
    "\n",
    "HFacC = Grid.HFacC\n",
    "areaC = Grid.HFacC * Grid.drF * Grid.dyF # Z Y X\n",
    "areaW = Grid.HFacW * Grid.drF * Grid.dyG # Z Y Xp1\n",
    "sW = np.where(HFacC[-1,40,1:] == 0)[-1][0] # Sill west edge index\n",
    "sE = np.where(HFacC[-1,40,1:] == 0)[-1][-1] # Sill east edge index\n",
    "sC = np.ceil((sW+sE)/2).astype(int) # Sill crest index (178)\n",
    "print(sC)"
   ]
  },
  {
   "cell_type": "code",
   "execution_count": null,
   "id": "db839d27",
   "metadata": {},
   "outputs": [],
   "source": [
    "areaW.data[:,:,-2].sum(), areaC.data[:,:,-1].sum()"
   ]
  },
  {
   "cell_type": "code",
   "execution_count": 2,
   "id": "66bc3198",
   "metadata": {},
   "outputs": [],
   "source": [
    "def sill_vel(case_id):\n",
    "    \n",
    "    file1 = xr.open_dataset('/work/oceans/wbao/MITgcm_results/iceplume/6_Tide_minhs/state_' + str(format(case_id,'03d')) + '.nc')\n",
    "    State = file1.isel(T=~file1.get_index(\"T\").duplicated())\n",
    "    Grid = xr.open_dataset('/work/oceans/wbao/MITgcm_results/iceplume/6_Tide_minhs/grid_' + str(format(case_id,'03d')) + '.nc')\n",
    "    \n",
    "    HFacC = Grid.HFacC\n",
    "    areaC = Grid.HFacC * Grid.drF * Grid.dyF # Z Y X\n",
    "    areaW = Grid.HFacW * Grid.drF * Grid.dyG # Z Y Xp1\n",
    "    sW = np.where(HFacC[-1,40,1:] == 0)[-1][0] # Sill west edge index\n",
    "    sE = np.where(HFacC[-1,40,1:] == 0)[-1][-1] # Sill east edge index\n",
    "    sC = np.ceil((sW+sE)/2).astype(int) # Sill crest index (178)\n",
    "    \n",
    "    \n",
    "    state = State.isel(Y=range(35,45), T=range(1,len(State.T)))\n",
    "    grid = Grid.isel(Y=range(35,45))\n",
    "    s = state.S.data.mean(2) # Salinity in T,Z,X\n",
    "    u = (state.U.data[:,:,:,1:].mean(2) + state.U.data[:,:,:,:-1].mean(2)) / 2 # Along channel velocity\n",
    "    ot = state.T.data # Time in seconds\n",
    "\n",
    "\n",
    "    HFacC1 = grid.HFacC.data.mean(1)\n",
    "    dyF1 = grid.dyF.data.mean(0)\n",
    "    drF1 = grid.drF.data\n",
    "    gridA = np.broadcast_to(drF1[:, np.newaxis], HFacC1.shape) * np.broadcast_to(dyF1[np.newaxis, :], HFacC1.shape) * HFacC1 # Grid Area\n",
    "    da = np.broadcast_to(gridA[np.newaxis,:,:], u.shape)\n",
    "\n",
    "    S = state.S.data\n",
    "    U = (state.U.data[:,:,:,1:] + state.U.data[:,:,:,:-1]) / 2\n",
    "    drF = np.broadcast_to(grid.drF.data[np.newaxis, :, np.newaxis, np.newaxis], U.shape)\n",
    "    dyF = np.broadcast_to(grid.dyF.data[np.newaxis, np.newaxis, :, :], U.shape)\n",
    "    HFacC2 = np.broadcast_to(grid.HFacC.data[np.newaxis, :, :, :], U.shape)\n",
    "    DA = drF * dyF * HFacC2\n",
    "\n",
    "\n",
    "    tef_q1, tef_vel1, tef_da1, tef_qs1, tef_qs21, sbins1 = tef.process_section(U,S,DA,ot,sC,23,testing=False)\n",
    "    qin1, qout1, sin1, sout1 = tef.bulk_calc(tef_q1, tef_vel1, tef_da1, tef_qs1, tef_qs21, sbins1, ot)\n",
    "    \n",
    "    \n",
    "    U0 = 1e-3 * case_id\n",
    "    Ut = U0 * areaC.data[:,:,-1].sum() / areaC.data[:,:,sC].sum() # Maximum tidal velocity at the sill\n",
    "    t0 = 89\n",
    "    Qin = qin1[t0:].mean()\n",
    "    Qout = -qout1[t0:].mean()\n",
    "    Ue = (Qin + Qout) / (2*areaC.data[:,:,sC].sum()) # Exchange velocity at the sill\n",
    "    Ur = round(Ut/Ue,2)\n",
    "    \n",
    "    return Ut, Ue, Ur"
   ]
  },
  {
   "cell_type": "code",
   "execution_count": null,
   "id": "77d45e94",
   "metadata": {},
   "outputs": [],
   "source": [
    "np.arange(5) + 1"
   ]
  },
  {
   "cell_type": "code",
   "execution_count": 3,
   "id": "1361d1ec",
   "metadata": {},
   "outputs": [
    {
     "name": "stdout",
     "output_type": "stream",
     "text": [
      "  time 0 out of 120\n"
     ]
    },
    {
     "name": "stderr",
     "output_type": "stream",
     "text": [
      "/home/1959/Scripts/Jupyter-Iceplume/TEF/TEF_Variables.py:269: RuntimeWarning: invalid value encountered in true_divide\n",
      "  Sm = QSm/Qm\n",
      "/home/1959/Scripts/Jupyter-Iceplume/TEF/TEF_Variables.py:273: RuntimeWarning: invalid value encountered in true_divide\n",
      "  S2m = QS2m/Qm\n"
     ]
    },
    {
     "name": "stdout",
     "output_type": "stream",
     "text": [
      "  time 0 out of 120\n"
     ]
    },
    {
     "name": "stderr",
     "output_type": "stream",
     "text": [
      "/home/1959/Scripts/Jupyter-Iceplume/TEF/TEF_Variables.py:269: RuntimeWarning: invalid value encountered in true_divide\n",
      "  Sm = QSm/Qm\n",
      "/home/1959/Scripts/Jupyter-Iceplume/TEF/TEF_Variables.py:273: RuntimeWarning: invalid value encountered in true_divide\n",
      "  S2m = QS2m/Qm\n"
     ]
    },
    {
     "name": "stdout",
     "output_type": "stream",
     "text": [
      "  time 0 out of 120\n"
     ]
    },
    {
     "name": "stderr",
     "output_type": "stream",
     "text": [
      "/home/1959/Scripts/Jupyter-Iceplume/TEF/TEF_Variables.py:269: RuntimeWarning: invalid value encountered in true_divide\n",
      "  Sm = QSm/Qm\n",
      "/home/1959/Scripts/Jupyter-Iceplume/TEF/TEF_Variables.py:273: RuntimeWarning: invalid value encountered in true_divide\n",
      "  S2m = QS2m/Qm\n"
     ]
    },
    {
     "name": "stdout",
     "output_type": "stream",
     "text": [
      "  time 0 out of 120\n"
     ]
    },
    {
     "name": "stderr",
     "output_type": "stream",
     "text": [
      "/home/1959/Scripts/Jupyter-Iceplume/TEF/TEF_Variables.py:269: RuntimeWarning: invalid value encountered in true_divide\n",
      "  Sm = QSm/Qm\n",
      "/home/1959/Scripts/Jupyter-Iceplume/TEF/TEF_Variables.py:273: RuntimeWarning: invalid value encountered in true_divide\n",
      "  S2m = QS2m/Qm\n"
     ]
    },
    {
     "name": "stdout",
     "output_type": "stream",
     "text": [
      "  time 0 out of 120\n",
      "[0.66 1.32 1.98 2.64 3.3 ] [0.07473188 0.07445699 0.07436979 0.07447517 0.07479217] [ 8.83 17.73 26.62 35.45 44.12]\n"
     ]
    },
    {
     "name": "stderr",
     "output_type": "stream",
     "text": [
      "/home/1959/Scripts/Jupyter-Iceplume/TEF/TEF_Variables.py:268: RuntimeWarning: invalid value encountered in true_divide\n",
      "  Sp = QSp/Qp\n",
      "/home/1959/Scripts/Jupyter-Iceplume/TEF/TEF_Variables.py:269: RuntimeWarning: invalid value encountered in true_divide\n",
      "  Sm = QSm/Qm\n",
      "/home/1959/Scripts/Jupyter-Iceplume/TEF/TEF_Variables.py:272: RuntimeWarning: invalid value encountered in true_divide\n",
      "  S2p = QS2p/Qp\n",
      "/home/1959/Scripts/Jupyter-Iceplume/TEF/TEF_Variables.py:273: RuntimeWarning: invalid value encountered in true_divide\n",
      "  S2m = QS2m/Qm\n"
     ]
    }
   ],
   "source": [
    "case = np.arange(5) + 1\n",
    "ut = np.empty(len(case))\n",
    "ue = np.empty(len(case))\n",
    "ur = np.empty(len(case))\n",
    "\n",
    "for i in range(len(case)):\n",
    "    \n",
    "    ut[i], ue[i], ur[i] = sill_vel(case[i])\n",
    "\n",
    "print(ut,ue,ur)"
   ]
  },
  {
   "cell_type": "code",
   "execution_count": null,
   "id": "c94474a7",
   "metadata": {},
   "outputs": [],
   "source": [
    "# Velocities at the sill\n",
    "U0 = 1e-3 # Tidal amplitude at OBC\n",
    "Ut = U0 * areaC.data[:,:,-1].sum() / areaC.data[:,:,sC].sum() # Maximum tidal velocity at the sill\n",
    "\n",
    "t0 = 89\n",
    "Ue = (qin1[t0:].mean()-qout1[t0:].mean()) / (2*areaC.data[:,:,sC].sum()) # Exchange velocity at the sill\n",
    "\n",
    "print(Ut,Ue)"
   ]
  },
  {
   "cell_type": "code",
   "execution_count": 4,
   "id": "f3503b71",
   "metadata": {},
   "outputs": [],
   "source": [
    "# Save outputs\n",
    "Vel_ds = xr.Dataset(\n",
    "    data_vars={'Ut' : ut,\n",
    "    'Ue' : ue,\n",
    "    'Ur' : ur})\n",
    "\n",
    "outdir = \"/home/1959/Parameters/\"\n",
    "if not os.path.exists(outdir):\n",
    "    os.makedirs(outdir)\n",
    "\n",
    "Vel_ds.to_netcdf(outdir + 'Tide_minhs_vel.nc')"
   ]
  },
  {
   "cell_type": "code",
   "execution_count": null,
   "id": "934433be",
   "metadata": {},
   "outputs": [],
   "source": [
    "(qin1-qout1) / (2*areaC.data[:,:,sC].sum())"
   ]
  },
  {
   "cell_type": "code",
   "execution_count": null,
   "id": "c52e8d27",
   "metadata": {},
   "outputs": [],
   "source": []
  }
 ],
 "metadata": {
  "kernelspec": {
   "display_name": "Python 3 (ipykernel)",
   "language": "python",
   "name": "python3"
  },
  "language_info": {
   "codemirror_mode": {
    "name": "ipython",
    "version": 3
   },
   "file_extension": ".py",
   "mimetype": "text/x-python",
   "name": "python",
   "nbconvert_exporter": "python",
   "pygments_lexer": "ipython3",
   "version": "3.7.11"
  }
 },
 "nbformat": 4,
 "nbformat_minor": 5
}
