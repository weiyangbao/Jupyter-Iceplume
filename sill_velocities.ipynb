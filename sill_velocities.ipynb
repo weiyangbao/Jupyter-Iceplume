{
 "cells": [
  {
   "cell_type": "code",
   "execution_count": 1,
   "id": "14f62e0e",
   "metadata": {},
   "outputs": [],
   "source": [
    "# Calculate velocities at the sill\n",
    "import xarray as xr\n",
    "import numpy as np\n",
    "import matplotlib.pyplot as plt\n",
    "import os, sys\n",
    "sys.path.append(os.path.abspath('./TEF'))\n",
    "import TEF_Variables as tef"
   ]
  },
  {
   "cell_type": "code",
   "execution_count": 2,
   "id": "5c669d28",
   "metadata": {},
   "outputs": [
    {
     "name": "stdout",
     "output_type": "stream",
     "text": [
      "178\n"
     ]
    }
   ],
   "source": [
    "case_id = 5\n",
    "file1 = xr.open_dataset('/work/oceans/wbao/MITgcm_results/iceplume/6_Tide_minhs/state_' + str(format(case_id,'03d')) + '.nc')\n",
    "State = file1.isel(T=~file1.get_index(\"T\").duplicated())\n",
    "Grid = xr.open_dataset('/work/oceans/wbao/MITgcm_results/iceplume/6_Tide_minhs/grid_' + str(format(case_id,'03d')) + '.nc')\n",
    "\n",
    "\n",
    "\n",
    "# Confine to the range of fjord\n",
    "# state = State.isel(X=range(260), Xp1=range(261), Y=range(35,45), T=range(1,len(State.T)))\n",
    "# grid = Grid.isel(X=range(260), Xp1=range(261), Y=range(35,45))\n",
    "\n",
    "HFacC = Grid.HFacC\n",
    "areaC = Grid.HFacC * Grid.drF * Grid.dyF # Z Y X\n",
    "areaW = Grid.HFacW * Grid.drF * Grid.dyG # Z Y Xp1\n",
    "sW = np.where(HFacC[-1,40,1:] == 0)[-1][0] # Sill west edge index\n",
    "sE = np.where(HFacC[-1,40,1:] == 0)[-1][-1] # Sill east edge index\n",
    "sC = np.ceil((sW+sE)/2).astype(int) # Sill crest index (178)\n",
    "print(sC)"
   ]
  },
  {
   "cell_type": "code",
   "execution_count": 3,
   "id": "db839d27",
   "metadata": {},
   "outputs": [
    {
     "data": {
      "text/plain": [
       "(21120000.0, 21120000.0)"
      ]
     },
     "execution_count": 3,
     "metadata": {},
     "output_type": "execute_result"
    }
   ],
   "source": [
    "areaW.data[:,:,-2].sum(), areaC.data[:,:,-1].sum()"
   ]
  },
  {
   "cell_type": "code",
   "execution_count": 4,
   "id": "66bc3198",
   "metadata": {},
   "outputs": [
    {
     "name": "stdout",
     "output_type": "stream",
     "text": [
      "  time 0 out of 120\n"
     ]
    },
    {
     "name": "stderr",
     "output_type": "stream",
     "text": [
      "/home/1959/Scripts/Jupyter-Iceplume/TEF/TEF_Variables.py:268: RuntimeWarning: invalid value encountered in true_divide\n",
      "  Sp = QSp/Qp\n",
      "/home/1959/Scripts/Jupyter-Iceplume/TEF/TEF_Variables.py:269: RuntimeWarning: invalid value encountered in true_divide\n",
      "  Sm = QSm/Qm\n",
      "/home/1959/Scripts/Jupyter-Iceplume/TEF/TEF_Variables.py:272: RuntimeWarning: invalid value encountered in true_divide\n",
      "  S2p = QS2p/Qp\n",
      "/home/1959/Scripts/Jupyter-Iceplume/TEF/TEF_Variables.py:273: RuntimeWarning: invalid value encountered in true_divide\n",
      "  S2m = QS2m/Qm\n"
     ]
    }
   ],
   "source": [
    "# TEF calculation\n",
    "state = State.isel(Y=range(35,45), T=range(1,len(State.T)))\n",
    "grid = Grid.isel(Y=range(35,45))\n",
    "s = state.S.data.mean(2) # Salinity in T,Z,X\n",
    "u = (state.U.data[:,:,:,1:].mean(2) + state.U.data[:,:,:,:-1].mean(2)) / 2 # Along channel velocity\n",
    "ot = state.T.data # Time in seconds\n",
    "\n",
    "\n",
    "HFacC1 = grid.HFacC.data.mean(1)\n",
    "dyF1 = grid.dyF.data.mean(0)\n",
    "drF1 = grid.drF.data\n",
    "gridA = np.broadcast_to(drF1[:, np.newaxis], HFacC1.shape) * np.broadcast_to(dyF1[np.newaxis, :], HFacC1.shape) * HFacC1 # Grid Area\n",
    "da = np.broadcast_to(gridA[np.newaxis,:,:], u.shape)\n",
    "\n",
    "S = state.S.data\n",
    "U = (state.U.data[:,:,:,1:] + state.U.data[:,:,:,:-1]) / 2\n",
    "drF = np.broadcast_to(grid.drF.data[np.newaxis, :, np.newaxis, np.newaxis], U.shape)\n",
    "dyF = np.broadcast_to(grid.dyF.data[np.newaxis, np.newaxis, :, :], U.shape)\n",
    "HFacC2 = np.broadcast_to(grid.HFacC.data[np.newaxis, :, :, :], U.shape)\n",
    "DA = drF * dyF * HFacC2\n",
    "\n",
    "\n",
    "tef_q1, tef_vel1, tef_da1, tef_qs1, tef_qs21, sbins1 = tef.process_section(U,S,DA,ot,sC,23,testing=False)\n",
    "qin1, qout1, sin1, sout1 = tef.bulk_calc(tef_q1, tef_vel1, tef_da1, tef_qs1, tef_qs21, sbins1, ot)"
   ]
  },
  {
   "cell_type": "code",
   "execution_count": 5,
   "id": "c94474a7",
   "metadata": {},
   "outputs": [
    {
     "name": "stdout",
     "output_type": "stream",
     "text": [
      "0.66 0.07479216702738467\n"
     ]
    }
   ],
   "source": [
    "# Velocities at the sill\n",
    "U0 = 1e-3 # Tidal amplitude at OBC\n",
    "Ut = U0 * areaC.data[:,:,-1].sum() / areaC.data[:,:,sC].sum() # Maximum tidal velocity at the sill\n",
    "\n",
    "t0 = 89\n",
    "Ue = (qin1[t0:].mean()-qout1[t0:].mean()) / (2*areaC.data[:,:,sC].sum()) # Exchange velocity at the sill\n",
    "\n",
    "print(Ut,Ue)"
   ]
  },
  {
   "cell_type": "code",
   "execution_count": 6,
   "id": "f3503b71",
   "metadata": {},
   "outputs": [
    {
     "data": {
      "text/plain": [
       "(2536.6221958531005, -2250.076493899518)"
      ]
     },
     "execution_count": 6,
     "metadata": {},
     "output_type": "execute_result"
    }
   ],
   "source": [
    "qin1[t0:].mean(), qout1[t0:].mean()"
   ]
  },
  {
   "cell_type": "code",
   "execution_count": 7,
   "id": "934433be",
   "metadata": {},
   "outputs": [
    {
     "data": {
      "text/plain": [
       "array([0.01319195, 0.01825821, 0.02557309, 0.03022576, 0.0347196 ,\n",
       "       0.03780681, 0.03881877, 0.03882819, 0.03678939, 0.0336676 ,\n",
       "       0.0288968 , 0.02665538, 0.02083433, 0.01788984, 0.0173277 ,\n",
       "       0.00541886, 0.01544045, 0.01852391, 0.03453606, 0.03822816,\n",
       "       0.0414521 , 0.04145663, 0.04215806, 0.04003236, 0.03497199,\n",
       "       0.03037403, 0.02718236, 0.02417054, 0.02608138, 0.02786812,\n",
       "       0.03042837, 0.03443333, 0.0386714 , 0.04372458, 0.04742577,\n",
       "       0.05033314, 0.05153819, 0.05193154, 0.05137817, 0.05062424,\n",
       "       0.0502719 , 0.0500798 , 0.04997239, 0.04892962, 0.04762865,\n",
       "       0.04738085, 0.0478646 , 0.05066509, 0.05237981, 0.0519111 ,\n",
       "       0.05268672, 0.05276742, 0.0519658 , 0.05005192, 0.05089552,\n",
       "       0.04999307, 0.04933579, 0.0515698 , 0.0529885 , 0.05296163,\n",
       "       0.05652263, 0.06062304, 0.06356298, 0.06656615, 0.0681862 ,\n",
       "       0.0702354 , 0.07120796, 0.07127169, 0.07082662, 0.06964175,\n",
       "       0.07278174, 0.06717502, 0.06766681, 0.06677362, 0.06720151,\n",
       "       0.06704678, 0.06983932, 0.0697106 , 0.06571933, 0.06709897,\n",
       "       0.06844305, 0.06462891, 0.0662689 , 0.06400558, 0.06471429,\n",
       "       0.06416039, 0.06347346, 0.06535479, 0.06577602, 0.06825837,\n",
       "       0.06978131, 0.07196376, 0.07475416, 0.07714494, 0.07883003,\n",
       "       0.07976705, 0.08002306, 0.07910823, 0.07797184, 0.07784559,\n",
       "       0.07760711, 0.07735141, 0.07777483, 0.07646038, 0.07558721,\n",
       "       0.07605346, 0.07560605, 0.074501  , 0.0738779 , 0.07363465,\n",
       "       0.07369703, 0.07211345, 0.07165643, 0.07318063, 0.07012539,\n",
       "       0.06952794, 0.07172748, 0.07308305, 0.07398493, 0.0755585 ])"
      ]
     },
     "execution_count": 7,
     "metadata": {},
     "output_type": "execute_result"
    }
   ],
   "source": [
    "(qin1-qout1) / (2*areaC.data[:,:,sC].sum())"
   ]
  },
  {
   "cell_type": "code",
   "execution_count": null,
   "id": "c52e8d27",
   "metadata": {},
   "outputs": [],
   "source": []
  }
 ],
 "metadata": {
  "kernelspec": {
   "display_name": "Python 3 (ipykernel)",
   "language": "python",
   "name": "python3"
  },
  "language_info": {
   "codemirror_mode": {
    "name": "ipython",
    "version": 3
   },
   "file_extension": ".py",
   "mimetype": "text/x-python",
   "name": "python",
   "nbconvert_exporter": "python",
   "pygments_lexer": "ipython3",
   "version": "3.7.11"
  }
 },
 "nbformat": 4,
 "nbformat_minor": 5
}
