{
 "cells": [
  {
   "cell_type": "code",
   "execution_count": 1,
   "id": "0f7c5d16",
   "metadata": {},
   "outputs": [],
   "source": [
    "# Submarine melting Qsm under different icefront temperature and sill depths\n",
    "import xarray as xr\n",
    "import numpy as np\n",
    "import os\n",
    "import matplotlib.pyplot as plt"
   ]
  },
  {
   "cell_type": "code",
   "execution_count": 2,
   "id": "c4618080",
   "metadata": {},
   "outputs": [],
   "source": [
    "# Melting flux at ice front\n",
    "def IFA(case_path, case_id):\n",
    "    # Grid areas    \n",
    "    Area = np.empty([90, 10])\n",
    "    Area[:20,:] = 400\n",
    "    Area[20:50,:] = 800\n",
    "    Area[50:,:] = 1200\n",
    "\n",
    "    file0 = xr.open_dataset(case_path + '/icefrntA_' + str(format(case_id,'03d')) + '.nc')\n",
    "    t0 = 0\n",
    "    #tn = 120\n",
    "    # removed duplicated data caused by model restart\n",
    "    file = file0.isel(T=~file0.get_index(\"T\").duplicated())\n",
    "    state = file.isel(Y=range(35,45), T=range(t0,len(file.T)))\n",
    "    \n",
    "    MR = state.icefrntA.isel(X=1).data.mean(0) # Melt rate at the icefront\n",
    "    Qsm = (MR*Area).sum()/(24*3600)\n",
    "    return Qsm"
   ]
  },
  {
   "cell_type": "code",
   "execution_count": 3,
   "id": "12cfbc93",
   "metadata": {},
   "outputs": [],
   "source": [
    "# Water temperature at ice front\n",
    "def icefrntT(case_path, case_id):\n",
    "    File1 = xr.open_dataset(case_path + '/state_' + str(format(case_id,'03d')) + '.nc')\n",
    "    Grid = xr.open_dataset(case_path + '/grid_' + str(format(case_id,'03d')) + '.nc')  \n",
    "    State = File1.isel(T=~File1.get_index(\"T\").duplicated())\n",
    "    \n",
    "    # Confine to the range of fjord\n",
    "    state = State.isel(X=range(260), Xp1=range(261), Y=range(35,45), T=range(1,len(State.T)))\n",
    "    grid = Grid.isel(X=range(260), Xp1=range(261), Y=range(35,45))\n",
    "\n",
    "    U = (state.U.data[:,:,:,1:] + state.U.data[:,:,:,:-1]) / 2 # Along-channel velocity\n",
    "    \n",
    "    drF = np.broadcast_to(grid.drF.data[np.newaxis, :, np.newaxis, np.newaxis], U.shape)\n",
    "    dyF = np.broadcast_to(grid.dyF.data[np.newaxis, np.newaxis, :, :], U.shape)\n",
    "    HFacC = np.broadcast_to(grid.HFacC.data[np.newaxis, :, :, :], U.shape)\n",
    "    DA = drF * dyF * HFacC\n",
    "   \n",
    "    t0 = 0 # Starting time index\n",
    "    da = DA[t0:,:,:,1].mean(axis=(0,2))\n",
    "    Ti = state.Temp.data[t0:,:,:,1].mean(axis=(0,2))\n",
    "    Ui = U[t0:,:,:,1].mean(axis=(0,2))\n",
    "    \n",
    "    Tvi = np.sum(Ti*da) / np.sum(da)\n",
    "    return Tvi"
   ]
  },
  {
   "cell_type": "code",
   "execution_count": 4,
   "id": "f04e49de",
   "metadata": {},
   "outputs": [],
   "source": [
    "path1 = '/work/oceans/wbao/MITgcm_results/iceplume/Qsg050hs'\n",
    "path2 = '/work/oceans/wbao/MITgcm_results/iceplume/1_BaseCase' # Qsg=250\n",
    "path3 = '/work/oceans/wbao/MITgcm_results/iceplume/Qsg500hs'\n",
    "\n",
    "caseN = np.array([1,2,3,4,5,6])\n",
    "\n",
    "Qsm1 = np.empty(len(caseN))\n",
    "Tice1 = np.empty(len(caseN))\n",
    "\n",
    "Qsm2 = np.empty(len(caseN))\n",
    "Tice2 = np.empty(len(caseN))\n",
    "\n",
    "Qsm3 = np.empty(len(caseN))\n",
    "Tice3 = np.empty(len(caseN))\n",
    "\n",
    "for i in range(len(caseN)):\n",
    "    \n",
    "    Qsm1[i] = IFA(path1, caseN[i])\n",
    "    Tice1[i] = icefrntT(path1, caseN[i])\n",
    "    \n",
    "    Qsm2[i] = IFA(path2, caseN[i])\n",
    "    Tice2[i] = icefrntT(path2, caseN[i])\n",
    "    \n",
    "    Qsm3[i] = IFA(path3, caseN[i])\n",
    "    Tice3[i] = icefrntT(path3, caseN[i])"
   ]
  },
  {
   "cell_type": "code",
   "execution_count": 5,
   "id": "8a1a6f1f",
   "metadata": {},
   "outputs": [
    {
     "data": {
      "image/png": "[encoded data removed]",
      "text/plain": [
       "<Figure size 360x360 with 1 Axes>"
      ]
     },
     "metadata": {
      "needs_background": "light"
     },
     "output_type": "display_data"
    }
   ],
   "source": [
    "fig1, ax1 = plt.subplots(figsize=(5,5))\n",
    "plt.grid(linestyle = '--', linewidth = 0.5)\n",
    "\n",
    "#plt.axis('square')\n",
    "plt.xticks(fontsize=12)\n",
    "plt.yticks(fontsize=12)\n",
    "plt.xlabel(r'$T_{if}\\;[^\\circ C]$', size=12)\n",
    "plt.ylabel(r'$Q_{sm}\\;[m^3/s]$',size=12)\n",
    "\n",
    "ax1.plot(np.sort(Tice1), np.sort(Qsm1), 'o-', ms=6,lw=2,label=r'$Q_{sg}=50\\;m^3/s$')\n",
    "ax1.plot(np.sort(Tice2), np.sort(Qsm2), 'o-', ms=6,lw=2,label=r'$Q_{sg}=250\\;m^3/s$')\n",
    "ax1.plot(np.sort(Tice3), np.sort(Qsm3), 'o-', ms=6,lw=2,label=r'$Q_{sg}=500\\;m^3/s$')\n",
    "ax1.legend(loc='best', fontsize=12)\n",
    "ax1.tick_params(direction='in', labelsize=12)\n",
    "ax1.set_xlim([9.2, 10])\n",
    "\n",
    "#ax1.set_xticks([0.04, 0.06, 0.08, 0.10, 0.12])\n",
    "plt.show()"
   ]
  },
  {
   "cell_type": "code",
   "execution_count": null,
   "id": "7a54edc2",
   "metadata": {},
   "outputs": [],
   "source": [
    "fig_path =\"/home/1959/Jupyter_Figs/FjordModeling/\"\n",
    "if not os.path.exists(fig_path):\n",
    "    os.makedirs(fig_path)\n",
    "fig1.savefig(fig_path + '/Qsm_Tif.png', dpi=200, bbox_inches='tight') "
   ]
  },
  {
   "cell_type": "code",
   "execution_count": null,
   "id": "92869b93",
   "metadata": {},
   "outputs": [],
   "source": []
  }
 ],
 "metadata": {
  "kernelspec": {
   "display_name": "Python 3 (ipykernel)",
   "language": "python",
   "name": "python3"
  },
  "language_info": {
   "codemirror_mode": {
    "name": "ipython",
    "version": 3
   },
   "file_extension": ".py",
   "mimetype": "text/x-python",
   "name": "python",
   "nbconvert_exporter": "python",
   "pygments_lexer": "ipython3",
   "version": "3.7.11"
  }
 },
 "nbformat": 4,
 "nbformat_minor": 5
}
