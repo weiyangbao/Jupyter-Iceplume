{
 "cells": [
  {
   "cell_type": "code",
   "execution_count": 1,
   "id": "32c576fd",
   "metadata": {},
   "outputs": [],
   "source": [
    "# Along-fjord Layer Properties\n",
    "import xarray as xr\n",
    "import numpy as np\n",
    "import matplotlib.pyplot as plt\n",
    "import os\n",
    "import gsw"
   ]
  },
  {
   "cell_type": "code",
   "execution_count": 2,
   "id": "1e32b721",
   "metadata": {},
   "outputs": [],
   "source": [
    "## Test to identity layer interface\n",
    "File02 = xr.open_dataset('/work/oceans/wbao/MITgcm_results/iceplume/Sal_Linear_minhs/state_001.nc')\n",
    "File2 = File02.isel(T=~File02.get_index(\"T\").duplicated())\n",
    "T0 = 90\n",
    "Tn = len(File2.T)\n",
    "State = File2.isel(X=range(260), Xp1=range(261), Y=range(35,45), Yp1=range(35,45))\n",
    "U = State.U.data.mean(2)\n",
    "u = (U[:,:,1:] + U[:,:,:-1]) / 2\n"
   ]
  },
  {
   "cell_type": "code",
   "execution_count": 15,
   "id": "edadd938",
   "metadata": {},
   "outputs": [
    {
     "data": {
      "text/plain": [
       "(array([-0.0035592 ,  0.00623714,  0.01453831,  0.01350771,  0.01011559,\n",
       "         0.01203448,  0.01676721,  0.02041963,  0.02384619,  0.02508933,\n",
       "         0.02542318,  0.02525112,  0.02457895,  0.02388319,  0.02327915,\n",
       "         0.02204453,  0.02078921,  0.0193368 ,  0.01773637,  0.01585233,\n",
       "         0.01392319,  0.01204393,  0.00977138,  0.00748918,  0.00504984,\n",
       "         0.00259603,  0.00014183, -0.00226288], dtype=float32),\n",
       " array([-0.0035592], dtype=float32))"
      ]
     },
     "execution_count": 15,
     "metadata": {},
     "output_type": "execute_result"
    }
   ],
   "source": [
    "uz = u[80,:,100]\n",
    "l = np.where(uz > 0)[-1]\n",
    "uz[l[0]-1:l[-1]+2]"
   ]
  },
  {
   "cell_type": "code",
   "execution_count": 2,
   "id": "9ca057cf",
   "metadata": {},
   "outputs": [],
   "source": [
    "\n",
    "def DynamicalP(datapath,case_id):\n",
    "      \n",
    "    File1 = xr.open_dataset(datapath + '/grid_' + str(format(case_id,'03d'))  + '.nc')\n",
    "    File02 = xr.open_dataset(datapath + '/state_' + str(format(case_id,'03d')) + '.nc')\n",
    "    File2 = File02.isel(T=~File02.get_index(\"T\").duplicated())\n",
    "    T0 = 90\n",
    "    Tn = len(File2.T)\n",
    "    Grid = File1.isel(X=range(260), Xp1=range(261), Y=range(35,45))\n",
    "    State = File2.isel(X=range(260), Xp1=range(261), Y=range(35,45), Yp1=range(35,45), T=range(T0,Tn))\n",
    "\n",
    "    x = Grid.X.data\n",
    "    z = Grid.Z.data\n",
    "    drF = Grid.drF.data # r cell face separation\n",
    "    HFacC = Grid.HFacC.data.mean(1) # vertical fraction of open cell at cell center\n",
    "    U = State.U.data.mean(axis=(0,2))\n",
    "    u = (U[:, 1:] + U[:, :-1]) / 2\n",
    "    s = State.S.data.mean(axis=(0,2)) # Salinity\n",
    "    pt = State.Temp.data.mean(axis=(0,2)) # Potential temperature\n",
    "    pres = gsw.p_from_z(z, 55)\n",
    "    p = np.tile(pres,[len(x),1]).T\n",
    "    rho = gsw.rho(s, pt, p) # Density\n",
    "    g = 9.81\n",
    "    \n",
    "    Sma = np.ma.masked_where(s==0, s)\n",
    "    s1 = np.empty(len(x))\n",
    "    s2 = np.empty(len(x))\n",
    "    u1 = np.empty(len(x))\n",
    "    u2 = np.empty(len(x))\n",
    "    F1 = np.empty(len(x))\n",
    "    F2 = np.empty(len(x))\n",
    "    L = np.empty(len(x))\n",
    "    for i in range(1,len(x)):\n",
    "        gh = drF * HFacC[:,i] # grid height\n",
    "        meanS = np.abs(Sma[:,i] - (Sma[:,i].max() + Sma[:,i].min()) / 2)\n",
    "        #l = np.argmin(meanS) # index of the layer interface\n",
    "        l = np.where(u[:, i] < 0)[-1][0]\n",
    "        h1 = gh[:l].sum()    \n",
    "        h2 = gh[l+1:].sum()\n",
    "        s1[i] = np.sum(s[:l,i] * gh[:l]) / h1\n",
    "        s2[i] = np.sum(s[l+1:,i] * gh[l+1:]) / h2\n",
    "        u1[i] = np.sum(u[:l,i] * gh[:l]) / h1\n",
    "        u2[i] = np.sum(u[l+1:,i] * gh[l+1:]) / h2\n",
    "        \n",
    "        rho1 = np.sum(rho[:l,i] * gh[:l]) / h1\n",
    "        rho2 = np.sum(rho[l+1:,i] * gh[l+1:]) / h2\n",
    "        gr = g * (rho2-rho1) / rho2 # Reduced gravity\n",
    "        F1[i] = u1[i] / np.sqrt(gr*h1)\n",
    "        F2[i] = u2[i] / np.sqrt(gr*h2)\n",
    "        L[i] = gr\n",
    "    return (s1, s2, u1, u2, F1, F2)"
   ]
  },
  {
   "cell_type": "code",
   "execution_count": 17,
   "id": "bda05b31",
   "metadata": {},
   "outputs": [],
   "source": [
    "# Layer Froude number (surface inflow - & subsurface outflow +)\n",
    "def Froude_r(datapath, case_id, time):\n",
    "      \n",
    "    File1 = xr.open_dataset(datapath + '/grid_' + str(format(case_id,'03d'))  + '.nc')\n",
    "    File02 = xr.open_dataset(datapath + '/state_' + str(format(case_id,'03d')) + '.nc')\n",
    "    File2 = File02.isel(T=~File02.get_index(\"T\").duplicated())\n",
    "    #T0 = 90\n",
    "    #Tn = len(File2.T)\n",
    "    Grid = File1.isel(X=range(260), Xp1=range(261), Y=range(35,45))\n",
    "    State = File2.isel(X=range(260), Xp1=range(261), Y=range(35,45), Yp1=range(35,45))\n",
    "\n",
    "    x = Grid.X.data\n",
    "    z = Grid.Z.data\n",
    "    drF = Grid.drF.data # r cell face separation\n",
    "    HFacC = Grid.HFacC.data.mean(1) # vertical fraction of open cell at cell center\n",
    "    U = State.U.data.mean(2)\n",
    "    u = (U[time, :, 1:] + U[time, :, :-1]) / 2\n",
    "    s = State.S.data[time,:,:,:].mean(1) # Salinity\n",
    "    pt = State.Temp.data[time,:,:,:].mean(1) # Potential temperature\n",
    "    pres = gsw.p_from_z(z, 55)\n",
    "    p = np.tile(pres,[len(x),1]).T\n",
    "    rho = gsw.rho(s, pt, p) # Density\n",
    "    g = 9.81\n",
    "    \n",
    "    s1 = np.empty(len(x))\n",
    "    s2 = np.empty(len(x))\n",
    "    u1 = np.empty(len(x))\n",
    "    u2 = np.empty(len(x))\n",
    "    F1 = np.empty(len(x))\n",
    "    F2 = np.empty(len(x))\n",
    "    \n",
    "    for i in range(1,len(x)):\n",
    "        gh = drF * HFacC[:,i] # grid height\n",
    "        top = np.where(u[:, i] > 0)[-1][0] # Subsurface outflow upper boundary\n",
    "        bot = np.where(u[:, i] > 0)[-1][-1] # Subsurface outflow lower boundary\n",
    "        h1 = gh[:top].sum()    \n",
    "        h2 = gh[top:bot+1].sum()\n",
    "        s1[i] = np.sum(s[:top,i] * gh[:top]) / h1\n",
    "        s2[i] = np.sum(s[top:bot+1,i] * gh[top:bot+1]) / h2\n",
    "        u1[i] = np.sum(u[:top,i] * gh[:top]) / h1\n",
    "        u2[i] = np.sum(u[top:bot+1,i] * gh[top:bot+1]) / h2\n",
    "        \n",
    "        rho1 = np.sum(rho[:top,i] * gh[:top]) / h1\n",
    "        rho2 = np.sum(rho[top:bot+1,i] * gh[top:bot+1]) / h2\n",
    "        gr = g * (rho2-rho1) / rho2 # Reduced gravity\n",
    "        F1[i] = u1[i] / np.sqrt(gr*h1)\n",
    "        F2[i] = u2[i] / np.sqrt(gr*h2)\n",
    "        \n",
    "    return (F1, F2)"
   ]
  },
  {
   "cell_type": "code",
   "execution_count": 3,
   "id": "998409b5",
   "metadata": {},
   "outputs": [],
   "source": [
    "datapath = '/work/oceans/wbao/MITgcm_results/iceplume/1_BaseCase/'\n",
    "case_n = np.array([1,2,3,4,5])\n",
    "hsr = np.array([0.04,0.06,0.08,0.10,0.12])\n",
    "qsg = np.array([100,250,500,1000])\n",
    "dist = xr.open_dataset(datapath + '/state_001.nc').X.data[:260] / 1000\n",
    "\n",
    "Fr1 = np.empty([len(case_n), len(dist)])\n",
    "Fr2 = np.empty([len(case_n), len(dist)])\n",
    "S1 = np.empty([len(case_n), len(dist)])\n",
    "S2 = np.empty([len(case_n), len(dist)])\n",
    "U1 = np.empty([len(case_n), len(dist)])\n",
    "U2 = np.empty([len(case_n), len(dist)])\n",
    "\n",
    "for j in range(len(case_n)):\n",
    "    S1[j,:], S2[j,:], U1[j,:], U2[j,:], Fr1[j,:], Fr2[j,:] = DynamicalP(datapath, case_n[j])\n",
    "    "
   ]
  },
  {
   "cell_type": "code",
   "execution_count": null,
   "id": "67456a73",
   "metadata": {},
   "outputs": [],
   "source": [
    "datapath1 = '/work/oceans/wbao/MITgcm_results/iceplume/2_Qsg_maxhs/'\n",
    "datapath2 = '/work/oceans/wbao/MITgcm_results/iceplume/2_Qsg_minhs/'\n",
    "case_n = np.array([4,5,6])\n",
    "qsg = np.array([250,500,1000])\n",
    "dist = xr.open_dataset(datapath1 + '/state_001.nc').X.data[:260] / 1000\n",
    "\n",
    "Fr11 = np.empty([len(case_n), len(dist)])\n",
    "Fr21 = np.empty([len(case_n), len(dist)])\n",
    "S11 = np.empty([len(case_n), len(dist)])\n",
    "S21 = np.empty([len(case_n), len(dist)])\n",
    "U11 = np.empty([len(case_n), len(dist)])\n",
    "U21 = np.empty([len(case_n), len(dist)])\n",
    "\n",
    "\n",
    "Fr12 = np.empty([len(case_n), len(dist)])\n",
    "Fr22 = np.empty([len(case_n), len(dist)])\n",
    "S12 = np.empty([len(case_n), len(dist)])\n",
    "S22 = np.empty([len(case_n), len(dist)])\n",
    "U12 = np.empty([len(case_n), len(dist)])\n",
    "U22 = np.empty([len(case_n), len(dist)])\n",
    "\n",
    "for j in range(len(case_n)):\n",
    "    S11[j,:], S21[j,:], U11[j,:], U21[j,:], Fr11[j,:], Fr21[j,:] = DynamicalP(datapath1,case_n[j])\n",
    "    S12[j,:], S22[j,:], U12[j,:], U22[j,:], Fr12[j,:], Fr22[j,:] = DynamicalP(datapath2,case_n[j])"
   ]
  },
  {
   "cell_type": "code",
   "execution_count": 9,
   "id": "4a917622",
   "metadata": {},
   "outputs": [
    {
     "data": {
      "image/png": "[encoded data removed]",
      "text/plain": [
       "<Figure size 720x360 with 2 Axes>"
      ]
     },
     "metadata": {
      "needs_background": "light"
     },
     "output_type": "display_data"
    }
   ],
   "source": [
    "x0 = 2\n",
    "Fr1[:,:x0] = 'nan'\n",
    "Fr2[:,:x0] = 'nan'\n",
    "\n",
    "\n",
    "fig1 = plt.figure(figsize=(10,5))\n",
    "fig1.tight_layout()\n",
    "\n",
    "ax1 = fig1.add_subplot(211)\n",
    "ax2 = fig1.add_subplot(212)\n",
    "\n",
    "\n",
    "for k in range(len(case_n)):\n",
    "    ax1.plot(dist,Fr1[k,:],lw=1.5,label=str(hsr[k]))\n",
    "    #ax1.legend(title=r'$h_s/h$',title_fontsize=12,fontsize=12, loc=\"center left\")\n",
    "    ax1.axhline(y=1, color='k',lw=.5)\n",
    "    ax1.axvline(x=dist[120], color='k', linestyle='--')\n",
    "    ax1.axvline(x=dist[235], color='k', linestyle='--')\n",
    "    ax1.set_ylabel(r'Froude Number',size=15)\n",
    "    ax1.set_xlim([10, 20])\n",
    "    ax1.set_ylim([0, 1.3])\n",
    "    ax1.xaxis.set_visible(False) # This erases the y ticks\n",
    "    ax1.tick_params(direction='in',labelsize=15)\n",
    "    ax1.spines['top'].set_visible(False)\n",
    "    ax1.spines['right'].set_visible(False)\n",
    "    ax1.set_title('(a) $Fr_{upper}$', loc='left', size=15, weight='bold')\n",
    "\n",
    "    ax2.plot(dist,-Fr2[k,:],lw=1.5,label=str(hsr[k]))\n",
    "    ax2.legend(title=r'$h_s/h$',title_fontsize=12,fontsize=12, loc=\"right\")\n",
    "    ax2.axhline(y=1, color='k',lw=.5)\n",
    "    ax2.axvline(x=dist[120], color='k', linestyle='--')\n",
    "    ax2.axvline(x=dist[235], color='k', linestyle='--')\n",
    "    ax2.set_ylabel(r'Froude Number',size=15)\n",
    "    ax2.set_xlabel(r'Along-fjord Distance [km]',size=15)\n",
    "    ax2.set_xlim([10, 20])\n",
    "    ax2.set_xticks([10, 15, 20])\n",
    "    ax2.set_xticklabels([\"-5\",\"0\",\"5\"])\n",
    "    ax2.set_ylim([0, 1.3])\n",
    "    ax2.tick_params(direction='in',labelsize=15)\n",
    "    ax2.spines['top'].set_visible(False)\n",
    "    ax2.spines['right'].set_visible(False)\n",
    "    ax2.set_title('(b) $Fr_{lower}$', loc='left', size=15, weight='bold')\n",
    "\n",
    "# Add section name\n",
    "ax1.text(dist[121],1.1,'S1',fontsize=15)\n",
    "ax1.text(dist[236],1.1,'S2',fontsize=15)\n",
    "ax2.text(dist[121],1.1,'S1',fontsize=15)\n",
    "ax2.text(dist[236],1.1,'S2',fontsize=15)\n",
    "\n",
    "plt.subplots_adjust(left=0.1,\n",
    "                    bottom=0.1, \n",
    "                    right=0.9, \n",
    "                    top=0.9, \n",
    "                    wspace=0.3, \n",
    "                    hspace=0.4)\n",
    "plt.show()    "
   ]
  },
  {
   "cell_type": "code",
   "execution_count": null,
   "id": "67ff7378",
   "metadata": {},
   "outputs": [],
   "source": [
    "# x0 = 2\n",
    "# Fr11[:,:x0] = 'nan'\n",
    "# Fr21[:,:x0] = 'nan'\n",
    "\n",
    "\n",
    "fig2 = plt.figure(figsize=(10,5))\n",
    "fig2.tight_layout()\n",
    "\n",
    "ax1 = fig2.add_subplot(211)\n",
    "ax2 = fig2.add_subplot(212)\n",
    "\n",
    "\n",
    "for k in range(len(case_n)):\n",
    "    ax1.plot(dist,-Fr21[k,:],lw=1.5,label=str(qsg[k]))\n",
    "    #ax1.legend(title=r'$h_s/h$',title_fontsize=12,fontsize=12, loc=\"center left\")\n",
    "    ax1.axhline(y=1, color='k',lw=.5)\n",
    "    ax1.axvline(x=dist[120], color='k', linestyle='--')\n",
    "    ax1.axvline(x=dist[235], color='k', linestyle='--')\n",
    "    ax1.set_ylabel(r'$Fr_{lower}$',size=15)\n",
    "    ax1.set_xlim([10, 20])\n",
    "    ax1.set_ylim([0, 1.5])\n",
    "    ax1.xaxis.set_visible(False) # This erases the y ticks\n",
    "    ax1.tick_params(direction='in',labelsize=15)\n",
    "    ax1.spines['top'].set_visible(False)\n",
    "    ax1.spines['right'].set_visible(False)\n",
    "    ax1.set_title('(a) $h_s/h=0.12$', loc='left', size=15, weight='bold')\n",
    "    \n",
    "    ax2.plot(dist,-Fr22[k,:],lw=1.5,label=str(qsg[k]))\n",
    "    ax2.legend(title=r'$Q_{sg} [m^3/s]$',title_fontsize=12,fontsize=12, loc=\"right\")\n",
    "    ax2.axhline(y=1, color='k',lw=.5)\n",
    "    ax2.axvline(x=dist[120], color='k', linestyle='--')\n",
    "    ax2.axvline(x=dist[235], color='k', linestyle='--')\n",
    "    ax2.set_ylabel(r'$Fr_{lower}$',size=15)\n",
    "    ax2.set_xlabel(r'Along-fjord Distance [km]',size=15)\n",
    "    ax2.set_xlim([10, 20])\n",
    "    ax2.set_xticks([10, 15, 20])\n",
    "    ax2.set_xticklabels([\"-5\",\"0\",\"5\"])\n",
    "    ax2.set_ylim([0, 1.5])\n",
    "    ax2.tick_params(direction='in',labelsize=15)\n",
    "    ax2.spines['top'].set_visible(False)\n",
    "    ax2.spines['right'].set_visible(False)\n",
    "    ax2.set_title('(b) $h_s/h=0.04$', loc='left', size=15, weight='bold')\n",
    "      \n",
    "plt.show()    "
   ]
  },
  {
   "cell_type": "code",
   "execution_count": 31,
   "id": "6612be36",
   "metadata": {},
   "outputs": [],
   "source": [
    "# Examine Froude number for the Stratification cases\n",
    "datapath = '/work/oceans/wbao/MITgcm_results/iceplume/Sal_Linear_minhs/'\n",
    "case_n = 1\n",
    "dist = xr.open_dataset(datapath + '/state_001.nc').X.data[:260] / 1000\n",
    "\n",
    "#Fr1 = np.empty([len(case_n), len(dist)])\n",
    "#Fr2 = np.empty([len(case_n), len(dist)])\n",
    "\n",
    "fr1, fr2 = Froude_r(datapath, case_n, 100)\n"
   ]
  },
  {
   "cell_type": "code",
   "execution_count": 30,
   "id": "091d25d4",
   "metadata": {},
   "outputs": [
    {
     "data": {
      "text/plain": [
       "6.94153776203505e-310"
      ]
     },
     "execution_count": 30,
     "metadata": {},
     "output_type": "execute_result"
    }
   ],
   "source": [
    "fr1.max()"
   ]
  },
  {
   "cell_type": "code",
   "execution_count": 32,
   "id": "f1a0e53c",
   "metadata": {},
   "outputs": [
    {
     "data": {
      "image/png": "[encoded data removed]",
      "text/plain": [
       "<Figure size 720x216 with 1 Axes>"
      ]
     },
     "metadata": {
      "needs_background": "light"
     },
     "output_type": "display_data"
    }
   ],
   "source": [
    "# Making plot for the Stratification cases\n",
    "fig3 = plt.figure(figsize=(10,3))\n",
    "fig3.tight_layout()\n",
    "\n",
    "ax1 = fig3.add_subplot(111)\n",
    "\n",
    "\n",
    "ax1.plot(dist,fr1,lw=1.5,label=r'Fr1')\n",
    "ax1.plot(dist,fr2,lw=1.5,label=r'Fr2')\n",
    "ax1.legend(fontsize=12, loc=\"best\")\n",
    "ax1.axhline(y=1, color='k',lw=.5)\n",
    "ax1.axvline(x=dist[120], color='k', linestyle='--')\n",
    "ax1.axvline(x=dist[235], color='k', linestyle='--')\n",
    "ax1.set_ylabel(r'Froude Number',size=15)\n",
    "ax1.set_xlim([10, 20])\n",
    "ax1.set_ylim([0, 1.3])\n",
    "ax1.xaxis.set_visible(False) # This erases the y ticks\n",
    "ax1.tick_params(direction='in',labelsize=15)\n",
    "ax1.spines['top'].set_visible(False)\n",
    "ax1.spines['right'].set_visible(False)\n",
    "#ax1.set_title('(a) $Fr_{upper}$', loc='left', size=15, weight='bold')\n",
    "plt.show()"
   ]
  },
  {
   "cell_type": "code",
   "execution_count": 10,
   "id": "a313364b",
   "metadata": {},
   "outputs": [],
   "source": [
    "fig_path =\"/home/1959/Jupyter_Figs/FjordModeling/\"\n",
    "if not os.path.exists(fig_path):\n",
    "    os.makedirs(fig_path)\n",
    "fig1.savefig(fig_path + '/3-Froude.png', dpi=300, bbox_inches='tight') \n",
    "#fig2.savefig(fig_path + '/Qsg-Froude.png', dpi=200, bbox_inches='tight') "
   ]
  },
  {
   "cell_type": "code",
   "execution_count": null,
   "id": "0cfa3a6e",
   "metadata": {},
   "outputs": [],
   "source": []
  }
 ],
 "metadata": {
  "kernelspec": {
   "display_name": "Python 3 (ipykernel)",
   "language": "python",
   "name": "python3"
  },
  "language_info": {
   "codemirror_mode": {
    "name": "ipython",
    "version": 3
   },
   "file_extension": ".py",
   "mimetype": "text/x-python",
   "name": "python",
   "nbconvert_exporter": "python",
   "pygments_lexer": "ipython3",
   "version": "3.7.11"
  }
 },
 "nbformat": 4,
 "nbformat_minor": 5
}
