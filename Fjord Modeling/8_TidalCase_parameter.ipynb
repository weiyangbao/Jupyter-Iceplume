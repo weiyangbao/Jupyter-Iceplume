{
 "cells": [
  {
   "cell_type": "code",
   "execution_count": 1,
   "id": "d61ffb7e",
   "metadata": {},
   "outputs": [],
   "source": [
    "# Obtain parameters in Tidal Cases\n",
    "import xarray as xr\n",
    "import numpy as np\n",
    "import os\n",
    "import matplotlib.pyplot as plt"
   ]
  },
  {
   "cell_type": "code",
   "execution_count": 2,
   "id": "d9d877b9",
   "metadata": {},
   "outputs": [],
   "source": [
    "# Melting flux at ice front\n",
    "def IFA(case_path, case_id):\n",
    "    # Grid areas    \n",
    "    Area = np.empty([90, 10])\n",
    "    Area[:20,:] = 400\n",
    "    Area[20:50,:] = 800\n",
    "    Area[50:,:] = 1200\n",
    "\n",
    "    file0 = xr.open_dataset(case_path + '/icefrntA_' + str(format(case_id,'03d')) + '.nc')\n",
    "    t0 = 89\n",
    "    #tn = 120\n",
    "    # removed duplicated data caused by model restart\n",
    "    file = file0.isel(T=~file0.get_index(\"T\").duplicated())\n",
    "    state = file.isel(Y=range(35,45), T=range(t0,len(file.T)))\n",
    "    \n",
    "    MR = state.icefrntA.isel(X=1).data.mean(0) # Melt rate at the icefront\n",
    "    Qsm = (MR*Area).sum()/(24*3600)\n",
    "    return Qsm"
   ]
  },
  {
   "cell_type": "code",
   "execution_count": 3,
   "id": "ad92c4ca",
   "metadata": {},
   "outputs": [],
   "source": [
    "# Water temperature at ice front\n",
    "def icefrntT(case_path, case_id):\n",
    "    File1 = xr.open_dataset(case_path + '/state_' + str(format(case_id,'03d')) + '.nc')\n",
    "    Grid = xr.open_dataset(case_path + '/grid_' + str(format(case_id,'03d')) + '.nc')  \n",
    "    State = File1.isel(T=~File1.get_index(\"T\").duplicated())\n",
    "    \n",
    "    # Confine to the range of fjord\n",
    "    state = State.isel(X=range(260), Xp1=range(261), Y=range(35,45), T=range(1,len(State.T)))\n",
    "    grid = Grid.isel(X=range(260), Xp1=range(261), Y=range(35,45))\n",
    "\n",
    "    U = (state.U.data[:,:,:,1:] + state.U.data[:,:,:,:-1]) / 2 # Along-channel velocity\n",
    "    \n",
    "    drF = np.broadcast_to(grid.drF.data[np.newaxis, :, np.newaxis, np.newaxis], U.shape)\n",
    "    dyF = np.broadcast_to(grid.dyF.data[np.newaxis, np.newaxis, :, :], U.shape)\n",
    "    HFacC = np.broadcast_to(grid.HFacC.data[np.newaxis, :, :, :], U.shape)\n",
    "    DA = drF * dyF * HFacC\n",
    "   \n",
    "    t0 = 89 # Starting time index\n",
    "    da = DA[t0:,:,:,1].mean(axis=(0,2))\n",
    "    Ti = state.Temp.data[t0:,:,:,1].mean(axis=(0,2))\n",
    "    Ui = U[t0:,:,:,1].mean(axis=(0,2))\n",
    "    \n",
    "    Tvi = np.sum(Ti*da) / np.sum(da)\n",
    "    return Tvi"
   ]
  },
  {
   "cell_type": "code",
   "execution_count": 4,
   "id": "592815a4",
   "metadata": {},
   "outputs": [],
   "source": [
    "path1 = '/work/oceans/wbao/MITgcm_results/iceplume/6_Tide_minhs'\n",
    "path2 = '/work/oceans/wbao/MITgcm_results/iceplume/weak_Tide_minhs' # Qsg=250\n",
    "\n",
    "\n",
    "caseN1 = np.array([1,2,3,4,5])\n",
    "Qsm1 = np.empty(len(caseN1))\n",
    "Tice1 = np.empty(len(caseN1))\n",
    "\n",
    "caseN2 = np.array([1,2,3])\n",
    "Qsm2 = np.empty(len(caseN2))\n",
    "Tice2 = np.empty(len(caseN2))\n",
    "\n",
    "for i in range(len(caseN1)):\n",
    "    \n",
    "    Qsm1[i] = IFA(path1, caseN1[i])\n",
    "    Tice1[i] = icefrntT(path1, caseN1[i])\n",
    "\n",
    "    \n",
    "for j in range(len(caseN2)):\n",
    "    \n",
    "    Qsm2[j] = IFA(path2, caseN2[j])\n",
    "    Tice2[j] = icefrntT(path2, caseN2[j])"
   ]
  },
  {
   "cell_type": "code",
   "execution_count": 5,
   "id": "119fe81c",
   "metadata": {},
   "outputs": [
    {
     "data": {
      "text/plain": [
       "(array([10.50572368, 10.50575029, 10.50595349]),\n",
       " array([10.50802133, 10.513916  , 10.52046552, 10.52912766, 10.53589816]),\n",
       " array([9.22971705, 9.2296666 , 9.22960501]),\n",
       " array([9.22936504, 9.22905646, 9.22889948, 9.22878582, 9.22874417]))"
      ]
     },
     "execution_count": 5,
     "metadata": {},
     "output_type": "execute_result"
    }
   ],
   "source": [
    "Qsm2, Qsm1, Tice2, Tice1"
   ]
  },
  {
   "cell_type": "code",
   "execution_count": 6,
   "id": "e4a5626a",
   "metadata": {},
   "outputs": [],
   "source": [
    "file1 = xr.open_dataset('/home/1959/Parameters/FjordModeling/4_wTide_minhs.nc')\n",
    "file2 = xr.open_dataset('/home/1959/Parameters/FjordModeling/4_sTide_minhs.nc')\n",
    "\n",
    "a11 = np.concatenate([file1.alpha11.data, file2.alpha11.data[:2]])\n",
    "a22 = np.concatenate([file1.alpha22.data, file2.alpha22.data[:2]])\n",
    "\n",
    "Qin1 = np.concatenate([file1.Qin1.data, file2.Qin1.data[:2]])\n",
    "Qin1_adj = np.concatenate([file1.Qin1_adj.data, file2.Qin1_adj.data[:2]])\n",
    "\n",
    "Qin2 = np.concatenate([file1.Qin2.data, file2.Qin2.data[:2]])\n",
    "Qin2_adj = np.concatenate([file1.Qin2_adj.data, file2.Qin2_adj.data[:2]])\n",
    "\n",
    "Qout1 = np.concatenate([file1.Qout1.data, file2.Qout1.data[:2]])\n",
    "Qout1_adj = np.concatenate([file1.Qout1_adj.data, file2.Qout1_adj.data[:2]])\n",
    "\n",
    "Qout2 = np.concatenate([file1.Qout2.data, file2.Qout2.data[:2]])\n",
    "Qout2_adj = np.concatenate([file1.Qout2_adj.data, file2.Qout2_adj.data[:2]])\n",
    "\n",
    "Ts_in = np.concatenate([file1.Ts_in.data, file2.Ts_in.data[:2]])\n",
    "Ts = np.concatenate([file1.Ts.data, file2.Ts.data[:2]])\n",
    "Tf = np.concatenate([file1.Tf.data, file2.Tf.data[:2]])\n",
    "\n",
    "Qsm = np.concatenate([file1.Qsm.data, file2.Qsm.data[:2]])"
   ]
  },
  {
   "cell_type": "code",
   "execution_count": 35,
   "id": "ca572eb1",
   "metadata": {},
   "outputs": [
    {
     "data": {
      "text/plain": [
       "(array([0.714578  , 0.71510556, 0.71483592, 0.72686785, 0.74121893]),\n",
       " array([0.04379473, 0.04338967, 0.04361214, 0.16954694, 0.27852152]),\n",
       " array([0.7228594 , 0.72359805, 0.72340441, 0.69702291, 0.67211946]))"
      ]
     },
     "execution_count": 35,
     "metadata": {},
     "output_type": "execute_result"
    }
   ],
   "source": [
    "#(Qin1_adj+Qout1_adj)/2, (Qin2+Qout2)/2, (Qin1-Qout2), (Qin1-Qout2)/Qin1*100\n",
    "a11, a22, (Qout1-Qin2)/Qout1"
   ]
  },
  {
   "cell_type": "code",
   "execution_count": 15,
   "id": "4db8570c",
   "metadata": {},
   "outputs": [
    {
     "data": {
      "text/plain": [
       "(array([95.93566617, 95.93500417, 95.93385365, 95.92938498, 95.91650881]),\n",
       " array([9.91612748, 9.91593574, 9.91578743, 9.91676165, 9.92117721]))"
      ]
     },
     "execution_count": 15,
     "metadata": {},
     "output_type": "execute_result"
    }
   ],
   "source": [
    "Ts/Ts_in*100, Qsm"
   ]
  },
  {
   "cell_type": "code",
   "execution_count": 16,
   "id": "5e154b7e",
   "metadata": {},
   "outputs": [],
   "source": [
    "file3 = xr.open_dataset('/home/1959/Parameters/FjordModeling/1_BaseCase.nc')\n",
    "a11b = file3.alpha11.data\n",
    "Qin1b = file3.Qin1.data\n",
    "Qin2b = file3.Qin2.data\n",
    "Qout1b = file3.Qout1.data\n",
    "Qout2b = file3.Qout2.data\n",
    "Qsmb = file3.Qsm.data\n",
    "Tsb = file3.Ts.data\n",
    "Ts_inb = file3.Ts_in.data"
   ]
  },
  {
   "cell_type": "code",
   "execution_count": 18,
   "id": "79935959",
   "metadata": {},
   "outputs": [
    {
     "data": {
      "text/plain": [
       "(array([0.71530895, 0.56250147, 0.42047409, 0.29042472, 0.17951959,\n",
       "        0.01136236]),\n",
       " array([2548.01896578, 3872.47116847, 4963.0527807 , 5844.6496557 ,\n",
       "        6406.33548218, 7160.25633201]),\n",
       " array([6352.33882864, 5071.81799796, 3838.21230657, 2775.84609344,\n",
       "        1630.28540874,  -64.18643813]),\n",
       " array([95.93627934, 97.44680653, 98.30763666, 98.88812863, 99.27479804,\n",
       "        99.99391302]),\n",
       " array([ 9.91626286, 10.31809511, 10.35915423, 10.51910725, 10.86113773,\n",
       "         9.29910293]))"
      ]
     },
     "execution_count": 18,
     "metadata": {},
     "output_type": "execute_result"
    }
   ],
   "source": [
    "a11b, (Qin2b+Qout2b)/2, Qin1b-Qout2b, Tsb/Ts_inb*100, Qsmb"
   ]
  },
  {
   "cell_type": "code",
   "execution_count": 31,
   "id": "3ee53c8c",
   "metadata": {},
   "outputs": [],
   "source": [
    "case_path = '/work/oceans/wbao/MITgcm_results/iceplume/6_Tide_minhs'\n",
    "case_id = 5\n",
    "State0 = xr.open_dataset(case_path + '/state_' + str(format(case_id,'03d')) + '.nc')\n",
    "State = State0.isel(T=~State0.get_index(\"T\").duplicated())\n",
    "state = State.isel(X=range(260), Xp1=range(261), Y=range(35,45), T=range(1,len(State.T)))\n",
    "eta = state.Eta.data"
   ]
  },
  {
   "cell_type": "code",
   "execution_count": 32,
   "id": "e3b96b7d",
   "metadata": {},
   "outputs": [
    {
     "data": {
      "text/plain": [
       "(1.1163096, 0.0, 0.54295653)"
      ]
     },
     "execution_count": 32,
     "metadata": {},
     "output_type": "execute_result"
    }
   ],
   "source": [
    "eta.max(), eta.min(), eta.mean()"
   ]
  },
  {
   "cell_type": "code",
   "execution_count": null,
   "id": "0f177ded",
   "metadata": {},
   "outputs": [],
   "source": []
  }
 ],
 "metadata": {
  "kernelspec": {
   "display_name": "Python 3 (ipykernel)",
   "language": "python",
   "name": "python3"
  },
  "language_info": {
   "codemirror_mode": {
    "name": "ipython",
    "version": 3
   },
   "file_extension": ".py",
   "mimetype": "text/x-python",
   "name": "python",
   "nbconvert_exporter": "python",
   "pygments_lexer": "ipython3",
   "version": "3.7.11"
  }
 },
 "nbformat": 4,
 "nbformat_minor": 5
}
