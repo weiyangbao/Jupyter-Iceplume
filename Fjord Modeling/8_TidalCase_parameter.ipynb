{
 "cells": [
  {
   "cell_type": "code",
   "execution_count": 1,
   "id": "d61ffb7e",
   "metadata": {},
   "outputs": [],
   "source": [
    "# Obtain parameters in Tidal Cases\n",
    "import xarray as xr\n",
    "import numpy as np\n",
    "import os\n",
    "import matplotlib.pyplot as plt"
   ]
  },
  {
   "cell_type": "code",
   "execution_count": null,
   "id": "d9d877b9",
   "metadata": {},
   "outputs": [],
   "source": [
    "# Melting flux at ice front\n",
    "def IFA(case_path, case_id):\n",
    "    # Grid areas    \n",
    "    Area = np.empty([90, 10])\n",
    "    Area[:20,:] = 400\n",
    "    Area[20:50,:] = 800\n",
    "    Area[50:,:] = 1200\n",
    "\n",
    "    file0 = xr.open_dataset(case_path + '/icefrntA_' + str(format(case_id,'03d')) + '.nc')\n",
    "    t0 = 89\n",
    "    #tn = 120\n",
    "    # removed duplicated data caused by model restart\n",
    "    file = file0.isel(T=~file0.get_index(\"T\").duplicated())\n",
    "    state = file.isel(Y=range(35,45), T=range(t0,len(file.T)))\n",
    "    \n",
    "    MR = state.icefrntA.isel(X=1).data.mean(0) # Melt rate at the icefront\n",
    "    Qsm = (MR*Area).sum()/(24*3600)\n",
    "    return Qsm"
   ]
  },
  {
   "cell_type": "code",
   "execution_count": null,
   "id": "ad92c4ca",
   "metadata": {},
   "outputs": [],
   "source": [
    "# Water temperature at ice front\n",
    "def icefrntT(case_path, case_id):\n",
    "    File1 = xr.open_dataset(case_path + '/state_' + str(format(case_id,'03d')) + '.nc')\n",
    "    Grid = xr.open_dataset(case_path + '/grid_' + str(format(case_id,'03d')) + '.nc')  \n",
    "    State = File1.isel(T=~File1.get_index(\"T\").duplicated())\n",
    "    \n",
    "    # Confine to the range of fjord\n",
    "    state = State.isel(X=range(260), Xp1=range(261), Y=range(35,45), T=range(1,len(State.T)))\n",
    "    grid = Grid.isel(X=range(260), Xp1=range(261), Y=range(35,45))\n",
    "\n",
    "    U = (state.U.data[:,:,:,1:] + state.U.data[:,:,:,:-1]) / 2 # Along-channel velocity\n",
    "    \n",
    "    drF = np.broadcast_to(grid.drF.data[np.newaxis, :, np.newaxis, np.newaxis], U.shape)\n",
    "    dyF = np.broadcast_to(grid.dyF.data[np.newaxis, np.newaxis, :, :], U.shape)\n",
    "    HFacC = np.broadcast_to(grid.HFacC.data[np.newaxis, :, :, :], U.shape)\n",
    "    DA = drF * dyF * HFacC\n",
    "   \n",
    "    t0 = 89 # Starting time index\n",
    "    da = DA[t0:,:,:,1].mean(axis=(0,2))\n",
    "    Ti = state.Temp.data[t0:,:,:,1].mean(axis=(0,2))\n",
    "    Ui = U[t0:,:,:,1].mean(axis=(0,2))\n",
    "    \n",
    "    Tvi = np.sum(Ti*da) / np.sum(da)\n",
    "    return Tvi"
   ]
  },
  {
   "cell_type": "code",
   "execution_count": 5,
   "id": "afc09c75",
   "metadata": {},
   "outputs": [],
   "source": [
    "# Used to compare with processed TEF/reflux outputs\n",
    "def Layer_Properties(datapath,case_id, xi):\n",
    "      \n",
    "    File1 = xr.open_dataset(datapath + '/grid_' + str(format(case_id,'03d'))  + '.nc')\n",
    "    File02 = xr.open_dataset(datapath + '/state_' + str(format(case_id,'03d')) + '.nc')\n",
    "    File2 = File02.isel(T=~File02.get_index(\"T\").duplicated())\n",
    "    T0 = 89\n",
    "    Tn = len(File2.T)\n",
    "    Grid = File1.isel(X=range(260), Xp1=range(261), Y=range(35,45))\n",
    "    State = File2.isel(X=range(260), Xp1=range(261), Y=range(35,45), Yp1=range(35,45), T=range(T0,Tn))\n",
    "\n",
    "    x = Grid.X.data\n",
    "    z = Grid.Z.data\n",
    "    drF = Grid.drF.data # r cell face separation\n",
    "    HFacC = Grid.HFacC.data.mean(1) # vertical fraction of open cell at cell center\n",
    "    U = State.U.data.mean(axis=(0,2))\n",
    "    u = (U[:, 1:] + U[:, :-1]) / 2\n",
    "    s = State.S.data.mean(axis=(0,2)) # Salinity\n",
    "    \n",
    "    Sma = np.ma.masked_where(s==0, s)\n",
    "    s1 = np.empty(len(xi))\n",
    "    s2 = np.empty(len(xi))\n",
    "    q1 = np.empty(len(xi))\n",
    "    q2 = np.empty(len(xi))\n",
    "\n",
    "    for i in range(len(xi)):\n",
    "        gh = drF * HFacC[:,xi[i]] # grid height\n",
    "        #meanS = np.abs(Sma[:,i] - (Sma[:,i].max() + Sma[:,i].min()) / 2)\n",
    "        #l = np.argmin(meanS) # index of the layer interface\n",
    "        l = np.where(u[:, xi[i]] < 0)[-1][0]\n",
    "        h1 = gh[:l].sum()    \n",
    "        h2 = gh[l+1:].sum()\n",
    "        s1[i] = np.sum(s[:l,xi[i]] * gh[:l]) / h1\n",
    "        s2[i] = np.sum(s[l+1:,xi[i]] * gh[l+1:]) / h2\n",
    "        q1[i] = np.sum(u[:l,xi[i]] * gh[:l]) * 2000\n",
    "        q2[i] = np.sum(u[l+1:,xi[i]] * gh[l+1:]) * 2000\n",
    "        \n",
    "    return (s1, s2, q1, q2)"
   ]
  },
  {
   "cell_type": "code",
   "execution_count": 33,
   "id": "e62fb17b",
   "metadata": {},
   "outputs": [],
   "source": [
    "#path4 = '/work/oceans/wbao/MITgcm_results/iceplume/6_Tide_minhs' # tides 5 cases\n",
    "path4 = '/work/oceans/wbao/MITgcm_results/iceplume/6_sTide_minhs' # strong tides 9 cases\n",
    "case = np.array([1, 2, 3, 5, 10])\n",
    "#case = np.array([1, 2, 3, 4, 5])\n",
    "xrange = np.array([120,235]) # X index range for the sill segment\n",
    "\n",
    "Qup1 = np.empty(len(case))\n",
    "Qdown1 = np.empty(len(case))\n",
    "Qup2 = np.empty(len(case))\n",
    "Qdown2 = np.empty(len(case))\n",
    "\n",
    "Sup1 = np.empty(len(case))\n",
    "Sdown1 = np.empty(len(case))\n",
    "Sup2 = np.empty(len(case))\n",
    "Sdown2 = np.empty(len(case))\n",
    "\n",
    "for j in range(len(case)):\n",
    "\n",
    "    Sup, Sdown, Qup, Qdown,  = Layer_Properties(path4,case[j], xrange)\n",
    "    \n",
    "    Qup1[j] = Qup[0]\n",
    "    Qup2[j] = Qup[-1]\n",
    "    Qdown1[j] = Qdown[0]\n",
    "    Qdown2[j] = Qdown[-1]\n",
    "    Sup1[j] = Sup[0]\n",
    "    Sup2[j] = Sup[-1]\n",
    "    Sdown1[j] = Sdown[0]\n",
    "    Sdown2[j] = Sdown[-1]"
   ]
  },
  {
   "cell_type": "code",
   "execution_count": 34,
   "id": "4a6c5296",
   "metadata": {},
   "outputs": [
    {
     "data": {
      "text/plain": [
       "-0.6878438772388767"
      ]
     },
     "execution_count": 34,
     "metadata": {},
     "output_type": "execute_result"
    }
   ],
   "source": [
    "#Qup1, Qup2, -Qdown1, -Qdown2, Sup1, Sup2, Sdown1, Sdown2\n",
    "idx = -1\n",
    "(Qup1[idx]-Qup2[idx]), -Qdown1[idx]*(Sdown2[idx]-Sdown1[idx])/(Qup1[idx]*(Sdown2[idx]-Sup1[idx])),\n",
    "Qup2[idx]*(Sup2[idx]-Sup1[idx])/(-Qdown2[idx]*(Sdown2[idx]-Sup1[idx]))"
   ]
  },
  {
   "cell_type": "code",
   "execution_count": null,
   "id": "592815a4",
   "metadata": {},
   "outputs": [],
   "source": [
    "path1 = '/work/oceans/wbao/MITgcm_results/iceplume/6_Tide_minhs'\n",
    "path2 = '/work/oceans/wbao/MITgcm_results/iceplume/weak_Tide_minhs' # Qsg=250\n",
    "\n",
    "\n",
    "caseN1 = np.array([1,2,3,4,5])\n",
    "Qsm1 = np.empty(len(caseN1))\n",
    "Tice1 = np.empty(len(caseN1))\n",
    "\n",
    "caseN2 = np.array([1,2,3])\n",
    "Qsm2 = np.empty(len(caseN2))\n",
    "Tice2 = np.empty(len(caseN2))\n",
    "\n",
    "for i in range(len(caseN1)):\n",
    "    \n",
    "    Qsm1[i] = IFA(path1, caseN1[i])\n",
    "    Tice1[i] = icefrntT(path1, caseN1[i])\n",
    "\n",
    "    \n",
    "for j in range(len(caseN2)):\n",
    "    \n",
    "    Qsm2[j] = IFA(path2, caseN2[j])\n",
    "    Tice2[j] = icefrntT(path2, caseN2[j])"
   ]
  },
  {
   "cell_type": "code",
   "execution_count": null,
   "id": "119fe81c",
   "metadata": {},
   "outputs": [],
   "source": [
    "Qsm2, Qsm1, Tice2, Tice1"
   ]
  },
  {
   "cell_type": "code",
   "execution_count": 3,
   "id": "07990bb4",
   "metadata": {},
   "outputs": [],
   "source": [
    "file1 = xr.open_dataset('/home/1959/Parameters/FjordModeling/Tide01.nc') # weak tides * 3\n",
    "file2 = xr.open_dataset('/home/1959/Parameters/FjordModeling/Tide02.nc') # tides * 5\n",
    "file3 = xr.open_dataset('/home/1959/Parameters/FjordModeling/Tide03.nc') # strong tides * 9\n",
    "fileU0 = np.array([1e-2, 2e-2, 3e-2, 5e-2, 6e-2, 7e-2, 8e-2, 9e-2, 1e-1])\n",
    "a11 = np.concatenate([file1.alpha11.data, file2.alpha11.data, file3.alpha11.data])\n",
    "a22 = np.concatenate([file1.alpha22.data, file2.alpha22.data, file3.alpha22.data])\n",
    "\n",
    "Qin1 = np.concatenate([file1.Qin1.data, file2.Qin1.data, file3.Qin1.data])\n",
    "Qin1_adj = np.concatenate([file1.Qin1_adj.data, file2.Qin1_adj.data, file3.Qin1_adj.data])\n",
    "\n",
    "Qin2 = np.concatenate([file1.Qin2.data, file2.Qin2.data, file3.Qin2.data])\n",
    "Qin2_adj = np.concatenate([file1.Qin2_adj.data, file2.Qin2_adj.data, file3.Qin2_adj.data])\n",
    "\n",
    "Qout1 = np.concatenate([file1.Qout1.data, file2.Qout1.data, file3.Qout1.data])\n",
    "Qout1_adj = np.concatenate([file1.Qout1_adj.data, file2.Qout1_adj.data, file3.Qout1_adj.data])\n",
    "\n",
    "Qout2 = np.concatenate([file1.Qout2.data, file2.Qout2.data, file3.Qout2.data])\n",
    "Qout2_adj = np.concatenate([file1.Qout2_adj.data, file2.Qout2_adj.data, file3.Qout2_adj.data])\n",
    "\n",
    "Ts_in = np.concatenate([file1.Ts_in.data, file2.Ts_in.data, file3.Ts_in.data])\n",
    "Ts = np.concatenate([file1.Ts.data, file2.Ts.data, file3.Ts.data])\n",
    "Tf = np.concatenate([file1.Tf.data, file2.Tf.data, file3.Tf.data])\n",
    "\n",
    "Qsm = np.concatenate([file1.Qsm.data, file2.Qsm.data, file3.Qsm.data])"
   ]
  },
  {
   "cell_type": "code",
   "execution_count": 4,
   "id": "05a9f4c2",
   "metadata": {},
   "outputs": [
    {
     "data": {
      "text/plain": [
       "(array([0.714578  , 0.71510556, 0.71483592, 0.72686785, 0.74121893,\n",
       "        0.74971925, 0.76033412, 0.76944392, 0.80404705,        nan,\n",
       "               nan,        nan,        nan,        nan,        nan,\n",
       "               nan,        nan]),\n",
       " array([0.04379473, 0.04338967, 0.04361214, 0.16954694, 0.27852152,\n",
       "        0.36469475, 0.42617604, 0.48368894, 0.67170154,        nan,\n",
       "               nan,        nan,        nan,        nan,        nan,\n",
       "               nan,        nan]),\n",
       " array([0.70277548, 0.70344345, 0.70310735, 0.67694333, 0.65246778,\n",
       "        0.62301338, 0.60430422, 0.58125379, 0.46698783, 0.33123252,\n",
       "        0.17610844, 0.13322018, 0.21017625, 0.23734492, 0.28466557,\n",
       "        0.31458973, 0.23911683]),\n",
       " array([ 6329.56148222,  6347.55159965,  6339.53758782,  6104.48178636,\n",
       "         5966.36378861,  5719.40729499,  5712.3838591 ,  5594.89984592,\n",
       "         4851.71897906,  4099.58097071,  2469.06566866,  2526.82063983,\n",
       "         5228.62158002,  6510.88512667,  9126.05378112, 11154.19859146,\n",
       "         8020.19063101]),\n",
       " array([ 9006.52014461,  9023.54211012,  9016.45760721,  9017.71460612,\n",
       "         9144.30414309,  9180.23190909,  9452.82799994,  9625.57145544,\n",
       "        10389.39060867, 12376.74671387, 14020.14407861, 18967.25067576,\n",
       "        24877.31941279, 27432.16576138, 32058.86034556, 35456.33447617,\n",
       "        33540.88776429]),\n",
       " array([ 2676.9586624 ,  2675.99051047,  2676.9200194 ,  2913.23281976,\n",
       "         3177.94035448,  3460.8246141 ,  3740.44414084,  4030.67160952,\n",
       "         5537.67162962,  8277.16574316, 11551.07840996, 16440.43003593,\n",
       "        19648.69783277, 20921.28063471, 22932.80656444, 24302.13588471,\n",
       "        25520.69713328]))"
      ]
     },
     "execution_count": 4,
     "metadata": {},
     "output_type": "execute_result"
    }
   ],
   "source": [
    "a11, a22, (Qin1_adj-Qout2_adj)/Qin1_adj, Qin1_adj-Qout2_adj, Qin1_adj, Qout2_adj\n",
    "#(Qin2+Qout2)/2, Qin1, Qout1"
   ]
  },
  {
   "cell_type": "code",
   "execution_count": 22,
   "id": "43fcc803",
   "metadata": {},
   "outputs": [],
   "source": [
    "Ute = [0, 0.7, 1.3, 1.6, 1.9, 6.5]\n",
    "# a_down = a11[[0,3,7,8,12]]\n",
    "# a_up = a22[[0,3,7,8,12]]\n",
    "a_down = [71.5, 70.3, 63.8, 63.5, 62.9, 53.0]\n",
    "a_up = [4.2, 4.4, 8.2, 8.5, 10.0, 15.2]\n",
    "Qr_old = [6352, 6330, 6104, 5595, 4852, 5229]\n",
    "Qr_new = [6352, 6330, 5562, 5563, 5672, 8047]\n",
    "qin1 = Qin1_adj[[0,3,7,8,12]]\n",
    "qout1 = Qout1_adj[[0,3,7,8,12]]\n",
    "qin2 = Qin2_adj[[0,3,7,8,12]]\n",
    "qout2 = Qout2_adj[[0,3,7,8,12]]\n",
    "\n",
    "idx = 4\n",
    "Tqin1, Tqout1 = file3.Qin1.data[idx], file3.Qout1.data[idx]\n",
    "Tqin2, Tqout2 = file3.Qin2.data[idx], file3.Qout2.data[idx]\n",
    "Tqin1_adj,Tqout1_adj = file3.Qin1_adj.data[idx], file3.Qout1_adj.data[idx]\n",
    "Tqin2_adj, Tqout2_adj = file3.Qin2_adj.data[idx], file3.Qout2_adj.data[idx]\n",
    "TSin1, TSout1 = file3.Sin1.data[idx], file3.Sout1.data[idx]\n",
    "TSin2, TSout2 = file3.Sin2.data[idx], file3.Sout2.data[idx]\n",
    "#(qin1-qout2)/qin1, a_down, a_up\n",
    "#qin1[-1], qout1[-1], qin2[-1], qout2[-1]\n",
    "#Tqin1, Tqout1, Tqin2, Tqout2, Tqin1_adj, Tqout1_adj, Tqin2_adj, Tqout2_adj\n"
   ]
  },
  {
   "cell_type": "code",
   "execution_count": null,
   "id": "085dcd82",
   "metadata": {},
   "outputs": [],
   "source": [
    "file3.Sout1.data, file3.Sin2.data, file2.Sin2.data, file1.Sin2.data"
   ]
  },
  {
   "cell_type": "code",
   "execution_count": null,
   "id": "b31b5aa4",
   "metadata": {},
   "outputs": [],
   "source": [
    "Ta11 = Tqout1*(TSin2-TSout1) / (Tqin1*(TSin2-TSin1))\n",
    "Ta22 = Tqout2*(TSout2-TSin1) / (Tqin2*(TSin2-TSin1))\n",
    "Ta11, Ta22"
   ]
  },
  {
   "cell_type": "code",
   "execution_count": 32,
   "id": "7cfda2bb",
   "metadata": {},
   "outputs": [
    {
     "data": {
      "image/png": "[encoded data removed]",
      "text/plain": [
       "<Figure size 360x360 with 1 Axes>"
      ]
     },
     "metadata": {
      "needs_background": "light"
     },
     "output_type": "display_data"
    }
   ],
   "source": [
    "# Making plot of reflux coeffs\n",
    "fig1 = plt.figure(figsize=(5,5))\n",
    "fig1.tight_layout()\n",
    "\n",
    "# Plot Qin and Qin ratio\n",
    "ax1 = fig1.add_subplot(111)\n",
    "plt.grid(linestyle='--', linewidth=.5)\n",
    "\n",
    "ax1.plot(np.arange(6),a_up,'^-',ms=8,label=r'$\\alpha_{22}$')\n",
    "ax1.plot(np.arange(6),a_down,'v-',ms=8,label=r'$\\alpha_{11}$')\n",
    "ax1.legend(loc='best', fontsize=15)\n",
    "\n",
    "ax1.set_xticks([0, 1, 2, 3, 4, 5])\n",
    "ax1.set_xticklabels(Ute, size=15)\n",
    "ax1.set_xlabel(r\"$U_t/U_e$\",fontsize=15)\n",
    "#ax1.set_ylim([0, .7])\n",
    "ax1.set_ylabel(r\"Reflux fraction (%)\",fontsize=15)\n",
    "#ax1.set_title('(a)', loc='left', size=15, weight='bold')\n",
    "ax1.tick_params(direction='in', labelsize=15)\n"
   ]
  },
  {
   "cell_type": "code",
   "execution_count": null,
   "id": "e4a5626a",
   "metadata": {},
   "outputs": [],
   "source": [
    "file1 = xr.open_dataset('/home/1959/Parameters/FjordModeling/4_wTide_minhs.nc')\n",
    "file2 = xr.open_dataset('/home/1959/Parameters/FjordModeling/4_sTide_minhs.nc')\n",
    "\n",
    "n = -1\n",
    "a11 = np.concatenate([file1.alpha11.data, file2.alpha11.data[:]])\n",
    "a22 = np.concatenate([file1.alpha22.data, file2.alpha22.data[:]])\n",
    "\n",
    "Qin1 = np.concatenate([file1.Qin1.data, file2.Qin1.data[:]])\n",
    "Qin1_adj = np.concatenate([file1.Qin1_adj.data, file2.Qin1_adj.data[:]])\n",
    "\n",
    "Qin2 = np.concatenate([file1.Qin2.data, file2.Qin2.data[:]])\n",
    "Qin2_adj = np.concatenate([file1.Qin2_adj.data, file2.Qin2_adj.data[:]])\n",
    "\n",
    "Qout1 = np.concatenate([file1.Qout1.data, file2.Qout1.data[:]])\n",
    "Qout1_adj = np.concatenate([file1.Qout1_adj.data, file2.Qout1_adj.data[:]])\n",
    "\n",
    "Qout2 = np.concatenate([file1.Qout2.data, file2.Qout2.data[:]])\n",
    "Qout2_adj = np.concatenate([file1.Qout2_adj.data, file2.Qout2_adj.data[:]])\n",
    "\n",
    "Ts_in = np.concatenate([file1.Ts_in.data, file2.Ts_in.data[:]])\n",
    "Ts = np.concatenate([file1.Ts.data, file2.Ts.data[:]])\n",
    "Tf = np.concatenate([file1.Tf.data, file2.Tf.data[:]])\n",
    "\n",
    "Qsm = np.concatenate([file1.Qsm.data, file2.Qsm.data[:]])"
   ]
  },
  {
   "cell_type": "code",
   "execution_count": null,
   "id": "1a3d51e1",
   "metadata": {},
   "outputs": [],
   "source": [
    "file1.U0.data, file2.U0.data"
   ]
  },
  {
   "cell_type": "code",
   "execution_count": null,
   "id": "ca572eb1",
   "metadata": {},
   "outputs": [],
   "source": [
    "#(Qin1_adj+Qout1_adj)/2, (Qin2+Qout2)/2, (Qin1-Qout2), (Qin1-Qout2)/Qin1*100\n",
    "a11, a22, (Qin1_adj-Qout2_adj)/Qin1_adj, Ts_in, Ts"
   ]
  },
  {
   "cell_type": "code",
   "execution_count": null,
   "id": "53c89c6a",
   "metadata": {},
   "outputs": [],
   "source": [
    "parameter_ds = xr.Dataset(\n",
    "    data_vars={'U0' : np.array([1e-4, 2e-4, 3e-4, 1e-3, 2e-3]),\n",
    "    'alpha11' : (Qin1_adj-Qout2_adj)/Qin1_adj,\n",
    "    'alpha22' : a22,\n",
    "    'Qin1' : Qin1_adj,\n",
    "    'Qin2' : Qin2_adj,\n",
    "    'Qout1' : Qout1_adj,\n",
    "    'Qout2' : Qout2_adj,\n",
    "    'Ts_in' : Ts_in,\n",
    "    'Tf' : Tf,\n",
    "    'Ts_model' : Ts})\n",
    "\n",
    "outdir = \"/home/1959/Parameters/FjordModeling/Eq4/\"\n",
    "if not os.path.exists(outdir):\n",
    "    os.makedirs(outdir)\n",
    "\n",
    "parameter_ds.to_netcdf(outdir + '4-Tide.nc')"
   ]
  },
  {
   "cell_type": "code",
   "execution_count": null,
   "id": "4db8570c",
   "metadata": {},
   "outputs": [],
   "source": [
    "Ts/Ts_in*100, Qsm"
   ]
  },
  {
   "cell_type": "code",
   "execution_count": null,
   "id": "5e154b7e",
   "metadata": {},
   "outputs": [],
   "source": [
    "file3 = xr.open_dataset('/home/1959/Parameters/FjordModeling/1_BaseCase.nc')\n",
    "a11b = file3.alpha11.data\n",
    "a22b = file3.alpha22.data\n",
    "Qin1b = file3.Qin1.data\n",
    "Qin2b = file3.Qin2.data\n",
    "Qout1b = file3.Qout1.data\n",
    "Qout2b = file3.Qout2.data\n",
    "Qsmb = file3.Qsm.data\n",
    "Tsb = file3.Ts.data\n",
    "Ts_inb = file3.Ts_in.data"
   ]
  },
  {
   "cell_type": "code",
   "execution_count": null,
   "id": "79935959",
   "metadata": {},
   "outputs": [],
   "source": [
    "a11b, a22b, (Qin2b+Qout2b)/2, file3.Qin1_adj.data, file3.Qout2_adj.data"
   ]
  },
  {
   "cell_type": "code",
   "execution_count": null,
   "id": "3ee53c8c",
   "metadata": {},
   "outputs": [],
   "source": [
    "case_path = '/work/oceans/wbao/MITgcm_results/iceplume/6_Tide_minhs'\n",
    "case_id = 5\n",
    "State0 = xr.open_dataset(case_path + '/state_' + str(format(case_id,'03d')) + '.nc')\n",
    "State = State0.isel(T=~State0.get_index(\"T\").duplicated())\n",
    "state = State.isel(X=range(260), Xp1=range(261), Y=range(35,45), T=range(1,len(State.T)))\n",
    "eta = state.Eta.data"
   ]
  },
  {
   "cell_type": "code",
   "execution_count": null,
   "id": "e3b96b7d",
   "metadata": {},
   "outputs": [],
   "source": [
    "eta.max(), eta.min(), eta.mean()"
   ]
  },
  {
   "cell_type": "code",
   "execution_count": null,
   "id": "0f177ded",
   "metadata": {},
   "outputs": [],
   "source": [
    "import gsw\n",
    "def ambient_strat(datapath, case_id):\n",
    "    \n",
    "    State01 = xr.open_dataset(datapath + '/state_' + str(format(case_id,'03d')) + '.nc')    \n",
    "    State = State01.isel(T=~State01.get_index(\"T\").duplicated())\n",
    "    state = State.isel(X=range(260), Xp1=range(261), Y=range(35,45), Yp1=range(35,45), T=range(89,len(State.T)))\n",
    "    \n",
    "    xidx = 2 # Glacier front index\n",
    "    \n",
    "    # Potential temp\n",
    "    T0 = state.Temp.data[:,:,:,xidx].mean(axis=(0,2))\n",
    "    \n",
    "    # Salinity\n",
    "    S0 = state.S.data[:,:,:,xidx].mean(axis=(0,2))\n",
    "    \n",
    "    depth = state.Z.data  \n",
    "    # Pressure\n",
    "    pres = gsw.p_from_z(depth, 55)\n",
    "\n",
    "    N2, Pmid = gsw.Nsquared(S0,T0,pres,55)\n",
    "    \n",
    "    return N2.mean()"
   ]
  },
  {
   "cell_type": "code",
   "execution_count": null,
   "id": "b9cf6206",
   "metadata": {},
   "outputs": [],
   "source": [
    "path1 = '/work/oceans/wbao/MITgcm_results/iceplume/weak_Tide_minhs'\n",
    "path2 = '/work/oceans/wbao/MITgcm_results/iceplume/6_Tide_minhs'\n",
    "path3 = '/work/oceans/wbao/MITgcm_results/iceplume/6_sTide_minhs'\n",
    "case1 = np.arange(1,4)\n",
    "case2 = np.arange(1,6)\n",
    "case3 = np.array([1,2,3,5,6,7,8,9,10])\n",
    "strat1 = np.empty(len(case1))\n",
    "strat2 = np.empty(len(case2))\n",
    "strat3 = np.empty(len(case3))\n",
    "\n",
    "for i in range(len(case1)):\n",
    "    strat1[i] = ambient_strat(path1, case1[i])\n",
    "\n",
    "for i in range(len(case2)):\n",
    "    strat2[i] = ambient_strat(path2, case2[i])\n",
    "\n",
    "for i in range(len(case3)):\n",
    "    strat3[i] = ambient_strat(path3, case3[i])\n",
    "\n",
    "tide_strat = np.concatenate([strat1, strat2, strat3])"
   ]
  },
  {
   "cell_type": "code",
   "execution_count": null,
   "id": "1a9c2248",
   "metadata": {},
   "outputs": [],
   "source": [
    "path4 = '/work/oceans/wbao/MITgcm_results/iceplume/1_BaseCase'\n",
    "tide0_strat = ambient_strat(path4, 1)"
   ]
  },
  {
   "cell_type": "code",
   "execution_count": null,
   "id": "6fcf6102",
   "metadata": {},
   "outputs": [],
   "source": [
    "tide_strat, tide0_strat"
   ]
  },
  {
   "cell_type": "code",
   "execution_count": null,
   "id": "51a5678d",
   "metadata": {},
   "outputs": [],
   "source": []
  }
 ],
 "metadata": {
  "kernelspec": {
   "display_name": "Python 3 (ipykernel)",
   "language": "python",
   "name": "python3"
  },
  "language_info": {
   "codemirror_mode": {
    "name": "ipython",
    "version": 3
   },
   "file_extension": ".py",
   "mimetype": "text/x-python",
   "name": "python",
   "nbconvert_exporter": "python",
   "pygments_lexer": "ipython3",
   "version": "3.7.11"
  }
 },
 "nbformat": 4,
 "nbformat_minor": 5
}
