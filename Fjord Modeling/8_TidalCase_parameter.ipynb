{
 "cells": [
  {
   "cell_type": "code",
   "execution_count": 9,
   "id": "d61ffb7e",
   "metadata": {},
   "outputs": [],
   "source": [
    "# Obtain parameters in Tidal Cases\n",
    "import xarray as xr\n",
    "import numpy as np\n",
    "import os\n",
    "import matplotlib.pyplot as plt\n",
    "import gsw"
   ]
  },
  {
   "cell_type": "code",
   "execution_count": null,
   "id": "d9d877b9",
   "metadata": {},
   "outputs": [],
   "source": [
    "# Melting flux at ice front\n",
    "def IFA(case_path, case_id):\n",
    "    # Grid areas    \n",
    "    Area = np.empty([90, 10])\n",
    "    Area[:20,:] = 400\n",
    "    Area[20:50,:] = 800\n",
    "    Area[50:,:] = 1200\n",
    "\n",
    "    file0 = xr.open_dataset(case_path + '/icefrntA_' + str(format(case_id,'03d')) + '.nc')\n",
    "    t0 = 89\n",
    "    #tn = 120\n",
    "    # removed duplicated data caused by model restart\n",
    "    file = file0.isel(T=~file0.get_index(\"T\").duplicated())\n",
    "    state = file.isel(Y=range(35,45), T=range(t0,len(file.T)))\n",
    "    \n",
    "    MR = state.icefrntA.isel(X=1).data.mean(0) # Melt rate at the icefront\n",
    "    Qsm = (MR*Area).sum()/(24*3600)\n",
    "    return Qsm"
   ]
  },
  {
   "cell_type": "code",
   "execution_count": null,
   "id": "ad92c4ca",
   "metadata": {},
   "outputs": [],
   "source": [
    "# Water temperature at ice front\n",
    "def icefrntT(case_path, case_id):\n",
    "    File1 = xr.open_dataset(case_path + '/state_' + str(format(case_id,'03d')) + '.nc')\n",
    "    Grid = xr.open_dataset(case_path + '/grid_' + str(format(case_id,'03d')) + '.nc')  \n",
    "    State = File1.isel(T=~File1.get_index(\"T\").duplicated())\n",
    "    \n",
    "    # Confine to the range of fjord\n",
    "    state = State.isel(X=range(260), Xp1=range(261), Y=range(35,45), T=range(1,len(State.T)))\n",
    "    grid = Grid.isel(X=range(260), Xp1=range(261), Y=range(35,45))\n",
    "\n",
    "    U = (state.U.data[:,:,:,1:] + state.U.data[:,:,:,:-1]) / 2 # Along-channel velocity\n",
    "    \n",
    "    drF = np.broadcast_to(grid.drF.data[np.newaxis, :, np.newaxis, np.newaxis], U.shape)\n",
    "    dyF = np.broadcast_to(grid.dyF.data[np.newaxis, np.newaxis, :, :], U.shape)\n",
    "    HFacC = np.broadcast_to(grid.HFacC.data[np.newaxis, :, :, :], U.shape)\n",
    "    DA = drF * dyF * HFacC\n",
    "   \n",
    "    t0 = 89 # Starting time index\n",
    "    da = DA[t0:,:,:,1].mean(axis=(0,2))\n",
    "    Ti = state.Temp.data[t0:,:,:,1].mean(axis=(0,2))\n",
    "    Ui = U[t0:,:,:,1].mean(axis=(0,2))\n",
    "    \n",
    "    Tvi = np.sum(Ti*da) / np.sum(da)\n",
    "    return Tvi"
   ]
  },
  {
   "cell_type": "code",
   "execution_count": 2,
   "id": "afc09c75",
   "metadata": {},
   "outputs": [],
   "source": [
    "# Used to compare with processed TEF/reflux outputs\n",
    "def Layer_Properties(datapath,case_id, xi):\n",
    "      \n",
    "    File1 = xr.open_dataset(datapath + '/grid_' + str(format(case_id,'03d'))  + '.nc')\n",
    "    File02 = xr.open_dataset(datapath + '/state_' + str(format(case_id,'03d')) + '.nc')\n",
    "    File2 = File02.isel(T=~File02.get_index(\"T\").duplicated())\n",
    "    T0 = 89\n",
    "    Tn = len(File2.T)\n",
    "    Grid = File1.isel(X=range(260), Xp1=range(261), Y=range(35,45))\n",
    "    State = File2.isel(X=range(260), Xp1=range(261), Y=range(35,45), Yp1=range(35,45), T=range(T0,Tn))\n",
    "\n",
    "    x = Grid.X.data\n",
    "    z = Grid.Z.data\n",
    "    drF = Grid.drF.data # r cell face separation\n",
    "    HFacC = Grid.HFacC.data.mean(1) # vertical fraction of open cell at cell center\n",
    "    U = State.U.data.mean(axis=(0,2))\n",
    "    u = (U[:, 1:] + U[:, :-1]) / 2\n",
    "    s = State.S.data.mean(axis=(0,2)) # Salinity\n",
    "    \n",
    "    Sma = np.ma.masked_where(s==0, s)\n",
    "    s1 = np.empty(len(xi))\n",
    "    s2 = np.empty(len(xi))\n",
    "    q1 = np.empty(len(xi))\n",
    "    q2 = np.empty(len(xi))\n",
    "\n",
    "    for i in range(len(xi)):\n",
    "        gh = drF * HFacC[:,xi[i]] # grid height\n",
    "        #meanS = np.abs(Sma[:,i] - (Sma[:,i].max() + Sma[:,i].min()) / 2)\n",
    "        #l = np.argmin(meanS) # index of the layer interface\n",
    "        l = np.where(u[:, xi[i]] < 0)[-1][0]\n",
    "        h1 = gh[:l].sum()    \n",
    "        h2 = gh[l+1:].sum()\n",
    "        s1[i] = np.sum(s[:l,xi[i]] * gh[:l]) / h1\n",
    "        s2[i] = np.sum(s[l+1:,xi[i]] * gh[l+1:]) / h2\n",
    "        q1[i] = np.sum(u[:l,xi[i]] * gh[:l]) * 2000\n",
    "        q2[i] = np.sum(u[l+1:,xi[i]] * gh[l+1:]) * 2000\n",
    "        \n",
    "    return (s1, s2, q1, q2)"
   ]
  },
  {
   "cell_type": "code",
   "execution_count": 14,
   "id": "e62fb17b",
   "metadata": {},
   "outputs": [],
   "source": [
    "path4 = '/work/oceans/wbao/MITgcm_results/iceplume/6_Tide_minhs' # tides 5 cases\n",
    "case = np.array([1, 2, 3, 4, 5])\n",
    "#path4 = '/work/oceans/wbao/MITgcm_results/iceplume/6_sTide_minhs' # strong tides 9 cases\n",
    "#case = np.array([1, 2, 3, 5, 6])\n",
    "\n",
    "xrange = np.array([120,235]) # X index range for the sill segment\n",
    "\n",
    "Qup1 = np.empty(len(case))\n",
    "Qdown1 = np.empty(len(case))\n",
    "Qup2 = np.empty(len(case))\n",
    "Qdown2 = np.empty(len(case))\n",
    "\n",
    "Sup1 = np.empty(len(case))\n",
    "Sdown1 = np.empty(len(case))\n",
    "Sup2 = np.empty(len(case))\n",
    "Sdown2 = np.empty(len(case))\n",
    "\n",
    "for j in range(len(case)):\n",
    "\n",
    "    Sup, Sdown, Qup, Qdown,  = Layer_Properties(path4,case[j], xrange)\n",
    "    \n",
    "    Qup1[j] = Qup[0]\n",
    "    Qup2[j] = Qup[-1]\n",
    "    Qdown1[j] = Qdown[0]\n",
    "    Qdown2[j] = Qdown[-1]\n",
    "    Sup1[j] = Sup[0]\n",
    "    Sup2[j] = Sup[-1]\n",
    "    Sdown1[j] = Sdown[0]\n",
    "    Sdown2[j] = Sdown[-1]"
   ]
  },
  {
   "cell_type": "code",
   "execution_count": 17,
   "id": "4a6c5296",
   "metadata": {},
   "outputs": [
    {
     "data": {
      "text/plain": [
       "(8018.21368560195, -7741.620434302275, 5561.808165162802, 0.6383203031606048)"
      ]
     },
     "execution_count": 17,
     "metadata": {},
     "output_type": "execute_result"
    }
   ],
   "source": [
    "#Qup1, Qup2, -Qdown1, -Qdown2, Sup1, Sup2, Sdown1, Sdown2\n",
    "idx = 0\n",
    "#(Qup1[idx]-Qup2[idx]), -Qdown1[idx]*(Sdown2[idx]-Sdown1[idx])/(Qup1[idx]*(Sdown2[idx]-Sup1[idx])),\n",
    "#Qup2[idx]*(Sup2[idx]-Sup1[idx])/(-Qdown2[idx]*(Sdown2[idx]-Sup1[idx]))\n",
    "Qup1[idx], Qdown1[idx], (Qup1[idx]-Qup2[idx]), -Qdown1[idx]*(Sdown2[idx]-Sdown1[idx])/(Qup1[idx]*(Sdown2[idx]-Sup1[idx]))"
   ]
  },
  {
   "cell_type": "code",
   "execution_count": null,
   "id": "592815a4",
   "metadata": {},
   "outputs": [],
   "source": [
    "path1 = '/work/oceans/wbao/MITgcm_results/iceplume/6_Tide_minhs'\n",
    "path2 = '/work/oceans/wbao/MITgcm_results/iceplume/weak_Tide_minhs' # Qsg=250\n",
    "\n",
    "\n",
    "caseN1 = np.array([1,2,3,4,5])\n",
    "Qsm1 = np.empty(len(caseN1))\n",
    "Tice1 = np.empty(len(caseN1))\n",
    "\n",
    "caseN2 = np.array([1,2,3])\n",
    "Qsm2 = np.empty(len(caseN2))\n",
    "Tice2 = np.empty(len(caseN2))\n",
    "\n",
    "for i in range(len(caseN1)):\n",
    "    \n",
    "    Qsm1[i] = IFA(path1, caseN1[i])\n",
    "    Tice1[i] = icefrntT(path1, caseN1[i])\n",
    "\n",
    "    \n",
    "for j in range(len(caseN2)):\n",
    "    \n",
    "    Qsm2[j] = IFA(path2, caseN2[j])\n",
    "    Tice2[j] = icefrntT(path2, caseN2[j])"
   ]
  },
  {
   "cell_type": "code",
   "execution_count": null,
   "id": "119fe81c",
   "metadata": {},
   "outputs": [],
   "source": [
    "Qsm2, Qsm1, Tice2, Tice1"
   ]
  },
  {
   "cell_type": "code",
   "execution_count": 2,
   "id": "07990bb4",
   "metadata": {},
   "outputs": [],
   "source": [
    "file1 = xr.open_dataset('/home/1959/Parameters/FjordModeling/Tide01.nc') # weak tides * 3\n",
    "file2 = xr.open_dataset('/home/1959/Parameters/FjordModeling/Tide02.nc') # tides * 5\n",
    "file3 = xr.open_dataset('/home/1959/Parameters/FjordModeling/Tide03.nc') # strong tides * 9\n",
    "file3U0 = np.array([1e-2, 2e-2, 3e-2, 5e-2, 6e-2, 7e-2, 8e-2, 9e-2, 1e-1])\n",
    "a11 = np.concatenate([file1.alpha11.data, file2.alpha11.data, file3.alpha11.data])\n",
    "a22 = np.concatenate([file1.alpha22.data, file2.alpha22.data, file3.alpha22.data])\n",
    "\n",
    "Qin1 = np.concatenate([file1.Qin1.data, file2.Qin1.data, file3.Qin1.data])\n",
    "Qin1_adj = np.concatenate([file1.Qin1_adj.data, file2.Qin1_adj.data, file3.Qin1_adj.data])\n",
    "\n",
    "Qin2 = np.concatenate([file1.Qin2.data, file2.Qin2.data, file3.Qin2.data])\n",
    "Qin2_adj = np.concatenate([file1.Qin2_adj.data, file2.Qin2_adj.data, file3.Qin2_adj.data])\n",
    "\n",
    "Qout1 = np.concatenate([file1.Qout1.data, file2.Qout1.data, file3.Qout1.data])\n",
    "Qout1_adj = np.concatenate([file1.Qout1_adj.data, file2.Qout1_adj.data, file3.Qout1_adj.data])\n",
    "\n",
    "Qout2 = np.concatenate([file1.Qout2.data, file2.Qout2.data, file3.Qout2.data])\n",
    "Qout2_adj = np.concatenate([file1.Qout2_adj.data, file2.Qout2_adj.data, file3.Qout2_adj.data])\n",
    "\n",
    "Ts_in = np.concatenate([file1.Ts_in.data, file2.Ts_in.data, file3.Ts_in.data])\n",
    "Ts = np.concatenate([file1.Ts.data, file2.Ts.data, file3.Ts.data])\n",
    "Tf = np.concatenate([file1.Tf.data, file2.Tf.data, file3.Tf.data])\n",
    "\n",
    "Qsm = np.concatenate([file1.Qsm.data, file2.Qsm.data, file3.Qsm.data])"
   ]
  },
  {
   "cell_type": "code",
   "execution_count": 4,
   "id": "05a9f4c2",
   "metadata": {},
   "outputs": [
    {
     "data": {
      "text/plain": [
       "(array([9.59356662e-01, 9.59350042e-01, 9.59338537e-01, 9.59293850e-01,\n",
       "        9.59165088e-01, 9.59056843e-01, 9.58894781e-01, 9.58724851e-01,\n",
       "        9.58045017e-01, 9.62925041e-01, 9.72022520e-01, 6.17683152e+02,\n",
       "        8.92264007e+01, 9.93024909e+07, 9.51704120e+07, 9.28893476e+07,\n",
       "        2.74178617e+08]),\n",
       " array([9.55162697e+00, 9.55155699e+00, 9.55146875e+00, 9.55089659e+00,\n",
       "        9.54939417e+00, 9.54757096e+00, 9.54514199e+00, 9.54243224e+00,\n",
       "        9.52820826e+00, 9.55065026e+00, 9.60497498e+00, 6.07406559e+03,\n",
       "        8.76214259e+02, 9.66424338e+08, 1.27636149e+09, 9.66443528e+08,\n",
       "        2.89703809e+09]))"
      ]
     },
     "execution_count": 4,
     "metadata": {},
     "output_type": "execute_result"
    }
   ],
   "source": [
    "#a11, a22, (Qin1_adj-Qout2_adj)/Qin1_adj, Qin1_adj-Qout2_adj, Qin1_adj, Qout2_adj\n",
    "#(Qin2+Qout2)/2, Qin1, Qout1\n",
    "Ts / Ts_in, Ts"
   ]
  },
  {
   "cell_type": "code",
   "execution_count": 3,
   "id": "43fcc803",
   "metadata": {},
   "outputs": [],
   "source": [
    "Ute = [0, 0.7, 1.3, 1.6, 1.9, 6.5]\n",
    "# a_down = a11[[0,3,7,8,12]]\n",
    "# a_up = a22[[0,3,7,8,12]]\n",
    "a_down = [71.5, 70.3, 63.8, 63.5, 62.9, 53.0]\n",
    "a_up = [4.2, 4.4, 8.2, 8.5, 10.0, 15.2]\n",
    "Qr_old = [6352, 6330, 6104, 5595, 4852, 5229]\n",
    "Qr_new = [6352, 6330, 5562, 5563, 5672, 8047]\n",
    "q1up = [9025,9006,8018,7985,7929,10224]\n",
    "q1down = [9025,9006,8018,7985,7929,10224]\n",
    "qin1 = Qin1_adj[[0,3,7,8,12]]\n",
    "qout1 = Qout1_adj[[0,3,7,8,12]]\n",
    "qin2 = Qin2_adj[[0,3,7,8,12]]\n",
    "qout2 = Qout2_adj[[0,3,7,8,12]]\n",
    "\n",
    "idx = 4\n",
    "Tqin1, Tqout1 = file3.Qin1.data[idx], file3.Qout1.data[idx]\n",
    "Tqin2, Tqout2 = file3.Qin2.data[idx], file3.Qout2.data[idx]\n",
    "Tqin1_adj,Tqout1_adj = file3.Qin1_adj.data[idx], file3.Qout1_adj.data[idx]\n",
    "Tqin2_adj, Tqout2_adj = file3.Qin2_adj.data[idx], file3.Qout2_adj.data[idx]\n",
    "TSin1, TSout1 = file3.Sin1.data[idx], file3.Sout1.data[idx]\n",
    "TSin2, TSout2 = file3.Sin2.data[idx], file3.Sout2.data[idx]\n",
    "#(qin1-qout2)/qin1, a_down, a_up\n",
    "#qin1[-1], qout1[-1], qin2[-1], qout2[-1]\n",
    "#Tqin1, Tqout1, Tqin2, Tqout2, Tqin1_adj, Tqout1_adj, Tqin2_adj, Tqout2_adj\n"
   ]
  },
  {
   "cell_type": "code",
   "execution_count": null,
   "id": "085dcd82",
   "metadata": {},
   "outputs": [],
   "source": [
    "file3.Sout1.data, file3.Sin2.data, file2.Sin2.data, file1.Sin2.data"
   ]
  },
  {
   "cell_type": "code",
   "execution_count": null,
   "id": "b31b5aa4",
   "metadata": {},
   "outputs": [],
   "source": [
    "Ta11 = Tqout1*(TSin2-TSout1) / (Tqin1*(TSin2-TSin1))\n",
    "Ta22 = Tqout2*(TSout2-TSin1) / (Tqin2*(TSin2-TSin1))\n",
    "Ta11, Ta22"
   ]
  },
  {
   "cell_type": "code",
   "execution_count": 5,
   "id": "7cfda2bb",
   "metadata": {},
   "outputs": [
    {
     "data": {
      "image/png": "[encoded data removed]",
      "text/plain": [
       "<Figure size 360x360 with 1 Axes>"
      ]
     },
     "metadata": {
      "needs_background": "light"
     },
     "output_type": "display_data"
    }
   ],
   "source": [
    "# Making plot of reflux coeffs\n",
    "fig1 = plt.figure(figsize=(5,5))\n",
    "fig1.tight_layout()\n",
    "\n",
    "# Plot Qin and Qin ratio\n",
    "ax1 = fig1.add_subplot(111)\n",
    "plt.grid(linestyle='--', linewidth=.5)\n",
    "\n",
    "ax1.plot(Ute,a_up,'^-',ms=8,label=r'$\\alpha_{22}$')\n",
    "ax1.plot(Ute,a_down,'v-',ms=8,label=r'$\\alpha_{11}$')\n",
    "ax1.legend(loc='best', fontsize=15)\n",
    "\n",
    "#ax1.set_xticks([0, 1, 2, 3, 4, 5])\n",
    "#ax1.set_xticklabels(Ute, size=15)\n",
    "ax1.set_xlabel(r\"$U_t/U_e$\",fontsize=15)\n",
    "#ax1.set_ylim([0, .7])\n",
    "ax1.set_ylabel(r\"Reflux fraction (%)\",fontsize=15)\n",
    "#ax1.set_title('(a)', loc='left', size=15, weight='bold')\n",
    "ax1.tick_params(direction='in', labelsize=15)\n"
   ]
  },
  {
   "cell_type": "code",
   "execution_count": null,
   "id": "e4a5626a",
   "metadata": {},
   "outputs": [],
   "source": [
    "file1 = xr.open_dataset('/home/1959/Parameters/FjordModeling/4_wTide_minhs.nc')\n",
    "file2 = xr.open_dataset('/home/1959/Parameters/FjordModeling/4_sTide_minhs.nc')\n",
    "\n",
    "n = -1\n",
    "a11 = np.concatenate([file1.alpha11.data, file2.alpha11.data[:]])\n",
    "a22 = np.concatenate([file1.alpha22.data, file2.alpha22.data[:]])\n",
    "\n",
    "Qin1 = np.concatenate([file1.Qin1.data, file2.Qin1.data[:]])\n",
    "Qin1_adj = np.concatenate([file1.Qin1_adj.data, file2.Qin1_adj.data[:]])\n",
    "\n",
    "Qin2 = np.concatenate([file1.Qin2.data, file2.Qin2.data[:]])\n",
    "Qin2_adj = np.concatenate([file1.Qin2_adj.data, file2.Qin2_adj.data[:]])\n",
    "\n",
    "Qout1 = np.concatenate([file1.Qout1.data, file2.Qout1.data[:]])\n",
    "Qout1_adj = np.concatenate([file1.Qout1_adj.data, file2.Qout1_adj.data[:]])\n",
    "\n",
    "Qout2 = np.concatenate([file1.Qout2.data, file2.Qout2.data[:]])\n",
    "Qout2_adj = np.concatenate([file1.Qout2_adj.data, file2.Qout2_adj.data[:]])\n",
    "\n",
    "Ts_in = np.concatenate([file1.Ts_in.data, file2.Ts_in.data[:]])\n",
    "Ts = np.concatenate([file1.Ts.data, file2.Ts.data[:]])\n",
    "Tf = np.concatenate([file1.Tf.data, file2.Tf.data[:]])\n",
    "\n",
    "Qsm = np.concatenate([file1.Qsm.data, file2.Qsm.data[:]])"
   ]
  },
  {
   "cell_type": "code",
   "execution_count": null,
   "id": "1a3d51e1",
   "metadata": {},
   "outputs": [],
   "source": [
    "file1.U0.data, file2.U0.data"
   ]
  },
  {
   "cell_type": "code",
   "execution_count": null,
   "id": "ca572eb1",
   "metadata": {},
   "outputs": [],
   "source": [
    "#(Qin1_adj+Qout1_adj)/2, (Qin2+Qout2)/2, (Qin1-Qout2), (Qin1-Qout2)/Qin1*100\n",
    "a11, a22, (Qin1_adj-Qout2_adj)/Qin1_adj, Ts_in, Ts"
   ]
  },
  {
   "cell_type": "code",
   "execution_count": null,
   "id": "53c89c6a",
   "metadata": {},
   "outputs": [],
   "source": [
    "parameter_ds = xr.Dataset(\n",
    "    data_vars={'U0' : np.array([1e-4, 2e-4, 3e-4, 1e-3, 2e-3]),\n",
    "    'alpha11' : (Qin1_adj-Qout2_adj)/Qin1_adj,\n",
    "    'alpha22' : a22,\n",
    "    'Qin1' : Qin1_adj,\n",
    "    'Qin2' : Qin2_adj,\n",
    "    'Qout1' : Qout1_adj,\n",
    "    'Qout2' : Qout2_adj,\n",
    "    'Ts_in' : Ts_in,\n",
    "    'Tf' : Tf,\n",
    "    'Ts_model' : Ts})\n",
    "\n",
    "outdir = \"/home/1959/Parameters/FjordModeling/Eq4/\"\n",
    "if not os.path.exists(outdir):\n",
    "    os.makedirs(outdir)\n",
    "\n",
    "parameter_ds.to_netcdf(outdir + '4-Tide.nc')"
   ]
  },
  {
   "cell_type": "code",
   "execution_count": null,
   "id": "4db8570c",
   "metadata": {},
   "outputs": [],
   "source": [
    "Ts/Ts_in*100, Qsm"
   ]
  },
  {
   "cell_type": "code",
   "execution_count": 5,
   "id": "5e154b7e",
   "metadata": {},
   "outputs": [],
   "source": [
    "file3 = xr.open_dataset('/home/1959/Parameters/FjordModeling/1_BaseCase.nc')\n",
    "a11b = file3.alpha11.data\n",
    "a22b = file3.alpha22.data\n",
    "Qin1b = file3.Qin1.data\n",
    "Qin2b = file3.Qin2.data\n",
    "Qout1b = file3.Qout1.data\n",
    "Qout2b = file3.Qout2.data\n",
    "Qsmb = file3.Qsm.data\n",
    "Tsb = file3.Ts.data\n",
    "Ts_inb = file3.Ts_in.data"
   ]
  },
  {
   "cell_type": "code",
   "execution_count": 6,
   "id": "79935959",
   "metadata": {},
   "outputs": [
    {
     "data": {
      "text/plain": [
       "array([9.55170132, 9.70742631, 9.79747559, 9.8583672 , 9.89996634,\n",
       "       9.99723851])"
      ]
     },
     "execution_count": 6,
     "metadata": {},
     "output_type": "execute_result"
    }
   ],
   "source": [
    "#a11b, a22b, (Qin2b+Qout2b)/2, file3.Qin1_adj.data, file3.Qout2_adj.data\n",
    "Tsb"
   ]
  },
  {
   "cell_type": "code",
   "execution_count": null,
   "id": "3ee53c8c",
   "metadata": {},
   "outputs": [],
   "source": [
    "case_path = '/work/oceans/wbao/MITgcm_results/iceplume/6_Tide_minhs'\n",
    "case_id = 5\n",
    "State0 = xr.open_dataset(case_path + '/state_' + str(format(case_id,'03d')) + '.nc')\n",
    "State = State0.isel(T=~State0.get_index(\"T\").duplicated())\n",
    "state = State.isel(X=range(260), Xp1=range(261), Y=range(35,45), T=range(1,len(State.T)))\n",
    "eta = state.Eta.data"
   ]
  },
  {
   "cell_type": "code",
   "execution_count": null,
   "id": "e3b96b7d",
   "metadata": {},
   "outputs": [],
   "source": [
    "eta.max(), eta.min(), eta.mean()"
   ]
  },
  {
   "cell_type": "code",
   "execution_count": null,
   "id": "0f177ded",
   "metadata": {},
   "outputs": [],
   "source": [
    "import gsw\n",
    "def ambient_strat(datapath, case_id):\n",
    "    \n",
    "    State01 = xr.open_dataset(datapath + '/state_' + str(format(case_id,'03d')) + '.nc')    \n",
    "    State = State01.isel(T=~State01.get_index(\"T\").duplicated())\n",
    "    state = State.isel(X=range(260), Xp1=range(261), Y=range(35,45), Yp1=range(35,45), T=range(89,len(State.T)))\n",
    "    \n",
    "    xidx = 2 # Glacier front index\n",
    "    \n",
    "    # Potential temp\n",
    "    T0 = state.Temp.data[:,:,:,xidx].mean(axis=(0,2))\n",
    "    \n",
    "    # Salinity\n",
    "    S0 = state.S.data[:,:,:,xidx].mean(axis=(0,2))\n",
    "    \n",
    "    depth = state.Z.data  \n",
    "    # Pressure\n",
    "    pres = gsw.p_from_z(depth, 55)\n",
    "\n",
    "    N2, Pmid = gsw.Nsquared(S0,T0,pres,55)\n",
    "    \n",
    "    return N2.mean()"
   ]
  },
  {
   "cell_type": "code",
   "execution_count": null,
   "id": "b9cf6206",
   "metadata": {},
   "outputs": [],
   "source": [
    "path1 = '/work/oceans/wbao/MITgcm_results/iceplume/weak_Tide_minhs'\n",
    "path2 = '/work/oceans/wbao/MITgcm_results/iceplume/6_Tide_minhs'\n",
    "path3 = '/work/oceans/wbao/MITgcm_results/iceplume/6_sTide_minhs'\n",
    "case1 = np.arange(1,4)\n",
    "case2 = np.arange(1,6)\n",
    "case3 = np.array([1,2,3,5,6,7,8,9,10])\n",
    "strat1 = np.empty(len(case1))\n",
    "strat2 = np.empty(len(case2))\n",
    "strat3 = np.empty(len(case3))\n",
    "\n",
    "for i in range(len(case1)):\n",
    "    strat1[i] = ambient_strat(path1, case1[i])\n",
    "\n",
    "for i in range(len(case2)):\n",
    "    strat2[i] = ambient_strat(path2, case2[i])\n",
    "\n",
    "for i in range(len(case3)):\n",
    "    strat3[i] = ambient_strat(path3, case3[i])\n",
    "\n",
    "tide_strat = np.concatenate([strat1, strat2, strat3])"
   ]
  },
  {
   "cell_type": "code",
   "execution_count": null,
   "id": "1a9c2248",
   "metadata": {},
   "outputs": [],
   "source": [
    "path4 = '/work/oceans/wbao/MITgcm_results/iceplume/1_BaseCase'\n",
    "tide0_strat = ambient_strat(path4, 1)"
   ]
  },
  {
   "cell_type": "code",
   "execution_count": 15,
   "id": "6fcf6102",
   "metadata": {},
   "outputs": [],
   "source": [
    "# Properties (Qsm, Temp, N2) at ice front\n",
    "def icefrnt_property(case_path, case_id):\n",
    "        \n",
    "    file0 = xr.open_dataset(case_path + '/icefrntA_' + str(format(case_id,'03d')) + '.nc')\n",
    "    File0 = xr.open_dataset(case_path + '/state_' + str(format(case_id,'03d')) + '.nc')\n",
    "    Grid = xr.open_dataset(case_path + '/grid_' + str(format(case_id,'03d')) + '.nc')   \n",
    "\n",
    "    # removed duplicated data caused by model restart\n",
    "    file = file0.isel(T=~file0.get_index(\"T\").duplicated()) \n",
    "    State = File0.isel(T=~File0.get_index(\"T\").duplicated())\n",
    "    \n",
    "    # Confine to the range of fjord\n",
    "    Qsm_state = file.isel(Y=range(35,45), T=range(0,len(file.T)))\n",
    "    state = State.isel(X=range(260), Xp1=range(261), Y=range(35,45), T=range(1,len(State.T)))\n",
    "    grid = Grid.isel(X=range(260), Xp1=range(261), Y=range(35,45))\n",
    "\n",
    "    \n",
    "    # Submarine Melting\n",
    "    Area = np.empty([90, 10])\n",
    "    Area[:20,:] = 400\n",
    "    Area[20:50,:] = 800\n",
    "    Area[50:,:] = 1200\n",
    "    Qsm = np.empty(len(file.T))\n",
    "    for i in range(len(file.T)):\n",
    "        MR = Qsm_state.icefrntA.isel(X=1).data[i,:,:] # Melt rate at the icefront\n",
    "        Qsm[i] = (MR*Area).sum()/(24*3600)\n",
    "    \n",
    "    \n",
    "    # Temp & N2\n",
    "    time = state.T.data\n",
    "    xidx = 2 # Glacier front index\n",
    "    depth = state.Z.data\n",
    "    pres = gsw.p_from_z(depth, 55)\n",
    "    \n",
    "    gh = np.empty(90) # grid height\n",
    "    gh[:20] = 2\n",
    "    gh[20:50] = 4\n",
    "    gh[50:] = 6\n",
    "    \n",
    "    Temp = np.empty(len(State.T)-1)\n",
    "    Strat = np.empty(len(State.T)-1)\n",
    "    \n",
    "    for j in range(len(State.T)-1):\n",
    "        # Potential temp\n",
    "        T0 = state.Temp.data[j,:,:,xidx].mean(1)   # Average in y-axis \n",
    "        # Salinity\n",
    "        S0 = state.S.data[j,:,:,xidx].mean(1)              \n",
    "        \n",
    "        Temp[j] = np.sum(T0*gh) / gh.sum()\n",
    "        N2, Pmid = gsw.Nsquared(S0,T0,pres,55)\n",
    "        Strat[j] = N2.mean()\n",
    "        \n",
    "    return Qsm, Temp, Strat, time"
   ]
  },
  {
   "cell_type": "code",
   "execution_count": 16,
   "id": "51a5678d",
   "metadata": {},
   "outputs": [],
   "source": [
    "path1 = '/work/oceans/wbao/MITgcm_results/iceplume/weak_Tide_minhs'\n",
    "path2 = '/work/oceans/wbao/MITgcm_results/iceplume/6_Tide_minhs'\n",
    "path3 = '/work/oceans/wbao/MITgcm_results/iceplume/6_sTide_minhs'\n",
    "path4 = '/work/oceans/wbao/MITgcm_results/iceplume/1_BaseCase'\n",
    "# case1 = np.arange(1,4)\n",
    "# case2 = np.arange(1,6)\n",
    "# case3 = np.array([1,2,3,5,6,7,8,9,10])\n",
    "\n",
    "# Tidal cases used in manuscript\n",
    "Qsm1, Temp1, Strat1, t1 = icefrnt_property(path4, 1)\n",
    "Qsm2, Temp2, Strat2, t2 = icefrnt_property(path1, 1)\n",
    "Qsm3, Temp3, Strat3, t3 = icefrnt_property(path2, 1)\n",
    "Qsm4, Temp4, Strat4, t4 = icefrnt_property(path2, 5)\n",
    "Qsm5, Temp5, Strat5, t5 = icefrnt_property(path3, 1)\n",
    "Qsm6, Temp6, Strat6, t6 = icefrnt_property(path3, 6)"
   ]
  },
  {
   "cell_type": "code",
   "execution_count": 30,
   "id": "bc7144ab",
   "metadata": {},
   "outputs": [
    {
     "data": {
      "text/plain": [
       "Text(0, 0.5, '$N^2$ [$s^{-2}$]')"
      ]
     },
     "execution_count": 30,
     "metadata": {},
     "output_type": "execute_result"
    },
    {
     "data": {
      "image/png": "[encoded data removed]",
      "text/plain": [
       "<Figure size 648x432 with 2 Axes>"
      ]
     },
     "metadata": {
      "needs_background": "light"
     },
     "output_type": "display_data"
    }
   ],
   "source": [
    "# Plot time-series of Qsm, Temp, and Strat\n",
    "fig2 = plt.figure(figsize=(9,6))    \n",
    "\n",
    "# ## Qsm\n",
    "# ax1 = fig2.add_subplot(311)\n",
    "# ax1.plot(t1/86400,Qsm1,'-',label='0')\n",
    "# ax1.plot(t2/86400,Qsm2,'-',label='0.7')\n",
    "# ax1.plot(t3/86400,Qsm3,'-',label='1.3')\n",
    "# ax1.plot(t4/86400,Qsm4,'-',label='1.6')\n",
    "# ax1.plot(t5/86400,Qsm5,'-',label='1.9')\n",
    "# ax1.plot(t6/86400,Qsm6,'-',label='6.5')\n",
    "# #ax1.axhline(y=0, color='k',linestyle='--', linewidth=.5)\n",
    "\n",
    "# ax1.legend(title='$U_t/U_e$',loc='best',fontsize=12)\n",
    "# ax1.xaxis.set_visible(False)\n",
    "# ax1.tick_params(direction='in', labelsize=12)\n",
    "# #ax1.set_xlabel('Days',fontsize=12)\n",
    "# ax1.set_ylabel(r'$Q_{sm}$ [$m^3\\;s^{-1}$]',fontsize=12)\n",
    "\n",
    "\n",
    "## Temp\n",
    "ax2 = fig2.add_subplot(211)\n",
    "ax2.plot(t1/86400,Temp1,'-',label='0')\n",
    "ax2.plot(t2/86400,Temp2,'-',label='0.7')\n",
    "ax2.plot(t3/86400,Temp3,'-',label='1.3')\n",
    "ax2.plot(t4/86400,Temp4,'-',label='1.6')\n",
    "ax2.plot(t5/86400,Temp5,'-',label='1.9')\n",
    "ax2.plot(t6/86400,Temp6,'-',label='6.5')\n",
    "\n",
    "ax2.legend(title='$U_t/U_e$',loc='center left',fontsize=12)\n",
    "ax2.xaxis.set_visible(False)\n",
    "ax2.tick_params(direction='in', labelsize=12)\n",
    "#ax1.set_xlabel('Days',fontsize=12)\n",
    "ax2.set_ylabel(r'Temperature [$^\\circ C$]',fontsize=15)\n",
    "\n",
    "\n",
    "## Strat\n",
    "ax3 = fig2.add_subplot(212)\n",
    "ax3.plot(t1/86400,Strat1,'-',label='0')\n",
    "ax3.plot(t2/86400,Strat2,'-',label='0.7')\n",
    "ax3.plot(t3/86400,Strat3,'-',label='1.3')\n",
    "ax3.plot(t4/86400,Strat4,'-',label='1.6')\n",
    "ax3.plot(t5/86400,Strat5,'-',label='1.9')\n",
    "ax3.plot(t6/86400,Strat6,'-',label='6.5')\n",
    "\n",
    "ax3.tick_params(direction='in', labelsize=12)\n",
    "ax3.set_xlabel('Time [Days]',fontsize=15)\n",
    "ax3.set_ylabel(r'$N^2$ [$s^{-2}$]',fontsize=15)"
   ]
  },
  {
   "cell_type": "code",
   "execution_count": 31,
   "id": "483c36e1",
   "metadata": {},
   "outputs": [],
   "source": [
    "fig2.savefig('/home/1959/Jupyter_Figs/FjordModeling/Temp&Strat_gf.png', dpi=300, bbox_inches='tight') "
   ]
  },
  {
   "cell_type": "code",
   "execution_count": 21,
   "id": "bd4fab19",
   "metadata": {},
   "outputs": [
    {
     "data": {
      "text/plain": [
       "(10.505863582613026,\n",
       " 10.505723711568304,\n",
       " 10.508021400202166,\n",
       " 10.53589820274093,\n",
       " 10.60607247136026,\n",
       " 12.927022060842264)"
      ]
     },
     "execution_count": 21,
     "metadata": {},
     "output_type": "execute_result"
    }
   ],
   "source": [
    "Qsm1[89:].mean(), Qsm2[89:].mean(), Qsm3[89:].mean(), Qsm4[89:].mean(), Qsm5[89:].mean(), Qsm6[89:].mean()"
   ]
  },
  {
   "cell_type": "code",
   "execution_count": 22,
   "id": "90657a94",
   "metadata": {},
   "outputs": [
    {
     "data": {
      "text/plain": [
       "(9.233335156594553,\n",
       " 9.233306208579773,\n",
       " 9.232952893164851,\n",
       " 9.232347057096419,\n",
       " 9.241563089124618,\n",
       " 9.65932598175541)"
      ]
     },
     "execution_count": 22,
     "metadata": {},
     "output_type": "execute_result"
    }
   ],
   "source": [
    "Temp1[89:].mean(), Temp2[89:].mean(), Temp3[89:].mean(), Temp4[89:].mean(), Temp5[89:].mean(), Temp6[89:].mean()"
   ]
  },
  {
   "cell_type": "code",
   "execution_count": 23,
   "id": "aa1b7256",
   "metadata": {},
   "outputs": [
    {
     "data": {
      "text/plain": [
       "(7.009240444454675e-05,\n",
       " 7.008925608824416e-05,\n",
       " 7.009378555748523e-05,\n",
       " 7.015385918695597e-05,\n",
       " 6.957123204886194e-05,\n",
       " 5.5448943567497676e-05)"
      ]
     },
     "execution_count": 23,
     "metadata": {},
     "output_type": "execute_result"
    }
   ],
   "source": [
    "Strat1[89:].mean(), Strat2[89:].mean(), Strat3[89:].mean(), Strat4[89:].mean(), Strat5[89:].mean(), Strat6[89:].mean()"
   ]
  },
  {
   "cell_type": "code",
   "execution_count": null,
   "id": "814c4fa7",
   "metadata": {},
   "outputs": [],
   "source": []
  }
 ],
 "metadata": {
  "kernelspec": {
   "display_name": "Python 3 (ipykernel)",
   "language": "python",
   "name": "python3"
  },
  "language_info": {
   "codemirror_mode": {
    "name": "ipython",
    "version": 3
   },
   "file_extension": ".py",
   "mimetype": "text/x-python",
   "name": "python",
   "nbconvert_exporter": "python",
   "pygments_lexer": "ipython3",
   "version": "3.7.11"
  }
 },
 "nbformat": 4,
 "nbformat_minor": 5
}
