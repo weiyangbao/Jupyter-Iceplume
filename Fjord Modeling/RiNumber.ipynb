{
 "cells": [
  {
   "cell_type": "code",
   "execution_count": 1,
   "id": "cb4afec8",
   "metadata": {},
   "outputs": [],
   "source": [
    "import xarray as xr\n",
    "import numpy as np\n",
    "import matplotlib\n",
    "import matplotlib.pyplot as plt\n",
    "import os\n",
    "import gsw"
   ]
  },
  {
   "cell_type": "code",
   "execution_count": 2,
   "id": "ee787427",
   "metadata": {},
   "outputs": [],
   "source": [
    "def Ri_Number(datapath, case_id, xidx):\n",
    "    \n",
    "    State01 = xr.open_dataset(datapath + '/state_' + str(format(case_id,'03d')) + '.nc')    \n",
    "    State = State01.isel(T=~State01.get_index(\"T\").duplicated())\n",
    "    state = State.isel(X=range(260), Xp1=range(261), Y=range(35,40), Yp1=range(35,40))\n",
    "    #Grid = xr.open_dataset(datapath + '/grid_' + str(format(case_id,'03d')) + '.nc') \n",
    "    #grid = Grid.isel(X=range(260), Xp1=range(261), Y=range(35,45), Yp1=range(35,45))\n",
    "\n",
    "    # Along-fjord velocity\n",
    "    u0 = state.U.data # dims = T, Z, Y, Xp1\n",
    "    u_ymean = (u0[:, :, :, 1:].mean(2) + u0[:, :, :, :-1].mean(2)) / 2\n",
    "    #Uzt = u_ymean[:,:,xidx] # U in z, t dimensions\n",
    "    Utz = u_ymean[:,:,xidx]\n",
    "    \n",
    "    # Potential temp\n",
    "    Ttz = state.Temp.data[:,:,:,xidx].mean(2) # Temp\n",
    "    \n",
    "    depth = state.Z.data\n",
    "    time = state.T.data / 86400 # Time in days\n",
    "    \n",
    "    Uz = np.gradient(Utz, depth, axis=1)\n",
    "    Uz2 = Uz**2\n",
    "    \n",
    "    # Pressure and Density\n",
    "    pres = gsw.p_from_z(depth, 55)\n",
    "    Stz = state.S.data[:,:,:,xidx].mean(2)\n",
    "    p = np.tile(pres,[len(time),1])\n",
    "    Rho = gsw.rho(Stz, Ttz, p)\n",
    "    \n",
    "    N2, Pmid = gsw.Nsquared(Stz,Ttz,pres,55,axis=1)\n",
    "    \n",
    "    Ri = N2 / Uz2[:,:-1]\n",
    "    \n",
    "    return depth, time, N2, Uz2, Ri"
   ]
  },
  {
   "cell_type": "code",
   "execution_count": 3,
   "id": "14610771",
   "metadata": {},
   "outputs": [
    {
     "name": "stderr",
     "output_type": "stream",
     "text": [
      "/home/1959/local/bin/miniconda3/envs/py37/lib/python3.7/site-packages/ipykernel_launcher.py:32: RuntimeWarning: divide by zero encountered in true_divide\n"
     ]
    }
   ],
   "source": [
    "path1 = '/work/oceans/wbao/MITgcm_results/iceplume/Sal_Linear_minhs'\n",
    "#caseN = 1\n",
    "gf, sw, sc, se = 6, 120, 178, 235 # index for cross-fjord sections 0, 1, sill crest, 2\n",
    "\n",
    "depth, time, N1, Uz1, Ri1 = Ri_Number(path1, 1, gf)\n",
    "depth, time, N2, Uz2, Ri2 = Ri_Number(path1, 2, gf)\n",
    "depth, time, N3, Uz3, Ri3 = Ri_Number(path1, 3, gf)\n",
    "depth, time, N4, Uz4, Ri4 = Ri_Number(path1, 4, gf)\n",
    "depth, time, N5, Uz5, Ri5 = Ri_Number(path1, 5, gf)"
   ]
  },
  {
   "cell_type": "code",
   "execution_count": null,
   "id": "d942c110",
   "metadata": {},
   "outputs": [],
   "source": [
    "Ri1[80,:].min()"
   ]
  },
  {
   "cell_type": "code",
   "execution_count": 8,
   "id": "9c258b67",
   "metadata": {},
   "outputs": [
    {
     "data": {
      "text/plain": [
       "Text(0.5, 0, 'Time [days]')"
      ]
     },
     "execution_count": 8,
     "metadata": {},
     "output_type": "execute_result"
    },
    {
     "data": {
      "image/png": "[encoded data removed]",
      "text/plain": [
       "<Figure size 720x360 with 3 Axes>"
      ]
     },
     "metadata": {
      "needs_background": "light"
     },
     "output_type": "display_data"
    }
   ],
   "source": [
    "# Making plot for Ri number\n",
    "fig1 = plt.figure(figsize=(10,5))\n",
    "fig1.tight_layout()  \n",
    "\n",
    "cRi = np.linspace(0,5,20) # Contour range for U\n",
    "#crho = np.linspace(10,25,15) # Contour range for density\n",
    "cmap = 'YlGnBu_r'\n",
    "\n",
    "\n",
    "ax1 = fig1.add_subplot(211)\n",
    "im1 = ax1.contourf(time, depth[:-1], Ri1.T, cRi, cmap=cmap, extend='max')\n",
    "#ax1.axhline(y=depth[8],color='k',linestyle='--')\n",
    "\n",
    "# Plot isopycnals\n",
    "#CS1 = ax1.contour(time, depth, Rho1-1000, crho, colors='k', linewidths=.5)\n",
    "#plt.clabel(CS1, fmt='%1.1f', fontsize=12, inline=1)\n",
    "\n",
    "cbaxes = fig1.add_axes([0.72, 0.93, 0.15, 0.01])\n",
    "cbar = fig1.colorbar(im1,cax=cbaxes, orientation='horizontal')\n",
    "cbar.set_ticks([0, 1, 2, 3, 4, 5])\n",
    "cbar.ax.set_title('Ri', size=15)\n",
    "\n",
    "ax1.set_xlim(time[0],time[-1])\n",
    "ax1.set_ylim(depth[-1],depth[0])\n",
    "ax1.xaxis.set_visible(False)\n",
    "ax1.tick_params(direction='in', labelsize=15)\n",
    "ax1.set_title(r'(a) $4N_0^2$', loc='left', size=15, weight='bold')\n",
    "ax1.set_ylabel('Depth [$m$]', size=15)\n",
    "\n",
    "\n",
    "\n",
    "ax2 = fig1.add_subplot(212)\n",
    "im2 = ax2.contourf(time, depth[:-1], Ri4.T, cRi, cmap=cmap, extend='max')\n",
    "#ax2.axhline(y=depth[8],color='k',linestyle='--')\n",
    "#CS2 = ax2.contour(time, depth, Rho2-1000, crho, colors='k', linewidths=.5)\n",
    "#plt.clabel(CS2, fmt='%1.1f', fontsize=12, inline=1)\n",
    "\n",
    "\n",
    "ax2.set_xlim(time[0],time[-1])\n",
    "ax2.set_ylim(depth[-1],depth[0])\n",
    "ax2.tick_params(direction='in', labelsize=15)\n",
    "ax2.set_title(r'(b) $1N_0^2$', loc='left', size=15, weight='bold')\n",
    "ax2.set_ylabel('Depth [$m$]', size=15)\n",
    "ax2.set_xlabel('Time [days]', size=15)"
   ]
  },
  {
   "cell_type": "code",
   "execution_count": null,
   "id": "697c172b",
   "metadata": {},
   "outputs": [],
   "source": [
    "np.where(Ri1==Ri1.min())"
   ]
  },
  {
   "cell_type": "code",
   "execution_count": 26,
   "id": "553665cb",
   "metadata": {},
   "outputs": [
    {
     "name": "stderr",
     "output_type": "stream",
     "text": [
      "/home/1959/local/bin/miniconda3/envs/py37/lib/python3.7/site-packages/ipykernel_launcher.py:32: RuntimeWarning: divide by zero encountered in true_divide\n"
     ]
    }
   ],
   "source": [
    "path1 = '/work/oceans/wbao/MITgcm_results/iceplume/Sal_Linear_minhs'\n",
    "path2 = '/work/oceans/wbao/MITgcm_results/iceplume/Sal_Linear_nosill'\n",
    "#caseN = 1\n",
    "gf, sw, sc, se = 6, 120, 178, 235 # index for cross-fjord sections 0, 1, sill crest, 2\n",
    "\n",
    "depth, time, N1, Uz1, Ri1 = Ri_Number(path1, 4, gf)\n",
    "depth, time, N2, Uz2, Ri2 = Ri_Number(path2, 4, gf)"
   ]
  },
  {
   "cell_type": "code",
   "execution_count": 20,
   "id": "a36fe419",
   "metadata": {},
   "outputs": [
    {
     "data": {
      "text/plain": [
       "(0.0006397670377023575,\n",
       " 3.889612296400979e-06,\n",
       " 0.00014945576037528335,\n",
       " 1.829714061570558e-05)"
      ]
     },
     "execution_count": 20,
     "metadata": {},
     "output_type": "execute_result"
    }
   ],
   "source": [
    "N1.max(), N1.min(), N2.max(), N2.min()"
   ]
  },
  {
   "cell_type": "code",
   "execution_count": 29,
   "id": "195ebe6d",
   "metadata": {},
   "outputs": [
    {
     "data": {
      "text/plain": [
       "Text(0.5, 0, 'Time [days]')"
      ]
     },
     "execution_count": 29,
     "metadata": {},
     "output_type": "execute_result"
    },
    {
     "data": {
      "image/png": "[encoded data removed]",
      "text/plain": [
       "<Figure size 720x360 with 3 Axes>"
      ]
     },
     "metadata": {
      "needs_background": "light"
     },
     "output_type": "display_data"
    }
   ],
   "source": [
    "# Making plot for buoyancy freq Nsquare\n",
    "fig2 = plt.figure(figsize=(10,5))\n",
    "fig2.tight_layout()  \n",
    "\n",
    "cN = np.linspace(0,4,20) # Contour range for U\n",
    "#crho = np.linspace(10,25,15) # Contour range for density\n",
    "cmap = 'YlGnBu_r'\n",
    "\n",
    "\n",
    "ax1 = fig2.add_subplot(211)\n",
    "im1 = ax1.contourf(time, depth[:-1], N1.T*1e5, cN, cmap=cmap, extend='max')\n",
    "#ax1.axhline(y=depth[8],color='k',linestyle='--')\n",
    "\n",
    "# Plot isopycnals\n",
    "#CS1 = ax1.contour(time, depth, Rho1-1000, crho, colors='k', linewidths=.5)\n",
    "#plt.clabel(CS1, fmt='%1.1f', fontsize=12, inline=1)\n",
    "\n",
    "cbaxes = fig2.add_axes([0.72, 0.93, 0.15, 0.01])\n",
    "cbar = fig2.colorbar(im1,cax=cbaxes, orientation='horizontal')\n",
    "cbar.set_ticks([0, 2, 4])\n",
    "cbar.ax.set_title(r'$N^2\\,(\\times 10^{-5}\\,s^{-2})$', size=15)\n",
    "\n",
    "ax1.set_xlim(time[0],time[-1])\n",
    "ax1.set_ylim(depth[-1],depth[0])\n",
    "ax1.xaxis.set_visible(False)\n",
    "ax1.tick_params(direction='in', labelsize=15)\n",
    "ax1.set_title(r'(a) $1N_0^2, h_s/h_f=0.04$', loc='left', size=15, weight='bold')\n",
    "ax1.set_ylabel('Depth [$m$]', size=15)\n",
    "\n",
    "\n",
    "\n",
    "ax2 = fig2.add_subplot(212)\n",
    "im2 = ax2.contourf(time, depth[:-1], N2.T*1e5, cN, cmap=cmap, extend='max')\n",
    "#ax2.axhline(y=depth[8],color='k',linestyle='--')\n",
    "#CS2 = ax2.contour(time, depth, Rho2-1000, crho, colors='k', linewidths=.5)\n",
    "#plt.clabel(CS2, fmt='%1.1f', fontsize=12, inline=1)\n",
    "\n",
    "\n",
    "ax2.set_xlim(time[0],time[-1])\n",
    "ax2.set_ylim(depth[-1],depth[0])\n",
    "ax2.tick_params(direction='in', labelsize=15)\n",
    "ax2.set_title(r'(b) $1N_0^2, h_s/h_f=1$', loc='left', size=15, weight='bold')\n",
    "ax2.set_ylabel('Depth [$m$]', size=15)\n",
    "ax2.set_xlabel('Time [days]', size=15)"
   ]
  },
  {
   "cell_type": "code",
   "execution_count": 30,
   "id": "8991e362",
   "metadata": {},
   "outputs": [],
   "source": [
    "fig_path =\"/home/1959/Jupyter_Figs/FjordModeling/\"\n",
    "if not os.path.exists(fig_path):\n",
    "    os.makedirs(fig_path)\n",
    "#fig4.savefig(fig_path + '/4Sz-minhs_UT_d01.png', dpi=300, bbox_inches='tight')\n",
    "#fig1.savefig(fig_path + '/RiNumber.png', dpi=300, bbox_inches='tight')\n",
    "fig2.savefig(fig_path + '/N2_transition.png', dpi=300, bbox_inches='tight') "
   ]
  },
  {
   "cell_type": "code",
   "execution_count": null,
   "id": "ae2acc56",
   "metadata": {},
   "outputs": [],
   "source": []
  }
 ],
 "metadata": {
  "kernelspec": {
   "display_name": "Python 3 (ipykernel)",
   "language": "python",
   "name": "python3"
  },
  "language_info": {
   "codemirror_mode": {
    "name": "ipython",
    "version": 3
   },
   "file_extension": ".py",
   "mimetype": "text/x-python",
   "name": "python",
   "nbconvert_exporter": "python",
   "pygments_lexer": "ipython3",
   "version": "3.7.11"
  }
 },
 "nbformat": 4,
 "nbformat_minor": 5
}
