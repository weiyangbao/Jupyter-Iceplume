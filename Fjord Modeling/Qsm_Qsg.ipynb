{
 "cells": [
  {
   "cell_type": "code",
   "execution_count": 1,
   "id": "e1015c53",
   "metadata": {},
   "outputs": [],
   "source": [
    "# Submarine melting Qsm under different subglacial discharges Qsg and sill depths\n",
    "import xarray as xr\n",
    "import numpy as np\n",
    "import os\n",
    "import matplotlib.pyplot as plt"
   ]
  },
  {
   "cell_type": "code",
   "execution_count": 3,
   "id": "0262f94e",
   "metadata": {},
   "outputs": [],
   "source": [
    "# Obtain submarine melting Qsm\n",
    "def IFA_deep(datapath, case_id):\n",
    "    # Grid areas\n",
    "    Area = np.empty([90, 10])\n",
    "    Area[:20,:] = 400\n",
    "    Area[20:50,:] = 800\n",
    "    Area[50:,:] = 1200\n",
    "    file0 = xr.open_dataset(datapath+'/icefrntA_' + str(format(case_id,'03d')) + '.nc')\n",
    "    file = file0.isel(T=~file0.get_index(\"T\").duplicated()) \n",
    "    t0 = 0\n",
    "    #t0 = 89\n",
    "    tn = len(file.T)\n",
    "    state = file.isel(Y=range(35,45), T=range(t0,tn))\n",
    "    MR = state.icefrntA.isel(X=1).data.mean(0) # Melt rate at the icefront\n",
    "    Qsm = (MR*Area).sum()/(24*3600)\n",
    "    return Qsm\n",
    "\n",
    "def IFA_shallow(datapath, case_id):\n",
    "    # Grid areas\n",
    "    Area = np.empty([90, 10])\n",
    "    Area[:20,:] = 200\n",
    "    Area[20:50,:] = 400\n",
    "    Area[50:,:] = 600\n",
    "    file0 = xr.open_dataset(datapath+'/icefrntA_' + str(format(case_id,'03d')) + '.nc')\n",
    "    file = file0.isel(T=~file0.get_index(\"T\").duplicated()) \n",
    "    t0 = 0\n",
    "    #t0 = 89\n",
    "    tn = len(file.T)\n",
    "    state = file.isel(Y=range(35,45), T=range(t0,tn))\n",
    "    MR = state.icefrntA.isel(X=1).data.mean(0) # Melt rate at the icefront\n",
    "    Qsm = (MR*Area).sum()/(24*3600)\n",
    "    return Qsm"
   ]
  },
  {
   "cell_type": "code",
   "execution_count": 4,
   "id": "bb187408",
   "metadata": {},
   "outputs": [],
   "source": [
    "# Fjord depth h=400m\n",
    "path1 = '/work/oceans/wbao/MITgcm_results/iceplume/2_Qsg_nosill' # hs/h=1\n",
    "path2 = '/work/oceans/wbao/MITgcm_results/iceplume/2_Qsg_maxhs' # hs/h=0.12\n",
    "path3 = '/work/oceans/wbao/MITgcm_results/iceplume/2_Qsg_minhs' # # hs/h=0.04\n",
    "\n",
    "# Fjord depth h=200m\n",
    "path4 = '/work/oceans/wbao/MITgcm_results/iceplume/shallow_fjord01' # hs/h=0.04\n",
    "path5 = '/work/oceans/wbao/MITgcm_results/iceplume/shallow_Fjord02' # hs/h=0.08\n",
    "path6 = '/work/oceans/wbao/MITgcm_results/iceplume/shallow_Fjord03' # hs/h=0.12\n",
    "path7 = '/work/oceans/wbao/MITgcm_results/iceplume/shallow_Fjord04' # hs/h=0.24\n",
    "path8 = '/work/oceans/wbao/MITgcm_results/iceplume/shallow_Fjord05' # hs/h=1\n",
    "\n",
    "\n",
    "Qsg = np.array([25,50,100,250,500,1000])\n",
    "\n",
    "case = np.array([1,2,3,4,5,6])\n",
    "\n",
    "Qsm1 = np.empty(len(case))\n",
    "Qsm2 = np.empty(len(case))\n",
    "Qsm3 = np.empty(len(case))\n",
    "Qsm4 = np.empty(len(case))\n",
    "Qsm5 = np.empty(len(case))\n",
    "Qsm6 = np.empty(len(case))\n",
    "Qsm7 = np.empty(len(case))\n",
    "Qsm8 = np.empty(len(case))\n",
    "\n",
    "for i in range(len(case)):\n",
    "    Qsm1[i] = IFA_deep(path1,case[i])\n",
    "    Qsm2[i] = IFA_deep(path2,case[i])\n",
    "    Qsm3[i] = IFA_deep(path3,case[i])\n",
    "    Qsm4[i] = IFA_shallow(path4,case[i])\n",
    "#     Qsm5[i] = IFA_shallow(path5,case[i])\n",
    "#     Qsm6[i] = IFA_shallow(path6,case[i])\n",
    "#     Qsm7[i] = IFA_shallow(path7,case[i])\n",
    "#     Qsm8[i] = IFA_shallow(path8,case[i])"
   ]
  },
  {
   "cell_type": "code",
   "execution_count": 5,
   "id": "ca0a6c81",
   "metadata": {},
   "outputs": [
    {
     "data": {
      "text/plain": [
       "(array([ 4.13470201,  5.15366742,  6.73799592,  9.91626286, 12.60099934,\n",
       "        15.41120549]),\n",
       " array([1.7526003 , 2.25508554, 2.9000431 , 3.85196895, 4.59744868,\n",
       "        5.16759772]))"
      ]
     },
     "execution_count": 5,
     "metadata": {},
     "output_type": "execute_result"
    }
   ],
   "source": [
    "Qsm3,  Qsm4"
   ]
  },
  {
   "cell_type": "code",
   "execution_count": 33,
   "id": "bbcf1156",
   "metadata": {},
   "outputs": [],
   "source": [
    "file1 = xr.open_dataset(path4+'/state_001.nc')\n",
    "u1 = file1.U.data.mean(axis=(0,2))\n",
    "\n",
    "file2 = xr.open_dataset(path5+'/state_001.nc')\n",
    "u2 = file2.U.data.mean(axis=(0,2))\n",
    "\n",
    "\n",
    "file3 = xr.open_dataset(path6+'/state_001.nc')\n",
    "u3 = file3.U.data.mean(axis=(0,2))"
   ]
  },
  {
   "cell_type": "code",
   "execution_count": 34,
   "id": "849caacf",
   "metadata": {},
   "outputs": [
    {
     "data": {
      "text/plain": [
       "(array([-2.7316133e-05, -2.0159809e-05, -2.0470095e-06,  6.6996334e-05,\n",
       "         0.0000000e+00,  0.0000000e+00,  0.0000000e+00,  0.0000000e+00,\n",
       "         0.0000000e+00,  0.0000000e+00,  0.0000000e+00,  0.0000000e+00,\n",
       "         0.0000000e+00,  0.0000000e+00,  0.0000000e+00,  0.0000000e+00,\n",
       "         0.0000000e+00,  0.0000000e+00,  0.0000000e+00,  0.0000000e+00,\n",
       "         0.0000000e+00,  0.0000000e+00,  0.0000000e+00,  0.0000000e+00,\n",
       "         0.0000000e+00,  0.0000000e+00,  0.0000000e+00,  0.0000000e+00,\n",
       "         0.0000000e+00,  0.0000000e+00,  0.0000000e+00,  0.0000000e+00,\n",
       "         0.0000000e+00,  0.0000000e+00,  0.0000000e+00,  0.0000000e+00,\n",
       "         0.0000000e+00,  0.0000000e+00,  0.0000000e+00,  0.0000000e+00,\n",
       "         0.0000000e+00,  0.0000000e+00,  0.0000000e+00,  0.0000000e+00,\n",
       "         0.0000000e+00], dtype=float32),\n",
       " array([-8.0641941e-05, -7.3576804e-05, -5.5235771e-05, -2.4963594e-05,\n",
       "         1.2348320e-05,  4.8706926e-05,  8.1818696e-05,  1.0909353e-04,\n",
       "         0.0000000e+00,  0.0000000e+00,  0.0000000e+00,  0.0000000e+00,\n",
       "         0.0000000e+00,  0.0000000e+00,  0.0000000e+00,  0.0000000e+00,\n",
       "         0.0000000e+00,  0.0000000e+00,  0.0000000e+00,  0.0000000e+00,\n",
       "         0.0000000e+00,  0.0000000e+00,  0.0000000e+00,  0.0000000e+00,\n",
       "         0.0000000e+00,  0.0000000e+00,  0.0000000e+00,  0.0000000e+00,\n",
       "         0.0000000e+00,  0.0000000e+00,  0.0000000e+00,  0.0000000e+00,\n",
       "         0.0000000e+00,  0.0000000e+00,  0.0000000e+00,  0.0000000e+00,\n",
       "         0.0000000e+00,  0.0000000e+00,  0.0000000e+00,  0.0000000e+00,\n",
       "         0.0000000e+00,  0.0000000e+00,  0.0000000e+00,  0.0000000e+00,\n",
       "         0.0000000e+00], dtype=float32),\n",
       " array([-9.9067991e-05, -8.9962632e-05, -6.8403860e-05, -3.3449356e-05,\n",
       "         1.1329860e-05,  5.7845427e-05,  9.4861498e-05,  1.1029559e-04,\n",
       "         9.4765237e-05,  4.0263276e-05, -5.0721414e-05,  0.0000000e+00,\n",
       "         0.0000000e+00,  0.0000000e+00,  0.0000000e+00,  0.0000000e+00,\n",
       "         0.0000000e+00,  0.0000000e+00,  0.0000000e+00,  0.0000000e+00,\n",
       "         0.0000000e+00,  0.0000000e+00,  0.0000000e+00,  0.0000000e+00,\n",
       "         0.0000000e+00,  0.0000000e+00,  0.0000000e+00,  0.0000000e+00,\n",
       "         0.0000000e+00,  0.0000000e+00,  0.0000000e+00,  0.0000000e+00,\n",
       "         0.0000000e+00,  0.0000000e+00,  0.0000000e+00,  0.0000000e+00,\n",
       "         0.0000000e+00,  0.0000000e+00,  0.0000000e+00,  0.0000000e+00,\n",
       "         0.0000000e+00,  0.0000000e+00,  0.0000000e+00,  0.0000000e+00,\n",
       "         0.0000000e+00], dtype=float32))"
      ]
     },
     "execution_count": 34,
     "metadata": {},
     "output_type": "execute_result"
    }
   ],
   "source": [
    "u1[:,178], u2[:,178], u3[:,178]"
   ]
  },
  {
   "cell_type": "code",
   "execution_count": 6,
   "id": "da4dabb1",
   "metadata": {},
   "outputs": [
    {
     "data": {
      "text/plain": [
       "Text(0.0, 1.0, '(a) $h=400m$')"
      ]
     },
     "execution_count": 6,
     "metadata": {},
     "output_type": "execute_result"
    },
    {
     "data": {
      "image/png": "[encoded data removed]",
      "text/plain": [
       "<Figure size 720x360 with 2 Axes>"
      ]
     },
     "metadata": {
      "needs_background": "light"
     },
     "output_type": "display_data"
    }
   ],
   "source": [
    "fig1 = plt.figure(figsize=(10,5))\n",
    "ax1 = fig1.add_subplot(121)\n",
    "ax2 = fig1.add_subplot(122)\n",
    "\n",
    "qsg = np.arange(0,1050,50)\n",
    "#ax.plot(qsg,qsg**(2/5), 'k-',lw=3,alpha=.5,label=r'$Q^{2/5}_{sg}$')\n",
    "#ax1.plot(Qsg,Qsm1,'o-k',ms=6, lw=1.5,label=r'$h_s/h=1$')\n",
    "ax1.plot(Qsg,Qsm3,'o-r',ms=6, lw=1.5,label=r'$h_s/h=0.04$')\n",
    "ax1.plot(Qsg,Qsm4,'o-b',ms=6, lw=1.5,label=r'$h_s/h=0.04$')\n",
    "\n",
    "ax1.legend(loc='best', fontsize=12)\n",
    "ax1.set_xlabel(r'$Q_{sg}\\;[m^3/s]$',size = 15)\n",
    "ax1.set_ylabel(r'$Q_{sm}\\;[m^3/s]$',size = 15)\n",
    "ax1.grid(linestyle='--', linewidth=0.5)\n",
    "ax1.tick_params(direction='in', labelsize=15)\n",
    "ax1.set_title(r'(a) $h=400m$', loc='left', size=15, weight='bold')\n",
    "\n",
    "\n",
    "# ax2.plot(Qsg,Qsm4,'o--b',ms=6, lw=1.5,label=r'$h_s=0.04$')\n",
    "# ax2.plot(Qsg,Qsm5,'o--',ms=6, lw=1.5,label=r'$h_s=0.08$')\n",
    "# ax2.plot(Qsg,Qsm6,'o--r',ms=6, lw=1.5,label=r'$h_s=0.12$')\n",
    "# ax2.plot(Qsg,Qsm7,'o--',ms=6, lw=1.5,label=r'$h_s=0.24$')\n",
    "# ax2.plot(Qsg,Qsm7,'o--k',ms=6, lw=1.5,label=r'$h_s=1$')\n",
    "# ax2.legend(loc='best', fontsize=12)\n",
    "# ax2.set_xlabel(r'$Q_{sg}\\;[m^3/s]$',size = 15)\n",
    "# #ax2.set_ylabel(r'$Q_{sm}\\;[m^3/s]$',size = 15)\n",
    "# ax2.grid(linestyle='--', linewidth=0.5)\n",
    "# ax2.tick_params(direction='in', labelsize=15)\n",
    "# ax2.set_title(r'(b) $h=200m$', loc='left', size=15, weight='bold')"
   ]
  },
  {
   "cell_type": "code",
   "execution_count": null,
   "id": "f0477ca8",
   "metadata": {},
   "outputs": [],
   "source": []
  },
  {
   "cell_type": "code",
   "execution_count": null,
   "id": "8538b9d9",
   "metadata": {},
   "outputs": [],
   "source": [
    "fig_path =\"/home/1959/Jupyter_Figs/FjordModeling/\"\n",
    "if not os.path.exists(fig_path):\n",
    "    os.makedirs(fig_path)\n",
    "#fig1.savefig(fig_path + '/6-QsgCase.png', dpi=200, bbox_inches='tight') \n",
    "fig2.savefig(fig_path + '/Qsg-Qsm.png', dpi=200, bbox_inches='tight') "
   ]
  }
 ],
 "metadata": {
  "kernelspec": {
   "display_name": "Python 3 (ipykernel)",
   "language": "python",
   "name": "python3"
  },
  "language_info": {
   "codemirror_mode": {
    "name": "ipython",
    "version": 3
   },
   "file_extension": ".py",
   "mimetype": "text/x-python",
   "name": "python",
   "nbconvert_exporter": "python",
   "pygments_lexer": "ipython3",
   "version": "3.7.11"
  }
 },
 "nbformat": 4,
 "nbformat_minor": 5
}
