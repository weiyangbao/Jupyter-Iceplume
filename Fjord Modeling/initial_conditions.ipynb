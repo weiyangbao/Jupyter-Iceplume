{
 "cells": [
  {
   "cell_type": "code",
   "execution_count": 1,
   "id": "2dd8dfdf",
   "metadata": {},
   "outputs": [],
   "source": [
    "# Initial T S Profiles\n",
    "import xarray as xr\n",
    "import numpy as np\n",
    "import matplotlib.pyplot as plt\n",
    "import os"
   ]
  },
  {
   "cell_type": "code",
   "execution_count": null,
   "id": "e817c5d6",
   "metadata": {},
   "outputs": [],
   "source": [
    "#'/Volumes/Extreme SSD/MITgcm outputs/qf700_strat/state_001.nc'\n",
    "# '/Users/weiyangbao/Documents/Model_outputs/4_Sz_maxhs'\n",
    "datapath = '/work/oceans/wbao/MITgcm_results/iceplume/Sal_Linear_minhs'\n",
    "state1 = xr.open_dataset(datapath + '/state_001.nc')\n",
    "state2 = xr.open_dataset(datapath + '/state_002.nc')\n",
    "state3 = xr.open_dataset(datapath + '/state_003.nc')\n",
    "state4 = xr.open_dataset(datapath + '/state_004.nc')\n",
    "\n",
    "\n",
    "s_ini1 = state1.S.data[0,:,:,:]\n",
    "s_ini2 = state2.S.data[0,:,:,:]\n",
    "s_ini3 = state3.S.data[0,:,:,:]\n",
    "s_ini4 = state4.S.data[0,:,:,:]\n",
    "\n",
    "pt_ini1 = state1.Temp.data[0,:,:,:]\n",
    "pt_ini2 = state2.Temp.data[0,:,:,:]\n",
    "pt_ini3 = state3.Temp.data[0,:,:,:]\n",
    "pt_ini4 = state4.Temp.data[0,:,:,:]\n",
    "\n",
    "s_end1 = state1.S.data[-1,:,:,:]\n",
    "s_end2 = state2.S.data[-1,:,:,:]\n",
    "s_end3 = state3.S.data[-1,:,:,:]\n",
    "s_end4 = state4.S.data[-1,:,:,:]\n",
    "\n",
    "pt_end1 = state1.Temp.data[-1,:,:,:]\n",
    "pt_end2 = state2.Temp.data[-1,:,:,:]\n",
    "pt_end3 = state3.Temp.data[-1,:,:,:]\n",
    "pt_end4 = state4.Temp.data[-1,:,:,:]\n",
    "\n",
    "depth = state1.Z.data"
   ]
  },
  {
   "cell_type": "code",
   "execution_count": null,
   "id": "c767bea7",
   "metadata": {},
   "outputs": [],
   "source": [
    "xi, yi = 10, 35\n",
    "\n",
    "fig1 = plt.figure(figsize=(6,9))\n",
    "fig1.tight_layout()  \n",
    "\n",
    "ax1 = fig1.add_subplot(111)\n",
    "ax1.set_ylim([-400, 0])\n",
    "ax2 = ax1.twiny()\n",
    "\n",
    "ax1.plot(pt_ini1[:,yi,xi], depth, 'k--', lw=2, label=r'$T_0$')\n",
    "ax2.plot(s_ini1[:,yi,xi], depth, '-', lw=2, label=r'$\\frac{\\partial s_0}{\\partial z}$')\n",
    "ax2.plot(s_ini2[:,yi,xi], depth, '-', lw=2, label=r'$2\\frac{\\partial s_0}{\\partial z}$')\n",
    "ax2.plot(s_ini3[:,yi,xi], depth, '-', lw=2, label=r'$3\\frac{\\partial s_0}{\\partial z}$')\n",
    "ax2.plot(s_ini4[:,yi,xi], depth, '-', lw=2, label=r'$4\\frac{\\partial s_0}{\\partial z}$')\n",
    "#ax2.plot(s_ini4[:,yi,xi], depth, '-', lw=2, label=r'case 4')\n",
    "ax1.legend(loc='center left', fontsize=12)\n",
    "ax2.legend(loc='upper left', fontsize=12)\n",
    "\n",
    "\n",
    "ax1.set_ylabel(r'Depth [m]', size=12)\n",
    "ax1.set_xlabel(r'Temperature [$^\\circ$C]', size=12)\n",
    "ax2.set_xlabel(r'Salinity [psu]', size=12)\n",
    "\n",
    "ax1.yaxis.set_tick_params(labelsize=12)\n",
    "ax1.xaxis.set_tick_params(labelsize=12)\n",
    "ax2.xaxis.set_tick_params(labelsize=12)\n",
    "#ax2.set_xticks(fontsize=15)\n",
    "plt.show()"
   ]
  }
 ],
 "metadata": {
  "kernelspec": {
   "display_name": "Python 3 (ipykernel)",
   "language": "python",
   "name": "python3"
  },
  "language_info": {
   "codemirror_mode": {
    "name": "ipython",
    "version": 3
   },
   "file_extension": ".py",
   "mimetype": "text/x-python",
   "name": "python",
   "nbconvert_exporter": "python",
   "pygments_lexer": "ipython3",
   "version": "3.7.11"
  }
 },
 "nbformat": 4,
 "nbformat_minor": 5
}
