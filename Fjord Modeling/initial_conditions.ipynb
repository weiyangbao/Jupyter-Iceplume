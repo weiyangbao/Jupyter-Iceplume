{
 "cells": [
  {
   "cell_type": "code",
   "execution_count": 1,
   "id": "2dd8dfdf",
   "metadata": {},
   "outputs": [],
   "source": [
    "# Initial T S Profiles\n",
    "import xarray as xr\n",
    "import numpy as np\n",
    "import matplotlib.pyplot as plt\n",
    "import os"
   ]
  },
  {
   "cell_type": "code",
   "execution_count": null,
   "id": "e817c5d6",
   "metadata": {},
   "outputs": [],
   "source": [
    "#'/Volumes/Extreme SSD/MITgcm outputs/qf700_strat/state_001.nc'\n",
    "# '/Users/weiyangbao/Documents/Model_outputs/4_Sz_maxhs'\n",
    "# '/work/oceans/wbao/MITgcm_results/iceplume'\n",
    "# '/Volumes/SSD-2T/MITgcm_outputs/Sal_Linear_minhs'\n",
    "# /work/oceans/wbao/MITgcm_results/iceplume/1_BaseCase_nTemp\n",
    "#datapath = '/work/oceans/wbao/MITgcm_results/iceplume/1_BaseCase_nTemp'\n",
    "\n",
    "state1 = xr.open_dataset('/work/oceans/wbao/MITgcm_results/iceplume/1_BaseCase_nTemp/state_005.nc')\n",
    "# state2 = xr.open_dataset('/work/oceans/wbao/MITgcm_results/iceplume/1_BaseCase_nTemp/state_002.nc')\n",
    "# state3 = xr.open_dataset('/work/oceans/wbao/MITgcm_results/iceplume/1_BaseCase_nTemp/state_003.nc')\n",
    "# state4 = xr.open_dataset('/work/oceans/wbao/MITgcm_results/iceplume/1_BaseCase_nTemp/state_004.nc')\n",
    "\n",
    "\n",
    "s_ini1 = state1.S.data[0,:,:,:]\n",
    "# s_ini2 = state2.S.data[0,:,:,:]\n",
    "# s_ini3 = state3.S.data[0,:,:,:]\n",
    "# s_ini4 = state4.S.data[0,:,:,:]\n",
    "\n",
    "pt_ini1 = state1.Temp.data[0,:,:,:]\n",
    "# pt_ini2 = state2.Temp.data[0,:,:,:]\n",
    "# pt_ini3 = state3.Temp.data[0,:,:,:]\n",
    "# pt_ini4 = state4.Temp.data[0,:,:,:]\n",
    "\n",
    "# s_end1 = state1.S.data[-1,:,:,:]\n",
    "# s_end2 = state2.S.data[-1,:,:,:]\n",
    "# s_end3 = state3.S.data[-1,:,:,:]\n",
    "# s_end4 = state4.S.data[-1,:,:,:]\n",
    "\n",
    "# pt_end1 = state1.Temp.data[-1,:,:,:]\n",
    "# pt_end2 = state2.Temp.data[-1,:,:,:]\n",
    "# pt_end3 = state3.Temp.data[-1,:,:,:]\n",
    "# pt_end4 = state4.Temp.data[-1,:,:,:]\n",
    "\n",
    "depth = state1.Z.data"
   ]
  },
  {
   "cell_type": "code",
   "execution_count": null,
   "id": "c767bea7",
   "metadata": {},
   "outputs": [],
   "source": [
    "xi, yi = 10, 35\n",
    "\n",
    "fig1 = plt.figure(figsize=(6,9))\n",
    "fig1.tight_layout()  \n",
    "\n",
    "ax1 = fig1.add_subplot(111)\n",
    "ax1.set_ylim([-400, 0])\n",
    "ax2 = ax1.twiny()\n",
    "\n",
    "ax1.plot(pt_ini1[:,yi,xi], depth, 'r-', lw=2, label=r'$T_{ini}$')\n",
    "ax2.plot(s_ini1[:,yi,xi], depth, 'b-', lw=2, label=r'$S_{ini}$')\n",
    "\n",
    "#ax2.plot(s_ini1[:,yi,xi], depth, '-', lw=2, label=r'$4\\frac{\\partial s_0}{\\partial z}$')\n",
    "# ax2.plot(s_ini2[:,yi,xi], depth, '-', lw=2, label=r'$3\\frac{\\partial s_0}{\\partial z}$')\n",
    "# ax2.plot(s_ini3[:,yi,xi], depth, '-', lw=2, label=r'$2\\frac{\\partial s_0}{\\partial z}$')\n",
    "# ax2.plot(s_ini4[:,yi,xi], depth, '-', lw=2, label=r'$1\\frac{\\partial s_0}{\\partial z}$')\n",
    "#ax2.plot(s_ini4[:,yi,xi], depth, '-', lw=2, label=r'case 4')\n",
    "ax1.legend(loc='right', fontsize=15)\n",
    "ax2.legend(loc='upper right', fontsize=15)\n",
    "\n",
    "\n",
    "ax1.set_ylabel(r'Depth [m]', size=15)\n",
    "ax1.set_xlabel(r'Temperature [$^\\circ$C]', size=15)\n",
    "ax2.set_xlabel(r'Salinity [psu]', size=15)\n",
    "\n",
    "ax1.yaxis.set_tick_params(labelsize=15)\n",
    "ax1.xaxis.set_tick_params(labelsize=15)\n",
    "ax2.xaxis.set_tick_params(labelsize=15)\n",
    "#ax2.set_xticks(fontsize=15)\n",
    "plt.show()"
   ]
  },
  {
   "cell_type": "code",
   "execution_count": null,
   "id": "c3a6abef-b2c2-4f15-bb57-63f7f9a1e2bc",
   "metadata": {},
   "outputs": [],
   "source": []
  }
 ],
 "metadata": {
  "kernelspec": {
   "display_name": "Python 3 (ipykernel)",
   "language": "python",
   "name": "python3"
  },
  "language_info": {
   "codemirror_mode": {
    "name": "ipython",
    "version": 3
   },
   "file_extension": ".py",
   "mimetype": "text/x-python",
   "name": "python",
   "nbconvert_exporter": "python",
   "pygments_lexer": "ipython3",
   "version": "3.7.11"
  }
 },
 "nbformat": 4,
 "nbformat_minor": 5
}
