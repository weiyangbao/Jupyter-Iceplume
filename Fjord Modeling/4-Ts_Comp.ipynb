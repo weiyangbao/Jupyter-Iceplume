{
 "cells": [
  {
   "cell_type": "code",
   "execution_count": 1,
   "id": "743c5e48",
   "metadata": {},
   "outputs": [],
   "source": [
    "# Calculate the saltier-layer temperature from TEF and Reflux\n",
    "import xarray as xr\n",
    "import numpy as np\n",
    "import matplotlib.pyplot as plt\n",
    "import os, sys\n",
    "sys.path.append(os.path.abspath('../TEF'))\n",
    "import TEF_Variables as tef"
   ]
  },
  {
   "cell_type": "code",
   "execution_count": 2,
   "id": "5832d3f1",
   "metadata": {},
   "outputs": [],
   "source": [
    "def reflux(case_id, xi):    \n",
    "\n",
    "    File1 = xr.open_dataset('/work/oceans/wbao/MITgcm_results/iceplume/1_BaseCase/state_' + str(format(case_id,'03d')) + '.nc')\n",
    "    State = File1.isel(T=~File1.get_index(\"T\").duplicated())\n",
    "    Grid = xr.open_dataset('/work/oceans/wbao/MITgcm_results/iceplume/1_BaseCase/grid_' + str(format(case_id,'03d')) + '.nc')\n",
    "\n",
    "    state = State.isel(X=range(260), Xp1=range(261), Y=range(35,45), T=range(1,len(State.T)))\n",
    "    grid = Grid.isel(X=range(260), Xp1=range(261), Y=range(35,45))\n",
    "    s = state.S.data.mean(2) # Salinity in T,Z,X\n",
    "    u = (state.U.data[:,:,:,1:].mean(2) + state.U.data[:,:,:,:-1].mean(2)) / 2 # Along channel velocity\n",
    "    ot = state.T.data # Time in seconds\n",
    "\n",
    "\n",
    "    HFacC1 = grid.HFacC.data.mean(1)\n",
    "    dyF1 = grid.dyF.data.mean(0)\n",
    "    drF1 = grid.drF.data\n",
    "    gridA = np.broadcast_to(drF1[:, np.newaxis], HFacC1.shape) * np.broadcast_to(dyF1[np.newaxis, :], HFacC1.shape) * HFacC1 # Grid Area\n",
    "    da = np.broadcast_to(gridA[np.newaxis,:,:], u.shape)\n",
    "\n",
    "    S = state.S.data\n",
    "    U = (state.U.data[:,:,:,1:] + state.U.data[:,:,:,:-1]) / 2\n",
    "    drF = np.broadcast_to(grid.drF.data[np.newaxis, :, np.newaxis, np.newaxis], U.shape)\n",
    "    dyF = np.broadcast_to(grid.dyF.data[np.newaxis, np.newaxis, :, :], U.shape)\n",
    "    HFacC = np.broadcast_to(grid.HFacC.data[np.newaxis, :, :, :], U.shape)\n",
    "    DA = drF * dyF * HFacC\n",
    "    \n",
    "    \n",
    "    Qin = np.empty(len(xi))\n",
    "    Qout = np.empty(len(xi))\n",
    "    Sin = np.empty(len(xi))\n",
    "    Sout = np.empty(len(xi))\n",
    "    \n",
    "    t0 = 89 # 274\n",
    "    # Exclude the upper (surface) layer for TEF calculation\n",
    "    for t in range(U.shape[0]):\n",
    "        \n",
    "        Uzx = u[t,:,:] # Steady-state along-channel velocity\n",
    "        for j in range(Uzx.shape[1]):\n",
    "            if any(Uzx[:,j]>0)==False:\n",
    "                pass\n",
    "            else:\n",
    "                mid = np.where(Uzx[:,j]>0)[0][0]\n",
    "                if mid>0:\n",
    "                    S[t,:mid,:,j] = 0\n",
    "                    U[t,:mid,:,j] = 0\n",
    "                else:\n",
    "                    pass\n",
    "\n",
    "#     Uzx = u[t0:,:,:].mean(0) # Steady-state along-channel velocity\n",
    "#     for j in range(Uzx.shape[1]):\n",
    "#         if any(Uzx[:,j]>0)==False:\n",
    "#             pass\n",
    "#         else:\n",
    "#             mid = np.where(Uzx[:,j]>0)[0][0]\n",
    "#             if mid>0:\n",
    "#                 S[:,:mid,:,j] = 0\n",
    "#                 U[:,:mid,:,j] = 0\n",
    "#             else:\n",
    "#                 pass\n",
    "    \n",
    "    \n",
    "    for i in range(len(xi)):\n",
    "        \n",
    "        \n",
    "        \n",
    "        tef_q1, tef_vel1, tef_da1, tef_qs1, tef_qs21, sbins1 = tef.process_section(U,S,DA,ot,xi[i],23,testing=False)\n",
    "\n",
    "        qin1, qout1, sin1, sout1 = tef.bulk_calc(tef_q1, tef_vel1, tef_da1, tef_qs1, tef_qs21, sbins1, ot)\n",
    "    \n",
    "\n",
    "        Qin[i] = qin1[t0:].mean() # Time averaging from 1+t0 hour\n",
    "        Qout[i] = qout1[t0:].mean()\n",
    "        Sin[i] = sin1[t0:].mean() # Time averaging from 1+t0 hour\n",
    "        Sout[i] = sout1[t0:].mean()\n",
    "        \n",
    "    a002 = (Sin[0]/Sout[0])*(Sout[1]-Sout[0])/(Sout[1]-Sin[0])\n",
    "    a001 = (Qin[0]-Qin[1]) / Qin[0]    \n",
    "    a11 = (Sout[1]/Sin[1])*(Sin[1]-Sin[0])/(Sout[1]-Sin[0])    \n",
    "    a01 = (Sout[1]/Sout[0])*(Sout[0]-Sin[0])/(Sout[1]-Sin[0])\n",
    "    \n",
    "    a10 = (Sin[0]/Sin[1])*(Sout[1]-Sin[1])/(Sout[1]-Sin[0])\n",
    "    \n",
    "    #a00 = -(Qout[0]/Qin[0])*(Sout[1]-Sout[0])/(Sout[1]-Sin[0])\n",
    "    #a11 = -(Qin[1]/Qout[1])*(Sin[1]-Sin[0])/(Sout[1]-Sin[0])\n",
    "    #a01 = (Qin[1]/Qin[0])*(Sout[1]-Sin[1])/(Sout[1]-Sin[0])\n",
    "    #a10 = (Qout[0]/Qout[1])*(Sout[0]-Sin[0])/(Sout[1]-Sin[0])\n",
    "    \n",
    "    q0 = Qin[0]\n",
    "    q1 = -Qout[-1]\n",
    "    Q0 = -Qout[0]\n",
    "    Q1 = Qin[-1]\n",
    "    f0 = Sin[0]*q0\n",
    "    f1 = Sout[-1]*q1\n",
    "    F0 = Sout[0]*Q0\n",
    "    F1 = Sin[-1]*Q1\n",
    "    \n",
    "    A = np.array([[q1, q0, 0, 0], [f1, f0, 0, 0], [0, 0, q1, q0], [0, 0, f1, f0]])\n",
    "    B = np.array([Q1, F1, Q0, F0])\n",
    "    X = np.linalg.solve(A,B) # a11, a01, a10, a00\n",
    "    \n",
    "    #return a00,q q0, q1, Q0\n",
    "    #return a001, a002, X[-1]\n",
    "    return X[0],X[-1],q1,q0,Q1,Q0"
   ]
  },
  {
   "cell_type": "code",
   "execution_count": 3,
   "id": "26aa6e17",
   "metadata": {},
   "outputs": [],
   "source": [
    "def vol_temp(case_id, xi):\n",
    "    \n",
    "    File1 = xr.open_dataset('/work/oceans/wbao/MITgcm_results/iceplume/1_BaseCase/state_' + str(format(case_id,'03d')) + '.nc')\n",
    "    Grid = xr.open_dataset('/work/oceans/wbao/MITgcm_results/iceplume/1_BaseCase/grid_' + str(format(case_id,'03d')) + '.nc')  \n",
    "    State = File1.isel(T=~File1.get_index(\"T\").duplicated())\n",
    "    \n",
    "    # Confine to the range of fjord\n",
    "    state = State.isel(X=range(260), Xp1=range(261), Y=range(35,45), T=range(1,len(State.T)))\n",
    "    grid = Grid.isel(X=range(260), Xp1=range(261), Y=range(35,45))\n",
    "\n",
    "    U = (state.U.data[:,:,:,1:] + state.U.data[:,:,:,:-1]) / 2 # Along-channel velocity\n",
    "    \n",
    "    drF = np.broadcast_to(grid.drF.data[np.newaxis, :, np.newaxis, np.newaxis], U.shape)\n",
    "    dyF = np.broadcast_to(grid.dyF.data[np.newaxis, np.newaxis, :, :], U.shape)\n",
    "    HFacC = np.broadcast_to(grid.HFacC.data[np.newaxis, :, :, :], U.shape)\n",
    "    DA = drF * dyF * HFacC\n",
    "    \n",
    "    rA = np.broadcast_to(grid.rA.data[np.newaxis, np.newaxis, :, :], U.shape)\n",
    "    CV = rA * drF * HFacC\n",
    "\n",
    "    \n",
    "    t0 = 89 # 274\n",
    "    da = DA[t0:,:,:,xi[0]+1:xi[1]+1].mean(axis=(0,2))\n",
    "    cv = CV[t0:,:,:,xi[0]+1:xi[1]+1].mean(axis=(0,2))\n",
    "    s = state.S.data[t0:,:,:,xi[0]+1:xi[1]+1].mean(axis=(0,2))\n",
    "    temp = state.Temp.data[t0:,:,:,xi[0]+1:xi[1]+1].mean(axis=(0,2))\n",
    "    u = U[t0:,:,:,xi[0]+1:xi[1]+1].mean(axis=(0,2))\n",
    "    sma = np.ma.masked_where(s==0, s)\n",
    "    topo = np.ma.getmask(sma) # Masked Topography\n",
    "    uma = np.ma.MaskedArray(u, mask=topo)\n",
    "    tma = np.ma.MaskedArray(temp, mask=topo)\n",
    "    \n",
    "    #HFacC = grid.HFacC.data\n",
    "    #CV = np.broadcast_to(grid.drF.data[:, np.newaxis, np.newaxis], HFacC.shape) * np.broadcast_to(grid.rA.data[np.newaxis, :, :], HFacC.shape) * HFacC # Cell Volume\n",
    "    \n",
    "    Tv1 = np.empty(uma.shape[1])\n",
    "    Tv2 = np.empty(uma.shape[1])\n",
    "    Vol1 = np.empty(uma.shape[1])\n",
    "    Vol2 = np.empty(uma.shape[1])\n",
    "    Tvol1 = np.empty(uma.shape[1])\n",
    "    Tvol2 = np.empty(uma.shape[1])\n",
    "    \n",
    "    for i in range(uma.shape[1]):      \n",
    "        \n",
    "#         if any(uma[:,i]>0)==False:\n",
    "#             pass\n",
    "#         else:\n",
    "#             mid = np.where(uma[:,i]>0)[0][0]\n",
    "#             if mid>0:\n",
    "#                 uma[:mid,i] = 0\n",
    "#             else:\n",
    "#                 pass\n",
    "\n",
    "            \n",
    "        if any(uma[:,i]<0)==False:\n",
    "            pass\n",
    "            \n",
    "        else:\n",
    "            #meanS = np.abs(sma[:,i] - (sma[:,i].max() + sma[:,i].min()) / 2)\n",
    "            #l = np.argmin(meanS)\n",
    "            l = np.where(uma[:,i] < 0)[-1][0]    \n",
    "            Tv1[i] = np.sum(tma[:l,i]*da[:l,i]*uma[:l,i]) / np.sum(da[:l,i]*uma[:l,i])\n",
    "            Tv2[i] = np.sum(tma[l:,i]*da[l:,i]*uma[l:,i]) / np.sum(da[l:,i]*uma[l:,i])\n",
    "            Vol1[i] = cv[:l,i].sum()\n",
    "            Vol2[i] = cv[l:,i].sum()\n",
    "            Tvol1[i] = np.sum(tma[:l,i]*cv[:l,i])\n",
    "            Tvol2[i] = np.sum(tma[l:,i]*cv[l:,i])\n",
    "            \n",
    "        Tf = Tv1[:-1].mean()\n",
    "        Ts = Tv2[:-1].mean()\n",
    "        #Tf = Tvol1[:-1].sum()/Vol1[:-1].sum()\n",
    "        #Ts = Tvol2[:-1].sum()/Vol2[:-1].sum()\n",
    "        Ts_in = Tv2[-1]\n",
    "            \n",
    "    return Tf, Ts, Ts_in\n",
    "    #return Tv1, Tv2"
   ]
  },
  {
   "cell_type": "code",
   "execution_count": 4,
   "id": "888a3ae7",
   "metadata": {},
   "outputs": [
    {
     "name": "stdout",
     "output_type": "stream",
     "text": [
      "  time 0 out of 120\n",
      "  time 0 out of 120\n",
      "  time 0 out of 120\n",
      "  time 0 out of 120\n",
      "  time 0 out of 120\n",
      "  time 0 out of 120\n",
      "  time 0 out of 120\n",
      "  time 0 out of 120\n",
      "  time 0 out of 120\n",
      "  time 0 out of 120\n"
     ]
    }
   ],
   "source": [
    "qsg = 250\n",
    "case_n = np.array([1,2,3,4,5])\n",
    "xrange1 = np.array([5,120]) # 3~47 47~97\n",
    "xrange2 = np.array([120,235]) # 3~47 47~97\n",
    "\n",
    "rflx1 = np.empty(len(case_n))\n",
    "alp111 = np.empty(len(case_n))\n",
    "alp001 = np.empty(len(case_n))\n",
    "Qin01 = np.empty(len(case_n))\n",
    "Qin11 = np.empty(len(case_n))\n",
    "Qout01 = np.empty(len(case_n))\n",
    "Ts1 = np.empty(len(case_n))\n",
    "Tf1 = np.empty(len(case_n))\n",
    "Ts_in1 = np.empty(len(case_n))\n",
    "\n",
    "\n",
    "rflx2 = np.empty(len(case_n))\n",
    "alp112 = np.empty(len(case_n))\n",
    "alp002 = np.empty(len(case_n))\n",
    "Qin02 = np.empty(len(case_n))\n",
    "Qin12 = np.empty(len(case_n))\n",
    "Qout02 = np.empty(len(case_n))\n",
    "Ts2 = np.empty(len(case_n))\n",
    "Tf2 = np.empty(len(case_n))\n",
    "Ts_in2 = np.empty(len(case_n))\n",
    "\n",
    "\n",
    "\n",
    "for j in range(len(case_n)):\n",
    "    \n",
    "    #alp111[j], alp001[j], Qin11[j], Qin01[j], Qout11, Qout01[j] = reflux(qsg,hs[j],xrange1)\n",
    "    \n",
    "    #Tf1[j], Ts1[j], Ts_in1[j] = vol_temp(qsg,hs[j],xrange1)\n",
    "    \n",
    "    alp112[j], alp002[j], Qin12[j], Qin02[j], Qout12, Qout02[j] = reflux(case_n[j],xrange2)\n",
    "    \n",
    "    Tf2[j], Ts2[j], Ts_in2[j] = vol_temp(case_n[j],xrange2)"
   ]
  },
  {
   "cell_type": "code",
   "execution_count": 5,
   "id": "ef13c8c2",
   "metadata": {},
   "outputs": [],
   "source": [
    "Tse2 = ((Ts_in2)*Qin12*(1-alp112) + (Tf2)*Qin02*alp002) / Qout02\n",
    "Tr_est = Tse2 / Ts_in2\n",
    "Tr_obs = Ts2 / Ts_in2\n"
   ]
  },
  {
   "cell_type": "code",
   "execution_count": 5,
   "id": "521825dc",
   "metadata": {},
   "outputs": [
    {
     "data": {
      "text/plain": [
       "array([ 9.55170132,  9.70742631,  9.79747559,  9.8583672 ,  9.89996634,\n",
       "       -1.91376562])"
      ]
     },
     "execution_count": 5,
     "metadata": {},
     "output_type": "execute_result"
    }
   ],
   "source": [
    "Ts2"
   ]
  },
  {
   "cell_type": "code",
   "execution_count": null,
   "id": "3f8f3a84",
   "metadata": {},
   "outputs": [],
   "source": [
    "hsr = [0.04, 0.06, 0.08, 0.10, 0.12]\n",
    "#fig1, (ax1, ax2) = plt.subplots(1,2, figsize=(10,5))\n",
    "fig1, ax1 = plt.subplots(figsize=(5,5))\n",
    "plt.grid(linestyle = '--', linewidth = 0.5)\n",
    "\n",
    "#plt.axis('square')\n",
    "plt.xticks(fontsize=12)\n",
    "plt.yticks(fontsize=12)\n",
    "plt.xlabel(r'$h_s/h$', size=12)\n",
    "plt.ylabel(r'$T_{fjord}/T_{shelf}$',size=12)\n",
    "\n",
    "ax1.plot(hsr, Tr_est, 'o-', lw=2,label=r'Estimated')\n",
    "ax1.plot(hsr, Tr_obs, 'o-', lw=2, label=r'Modeled')\n",
    "ax1.legend(loc='best', fontsize=12)\n",
    "ax1.set_ylim([0.9, 1])\n",
    "\n",
    "ax1.set_xticks([0.04, 0.06, 0.08, 0.10, 0.12])\n",
    "plt.show()"
   ]
  },
  {
   "cell_type": "code",
   "execution_count": null,
   "id": "719bd1fe",
   "metadata": {},
   "outputs": [],
   "source": [
    "corr_matrix = np.corrcoef(Tr_obs, Tr_est)\n",
    "corr = corr_matrix[0,1]\n",
    "R_sq = corr**2\n",
    "print(R_sq)"
   ]
  },
  {
   "cell_type": "code",
   "execution_count": 7,
   "id": "8a61ace5",
   "metadata": {},
   "outputs": [
    {
     "data": {
      "image/png": "[encoded data removed]",
      "text/plain": [
       "<Figure size 288x288 with 1 Axes>"
      ]
     },
     "metadata": {
      "needs_background": "light"
     },
     "output_type": "display_data"
    }
   ],
   "source": [
    "fig2, ax2 =plt.subplots(figsize=(4,4))\n",
    "\n",
    "\n",
    "ax2.set(xlim=(.9, 1), ylim=(.9, 1))\n",
    "plt.axis('square')\n",
    "plt.grid(ls='--', lw=.5)\n",
    "plt.xlabel(r'Estimated', size=15)\n",
    "plt.ylabel(r'Modeled', size=15)\n",
    "ax2.set_title(r'$T_{fjord}/T_{shelf}$', size=15)\n",
    "ax2.plot(ax2.get_xlim(), ax2.get_ylim(), ls=\"--\", lw=1.5, c=\"brown\")\n",
    "ax2.tick_params(direction='in', labelsize=12)\n",
    "loc_mark = [.91, .99]\n",
    "plt.plot(loc_mark[0],loc_mark[1], marker='o', alpha=.7, ms=15, color='blue', markeredgecolor='k')\n",
    "plt.text(loc_mark[0]+0.005, loc_mark[1]-0.002, r'$h_s/h=0.04\\sim0.12$', fontsize=12)\n",
    "plt.text(.96, .93, r'$r^2=0.99$', fontsize=12)\n",
    "\n",
    "#for side in ax2.spines.keys():  # 'top', 'bottom', 'left', 'right'\n",
    "#    ax2.spines[side].set_linewidth(1.5)\n",
    "#    ax2.spines[side].set_color('red')\n",
    "\n",
    "for j in range(len(Tr_est)):\n",
    "\n",
    "    ax2.plot(Tr_est[j], Tr_obs[j], marker='o', alpha=.7, ms=3*(j+3), color='orange', markeredgecolor='k')\n",
    "\n"
   ]
  },
  {
   "cell_type": "code",
   "execution_count": 14,
   "id": "720723b8",
   "metadata": {},
   "outputs": [],
   "source": [
    "datapath = '/work/oceans/wbao/MITgcm_results/iceplume/1_BaseCase'\n",
    "def IFA(Hs):\n",
    "    # Grid areas    \n",
    "    Area = np.empty([90, 10])\n",
    "    Area[:20,:] = 400\n",
    "    Area[20:50,:] = 800\n",
    "    Area[50:,:] = 1200\n",
    "\n",
    "    file0 = xr.open_dataset(datapath + '/icefrntA_' + str(format(Hs,'03d')) + '.nc')\n",
    "    t0 = 0\n",
    "    tn = 120\n",
    "    # removed duplicated data caused by model restart\n",
    "    file = file0.isel(T=~file0.get_index(\"T\").duplicated())\n",
    "    state = file.isel(Y=range(35,45), T=range(t0,tn))\n",
    "    \n",
    "    MR = state.icefrntA.isel(X=1).data.mean(0) # Melt rate at the icefront\n",
    "    Qsm = (MR*Area).sum()/(24*3600)\n",
    "    return Qsm"
   ]
  },
  {
   "cell_type": "code",
   "execution_count": 18,
   "id": "6c57b6f7",
   "metadata": {},
   "outputs": [],
   "source": [
    "\n",
    "def icefrntT(case_id):\n",
    "    File1 = xr.open_dataset(datapath + '/state_' + str(format(case_id,'03d')) + '.nc')\n",
    "    Grid = xr.open_dataset(datapath + '/grid_' + str(format(case_id,'03d')) + '.nc')  \n",
    "    State = File1.isel(T=~File1.get_index(\"T\").duplicated())\n",
    "    \n",
    "    # Confine to the range of fjord\n",
    "    state = State.isel(X=range(260), Xp1=range(261), Y=range(35,45), T=range(1,len(State.T)))\n",
    "    grid = Grid.isel(X=range(260), Xp1=range(261), Y=range(35,45))\n",
    "\n",
    "    U = (state.U.data[:,:,:,1:] + state.U.data[:,:,:,:-1]) / 2 # Along-channel velocity\n",
    "    \n",
    "    drF = np.broadcast_to(grid.drF.data[np.newaxis, :, np.newaxis, np.newaxis], U.shape)\n",
    "    dyF = np.broadcast_to(grid.dyF.data[np.newaxis, np.newaxis, :, :], U.shape)\n",
    "    HFacC = np.broadcast_to(grid.HFacC.data[np.newaxis, :, :, :], U.shape)\n",
    "    DA = drF * dyF * HFacC\n",
    "   \n",
    "    t0 = 0 # Starting time index\n",
    "    da = DA[t0:,:,:,1].mean(axis=(0,2))\n",
    "    Ti = state.Temp.data[t0:,:,:,1].mean(axis=(0,2))\n",
    "    Ui = U[t0:,:,:,1].mean(axis=(0,2))\n",
    "    \n",
    "    Tvi = np.sum(Ti*da) / np.sum(da)\n",
    "    return Tvi"
   ]
  },
  {
   "cell_type": "code",
   "execution_count": 19,
   "id": "a46f9a63",
   "metadata": {},
   "outputs": [],
   "source": [
    "Qsm = np.empty(len(case_n))\n",
    "Tice = np.empty(len(case_n))\n",
    "\n",
    "for j in range(len(case_n)):\n",
    "    \n",
    "    Qsm[j] = IFA(case_n[j])\n",
    "    Tice[j] = icefrntT(case_n[j])"
   ]
  },
  {
   "cell_type": "code",
   "execution_count": 22,
   "id": "0835a3e5",
   "metadata": {},
   "outputs": [
    {
     "data": {
      "text/plain": [
       "(array([ 9.91626286, 10.31809511, 10.35915423, 10.51910725, 10.86113773,\n",
       "         9.29910293]),\n",
       " array([9.45910646, 9.57853514, 9.67279932, 9.74809182, 9.79741639,\n",
       "        9.89509211]))"
      ]
     },
     "execution_count": 22,
     "metadata": {},
     "output_type": "execute_result"
    }
   ],
   "source": [
    "Qsm, np.sort(Tice)"
   ]
  },
  {
   "cell_type": "code",
   "execution_count": 26,
   "id": "676846dc",
   "metadata": {},
   "outputs": [
    {
     "data": {
      "image/png": "[encoded data removed]",
      "text/plain": [
       "<Figure size 360x360 with 1 Axes>"
      ]
     },
     "metadata": {
      "needs_background": "light"
     },
     "output_type": "display_data"
    }
   ],
   "source": [
    "fig3, ax3 = plt.subplots(figsize=(5,5))\n",
    "plt.grid(linestyle = '--', linewidth = 0.5)\n",
    "\n",
    "#plt.axis('square')\n",
    "plt.xticks(fontsize=12)\n",
    "plt.yticks(fontsize=12)\n",
    "plt.xlabel(r'$T_s$', size=12)\n",
    "plt.ylabel(r'$Q_{sm}\\;[m^3/s]$',size=12)\n",
    "\n",
    "ax3.plot(np.sort(Tice), np.sort(Qsm), 'o-', lw=2,label=r'$Q_{sg}=250m^3/s$')\n",
    "ax3.plot(Ts2[:-1], Qsm[:-1], 'o-', lw=2)\n",
    "ax3.legend(loc='best', fontsize=12)\n",
    "#ax3.set_xlim([9.5, 10])\n",
    "#ax1.set_xticks([0.04, 0.06, 0.08, 0.10, 0.12])\n",
    "plt.show()"
   ]
  },
  {
   "cell_type": "code",
   "execution_count": 8,
   "id": "8008e473",
   "metadata": {},
   "outputs": [],
   "source": [
    "fig_path =\"/home/1959/Jupyter_Figs/FjordModeling/\"\n",
    "if not os.path.exists(fig_path):\n",
    "    os.makedirs(fig_path)\n",
    "fig2.savefig(fig_path + '/4-Ts_Comp.png', dpi=200, bbox_inches='tight') "
   ]
  },
  {
   "cell_type": "code",
   "execution_count": null,
   "id": "6233a3b7",
   "metadata": {},
   "outputs": [],
   "source": []
  }
 ],
 "metadata": {
  "kernelspec": {
   "display_name": "Python 3 (ipykernel)",
   "language": "python",
   "name": "python3"
  },
  "language_info": {
   "codemirror_mode": {
    "name": "ipython",
    "version": 3
   },
   "file_extension": ".py",
   "mimetype": "text/x-python",
   "name": "python",
   "nbconvert_exporter": "python",
   "pygments_lexer": "ipython3",
   "version": "3.7.11"
  }
 },
 "nbformat": 4,
 "nbformat_minor": 5
}
