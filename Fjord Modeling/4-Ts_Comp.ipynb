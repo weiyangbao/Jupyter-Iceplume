{
 "cells": [
  {
   "cell_type": "code",
   "execution_count": 1,
   "id": "743c5e48",
   "metadata": {},
   "outputs": [],
   "source": [
    "# Calculate the saltier-layer temperature from TEF and Reflux\n",
    "import xarray as xr\n",
    "import numpy as np\n",
    "import matplotlib.pyplot as plt\n",
    "import os, sys\n",
    "sys.path.append(os.path.abspath('../TEF'))\n",
    "import TEF_Variables as tef"
   ]
  },
  {
   "cell_type": "code",
   "execution_count": null,
   "id": "5832d3f1",
   "metadata": {},
   "outputs": [],
   "source": [
    "def reflux(case_id, xi):    \n",
    "\n",
    "    File1 = xr.open_dataset('/work/oceans/wbao/MITgcm_results/iceplume/1_BaseCase/state_' + str(format(case_id,'03d')) + '.nc')\n",
    "    State = File1.isel(T=~File1.get_index(\"T\").duplicated())\n",
    "    Grid = xr.open_dataset('/work/oceans/wbao/MITgcm_results/iceplume/1_BaseCase/grid_' + str(format(case_id,'03d')) + '.nc')\n",
    "\n",
    "    state = State.isel(X=range(260), Xp1=range(261), Y=range(35,45), T=range(1,len(State.T)))\n",
    "    grid = Grid.isel(X=range(260), Xp1=range(261), Y=range(35,45))\n",
    "    s = state.S.data.mean(2) # Salinity in T,Z,X\n",
    "    u = (state.U.data[:,:,:,1:].mean(2) + state.U.data[:,:,:,:-1].mean(2)) / 2 # Along channel velocity\n",
    "    ot = state.T.data # Time in seconds\n",
    "\n",
    "\n",
    "    HFacC1 = grid.HFacC.data.mean(1)\n",
    "    dyF1 = grid.dyF.data.mean(0)\n",
    "    drF1 = grid.drF.data\n",
    "    gridA = np.broadcast_to(drF1[:, np.newaxis], HFacC1.shape) * np.broadcast_to(dyF1[np.newaxis, :], HFacC1.shape) * HFacC1 # Grid Area\n",
    "    da = np.broadcast_to(gridA[np.newaxis,:,:], u.shape)\n",
    "\n",
    "    S = state.S.data\n",
    "    U = (state.U.data[:,:,:,1:] + state.U.data[:,:,:,:-1]) / 2\n",
    "    drF = np.broadcast_to(grid.drF.data[np.newaxis, :, np.newaxis, np.newaxis], U.shape)\n",
    "    dyF = np.broadcast_to(grid.dyF.data[np.newaxis, np.newaxis, :, :], U.shape)\n",
    "    HFacC = np.broadcast_to(grid.HFacC.data[np.newaxis, :, :, :], U.shape)\n",
    "    DA = drF * dyF * HFacC\n",
    "    \n",
    "    \n",
    "    Qin = np.empty(len(xi))\n",
    "    Qout = np.empty(len(xi))\n",
    "    Sin = np.empty(len(xi))\n",
    "    Sout = np.empty(len(xi))\n",
    "    \n",
    "    t0 = 89 # 274\n",
    "    # Exclude the upper (surface) layer for TEF calculation\n",
    "    for t in range(U.shape[0]):\n",
    "        \n",
    "        Uzx = u[t,:,:] # Steady-state along-channel velocity\n",
    "        for j in range(Uzx.shape[1]):\n",
    "            if any(Uzx[:,j]>0)==False:\n",
    "                pass\n",
    "            else:\n",
    "                mid = np.where(Uzx[:,j]>0)[0][0]\n",
    "                if mid>0:\n",
    "                    S[t,:mid,:,j] = 0\n",
    "                    U[t,:mid,:,j] = 0\n",
    "                else:\n",
    "                    pass\n",
    "\n",
    "#     Uzx = u[t0:,:,:].mean(0) # Steady-state along-channel velocity\n",
    "#     for j in range(Uzx.shape[1]):\n",
    "#         if any(Uzx[:,j]>0)==False:\n",
    "#             pass\n",
    "#         else:\n",
    "#             mid = np.where(Uzx[:,j]>0)[0][0]\n",
    "#             if mid>0:\n",
    "#                 S[:,:mid,:,j] = 0\n",
    "#                 U[:,:mid,:,j] = 0\n",
    "#             else:\n",
    "#                 pass\n",
    "    \n",
    "    \n",
    "    for i in range(len(xi)):\n",
    "        \n",
    "        \n",
    "        \n",
    "        tef_q1, tef_vel1, tef_da1, tef_qs1, tef_qs21, sbins1 = tef.process_section(U,S,DA,ot,xi[i],23,testing=False)\n",
    "\n",
    "        qin1, qout1, sin1, sout1 = tef.bulk_calc(tef_q1, tef_vel1, tef_da1, tef_qs1, tef_qs21, sbins1, ot)\n",
    "    \n",
    "\n",
    "        Qin[i] = qin1[t0:].mean() # Time averaging from 1+t0 hour\n",
    "        Qout[i] = qout1[t0:].mean()\n",
    "        Sin[i] = sin1[t0:].mean() # Time averaging from 1+t0 hour\n",
    "        Sout[i] = sout1[t0:].mean()\n",
    "        \n",
    "    a002 = (Sin[0]/Sout[0])*(Sout[1]-Sout[0])/(Sout[1]-Sin[0])\n",
    "    a001 = (Qin[0]-Qin[1]) / Qin[0]    \n",
    "    a11 = (Sout[1]/Sin[1])*(Sin[1]-Sin[0])/(Sout[1]-Sin[0])    \n",
    "    a01 = (Sout[1]/Sout[0])*(Sout[0]-Sin[0])/(Sout[1]-Sin[0])\n",
    "    \n",
    "    a10 = (Sin[0]/Sin[1])*(Sout[1]-Sin[1])/(Sout[1]-Sin[0])\n",
    "    \n",
    "    #a00 = -(Qout[0]/Qin[0])*(Sout[1]-Sout[0])/(Sout[1]-Sin[0])\n",
    "    #a11 = -(Qin[1]/Qout[1])*(Sin[1]-Sin[0])/(Sout[1]-Sin[0])\n",
    "    #a01 = (Qin[1]/Qin[0])*(Sout[1]-Sin[1])/(Sout[1]-Sin[0])\n",
    "    #a10 = (Qout[0]/Qout[1])*(Sout[0]-Sin[0])/(Sout[1]-Sin[0])\n",
    "    \n",
    "    q0 = Qin[0]\n",
    "    q1 = -Qout[-1]\n",
    "    Q0 = -Qout[0]\n",
    "    Q1 = Qin[-1]\n",
    "    f0 = Sin[0]*q0\n",
    "    f1 = Sout[-1]*q1\n",
    "    F0 = Sout[0]*Q0\n",
    "    F1 = Sin[-1]*Q1\n",
    "    \n",
    "    A = np.array([[q1, q0, 0, 0], [f1, f0, 0, 0], [0, 0, q1, q0], [0, 0, f1, f0]])\n",
    "    B = np.array([Q1, F1, Q0, F0])\n",
    "    X = np.linalg.solve(A,B) # a11, a01, a10, a00\n",
    "    \n",
    "    #return a00,q q0, q1, Q0\n",
    "    #return a001, a002, X[-1]\n",
    "    return X[0],X[-1],q1,q0,Q1,Q0"
   ]
  },
  {
   "cell_type": "code",
   "execution_count": null,
   "id": "26aa6e17",
   "metadata": {},
   "outputs": [],
   "source": [
    "def vol_temp(case_id, xi):\n",
    "    \n",
    "    File1 = xr.open_dataset('/work/oceans/wbao/MITgcm_results/iceplume/1_BaseCase/state_' + str(format(case_id,'03d')) + '.nc')\n",
    "    Grid = xr.open_dataset('/work/oceans/wbao/MITgcm_results/iceplume/1_BaseCase/grid_' + str(format(case_id,'03d')) + '.nc')  \n",
    "    State = File1.isel(T=~File1.get_index(\"T\").duplicated())\n",
    "    \n",
    "    # Confine to the range of fjord\n",
    "    state = State.isel(X=range(260), Xp1=range(261), Y=range(35,45), T=range(1,len(State.T)))\n",
    "    grid = Grid.isel(X=range(260), Xp1=range(261), Y=range(35,45))\n",
    "\n",
    "    U = (state.U.data[:,:,:,1:] + state.U.data[:,:,:,:-1]) / 2 # Along-channel velocity\n",
    "    \n",
    "    drF = np.broadcast_to(grid.drF.data[np.newaxis, :, np.newaxis, np.newaxis], U.shape)\n",
    "    dyF = np.broadcast_to(grid.dyF.data[np.newaxis, np.newaxis, :, :], U.shape)\n",
    "    HFacC = np.broadcast_to(grid.HFacC.data[np.newaxis, :, :, :], U.shape)\n",
    "    DA = drF * dyF * HFacC\n",
    "    \n",
    "    rA = np.broadcast_to(grid.rA.data[np.newaxis, np.newaxis, :, :], U.shape)\n",
    "    CV = rA * drF * HFacC\n",
    "\n",
    "    \n",
    "    t0 = 89 # 274\n",
    "    da = DA[t0:,:,:,xi[0]+1:xi[1]+1].mean(axis=(0,2))\n",
    "    cv = CV[t0:,:,:,xi[0]+1:xi[1]+1].mean(axis=(0,2))\n",
    "    s = state.S.data[t0:,:,:,xi[0]+1:xi[1]+1].mean(axis=(0,2))\n",
    "    temp = state.Temp.data[t0:,:,:,xi[0]+1:xi[1]+1].mean(axis=(0,2))\n",
    "    u = U[t0:,:,:,xi[0]+1:xi[1]+1].mean(axis=(0,2))\n",
    "    sma = np.ma.masked_where(s==0, s)\n",
    "    topo = np.ma.getmask(sma) # Masked Topography\n",
    "    uma = np.ma.MaskedArray(u, mask=topo)\n",
    "    tma = np.ma.MaskedArray(temp, mask=topo)\n",
    "    \n",
    "    #HFacC = grid.HFacC.data\n",
    "    #CV = np.broadcast_to(grid.drF.data[:, np.newaxis, np.newaxis], HFacC.shape) * np.broadcast_to(grid.rA.data[np.newaxis, :, :], HFacC.shape) * HFacC # Cell Volume\n",
    "    \n",
    "    Tv1 = np.empty(uma.shape[1])\n",
    "    Tv2 = np.empty(uma.shape[1])\n",
    "    Vol1 = np.empty(uma.shape[1])\n",
    "    Vol2 = np.empty(uma.shape[1])\n",
    "    Tvol1 = np.empty(uma.shape[1])\n",
    "    Tvol2 = np.empty(uma.shape[1])\n",
    "    \n",
    "    for i in range(uma.shape[1]):      \n",
    "        \n",
    "#         if any(uma[:,i]>0)==False:\n",
    "#             pass\n",
    "#         else:\n",
    "#             mid = np.where(uma[:,i]>0)[0][0]\n",
    "#             if mid>0:\n",
    "#                 uma[:mid,i] = 0\n",
    "#             else:\n",
    "#                 pass\n",
    "\n",
    "            \n",
    "        if any(uma[:,i]<0)==False:\n",
    "            pass\n",
    "            \n",
    "        else:\n",
    "            #meanS = np.abs(sma[:,i] - (sma[:,i].max() + sma[:,i].min()) / 2)\n",
    "            #l = np.argmin(meanS)\n",
    "            l = np.where(uma[:,i] < 0)[-1][0]    \n",
    "            Tv1[i] = np.sum(tma[:l,i]*da[:l,i]*uma[:l,i]) / np.sum(da[:l,i]*uma[:l,i])\n",
    "            Tv2[i] = np.sum(tma[l:,i]*da[l:,i]*uma[l:,i]) / np.sum(da[l:,i]*uma[l:,i])\n",
    "            Vol1[i] = cv[:l,i].sum()\n",
    "            Vol2[i] = cv[l:,i].sum()\n",
    "            Tvol1[i] = np.sum(tma[:l,i]*cv[:l,i])\n",
    "            Tvol2[i] = np.sum(tma[l:,i]*cv[l:,i])\n",
    "            \n",
    "        Tf = Tv1[:-1].mean()\n",
    "        Ts = Tv2[:-1].mean()\n",
    "        #Tf = Tvol1[:-1].sum()/Vol1[:-1].sum()\n",
    "        #Ts = Tvol2[:-1].sum()/Vol2[:-1].sum()\n",
    "        Ts_in = Tv2[-1]\n",
    "            \n",
    "    return Tf, Ts, Ts_in\n",
    "    #return Tv1, Tv2"
   ]
  },
  {
   "cell_type": "code",
   "execution_count": null,
   "id": "888a3ae7",
   "metadata": {},
   "outputs": [],
   "source": [
    "qsg = 250\n",
    "case_n = np.array([1,2,3,4,5])\n",
    "xrange1 = np.array([5,120]) # 3~47 47~97\n",
    "xrange2 = np.array([120,235]) # 3~47 47~97\n",
    "\n",
    "rflx1 = np.empty(len(case_n))\n",
    "alp111 = np.empty(len(case_n))\n",
    "alp001 = np.empty(len(case_n))\n",
    "Qin01 = np.empty(len(case_n))\n",
    "Qin11 = np.empty(len(case_n))\n",
    "Qout01 = np.empty(len(case_n))\n",
    "Ts1 = np.empty(len(case_n))\n",
    "Tf1 = np.empty(len(case_n))\n",
    "Ts_in1 = np.empty(len(case_n))\n",
    "\n",
    "\n",
    "rflx2 = np.empty(len(case_n))\n",
    "alp112 = np.empty(len(case_n))\n",
    "alp002 = np.empty(len(case_n))\n",
    "Qin02 = np.empty(len(case_n))\n",
    "Qin12 = np.empty(len(case_n))\n",
    "Qout02 = np.empty(len(case_n))\n",
    "Ts2 = np.empty(len(case_n))\n",
    "Tf2 = np.empty(len(case_n))\n",
    "Ts_in2 = np.empty(len(case_n))\n",
    "\n",
    "\n",
    "\n",
    "for j in range(len(case_n)):\n",
    "    \n",
    "    #alp111[j], alp001[j], Qin11[j], Qin01[j], Qout11, Qout01[j] = reflux(qsg,hs[j],xrange1)\n",
    "    \n",
    "    #Tf1[j], Ts1[j], Ts_in1[j] = vol_temp(qsg,hs[j],xrange1)\n",
    "    \n",
    "    alp112[j], alp002[j], Qin12[j], Qin02[j], Qout12, Qout02[j] = reflux(case_n[j],xrange2)\n",
    "    \n",
    "    Tf2[j], Ts2[j], Ts_in2[j] = vol_temp(case_n[j],xrange2)"
   ]
  },
  {
   "cell_type": "code",
   "execution_count": null,
   "id": "ef13c8c2",
   "metadata": {},
   "outputs": [],
   "source": [
    "Tse2 = ((Ts_in2)*Qin12*(1-alp112) + (Tf2)*Qin02*alp002) / Qout02\n",
    "Tr_est = Tse2 / Ts_in2\n",
    "Tr_obs = Ts2 / Ts_in2\n",
    "dT_est = Ts_in2 - Tse2\n",
    "dT_obs = Ts_in2 - Ts2"
   ]
  },
  {
   "cell_type": "code",
   "execution_count": null,
   "id": "521825dc",
   "metadata": {},
   "outputs": [],
   "source": [
    "dT_est, dT_obs"
   ]
  },
  {
   "cell_type": "code",
   "execution_count": null,
   "id": "b317c3d7",
   "metadata": {},
   "outputs": [],
   "source": [
    "hsr = np.array([0.04,0.06,0.08,0.1,0.12])\n",
    "# Save outputs\n",
    "Temp_ds = xr.Dataset(\n",
    "    data_vars={'Tshelf' : Ts_in2,\n",
    "    'Tfjord_mod' : Ts2,\n",
    "    'Tfjord_est' : Tse2,\n",
    "    'hs_h' : hsr})\n",
    "\n",
    "#outdir = \"/Volumes/Extreme SSD/MITgcm outputs/Qsg_comp/\"\n",
    "#outdir = \"/Volumes/Extreme SSD/MITgcm outputs/Strat_comp/\"\n",
    "#outdir = \"/Volumes/Extreme SSD/MITgcm outputs/Cd_comp/\"\n",
    "outdir = \"/home/1959/Parameters/\"\n",
    "if not os.path.exists(outdir):\n",
    "    os.makedirs(outdir)\n",
    "\n",
    "Temp_ds.to_netcdf(outdir + 'Ts.nc')"
   ]
  },
  {
   "cell_type": "code",
   "execution_count": null,
   "id": "3f8f3a84",
   "metadata": {},
   "outputs": [],
   "source": [
    "hsr = [0.04, 0.06, 0.08, 0.10, 0.12]\n",
    "#fig1, (ax1, ax2) = plt.subplots(1,2, figsize=(10,5))\n",
    "fig1, ax1 = plt.subplots(figsize=(5,5))\n",
    "plt.grid(linestyle = '--', linewidth = 0.5)\n",
    "\n",
    "#plt.axis('square')\n",
    "plt.xticks(fontsize=12)\n",
    "plt.yticks(fontsize=12)\n",
    "plt.xlabel(r'$h_s/h$', size=12)\n",
    "plt.ylabel(r'$T_{fjord}/T_{shelf}$',size=12)\n",
    "\n",
    "ax1.plot(hsr, Tr_est, 'o-', lw=2,label=r'Estimated')\n",
    "ax1.plot(hsr, Tr_obs, 'o-', lw=2, label=r'Modeled')\n",
    "ax1.legend(loc='best', fontsize=12)\n",
    "ax1.set_ylim([0.9, 1])\n",
    "\n",
    "ax1.set_xticks([0.04, 0.06, 0.08, 0.10, 0.12])\n",
    "plt.show()"
   ]
  },
  {
   "cell_type": "code",
   "execution_count": 2,
   "id": "aa93813d",
   "metadata": {},
   "outputs": [],
   "source": [
    "ds = xr.open_dataset('~/Parameters/FjordModeling/1_BaseCase.nc')\n",
    "\n",
    "Qin1 = ds.Qin1.data\n",
    "Qin1_adj = ds.Qin1_adj.data\n",
    "Qin2 = ds.Qin2.data\n",
    "Qin2_adj = ds.Qin2_adj.data\n",
    "Qout1 = ds.Qout1.data\n",
    "Qout1_adj = ds.Qout1_adj.data\n",
    "a11 = ds.alpha11.data\n",
    "a22 = ds.alpha22.data\n",
    "Tin2 = ds.Ts_in.data\n",
    "Ts = ds.Ts.data\n",
    "Tf = ds.Tf.data\n",
    "#a22[a22<0] = 0\n",
    "Tse1 = (Tin2*Qin2_adj*(1-a22) + 1.035*Tf*Qin1_adj*a11) / Qout1_adj\n",
    "Tse2 = (Tin2*Qin2*(1-a22) + Tf*Qin1*a11) / Qout1\n",
    "Tr_mod = Ts / Tin2\n",
    "#Tse1[:2] = Tse1[:2]* 1.02\n",
    "Tr_est = Tse1 / Tin2\n",
    "delT_mod = Tin2 - Ts\n",
    "delT_est = Tin2 - Tse1"
   ]
  },
  {
   "cell_type": "code",
   "execution_count": null,
   "id": "0d1bd0ce",
   "metadata": {},
   "outputs": [],
   "source": [
    "a22, a11"
   ]
  },
  {
   "cell_type": "code",
   "execution_count": null,
   "id": "75c91663",
   "metadata": {},
   "outputs": [],
   "source": [
    "#Tse1, Ts, Tin2\n",
    "Tr_mod, Tr_est"
   ]
  },
  {
   "cell_type": "code",
   "execution_count": null,
   "id": "3691c045",
   "metadata": {},
   "outputs": [],
   "source": [
    "model = np.polyfit(Tse, Ts, 1)\n",
    "model"
   ]
  },
  {
   "cell_type": "code",
   "execution_count": null,
   "id": "1b4a0819",
   "metadata": {},
   "outputs": [],
   "source": [
    "0.49*Tse+5, Ts, 1.02*Tse"
   ]
  },
  {
   "cell_type": "code",
   "execution_count": 3,
   "id": "719bd1fe",
   "metadata": {},
   "outputs": [
    {
     "name": "stdout",
     "output_type": "stream",
     "text": [
      "0.9944554218291145 0.9944480039912863\n"
     ]
    }
   ],
   "source": [
    "corr_matrix1 = np.corrcoef(Tr_mod[:-1], Tr_est[:-1])\n",
    "corr1 = corr_matrix1[0,1]\n",
    "R_sq1 = corr1**2\n",
    "\n",
    "corr_matrix2 = np.corrcoef(delT_mod[:-1], delT_est[:-1])\n",
    "corr2 = corr_matrix2[0,1]\n",
    "R_sq2 = corr2**2\n",
    "\n",
    "# corr_matrix3 = np.corrcoef(dT_obs, dT_est)\n",
    "# corr3 = corr_matrix3[0,1]\n",
    "# R_sq3 = corr3**2\n",
    "\n",
    "print(R_sq1, R_sq2)"
   ]
  },
  {
   "cell_type": "code",
   "execution_count": 4,
   "id": "8a61ace5",
   "metadata": {},
   "outputs": [
    {
     "data": {
      "image/png": "[encoded data removed]",
      "text/plain": [
       "<Figure size 288x288 with 1 Axes>"
      ]
     },
     "metadata": {
      "needs_background": "light"
     },
     "output_type": "display_data"
    }
   ],
   "source": [
    "fig2, ax2 =plt.subplots(figsize=(4,4))\n",
    "\n",
    "\n",
    "ax2.set(xlim=(.94, 1), ylim=(.94, 1))\n",
    "plt.axis('square')\n",
    "plt.grid(ls='--', lw=.5)\n",
    "plt.xlabel(r'Estimated', size=15)\n",
    "plt.ylabel(r'Modeled', size=15)\n",
    "ax2.set_yticks([0.94, 0.96, 0.98, 1])\n",
    "ax2.set_title(r'$T_{fjord}/T_{shelf}$', size=15)\n",
    "ax2.plot(ax2.get_xlim(), ax2.get_ylim(), ls=\"--\", lw=1.5, c=\"brown\")\n",
    "ax2.tick_params(direction='in', labelsize=15)\n",
    "loc_mark = [.945, .995]\n",
    "plt.plot(loc_mark[0],loc_mark[1], marker='o', alpha=1, ms=15, color='brown', markeredgecolor='k')\n",
    "plt.text(loc_mark[0]+0.005, loc_mark[1]-0.002, r'$h_s/h=0.04\\sim0.12$', fontsize=15)\n",
    "plt.text(.975, .965, r'$r^2=0.99$', fontsize=15)\n",
    "\n",
    "#for side in ax2.spines.keys():  # 'top', 'bottom', 'left', 'right'\n",
    "#    ax2.spines[side].set_linewidth(1.5)\n",
    "#    ax2.spines[side].set_color('red')\n",
    "\n",
    "for j in range(len(Tr_est)):\n",
    "\n",
    "    ax2.plot(Tr_est[j], Tr_mod[j], marker='o', alpha=.7, ms=3*(j+3), color='orange', markeredgecolor='k')\n",
    "\n"
   ]
  },
  {
   "cell_type": "code",
   "execution_count": 5,
   "id": "a134a1a9",
   "metadata": {},
   "outputs": [
    {
     "data": {
      "text/plain": [
       "Text(0.975, 0.955, '$r^2=0.99$')"
      ]
     },
     "execution_count": 5,
     "metadata": {},
     "output_type": "execute_result"
    },
    {
     "data": {
      "image/png": "[encoded data removed]",
      "text/plain": [
       "<Figure size 288x288 with 1 Axes>"
      ]
     },
     "metadata": {
      "needs_background": "light"
     },
     "output_type": "display_data"
    }
   ],
   "source": [
    "fig3, ax2 =plt.subplots(figsize=(4,4))\n",
    "\n",
    "\n",
    "ax2.set(xlim=(0.94, 1), ylim=(0.94, 1))\n",
    "plt.axis('square')\n",
    "plt.grid(ls='--', lw=.5)\n",
    "plt.xlabel(r'Estimated', size=15)\n",
    "plt.ylabel(r'Modeled', size=15)\n",
    "ax2.set_xticks([0.94, 0.96, 0.98, 1])\n",
    "ax2.set_yticks([0.94, 0.96, 0.98, 1])\n",
    "ax2.set_title(r'$T_{fjord}/T_{shelf}$', size=15)\n",
    "ax2.plot(ax2.get_xlim(), ax2.get_ylim(), ls=\"--\", lw=1.5, c=\"r\")\n",
    "ax2.tick_params(direction='in', labelsize=15)\n",
    "ax2.plot(Tr_est[:-1], Tr_mod[:-1], 'o', ms=15, c='b')\n",
    "\n",
    "loc_mark = [.945, .995]\n",
    "plt.plot(loc_mark[0],loc_mark[1], marker='o', ms=15, color='b',zorder=2)\n",
    "plt.text(loc_mark[0]+0.003, loc_mark[1]-0.002, r'$h_s/h_f$', color='r', fontsize=15,\n",
    "        bbox=dict(boxstyle=\"square\",\n",
    "                   ec='k',\n",
    "                   fc='white',\n",
    "                   ), zorder=1)\n",
    "label = ['$0.04$', '$0.08$', '$0.1$', '$0.12$', '$1$']\n",
    "for i in range(len(Tr_est[:-3])):\n",
    "     plt.text(x=Tr_est[i]-0.003,y=Tr_mod[i]+0.004,s=label[i], \n",
    "          fontdict=dict(color='r',size=12))\n",
    "\n",
    "plt.text(x=Tr_est[-3]-0.003,y=Tr_mod[-3]-0.005,s=label[3], \n",
    "          fontdict=dict(color='r',size=12))\n",
    "plt.text(x=Tr_est[-2]-0.003,y=Tr_mod[-2]+0.003,s=label[4], \n",
    "          fontdict=dict(color='r',size=12))\n",
    "\n",
    "plt.text(.975, .955, r'$r^2=0.99$', fontsize=15)\n",
    "\n"
   ]
  },
  {
   "cell_type": "code",
   "execution_count": 6,
   "id": "3a239dee",
   "metadata": {},
   "outputs": [
    {
     "data": {
      "text/plain": [
       "(array([0.40459612, 0.25434325, 0.16866328, 0.11084481, 0.07231921,\n",
       "        0.00060857]),\n",
       " array([0.5583861 , 0.29468933, 0.1536721 , 0.07542375, 0.03712597,\n",
       "        0.00143391]))"
      ]
     },
     "execution_count": 6,
     "metadata": {},
     "output_type": "execute_result"
    }
   ],
   "source": [
    "delT_mod, delT_est"
   ]
  },
  {
   "cell_type": "code",
   "execution_count": 7,
   "id": "dd3e62c7",
   "metadata": {},
   "outputs": [
    {
     "data": {
      "text/plain": [
       "Text(0.35, 0.1, '$r^2=0.99$')"
      ]
     },
     "execution_count": 7,
     "metadata": {},
     "output_type": "execute_result"
    },
    {
     "data": {
      "image/png": "[encoded data removed]",
      "text/plain": [
       "<Figure size 288x288 with 1 Axes>"
      ]
     },
     "metadata": {
      "needs_background": "light"
     },
     "output_type": "display_data"
    }
   ],
   "source": [
    "fig3s, ax3 =plt.subplots(figsize=(4,4))\n",
    "\n",
    "\n",
    "ax3.set(xlim=(0, .6), ylim=(0, .6))\n",
    "plt.axis('square')\n",
    "plt.grid(ls='--', lw=.5)\n",
    "plt.xlabel(r'Estimated [$^\\circ C$]', size=15)\n",
    "plt.ylabel(r'Modeled [$^\\circ C$]', size=15)\n",
    "ax3.set_xticks([0, 0.2, 0.4, 0.6])\n",
    "ax3.set_yticks([0, 0.2, 0.4, 0.6])\n",
    "ax3.set_title(r'$T_s^{in}-T_s$', size=15)\n",
    "ax3.plot(ax3.get_xlim(), ax3.get_ylim(), ls=\"--\", lw=1.5, c=\"r\")\n",
    "ax3.tick_params(direction='in', labelsize=15)\n",
    "ax3.plot(delT_est[:-1], delT_mod[:-1], 'o', ms=15, c='b')\n",
    "\n",
    "loc_mark = [.05, .55]\n",
    "plt.plot(loc_mark[0],loc_mark[1], marker='o', ms=15, color='b',zorder=2)\n",
    "plt.text(loc_mark[0]+0.03, loc_mark[1]-0.015, r'$h_s/h_f$', color='r', fontsize=15,zorder=1)\n",
    "\n",
    "# Add path for legend\n",
    "from matplotlib.patches import Rectangle\n",
    "rect = Rectangle((0.02,.52),.17,.06, ec='gray', fc='none')\n",
    "# Add the patch to the Axes\n",
    "ax3.add_patch(rect)\n",
    "\n",
    "label = ['$0.04$', '$0.08$', '$0.1$', '$0.12$', '$1$']\n",
    "\n",
    "plt.text(x=delT_est[0]-0.1,y=delT_mod[0],s=label[0], \n",
    "          fontdict=dict(color='r',size=12))\n",
    "\n",
    "plt.text(x=delT_est[1]+0.03,y=delT_mod[1]-0.02,s=label[1], \n",
    "          fontdict=dict(color='r',size=12))\n",
    "\n",
    "for i in range(len(delT_est[2:-1])):\n",
    "     plt.text(x=delT_est[i+2]+0.03,y=delT_mod[i+2]-0.03,s=label[i+2], \n",
    "          fontdict=dict(color='r',size=12))\n",
    "\n",
    "plt.text(.35, .1, r'$r^2=0.99$', fontsize=15)\n",
    "\n"
   ]
  },
  {
   "cell_type": "code",
   "execution_count": null,
   "id": "f0e17ab0",
   "metadata": {},
   "outputs": [],
   "source": [
    "fig4 = plt.figure(figsize=(8,4))\n",
    "fig4.tight_layout()\n",
    "\n",
    "# Plot Ts\n",
    "ax1 = fig4.add_subplot(121)\n",
    "ax1.set(xlim=(8.8, 10), ylim=(8.8, 10))\n",
    "# square plot\n",
    "ax1.set_aspect('equal', adjustable='box')\n",
    "ax1.grid(ls='--', lw=.5)\n",
    "ax1.set_xlabel(r'Estimated [$^\\circ C$]', size=15)\n",
    "ax1.set_ylabel(r'Modeled [$^\\circ C$]', size=15)\n",
    "ax1.set_title(r'$T_{fjord}$', size=15)\n",
    "ax1.plot(ax1.get_xlim(), ax1.get_ylim(), ls=\"--\", lw=1.5, c=\"brown\")\n",
    "ax1.tick_params(direction='in', labelsize=12)\n",
    "loc_mark1 = [8.9, 9.9]\n",
    "ax1.plot(loc_mark1[0],loc_mark1[1], marker='o', alpha=.7, ms=15, color='blue', markeredgecolor='k')\n",
    "ax1.text(loc_mark1[0]+0.05, loc_mark1[1]-0.03, r'$h_s/h=0.04\\sim0.12$', fontsize=12)\n",
    "#plt.text(.96, .93, r'$r^2=0.99$', fontsize=12)\n",
    "\n",
    "for j in range(len(Ts2)):\n",
    "\n",
    "    ax1.plot(Tse2[j], Ts2[j], marker='o', alpha=.7, ms=3*(j+3), color='orange', markeredgecolor='k')\n",
    "\n",
    "\n",
    "# Plot Tshelf-Tfjord\n",
    "ax2 = fig4.add_subplot(122)\n",
    "ax2.set(xlim=(0, 1), ylim=(0, 1))\n",
    "ax2.set_aspect('equal', adjustable='box')\n",
    "ax2.grid(ls='--', lw=.5)\n",
    "ax2.set_xlabel(r'Estimated [$^\\circ C$]', size=15)\n",
    "ax2.set_ylabel(r'Modeled [$^\\circ C$]', size=15)\n",
    "ax2.set_title(r'$T_{shelf}-T_{fjord}$', size=15)\n",
    "ax2.plot(ax2.get_xlim(), ax2.get_ylim(), ls=\"--\", lw=1.5, c=\"brown\")\n",
    "ax2.tick_params(direction='in', labelsize=12)\n",
    "loc_mark2 = [.1, .9]\n",
    "ax2.plot(loc_mark2[0],loc_mark2[1], marker='o', alpha=.7, ms=15, color='blue', markeredgecolor='k')\n",
    "ax2.text(loc_mark2[0]+0.05, loc_mark2[1]-0.03, r'$h_s/h=0.04\\sim0.12$', fontsize=12)\n",
    "#plt.text(.96, .93, r'$r^2=0.99$', fontsize=12)\n",
    "\n",
    "for j in range(len(dT_est)):\n",
    "\n",
    "    ax2.plot(dT_est[j], dT_obs[j], marker='o', alpha=.7, ms=3*(j+3), color='orange', markeredgecolor='k')\n",
    "\n",
    "# set the spacing between subplots\n",
    "plt.subplots_adjust(left=0.05,\n",
    "                    bottom=0.1, \n",
    "                    right=0.95, \n",
    "                    top=0.9, \n",
    "                    wspace=0.25, \n",
    "                    hspace=0.4)\n",
    "plt.show()"
   ]
  },
  {
   "cell_type": "code",
   "execution_count": null,
   "id": "2d16f3e7",
   "metadata": {},
   "outputs": [],
   "source": [
    "model = np.polyfit(Tr_est, Tr_obs, 1)\n",
    "0.4*Tr_est+0.6, Tr_obs"
   ]
  },
  {
   "cell_type": "code",
   "execution_count": null,
   "id": "720723b8",
   "metadata": {},
   "outputs": [],
   "source": [
    "datapath = '/work/oceans/wbao/MITgcm_results/iceplume/1_BaseCase'\n",
    "def IFA(Hs):\n",
    "    # Grid areas    \n",
    "    Area = np.empty([90, 10])\n",
    "    Area[:20,:] = 400\n",
    "    Area[20:50,:] = 800\n",
    "    Area[50:,:] = 1200\n",
    "\n",
    "    file0 = xr.open_dataset(datapath + '/icefrntA_' + str(format(Hs,'03d')) + '.nc')\n",
    "    t0 = 0\n",
    "    tn = 120\n",
    "    # removed duplicated data caused by model restart\n",
    "    file = file0.isel(T=~file0.get_index(\"T\").duplicated())\n",
    "    state = file.isel(Y=range(35,45), T=range(t0,tn))\n",
    "    \n",
    "    MR = state.icefrntA.isel(X=1).data.mean(0) # Melt rate at the icefront\n",
    "    Qsm = (MR*Area).sum()/(24*3600)\n",
    "    return Qsm"
   ]
  },
  {
   "cell_type": "code",
   "execution_count": null,
   "id": "6c57b6f7",
   "metadata": {},
   "outputs": [],
   "source": [
    "\n",
    "def icefrntT(case_id):\n",
    "    File1 = xr.open_dataset(datapath + '/state_' + str(format(case_id,'03d')) + '.nc')\n",
    "    Grid = xr.open_dataset(datapath + '/grid_' + str(format(case_id,'03d')) + '.nc')  \n",
    "    State = File1.isel(T=~File1.get_index(\"T\").duplicated())\n",
    "    \n",
    "    # Confine to the range of fjord\n",
    "    state = State.isel(X=range(260), Xp1=range(261), Y=range(35,45), T=range(1,len(State.T)))\n",
    "    grid = Grid.isel(X=range(260), Xp1=range(261), Y=range(35,45))\n",
    "\n",
    "    U = (state.U.data[:,:,:,1:] + state.U.data[:,:,:,:-1]) / 2 # Along-channel velocity\n",
    "    \n",
    "    drF = np.broadcast_to(grid.drF.data[np.newaxis, :, np.newaxis, np.newaxis], U.shape)\n",
    "    dyF = np.broadcast_to(grid.dyF.data[np.newaxis, np.newaxis, :, :], U.shape)\n",
    "    HFacC = np.broadcast_to(grid.HFacC.data[np.newaxis, :, :, :], U.shape)\n",
    "    DA = drF * dyF * HFacC\n",
    "   \n",
    "    t0 = 0 # Starting time index\n",
    "    da = DA[t0:,:,:,1].mean(axis=(0,2))\n",
    "    Ti = state.Temp.data[t0:,:,:,1].mean(axis=(0,2))\n",
    "    Ui = U[t0:,:,:,1].mean(axis=(0,2))\n",
    "    \n",
    "    Tvi = np.sum(Ti*da) / np.sum(da)\n",
    "    return Tvi"
   ]
  },
  {
   "cell_type": "code",
   "execution_count": null,
   "id": "a46f9a63",
   "metadata": {},
   "outputs": [],
   "source": [
    "Qsm = np.empty(len(case_n))\n",
    "Tice = np.empty(len(case_n))\n",
    "\n",
    "for j in range(len(case_n)):\n",
    "    \n",
    "    Qsm[j] = IFA(case_n[j])\n",
    "    Tice[j] = icefrntT(case_n[j])"
   ]
  },
  {
   "cell_type": "code",
   "execution_count": null,
   "id": "0835a3e5",
   "metadata": {},
   "outputs": [],
   "source": [
    "Qsm, np.sort(Tice)"
   ]
  },
  {
   "cell_type": "code",
   "execution_count": null,
   "id": "676846dc",
   "metadata": {},
   "outputs": [],
   "source": [
    "fig3, ax3 = plt.subplots(figsize=(5,5))\n",
    "plt.grid(linestyle = '--', linewidth = 0.5)\n",
    "\n",
    "#plt.axis('square')\n",
    "plt.xticks(fontsize=12)\n",
    "plt.yticks(fontsize=12)\n",
    "plt.xlabel(r'$T_s$', size=12)\n",
    "plt.ylabel(r'$Q_{sm}\\;[m^3/s]$',size=12)\n",
    "\n",
    "ax3.plot(np.sort(Tice), np.sort(Qsm), 'o-', lw=2,label=r'$Q_{sg}=250m^3/s$')\n",
    "ax3.plot(Ts2[:-1], Qsm[:-1], 'o-', lw=2)\n",
    "ax3.legend(loc='best', fontsize=12)\n",
    "#ax3.set_xlim([9.5, 10])\n",
    "#ax1.set_xticks([0.04, 0.06, 0.08, 0.10, 0.12])\n",
    "plt.show()"
   ]
  },
  {
   "cell_type": "code",
   "execution_count": 8,
   "id": "8008e473",
   "metadata": {},
   "outputs": [],
   "source": [
    "fig_path =\"/home/1959/Jupyter_Figs/FjordModeling/\"\n",
    "if not os.path.exists(fig_path):\n",
    "    os.makedirs(fig_path)\n",
    "#fig2.savefig(fig_path + '/4-Ts_Comp.png', dpi=200, bbox_inches='tight')\n",
    "#fig3.savefig(fig_path + '/Tfjord.png', dpi=300, bbox_inches='tight')\n",
    "fig3s.savefig(fig_path + '/DeltaTs.png', dpi=300, bbox_inches='tight') "
   ]
  },
  {
   "cell_type": "code",
   "execution_count": null,
   "id": "6233a3b7",
   "metadata": {},
   "outputs": [],
   "source": []
  }
 ],
 "metadata": {
  "kernelspec": {
   "display_name": "Python 3 (ipykernel)",
   "language": "python",
   "name": "python3"
  },
  "language_info": {
   "codemirror_mode": {
    "name": "ipython",
    "version": 3
   },
   "file_extension": ".py",
   "mimetype": "text/x-python",
   "name": "python",
   "nbconvert_exporter": "python",
   "pygments_lexer": "ipython3",
   "version": "3.7.11"
  }
 },
 "nbformat": 4,
 "nbformat_minor": 5
}
