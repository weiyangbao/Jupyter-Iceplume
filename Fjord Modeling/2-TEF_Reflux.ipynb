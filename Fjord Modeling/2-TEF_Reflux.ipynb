{
 "cells": [
  {
   "cell_type": "code",
   "execution_count": 1,
   "id": "8dc3af20",
   "metadata": {},
   "outputs": [],
   "source": [
    "# Calculate the Reflux Coefficient from TEF\n",
    "import xarray as xr\n",
    "import numpy as np\n",
    "import matplotlib.pyplot as plt\n",
    "import os, sys\n",
    "sys.path.append(os.path.abspath('../TEF'))\n",
    "import TEF_Variables as tef"
   ]
  },
  {
   "cell_type": "code",
   "execution_count": 2,
   "id": "400db1b5",
   "metadata": {},
   "outputs": [],
   "source": [
    "#def reflux(Qsg, hs, xi):\n",
    "def reflux(case_id, xi):    \n",
    "    #/Volumes/Extreme SSD/MITgcm outputs\n",
    "    #../../Model_outputs\n",
    "#     State = xr.open_dataset('/Volumes/Extreme SSD/MITgcm outputs/Qsg' + str(format(Qsg,'03d')) + '/state_' + str(format(hs,'03d')) + '.nc')\n",
    "#     Grid = xr.open_dataset('/Volumes/Extreme SSD/MITgcm outputs/Qsg' + str(format(Qsg,'03d')) + '/grid_' + str(format(hs,'03d')) + '.nc')\n",
    "\n",
    "    # Confine to the range of fjord\n",
    "#     state = State.isel(X=range(120), Xp1=range(121), Y=range(30,39), T=range(1,len(State.T)))\n",
    "#     grid = Grid.isel(X=range(120), Xp1=range(121), Y=range(30,39))\n",
    "#    File1 = xr.open_dataset('/Volumes/Extreme SSD/MITgcm outputs/1_BaseCase/state_' + str(format(case_id,'03d')) + '.nc')\n",
    "    File1 = xr.open_dataset('/work/oceans/wbao/MITgcm_results/iceplume/1_BaseCase/state_' + str(format(case_id,'03d')) + '.nc')\n",
    "    State = File1.isel(T=~File1.get_index(\"T\").duplicated())\n",
    "#    Grid = xr.open_dataset('/Volumes/Extreme SSD/MITgcm outputs/1_BaseCase/grid_' + str(format(case_id,'03d')) + '.nc')\n",
    "    Grid = xr.open_dataset('/work/oceans/wbao/MITgcm_results/iceplume/1_BaseCase/grid_' + str(format(case_id,'03d')) + '.nc')\n",
    "\n",
    "    state = State.isel(X=range(260), Xp1=range(261), Y=range(35,45), T=range(1,len(State.T)))\n",
    "    grid = Grid.isel(X=range(260), Xp1=range(261), Y=range(35,45))\n",
    "    s = state.S.data.mean(2) # Salinity in T,Z,X\n",
    "    u = (state.U.data[:,:,:,1:].mean(2) + state.U.data[:,:,:,:-1].mean(2)) / 2 # Along channel velocity\n",
    "    ot = state.T.data # Time in seconds\n",
    "\n",
    "\n",
    "    HFacC1 = grid.HFacC.data.mean(1)\n",
    "    dyF1 = grid.dyF.data.mean(0)\n",
    "    drF1 = grid.drF.data\n",
    "    gridA = np.broadcast_to(drF1[:, np.newaxis], HFacC1.shape) * np.broadcast_to(dyF1[np.newaxis, :], HFacC1.shape) * HFacC1 # Grid Area\n",
    "    da = np.broadcast_to(gridA[np.newaxis,:,:], u.shape)\n",
    "\n",
    "    S = state.S.data\n",
    "    U = (state.U.data[:,:,:,1:] + state.U.data[:,:,:,:-1]) / 2\n",
    "    drF = np.broadcast_to(grid.drF.data[np.newaxis, :, np.newaxis, np.newaxis], U.shape)\n",
    "    dyF = np.broadcast_to(grid.dyF.data[np.newaxis, np.newaxis, :, :], U.shape)\n",
    "    HFacC = np.broadcast_to(grid.HFacC.data[np.newaxis, :, :, :], U.shape)\n",
    "    DA = drF * dyF * HFacC\n",
    "    \n",
    "    \n",
    "    Qin = np.empty(len(xi))\n",
    "    Qout = np.empty(len(xi))\n",
    "    Sin = np.empty(len(xi))\n",
    "    Sout = np.empty(len(xi))\n",
    "    \n",
    "    t0 = 89 # 274\n",
    "    # Exclude the upper (surface) layer for TEF calculation\n",
    "    for t in range(U.shape[0]):\n",
    "        \n",
    "        Uzx = u[t,:,:] # Steady-state along-channel velocity\n",
    "        for j in range(Uzx.shape[1]):\n",
    "            if any(Uzx[:,j]>0)==False:\n",
    "                pass\n",
    "            else:\n",
    "                mid = np.where(Uzx[:,j]>0)[0][0]\n",
    "                if mid>0:\n",
    "                    S[t,:mid,:,j] = 0\n",
    "                    U[t,:mid,:,j] = 0\n",
    "                else:\n",
    "                    pass\n",
    "\n",
    "#     Uzx = u[t0:,:,:].mean(0) # Steady-state along-channel velocity\n",
    "#     for j in range(Uzx.shape[1]):\n",
    "#         if any(Uzx[:,j]>0)==False:\n",
    "#             pass\n",
    "#         else:\n",
    "#             mid = np.where(Uzx[:,j]>0)[0][0]\n",
    "#             if mid>0:\n",
    "#                 S[:,:mid,:,j] = 0\n",
    "#                 U[:,:mid,:,j] = 0\n",
    "#             else:\n",
    "#                 pass\n",
    "    \n",
    "    \n",
    "    for i in range(len(xi)):\n",
    "        \n",
    "        \n",
    "        \n",
    "        tef_q1, tef_vel1, tef_da1, tef_qs1, tef_qs21, sbins1 = tef.process_section(U,S,DA,ot,xi[i],23,testing=False)\n",
    "\n",
    "        qin1, qout1, sin1, sout1 = tef.bulk_calc(tef_q1, tef_vel1, tef_da1, tef_qs1, tef_qs21, sbins1, ot)\n",
    "    \n",
    "#         Qin[i] = qin1[t0:].mean() # Time averaging from 1+t0 hour\n",
    "#         Qout[i] = qout1[t0:].mean()\n",
    "#         Sin[i] = sin1[t0:].mean() # Time averaging from 1+t0 hour\n",
    "#         Sout[i] = sout1[t0:].mean()\n",
    "        Qin[i] = qin1[t0:].mean() # Time averaging from 1+t0 hour\n",
    "        Qout[i] = qout1[t0:].mean()\n",
    "        Sin[i] = sin1[t0:].mean() # Time averaging from 1+t0 hour\n",
    "        Sout[i] = sout1[t0:].mean()\n",
    "        \n",
    "    a002 = (Sin[0]/Sout[0])*(Sout[1]-Sout[0])/(Sout[1]-Sin[0])\n",
    "    a001 = (Qin[0]-Qin[1]) / Qin[0]    \n",
    "    a11 = (Sout[1]/Sin[1])*(Sin[1]-Sin[0])/(Sout[1]-Sin[0])    \n",
    "    a01 = (Sout[1]/Sout[0])*(Sout[0]-Sin[0])/(Sout[1]-Sin[0])\n",
    "    \n",
    "    a10 = (Sin[0]/Sin[1])*(Sout[1]-Sin[1])/(Sout[1]-Sin[0])\n",
    "    \n",
    "    #a00 = -(Qout[0]/Qin[0])*(Sout[1]-Sout[0])/(Sout[1]-Sin[0])\n",
    "    #a11 = -(Qin[1]/Qout[1])*(Sin[1]-Sin[0])/(Sout[1]-Sin[0])\n",
    "    #a01 = (Qin[1]/Qin[0])*(Sout[1]-Sin[1])/(Sout[1]-Sin[0])\n",
    "    #a10 = (Qout[0]/Qout[1])*(Sout[0]-Sin[0])/(Sout[1]-Sin[0])\n",
    "    \n",
    "    q0 = Qin[0]\n",
    "    q1 = -Qout[-1]\n",
    "    Q0 = -Qout[0]\n",
    "    Q1 = Qin[-1]\n",
    "    f0 = Sin[0]*q0\n",
    "    f1 = Sout[-1]*q1\n",
    "    F0 = Sout[0]*Q0\n",
    "    F1 = Sin[-1]*Q1\n",
    "    \n",
    "    A = np.array([[q1, q0, 0, 0], [f1, f0, 0, 0], [0, 0, q1, q0], [0, 0, f1, f0]])\n",
    "    B = np.array([Q1, F1, Q0, F0])\n",
    "    X = np.linalg.solve(A,B) # a11, a01, a10, a00\n",
    "    \n",
    "    #return a00,q q0, q1, Q0\n",
    "    #return a001, a002, X[-1]\n",
    "    return X[0],X[-1],q1,q0,Q1,Q0"
   ]
  },
  {
   "cell_type": "code",
   "execution_count": 3,
   "id": "06c7ceb1",
   "metadata": {},
   "outputs": [
    {
     "name": "stdout",
     "output_type": "stream",
     "text": [
      "  time 0 out of 120\n",
      "  time 0 out of 120\n",
      "  time 0 out of 120\n",
      "  time 0 out of 120\n",
      "  time 0 out of 120\n",
      "  time 0 out of 120\n",
      "  time 0 out of 120\n",
      "  time 0 out of 120\n",
      "  time 0 out of 120\n",
      "  time 0 out of 120\n"
     ]
    }
   ],
   "source": [
    "#qsg = 250\n",
    "hs = np.array([1,2,3,4,5])\n",
    "# xrange = np.array([47,97])\n",
    "xrange = np.array([120,235])\n",
    "\n",
    "eflx = np.empty(len(hs))\n",
    "rflx = np.empty(len(hs))\n",
    "q1 = np.empty(len(hs))\n",
    "q0 = np.empty(len(hs))\n",
    "Q1 = np.empty(len(hs))\n",
    "Q0 = np.empty(len(hs))\n",
    "\n",
    "for j in range(len(hs)):\n",
    "    \n",
    "    eflx[j], rflx[j], q1[j], q0[j], Q1[j], Q0[j] = reflux(hs[j],xrange)"
   ]
  },
  {
   "cell_type": "code",
   "execution_count": 4,
   "id": "04e3b192",
   "metadata": {},
   "outputs": [
    {
     "data": {
      "text/plain": [
       "(array([ 0.06345722,  0.01773008, -0.01255669, -0.03850298, -0.02452123]),\n",
       " array([0.70398433, 0.55533405, 0.41617822, 0.2879172 , 0.17783125]))"
      ]
     },
     "execution_count": 4,
     "metadata": {},
     "output_type": "execute_result"
    }
   ],
   "source": [
    "eflx, rflx"
   ]
  },
  {
   "cell_type": "code",
   "execution_count": 5,
   "id": "fe5731af",
   "metadata": {},
   "outputs": [],
   "source": [
    "def tef_transport(case_id, xi):    \n",
    "    File1 = xr.open_dataset('/work/oceans/wbao/MITgcm_results/iceplume/1_BaseCase/state_' + str(format(case_id,'03d')) + '.nc')\n",
    "    State = File1.isel(T=~File1.get_index(\"T\").duplicated())\n",
    "#    Grid = xr.open_dataset('/Volumes/Extreme SSD/MITgcm outputs/1_BaseCase/grid_' + str(format(case_id,'03d')) + '.nc')\n",
    "    Grid = xr.open_dataset('/work/oceans/wbao/MITgcm_results/iceplume/1_BaseCase/grid_' + str(format(case_id,'03d')) + '.nc')\n",
    "\n",
    "    state = State.isel(X=range(260), Xp1=range(261), Y=range(35,45), T=range(1,len(State.T)))\n",
    "    grid = Grid.isel(X=range(260), Xp1=range(261), Y=range(35,45))\n",
    "    s = state.S.data.mean(2) # Salinity in T,Z,X\n",
    "    u = (state.U.data[:,:,:,1:].mean(2) + state.U.data[:,:,:,:-1].mean(2)) / 2 # Along channel velocity\n",
    "    ot = state.T.data # Time in seconds\n",
    "\n",
    "\n",
    "    HFacC1 = grid.HFacC.data.mean(1)\n",
    "    dyF1 = grid.dyF.data.mean(0)\n",
    "    drF1 = grid.drF.data\n",
    "    gridA = np.broadcast_to(drF1[:, np.newaxis], HFacC1.shape) * np.broadcast_to(dyF1[np.newaxis, :], HFacC1.shape) * HFacC1 # Grid Area\n",
    "    da = np.broadcast_to(gridA[np.newaxis,:,:], u.shape)\n",
    "\n",
    "    S = state.S.data\n",
    "    U = (state.U.data[:,:,:,1:] + state.U.data[:,:,:,:-1]) / 2\n",
    "    drF = np.broadcast_to(grid.drF.data[np.newaxis, :, np.newaxis, np.newaxis], U.shape)\n",
    "    dyF = np.broadcast_to(grid.dyF.data[np.newaxis, np.newaxis, :, :], U.shape)\n",
    "    HFacC = np.broadcast_to(grid.HFacC.data[np.newaxis, :, :, :], U.shape)\n",
    "    DA = drF * dyF * HFacC\n",
    "    \n",
    "    \n",
    "    Qin = np.empty(len(xi))\n",
    "    Qout = np.empty(len(xi))\n",
    "    Sin = np.empty(len(xi))\n",
    "    Sout = np.empty(len(xi))\n",
    "    \n",
    "    t0 = 89 # 274\n",
    "    # Exclude the upper (surface) layer for TEF calculation\n",
    "    for t in range(U.shape[0]):\n",
    "        \n",
    "        Uzx = u[t,:,:] # Steady-state along-channel velocity\n",
    "        for j in range(Uzx.shape[1]):\n",
    "            if any(Uzx[:,j]>0)==False:\n",
    "                pass\n",
    "            else:\n",
    "                mid = np.where(Uzx[:,j]>0)[0][0]\n",
    "                if mid>0:\n",
    "                    S[t,:mid,:,j] = 0\n",
    "                    U[t,:mid,:,j] = 0\n",
    "                else:\n",
    "                    pass\n",
    "\n",
    "    \n",
    "    \n",
    "    for i in range(len(xi)):\n",
    "               \n",
    "        tef_q1, tef_vel1, tef_da1, tef_qs1, tef_qs21, sbins1 = tef.process_section(U,S,DA,ot,xi[i],23,testing=False)\n",
    "\n",
    "        qin1, qout1, sin1, sout1 = tef.bulk_calc(tef_q1, tef_vel1, tef_da1, tef_qs1, tef_qs21, sbins1, ot)\n",
    "    \n",
    "        Qin[i] = qin1[t0:].mean() # Time averaging from 1+t0 hour\n",
    "        Qout[i] = qout1[t0:].mean()\n",
    "        Sin[i] = sin1[t0:].mean() # Time averaging from 1+t0 hour\n",
    "        Sout[i] = sout1[t0:].mean()\n",
    "        \n",
    "    return Qin, Qout, Sin, Sout"
   ]
  },
  {
   "cell_type": "code",
   "execution_count": 14,
   "id": "c0fbc3f3",
   "metadata": {},
   "outputs": [
    {
     "name": "stdout",
     "output_type": "stream",
     "text": [
      "  time 0 out of 120\n",
      "  time 0 out of 120\n"
     ]
    }
   ],
   "source": [
    "Qin, Qout, Sin, Sout = tef_transport(5, xrange)"
   ]
  },
  {
   "cell_type": "code",
   "execution_count": 15,
   "id": "da4a157b",
   "metadata": {},
   "outputs": [
    {
     "name": "stdout",
     "output_type": "stream",
     "text": [
      " - Volume Flux adjustment = 0.00002\n",
      " -   Salt Flux adjustment = -0.00004\n"
     ]
    }
   ],
   "source": [
    "# a11, a01, a10, a00\n",
    "alpha = tef.efflux_reflux(Qin, Qout, Sin, Sout, error=True)"
   ]
  },
  {
   "cell_type": "code",
   "execution_count": 16,
   "id": "a2eef8e5",
   "metadata": {},
   "outputs": [
    {
     "name": "stdout",
     "output_type": "stream",
     "text": [
      "[-0.02628035  0.82048041  1.02628035  0.17951959]\n"
     ]
    }
   ],
   "source": [
    "print(alpha)"
   ]
  },
  {
   "cell_type": "code",
   "execution_count": 8,
   "id": "c94893d2",
   "metadata": {},
   "outputs": [],
   "source": [
    "ds = xr.open_dataset('~/Parameters/FjordModeling/1_BaseCase.nc')\n",
    "\n",
    "Qin1 = ds.Qin1.data\n",
    "Qout2 = ds.Qout2.data\n",
    "Qout1 = ds.Qout1.data\n",
    "Qin2 = ds.Qin2. data\n",
    "\n",
    "Qsm = ds.Qsm.data\n",
    "a11 = ds.alpha11.data\n",
    "a22 = ds.alpha22.data\n",
    "a22[a22<0] = 0"
   ]
  },
  {
   "cell_type": "code",
   "execution_count": 9,
   "id": "1083076b",
   "metadata": {},
   "outputs": [
    {
     "data": {
      "text/plain": [
       "(array([9024.63108578, 9069.27998963, 8925.37274129, 8745.58928875,\n",
       "        8160.85462874]),\n",
       " array([8776.80278027, 8819.76960836, 8676.91261766, 8495.50289802,\n",
       "        7912.03856441]),\n",
       " array([2423.74567441, 3747.48034528, 4838.94512668, 5719.5561161 ,\n",
       "        6282.10174435]),\n",
       " array([2672.29225714, 3997.46199167, 5087.16043472, 5969.74319531,\n",
       "        6530.56922   ]),\n",
       " array([0.71530895, 0.56250147, 0.42047409, 0.29042472, 0.17951959]),\n",
       " array([0.04242288, 0.00787062, 0.        , 0.        , 0.        ]))"
      ]
     },
     "execution_count": 9,
     "metadata": {},
     "output_type": "execute_result"
    }
   ],
   "source": [
    "Qin1, Qout1, Qin2, Qout2, a11, a22"
   ]
  },
  {
   "cell_type": "code",
   "execution_count": 12,
   "id": "d1d67a76",
   "metadata": {},
   "outputs": [
    {
     "data": {
      "image/png": "[encoded data removed]",
      "text/plain": [
       "<Figure size 720x360 with 4 Axes>"
      ]
     },
     "metadata": {
      "needs_background": "light"
     },
     "output_type": "display_data"
    }
   ],
   "source": [
    "hsr = np.array([0.04,0.06,0.08,0.10,0.12]) # hs/h\n",
    "\n",
    "fig1 = plt.figure(figsize=(10,5))\n",
    "fig1.tight_layout()\n",
    "\n",
    "# Plot Qin and Qin ratio\n",
    "ax1 = fig1.add_subplot(121)\n",
    "plt.grid(linestyle = '--', linewidth = 0.5)\n",
    "#ax1.plot(hsr,q1/Q0,'D-b',ms=8,label=r'$Q^2_{in}/Q^1_{in}$')\n",
    "ax1.plot(hsr,Qin2/Qout1,'D-b',ms=8,label=r'$Q^2_{in}/Q^1_{out}$')\n",
    "ax1.legend(loc='right', fontsize=15)\n",
    "ax1.tick_params(labelsize=15)\n",
    "ax1.set_xticks([0.04, 0.06, 0.08, 0.10, 0.12])\n",
    "ax1.set_xlabel(r\"$h_s/h$\",fontsize=15)\n",
    "#ax1.set_ylim([0, .7])\n",
    "ax1.set_ylabel(r\"$Q^2_{in}/Q^1_{out}$\",fontsize=15,color='b')\n",
    "ax1.set_title('(a)', loc='left', size=15, weight='bold')\n",
    "ax1.tick_params(direction='in', labelsize=15)\n",
    "ax1.tick_params(axis='y', colors='blue')\n",
    "#for side in ax2.spines.keys():  # 'top', 'bottom', 'left', 'right'\n",
    "#    ax2.spines[side].set_linewidth(1.5)\n",
    "#    ax2.spines[side].set_color('red')\n",
    "\n",
    "ax2=ax1.twinx()\n",
    "# ax2.plot(hsr,Q0/1e3,'s-r',ms=8,label=r'$Q^1_{in}$')\n",
    "# ax2.plot(hsr,(Q0-q1)/1e3,'o-r',ms=8,label=r'$Q_e$')\n",
    "ax2.plot(hsr,Qout1/1e3,'s-r',ms=8,label=r'$Q^1_{out}$')\n",
    "ax2.plot(hsr,(Qout1-Qin2)/1e3,'o-r',ms=8,label=r'$Q_e$')\n",
    "ax2.legend(loc='lower center', fontsize=15)\n",
    "ax2.spines['left'].set_color('blue')\n",
    "ax2.spines['right'].set_color('red')\n",
    "ax2.tick_params(axis='y', colors='red')\n",
    "\n",
    "ax2.tick_params(direction='in', labelsize=15)\n",
    "ax2.set_ylim([1, 9])\n",
    "ax2.set_yticks([1.5, 3, 4.5, 6, 7.5, 9])\n",
    "ax2.set_ylabel(r\"Volume Flux $[\\times10^3\\;m^3/s]$\",fontsize=15,color='r')\n",
    "\n",
    "\n",
    "# Plot reflux coefs and Qe\n",
    "ax3 = fig1.add_subplot(122)\n",
    "plt.grid(linestyle = '--', linewidth = 0.5)\n",
    "ax3.plot(hsr,a11,'v-g',ms=8,label=r'$\\alpha_{11}$')\n",
    "#eflx[eflx<0] = 0\n",
    "ax3.plot(hsr,a22,'^-g',ms=8,label=r'$\\alpha_{22}$')\n",
    "ax3.legend(loc='lower center', fontsize=15)\n",
    "ax3.tick_params(direction='in', labelsize=15)\n",
    "ax3.tick_params(axis='y', colors='green')\n",
    "\n",
    "ax3.set_xticks([0.04, 0.06, 0.08, 0.10, 0.12])\n",
    "ax3.set_xlabel(r\"$h_s/h$\",fontsize=15)\n",
    "ax3.set_ylabel(r\"Reflux Coefficient\",fontsize=15,color='g')\n",
    "ax3.set_title('(b)', loc='left', size=15, weight='bold')\n",
    "\n",
    "ax4=ax3.twinx()\n",
    "# ax4.plot(hsr,(Q0-q1)/1e3,'o-r',ms=8,label=r'$Q_e$')\n",
    "ax4.plot(hsr,(Qout1-Qin2)/1e3,'o-r',ms=8,label=r'$Q_e$')\n",
    "ax4.legend(loc='right', fontsize=15)\n",
    "ax4.tick_params(direction='in', labelsize=15)\n",
    "ax4.spines['left'].set_color('green')\n",
    "ax4.spines['right'].set_color('red')\n",
    "ax4.tick_params(axis='y', colors='red')\n",
    "ax4.set_ylim([1, 9])\n",
    "ax4.set_yticks([1.5, 3, 4.5, 6, 7.5, 9])\n",
    "ax4.set_ylabel(r\"Volume Flux $[\\times10^3\\;m^3/s]$\",fontsize=15,color='r')\n",
    "\n",
    "# set the spacing between subplots\n",
    "plt.subplots_adjust(left=0.05,\n",
    "                    bottom=0.1, \n",
    "                    right=0.95, \n",
    "                    top=0.9, \n",
    "                    wspace=0.4, \n",
    "                    hspace=0.4)\n",
    "plt.show()"
   ]
  },
  {
   "cell_type": "code",
   "execution_count": 13,
   "id": "6f7728fc",
   "metadata": {},
   "outputs": [],
   "source": [
    "fig_path =\"/home/1959/Jupyter_Figs/FjordModeling/\"\n",
    "if not os.path.exists(fig_path):\n",
    "    os.makedirs(fig_path)\n",
    "fig1.savefig(fig_path + '/2-TEF_Reflux.png', dpi=300, bbox_inches='tight') "
   ]
  },
  {
   "cell_type": "code",
   "execution_count": null,
   "id": "8dbe046b",
   "metadata": {},
   "outputs": [],
   "source": []
  }
 ],
 "metadata": {
  "kernelspec": {
   "display_name": "Python 3 (ipykernel)",
   "language": "python",
   "name": "python3"
  },
  "language_info": {
   "codemirror_mode": {
    "name": "ipython",
    "version": 3
   },
   "file_extension": ".py",
   "mimetype": "text/x-python",
   "name": "python",
   "nbconvert_exporter": "python",
   "pygments_lexer": "ipython3",
   "version": "3.7.11"
  }
 },
 "nbformat": 4,
 "nbformat_minor": 5
}
