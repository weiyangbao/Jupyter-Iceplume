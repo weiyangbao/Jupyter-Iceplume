{
 "cells": [
  {
   "cell_type": "code",
   "execution_count": 1,
   "id": "47d39225",
   "metadata": {},
   "outputs": [],
   "source": [
    "# Examine along-fjord velocity in tidal runs\n",
    "import xarray as xr\n",
    "import numpy as np\n",
    "import matplotlib\n",
    "import matplotlib.pyplot as plt\n",
    "import os\n",
    "import gsw\n",
    "import utide\n",
    "from pandas import date_range"
   ]
  },
  {
   "cell_type": "code",
   "execution_count": 9,
   "id": "d3a88ec4",
   "metadata": {},
   "outputs": [],
   "source": [
    "def U_prof(datapath, case_id, xidx):\n",
    "    \n",
    "    State01 = xr.open_dataset(datapath + '/state_ext_' + str(format(case_id,'03d')) + '.nc')    \n",
    "    State = State01.isel(T=~State01.get_index(\"T\").duplicated())\n",
    "    state = State.isel(Y=range(35,45), Yp1=range(35,45))\n",
    "#    Grid = xr.open_dataset(datapath + '/grid_' + str(format(case_id,'03d')) + '.nc') \n",
    "#    grid = Grid.isel(X=range(260), Xp1=range(261), Y=range(35,45), Yp1=range(35,45))\n",
    "\n",
    "    # Along-fjord velocity\n",
    "#     u0 = state.U.data # dims = T, Z, Y, Xp1\n",
    "#     u_ymean = (u0[:, :, :, 1:].mean(2) + u0[:, :, :, :-1].mean(2)) / 2\n",
    "#     Uzt = u0[:,:,:,xidx].mean(2).T\n",
    "    Uzt = state.U.data[:,:,:,xidx].mean(2)\n",
    "    Vzt = state.V.data[:,:,:,xidx].mean(2)\n",
    "    U = state.U.data[:,:,:,xidx]\n",
    "    V = state.V.data[:,:,:,xidx]\n",
    "    \n",
    "    depth = state.Z.data\n",
    "    #time = state.T.data / 86400 # Time in days\n",
    "    time = state.T.data /3600 # Time in hours\n",
    "\n",
    "    return depth, time, U, V"
   ]
  },
  {
   "cell_type": "code",
   "execution_count": 10,
   "id": "e87f6236",
   "metadata": {},
   "outputs": [],
   "source": [
    "path1 = '/work/oceans/wbao/MITgcm_results/iceplume/weak_Tide_minhs'\n",
    "path2 = '/work/oceans/wbao/MITgcm_results/iceplume/6_Tide_minhs'\n",
    "path3 = '/work/oceans/wbao/MITgcm_results/iceplume/Tide_hourly'\n",
    "\n",
    "gf, sw, sc, se = 6, 120, 178, 235 # index for cross-fjord sections 0, 1, sill crest, 2\n",
    "\n",
    "depth, time, U1, V1 = U_prof(path1, 1, sc)\n",
    "#depth, time, U2, V2 = U_prof(path2, 5, sc)\n",
    "#depth, time, U3 = U_prof(path3, 1, -2)"
   ]
  },
  {
   "cell_type": "code",
   "execution_count": null,
   "id": "c4b745b1",
   "metadata": {},
   "outputs": [],
   "source": [
    "#U1.max(), U1.min(), U2.max(), U2.min()\n",
    "U1.shape"
   ]
  },
  {
   "cell_type": "code",
   "execution_count": 11,
   "id": "4bcb8f2a",
   "metadata": {},
   "outputs": [
    {
     "name": "stdout",
     "output_type": "stream",
     "text": [
      "solve: matrix prep ... solution ... done.\n",
      "prep/calcs ... done.\n"
     ]
    }
   ],
   "source": [
    "# Get harmonics\n",
    "t = date_range(start=\"2022-07-24\", periods=121, freq=\"H\")\n",
    "#t = time - 1439\n",
    "\n",
    "u = U1[:,3,4]\n",
    "v = V1[:,3,4]\n",
    "coef = utide.solve(\n",
    "    t, u, v,\n",
    "    lat=55,\n",
    "    nodal=False,\n",
    "    trend=False,\n",
    "    method='ols',\n",
    "    conf_int='linear',\n",
    "    Rayleigh_min=0.95,\n",
    ")\n",
    "\n",
    "tide = utide.reconstruct(t, coef)"
   ]
  },
  {
   "cell_type": "code",
   "execution_count": null,
   "id": "6e4a97bc",
   "metadata": {},
   "outputs": [],
   "source": [
    "#tide.keys()\n",
    "tide"
   ]
  },
  {
   "cell_type": "code",
   "execution_count": 12,
   "id": "9705e8ae",
   "metadata": {},
   "outputs": [
    {
     "data": {
      "text/plain": [
       "<matplotlib.legend.Legend at 0x7f2d011a3090>"
      ]
     },
     "execution_count": 12,
     "metadata": {},
     "output_type": "execute_result"
    },
    {
     "data": {
      "image/png": "[encoded data removed]",
      "text/plain": [
       "<Figure size 1224x360 with 3 Axes>"
      ]
     },
     "metadata": {
      "needs_background": "light"
     },
     "output_type": "display_data"
    }
   ],
   "source": [
    "%matplotlib inline\n",
    "\n",
    "fig, (ax0, ax1, ax2) = plt.subplots(nrows=3, sharey=True, sharex=True, figsize=(17, 5))\n",
    "\n",
    "ax0.plot(t, u, label='Observations', color='C0')\n",
    "ax0.legend(numpoints=1, loc='lower right')\n",
    "ax0.set_title(r'$h_s/h=0.04, U_0=1\\times10^{-3} m\\,s^{-1}$', fontsize=15)\n",
    "\n",
    "ax1.plot(t, tide['u'], alpha=0.5, label='Prediction', color='C1')\n",
    "ax1.legend(numpoints=1, loc='lower right')\n",
    "\n",
    "ax2.plot(t, u-tide['u'], alpha=0.5, label='Original time series minus Prediction', color='C2')\n",
    "ax2.legend(numpoints=1, loc='lower right')\n",
    "\n"
   ]
  },
  {
   "cell_type": "code",
   "execution_count": null,
   "id": "ba562ce5",
   "metadata": {},
   "outputs": [],
   "source": [
    "tide['u'].min()"
   ]
  },
  {
   "cell_type": "code",
   "execution_count": 2,
   "id": "d3cf61be",
   "metadata": {},
   "outputs": [],
   "source": [
    "def Ut_sill(datapath, case_id, sd):\n",
    "    \n",
    "    State01 = xr.open_dataset(datapath + '/state_ext_' + str(format(case_id,'03d')) + '.nc')    \n",
    "    State = State01.isel(T=~State01.get_index(\"T\").duplicated())\n",
    "    state = State.isel(Y=range(35,45), Yp1=range(35,45))\n",
    "\n",
    "    U = state.U.data[:,:,:,179].mean(2)\n",
    "    V = state.V.data[:,:,:,179].mean(2)\n",
    "    time = state.T.data\n",
    "    t = date_range(start=\"2022-07-24\", periods=len(time), freq=\"H\")\n",
    "    \n",
    "    Ut_max = np.empty(sd)\n",
    "    Ut_min = np.empty(sd)\n",
    "    for i in range(sd):\n",
    "        \n",
    "        coef = utide.solve(\n",
    "            t, U[:,i], V[:,i],\n",
    "            lat=55,\n",
    "            nodal=False,\n",
    "            trend=False,\n",
    "            method='ols',\n",
    "            conf_int='linear',\n",
    "            Rayleigh_min=0.95,\n",
    "        )\n",
    "        \n",
    "        tide = utide.reconstruct(t, coef)\n",
    "        Ut_max[i] = tide['u'].max()\n",
    "        Ut_min[i] = tide['u'].min()\n",
    "    \n",
    "    return Ut_max, Ut_min"
   ]
  },
  {
   "cell_type": "code",
   "execution_count": 16,
   "id": "840d9189",
   "metadata": {},
   "outputs": [
    {
     "name": "stdout",
     "output_type": "stream",
     "text": [
      "solve: matrix prep ... solution ... done.\n",
      "prep/calcs ... done.\n",
      "solve: matrix prep ... solution ... done.\n",
      "prep/calcs ... done.\n",
      "solve: matrix prep ... solution ... done.\n",
      "prep/calcs ... done.\n",
      "solve: matrix prep ... solution ... done.\n",
      "prep/calcs ... done.\n",
      "solve: matrix prep ... solution ... done.\n",
      "prep/calcs ... done.\n",
      "solve: matrix prep ... solution ... done.\n",
      "prep/calcs ... done.\n",
      "solve: matrix prep ... solution ... done.\n",
      "prep/calcs ... done.\n",
      "solve: matrix prep ... solution ... done.\n",
      "prep/calcs ... done.\n",
      "solve: matrix prep ... solution ... done.\n",
      "prep/calcs ... done.\n",
      "[ 2.91565759e-01  2.87063508e-01  2.74556228e-01  2.40713424e-01\n",
      "  1.71591147e-01  7.41435390e-02 -2.53470855e-02 -1.12637117e-01\n",
      "  3.37222087e-17  4.79713212e-02  2.68953572e-02 -1.82080221e-02\n",
      " -9.96729496e-02 -2.02830718e-01 -2.69542166e-01 -2.84435549e-01\n",
      " -2.61648869e-01 -2.85109960e-17] 0.29156575872603596 -0.2844355485688449\n"
     ]
    }
   ],
   "source": [
    "path4 = '/work/oceans/wbao/MITgcm_results/iceplume/6_Tide_maxhs'\n",
    "path5 = '/work/oceans/wbao/MITgcm_results/iceplume/6_sTide_minhs'\n",
    "\n",
    "umax, umin = Ut_sill(path5, 1, 9)\n",
    "ut = np.concatenate((umax, umin))\n",
    "print (ut, ut.max(), ut.min())"
   ]
  },
  {
   "cell_type": "code",
   "execution_count": null,
   "id": "44c80d44",
   "metadata": {},
   "outputs": [],
   "source": [
    "ut.max(), ut.min(), ut"
   ]
  },
  {
   "cell_type": "code",
   "execution_count": null,
   "id": "174728e1",
   "metadata": {},
   "outputs": [],
   "source": [
    "# Making plot for along-fjord velocity U\n",
    "fig1 = plt.figure(figsize=(10,5))\n",
    "fig1.tight_layout()  \n",
    "\n",
    "cu1 = np.linspace(-0.2,0.2,20) # Contour range for U\n",
    "#cu1 = np.linspace(-1e-4,1e-4,20)\n",
    "cu2 = np.linspace(-0.2,0.2,20)\n",
    "cmap = 'RdBu_r'\n",
    "\n",
    "t0 = 0 # Starting time\n",
    "ax1 = fig1.add_subplot(211)\n",
    "im1 = ax1.contourf(time[t0:], depth, U1[:,t0:], cu1, cmap=cmap, extend='both')\n",
    "\n",
    "#cbaxes = fig1.add_axes([0.72, 0.95, 0.15, 0.01])\n",
    "#cax = divider.append_axes(\"right\", size=\"5%\", pad=0.05)\n",
    "cbar1 = fig1.colorbar(im1,ax=ax1, orientation='vertical')\n",
    "cbar1.set_ticks([-0.2,0,0.2])\n",
    "cbar1.ax.set_title('U [$m\\,s^{-1}$]', size=15)\n",
    "\n",
    "ax1.set_xlim(time[t0],time[-1])\n",
    "ax1.set_ylim(depth[8],depth[0])\n",
    "ax1.tick_params(direction='in', labelsize=15)\n",
    "ax1.xaxis.set_visible(False)\n",
    "ax1.set_title(r'(a) $U_0=10^{-4}\\,m\\,s^{-1}$', loc='left', size=15, weight='bold')\n",
    "ax1.set_ylabel('Depth [$m$]', size=15)\n",
    "\n",
    "\n",
    "\n",
    "ax2 = fig1.add_subplot(212)\n",
    "im2 = ax2.contourf(time[t0:], depth, U2[:,t0:], cu2, cmap=cmap, extend='both')\n",
    "\n",
    "cbar2 = fig1.colorbar(im2,ax=ax2, orientation='vertical')\n",
    "cbar2.set_ticks([-0.2,0,0.2])\n",
    "cbar2.ax.set_title('U [$m\\,s^{-1}$]', size=15)\n",
    "\n",
    "ax2.set_xlim(time[t0],time[-1])\n",
    "ax2.set_ylim(depth[8],depth[0])\n",
    "ax2.tick_params(direction='in', labelsize=15)\n",
    "ax2.set_title(r'(b) $U_0=10^{-3}\\,m\\,s^{-1}$', loc='left', size=15, weight='bold')\n",
    "ax2.set_xlabel('Time [days]', size=15)\n",
    "ax2.set_ylabel('Depth [$m$]', size=15)\n",
    "\n",
    "# set the spacing between subplots\n",
    "plt.subplots_adjust(left=0.1,\n",
    "                    bottom=0.1, \n",
    "                    right=0.9, \n",
    "                    top=0.9, \n",
    "                    wspace=0.4, \n",
    "                    hspace=0.3)"
   ]
  },
  {
   "cell_type": "code",
   "execution_count": null,
   "id": "adcdf370",
   "metadata": {},
   "outputs": [],
   "source": [
    "# Making plot for along-fjord velocity U\n",
    "fig2 = plt.figure(figsize=(10,5))\n",
    "fig2.tight_layout()  \n",
    "\n",
    "cu1 = np.linspace(-1e-4,1e-4,20)\n",
    "cu2 = np.linspace(-1e-3,1e-3,20)\n",
    "cmap = 'RdBu_r'\n",
    "\n",
    "t0 = 0 # Starting time\n",
    "ax1 = fig2.add_subplot(211)\n",
    "im1 = ax1.contourf(time[t0:], depth, U1[:,t0:], cu1, cmap=cmap, extend='both')\n",
    "\n",
    "#cbaxes = fig1.add_axes([0.72, 0.95, 0.15, 0.01])\n",
    "#cax = divider.append_axes(\"right\", size=\"5%\", pad=0.05)\n",
    "cbar1 = fig2.colorbar(im1,ax=ax1, orientation='vertical')\n",
    "cbar1.set_ticks([-1e-4,0,1e-4])\n",
    "cbar1.ax.set_title('U [$m\\,s^{-1}$]', size=15)\n",
    "\n",
    "ax1.set_xlim(time[t0],time[-1])\n",
    "ax1.set_ylim(depth[8],depth[0])\n",
    "ax1.tick_params(direction='in', labelsize=15)\n",
    "ax1.xaxis.set_visible(False)\n",
    "ax1.set_title(r'(a) $U_0=10^{-4}\\,m\\,s^{-1}$', loc='left', size=15, weight='bold')\n",
    "ax1.set_ylabel('Depth [$m$]', size=15)\n",
    "\n",
    "\n",
    "\n",
    "ax2 = fig2.add_subplot(212)\n",
    "im2 = ax2.contourf(time[t0:], depth, U2[:,t0:], cu2, cmap=cmap, extend='both')\n",
    "\n",
    "cbar2 = fig2.colorbar(im2,ax=ax2, orientation='vertical')\n",
    "cbar2.set_ticks([-1e-3,0,1e-3])\n",
    "cbar2.ax.set_title('U [$m\\,s^{-1}$]', size=15)\n",
    "\n",
    "ax2.set_xlim(time[t0],time[-1])\n",
    "ax2.set_ylim(depth[8],depth[0])\n",
    "ax2.tick_params(direction='in', labelsize=15)\n",
    "ax2.set_title(r'(b) $U_0=10^{-3}\\,m\\,s^{-1}$', loc='left', size=15, weight='bold')\n",
    "ax2.set_xlabel('Time [days]', size=15)\n",
    "ax2.set_ylabel('Depth [$m$]', size=15)\n",
    "\n",
    "# set the spacing between subplots\n",
    "plt.subplots_adjust(left=0.1,\n",
    "                    bottom=0.1, \n",
    "                    right=0.9, \n",
    "                    top=0.9, \n",
    "                    wspace=0.4, \n",
    "                    hspace=0.3)"
   ]
  },
  {
   "cell_type": "code",
   "execution_count": null,
   "id": "9ebb166e",
   "metadata": {},
   "outputs": [],
   "source": [
    "fig_path =\"/home/1959/Jupyter_Figs/FjordModeling/\"\n",
    "if not os.path.exists(fig_path):\n",
    "    os.makedirs(fig_path)\n",
    "fig.savefig(fig_path + '/Utide_sill.png', dpi=300, bbox_inches='tight')\n",
    "#fig1.savefig(fig_path + '/Ut_sill.png', dpi=300, bbox_inches='tight')"
   ]
  },
  {
   "cell_type": "code",
   "execution_count": null,
   "id": "a027f9c7",
   "metadata": {},
   "outputs": [],
   "source": []
  }
 ],
 "metadata": {
  "kernelspec": {
   "display_name": "Python 3 (ipykernel)",
   "language": "python",
   "name": "python3"
  },
  "language_info": {
   "codemirror_mode": {
    "name": "ipython",
    "version": 3
   },
   "file_extension": ".py",
   "mimetype": "text/x-python",
   "name": "python",
   "nbconvert_exporter": "python",
   "pygments_lexer": "ipython3",
   "version": "3.7.11"
  }
 },
 "nbformat": 4,
 "nbformat_minor": 5
}
