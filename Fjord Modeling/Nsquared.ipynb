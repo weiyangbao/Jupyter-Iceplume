{
 "cells": [
  {
   "cell_type": "code",
   "execution_count": 1,
   "id": "827a877d",
   "metadata": {},
   "outputs": [],
   "source": [
    "import xarray as xr\n",
    "import numpy as np\n",
    "import matplotlib\n",
    "import matplotlib.pyplot as plt\n",
    "import os\n",
    "import gsw"
   ]
  },
  {
   "cell_type": "code",
   "execution_count": null,
   "id": "3f9bb181",
   "metadata": {},
   "outputs": [],
   "source": [
    "path1 = '/work/oceans/wbao/MITgcm_results/iceplume/wSal_Linear_minhs'\n",
    "case_id = 1\n",
    "State01 = xr.open_dataset(path1 + '/state_' + str(format(case_id,'03d')) + '.nc')    \n",
    "State = State01.isel(T=~State01.get_index(\"T\").duplicated())\n",
    "state = State.isel(X=range(260), Xp1=range(261), Y=range(35,45), Yp1=range(35,45))\n",
    "u = state.U.data[1,:,:,2].mean(1)\n",
    "s = state.S.data[2,:,:,6].mean(1)\n",
    "pt = state.Temp.data[2,:,:,6].mean(1)\n",
    "depth = state.Z.data\n",
    "pres = gsw.p_from_z(depth, 55)"
   ]
  },
  {
   "cell_type": "code",
   "execution_count": null,
   "id": "1bfa8557",
   "metadata": {},
   "outputs": [],
   "source": [
    "u\n",
    "#depth[u==u.max()], u.max(), u.min()"
   ]
  },
  {
   "cell_type": "code",
   "execution_count": null,
   "id": "b18266ca",
   "metadata": {},
   "outputs": [],
   "source": [
    "def layer_Nsquare(datapath, case_id, xidx):\n",
    "    \n",
    "    State01 = xr.open_dataset(datapath + '/state_' + str(format(case_id,'03d')) + '.nc')    \n",
    "    State = State01.isel(T=~State01.get_index(\"T\").duplicated())\n",
    "    state = State.isel(X=range(260), Xp1=range(261), Y=range(35,45), Yp1=range(35,45))\n",
    "\n",
    "    # Potential temp\n",
    "    Ttz = state.Temp.data[:,:,:,xidx].mean(2)\n",
    "    \n",
    "    # Salinity\n",
    "    Stz = state.S.data[:,:,:,xidx].mean(2)\n",
    "    \n",
    "    depth = state.Z.data\n",
    "    time = state.T.data / 86400 # Time in days\n",
    "    \n",
    "    # Pressure\n",
    "    pres = gsw.p_from_z(depth, 55)    \n",
    "    p = np.tile(pres,[len(time),1])\n",
    "    \n",
    "    N2 = np.empty(len(time))\n",
    "    for i in range(len(time)):\n",
    "        N, Pmid = gsw.Nsquared(Stz[i,:],Ttz[i,:],pres,55)\n",
    "        N2[i] = N.mean()\n",
    "    \n",
    "    return time, N2"
   ]
  },
  {
   "cell_type": "code",
   "execution_count": 2,
   "id": "98fd690b",
   "metadata": {},
   "outputs": [],
   "source": [
    "def plume_height(datapath, case_id):\n",
    "    \n",
    "    State01 = xr.open_dataset(datapath + '/state_' + str(format(case_id,'03d')) + '.nc')    \n",
    "    State = State01.isel(T=~State01.get_index(\"T\").duplicated())\n",
    "    state = State.isel(X=range(260), Xp1=range(261), Y=range(35,45), Yp1=range(35,45))\n",
    "    \n",
    "    xidx = 2 # Glacier front index\n",
    "    \n",
    "    # Along-fjord velocity\n",
    "    u = state.U.data[1,:,:,xidx].mean(1)\n",
    "    \n",
    "    # Potential temp\n",
    "    T0 = state.Temp.data[0,:,:,xidx].mean(1)\n",
    "    \n",
    "    # Salinity\n",
    "    S0 = state.S.data[0,:,:,xidx].mean(1)\n",
    "    \n",
    "    depth = state.Z.data  \n",
    "    # Pressure\n",
    "    pres = gsw.p_from_z(depth, 55)\n",
    "\n",
    "    N2, Pmid = gsw.Nsquared(S0,T0,pres,55)\n",
    "    \n",
    "    rho = gsw.rho(S0, T0, pres)\n",
    "    rho_a = rho[-1] # Ambient density\n",
    "    \n",
    "    ph_obs = 400 + depth[u==u.max()]\n",
    "    \n",
    "    return ph_obs, N2.mean(), rho_a"
   ]
  },
  {
   "cell_type": "code",
   "execution_count": null,
   "id": "b826166f",
   "metadata": {},
   "outputs": [],
   "source": [
    "path1 = '/work/oceans/wbao/MITgcm_results/iceplume/Sal_Linear_minhs'\n",
    "\n",
    "# day, bfreq1 = layer_Nsquare(path1, 1, 6)\n",
    "# day, bfreq2 = layer_Nsquare(path1, 4, 6)"
   ]
  },
  {
   "cell_type": "code",
   "execution_count": null,
   "id": "a2287751",
   "metadata": {},
   "outputs": [],
   "source": [
    "\n"
   ]
  },
  {
   "cell_type": "code",
   "execution_count": null,
   "id": "2d490185",
   "metadata": {},
   "outputs": [],
   "source": [
    "fig1 = plt.figure(figsize=(12,4))\n",
    "fig1.tight_layout()\n",
    "\n",
    "ax1 = fig1.add_subplot(111)\n",
    "#ax1.axvline(x=0,color='k',linestyle=':')\n",
    "plt.grid(linestyle = '--', linewidth = 0.5)\n",
    "ax1.plot(day,bfreq1*1e4,'b-',lw=2,label=r'$4\\frac{\\partial S_0}{\\partial z}$')\n",
    "ax1.plot(day,bfreq2*1e4,'r-',lw=2,label=r'$1\\frac{\\partial S_0}{\\partial z}$')\n",
    "ax1.legend(loc='best',fontsize=15)\n",
    "ax1.set_ylabel(r'$N^2$ [$\\times10^{-4}\\,s^{-2}$]', size=15)\n",
    "ax1.set_xlabel(r'Time [days]', size=15)\n",
    "#ax1.set_title('(a)', loc='left', size=15, weight='bold')\n",
    "ax1.tick_params(direction='in', labelsize=15)"
   ]
  },
  {
   "cell_type": "code",
   "execution_count": 3,
   "id": "08e7d26a",
   "metadata": {},
   "outputs": [],
   "source": [
    "path1 = '/work/oceans/wbao/MITgcm_results/iceplume/Sal_Linear_minhs'\n",
    "\n",
    "case = np.array([5,4,3,2,1])\n",
    "h_obs = np.empty(len(case))\n",
    "N2 = np.empty(len(case))\n",
    "rhoa = np.empty(len(case))\n",
    "for i in range(len(case)):\n",
    "    h_obs[i], N2[i], rhoa[i] = plume_height(path1, case[i])\n",
    "\n",
    "# Prediction of plume height\n",
    "g = 9.81\n",
    "Qsg = 250\n",
    "a = 0.1 # Entrainment coef\n",
    "rho_ref = 1020 # Reference density\n",
    "rhop = 1000 # Plume density\n",
    "gr = g * (rhoa-rhop)/rho_ref # Reduced gravity\n",
    "#h_est = ((g*Qsg)**(1/4)) * ((N2)**(-3/8))\n",
    "h_bpt = ((gr*Qsg/(2*np.pi*a*a))**(1/4)) * ((N2)**(-3/8)) # Estimate based on Buoyant Plume Theory\n",
    "z0 = h_obs / h_bpt\n",
    "h_est = h_bpt * z0.mean()\n",
    "h = 400 # Fjord depth\n",
    "h_est[h_est>h] = h"
   ]
  },
  {
   "cell_type": "code",
   "execution_count": 4,
   "id": "28f2414d",
   "metadata": {},
   "outputs": [
    {
     "name": "stdout",
     "output_type": "stream",
     "text": [
      "0.9919274495560465\n"
     ]
    }
   ],
   "source": [
    "#h_obs, h_est, N2\n",
    "corr_matrix1 = np.corrcoef(h_obs,h_est)\n",
    "corr1 = corr_matrix1[0,1]\n",
    "R_sq1 = corr1**2\n",
    "print(R_sq1)"
   ]
  },
  {
   "cell_type": "code",
   "execution_count": 5,
   "id": "76263de2",
   "metadata": {},
   "outputs": [
    {
     "data": {
      "image/png": "[encoded data removed]",
      "text/plain": [
       "<Figure size 288x288 with 1 Axes>"
      ]
     },
     "metadata": {
      "needs_background": "light"
     },
     "output_type": "display_data"
    }
   ],
   "source": [
    "fig2, ax2 =plt.subplots(figsize=(4,4))\n",
    "\n",
    "\n",
    "ax2.set(xlim=(150, 450), ylim=(150, 450))\n",
    "plt.axis('square')\n",
    "plt.grid(ls='--', lw=.5)\n",
    "plt.xlabel(r'$h_{p}$-estimate [$m$]', size=15)\n",
    "plt.ylabel(r'$h_{p}$-model [$m$]', size=15)\n",
    "ax2.set_xticks([150, 250, 350, 450])\n",
    "ax2.set_yticks([150, 250, 350, 450])\n",
    "#ax2.set_title(r'$T_{fjord}/T_{shelf}$', size=15)\n",
    "ax2.plot(ax2.get_xlim(), ax2.get_ylim(), ls=\"--\", lw=1.5, c=\"brown\")\n",
    "ax2.tick_params(direction='in', labelsize=15)\n",
    "loc_mark = [200, 400]\n",
    "plt.plot(loc_mark[0],loc_mark[1], marker='o', alpha=1, ms=15, color='brown', markeredgecolor='k')\n",
    "plt.text(loc_mark[0]+15, loc_mark[1]-5, r'$0.5N_0^2$~$4N_0^2$', fontsize=15)\n",
    "plt.text(340, 230, r'$r^2=0.99$', fontsize=15)\n",
    "\n",
    "#for side in ax2.spines.keys():  # 'top', 'bottom', 'left', 'right'\n",
    "#    ax2.spines[side].set_linewidth(1.5)\n",
    "#    ax2.spines[side].set_color('red')\n",
    "\n",
    "for j in range(len(case)):\n",
    "\n",
    "    ax2.plot(h_est[j], h_obs[j], marker='o', alpha=.7, ms=3*(j+3), color='orange', markeredgecolor='k')\n",
    "\n"
   ]
  },
  {
   "cell_type": "code",
   "execution_count": 6,
   "id": "9347b2d3",
   "metadata": {},
   "outputs": [],
   "source": [
    "fig_path =\"/home/1959/Jupyter_Figs/FjordModeling/\"\n",
    "if not os.path.exists(fig_path):\n",
    "    os.makedirs(fig_path)\n",
    "#fig1.savefig(fig_path + '/Strat_N2.png', dpi=300, bbox_inches='tight')\n",
    "fig2.savefig(fig_path + '/plume_height.png', dpi=300, bbox_inches='tight') "
   ]
  },
  {
   "cell_type": "code",
   "execution_count": null,
   "id": "e55cd2ac",
   "metadata": {},
   "outputs": [],
   "source": []
  }
 ],
 "metadata": {
  "kernelspec": {
   "display_name": "Python 3 (ipykernel)",
   "language": "python",
   "name": "python3"
  },
  "language_info": {
   "codemirror_mode": {
    "name": "ipython",
    "version": 3
   },
   "file_extension": ".py",
   "mimetype": "text/x-python",
   "name": "python",
   "nbconvert_exporter": "python",
   "pygments_lexer": "ipython3",
   "version": "3.7.11"
  }
 },
 "nbformat": 4,
 "nbformat_minor": 5
}
