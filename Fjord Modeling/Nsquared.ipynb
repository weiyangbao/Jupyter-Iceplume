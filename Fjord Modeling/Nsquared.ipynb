{
 "cells": [
  {
   "cell_type": "code",
   "execution_count": 1,
   "id": "827a877d",
   "metadata": {},
   "outputs": [],
   "source": [
    "import xarray as xr\n",
    "import numpy as np\n",
    "import matplotlib\n",
    "import matplotlib.pyplot as plt\n",
    "import os\n",
    "import gsw"
   ]
  },
  {
   "cell_type": "code",
   "execution_count": null,
   "id": "3f9bb181",
   "metadata": {},
   "outputs": [],
   "source": [
    "path1 = '/work/oceans/wbao/MITgcm_results/iceplume/wSal_Linear_minhs'\n",
    "case_id = 1\n",
    "State01 = xr.open_dataset(path1 + '/state_' + str(format(case_id,'03d')) + '.nc')    \n",
    "State = State01.isel(T=~State01.get_index(\"T\").duplicated())\n",
    "state = State.isel(X=range(260), Xp1=range(261), Y=range(35,45), Yp1=range(35,45))\n",
    "u = state.U.data[1,:,:,2].mean(1)\n",
    "s = state.S.data[2,:,:,6].mean(1)\n",
    "pt = state.Temp.data[2,:,:,6].mean(1)\n",
    "depth = state.Z.data\n",
    "pres = gsw.p_from_z(depth, 55)"
   ]
  },
  {
   "cell_type": "code",
   "execution_count": null,
   "id": "1bfa8557",
   "metadata": {},
   "outputs": [],
   "source": [
    "u\n",
    "#depth[u==u.max()], u.max(), u.min()"
   ]
  },
  {
   "cell_type": "code",
   "execution_count": null,
   "id": "b18266ca",
   "metadata": {},
   "outputs": [],
   "source": [
    "def layer_Nsquare(datapath, case_id, xidx):\n",
    "    \n",
    "    State01 = xr.open_dataset(datapath + '/state_' + str(format(case_id,'03d')) + '.nc')    \n",
    "    State = State01.isel(T=~State01.get_index(\"T\").duplicated())\n",
    "    state = State.isel(X=range(260), Xp1=range(261), Y=range(35,45), Yp1=range(35,45))\n",
    "\n",
    "    # Potential temp\n",
    "    Ttz = state.Temp.data[:,:,:,xidx].mean(2)\n",
    "    \n",
    "    # Salinity\n",
    "    Stz = state.S.data[:,:,:,xidx].mean(2)\n",
    "    \n",
    "    depth = state.Z.data\n",
    "    time = state.T.data / 86400 # Time in days\n",
    "    \n",
    "    # Pressure\n",
    "    pres = gsw.p_from_z(depth, 55)    \n",
    "    p = np.tile(pres,[len(time),1])\n",
    "    \n",
    "    N2 = np.empty(len(time))\n",
    "    for i in range(len(time)):\n",
    "        N, Pmid = gsw.Nsquared(Stz[i,:],Ttz[i,:],pres,55)\n",
    "        N2[i] = N.mean()\n",
    "    \n",
    "    return time, N2"
   ]
  },
  {
   "cell_type": "code",
   "execution_count": 2,
   "id": "98fd690b",
   "metadata": {},
   "outputs": [],
   "source": [
    "def plume_height(datapath, case_id):\n",
    "    \n",
    "    State01 = xr.open_dataset(datapath + '/state_' + str(format(case_id,'03d')) + '.nc')    \n",
    "    State = State01.isel(T=~State01.get_index(\"T\").duplicated())\n",
    "    state = State.isel(X=range(260), Xp1=range(261), Y=range(35,45), Yp1=range(35,45))\n",
    "    \n",
    "    xidx = 2 # Glacier front index\n",
    "    \n",
    "    # Along-fjord velocity\n",
    "    u = state.U.data[1,:,:,xidx].mean(1)\n",
    "    \n",
    "    # Potential temp\n",
    "    T0 = state.Temp.data[0,:,:,xidx].mean(1)\n",
    "    \n",
    "    # Salinity\n",
    "    S0 = state.S.data[0,:,:,xidx].mean(1)\n",
    "    \n",
    "    depth = state.Z.data  \n",
    "    # Pressure\n",
    "    pres = gsw.p_from_z(depth, 55)\n",
    "\n",
    "    N2, Pmid = gsw.Nsquared(S0,T0,pres,55)\n",
    "    \n",
    "    rho = gsw.rho(S0, T0, pres)\n",
    "    rho_a = rho[-1] # Ambient density\n",
    "    \n",
    "    ph_obs = 400 + depth[u==u.max()]\n",
    "    \n",
    "    return ph_obs, N2.mean(), rho_a"
   ]
  },
  {
   "cell_type": "code",
   "execution_count": null,
   "id": "b826166f",
   "metadata": {},
   "outputs": [],
   "source": [
    "path1 = '/work/oceans/wbao/MITgcm_results/iceplume/Sal_Linear_minhs'\n",
    "\n",
    "# day, bfreq1 = layer_Nsquare(path1, 1, 6)\n",
    "# day, bfreq2 = layer_Nsquare(path1, 4, 6)"
   ]
  },
  {
   "cell_type": "code",
   "execution_count": null,
   "id": "a2287751",
   "metadata": {},
   "outputs": [],
   "source": [
    "\n"
   ]
  },
  {
   "cell_type": "code",
   "execution_count": null,
   "id": "2d490185",
   "metadata": {},
   "outputs": [],
   "source": [
    "fig1 = plt.figure(figsize=(12,4))\n",
    "fig1.tight_layout()\n",
    "\n",
    "ax1 = fig1.add_subplot(111)\n",
    "#ax1.axvline(x=0,color='k',linestyle=':')\n",
    "plt.grid(linestyle = '--', linewidth = 0.5)\n",
    "ax1.plot(day,bfreq1*1e4,'b-',lw=2,label=r'$4\\frac{\\partial S_0}{\\partial z}$')\n",
    "ax1.plot(day,bfreq2*1e4,'r-',lw=2,label=r'$1\\frac{\\partial S_0}{\\partial z}$')\n",
    "ax1.legend(loc='best',fontsize=15)\n",
    "ax1.set_ylabel(r'$N^2$ [$\\times10^{-4}\\,s^{-2}$]', size=15)\n",
    "ax1.set_xlabel(r'Time [days]', size=15)\n",
    "#ax1.set_title('(a)', loc='left', size=15, weight='bold')\n",
    "ax1.tick_params(direction='in', labelsize=15)"
   ]
  },
  {
   "cell_type": "code",
   "execution_count": 3,
   "id": "08e7d26a",
   "metadata": {},
   "outputs": [],
   "source": [
    "path1 = '/work/oceans/wbao/MITgcm_results/iceplume/Sal_Linear_minhs'\n",
    "\n",
    "case = np.array([5,4,3,2,1])\n",
    "h_obs = np.empty(len(case))\n",
    "N2 = np.empty(len(case))\n",
    "rhoa = np.empty(len(case))\n",
    "for i in range(len(case)):\n",
    "    h_obs[i], N2[i], rhoa[i] = plume_height(path1, case[i])\n",
    "\n",
    "# Prediction of plume height\n",
    "g = 9.81\n",
    "Qsg = 250\n",
    "a = 0.1 # Entrainment coef\n",
    "rho_ref = 1020 # Reference density\n",
    "rhop = 1000 # Plume density\n",
    "gr = g * (rhoa-rhop)/rho_ref # Reduced gravity\n",
    "#h_est = ((g*Qsg)**(1/4)) * ((N2)**(-3/8))\n",
    "h_bpt = ((gr*Qsg/(2*np.pi*a*a))**(1/4)) * ((N2)**(-3/8)) # Estimate based on Buoyant Plume Theory\n",
    "z0 = h_obs / h_bpt\n",
    "h_est = h_bpt * z0.mean()\n",
    "h = 400 # Fjord depth\n",
    "h_est[h_est>h] = h"
   ]
  },
  {
   "cell_type": "code",
   "execution_count": 4,
   "id": "28f2414d",
   "metadata": {},
   "outputs": [
    {
     "name": "stdout",
     "output_type": "stream",
     "text": [
      "0.9919274495560465\n"
     ]
    }
   ],
   "source": [
    "#h_obs, h_est, N2\n",
    "corr_matrix1 = np.corrcoef(h_obs,h_est)\n",
    "corr1 = corr_matrix1[0,1]\n",
    "R_sq1 = corr1**2\n",
    "print(R_sq1)"
   ]
  },
  {
   "cell_type": "code",
   "execution_count": 5,
   "id": "76263de2",
   "metadata": {},
   "outputs": [
    {
     "data": {
      "text/plain": [
       "Text(340, 230, '$r^2=0.99$')"
      ]
     },
     "execution_count": 5,
     "metadata": {},
     "output_type": "execute_result"
    },
    {
     "data": {
      "image/png": "[encoded data removed]",
      "text/plain": [
       "<Figure size 288x288 with 1 Axes>"
      ]
     },
     "metadata": {
      "needs_background": "light"
     },
     "output_type": "display_data"
    }
   ],
   "source": [
    "fig2, ax2 =plt.subplots(figsize=(4,4))\n",
    "\n",
    "\n",
    "ax2.set(xlim=(150, 450), ylim=(150, 450))\n",
    "plt.axis('square')\n",
    "plt.grid(ls='--', lw=.5)\n",
    "plt.xlabel(r'$h_{p}$-estimate [$m$]', size=15)\n",
    "plt.ylabel(r'$h_{p}$-model [$m$]', size=15)\n",
    "ax2.set_xticks([150, 250, 350, 450])\n",
    "ax2.set_yticks([150, 250, 350, 450])\n",
    "#ax2.axhline(y=400, color='k',ls='--',lw=1.5)\n",
    "#ax2.axvline(x=400, color='k',ls='--',lw=1.5)\n",
    "#ax2.set_title(r'$T_{fjord}/T_{shelf}$', size=15)\n",
    "ax2.plot(ax2.get_xlim(), ax2.get_ylim(), ls=\"--\", lw=1.5, c=\"r\")\n",
    "ax2.tick_params(direction='in', labelsize=15)\n",
    "ax2.plot(h_est, h_obs, 'o', ms=15, c='b')\n",
    "label = ['$0.5N_0^2$', '$1N_0^2$', '$2N_0^2$', '$3N_0^2$', '$4N_0^2$']\n",
    "for i in range(len(h_est)):\n",
    "     plt.text(x=h_est[i]-35,y=h_obs[i]+15,s=label[i], \n",
    "          fontdict=dict(color='r',size=12))\n",
    "\n",
    "plt.text(340, 230, r'$r^2=0.99$', fontsize=15)\n",
    "\n",
    "#loc_mark = [200, 400]\n",
    "# plt.plot(loc_mark[0],loc_mark[1], marker='o', alpha=1, ms=15, color='brown', markeredgecolor='k')\n",
    "# plt.text(loc_mark[0]+15, loc_mark[1]-5, r'$0.5N_0^2$~$4N_0^2$', fontsize=15)\n",
    "# for j in range(len(case)):\n",
    "\n",
    "#     ax2.plot(h_est[j], h_obs[j], marker='o', alpha=.7, ms=3*(j+3), color='orange', markeredgecolor='k')\n",
    "\n"
   ]
  },
  {
   "cell_type": "code",
   "execution_count": 6,
   "id": "6d7da62a",
   "metadata": {},
   "outputs": [
    {
     "data": {
      "text/plain": [
       "array([399., 314., 266., 225., 207.])"
      ]
     },
     "execution_count": 6,
     "metadata": {},
     "output_type": "execute_result"
    }
   ],
   "source": [
    "h_obs"
   ]
  },
  {
   "cell_type": "code",
   "execution_count": 30,
   "id": "9347b2d3",
   "metadata": {},
   "outputs": [],
   "source": [
    "fig_path =\"/home/1959/Jupyter_Figs/FjordModeling/\"\n",
    "if not os.path.exists(fig_path):\n",
    "    os.makedirs(fig_path)\n",
    "#fig1.savefig(fig_path + '/Strat_N2.png', dpi=300, bbox_inches='tight')\n",
    "fig2.savefig(fig_path + '/plume_height.png', dpi=300, bbox_inches='tight')"
   ]
  },
  {
   "cell_type": "code",
   "execution_count": 12,
   "id": "e55cd2ac",
   "metadata": {},
   "outputs": [
    {
     "name": "stdout",
     "output_type": "stream",
     "text": [
      "35.23575237995072\n"
     ]
    }
   ],
   "source": [
    "# Filling-box time scale tc (seconds)\n",
    "L = 1000    # the width of the slope\n",
    "Xs = 15000  # distance from glacier front to sill center\n",
    "W = 2000 # Fjord width\n",
    "A = W * Xs # Fjord horizontal area\n",
    "F = gr[-1] * Qsg # Plume buoyancy flux\n",
    "hs = 0.04 * h\n",
    "tc = A * ((h-hs)**(-2/3)) * (F**(-1/3)) * (a**(-4/3))\n",
    "print(tc/(3600*24))"
   ]
  },
  {
   "cell_type": "code",
   "execution_count": 60,
   "id": "de3c86d4",
   "metadata": {},
   "outputs": [
    {
     "name": "stdout",
     "output_type": "stream",
     "text": [
      "[23.26716541 73.5772374 ]\n",
      "[ 52.09909623 164.75180814]\n",
      "[0.22391682 0.22391682] [6.87663243 6.87663243] [43.4292513   4.34292513]\n",
      "[15.83032809 15.83032809] [48.58226782 48.58226782] [306.82045874  30.68204587]\n"
     ]
    }
   ],
   "source": [
    "# Tests for Cardoso&Woods 1993\n",
    "Gr = 9.8 * (2700-2650) / 2650\n",
    "Q = np.array([1, 100])\n",
    "alpha =.1 # Entrainment coeff\n",
    "A = 1e6 # Area\n",
    "B0 = np.array([0.18, 18]) # Buoyancy flux\n",
    "N = 1.2e-2 # Buoyancy freq\n",
    "H = 2**(-7/8)*(np.pi**(-1/4))*(alpha**(-1/2))*(B0**(1/4))*(N**(-3/4)) # Eq. 4.7\n",
    "HS0 = 2.9*(B0**(1/4))*(N**(-3/4)) # 50~170 m expected\n",
    "\n",
    "zeta_d = 0.1*HS0 / H # Plume reaches bottom: <=10% of the initial spreading level\n",
    "# Descending time\n",
    "tau_d = 5*((5/18)**(1/3))*(zeta_d**(-2/3)-2.13**(-2/3)) # Eq. 4.11\n",
    "t_d = tau_d / (4*(np.pi**(2/3))*(alpha**(4/3))*(H**(2/3))*(1/A)*(B0**(1/3))) # 5~50 days expected\n",
    "\n",
    "# Ascending time\n",
    "r = 1e3 / HS0 + 1\n",
    "zeta_a = r.min()*HS0 / H\n",
    "f = 0.5 # kinetic energy conversion efficiency\n",
    "tau_a = (zeta_a**2-2.4**2) / (2**(4/3)*(1+2*f)) # Eq. 4.29a\n",
    "t_a = tau_a / (4*(np.pi**(2/3))*(alpha**(4/3))*(H**(2/3))*(1/A)*(B0**(1/3))) # 1~10 months expected\n",
    "# yeta = 1000/np.array([50, 170])\n",
    "# tau = (yeta-2.4**2) / (2**(7/3))\n",
    "# tau**2\n",
    "print(H)\n",
    "print(HS0)\n",
    "print(zeta_d, tau_d, t_d/(24*3600))\n",
    "print(zeta_a, tau_a, t_a/(24*3600))"
   ]
  },
  {
   "cell_type": "code",
   "execution_count": 58,
   "id": "8562c5d9-a339-4a6d-9eb1-db0c0d75b72f",
   "metadata": {},
   "outputs": [
    {
     "data": {
      "text/plain": [
       "array([20.19419092,  7.06973612])"
      ]
     },
     "execution_count": 58,
     "metadata": {},
     "output_type": "execute_result"
    }
   ],
   "source": [
    "(1e3+HS0) / HS0"
   ]
  },
  {
   "cell_type": "code",
   "execution_count": 9,
   "id": "1fd02c6e",
   "metadata": {},
   "outputs": [
    {
     "data": {
      "text/plain": [
       "(array([2.37117328e-05, 1.10060114e-03]),\n",
       " array([2735409.63221934,  273540.96322193]))"
      ]
     },
     "execution_count": 9,
     "metadata": {},
     "output_type": "execute_result"
    }
   ],
   "source": [
    "# BT-69\n",
    "tc = A * (HS0**(-2/3)) * (B0**(-1/3)) * (alpha**(-4/3))\n",
    "#tc /(24*3600)\n",
    "(1*(alpha**(4/3))*(HS0**2/3)*(1/A)*(B0**(1/3))), tc"
   ]
  },
  {
   "cell_type": "code",
   "execution_count": 48,
   "id": "50f167d8-bba6-447c-b061-d7421b2bde95",
   "metadata": {},
   "outputs": [
    {
     "name": "stderr",
     "output_type": "stream",
     "text": [
      "/var/folders/ky/5t5pzqxx1v30d40m2f37xhw80000gn/T/ipykernel_12934/452238820.py:2: RuntimeWarning: divide by zero encountered in power\n",
      "  tau1 = 5*((5/18)**(1/3))*(zeta1**(-2/3)-2.13**(-2/3)) # Figure 3\n"
     ]
    },
    {
     "data": {
      "text/plain": [
       "Text(0, 0.5, 'Height')"
      ]
     },
     "execution_count": 48,
     "metadata": {},
     "output_type": "execute_result"
    },
    {
     "data": {
      "image/png": "[encoded data removed]",
      "text/plain": [
       "<Figure size 800x400 with 2 Axes>"
      ]
     },
     "metadata": {},
     "output_type": "display_data"
    }
   ],
   "source": [
    "zeta1 = np.linspace(0,2,20)\n",
    "tau1 = 5*((5/18)**(1/3))*(zeta1**(-2/3)-2.13**(-2/3)) # Figure 3\n",
    "\n",
    "zeta0 = 2.4\n",
    "zeta2 = np.linspace(zeta0,10,20)\n",
    "f = .5\n",
    "tau2 = (zeta2**2-zeta0**2) / (2**(4/3)*(1+2*f)) # Eq. 4.29a\n",
    "\n",
    "fig3 = plt.figure(figsize=(8,4)) # Figure 8\n",
    "fig3.tight_layout()\n",
    "\n",
    "ax1 = fig3.add_subplot(121) # Descending \n",
    "ax1.plot(tau1,zeta1)\n",
    "ax1.set_title('descending')\n",
    "ax1.grid(ls='--', lw=.5)\n",
    "ax1.set_xlabel(r'Time', size=12)\n",
    "ax1.set_ylabel(r'Height', size=12)\n",
    "\n",
    "\n",
    "ax2 = fig3.add_subplot(122) # Ascending\n",
    "ax2.plot(tau2,zeta2)\n",
    "ax2.set_title('ascending')\n",
    "ax2.grid(ls='--', lw=.5)\n",
    "ax2.set_xlabel(r'Time', size=12)\n",
    "ax2.set_ylabel(r'Height', size=12)"
   ]
  },
  {
   "cell_type": "code",
   "execution_count": 67,
   "id": "238032e6-f0d8-4ddf-90c4-28f01e2d3f1a",
   "metadata": {},
   "outputs": [
    {
     "data": {
      "text/plain": [
       "0.1849056603773585"
      ]
     },
     "execution_count": 67,
     "metadata": {},
     "output_type": "execute_result"
    }
   ],
   "source": [
    "9.8 * (2700-2650) / 2650"
   ]
  },
  {
   "cell_type": "code",
   "execution_count": null,
   "id": "25d5c892-2a9a-42a9-a459-cc06b017db0b",
   "metadata": {},
   "outputs": [],
   "source": []
  }
 ],
 "metadata": {
  "kernelspec": {
   "display_name": "Python 3 (ipykernel)",
   "language": "python",
   "name": "python3"
  },
  "language_info": {
   "codemirror_mode": {
    "name": "ipython",
    "version": 3
   },
   "file_extension": ".py",
   "mimetype": "text/x-python",
   "name": "python",
   "nbconvert_exporter": "python",
   "pygments_lexer": "ipython3",
   "version": "3.10.5"
  }
 },
 "nbformat": 4,
 "nbformat_minor": 5
}
