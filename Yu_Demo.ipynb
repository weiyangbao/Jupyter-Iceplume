{
 "cells": [
  {
   "cell_type": "code",
   "execution_count": 1,
   "metadata": {},
   "outputs": [],
   "source": [
    "import xarray as xr"
   ]
  },
  {
   "cell_type": "code",
   "execution_count": 2,
   "metadata": {},
   "outputs": [],
   "source": [
    "state = xr.open_dataset(\"~/Desktop/state_glue.nc\")"
   ]
  },
  {
   "cell_type": "code",
   "execution_count": 3,
   "metadata": {},
   "outputs": [
    {
     "data": {
      "text/plain": [
       "<xarray.Dataset>\n",
       "Dimensions:  (T: 241, X: 50, Xp1: 51, Y: 11, Yp1: 12, Z: 50, Zl: 50)\n",
       "Coordinates:\n",
       "  * Xp1      (Xp1) float64 0.0 200.0 400.0 600.0 ... 9.6e+03 9.8e+03 1e+04\n",
       "  * Y        (Y) float64 100.0 300.0 500.0 700.0 ... 1.7e+03 1.9e+03 2.1e+03\n",
       "  * Z        (Z) float64 -1.5 -4.5 -7.5 -10.5 ... -139.5 -142.5 -145.5 -148.5\n",
       "  * X        (X) float64 100.0 300.0 500.0 700.0 ... 9.5e+03 9.7e+03 9.9e+03\n",
       "  * Yp1      (Yp1) float64 0.0 200.0 400.0 600.0 ... 1.8e+03 2e+03 2.2e+03\n",
       "  * Zl       (Zl) float64 0.0 -3.0 -6.0 -9.0 ... -138.0 -141.0 -144.0 -147.0\n",
       "  * T        (T) float64 0.0 4.32e+04 8.64e+04 ... 1.028e+07 1.032e+07 1.037e+07\n",
       "Data variables:\n",
       "    iter     (T) int32 ...\n",
       "    U        (T, Z, Y, Xp1) float32 ...\n",
       "    V        (T, Z, Yp1, X) float32 ...\n",
       "    Temp     (T, Z, Y, X) float32 ...\n",
       "    S        (T, Z, Y, X) float32 ...\n",
       "    Eta      (T, Y, X) float32 ...\n",
       "    W        (T, Zl, Y, X) float32 ...\n",
       "Attributes:\n",
       "    MITgcm_version:  checkpoint66k\n",
       "    build_user:      wbao\n",
       "    build_host:      login00\n",
       "    build_date:      Sun Nov 11 00:23:13 EST 2018\n",
       "    MITgcm_URL:      http://mitgcm.org\n",
       "    MITgcm_tag_id:   1.2354 2017/09/20\n",
       "    MITgcm_mnc_ver:  0.9\n",
       "    sNx:             5\n",
       "    sNy:             11\n",
       "    OLx:             3\n",
       "    OLy:             3\n",
       "    nSx:             1\n",
       "    nSy:             1\n",
       "    nPx:             10\n",
       "    nPy:             1\n",
       "    Nx:              50\n",
       "    Ny:              11\n",
       "    Nr:              50"
      ]
     },
     "execution_count": 3,
     "metadata": {},
     "output_type": "execute_result"
    }
   ],
   "source": [
    "state"
   ]
  },
  {
   "cell_type": "code",
   "execution_count": 12,
   "metadata": {},
   "outputs": [
    {
     "data": {
      "text/plain": [
       "<matplotlib.collections.QuadMesh at 0x11346d668>"
      ]
     },
     "execution_count": 12,
     "metadata": {},
     "output_type": "execute_result"
    },
    {
     "data": {
      "image/png": "[encoded data removed]",
      "text/plain": [
       "<Figure size 432x288 with 2 Axes>"
      ]
     },
     "metadata": {
      "needs_background": "light"
     },
     "output_type": "display_data"
    }
   ],
   "source": [
    "%matplotlib inline\n",
    "state.Temp.isel(Y=6,T=41).plot()"
   ]
  },
  {
   "cell_type": "code",
   "execution_count": 5,
   "metadata": {},
   "outputs": [],
   "source": [
    "import matplotlib.pyplot as plt"
   ]
  },
  {
   "cell_type": "code",
   "execution_count": 11,
   "metadata": {},
   "outputs": [
    {
     "data": {
      "image/png": "[encoded data removed]",
      "text/plain": [
       "<Figure size 432x288 with 1 Axes>"
      ]
     },
     "metadata": {
      "needs_background": "light"
     },
     "output_type": "display_data"
    }
   ],
   "source": [
    "fig=plt.figure()\n",
    "plt.contourf(state.Temp.isel(Y=6,T=41))\n",
    "plt.show()"
   ]
  },
  {
   "cell_type": "code",
   "execution_count": 13,
   "metadata": {},
   "outputs": [
    {
     "data": {
      "text/plain": [
       "<xarray.DataArray 'Temp' (Z: 50, X: 50)>\n",
       "array([[0.      , 7.047534, 7.087899, ..., 7.459106, 7.939442, 9.      ],\n",
       "       [0.      , 7.287635, 7.417727, ..., 7.811426, 8.060588, 9.      ],\n",
       "       [0.      , 7.610991, 7.7716  , ..., 8.356275, 8.294639, 9.      ],\n",
       "       ...,\n",
       "       [0.      , 8.949483, 8.950903, ..., 9.      , 9.      , 9.      ],\n",
       "       [0.      , 8.946985, 8.948413, ..., 9.      , 9.      , 9.      ],\n",
       "       [0.      , 8.944965, 8.94639 , ..., 9.      , 9.      , 9.      ]],\n",
       "      dtype=float32)\n",
       "Coordinates:\n",
       "    Y        float64 1.3e+03\n",
       "  * Z        (Z) float64 -1.5 -4.5 -7.5 -10.5 ... -139.5 -142.5 -145.5 -148.5\n",
       "  * X        (X) float64 100.0 300.0 500.0 700.0 ... 9.5e+03 9.7e+03 9.9e+03\n",
       "    T        float64 1.771e+06\n",
       "Attributes:\n",
       "    units:        degC\n",
       "    long_name:    potential_temperature\n",
       "    coordinates:  XC YC RC iter"
      ]
     },
     "execution_count": 13,
     "metadata": {},
     "output_type": "execute_result"
    }
   ],
   "source": [
    "state.Temp.isel(Y=6,T=41)"
   ]
  },
  {
   "cell_type": "code",
   "execution_count": null,
   "metadata": {},
   "outputs": [],
   "source": []
  }
 ],
 "metadata": {
  "kernelspec": {
   "display_name": "Python 3",
   "language": "python",
   "name": "python3"
  },
  "language_info": {
   "codemirror_mode": {
    "name": "ipython",
    "version": 3
   },
   "file_extension": ".py",
   "mimetype": "text/x-python",
   "name": "python",
   "nbconvert_exporter": "python",
   "pygments_lexer": "ipython3",
   "version": "3.7.2"
  }
 },
 "nbformat": 4,
 "nbformat_minor": 2
}
