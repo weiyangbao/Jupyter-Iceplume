{
 "cells": [
  {
   "cell_type": "code",
   "execution_count": 1,
   "id": "1cd04128",
   "metadata": {},
   "outputs": [],
   "source": [
    "# Examine wind stress diagnostics\n",
    "import xarray as xr\n",
    "import numpy as np\n",
    "import matplotlib\n",
    "import matplotlib.pyplot as plt\n",
    "import os, sys\n",
    "sys.path.append(os.path.abspath('/work/oceans/wbao/MITgcm_results/jorgemontt'))"
   ]
  },
  {
   "cell_type": "code",
   "execution_count": null,
   "id": "bae860f4",
   "metadata": {},
   "outputs": [],
   "source": [
    "\n",
    "#input_file = '/work/oceans/wbao/MITgcm_results/jorgemontt/2_Qsg150_Wind/WindStress0_004.nc'\n",
    "#file0 = xr.open_dataset(input_file)\n",
    "## removed duplicated data caused by model restart\n",
    "#ws = file0.isel(T=~file0.get_index(\"T\").duplicated())\n",
    "taum = [-0.4, -0.2, 0.2, 0.4, 0] # maximum wind stress for case 001-004\n",
    "\n",
    "\n",
    "#state = xr.open_dataset('/work/oceans/wbao/MITgcm_results/jorgemontt/2_Qsg150_Wind/state0_005.nc')\n",
    "state = xr.open_dataset('/work/oceans/wbao/MITgcm_results/jorgemontt/Qsg150_wind/state0_004.nc')\n",
    "u = state.U.data\n",
    "time = state.T.data / 3600"
   ]
  },
  {
   "cell_type": "code",
   "execution_count": null,
   "id": "c2f61059",
   "metadata": {},
   "outputs": [],
   "source": [
    "nwstate = xr.open_dataset('/work/oceans/wbao/MITgcm_results/jorgemontt/2_Qsg_case/state_ext_003.nc')\n",
    "nwu = nwstate.U.data\n",
    "nwtime = nwstate.T.data/3600"
   ]
  },
  {
   "cell_type": "code",
   "execution_count": 7,
   "id": "933f7390",
   "metadata": {},
   "outputs": [],
   "source": [
    "#ws_diag = xr.open_dataset('/work/oceans/wbao/MITgcm_results/jorgemontt/2_Qsg150_Wind/WindStress0_005.nc')\n",
    "ws_diag1 = xr.open_dataset('/work/oceans/wbao/MITgcm_results/jorgemontt/Qsg150_wind/WindStress_004.nc')\n",
    "\n",
    "zonal1 = ws_diag1.oceTAUX.data \n",
    "merid1 = ws_diag1.oceTAUY.data\n",
    "hour1 = ws_diag1.T.data / 3600\n",
    "\n",
    "ws_diag2 = xr.open_dataset('/work/oceans/wbao/MITgcm_results/jorgemontt/Qsg150_wind/WindStress_LowRes_005.nc')\n",
    "\n",
    "zonal2 = ws_diag2.oceTAUX.data \n",
    "merid2 = ws_diag2.oceTAUY.data\n",
    "hour2 = ws_diag2.T.data / 3600"
   ]
  },
  {
   "cell_type": "code",
   "execution_count": 3,
   "id": "4dfc9811",
   "metadata": {},
   "outputs": [
    {
     "data": {
      "text/plain": [
       "(array([722., 724., 726., 728., 730., 732., 734., 736., 738., 740., 742.,\n",
       "        744., 746., 748., 750., 752., 754., 756., 758., 760., 762., 764.,\n",
       "        766., 768., 770., 772., 774., 776., 778., 780., 782., 784., 786.,\n",
       "        788., 790., 792., 794., 796., 798., 800., 802., 804., 806., 808.,\n",
       "        810., 812., 814., 816., 818., 820., 822., 824., 826., 828., 830.,\n",
       "        832., 834., 836., 838., 840., 842., 844., 846., 848., 850., 852.,\n",
       "        854., 856., 858., 860., 862., 864., 866., 868., 870., 872., 874.,\n",
       "        876., 878., 880., 882., 884., 886., 888.]),\n",
       " array([722., 724., 726., 728., 730., 732., 734., 736., 738., 740., 742.,\n",
       "        744., 746., 748., 750., 752., 754., 756., 758., 760., 762., 764.,\n",
       "        766., 768., 770., 772., 774., 776., 778., 780., 782., 784., 786.,\n",
       "        788., 790., 792., 794., 796., 798., 800., 802., 804., 806., 808.,\n",
       "        810., 812., 814., 816., 818., 820., 822., 824., 826., 828., 830.,\n",
       "        832., 834., 836., 838., 840., 842., 844., 846., 848., 850., 852.,\n",
       "        854., 856., 858., 860., 862., 864., 866., 868., 870., 872., 874.,\n",
       "        876., 878., 880., 882., 884., 886., 888.]))"
      ]
     },
     "execution_count": 3,
     "metadata": {},
     "output_type": "execute_result"
    }
   ],
   "source": [
    "hour1, hour2"
   ]
  },
  {
   "cell_type": "code",
   "execution_count": null,
   "id": "c055a147",
   "metadata": {},
   "outputs": [],
   "source": [
    "zonal.max(), merid.max()"
   ]
  },
  {
   "cell_type": "code",
   "execution_count": 8,
   "id": "faa5f1d6",
   "metadata": {},
   "outputs": [
    {
     "data": {
      "text/plain": [
       "(array([0.06666667, 0.06666666, 0.06666666, 0.06666666, 0.05834261,\n",
       "        0.00834259, 0.        , 0.        , 0.        ], dtype=float32),\n",
       " array([0.03333333, 0.03333333, 0.03333333, 0.0291713 , 0.0041713 ,\n",
       "        0.        , 0.        , 0.        , 0.        ], dtype=float32))"
      ]
     },
     "execution_count": 8,
     "metadata": {},
     "output_type": "execute_result"
    }
   ],
   "source": [
    "np.diff(zonal1[:10,0,40,40]), np.diff(zonal2[:10,0,40,40])"
   ]
  },
  {
   "cell_type": "code",
   "execution_count": 9,
   "id": "88a1375a",
   "metadata": {},
   "outputs": [
    {
     "data": {
      "text/plain": [
       "Text(0, 0.5, 'Wind stress')"
      ]
     },
     "execution_count": 9,
     "metadata": {},
     "output_type": "execute_result"
    },
    {
     "data": {
      "image/png": "[encoded data removed]",
      "text/plain": [
       "<Figure size 576x216 with 1 Axes>"
      ]
     },
     "metadata": {
      "needs_background": "light"
     },
     "output_type": "display_data"
    }
   ],
   "source": [
    "fig0 = plt.figure(figsize=(8,3))    \n",
    "ax1 = fig0.add_subplot(111)\n",
    "\n",
    "ax1.plot(hour1/24,zonal1[:,0,40,40],'-',label=r'$\\tau_x1$')\n",
    "ax1.plot(hour2/24,zonal2[:,0,40,40],'-',label=r'$\\tau_x2$')\n",
    "#ax1.plot(hour/24,merid[:,0,40,40],'-',label=r'$\\tau_y$')\n",
    "ax1.legend(loc='best',fontsize=12)\n",
    "plt.grid(linestyle = '--', linewidth = 0.5)\n",
    "#ax1.set_ylim([0, 4e9])\n",
    "#ax1.set_xticks([0.04, 0.06, 0.08, 0.10, 0.12])\n",
    "ax1.tick_params(direction='in', labelsize=12)\n",
    "ax1.set_xlabel(r'time [day]',fontsize=12)\n",
    "ax1.set_ylabel(r'Wind stress',fontsize=12)\n"
   ]
  },
  {
   "cell_type": "code",
   "execution_count": null,
   "id": "71847ef4",
   "metadata": {},
   "outputs": [],
   "source": [
    "u[:,1,40,40], nwu[0::2,1,40,40]"
   ]
  },
  {
   "cell_type": "code",
   "execution_count": null,
   "id": "b94953f7",
   "metadata": {},
   "outputs": [],
   "source": [
    "fig1 = plt.figure(figsize=(8,3))    \n",
    "ax1 = fig1.add_subplot(111)\n",
    "\n",
    "ax1.plot(time/24,u[:,1,40,40],'-',label=r'wind')\n",
    "u1 = nwu[:200,1,40,40]\n",
    "time1 = nwtime[:200]\n",
    "ax1.plot(time1[0::2]/24,u1[0::2],'-',label=r'no-wind')\n",
    "ax1.legend(loc='best',fontsize=12)\n",
    "plt.grid(linestyle = '--', linewidth = 0.5)\n",
    "#ax1.set_ylim([0, 4e9])\n",
    "#ax1.set_xticks([0.04, 0.06, 0.08, 0.10, 0.12])\n",
    "ax1.tick_params(direction='in', labelsize=12)\n",
    "ax1.set_xlabel(r'time [hour]',fontsize=12)\n",
    "ax1.set_ylabel(r'U',fontsize=12)"
   ]
  },
  {
   "cell_type": "code",
   "execution_count": null,
   "id": "6901c8ae",
   "metadata": {},
   "outputs": [],
   "source": [
    "Area = np.empty([90, 10]) # Cross Y direction\n",
    "Area[:20, :] = 400\n",
    "Area[20:50, :] = 800\n",
    "Area[50:, :] = 1200\n",
    "\n",
    "Q1 = np.empty(len(time))\n",
    "Q2 = np.empty(len(time))\n",
    "for i in range(len(time)):\n",
    "    Q = u[i,:,35:45,40] * Area\n",
    "    Q1[i] = Q[Q > 0].sum()\n",
    "    Q2[i] = Q[Q < 0].sum()\n",
    "    \n",
    "nwQ1 = np.empty(len(nwtime))\n",
    "nwQ2 = np.empty(len(nwtime))\n",
    "for i in range(len(nwtime)):\n",
    "    Q = nwu[i,:,35:45,40] * Area\n",
    "    nwQ1[i] = Q[Q > 0].sum()\n",
    "    nwQ2[i] = Q[Q < 0].sum()"
   ]
  },
  {
   "cell_type": "code",
   "execution_count": null,
   "id": "017d7625",
   "metadata": {},
   "outputs": [],
   "source": [
    "np.mean(Q1+Q2), np.mean(nwQ1+nwQ2)"
   ]
  },
  {
   "cell_type": "code",
   "execution_count": null,
   "id": "214a198d",
   "metadata": {},
   "outputs": [],
   "source": [
    "fig2 = plt.figure(figsize=(8,3))    \n",
    "ax1 = fig2.add_subplot(111)\n",
    "\n",
    "ax1.plot(time/24,Q2,'-',label=r'Q1')\n",
    "ax1.plot(nwtime[:200]/24,nwQ2[:200],'-',label=r'no-wind')\n",
    "# ax1.plot(time/24,Q2,'-',label=r'Q2')\n",
    "#ax1.plot(time/24,Q1+Q2,'-',label=r'Q_net')\n",
    "#ax1.plot(nwtime[:300]/24,nwQ1[:300]+nwQ2[:300],'-',label=r'Q_net')\n",
    "ax1.legend(loc='best',fontsize=12)\n",
    "plt.grid(linestyle = '--', linewidth = 0.5)\n",
    "#ax1.set_ylim([0, 4e9])\n",
    "#ax1.set_xticks([0.04, 0.06, 0.08, 0.10, 0.12])\n",
    "ax1.tick_params(direction='in', labelsize=12)\n",
    "ax1.set_xlabel(r'time [day]',fontsize=12)\n",
    "ax1.set_ylabel(r'Volume flux',fontsize=12)"
   ]
  },
  {
   "cell_type": "code",
   "execution_count": null,
   "id": "99de8a9d",
   "metadata": {},
   "outputs": [],
   "source": []
  }
 ],
 "metadata": {
  "kernelspec": {
   "display_name": "Python 3 (ipykernel)",
   "language": "python",
   "name": "python3"
  },
  "language_info": {
   "codemirror_mode": {
    "name": "ipython",
    "version": 3
   },
   "file_extension": ".py",
   "mimetype": "text/x-python",
   "name": "python",
   "nbconvert_exporter": "python",
   "pygments_lexer": "ipython3",
   "version": "3.7.11"
  }
 },
 "nbformat": 4,
 "nbformat_minor": 5
}
