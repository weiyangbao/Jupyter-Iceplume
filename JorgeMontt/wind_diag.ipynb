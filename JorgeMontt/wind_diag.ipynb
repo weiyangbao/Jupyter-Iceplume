{
 "cells": [
  {
   "cell_type": "code",
   "execution_count": 1,
   "id": "1cd04128",
   "metadata": {
    "tags": []
   },
   "outputs": [],
   "source": [
    "# Examine wind stress diagnostics\n",
    "import xarray as xr\n",
    "import numpy as np\n",
    "import matplotlib\n",
    "import matplotlib.pyplot as plt\n",
    "import gsw\n",
    "import cmocean\n",
    "import os, sys\n",
    "#sys.path.append(os.path.abspath('/work/oceans/wbao/MITgcm_results/jorgemontt'))"
   ]
  },
  {
   "cell_type": "code",
   "execution_count": null,
   "id": "bae860f4",
   "metadata": {},
   "outputs": [],
   "source": [
    "\n",
    "#input_file = '/work/oceans/wbao/MITgcm_results/jorgemontt/2_Qsg150_Wind/WindStress0_004.nc'\n",
    "#file0 = xr.open_dataset(input_file)\n",
    "## removed duplicated data caused by model restart\n",
    "#ws = file0.isel(T=~file0.get_index(\"T\").duplicated())\n",
    "taum = [-0.4, -0.2, 0.2, 0.4, 0] # maximum wind stress for case 001-004\n",
    "\n",
    "\n",
    "#state = xr.open_dataset('/work/oceans/wbao/MITgcm_results/jorgemontt/2_Qsg150_Wind/state0_005.nc')\n",
    "state = xr.open_dataset('/work/oceans/wbao/MITgcm_results/jorgemontt/Qsg150_wind/state0_004.nc')\n",
    "u = state.U.data\n",
    "time = state.T.data / 3600"
   ]
  },
  {
   "cell_type": "code",
   "execution_count": null,
   "id": "c2f61059",
   "metadata": {},
   "outputs": [],
   "source": [
    "nwstate = xr.open_dataset('/work/oceans/wbao/MITgcm_results/jorgemontt/2_Qsg_case/state_ext_003.nc')\n",
    "nwu = nwstate.U.data\n",
    "nwtime = nwstate.T.data/3600"
   ]
  },
  {
   "cell_type": "code",
   "execution_count": 8,
   "id": "933f7390",
   "metadata": {
    "tags": []
   },
   "outputs": [],
   "source": [
    "ws_diag1 = xr.open_dataset('/Volumes/T7 Shield/MITgcm_jorgemontt/Qsg150_Wind30_S/WindStress_007.nc')\n",
    "#ws_diag1 = xr.open_dataset('/work/oceans/wbao/MITgcm_results/jorgemontt/Qsg150_rep_wind/WindStress_009.nc')\n",
    "\n",
    "zonal1 = ws_diag1.oceTAUX.data \n",
    "merid1 = ws_diag1.oceTAUY.data\n",
    "hour1 = ws_diag1.T.data / 3600\n",
    "\n",
    "ws_diag2 = xr.open_dataset('/Volumes/T7 Shield/MITgcm_jorgemontt/Qsg150_Wind30_S/WindStress_008.nc')\n",
    "#ws_diag2 = xr.open_dataset('/work/oceans/wbao/MITgcm_results/jorgemontt/Qsg150_rep_wind/WindStress_010.nc')\n",
    "\n",
    "zonal2 = ws_diag2.oceTAUX.data \n",
    "merid2 = ws_diag2.oceTAUY.data\n",
    "hour2 = ws_diag2.T.data / 3600"
   ]
  },
  {
   "cell_type": "code",
   "execution_count": null,
   "id": "4dfc9811",
   "metadata": {},
   "outputs": [],
   "source": [
    "hour1, hour2"
   ]
  },
  {
   "cell_type": "code",
   "execution_count": null,
   "id": "c055a147",
   "metadata": {},
   "outputs": [],
   "source": [
    "zonal.max(), merid.max()"
   ]
  },
  {
   "cell_type": "code",
   "execution_count": null,
   "id": "faa5f1d6",
   "metadata": {},
   "outputs": [],
   "source": [
    "zonal1[-2,0,40,40], zonal2[-2,0,40,40]"
   ]
  },
  {
   "cell_type": "code",
   "execution_count": 9,
   "id": "88a1375a",
   "metadata": {
    "tags": []
   },
   "outputs": [
    {
     "data": {
      "text/plain": [
       "Text(0, 0.5, 'Wind stress')"
      ]
     },
     "execution_count": 9,
     "metadata": {},
     "output_type": "execute_result"
    },
    {
     "data": {
      "image/png": "[encoded data removed]",
      "text/plain": [
       "<Figure size 800x300 with 1 Axes>"
      ]
     },
     "metadata": {},
     "output_type": "display_data"
    }
   ],
   "source": [
    "fig0 = plt.figure(figsize=(8,3))    \n",
    "ax1 = fig0.add_subplot(111)\n",
    "\n",
    "ax1.plot(hour1/24,zonal1[:,0,40,40],'-',label=r'$\\tau_x1$')\n",
    "ax1.plot(hour2/24,zonal2[:,0,40,40],'-',label=r'$\\tau_x2$')\n",
    "#ax1.plot(hour/24,merid[:,0,40,40],'-',label=r'$\\tau_y$')\n",
    "ax1.legend(loc='best',fontsize=12)\n",
    "plt.grid(linestyle = '--', linewidth = 0.5)\n",
    "#ax1.set_ylim([-.3, 1])\n",
    "#ax1.set_xticks([0.04, 0.06, 0.08, 0.10, 0.12])\n",
    "ax1.tick_params(direction='in', labelsize=12)\n",
    "ax1.set_xlabel(r'time [day]',fontsize=12)\n",
    "ax1.set_ylabel(r'Wind stress',fontsize=12)\n"
   ]
  },
  {
   "cell_type": "code",
   "execution_count": null,
   "id": "71847ef4",
   "metadata": {},
   "outputs": [],
   "source": [
    "u[:,1,40,40], nwu[0::2,1,40,40]"
   ]
  },
  {
   "cell_type": "code",
   "execution_count": null,
   "id": "b94953f7",
   "metadata": {},
   "outputs": [],
   "source": [
    "fig1 = plt.figure(figsize=(8,3))    \n",
    "ax1 = fig1.add_subplot(111)\n",
    "\n",
    "ax1.plot(time/24,u[:,1,40,40],'-',label=r'wind')\n",
    "u1 = nwu[:200,1,40,40]\n",
    "time1 = nwtime[:200]\n",
    "ax1.plot(time1[0::2]/24,u1[0::2],'-',label=r'no-wind')\n",
    "ax1.legend(loc='best',fontsize=12)\n",
    "plt.grid(linestyle = '--', linewidth = 0.5)\n",
    "#ax1.set_ylim([0, 4e9])\n",
    "#ax1.set_xticks([0.04, 0.06, 0.08, 0.10, 0.12])\n",
    "ax1.tick_params(direction='in', labelsize=12)\n",
    "ax1.set_xlabel(r'time [hour]',fontsize=12)\n",
    "ax1.set_ylabel(r'U',fontsize=12)"
   ]
  },
  {
   "cell_type": "code",
   "execution_count": null,
   "id": "6901c8ae",
   "metadata": {},
   "outputs": [],
   "source": [
    "Area = np.empty([90, 10]) # Cross Y direction\n",
    "Area[:20, :] = 400\n",
    "Area[20:50, :] = 800\n",
    "Area[50:, :] = 1200\n",
    "\n",
    "Q1 = np.empty(len(time))\n",
    "Q2 = np.empty(len(time))\n",
    "for i in range(len(time)):\n",
    "    Q = u[i,:,35:45,40] * Area\n",
    "    Q1[i] = Q[Q > 0].sum()\n",
    "    Q2[i] = Q[Q < 0].sum()\n",
    "    \n",
    "nwQ1 = np.empty(len(nwtime))\n",
    "nwQ2 = np.empty(len(nwtime))\n",
    "for i in range(len(nwtime)):\n",
    "    Q = nwu[i,:,35:45,40] * Area\n",
    "    nwQ1[i] = Q[Q > 0].sum()\n",
    "    nwQ2[i] = Q[Q < 0].sum()"
   ]
  },
  {
   "cell_type": "code",
   "execution_count": null,
   "id": "017d7625",
   "metadata": {},
   "outputs": [],
   "source": [
    "np.mean(Q1+Q2), np.mean(nwQ1+nwQ2)"
   ]
  },
  {
   "cell_type": "code",
   "execution_count": null,
   "id": "214a198d",
   "metadata": {},
   "outputs": [],
   "source": [
    "fig2 = plt.figure(figsize=(8,3))    \n",
    "ax1 = fig2.add_subplot(111)\n",
    "\n",
    "ax1.plot(time/24,Q2,'-',label=r'Q1')\n",
    "ax1.plot(nwtime[:200]/24,nwQ2[:200],'-',label=r'no-wind')\n",
    "# ax1.plot(time/24,Q2,'-',label=r'Q2')\n",
    "#ax1.plot(time/24,Q1+Q2,'-',label=r'Q_net')\n",
    "#ax1.plot(nwtime[:300]/24,nwQ1[:300]+nwQ2[:300],'-',label=r'Q_net')\n",
    "ax1.legend(loc='best',fontsize=12)\n",
    "plt.grid(linestyle = '--', linewidth = 0.5)\n",
    "#ax1.set_ylim([0, 4e9])\n",
    "#ax1.set_xticks([0.04, 0.06, 0.08, 0.10, 0.12])\n",
    "ax1.tick_params(direction='in', labelsize=12)\n",
    "ax1.set_xlabel(r'time [day]',fontsize=12)\n",
    "ax1.set_ylabel(r'Volume flux',fontsize=12)"
   ]
  },
  {
   "cell_type": "code",
   "execution_count": null,
   "id": "05e862ab-f665-4f3d-a1c2-0963e57b79aa",
   "metadata": {
    "tags": []
   },
   "outputs": [],
   "source": [
    "def along_fjord_state(file):\n",
    "\n",
    "    file0 = xr.open_dataset(file)\n",
    "    # removed duplicated data caused by model restart\n",
    "    file = file0.isel(T=~file0.get_index(\"T\").duplicated())\n",
    "    state = file.isel(X=range(200), Xp1=range(201), Y=range(35,45), Yp1=range(35,45)) # confine to the fjord domain\n",
    "    \n",
    "    time = state.T.data\n",
    "    X = state.X.data \n",
    "    x_dist = X / 1000\n",
    "    depth = state.Z.data\n",
    "    pres = gsw.p_from_z(depth, -48.25)\n",
    "    pt = state.Temp.data.mean(2) # Y-axis average\n",
    "    s = state.S.data.mean(2)\n",
    "    #p = np.tile(pres,[len(X),1]).T\n",
    "    p = np.broadcast_to(pres[np.newaxis, :, np.newaxis], pt.shape)\n",
    "    rho = gsw.rho(s, pt, p)\n",
    "    \n",
    "    # Along-fjord velocity\n",
    "    u0 = state.U.data # dims = T, Z, Y, Xp1\n",
    "    u = (u0[:, :, :, 1:].mean(2) + u0[:, :, :, :-1].mean(2)) / 2\n",
    "    \n",
    "    # Vetical velocity\n",
    "    W0 = state.W.data\n",
    "    bt = np.zeros((W0.shape[0],1,W0.shape[2],W0.shape[3])) # Add vertical velocity (0 m/s) at the bottom\n",
    "    W = np.concatenate((W0, bt), axis=1)\n",
    "    wzy = (W[:,1:,:,:] + W[:,:-1,:,:]) / 2\n",
    "    w = wzy.mean(2)    \n",
    "        \n",
    "    return (x_dist, depth, time, pt, s, rho, u, w)"
   ]
  },
  {
   "cell_type": "code",
   "execution_count": null,
   "id": "cb1659d6-890f-45d5-b464-6874cfefc126",
   "metadata": {
    "tags": []
   },
   "outputs": [],
   "source": [
    "input_file = '/Volumes/T7 Shield/MITgcm_jorgemontt/Qsg150_wind/state_003.nc'\n",
    "X, Z1, T1, temp1, sal1, den1, u1, w1 = along_fjord_state(input_file)"
   ]
  },
  {
   "cell_type": "code",
   "execution_count": null,
   "id": "b146cf29-c715-44c3-b3c6-fda8e4002578",
   "metadata": {
    "tags": []
   },
   "outputs": [],
   "source": [
    "RhoA.max(), RhoA.min()"
   ]
  },
  {
   "cell_type": "code",
   "execution_count": null,
   "id": "a0327e21-4324-4d13-b169-86f9eaf61c26",
   "metadata": {
    "tags": []
   },
   "outputs": [],
   "source": [
    "# Plot along-fjord velocity, temperature, and salinity\n",
    "fig1, (ax1, ax2, ax3) = plt.subplots(3,1, sharex=True, figsize=(15,12))\n",
    "\n",
    "t0 = 0\n",
    "\n",
    "U, Temp, Sal, RhoA = u1[t0,:,:], temp1[t0,:,:], sal1[t0,:,:], den1[t0,:,:]-1000\n",
    "mask = (Temp == 0)\n",
    "U[mask] = np.nan\n",
    "Temp[mask] = np.nan\n",
    "Sal[mask] = np.nan\n",
    "RhoA[mask] = np.nan\n",
    "\n",
    "\n",
    "cr_u = np.linspace(-0.25,0.25,20) # Contour range\n",
    "cr_t = np.linspace(4,9,20)\n",
    "cr_s = np.linspace(20,32,20)\n",
    "cr_rho = np.linspace(1017,1027,6)-1000\n",
    "\n",
    "# Along-fjord velocity\n",
    "im1 = ax1.contourf(X, Z1, U, cr_u, cmap=cmocean.cm.balance_r) \n",
    "# ax1.axvline(x=X[95], color='b',lw=2)\n",
    "# ax1.axhline(y=-50, color='b',lw=2)\n",
    "CS1 = ax1.contour(X,Z1,RhoA,cr_rho, colors='k', linewidths=.5)\n",
    "plt.clabel(CS1, fontsize=12, inline=1)\n",
    "#ax1.plot(X[1:],depth[Li],'g-')\n",
    "\n",
    "cbar1 = fig1.colorbar(im1,ax=ax1)\n",
    "#cbar1.set_ticks([-0.1,-0.05,0,0.05,0.1])\n",
    "cbar1.set_ticks([-0.25,0,0.25])\n",
    "cbar1.set_label('Velocity [$m/s$]', size=15)\n",
    "\n",
    "ax1.set_facecolor('grey')\n",
    "ax1.tick_params(direction='in', labelsize=15)\n",
    "#ax1.xaxis.set_visible(False)\n",
    "ax1.set_xlim([X[0],25])\n",
    "# ax1.set_xticks([X[0], 10, 20, 30, X[-1]])\n",
    "ax1.set_yticks([Z1[0], -100, -200, -300, Z1[-1]])\n",
    "ax1.set_yticklabels([\"0\",\"-100\",\"-200\",\"-300\",\"-400\"])\n",
    "#ax1.set_ylabel('Depth [$m$]', size=15)\n",
    "ax1.set_title(r'(a)', loc='left', size=15, weight='bold')\n",
    "\n",
    "ax1.annotate('Glacier', xy=(3,25), xytext=(7,29), \n",
    "            xycoords='data', arrowprops=dict(facecolor='black',width=1), fontsize=15, annotation_clip=False)\n",
    "\n",
    "\n",
    "# Potential temperature\n",
    "im2 = ax2.contourf(X, Z1, Temp, cr_t, cmap=cmocean.cm.thermal) \n",
    "#ax2.axvline(x=x_dist[120], color='g',lw=2)\n",
    "CS2 = ax2.contour(X,Z1,RhoA,cr_rho, colors='k', linewidths=.5)\n",
    "plt.clabel(CS2, fontsize=12, inline=1)\n",
    "\n",
    "cbar2 = fig1.colorbar(im2,ax=ax2)\n",
    "cbar2.set_ticks([4,5,6,7,8,9])\n",
    "cbar2.set_label('Temperature [$^\\circ C$]', size=15)\n",
    "\n",
    "ax2.set_facecolor('grey')\n",
    "ax2.tick_params(direction='in', labelsize=15)\n",
    "ax2.set_xlim([X[0],25])\n",
    "#ax2.set_xticks([X[0], 10, 20, 30, X[-1]])\n",
    "ax2.set_yticks([Z1[0], -100, -200, -300, Z1[-1]])\n",
    "ax2.set_yticklabels([\"0\",\"-100\",\"-200\",\"-300\",\"-400\"])\n",
    "ax2.set_ylabel('Depth [$m$]', size=15)\n",
    "ax2.set_title(r'(b)', loc='left', size=15, weight='bold')\n",
    "\n",
    "\n",
    "\n",
    "# Salinity\n",
    "im3 = ax3.contourf(X, Z1, Sal, cr_s, cmap=cmocean.cm.haline)\n",
    "#ax1.axvline(x=x_dist[120], color='g',lw=2)\n",
    "CS3 = ax3.contour(X,Z1,RhoA,cr_rho, colors='k', linewidths=.5)\n",
    "plt.clabel(CS3, fontsize=12, inline=1)\n",
    "\n",
    "cbar3 = fig1.colorbar(im3,ax=ax3)\n",
    "cbar3.set_ticks([20,22,24,26,28,30,32])\n",
    "cbar3.set_label('Salinity', size=15)\n",
    "\n",
    "\n",
    "ax3.set_facecolor('grey')\n",
    "ax3.tick_params(direction='in', labelsize=15)\n",
    "ax3.set_yticks([Z1[0], -100, -200, -300, Z1[-1]])\n",
    "ax3.set_yticklabels([\"0\",\"-100\",\"-200\",\"-300\",\"-400\"])\n",
    "#ax3.set_ylabel('Depth [$m$]', size=15)\n",
    "ax3.set_title(r'(c)', loc='left', size=15, weight='bold')\n",
    "ax3.set_xlim([X[0],25])\n",
    "#ax3.set_xticks([X[0], 10, 20, 30, X[-1]])\n",
    "#ax3.set_xticklabels([\"0\",\"10\",\"20\",\"30\",\"40\"])\n",
    "ax3.set_xlabel('Distance from glacier [$km$]', size=15)"
   ]
  },
  {
   "cell_type": "markdown",
   "id": "3b749250-409c-4c15-888d-e95fd9481c41",
   "metadata": {},
   "source": [
    "## Wedderburn Number $W$"
   ]
  },
  {
   "cell_type": "code",
   "execution_count": null,
   "id": "214df6fd-6824-4b70-80c0-5a2a8949287d",
   "metadata": {
    "tags": []
   },
   "outputs": [],
   "source": [
    "array = np.array([1, 2, -3, -4, -5, -6, 7])  # Replace with your actual array\n",
    "\n",
    "# Find the indices where the sign changes\n",
    "# This is done by checking where the product of adjacent elements is negative\n",
    "sign_changes = np.where(np.diff(np.sign(array)))[0]\n",
    "sign_changes"
   ]
  },
  {
   "cell_type": "code",
   "execution_count": null,
   "id": "99de8a9d",
   "metadata": {
    "tags": []
   },
   "outputs": [],
   "source": [
    "# Extract from no-wind case file\n",
    "file = xr.open_dataset('/Volumes/T7 Shield/MITgcm_jorgemontt/Qsg150_wind/state_003.nc') # no-wind case\n",
    "state = file.isel(X=range(200), Xp1=range(201), Y=range(35,45), Yp1=range(35,45))\n",
    "\n",
    "t0 = 0 # Look at time index 0 (starting from day )\n",
    "#X = state.X.data / 1000\n",
    "depth = state.Z.data\n",
    "pres = gsw.p_from_z(depth, -48)\n",
    "pt = state.Temp.data[t0,:,:,:].mean(1)\n",
    "s = state.S.data[t0,:,:,:].mean(1)\n",
    "p = np.tile(pres,[len(X),1]).T\n",
    "rho = gsw.rho(s, pt, p)\n",
    "    \n",
    "# Along-fjord velocity\n",
    "u = (state.U.data[t0, :, :, 1:].mean(1) + state.U.data[t0, :, :, :-1].mean(1)) / 2"
   ]
  },
  {
   "cell_type": "code",
   "execution_count": null,
   "id": "a38ad59f-8720-4e78-83f4-9cf295ce7b91",
   "metadata": {
    "tags": []
   },
   "outputs": [],
   "source": [
    "len(X), rho.shape"
   ]
  },
  {
   "cell_type": "code",
   "execution_count": null,
   "id": "6ed12e64-aee8-4569-b3f0-e3de63c33b8b",
   "metadata": {
    "tags": []
   },
   "outputs": [],
   "source": [
    "# Find the upper layer depth\n",
    "Li = []\n",
    "for i in range(1,u.shape[1]):\n",
    "    \n",
    "    l = np.where(np.diff(np.sign(u[:,i])))[0]\n",
    "    Li.append(l[1])\n",
    "\n",
    "h1 = depth[Li].mean() # average layer depth\n",
    "L = (X[-1]-X[1])*1e3 # Fjord length\n",
    "g = 9.81\n",
    "\n",
    "gh = np.empty(90) # grid height\n",
    "gh[:20] = 2\n",
    "gh[20:50] = 4\n",
    "gh[50:] = 6\n",
    "\n",
    "# rho1 = np.sum(rho[:,1]*gh) / gh.sum()\n",
    "# rho2 = np.sum(rho[:,-1]*gh) / gh.sum()\n",
    "\n",
    "rho1 = np.sum(rho[:Li[0]+1,1]*gh[:Li[0]+1]) / gh[:Li[0]+1].sum()\n",
    "rho2 = np.sum(rho[:Li[-1]+1,-1]*gh[:Li[-1]+1]) / gh[:Li[-1]+1].sum()\n",
    "\n",
    "taux = np.abs(rho1-rho2)*g*(h1**2) / L\n",
    "\n",
    "print(h1, L, np.abs(rho1-rho2), taux)"
   ]
  },
  {
   "cell_type": "code",
   "execution_count": null,
   "id": "2fef6ed2-d39c-45aa-bcce-8250b5fabfbc",
   "metadata": {},
   "outputs": [],
   "source": []
  }
 ],
 "metadata": {
  "kernelspec": {
   "display_name": "Python 3 (ipykernel)",
   "language": "python",
   "name": "python3"
  },
  "language_info": {
   "codemirror_mode": {
    "name": "ipython",
    "version": 3
   },
   "file_extension": ".py",
   "mimetype": "text/x-python",
   "name": "python",
   "nbconvert_exporter": "python",
   "pygments_lexer": "ipython3",
   "version": "3.10.9"
  }
 },
 "nbformat": 4,
 "nbformat_minor": 5
}
