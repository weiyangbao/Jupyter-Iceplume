{
 "cells": [
  {
   "cell_type": "code",
   "execution_count": 1,
   "id": "76d4b8f5-03d2-48b2-9ce8-36080a48d3e1",
   "metadata": {},
   "outputs": [],
   "source": [
    "# Calculate efflux-reflux between two cross-sections\n",
    "import xarray as xr\n",
    "import numpy as np\n",
    "import matplotlib\n",
    "import matplotlib.pyplot as plt\n",
    "import gsw\n",
    "import cmocean\n",
    "import Functions as fun\n",
    "import os, sys"
   ]
  },
  {
   "cell_type": "code",
   "execution_count": 2,
   "id": "92b338a5-9273-4abb-a5b8-297561fd3c23",
   "metadata": {},
   "outputs": [],
   "source": [
    "# Input file info\n",
    "#path1 = '/work/oceans/wbao/MITgcm_results/jorgemontt/Qsg150_wind'\n",
    "path1 = '/Volumes/T7 Shield/MITgcm_jorgemontt/Qsg150_wind/'\n",
    "path2 = '/Volumes/T7 Shield/MITgcm_jorgemontt/Qsg150_rep_wind/'\n",
    "\n",
    "taum1 = np.array([-0.2, -0.1, 0, 0.1, 0.2, -0.3, -0.4, 0.3, 0.4, -0.8, 0.8, -1.5, 1.5]) # maximum wind stress (single event)\n",
    "taum2 = np.array([-0.2, -0.1, 0.1, 0.2, -0.3, -0.4, 0.3, 0.4, -0.8, 0.8]) # maximum wind stress (repeated events)\n",
    "\n",
    "xrange = np.array([0,97]) # X index range for the segment between glacier and outer sill\n",
    "xsill = 95\n",
    "x1, x2 = 60, 70 # Inner sill\n",
    "x3, x4 = 90, 100 # Outer sill\n",
    "# Indexes for down-/up-fjord wind\n",
    "down_case1 = [3,4,5,8,9,11,13]\n",
    "up_case1 = [2,1,6,7,10,12]\n",
    "\n",
    "down_case2 = [3,4,7,8,10]\n",
    "up_case2 = [2,1,5,6,9]"
   ]
  },
  {
   "cell_type": "code",
   "execution_count": null,
   "id": "69e70d2d-3c4f-403c-a3de-9e9e36f16151",
   "metadata": {},
   "outputs": [],
   "source": [
    "# No-wind case\n",
    "dist, depth, time, temp, sal, den, u, w = fun.along_fjord_state(path1,3)"
   ]
  },
  {
   "cell_type": "code",
   "execution_count": null,
   "id": "5732840f-ec70-462f-81e9-12109a578a43",
   "metadata": {},
   "outputs": [],
   "source": [
    "# Show the location of segments\n",
    "# Plot along-fjord velocity, temperature, and salinity\n",
    "fig0, ax = plt.subplots(1,1, figsize=(12,3))\n",
    "\n",
    "# Time-mean (60~90d)\n",
    "U, Temp, Sal, RhoA = u0.mean(0), temp0.mean(0), sal0.mean(0), den0.mean(0)-1000\n",
    "pt0 = temp0[0,:,:]\n",
    "mask = (pt0 == 0)\n",
    "U[mask] = np.nan\n",
    "Temp[mask] = np.nan\n",
    "Sal[mask] = np.nan\n",
    "RhoA[mask] = np.nan\n",
    "\n",
    "cr_u = np.linspace(-0.15,0.15,20) # Contour range\n",
    "cr_t = np.linspace(4,9,20)\n",
    "cr_s = np.linspace(20,32,20)\n",
    "cr_rho = np.linspace(1017,1027,6)-1000\n",
    "\n",
    "# Along-fjord velocity\n",
    "im1 = ax.contourf(dist, depth, U, cr_u, cmap=cmocean.cm.balance)\n",
    "# Add cross-sections\n",
    "ax.axvline(x=dist[x1], color='b',lw=2)\n",
    "ax.axvline(x=dist[x2], color='b',lw=2)\n",
    "ax.axvline(x=dist[x3], color='b',lw=2)\n",
    "ax.axvline(x=dist[x4], color='b',lw=2)\n",
    "#ax1.axhline(y=-50, color='b',lw=2)\n",
    "CS1 = ax.contour(dist, depth,RhoA,cr_rho, colors='k', linewidths=.5)\n",
    "plt.clabel(CS1, fontsize=12, inline=1)\n",
    "\n",
    "cbar1 = fig0.colorbar(im1,ax=ax)\n",
    "cbar1.set_ticks([-0.15, -0.1,-0.05,0,0.05,0.1,0.15])\n",
    "cbar1.set_label('Velocity [$m/s$]', size=15)\n",
    "\n",
    "ax.set_facecolor('grey')\n",
    "ax.tick_params(direction='in', labelsize=15)\n",
    "#ax1.xaxis.set_visible(False)\n",
    "ax.set_xlim([dist[0],40])\n",
    "# ax1.set_xticks([X[0], 10, 20, 30, X[-1]])\n",
    "ax.set_yticks([depth[0], -100, -200, -300, depth[-1]])\n",
    "ax.set_yticklabels([\"0\",\"-100\",\"-200\",\"-300\",\"-400\"])\n",
    "ax.set_ylabel('Depth [$m$]', size=15)\n",
    "ax.set_xlabel('Distance from glacier [$km$]', size=15)\n",
    "#ax1.set_title(r'(a)', loc='left', size=15, weight='bold')\n",
    "ax.annotate('Glacier', xy=(3,25), xytext=(7,29), \n",
    "            xycoords='data', arrowprops=dict(facecolor='black',width=1), fontsize=15, annotation_clip=False)\n"
   ]
  },
  {
   "cell_type": "markdown",
   "id": "59445308-1b45-455f-b866-eefd7e4f33ee",
   "metadata": {},
   "source": [
    "## TEF and Efflux-Reflux"
   ]
  },
  {
   "cell_type": "code",
   "execution_count": 37,
   "id": "4f0a0741-23dc-426b-8e18-028687921996",
   "metadata": {},
   "outputs": [
    {
     "name": "stdout",
     "output_type": "stream",
     "text": [
      "  time 0 out of 721\n",
      "  time 0 out of 721\n"
     ]
    }
   ],
   "source": [
    "# TEF transports at each cross-section\n",
    "caseid = 13\n",
    "#qin1, qout1, sin1, sout1 = fun.tef_transport(path1,caseid,x1)\n",
    "#qin2, qout2, sin2, sout2 = fun.tef_transport(path1,caseid,x2)\n",
    "qin3, qout3, sin3, sout3 = fun.tef_transport(path1,caseid,x3)\n",
    "qin4, qout4, sin4, sout4 = fun.tef_transport(path1,caseid,x4)\n"
   ]
  },
  {
   "cell_type": "code",
   "execution_count": null,
   "id": "1558fe36-e067-4fef-8a6f-4c8adc48b3a4",
   "metadata": {},
   "outputs": [],
   "source": [
    "#qin1[:25], qout1[:25]\n",
    "len(time), time[-121]/86400\n",
    "#Q = fun.filt_godin(qin1)\n",
    "#Q[-121:]"
   ]
  },
  {
   "cell_type": "code",
   "execution_count": null,
   "id": "bc27c8aa-b384-45f2-ba7d-eda5aa95c632",
   "metadata": {},
   "outputs": [],
   "source": [
    "from scipy.interpolate import interp1d, InterpolatedUnivariateSpline\n",
    "not_nan = ~np.isnan(sout4)\n",
    "L = np.arange(len(sout4))\n",
    "\n",
    "# Linear Interpolation\n",
    "linear_interpolator = interp1d(L[not_nan], sout4[not_nan], kind='linear', bounds_error=False)\n",
    "linear_interpolated = linear_interpolator(np.arange(len(sout4)))\n",
    "\n",
    "# Spline Interpolation\n",
    "spline_interpolator = InterpolatedUnivariateSpline(L[not_nan], sout4[not_nan])\n",
    "spline_interpolated = spline_interpolator(np.arange(len(sout4)))\n",
    "\n",
    "\n",
    "# Nearest Interpolation\n",
    "nearest_interpolator = interp1d(L[not_nan], sout4[not_nan], kind='nearest', fill_value=\"extrapolate\")\n",
    "nearest_interpolated = nearest_interpolator(np.arange(len(sout4)))"
   ]
  },
  {
   "cell_type": "code",
   "execution_count": null,
   "id": "513e8a4e-28fa-4607-bace-fae53ba7f8e4",
   "metadata": {},
   "outputs": [],
   "source": [
    "#%matplotlib widget\n",
    "%matplotlib inline\n",
    "fig1 = plt.figure(figsize=(8,3), tight_layout=True)    \n",
    "ax1 = fig1.add_subplot(111)\n",
    "\n",
    "\n",
    "plt.grid(linestyle = '--', linewidth = 0.5)\n",
    "\n",
    "#ax1.plot(time/86400,sout3,lw=2,label=r'Sout3')\n",
    "ax1.plot(time/86400,sout4,lw=2,label=r'Sout4')\n",
    "#ax1.plot(time/86400,linear_interpolated,lw=2,label=r'Linear')\n",
    "#ax1.plot(time/86400,spline_interpolated,lw=2,label=r'Spline')\n",
    "ax1.plot(time/86400,nearest_interpolated,lw=2,label=r'Nearest')\n",
    "\n",
    "ax1.legend(loc='upper right',fontsize=12)\n",
    "ax1.set(xlim=(60, 90), ylim=(27, 30))\n",
    "ax1.tick_params(direction='in', labelsize=12)\n",
    "ax1.set_xlabel('Days',fontsize=12)\n",
    "ax1.set_ylabel(r'$S_{out}$',fontsize=12)\n"
   ]
  },
  {
   "cell_type": "code",
   "execution_count": 38,
   "id": "4650c7e0-1843-4844-bbe5-73de38fb7c46",
   "metadata": {},
   "outputs": [],
   "source": [
    "# Linear Interpolation\n",
    "from scipy.interpolate import interp1d\n",
    "not_nan1 = ~np.isnan(sout4)\n",
    "L = np.arange(len(sout4))\n",
    "fun_interp1 = interp1d(L[not_nan1], sout4[not_nan1], kind='linear', bounds_error=False)\n",
    "sout4_interp = fun_interp1(np.arange(len(sout4)))\n",
    "\n",
    "not_nan2 = ~np.isnan(sin4)\n",
    "fun_interp2 = interp1d(L[not_nan2], sin4[not_nan2], kind='linear', bounds_error=False)\n",
    "sin4_interp = fun_interp2(np.arange(len(sin4)))"
   ]
  },
  {
   "cell_type": "code",
   "execution_count": 39,
   "id": "7aab172c-476a-40e8-a159-4768a424f293",
   "metadata": {},
   "outputs": [],
   "source": [
    "# Average over the last 5 days of simulation\n",
    "tt = -121 # starting time\n",
    "\n",
    "# # Segment 1 (Inner sill)\n",
    "# Qin1 = [np.nanmean(fun.filt_godin(qin1)[tt:]), np.nanmean(fun.filt_godin(qin2)[tt:])]\n",
    "# Qout1 = [np.nanmean(fun.filt_godin(qout1)[tt:]), np.nanmean(fun.filt_godin(qout2)[tt:])]\n",
    "# Sin1 = [np.nanmean(fun.filt_godin(sin1)[tt:]), np.nanmean(fun.filt_godin(sin2)[tt:])]\n",
    "# Sout1 = [np.nanmean(fun.filt_godin(sout1)[tt:]), np.nanmean(fun.filt_godin(sout2)[tt:])]\n",
    "\n",
    "# Segment 2 (Outer sill)\n",
    "Qin2 = [np.nanmean(fun.filt_godin(qin3)[tt:]), np.nanmean(fun.filt_godin(qin4)[tt:])]\n",
    "Qout2 = [np.nanmean(fun.filt_godin(qout3)[tt:]), np.nanmean(fun.filt_godin(qout4)[tt:])]\n",
    "Sin2 = [np.nanmean(fun.filt_godin(sin3)[tt:]), np.nanmean(fun.filt_godin(sin4_interp)[tt:])]\n",
    "Sout2 = [np.nanmean(fun.filt_godin(sout3)[tt:]), np.nanmean(fun.filt_godin(sout4_interp)[tt:])]"
   ]
  },
  {
   "cell_type": "code",
   "execution_count": 40,
   "id": "b1f6726a-564c-4432-943f-04d67de60841",
   "metadata": {},
   "outputs": [
    {
     "name": "stdout",
     "output_type": "stream",
     "text": [
      " - Volume Flux adjustment = -0.00000\n",
      " -   Salt Flux adjustment = 0.00001\n"
     ]
    }
   ],
   "source": [
    "# a11, a01, a10, a00\n",
    "#alpha1 = fun.efflux_reflux(Qin1, Qout1, Sin1, Sout1, error=True)\n",
    "alpha2 = fun.efflux_reflux(Qin2, Qout2, Sin2, Sout2, error=True)"
   ]
  },
  {
   "cell_type": "code",
   "execution_count": 41,
   "id": "1a729e87-fe94-448a-9592-b4f00471ab48",
   "metadata": {},
   "outputs": [
    {
     "data": {
      "text/plain": [
       "((array([0.00621845, 0.63210735, 0.99378155, 0.36789265]),\n",
       "  8441.677181994713,\n",
       "  5218.433837302435,\n",
       "  8291.614306380114,\n",
       "  5368.4967129170345),\n",
       " 3105.631016157244,\n",
       " 3223.2433446922787)"
      ]
     },
     "execution_count": 41,
     "metadata": {},
     "output_type": "execute_result"
    }
   ],
   "source": [
    "alpha2, alpha2[0][-1]*alpha2[1], alpha2[1]-alpha2[2]"
   ]
  },
  {
   "cell_type": "code",
   "execution_count": null,
   "id": "d5590206-51dd-4020-95a3-9301dc2e76ec",
   "metadata": {},
   "outputs": [],
   "source": [
    "Tau = [0, 0.1, 0.2, 0.3, 0.4, 0.8, 1.5]\n",
    "a11 = [-0.126, -0.126, -0.125, -0.126, -0.127, -0.132, 0.006]\n",
    "a00 = [0.218, 0.218, 0.223, 0.226, 0.231, 0.252, 0.368]\n",
    "Qe = [1737, 1747, 1793, 1826, 1883, 2102, 3106]"
   ]
  },
  {
   "cell_type": "code",
   "execution_count": null,
   "id": "7855c161-eab2-4626-9cfa-864243783e7f",
   "metadata": {},
   "outputs": [],
   "source": []
  }
 ],
 "metadata": {
  "kernelspec": {
   "display_name": "Python 3 (ipykernel)",
   "language": "python",
   "name": "python3"
  },
  "language_info": {
   "codemirror_mode": {
    "name": "ipython",
    "version": 3
   },
   "file_extension": ".py",
   "mimetype": "text/x-python",
   "name": "python",
   "nbconvert_exporter": "python",
   "pygments_lexer": "ipython3",
   "version": "3.10.9"
  }
 },
 "nbformat": 4,
 "nbformat_minor": 5
}
