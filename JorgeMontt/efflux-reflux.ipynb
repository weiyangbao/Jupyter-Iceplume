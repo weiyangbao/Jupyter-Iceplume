{
 "cells": [
  {
   "cell_type": "code",
   "execution_count": 1,
   "id": "76d4b8f5-03d2-48b2-9ce8-36080a48d3e1",
   "metadata": {},
   "outputs": [],
   "source": [
    "# Calculate efflux-reflux between two cross-sections\n",
    "import xarray as xr\n",
    "import numpy as np\n",
    "import matplotlib\n",
    "import matplotlib.pyplot as plt\n",
    "import gsw\n",
    "import cmocean\n",
    "import Functions as fun\n",
    "import os, sys"
   ]
  },
  {
   "cell_type": "code",
   "execution_count": 2,
   "id": "92b338a5-9273-4abb-a5b8-297561fd3c23",
   "metadata": {},
   "outputs": [],
   "source": [
    "# Input file info\n",
    "#path1 = '/work/oceans/wbao/MITgcm_results/jorgemontt/Qsg150_wind'\n",
    "path1 = '/Volumes/T7 Shield/MITgcm_jorgemontt/Qsg150_wind/'\n",
    "path2 = '/Volumes/T7 Shield/MITgcm_jorgemontt/Qsg150_rep_wind/'\n",
    "taum1 = np.array([-0.2, -0.1, 0, 0.1, 0.2, -0.3, -0.4, 0.3, 0.4, -0.8, 0.8, -1.5, 1.5]) # maximum wind stress (single event)\n",
    "taum2 = np.array([-0.2, -0.1, 0.1, 0.2, -0.3, -0.4, 0.3, 0.4, -0.8, 0.8]) # maximum wind stress (repeated events)\n",
    "\n",
    "# No-Tide\n",
    "path3 = '/Volumes/T7 Shield/MITgcm_jorgemontt/Qsg150_Wind1_S/' # Single wind event with sill\n",
    "path4 = '/Volumes/T7 Shield/MITgcm_jorgemontt/Qsg150_Wind4_S/' # Single wind event with sill\n",
    "taum3 = np.array([0, 0.1, 0.3, -0.1, -0.3, 0.9, 1.5, -0.9, -1.5]) # maximum wind stress (single event)\n",
    "taum4 = np.array([0.1, 0.3, 0.9, 1.5, -0.1, -0.3, -0.9, -1.5]) # maximum wind stress (4 repeated events)\n",
    "\n",
    "\n",
    "xrange = np.array([0,97]) # X index range for the segment between glacier and outer sill\n",
    "xsill = 95\n",
    "x1, x2 = 60, 70 # Inner sill\n",
    "x3, x4 = 90, 100 # Outer sill\n",
    "\n",
    "# Indexes for down-/up-fjord wind\n",
    "# down_case1 = [3,4,5,8,9,11,13]\n",
    "# up_case1 = [2,1,6,7,10,12]\n",
    "\n",
    "# down_case2 = [3,4,7,8,10]\n",
    "# up_case2 = [2,1,5,6,9]"
   ]
  },
  {
   "cell_type": "code",
   "execution_count": null,
   "id": "c732a235-635a-4741-906f-fbe7cf293360",
   "metadata": {},
   "outputs": [],
   "source": [
    "np.argsort(taum3)+1"
   ]
  },
  {
   "cell_type": "code",
   "execution_count": null,
   "id": "69e70d2d-3c4f-403c-a3de-9e9e36f16151",
   "metadata": {},
   "outputs": [],
   "source": [
    "# No-wind case\n",
    "dist, depth, time, temp, sal, den, u, w = fun.along_fjord_state(path3,1)"
   ]
  },
  {
   "cell_type": "code",
   "execution_count": null,
   "id": "a83450d2-fbba-492e-b29c-8f4314267651",
   "metadata": {},
   "outputs": [],
   "source": [
    "time[-21:]/86400"
   ]
  },
  {
   "cell_type": "code",
   "execution_count": null,
   "id": "5732840f-ec70-462f-81e9-12109a578a43",
   "metadata": {},
   "outputs": [],
   "source": [
    "# Show the location of segments\n",
    "# Plot along-fjord velocity, temperature, and salinity\n",
    "fig0, ax = plt.subplots(1,1, figsize=(12,3))\n",
    "\n",
    "# Time-mean (60~90d)\n",
    "U, Temp, Sal, RhoA = u.mean(0), temp.mean(0), sal.mean(0), den.mean(0)-1000\n",
    "mask = (temp[0,:,:] == 0)\n",
    "U[mask] = np.nan\n",
    "Temp[mask] = np.nan\n",
    "Sal[mask] = np.nan\n",
    "RhoA[mask] = np.nan\n",
    "\n",
    "cr_u = np.linspace(-0.15,0.15,20) # Contour range\n",
    "cr_t = np.linspace(4,9,20)\n",
    "cr_s = np.linspace(20,32,20)\n",
    "cr_rho = np.linspace(1017,1027,6)-1000\n",
    "\n",
    "# Along-fjord velocity\n",
    "im1 = ax.contourf(dist, depth, U, cr_u, cmap=cmocean.cm.balance)\n",
    "# Add cross-sections\n",
    "ax.axvline(x=dist[x1], color='b',lw=2)\n",
    "ax.axvline(x=dist[x2], color='b',lw=2)\n",
    "ax.axvline(x=dist[x3], color='b',lw=2)\n",
    "ax.axvline(x=dist[x4], color='b',lw=2)\n",
    "#ax1.axhline(y=-50, color='b',lw=2)\n",
    "CS1 = ax.contour(dist, depth,RhoA,cr_rho, colors='k', linewidths=.5)\n",
    "plt.clabel(CS1, fontsize=12, inline=1)\n",
    "\n",
    "cbar1 = fig0.colorbar(im1,ax=ax)\n",
    "cbar1.set_ticks([-0.15, -0.1,-0.05,0,0.05,0.1,0.15])\n",
    "cbar1.set_label('Velocity [$m/s$]', size=15)\n",
    "\n",
    "ax.set_facecolor('grey')\n",
    "ax.tick_params(direction='in', labelsize=15)\n",
    "#ax1.xaxis.set_visible(False)\n",
    "ax.set_xlim([dist[0],40])\n",
    "# ax1.set_xticks([X[0], 10, 20, 30, X[-1]])\n",
    "ax.set_yticks([depth[0], -100, -200, -300, depth[-1]])\n",
    "ax.set_yticklabels([\"0\",\"-100\",\"-200\",\"-300\",\"-400\"])\n",
    "ax.set_ylabel('Depth [$m$]', size=15)\n",
    "ax.set_xlabel('Distance from glacier [$km$]', size=15)\n",
    "#ax1.set_title(r'(a)', loc='left', size=15, weight='bold')\n",
    "ax.annotate('Glacier', xy=(3,25), xytext=(7,29), \n",
    "            xycoords='data', arrowprops=dict(facecolor='black',width=1), fontsize=15, annotation_clip=False)\n"
   ]
  },
  {
   "cell_type": "markdown",
   "id": "59445308-1b45-455f-b866-eefd7e4f33ee",
   "metadata": {},
   "source": [
    "## TEF and Efflux-Reflux"
   ]
  },
  {
   "cell_type": "code",
   "execution_count": 3,
   "id": "4f0a0741-23dc-426b-8e18-028687921996",
   "metadata": {},
   "outputs": [
    {
     "name": "stdout",
     "output_type": "stream",
     "text": [
      "  time 0 out of 121\n",
      "  time 0 out of 121\n",
      "  time 0 out of 121\n",
      "  time 0 out of 121\n",
      "  time 0 out of 121\n",
      "  time 0 out of 121\n",
      "  time 0 out of 121\n",
      "  time 0 out of 121\n",
      "  time 0 out of 121\n",
      "  time 0 out of 121\n",
      "  time 0 out of 121\n",
      "  time 0 out of 121\n",
      "  time 0 out of 121\n",
      "  time 0 out of 121\n",
      "  time 0 out of 121\n",
      "  time 0 out of 121\n",
      "  time 0 out of 121\n",
      "  time 0 out of 121\n"
     ]
    }
   ],
   "source": [
    "# TEF transports at each cross-section\n",
    "#caseid = 13\n",
    "#qin1, qout1, sin1, sout1 = fun.tef_transport(path1,caseid,x1)\n",
    "#qin2, qout2, sin2, sout2 = fun.tef_transport(path1,caseid,x2)\n",
    "# qin3, qout3, sin3, sout3 = fun.tef_transport(path1,caseid,x3)\n",
    "# qin4, qout4, sin4, sout4 = fun.tef_transport(path1,caseid,x4)\n",
    "\n",
    "# Single Wind\n",
    "Qin3_w1 = []\n",
    "Qout3_w1 = []\n",
    "Sin3_w1 = []\n",
    "Sout3_w1 = []\n",
    "Qin4_w1 = []\n",
    "Qout4_w1 = []\n",
    "Sin4_w1 = []\n",
    "Sout4_w1 = []\n",
    "for i in np.argsort(taum3)+1:\n",
    "    qin3, qout3, sin3, sout3 = fun.tef_transport(path3,i,x3)\n",
    "    qin4, qout4, sin4, sout4 = fun.tef_transport(path3,i,x4)\n",
    "    Qin3_w1.append(qin3)\n",
    "    Qout3_w1.append(qout3)\n",
    "    Sin3_w1.append(sin3)\n",
    "    Sout3_w1.append(sout3)\n",
    "    Qin4_w1.append(qin4)\n",
    "    Qout4_w1.append(qout4)\n",
    "    Sin4_w1.append(sin4)\n",
    "    Sout4_w1.append(sout4)\n"
   ]
  },
  {
   "cell_type": "code",
   "execution_count": null,
   "id": "8ae0f802-0104-47f3-a848-73f5726e5060",
   "metadata": {},
   "outputs": [],
   "source": [
    "# Repeated Wind\n",
    "Qin3_w4 = []\n",
    "Qout3_w4 = []\n",
    "Sin3_w4 = []\n",
    "Sout3_w4 = []\n",
    "Qin4_w4 = []\n",
    "Qout4_w4 = []\n",
    "Sin4_w4 = []\n",
    "Sout4_w4 = []\n",
    "for j in np.argsort(taum4)+2:\n",
    "    qin3, qout3, sin3, sout3 = fun.tef_transport(path4,j,x3)\n",
    "    qin4, qout4, sin4, sout4 = fun.tef_transport(path4,j,x4)\n",
    "    Qin3_w4.append(qin3)\n",
    "    Qout3_w4.append(qout3)\n",
    "    Sin3_w4.append(sin3)\n",
    "    Sout3_w4.append(sout3)\n",
    "    Qin4_w4.append(qin4)\n",
    "    Qout4_w4.append(qout4)\n",
    "    Sin4_w4.append(sin4)\n",
    "    Sout4_w4.append(sout4)"
   ]
  },
  {
   "cell_type": "code",
   "execution_count": 4,
   "id": "74fc1e05-2f7d-4096-922e-eeaff4ff5ad9",
   "metadata": {},
   "outputs": [],
   "source": [
    "taum = [-1.5,-0.9,-0.3,-0.1,0,0.1,0.3,0.9,1.5]\n",
    "tt = -21 # Day 85\n",
    "\n",
    "alpha_w1 = []\n",
    "Qr_w1 = []\n",
    "for k in range(len(taum)):\n",
    "    Qin_w1 = [Qin3_w1[k][tt:].mean(), Qin4_w1[k][tt:].mean()]\n",
    "    Qout_w1 = [Qout3_w1[k][tt:].mean(), Qout4_w1[k][tt:].mean()]\n",
    "    Sin_w1 = [Sin3_w1[k][tt:].mean(), Sin4_w1[k][tt:].mean()]\n",
    "    Sout_w1 = [Sout3_w1[k][tt:].mean(), Sout4_w1[k][tt:].mean()]\n",
    "    X = fun.efflux_reflux(Qin_w1, Qout_w1, Sin_w1, Sout_w1, error=False)\n",
    "    alpha_w1.append(X[0][-1])\n",
    "    Qr_w1.append(X[1]-X[2])\n",
    "\n",
    "\n",
    "# alpha_w4 = []\n",
    "# Qr_w4 = []\n",
    "# for k in range(len(taum)-1):\n",
    "#     Qin_w4 = [Qin3_w4[k][tt:].mean(), Qin4_w4[k][tt:].mean()]\n",
    "#     Qout_w4 = [Qout3_w4[k][tt:].mean(), Qout4_w4[k][tt:].mean()]\n",
    "#     Sin_w4 = [Sin3_w4[k][tt:].mean(), Sin4_w4[k][tt:].mean()]\n",
    "#     Sout_w4 = [Sout3_w4[k][tt:].mean(), Sout4_w4[k][tt:].mean()]\n",
    "#     X = fun.efflux_reflux(Qin_w4, Qout_w4, Sin_w4, Sout_w4, error=False)\n",
    "#     alpha_w4.append(X[0][-1])\n",
    "#     Qr_w4.append(X[1]-X[2])"
   ]
  },
  {
   "cell_type": "code",
   "execution_count": null,
   "id": "91451c82-5850-4eb8-bfb7-81907ee91019",
   "metadata": {},
   "outputs": [],
   "source": [
    "k"
   ]
  },
  {
   "cell_type": "code",
   "execution_count": null,
   "id": "ffca2d06-5683-41e3-ae8f-0b0252bd2d3e",
   "metadata": {},
   "outputs": [],
   "source": [
    "alpha_w1, alpha_w4, Qr_w1, Qr_w4"
   ]
  },
  {
   "cell_type": "code",
   "execution_count": null,
   "id": "1558fe36-e067-4fef-8a6f-4c8adc48b3a4",
   "metadata": {},
   "outputs": [],
   "source": [
    "#qin1[:25], qout1[:25]\n",
    "len(time), time[-121]/86400\n",
    "#Q = fun.filt_godin(qin1)\n",
    "#Q[-121:]"
   ]
  },
  {
   "cell_type": "code",
   "execution_count": null,
   "id": "bc27c8aa-b384-45f2-ba7d-eda5aa95c632",
   "metadata": {},
   "outputs": [],
   "source": [
    "from scipy.interpolate import interp1d, InterpolatedUnivariateSpline\n",
    "not_nan = ~np.isnan(sout4)\n",
    "L = np.arange(len(sout4))\n",
    "\n",
    "# Linear Interpolation\n",
    "linear_interpolator = interp1d(L[not_nan], sout4[not_nan], kind='linear', bounds_error=False)\n",
    "linear_interpolated = linear_interpolator(np.arange(len(sout4)))\n",
    "\n",
    "# Spline Interpolation\n",
    "spline_interpolator = InterpolatedUnivariateSpline(L[not_nan], sout4[not_nan])\n",
    "spline_interpolated = spline_interpolator(np.arange(len(sout4)))\n",
    "\n",
    "\n",
    "# Nearest Interpolation\n",
    "nearest_interpolator = interp1d(L[not_nan], sout4[not_nan], kind='nearest', fill_value=\"extrapolate\")\n",
    "nearest_interpolated = nearest_interpolator(np.arange(len(sout4)))"
   ]
  },
  {
   "cell_type": "code",
   "execution_count": null,
   "id": "513e8a4e-28fa-4607-bace-fae53ba7f8e4",
   "metadata": {},
   "outputs": [],
   "source": [
    "#%matplotlib widget\n",
    "%matplotlib inline\n",
    "fig1 = plt.figure(figsize=(8,3), tight_layout=True)    \n",
    "ax1 = fig1.add_subplot(111)\n",
    "\n",
    "\n",
    "plt.grid(linestyle = '--', linewidth = 0.5)\n",
    "\n",
    "#ax1.plot(time/86400,sout3,lw=2,label=r'Sout3')\n",
    "ax1.plot(time/86400,sout4,lw=2,label=r'Sout4')\n",
    "#ax1.plot(time/86400,linear_interpolated,lw=2,label=r'Linear')\n",
    "#ax1.plot(time/86400,spline_interpolated,lw=2,label=r'Spline')\n",
    "ax1.plot(time/86400,nearest_interpolated,lw=2,label=r'Nearest')\n",
    "\n",
    "ax1.legend(loc='upper right',fontsize=12)\n",
    "ax1.set(xlim=(60, 90), ylim=(27, 30))\n",
    "ax1.tick_params(direction='in', labelsize=12)\n",
    "ax1.set_xlabel('Days',fontsize=12)\n",
    "ax1.set_ylabel(r'$S_{out}$',fontsize=12)\n"
   ]
  },
  {
   "cell_type": "code",
   "execution_count": null,
   "id": "4650c7e0-1843-4844-bbe5-73de38fb7c46",
   "metadata": {},
   "outputs": [],
   "source": [
    "# Linear Interpolation\n",
    "from scipy.interpolate import interp1d\n",
    "not_nan1 = ~np.isnan(sout4)\n",
    "L = np.arange(len(sout4))\n",
    "fun_interp1 = interp1d(L[not_nan1], sout4[not_nan1], kind='linear', bounds_error=False)\n",
    "sout4_interp = fun_interp1(np.arange(len(sout4)))\n",
    "\n",
    "not_nan2 = ~np.isnan(sin4)\n",
    "fun_interp2 = interp1d(L[not_nan2], sin4[not_nan2], kind='linear', bounds_error=False)\n",
    "sin4_interp = fun_interp2(np.arange(len(sin4)))"
   ]
  },
  {
   "cell_type": "code",
   "execution_count": null,
   "id": "7aab172c-476a-40e8-a159-4768a424f293",
   "metadata": {},
   "outputs": [],
   "source": [
    "# Average over the last 5 days of simulation\n",
    "tt = -121 # starting time\n",
    "\n",
    "# # Segment 1 (Inner sill)\n",
    "# Qin1 = [np.nanmean(fun.filt_godin(qin1)[tt:]), np.nanmean(fun.filt_godin(qin2)[tt:])]\n",
    "# Qout1 = [np.nanmean(fun.filt_godin(qout1)[tt:]), np.nanmean(fun.filt_godin(qout2)[tt:])]\n",
    "# Sin1 = [np.nanmean(fun.filt_godin(sin1)[tt:]), np.nanmean(fun.filt_godin(sin2)[tt:])]\n",
    "# Sout1 = [np.nanmean(fun.filt_godin(sout1)[tt:]), np.nanmean(fun.filt_godin(sout2)[tt:])]\n",
    "\n",
    "# Segment 2 (Outer sill)\n",
    "Qin2 = [np.nanmean(fun.filt_godin(qin3)[tt:]), np.nanmean(fun.filt_godin(qin4)[tt:])]\n",
    "Qout2 = [np.nanmean(fun.filt_godin(qout3)[tt:]), np.nanmean(fun.filt_godin(qout4)[tt:])]\n",
    "Sin2 = [np.nanmean(fun.filt_godin(sin3)[tt:]), np.nanmean(fun.filt_godin(sin4_interp)[tt:])]\n",
    "Sout2 = [np.nanmean(fun.filt_godin(sout3)[tt:]), np.nanmean(fun.filt_godin(sout4_interp)[tt:])]"
   ]
  },
  {
   "cell_type": "code",
   "execution_count": null,
   "id": "b1f6726a-564c-4432-943f-04d67de60841",
   "metadata": {},
   "outputs": [],
   "source": [
    "# a11, a01, a10, a00\n",
    "#alpha1 = fun.efflux_reflux(Qin1, Qout1, Sin1, Sout1, error=True)\n",
    "alpha2 = fun.efflux_reflux(Qin2, Qout2, Sin2, Sout2, error=True)"
   ]
  },
  {
   "cell_type": "code",
   "execution_count": null,
   "id": "1a729e87-fe94-448a-9592-b4f00471ab48",
   "metadata": {},
   "outputs": [],
   "source": [
    "alpha2, alpha2[0][-1]*alpha2[1], alpha2[1]-alpha2[2]"
   ]
  },
  {
   "cell_type": "code",
   "execution_count": null,
   "id": "d5590206-51dd-4020-95a3-9301dc2e76ec",
   "metadata": {},
   "outputs": [],
   "source": [
    "Tau = [0, 0.1, 0.2, 0.3, 0.4, 0.8, 1.5]\n",
    "a11 = [-0.126, -0.126, -0.125, -0.126, -0.127, -0.132, 0.006]\n",
    "a00 = [0.218, 0.218, 0.223, 0.226, 0.231, 0.252, 0.368]\n",
    "Qe = [1737, 1747, 1793, 1826, 1883, 2102, 3106]"
   ]
  },
  {
   "cell_type": "code",
   "execution_count": null,
   "id": "7855c161-eab2-4626-9cfa-864243783e7f",
   "metadata": {},
   "outputs": [],
   "source": [
    "fig2 = plt.figure(figsize=(5,4), tight_layout=True)    \n",
    "\n",
    "ax1 = fig2.add_subplot(111)\n",
    "#plt.axis('square')\n",
    "plt.grid(linestyle = '--', linewidth = 0.5)\n",
    "ax1.plot(Tau,[alpha * 100 for alpha in a00],'v-g',ms=8,label=r'$\\alpha_{11}$')\n",
    "# #eflx[eflx<0] = 0\n",
    "# ax3.plot(hsr,a22,'^-g',ms=10,label=r'$\\alpha_{22}$')\n",
    "#ax1.legend(bbox_to_anchor=(.65,.75), fontsize=15)\n",
    "#ax1.set(xlim=(0, 2), ylim=(0.2,0.4))\n",
    "ax1.set(ylim=(20,40))\n",
    "ax1.tick_params(direction='in', labelsize=12)\n",
    "ax1.tick_params(axis='y', colors='green')\n",
    "\n",
    "#ax3.set_xticks([0.04, 0.06, 0.08, 0.10, 0.12])\n",
    "ax1.set_xlabel(r\"$\\tau_x$ [$N\\,m^{-2}$]\",fontsize=12)\n",
    "ax1.set_ylabel(r\"Reflux Coefficient (%)\",fontsize=12,color='g')\n",
    "#ax3.set_title('(b)', loc='left', size=15, weight='bold')\n",
    "\n",
    "ax2=ax1.twinx()\n",
    "ax2.plot(Tau,Qe,'o-r',ms=8,label=r'$Q_r$')\n",
    "ax2.set(ylim=(1300,3300))\n",
    "#ax4.legend(loc='right', fontsize=15)\n",
    "ax2.tick_params(direction='in', labelsize=12)\n",
    "ax2.spines['left'].set_color('green')\n",
    "ax2.spines['right'].set_color('red')\n",
    "ax2.tick_params(axis='y', colors='red')\n",
    "#ax4.set_ylim([1, 9])\n",
    "#ax4.set_yticks([1.5, 3, 4.5, 6, 7.5, 9])\n",
    "ax2.set_ylabel(r\"Downward reflux $[m^3\\,s^{-1}]$\",fontsize=12,color='r')"
   ]
  },
  {
   "cell_type": "code",
   "execution_count": null,
   "id": "adfef151-5884-4777-8570-af4e646373f6",
   "metadata": {},
   "outputs": [],
   "source": [
    "fig3 = plt.figure(figsize=(5,4), tight_layout=True)    \n",
    "\n",
    "ax1 = fig3.add_subplot(111)\n",
    "#plt.axis('square')\n",
    "plt.grid(linestyle = '--', linewidth = 0.5)\n",
    "ax1.plot(taum,[alpha * 100 for alpha in alpha_w1],'v-g',ms=7,label=r'$\\alpha_{11}$',zorder=2)\n",
    "ax1.axvline(x=0, color='grey',ls='-',lw=1,zorder=1)\n",
    "#ax1.set(xlim=(0, 2), ylim=(0.2,0.4))\n",
    "ax1.set(ylim=(20,28))\n",
    "ax1.tick_params(direction='in', labelsize=12)\n",
    "ax1.tick_params(axis='y', colors='green')\n",
    "\n",
    "ax1.set_xticks([-1.5,-1,-0.5,0,0.5,1,1.5])\n",
    "ax1.set_xlabel(r\"$\\tau_x$ [$N\\,m^{-2}$]\",fontsize=12)\n",
    "ax1.set_ylabel(r\"Reflux Fraction (%)\",fontsize=12,color='g')\n",
    "#ax3.set_title('(b)', loc='left', size=15, weight='bold')\n",
    "\n",
    "ax2=ax1.twinx()\n",
    "ax2.plot(taum,Qr_w1,'o-r',ms=7,label=r'$Q_r$',zorder=2)\n",
    "ax2.set(ylim=(3200,3800))\n",
    "ax2.tick_params(direction='in', labelsize=12)\n",
    "ax2.spines['left'].set_color('green')\n",
    "ax2.spines['right'].set_color('red')\n",
    "ax2.tick_params(axis='y', colors='red')\n",
    "ax2.set_ylabel(r\"Downward reflux $[m^3\\,s^{-1}]$\",fontsize=12,color='r')"
   ]
  },
  {
   "cell_type": "code",
   "execution_count": 5,
   "id": "9fd2090c-9abf-47e4-8941-be02eb21702a",
   "metadata": {},
   "outputs": [],
   "source": [
    "def VolFlux(datapath, case_id, xid):\n",
    "    # Calculate along-fjord volume fluxes at cross-section xid\n",
    "    State0 = xr.open_dataset(datapath+'state_' + str(format(case_id,'03d')) + '.nc')\n",
    "    State = State0.isel(T=~State0.get_index(\"T\").duplicated())\n",
    "    Grid = xr.open_dataset(datapath+'grid.nc')\n",
    "\n",
    "    state = State.isel(X=slice(200), Xp1=slice(201), Y=slice(35,45))\n",
    "    grid = Grid.isel(X=slice(200), Xp1=slice(201), Y=slice(35,45))  \n",
    "    \n",
    "    time = state.T.data / 86400\n",
    "\n",
    "    area = grid.drF * grid.dyF * grid.HFacC\n",
    "    U = (state.U.data[:,:,:,1:] + state.U.data[:,:,:,:-1]) / 2\n",
    "    Qp = np.empty(len(time))\n",
    "    Ql = np.empty(len(time))\n",
    "    for t in range(len(time)):\n",
    "        Q = U[t,:,:,xid] * area.data[:,:,xid]\n",
    "        Qp[t] = Q[Q > 0].sum()\n",
    "        # last_positive_id = np.where(Q.mean(1) > 0)[0][-1]\n",
    "        # Ql[t] = Q[last_positive_id:,:].sum()\n",
    "    \n",
    "        # Find the index of the last positive value in each column using a masked array\n",
    "        masked_positives = np.ma.masked_array(Q, mask=Q <= 0)\n",
    "        last_positive_indices = np.ma.argmax(masked_positives, axis=0)\n",
    "\n",
    "        # Initialize a total sum of lower-layer negatives\n",
    "        total_sum_lower_negatives = 0\n",
    "\n",
    "        # Calculate the sum for each column based on the last positive index\n",
    "        for col in range(Q.shape[1]):\n",
    "        # Adjust for columns where the maximum index is 0 but it's actually a negative value\n",
    "            if Q[0, col] > 0 or np.max(masked_positives[:, col]) > 0:\n",
    "                index = last_positive_indices[col] + 1\n",
    "            else:\n",
    "                index = 0  # If no positive values, start from the beginning\n",
    "            Ql[t] += np.sum(Q[index:, col][Q[index:, col] < 0])\n",
    "    \n",
    "    return time, Qp, Ql"
   ]
  },
  {
   "cell_type": "code",
   "execution_count": 6,
   "id": "858e5385-e6ab-45fd-aa9d-97fa6d63aa18",
   "metadata": {},
   "outputs": [],
   "source": [
    "\n",
    "xsill = 95\n",
    "Qls = [] # lower layer volume flux with sill\n",
    "Ql = [] # lower layer volume flux without sill\n",
    "\n",
    "for i in np.argsort(taum3)+1:\n",
    "    time, Qp1, Ql1 = VolFlux(path3,i,xsill)\n",
    "    #time, Qp2, Ql2 = VolFlux(path2,i,xsill) \n",
    "    Qls.append(Ql1[:13].mean())"
   ]
  },
  {
   "cell_type": "code",
   "execution_count": 14,
   "id": "aca9f23e-4648-413e-a763-5b07ce7461e3",
   "metadata": {},
   "outputs": [
    {
     "data": {
      "text/plain": [
       "Text(0.5, 0, '$\\\\tau_x$ [$N\\\\,m^{-2}$]')"
      ]
     },
     "execution_count": 14,
     "metadata": {},
     "output_type": "execute_result"
    },
    {
     "data": {
      "image/png": "[encoded data removed]",
      "text/plain": [
       "<Figure size 800x400 with 3 Axes>"
      ]
     },
     "metadata": {},
     "output_type": "display_data"
    }
   ],
   "source": [
    "fig4 = plt.figure(figsize=(8,4), tight_layout=True)    \n",
    "\n",
    "ax1 = fig4.add_subplot(122)\n",
    "#plt.axis('square')\n",
    "plt.grid(linestyle = '--', linewidth = 0.5)\n",
    "ax1.plot(taum,[alpha * 100 for alpha in alpha_w1],'v-g',ms=6,label=r'$\\alpha_{11}$',zorder=2)\n",
    "ax1.axvline(x=0, color='grey',ls='-',lw=1,zorder=1)\n",
    "#ax1.set(xlim=(0, 2), ylim=(0.2,0.4))\n",
    "ax1.set(ylim=(20,28))\n",
    "ax1.tick_params(direction='in', labelsize=12)\n",
    "ax1.tick_params(axis='y', colors='green')\n",
    "\n",
    "ax1.set_xticks([-1.5,-1,-0.5,0,0.5,1,1.5])\n",
    "ax1.set_xlabel(r\"$\\tau_x$ [$N\\,m^{-2}$]\",fontsize=12)\n",
    "ax1.set_ylabel(r\"Reflux Fraction (%)\",fontsize=12,color='g')\n",
    "ax1.set_title('(b)',loc='left', size=12, weight='bold')\n",
    "\n",
    "ax2=ax1.twinx()\n",
    "ax2.plot(taum,Qr_w1,'o-r',ms=6,label=r'$Q_r$',zorder=2)\n",
    "ax2.set(ylim=(3200,3800))\n",
    "ax2.tick_params(direction='in', labelsize=12)\n",
    "ax2.spines['left'].set_color('green')\n",
    "ax2.spines['right'].set_color('red')\n",
    "ax2.tick_params(axis='y', colors='red')\n",
    "ax2.set_ylabel(r\"Downward Reflux $[m^3\\,s^{-1}]$\",fontsize=12,color='r')\n",
    "\n",
    "\n",
    "ax3 = fig4.add_subplot(121)\n",
    "plt.grid(linestyle = '--', linewidth = 0.5)\n",
    "#ax1.plot(X,Ql,'s-',c='gray',ms=8,label=r'No Sill')\n",
    "ax3.plot(taum,Qls,'o-',c='k',ms=6,label=r'With Sill')\n",
    "ax3.axvline(x=0, color='grey',ls='-',lw=1,zorder=1)\n",
    "#ax1.legend(loc='best', fontsize=12)\n",
    "ax3.set_title('(a)',loc='left', size=12, weight='bold')\n",
    "ax3.tick_params(direction='in', labelsize=12)\n",
    "ax3.set_xticks([-1.5,-1,-0.5,0,0.5,1,1.5])\n",
    "ax3.set_ylabel(r\"Lower-layer Transport [$m^3\\,s^{-1}$]\",fontsize=12)\n",
    "ax3.set_xlabel(r\"$\\tau_x$ [$N\\,m^{-2}$]\",fontsize=12)"
   ]
  },
  {
   "cell_type": "code",
   "execution_count": 15,
   "id": "98165f6e-da37-4aa9-9ba8-faeb3dc41caa",
   "metadata": {},
   "outputs": [],
   "source": [
    "fig_path =\"/Users/weiyangbao/Documents/Figures/FjordModeling/JorgeMontt/\"\n",
    "if not os.path.exists(fig_path):\n",
    "    os.makedirs(fig_path)\n",
    "\n",
    "#fig3.savefig(fig_path + 'Reflux.png', dpi=300, bbox_inches='tight')\n",
    "fig4.savefig(fig_path + 'TransportFlux.png', dpi=300, bbox_inches='tight')"
   ]
  },
  {
   "cell_type": "code",
   "execution_count": null,
   "id": "7c1c78fc-9bd2-4e8b-95eb-8319aab9175b",
   "metadata": {},
   "outputs": [],
   "source": []
  }
 ],
 "metadata": {
  "kernelspec": {
   "display_name": "Python 3 (ipykernel)",
   "language": "python",
   "name": "python3"
  },
  "language_info": {
   "codemirror_mode": {
    "name": "ipython",
    "version": 3
   },
   "file_extension": ".py",
   "mimetype": "text/x-python",
   "name": "python",
   "nbconvert_exporter": "python",
   "pygments_lexer": "ipython3",
   "version": "3.10.9"
  }
 },
 "nbformat": 4,
 "nbformat_minor": 5
}
