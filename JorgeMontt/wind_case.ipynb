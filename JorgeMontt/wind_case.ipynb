{
 "cells": [
  {
   "cell_type": "code",
   "execution_count": 1,
   "id": "64a59209",
   "metadata": {
    "tags": []
   },
   "outputs": [
    {
     "name": "stderr",
     "output_type": "stream",
     "text": [
      "/opt/miniconda3/envs/pyenv/lib/python3.10/site-packages/utide/harmonics.py:16: RuntimeWarning: invalid value encountered in cast\n",
      "  nshallow = np.ma.masked_invalid(const.nshallow).astype(int)\n",
      "/opt/miniconda3/envs/pyenv/lib/python3.10/site-packages/utide/harmonics.py:17: RuntimeWarning: invalid value encountered in cast\n",
      "  ishallow = np.ma.masked_invalid(const.ishallow).astype(int) - 1\n"
     ]
    }
   ],
   "source": [
    "# Examine wind case results\n",
    "import xarray as xr\n",
    "import numpy as np\n",
    "import matplotlib\n",
    "import matplotlib.pyplot as plt\n",
    "import gsw\n",
    "import cmocean\n",
    "import utide\n",
    "import os, sys\n",
    "# sys.path.append(os.path.abspath('../TEF'))\n",
    "# import TEF_Variables as tef\n",
    "import Functions as fun\n",
    "#sys.path.append(os.path.abspath('/work/oceans/wbao/MITgcm_results/jorgemontt'))"
   ]
  },
  {
   "cell_type": "code",
   "execution_count": 2,
   "id": "f369baad",
   "metadata": {
    "tags": []
   },
   "outputs": [],
   "source": [
    "#path1 = '/work/oceans/wbao/MITgcm_results/jorgemontt/Qsg150_wind'\n",
    "path1 = '/Volumes/T7 Shield/MITgcm_jorgemontt/Qsg150_wind/'\n",
    "path2 = '/Volumes/T7 Shield/MITgcm_jorgemontt/Qsg150_rep_wind/'\n",
    "\n",
    "taum1 = np.array([-0.2, -0.1, 0, 0.1, 0.2, -0.3, -0.4, 0.3, 0.4, -0.8, 0.8, -1.5, 1.5]) # maximum wind stress (single event)\n",
    "taum2 = np.array([-0.2, -0.1, 0.1, 0.2, -0.3, -0.4, 0.3, 0.4, -0.8, 0.8]) # maximum wind stress (repeated events)\n",
    "\n",
    "xrange = np.array([0,97]) # X index range for the segment between glacier and outer sill\n",
    "xsill = 95\n",
    "\n",
    "# Indexes for down-/up-fjord wind\n",
    "down_case1 = [3,4,5,8,9,11,13]\n",
    "up_case1 = [2,1,6,7,10,12]\n",
    "\n",
    "down_case2 = [3,4,7,8,10]\n",
    "up_case2 = [2,1,5,6,9]"
   ]
  },
  {
   "cell_type": "markdown",
   "id": "91dc6fd3-172c-4a02-9436-b2bc73168945",
   "metadata": {},
   "source": [
    "## Wind Forcing"
   ]
  },
  {
   "cell_type": "code",
   "execution_count": 3,
   "id": "12c0f713-0ff3-47d2-877c-60fe0cd9a946",
   "metadata": {},
   "outputs": [],
   "source": [
    "# Zonal Wind Stress\n",
    "externForcingCircle = 30*86400 # Forcing period in second\n",
    "externForcingPeriod = 0.25*86400 # time interval between forcing field records\n",
    "nt = int(externForcingCircle / externForcingPeriod)\n",
    "model_time = np.linspace(0,externForcingCircle,nt+1);\n",
    "up = 0*86400 / externForcingPeriod\n",
    "down = 2.5*86400 / externForcingPeriod\n",
    "ramp = 0.5*86400 / externForcingPeriod\n",
    "taum = taum1.copy() # maximum wind stress\n",
    "\n",
    "zonal_wind_stress = np.zeros((len(taum),nt))\n",
    "\n",
    "nf = int(down+ramp)\n",
    "forcing = np.zeros((len(taum),nf))\n",
    "\n",
    "for i in range(0,len(taum)):\n",
    "    tau = taum[i]\n",
    "    for j in range(nf):\n",
    "        if j <= up - 1:\n",
    "            forcing[i, j] = 0\n",
    "        elif j < up + ramp - 1:\n",
    "            forcing[i, j] = tau * (j - (up - 1)) / ramp\n",
    "        elif j > down-1:\n",
    "            forcing[i, j] = tau * (down + ramp - 1 - j) / ramp\n",
    "        else:\n",
    "            forcing[i, j] = tau\n",
    "\n",
    "zonal_wind_stress[:,:nf] = forcing\n",
    "\n",
    "rt = 1 # number of repeated wind events\n",
    "\n",
    "zonal_wind_stress[:,:nf*rt] = np.tile(forcing, rt)\n",
    "\n",
    "wind = np.concatenate((np.zeros((len(taum),1)), zonal_wind_stress), axis=1)"
   ]
  },
  {
   "cell_type": "code",
   "execution_count": 4,
   "id": "aa3582e4-5d09-4961-9850-cf43bf90cf03",
   "metadata": {},
   "outputs": [
    {
     "data": {
      "image/png": "[encoded data removed]",
      "text/plain": [
       "<Figure size 800x200 with 1 Axes>"
      ]
     },
     "metadata": {},
     "output_type": "display_data"
    }
   ],
   "source": [
    "# Plot zonal wind stress\n",
    "fig0 = plt.figure(figsize=(8,2), tight_layout=True)\n",
    "\n",
    "ax = fig0.add_subplot(111)\n",
    "plt.grid(linestyle = '--', linewidth = 0.5)\n",
    "\n",
    "# for i in range(len(taum)):\n",
    "#     ax.plot(model_time/86400,wind[i,:],lw=2,label=str(taum[i]))\n",
    "\n",
    "casei = 0\n",
    "ax.plot(model_time/86400+60,wind[casei,:],lw=2,label=str(taum[casei]))\n",
    "#\n",
    "#ax.legend(title=r'',loc='best',fontsize=12)\n",
    "ax.set_xlim([60, 90])\n",
    "ax.set_ylim([-.25, .25])\n",
    "#ax1.set_yticks([8.5,9,9.5,10])\n",
    "ax.set_xlabel(r'Model Time [days]', size=12)\n",
    "ax.set_ylabel(r'$\\tau_x$ [$N\\,m^{-2}$]',fontsize=12)\n",
    "ax.tick_params(direction='in', labelsize=12)"
   ]
  },
  {
   "cell_type": "markdown",
   "id": "d280dfd8",
   "metadata": {},
   "source": [
    "## Volume Temperature"
   ]
  },
  {
   "cell_type": "code",
   "execution_count": null,
   "id": "3dc0dd97",
   "metadata": {},
   "outputs": [],
   "source": [
    "# Calculate Volume Temperature\n",
    "Tv1 = []\n",
    "for i in up_case1:\n",
    "    vTemp1, model_time = fun.vol_temp(path1,i,xrange)\n",
    "    Tv1.append(vTemp1)\n",
    "\n",
    "\n",
    "Tv2 = []\n",
    "for j in up_case2:\n",
    "    vTemp2, model_time = vol_temp(path2,j,xrange)\n",
    "    Tv2.append(vTemp2)"
   ]
  },
  {
   "cell_type": "code",
   "execution_count": null,
   "id": "3ef4f87c",
   "metadata": {
    "tags": []
   },
   "outputs": [],
   "source": [
    "day = model_time / 86400 # days\n",
    "\n",
    "fig0 = plt.figure(figsize=(10,4), tight_layout=True)    \n",
    "ax1 = fig0.add_subplot(111)\n",
    "\n",
    "dt = 3600 # time interval of 0.5 day\n",
    "plt.grid(linestyle = '--', linewidth = 0.5)\n",
    "\n",
    "ax1.plot(day[1:],24*np.diff(fun.filt_godin(Tv1[0])),lw=2,label=r'-0.1')\n",
    "ax1.plot(day[1:],24*np.diff(fun.filt_godin(Tv1[1])),lw=2,label=r'-0.2')\n",
    "# ax1.plot(day[1:],24*np.diff(filt_godin(Tv1[2])),lw=2,label=r'-0.3')\n",
    "# ax1.plot(day[1:],24*np.diff(filt_godin(Tv1[3])),lw=2,label=r'-0.4')\n",
    "# ax1.plot(day[1:],24*np.diff(filt_godin(Tv1[0])),lw=2,label=r'0')\n",
    "# ax1.plot(day[1:],24*np.diff(filt_godin(Tv2[0])),lw=2,label=r'-0.1')\n",
    "# ax1.plot(day[1:],24*np.diff(filt_godin(Tv2[1])),lw=2,label=r'-0.2')\n",
    "# ax1.plot(day[1:],24*np.diff(filt_godin(Tv2[2])),lw=2,label=r'-0.3')\n",
    "# ax1.plot(day[1:],24*np.diff(filt_godin(Tv2[3])),lw=2,label=r'-0.4')\n",
    "ax1.axhline(y=0, color='k',linestyle='--', linewidth=.5)\n",
    "\n",
    "ax1.legend(title=r'$\\tau_x\\,[N\\,m^{-2}]$',title_fontsize=12, loc='upper right',fontsize=12)\n",
    "\n",
    "ax1.set(xlim=(60, 90), ylim=(-0.15, 0.15))\n",
    "ax1.tick_params(direction='in', labelsize=12)\n",
    "ax1.set_xlabel('Days',fontsize=12)\n",
    "ax1.set_ylabel(r'$\\frac{dT_v}{dt}$ [$^\\circ C\\;d^{-1}$]',fontsize=12)\n",
    "\n",
    "#fig_path =\"/home/1959/Jupyter_Figs/FjordModeling/JorgeMontt/\"\n",
    "fig_path =\"/Users/weiyangbao/Documents/Figures/FjordModeling/JorgeMontt/\"\n",
    "#fig0.savefig(fig_path + 'volTemp_up-wind_rep.png', dpi=300, bbox_inches='tight')"
   ]
  },
  {
   "cell_type": "markdown",
   "id": "68646417",
   "metadata": {},
   "source": [
    "## TEF"
   ]
  },
  {
   "cell_type": "code",
   "execution_count": null,
   "id": "e141181b",
   "metadata": {},
   "outputs": [],
   "source": [
    "Qin1 = []\n",
    "Qout1 = []\n",
    "Sin1 = []\n",
    "Sout1 = []\n",
    "xsill = 95 # index for outer sill\n",
    "\n",
    "for i in up_case1:    \n",
    "    qin, qout, sin, sout = fun.tef_transport(path1,i,xsill)\n",
    "   \n",
    "    Qin1.append(qin)\n",
    "    Qout1.append(qout)\n",
    "    Sin1.append(sin)\n",
    "    Sout1.append(sout)\n"
   ]
  },
  {
   "cell_type": "code",
   "execution_count": null,
   "id": "30164613-1c53-483b-b2e0-07067826afaa",
   "metadata": {
    "tags": []
   },
   "outputs": [],
   "source": [
    "Qin2 = []\n",
    "Qout2 = []\n",
    "Sin2 = []\n",
    "Sout2 = []\n",
    "\n",
    "for i in up_case2:    \n",
    "    qin, qout, sin, sout = tef_transport(path2,i,xsill)\n",
    "   \n",
    "    Qin2.append(qin)\n",
    "    Qout2.append(qout)\n",
    "    Sin2.append(sin)\n",
    "    Sout2.append(sout)"
   ]
  },
  {
   "cell_type": "code",
   "execution_count": null,
   "id": "28fb7310",
   "metadata": {},
   "outputs": [],
   "source": [
    "Qp = []\n",
    "Qn = []\n",
    "\n",
    "for i in caseid:    \n",
    "    time, q1, q2 = fun.volflux_ts(path1,i,xsill)\n",
    "   \n",
    "    Qp.append(q1)\n",
    "    Qn.append(q2)"
   ]
  },
  {
   "cell_type": "code",
   "execution_count": null,
   "id": "027d532e",
   "metadata": {},
   "outputs": [],
   "source": [
    "\n",
    "fig1 = plt.figure(figsize=(10,4), tight_layout=True)    \n",
    "ax1 = fig1.add_subplot(111)\n",
    "\n",
    "\n",
    "plt.grid(linestyle = '--', linewidth = 0.5)\n",
    "\n",
    "ax1.plot(day,fun.filt_godin(Qin1[0])/1e3,lw=2,label=r'-0.1')\n",
    "# ax1.plot(day,filt_godin(Qin2[0])/1e3,lw=2,label=r'0.1')\n",
    "ax1.plot(day,fun.filt_godin(Qin1[1])/1e3,lw=2,label=r'-0.2')\n",
    "# ax1.plot(day,filt_godin(Qin1[2])/1e3,lw=2,label=r'-0.3')\n",
    "# ax1.plot(day,filt_godin(Qin1[3])/1e3,lw=2,label=r'-0.4')\n",
    "#ax1.axhline(y=0, color='k',linestyle='--', linewidth=.5)\n",
    "\n",
    "ax1.legend(title=r'$\\tau_x\\,[N\\,m^{-2}]$',title_fontsize=12, loc='upper right',fontsize=12)\n",
    "ax1.set(xlim=(60, 90), ylim=(4, 12))\n",
    "ax1.tick_params(direction='in', labelsize=12)\n",
    "ax1.set_xlabel('Days',fontsize=12)\n",
    "ax1.set_ylabel(r'$Q_{out}$ [$\\times 10^3\\,m^3\\,s^{-1}$]',fontsize=12)\n",
    "\n",
    "#fig_path =\"/home/1959/Jupyter_Figs/FjordModeling/JorgeMontt/\"\n",
    "\n",
    "#fig0.savefig(fig_path + 'volTemp_singlewind.png', dpi=300, bbox_inches='tight')\n",
    "#fig1.savefig('/Users/weiyangbao/Documents/Figures/FjordModeling/JorgeMontt/Qout_down-wind_rep.png', dpi=300, bbox_inches='tight')"
   ]
  },
  {
   "cell_type": "code",
   "execution_count": null,
   "id": "3365b515",
   "metadata": {},
   "outputs": [],
   "source": [
    "\n",
    "fig1s = plt.figure(figsize=(10,4), tight_layout=True)    \n",
    "ax1 = fig1s.add_subplot(111)\n",
    "\n",
    "\n",
    "plt.grid(linestyle = '--', linewidth = 0.5)\n",
    "\n",
    "# ax1.plot(day,filt_godin(Qp[4])/1e3,lw=2,label=r'0.2')\n",
    "# ax1.plot(day,filt_godin(Qp[3])/1e3,lw=2,label=r'0.1')\n",
    "# ax1.plot(day,filt_godin(Qp[2])/1e3,lw=2,label=r'0')\n",
    "ax1.plot(time,fun.filt_godin(Qp[1])/1e3,lw=2,label=r'-0.2')\n",
    "ax1.plot(time,fun.filt_godin(Qp[0])/1e3,lw=2,label=r'-0.1')\n",
    "#ax1.axhline(y=0, color='k',linestyle='--', linewidth=.5)\n",
    "\n",
    "ax1.legend(title=r'$\\tau_x\\,[N\\,m^{-2}]$',title_fontsize=12, loc='upper right',fontsize=12)\n",
    "ax1.set(xlim=(60, 90), ylim=(5, 11))\n",
    "ax1.tick_params(direction='in', labelsize=12)\n",
    "ax1.set_xlabel('Days',fontsize=12)\n",
    "ax1.set_ylabel(r'$Q_{out}$ [$\\times 10^3\\,m^3\\,s^{-1}$]',fontsize=12)\n"
   ]
  },
  {
   "cell_type": "markdown",
   "id": "40ac0856-a277-4ae4-9c10-75d4b2efd24e",
   "metadata": {},
   "source": [
    "## Profiles"
   ]
  },
  {
   "cell_type": "code",
   "execution_count": null,
   "id": "164755d9",
   "metadata": {},
   "outputs": [],
   "source": [
    "# Get vertical profiles at selected location\n",
    "def z_prof(datapath, case_id, xi):\n",
    "    \n",
    "    State0 = xr.open_dataset(datapath+'/state_' + str(format(case_id,'03d')) + '.nc')\n",
    "    State = State0.isel(T=~State0.get_index(\"T\").duplicated())    \n",
    "    # Confine to the range of fjord\n",
    "    state = State.isel(X=range(200), Xp1=range(201), Y=range(35,45))\n",
    "\n",
    "    U = (state.U.data[:,:,:,1:] + state.U.data[:,:,:,:-1]) / 2 # Along-channel velocity\n",
    "    Utz = U[:,:,:,xi].mean(2)\n",
    "    Depth = state.Z.data\n",
    "    \n",
    "    return Utz, Depth"
   ]
  },
  {
   "cell_type": "code",
   "execution_count": null,
   "id": "cf9c3ef1",
   "metadata": {},
   "outputs": [],
   "source": [
    "day[72]"
   ]
  },
  {
   "cell_type": "code",
   "execution_count": null,
   "id": "f338c6f9",
   "metadata": {},
   "outputs": [],
   "source": [
    "Uz = []\n",
    "#xid = 70 # index for outer sill\n",
    "\n",
    "for i in caseid:    \n",
    "    Utz, Depth = z_prof(path1,i,xid)\n",
    "    u = Utz[:73,:].mean(0) # Average during the 3-day wind\n",
    "    Uz.append(u)\n"
   ]
  },
  {
   "cell_type": "code",
   "execution_count": null,
   "id": "3bb05a24",
   "metadata": {},
   "outputs": [],
   "source": [
    "fig2 = plt.figure(figsize=(5,5), tight_layout=True)    \n",
    "ax1 = fig2.add_subplot(111)\n",
    "\n",
    "\n",
    "plt.grid(linestyle = '--', linewidth = 0.5)\n",
    "\n",
    "ax1.plot(Uz[4],Depth,lw=2,label=r'0.2')\n",
    "ax1.plot(Uz[3],Depth,lw=2,label=r'0.1')\n",
    "ax1.plot(Uz[2],Depth,lw=2,label=r'0')\n",
    "ax1.plot(Uz[1],Depth,lw=2,label=r'-0.1')\n",
    "ax1.plot(Uz[0],Depth,lw=2,label=r'-0.2')\n",
    "ax1.axvline(x=0, color='k',linestyle='-', linewidth=.5)\n",
    "\n",
    "ax1.legend(title=r'$\\tau_x\\,[N\\,m^{-2}]$',title_fontsize=12, loc='best',fontsize=12)\n",
    "ax1.set(xlim=(-.4,.4),ylim=(-50, 0))\n",
    "ax1.tick_params(direction='in', labelsize=12)\n",
    "ax1.set_xlabel(r'Along-fjord velocity [$m\\,s^{-1}$]',fontsize=12)\n",
    "ax1.set_ylabel(r'Depth [$m$]',fontsize=12)\n",
    "\n",
    "fig_path =\"/home/1959/Jupyter_Figs/FjordModeling/JorgeMontt/\""
   ]
  },
  {
   "cell_type": "code",
   "execution_count": null,
   "id": "7b638116",
   "metadata": {},
   "outputs": [],
   "source": [
    "grid = xr.open_dataset(path1+'grid.nc')\n",
    "grid"
   ]
  },
  {
   "cell_type": "code",
   "execution_count": null,
   "id": "706e304f-96a3-4bf9-a8a5-9c0df8765218",
   "metadata": {},
   "outputs": [],
   "source": [
    "area = grid.drF * grid.dyF * grid.HFacC\n",
    "#grid.dyF\n",
    "#grid.HFacC\n",
    "area[20:40,35:45,5]"
   ]
  },
  {
   "cell_type": "code",
   "execution_count": null,
   "id": "7bdf6d24-3ca4-488c-b34b-4ce088454919",
   "metadata": {},
   "outputs": [],
   "source": []
  }
 ],
 "metadata": {
  "kernelspec": {
   "display_name": "Python 3 (ipykernel)",
   "language": "python",
   "name": "python3"
  },
  "language_info": {
   "codemirror_mode": {
    "name": "ipython",
    "version": 3
   },
   "file_extension": ".py",
   "mimetype": "text/x-python",
   "name": "python",
   "nbconvert_exporter": "python",
   "pygments_lexer": "ipython3",
   "version": "3.10.9"
  }
 },
 "nbformat": 4,
 "nbformat_minor": 5
}
