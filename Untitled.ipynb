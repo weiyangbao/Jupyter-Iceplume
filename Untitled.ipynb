{
 "cells": [
  {
   "cell_type": "code",
   "execution_count": 1,
   "metadata": {},
   "outputs": [],
   "source": [
    "# Efflux / Reflux (Cokelet & Stewart, 1985)\n",
    "import xarray as xr\n",
    "import numpy as np\n",
    "import matplotlib.pyplot as plt\n",
    "import os\n",
    "import glob"
   ]
  },
  {
   "cell_type": "code",
   "execution_count": 2,
   "metadata": {},
   "outputs": [],
   "source": [
    "hs = 1\n",
    "state01 = xr.open_dataset('/Volumes/Extreme SSD/MITgcm outputs/Qsg500/state_' + str(format(hs,'03d')) + '.nc')\n",
    "adv01 = xr.open_dataset('/Volumes/Extreme SSD/MITgcm outputs/Qsg500/Adv_' + str(format(hs,'03d')) + '.nc')\n",
    "State = state01.isel(Y=range(30,39), T=range(89,121), X=range(120), Xp1=range(121))\n",
    "Adv = adv01.isel(T=range(88,120), Xp1=range(121)) \n",
    "#Grid01 = xr.open_dataset('/Volumes/Extreme SSD/MITgcm outputs/qf700_rot/grid_' + str(format(hs,'03d')) + '.nc')\n",
    "#Dif01 = xr.open_dataset('/Volumes/Extreme SSD/MITgcm outputs/qf700_rot/Dif_' + str(format(hs,'03d')) + '.nc')\n",
    "#adv = xr.open_dataset('/Volumes/Extreme SSD/MITgcm outputs/qf700_rot/Adv_' + str(format(hs,'03d')) + '.nc')\n",
    "#Grid = Grid01.isel(X=range(120), Xp1=range(121), Y=range(30,39))\n",
    "#S0 = State.S.data\n",
    "#szx = S0.mean(axis=(0,2))\n",
    "#mask = (szx == 0) # Exclude data covered by the sill\n",
    "#szx[mask] = np.nan\n",
    "#S1 = np.ma.masked_where(szx==0, szx)\n",
    "#mean = np.abs(S1[:,-1] - (S1[:,-1].max()+S1[:,-1].min())/2)\n",
    "\n",
    "#State.Xp1.data[48:73]\n"
   ]
  },
  {
   "cell_type": "code",
   "execution_count": 5,
   "metadata": {},
   "outputs": [
    {
     "data": {
      "text/plain": [
       "(500.0,\n",
       " 550.0,\n",
       " 4782.763938838424,\n",
       " 4827.714177179812,\n",
       " 5803.325828523144,\n",
       " 5813.326713404185,\n",
       " 6802.209507828041,\n",
       " 6846.84378198635)"
      ]
     },
     "execution_count": 5,
     "metadata": {},
     "output_type": "execute_result"
    }
   ],
   "source": [
    "time = State.T.data / 3600\n",
    "xw = State.Xp1.data\n",
    "xc = State.X.data\n",
    "\n",
    "xw[5], xc[5], xw[48], xc[48], xw[72], xc[72], xw[97], xc[97]\n",
    "#State.T.data, Adv.T.data"
   ]
  },
  {
   "cell_type": "code",
   "execution_count": null,
   "metadata": {},
   "outputs": [],
   "source": [
    "# /Volumes/Extreme SSD/MITgcm outputs/qf700_shelfTr\n",
    "# ../Model_outputs/tracer_test/ptracers_001.nc\n",
    "file1 = xr.open_dataset('/Volumes/Extreme SSD/MITgcm outputs/qf700_shelfTr/ptracers_001.nc')\n",
    "Grid = xr.open_dataset('/Volumes/Extreme SSD/MITgcm outputs/qf700_shelfTr/grid_001.nc')\n",
    "HFacC = Grid.HFacC.data\n",
    "drF = Grid.drF.data\n",
    "rA = Grid.rA.data\n",
    "cv = np.broadcast_to(rA[np.newaxis, :, :], HFacC.shape) * np.broadcast_to(drF[:, np.newaxis, np.newaxis], HFacC.shape) * HFacC\n",
    "#file2 = xr.open_dataset('../Model_outputs/ptracer_test/statTRAC01_001.nc')\n",
    "tr1 = file1.tr1_age.data\n",
    "tr2 = file1.tr1_rlx.data\n",
    "time = file1.T.data\n",
    "#Grid.rA#(YX)\n",
    "#Grid.HFacC(zyx)\n",
    "#Grid.X.data[118:120]"
   ]
  },
  {
   "cell_type": "code",
   "execution_count": null,
   "metadata": {},
   "outputs": [],
   "source": [
    "Tr1 = np.empty(len(time))\n",
    "Tr2 = np.empty(len(time))\n",
    "for t in range(len(time)):\n",
    "    Tr1[t] = np.sum(tr1[t,:,:,120:-1]*cv[:,:,120:-1]) / cv[:,:,120:-1].sum()\n",
    "    Tr2[t] = np.sum(tr2[t,:,:,120:-1]*cv[:,:,120:-1]) / cv[:,:,120:-1].sum()\n",
    "\n",
    "#tr1[1,40,:,120].sum(), tr1[10,40:,:,120].sum()\n",
    "tr1[0,:,40,-1], tr2[10,:,30:39,118]\n"
   ]
  },
  {
   "cell_type": "code",
   "execution_count": null,
   "metadata": {},
   "outputs": [],
   "source": [
    "fig1,ax1 = plt.subplots(figsize=(10,6))\n",
    "fig1.tight_layout()\n",
    "\n",
    "ax1.plot(time/86400,Tr1,'o-',label=r'A')\n",
    "ax1.plot(time/86400,Tr2,'o-',label=r'B')\n",
    "ax1.legend(title=r'Shelf Water Tracer',loc='best',fontsize=15)\n",
    "ax1.grid('on',lw=.25)\n",
    "ax1.set_ylabel(r'Concentration', size=15)\n",
    "ax1.set_xlabel(r'Time (d)', size=15)"
   ]
  },
  {
   "cell_type": "code",
   "execution_count": null,
   "metadata": {},
   "outputs": [],
   "source": [
    "tr1[0,40:,:,122].sum()"
   ]
  },
  {
   "cell_type": "code",
   "execution_count": null,
   "metadata": {},
   "outputs": [],
   "source": [
    "fig_path = \"/Users/weiyangbao/Documents/Results_Figs/PTRACERS/\"\n",
    "if not os.path.exists(fig_path):\n",
    "    os.makedirs(fig_path)\n",
    "\n",
    "fig1.savefig(fig_path + '/shelfTr_C.png', dpi=200, bbox_inches='tight')"
   ]
  },
  {
   "cell_type": "code",
   "execution_count": null,
   "metadata": {},
   "outputs": [],
   "source": []
  }
 ],
 "metadata": {
  "kernelspec": {
   "display_name": "Python 3",
   "language": "python",
   "name": "python3"
  },
  "language_info": {
   "codemirror_mode": {
    "name": "ipython",
    "version": 3
   },
   "file_extension": ".py",
   "mimetype": "text/x-python",
   "name": "python",
   "nbconvert_exporter": "python",
   "pygments_lexer": "ipython3",
   "version": "3.7.9"
  }
 },
 "nbformat": 4,
 "nbformat_minor": 4
}
