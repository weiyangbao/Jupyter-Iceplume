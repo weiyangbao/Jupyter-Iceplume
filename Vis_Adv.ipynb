{
 "cells": [
  {
   "cell_type": "code",
   "execution_count": 1,
   "metadata": {},
   "outputs": [],
   "source": [
    "import xarray as xr\n",
    "import numpy as np\n",
    "import matplotlib.pyplot as plt\n",
    "import os"
   ]
  },
  {
   "cell_type": "code",
   "execution_count": 2,
   "metadata": {},
   "outputs": [],
   "source": [
    "file1 = xr.open_dataset('/Users/weiyangbao/Documents/Model_outputs/drag_010/state_007.nc')\n",
    "file2 = xr.open_dataset('/Users/weiyangbao/Documents/Model_outputs/drag_010/kpp_state_007.nc')\n",
    "\n",
    "t0 = 60 # Start from day 30\n",
    "tn = len(file1.T) # End day\n",
    "state1 = file1.isel(Y = range(1,10), T = range(t0,tn)) # Remove the boundary walls in y direction\n",
    "state2 = file2.isel(Y = range(1,10), T = range(t0-1,tn-1)) # Remove the boundary walls in y direction"
   ]
  },
  {
   "cell_type": "code",
   "execution_count": 3,
   "metadata": {},
   "outputs": [
    {
     "name": "stderr",
     "output_type": "stream",
     "text": [
      "/Users/weiyangbao/miniconda3/envs/py37/lib/python3.7/site-packages/ipykernel_launcher.py:25: RuntimeWarning: invalid value encountered in greater\n"
     ]
    }
   ],
   "source": [
    "Hs = 10\n",
    "Qf = 700\n",
    "\n",
    "X = state1.X.data\n",
    "x_dist = X / 1000\n",
    "depth = state1.Z.data\n",
    "Az = state2.KPPviscAz.data.mean(axis=(0,2)) # Time-average and Y-average vertical eddy viscosity\n",
    "pt = state1.Temp.data.mean(axis=(0,2))\n",
    "u0 = state1.U.data # dims = T, Z, Y, Xp1\n",
    "u_ymean = (u0[:, :, :, 1:].mean(2) + u0[:, :, :, :-1].mean(2)) / 2\n",
    "u = u_ymean.mean(0) # dims = Z, X\n",
    "u[u==0] = np.nan\n",
    "#u_x = np.gradient(u, X, axis=1)\n",
    "#u_z = np.gradient(u, depth, axis=0)\n",
    "#vis = np.gradient(Az*u_z, depth, axis=0)\n",
    "u_x = np.diff(u, axis=1, prepend=0) / 200\n",
    "u_z = np.diff(pt, axis=0, prepend=0)\n",
    "dz = np.tile(np.diff(-depth,prepend=0),(50,1)).T\n",
    "\n",
    "#vis = np.diff(Az*(u_z/dz), axis=0, prepend=0) / dz\n",
    "vis = Az * u_z\n",
    "adv = u * u_x\n",
    "R = abs(vis/adv)\n",
    "\n",
    "R[R>5] = 5"
   ]
  },
  {
   "cell_type": "code",
   "execution_count": 4,
   "metadata": {},
   "outputs": [],
   "source": [
    "# Find the uppler and lower layer depth above the sill crest\n",
    "def Layer(u):\n",
    "    # Layer interface, zero velocity crossing point\n",
    "    #l = np.empty(len(X)-1)\n",
    "    h1 = np.empty(len(X)-2)\n",
    "    for i in range(1,len(X)-1):\n",
    "        l = np.where(u[:, i] < 0)[-1][0] - 1\n",
    "        #h1[i-1] = -depth[l]\n",
    "        # Calculate layer depth\n",
    "        if l <= 9:\n",
    "            h1[i-1] = -depth[l]+0.25\n",
    "        elif l <= 19:\n",
    "            h1[i-1] = -depth[l]+0.5\n",
    "        elif l <= 29:\n",
    "            h1[i-1] = -depth[l]+0.75\n",
    "        elif l <= 39:\n",
    "            h1[i-1] = -depth[l]+2\n",
    "        elif l <= 49:\n",
    "            h1[i-1] = -depth[l]+4\n",
    "    return h1"
   ]
  },
  {
   "cell_type": "code",
   "execution_count": 5,
   "metadata": {},
   "outputs": [],
   "source": [
    "h1 = Layer(u)"
   ]
  },
  {
   "cell_type": "code",
   "execution_count": 6,
   "metadata": {},
   "outputs": [
    {
     "data": {
      "text/plain": [
       "Text(0, 0.5, 'Depth (m)')"
      ]
     },
     "execution_count": 6,
     "metadata": {},
     "output_type": "execute_result"
    },
    {
     "data": {
      "image/png": "[encoded data removed]",
      "text/plain": [
       "<Figure size 1440x432 with 2 Axes>"
      ]
     },
     "metadata": {
      "needs_background": "light"
     },
     "output_type": "display_data"
    }
   ],
   "source": [
    "fig_path = \"/Users/weiyangbao/Documents/Model_outputs/Vis_Adv/\"\n",
    "#fig_path = \"/home/1959/Jupyter_Figs/sill30/FrPseries/\"\n",
    "if not os.path.exists(fig_path):\n",
    "    os.makedirs(fig_path)\n",
    "\n",
    "fig, ax = plt.subplots(figsize=(20,6)) \n",
    "#ca = np.linspace(1e-7,1e-6,10) # Contour range for viscous term\n",
    "#ca = np.linspace(0,5,11) # Contour range for R\n",
    "#plt.contourf(x_dist,depth[:24], vis[:24,:], 10, cmap='YlGnBu', extend='both')\n",
    "\n",
    "ca = np.linspace(-18,0,10) # Contour range for viscous term\n",
    "plt.contourf(x_dist,depth[:24], vis[:24,:]*40000, 20, cmap='YlGnBu', extend='max')\n",
    "\n",
    "#CS = plt.contour(x_dist,depth[:24],vis[:24,:],10, colors = 'gray')\n",
    "#plt.clabel(CS, fmt='%1.10f', fontsize=15, inline=1)\n",
    "\n",
    "plt.plot(x_dist[1:-1],-h1,'--w', lw=3)\n",
    "#ax.axvline(x_dist[28],color='g', lw=3)\n",
    "\n",
    "import matplotlib.ticker\n",
    "class OOMFormatter(matplotlib.ticker.ScalarFormatter):\n",
    "    def __init__(self, order=0, fformat=\"%1.1f\", offset=True, mathText=True):\n",
    "        self.oom = order\n",
    "        self.fformat = fformat\n",
    "        matplotlib.ticker.ScalarFormatter.__init__(self,useOffset=offset,useMathText=mathText)\n",
    "    def _set_orderOfMagnitude(self, nothing):\n",
    "        self.orderOfMagnitude = self.oom\n",
    "    def _set_format(self, vmin, vmax):\n",
    "        self.format = self.fformat\n",
    "        if self._useMathText:\n",
    "            self.format = '$%s$' % matplotlib.ticker._mathdefault(self.format)\n",
    "\n",
    "#cbar.ax.tick_params(labelsize=12)\n",
    "cbar = plt.colorbar()\n",
    "#cbar = plt.colorbar(ticks=np.linspace(1e-7,1e-6,10), format=OOMFormatter(-7, mathText=True))\n",
    "#cbar.set_label(r'$\\frac{(A_zu_z)_z}{uu_x}$', size=15, weight='bold', rotation=0)\n",
    "cbar.set_label(r'$(A_zu_z)_z$  $[m/s^2]$', size=15, weight='bold', labelpad=-80, y=0.55)\n",
    "plt.yticks(fontsize = 15)\n",
    "plt.xticks(fontsize = 15)\n",
    "plt.title('H$_{s}$ = '  + str(Hs) + ' m, Q$_{f}$ = ' + str(Qf) + ' m\\u00B3/s', size = 20, weight = 'bold')\n",
    "ax.set_xlabel('Distance from glacier (km)', size = 15, weight = 'bold')\n",
    "ax.set_ylabel('Depth (m)', size = 15, weight = 'bold')\n",
    "\n",
    "#fig.savefig(fig_path + '/Vis' + str(Hs) + '.png', dpi = 150, bbox_inches='tight')"
   ]
  },
  {
   "cell_type": "code",
   "execution_count": 7,
   "metadata": {},
   "outputs": [
    {
     "data": {
      "text/plain": [
       "(array([135.,  27.,  17.,  17.,  17.,  13.,   9.,   3.,   2.,   2.]),\n",
       " array([0.e+00, 1.e-08, 2.e-08, 3.e-08, 4.e-08, 5.e-08, 6.e-08, 7.e-08,\n",
       "        8.e-08, 9.e-08, 1.e-07]),\n",
       " <a list of 10 Patch objects>)"
      ]
     },
     "execution_count": 7,
     "metadata": {},
     "output_type": "execute_result"
    },
    {
     "data": {
      "image/png": "[encoded data removed]",
      "text/plain": [
       "<Figure size 720x432 with 1 Axes>"
      ]
     },
     "metadata": {
      "needs_background": "light"
     },
     "output_type": "display_data"
    }
   ],
   "source": [
    "fig = plt.subplots(figsize=(10,6)) \n",
    "A = vis[:24,:]\n",
    "plt.hist(A[~np.isnan(A)], range=(0,1e-7))"
   ]
  },
  {
   "cell_type": "code",
   "execution_count": 10,
   "metadata": {},
   "outputs": [
    {
     "data": {
      "text/plain": [
       "array([ 0.00000000e+00,  5.57310616e-03,  1.05226973e-02,  1.20064303e-02,\n",
       "        1.24336782e-02,  1.28416619e-02,  1.54942174e-02,  1.40679016e-02,\n",
       "        1.77033457e-02,  1.40976564e-02,  3.90689638e-02,  6.08036773e-02,\n",
       "        4.57519141e+00,  2.59672065e+01,  4.90401464e+01,  1.22425390e+00,\n",
       "       -1.34729348e-01, -2.55351458e-02, -1.57137450e-04, -2.99031033e-03,\n",
       "        5.63838775e-03,  2.72948057e-03, -3.58104487e-03, -4.45546235e-03,\n",
       "       -2.66422107e-03, -6.65192434e-04,  3.81964771e-03,  4.39454521e-03,\n",
       "        7.22903508e-03,  3.18693871e-03,  7.19477221e-03, -2.08306159e-04,\n",
       "       -0.00000000e+00,  0.00000000e+00,  0.00000000e+00,  0.00000000e+00,\n",
       "        0.00000000e+00,  0.00000000e+00,  0.00000000e+00,  0.00000000e+00,\n",
       "        0.00000000e+00,  0.00000000e+00,  0.00000000e+00,  0.00000000e+00,\n",
       "        0.00000000e+00,  0.00000000e+00,  0.00000000e+00,  0.00000000e+00,\n",
       "        0.00000000e+00,  0.00000000e+00])"
      ]
     },
     "execution_count": 10,
     "metadata": {},
     "output_type": "execute_result"
    }
   ],
   "source": [
    "V = vis * 200 * 200\n",
    "V[:,27]"
   ]
  },
  {
   "cell_type": "code",
   "execution_count": null,
   "metadata": {},
   "outputs": [],
   "source": []
  }
 ],
 "metadata": {
  "kernelspec": {
   "display_name": "Python 3",
   "language": "python",
   "name": "python3"
  },
  "language_info": {
   "codemirror_mode": {
    "name": "ipython",
    "version": 3
   },
   "file_extension": ".py",
   "mimetype": "text/x-python",
   "name": "python",
   "nbconvert_exporter": "python",
   "pygments_lexer": "ipython3",
   "version": "3.7.9"
  }
 },
 "nbformat": 4,
 "nbformat_minor": 4
}
