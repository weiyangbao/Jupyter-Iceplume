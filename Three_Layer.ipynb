{
 "cells": [
  {
   "cell_type": "code",
   "execution_count": 3,
   "id": "09684b01",
   "metadata": {},
   "outputs": [],
   "source": [
    "# Exchange fluxes above the sill\n",
    "import xarray as xr\n",
    "import numpy as np\n",
    "import matplotlib.pyplot as plt\n",
    "import os"
   ]
  },
  {
   "cell_type": "code",
   "execution_count": 4,
   "id": "1f802c8a",
   "metadata": {},
   "outputs": [
    {
     "name": "stdout",
     "output_type": "stream",
     "text": [
      "Sill Index: west=120,center=178,east=235\n"
     ]
    }
   ],
   "source": [
    "sd = 4 # Sill depth\n",
    "#/Volumes/Extreme SSD/MITgcm outputs\n",
    "#/work/oceans/wbao/MITgcm_results/iceplume/fjord_test\n",
    "#/Users/weiyangbao/.CMVolumes/Caviness-group/iceplume/\n",
    "file1 = xr.open_dataset('/work/oceans/wbao/MITgcm_results/iceplume/2_Qsg_minhs/state_' + str(format(sd,'03d')) + '.nc')\n",
    "state1 = file1.isel(T=~file1.get_index(\"T\").duplicated())\n",
    "grid1 = xr.open_dataset('/work/oceans/wbao/MITgcm_results/iceplume/2_Qsg_minhs/grid_' + str(format(sd,'03d')) + '.nc')\n",
    "\n",
    "day = state1.T.data / 86400\n",
    "\n",
    "vol = grid1.HFacC * grid1.drF * grid1.rA # Z Y X\n",
    "areaC = grid1.HFacC * grid1.drF * grid1.dyF # Z Y X\n",
    "areaW = grid1.HFacW * grid1.drF * grid1.dyG # Z Y Xp1\n",
    "temp = state1.Temp.data\n",
    "s = state1.S.where(grid1.HFacC>0)\n",
    "u = state1.U.where(grid1.HFacW>0)\n",
    "sW = np.where(grid1.HFacC[-1,40,1:] == 0)[-1][0] # Sill west edge index\n",
    "sE = np.where(grid1.HFacC[-1,40,1:] == 0)[-1][-1] # Sill east edge index\n",
    "sC = np.ceil((sW+sE)/2).astype(int) # Sill crest index (178)\n",
    "\n",
    "print('Sill Index: west=' + str(sW) + ',center='+str(sC)+',east='+str(sE))"
   ]
  },
  {
   "cell_type": "code",
   "execution_count": null,
   "id": "8734697c",
   "metadata": {},
   "outputs": [],
   "source": [
    "grid1.drF, grid1.dyF, grid1.HFacC"
   ]
  },
  {
   "cell_type": "code",
   "execution_count": 5,
   "id": "539c55d3",
   "metadata": {},
   "outputs": [],
   "source": [
    "uzx = state1.U.data[90:,:,35:45,:].mean(axis=(0,2))\n",
    "szx = state1.S.data[90:,:,35:45,:].mean(axis=(0,2))\n",
    "Qw = u[90:,:,35:45,sW].data.mean(0) * areaW[:,35:45,sW].data\n",
    "Qe = u[90:,:,35:45,sE].data.mean(0) * areaW[:,35:45,sE].data\n",
    "Fw = s.data[90:,:,35:45,sE].mean(0) * Qw\n",
    "Fe = s.data[90:,:,35:45,sW].mean(0) * Qe\n",
    "#Qw[Qw>0].sum()"
   ]
  },
  {
   "cell_type": "code",
   "execution_count": 6,
   "id": "9ae25375",
   "metadata": {},
   "outputs": [
    {
     "name": "stderr",
     "output_type": "stream",
     "text": [
      "/home/1959/local/bin/miniconda3/envs/py37/lib/python3.7/site-packages/ipykernel_launcher.py:8: RuntimeWarning: invalid value encountered in double_scalars\n",
      "  \n",
      "/home/1959/local/bin/miniconda3/envs/py37/lib/python3.7/site-packages/ipykernel_launcher.py:9: RuntimeWarning: invalid value encountered in double_scalars\n",
      "  if __name__ == '__main__':\n"
     ]
    }
   ],
   "source": [
    "usE = uzx[:,sE]\n",
    "usW=uzx[:,sW]\n",
    "# Layer interface\n",
    "lW = np.where(usW > 0)[0][0]\n",
    "lE = np.where(usE > 0)[0][0]\n",
    "QW = Qw[:lW,:].sum()\n",
    "QE = Qe[:lE,:].sum()\n",
    "SW = Fw[:lW,:].sum() / QW\n",
    "SE = Fe[:lE,:].sum() / QE\n",
    "#print('Volume flux: west=' + str(QW) + ',east='+str(QE)+'; Salinity: west='+str(SW)+',east='+str(SE))"
   ]
  },
  {
   "cell_type": "code",
   "execution_count": 9,
   "id": "d8576f0f",
   "metadata": {},
   "outputs": [
    {
     "data": {
      "text/plain": [
       "array([  0.04838562,   0.15340233,   0.33768272,   0.58280563,\n",
       "         0.9275856 ,   1.4185638 ,   1.855154  ,   2.0773735 ,\n",
       "         2.1535702 ,   2.187025  ,   2.2113495 ,   2.2323112 ,\n",
       "         2.2519417 ,   2.269617  ,   2.2842445 ,   2.2961864 ,\n",
       "         2.3067818 ,   2.3171616 ,   2.3277798 ,   2.3387547 ,\n",
       "         2.3541145 ,   2.3819847 ,   2.420658  ,   2.4645252 ,\n",
       "         2.5096416 ,   2.5526886 ,   2.591999  ,   2.627493  ,\n",
       "         2.6598644 ,   2.6897316 ,   2.7173443 ,   2.7430344 ,\n",
       "         2.7675323 ,   2.790985  ,   2.8138504 ,   2.8360977 ,\n",
       "         2.8576946 ,   2.8782578 ,   2.8978767 ,   2.9164562 ,\n",
       "         2.9340115 ,   2.950325  ,   2.965269  ,   2.9787197 ,\n",
       "         2.9903545 ,   3.0003796 ,   3.0088882 ,   3.015833  ,\n",
       "         3.021534  ,   3.0262241 ,   3.030037  ,   3.0323315 ,\n",
       "         3.033331  ,   3.0330334 ,   3.0319824 ,   3.030201  ,\n",
       "         3.027502  ,   3.0237617 ,   3.0192223 ,   3.0137043 ,\n",
       "         3.0070248 ,   2.9994564 ,   2.99049   ,   2.9802284 ,\n",
       "         2.9680367 ,   2.9541187 ,   2.9376183 ,   2.9180794 ,\n",
       "         2.8957386 ,   2.8688755 ,   2.837307  ,   2.7996902 ,\n",
       "         2.754305  ,   2.699068  ,   2.6315155 ,   2.5518074 ,\n",
       "         2.4540653 ,   2.3200645 ,   2.1116867 ,   1.7956161 ,\n",
       "         1.3775291 ,   0.9203682 ,   0.5348358 ,   0.29143524,\n",
       "         0.17646027,   0.12630844,   0.09428024,   0.06668091,\n",
       "         0.04446793, -34.45466   ], dtype=float32)"
      ]
     },
     "execution_count": 9,
     "metadata": {},
     "output_type": "execute_result"
    }
   ],
   "source": [
    "szx[:,sE] - szx[:,sW]"
   ]
  },
  {
   "cell_type": "code",
   "execution_count": null,
   "id": "f285f68e",
   "metadata": {},
   "outputs": [],
   "source": [
    "Qw[Qw>0].sum(), Qe[Qe>0].sum(), Qw[Qw<0].sum(), Qe[Qe<0].sum()"
   ]
  },
  {
   "cell_type": "code",
   "execution_count": null,
   "id": "5090dd43",
   "metadata": {},
   "outputs": [],
   "source": [
    "\n",
    "kk = np.where(usE > 0)\n",
    "np.argwhere(np.diff(kk)>2)[0][-1]"
   ]
  },
  {
   "cell_type": "code",
   "execution_count": null,
   "id": "9a4c8acf",
   "metadata": {},
   "outputs": [],
   "source": [
    "# Exclude the upper layer for the TEF calculation\n",
    "S = state1.S.data\n",
    "U = (state1.U.data[:,:,:,1:] + state1.U.data[:,:,:,:-1]) / 2\n",
    "Uzx = U[89:,:,35:45,:].mean(axis=(0,2))\n",
    "for j in range(Uzx.shape[1]):\n",
    "    if any(Uzx[:,j]>0)==False:\n",
    "        pass\n",
    "    else:\n",
    "        mid = np.where(Uzx[:,j]>0)[0][0]\n",
    "        if mid>0:\n",
    "            S[:,:mid,:,j] = 0\n",
    "            U[:,:mid,:,j] = 0\n",
    "        else:\n",
    "            pass"
   ]
  },
  {
   "cell_type": "code",
   "execution_count": null,
   "id": "b4940459",
   "metadata": {},
   "outputs": [],
   "source": [
    "U[89:,:,35:45,235].mean(axis=(0,2)), S[:,:,35:45,235].mean(axis=(0,2))"
   ]
  },
  {
   "cell_type": "code",
   "execution_count": null,
   "id": "5ee9d4f0",
   "metadata": {},
   "outputs": [],
   "source": [
    "S = state1.S.data\n",
    "U = (state1.U.data[:,:,:,1:] + state1.U.data[:,:,:,:-1]) / 2\n",
    "Uzx = U[89:,:,35:45,:].mean(axis=(0,2))\n",
    "up = np.zeros(Uzx.shape[1])\n",
    "mi = np.zeros(Uzx.shape[1])\n",
    "for j in range(Uzx.shape[1]):\n",
    "    uz = Uzx[:,j]\n",
    "    sign = np.where(np.sign(uz[:-1]) != np.sign(uz[1:]))[0] + 1\n",
    "    if sign.size==0:\n",
    "        pass\n",
    "    elif sign.size==1:\n",
    "        mi[j] = sign[0]\n",
    "    else:\n",
    "        up[j] = sign[0]\n",
    "        mi[j] = sign[1]\n",
    "    \n",
    "    if np.abs(up[j]-mi[j])<5:\n",
    "        mi[j] = up[j]\n",
    "        up[j] = 0"
   ]
  },
  {
   "cell_type": "code",
   "execution_count": null,
   "id": "8f96e618",
   "metadata": {},
   "outputs": [],
   "source": [
    "a = Uzx[:,1]\n",
    "s = np.where(np.sign(a[:-1]) != np.sign(a[1:]))[0] + 1"
   ]
  },
  {
   "cell_type": "code",
   "execution_count": null,
   "id": "3ca16a81",
   "metadata": {},
   "outputs": [],
   "source": [
    "mid = np.where(Uzx[:,43]>0)[0][0]\n",
    "low = np.where(Uzx[:,43] < 0)[-1][0]\n",
    "low"
   ]
  },
  {
   "cell_type": "code",
   "execution_count": null,
   "id": "e4a279e2",
   "metadata": {},
   "outputs": [],
   "source": [
    "up, mi"
   ]
  },
  {
   "cell_type": "code",
   "execution_count": null,
   "id": "2216f53e",
   "metadata": {},
   "outputs": [],
   "source": [
    "up,  mi"
   ]
  },
  {
   "cell_type": "code",
   "execution_count": null,
   "id": "750ae8a5",
   "metadata": {},
   "outputs": [],
   "source": []
  }
 ],
 "metadata": {
  "kernelspec": {
   "display_name": "Python 3 (ipykernel)",
   "language": "python",
   "name": "python3"
  },
  "language_info": {
   "codemirror_mode": {
    "name": "ipython",
    "version": 3
   },
   "file_extension": ".py",
   "mimetype": "text/x-python",
   "name": "python",
   "nbconvert_exporter": "python",
   "pygments_lexer": "ipython3",
   "version": "3.7.11"
  }
 },
 "nbformat": 4,
 "nbformat_minor": 5
}
