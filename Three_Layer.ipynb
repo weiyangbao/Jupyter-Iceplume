{
 "cells": [
  {
   "cell_type": "code",
   "execution_count": 3,
   "id": "09684b01",
   "metadata": {},
   "outputs": [],
   "source": [
    "# Exchange fluxes above the sill\n",
    "import xarray as xr\n",
    "import numpy as np\n",
    "import matplotlib.pyplot as plt\n",
    "import os"
   ]
  },
  {
   "cell_type": "code",
   "execution_count": 4,
   "id": "1f802c8a",
   "metadata": {},
   "outputs": [
    {
     "name": "stdout",
     "output_type": "stream",
     "text": [
      "Sill Index: west=120,center=178,east=235\n"
     ]
    }
   ],
   "source": [
    "sd = 2 # Sill depth\n",
    "#/Volumes/Extreme SSD/MITgcm outputs\n",
    "#/work/oceans/wbao/MITgcm_results/iceplume/fjord_test\n",
    "#/Users/weiyangbao/.CMVolumes/Caviness-group/iceplume/\n",
    "file1 = xr.open_dataset('/work/oceans/wbao/MITgcm_results/iceplume/2_Qsg_maxhs/state_' + str(format(sd,'03d')) + '.nc')\n",
    "state1 = file1.isel(T=~file1.get_index(\"T\").duplicated())\n",
    "grid1 = xr.open_dataset('/work/oceans/wbao/MITgcm_results/iceplume/2_Qsg_maxhs/grid_' + str(format(sd,'03d')) + '.nc')\n",
    "\n",
    "day = state1.T.data / 86400\n",
    "\n",
    "vol = grid1.HFacC * grid1.drF * grid1.rA # Z Y X\n",
    "areaC = grid1.HFacC * grid1.drF * grid1.dyF # Z Y X\n",
    "areaW = grid1.HFacW * grid1.drF * grid1.dyG # Z Y Xp1\n",
    "temp = state1.Temp.data\n",
    "s = state1.S.where(grid1.HFacC>0)\n",
    "u = state1.U.where(grid1.HFacW>0)\n",
    "sW = np.where(grid1.HFacC[-1,40,1:] == 0)[-1][0] # Sill west edge index\n",
    "sE = np.where(grid1.HFacC[-1,40,1:] == 0)[-1][-1] # Sill east edge index\n",
    "sC = np.ceil((sW+sE)/2).astype(int) # Sill crest index (178)\n",
    "\n",
    "print('Sill Index: west=' + str(sW) + ',center='+str(sC)+',east='+str(sE))"
   ]
  },
  {
   "cell_type": "code",
   "execution_count": 89,
   "id": "8734697c",
   "metadata": {},
   "outputs": [
    {
     "data": {
      "text/plain": [
       "(<xarray.DataArray 'drF' (Z: 90)>\n",
       " array([2., 2., 2., 2., 2., 2., 2., 2., 2., 2., 2., 2., 2., 2., 2., 2., 2., 2.,\n",
       "        2., 2., 4., 4., 4., 4., 4., 4., 4., 4., 4., 4., 4., 4., 4., 4., 4., 4.,\n",
       "        4., 4., 4., 4., 4., 4., 4., 4., 4., 4., 4., 4., 4., 4., 6., 6., 6., 6.,\n",
       "        6., 6., 6., 6., 6., 6., 6., 6., 6., 6., 6., 6., 6., 6., 6., 6., 6., 6.,\n",
       "        6., 6., 6., 6., 6., 6., 6., 6., 6., 6., 6., 6., 6., 6., 6., 6., 6., 6.])\n",
       " Coordinates:\n",
       "   * Z        (Z) float64 -1.0 -3.0 -5.0 -7.0 ... -379.0 -385.0 -391.0 -397.0\n",
       " Attributes:\n",
       "     description:  r cell face separation,\n",
       " <xarray.DataArray 'dyF' (Y: 80, X: 300)>\n",
       " array([[1000., 1000., 1000., ..., 1000., 1000., 1000.],\n",
       "        [1000., 1000., 1000., ..., 1000., 1000., 1000.],\n",
       "        [1000., 1000., 1000., ..., 1000., 1000., 1000.],\n",
       "        ...,\n",
       "        [1000., 1000., 1000., ..., 1000., 1000., 1000.],\n",
       "        [1000., 1000., 1000., ..., 1000., 1000., 1000.],\n",
       "        [1000., 1000., 1000., ..., 1000., 1000., 1000.]])\n",
       " Coordinates:\n",
       "   * X        (X) float64 50.0 150.0 250.0 ... 4.459e+04 4.559e+04 4.659e+04\n",
       "   * Y        (Y) float64 500.0 1.5e+03 2.5e+03 ... 5.03e+04 5.13e+04 5.23e+04\n",
       " Attributes:\n",
       "     description:  y cell face separation,\n",
       " <xarray.DataArray 'HFacC' (Z: 90, Y: 80, X: 300)>\n",
       " array([[[0., 0., ..., 1., 1.],\n",
       "         [0., 0., ..., 1., 1.],\n",
       "         ...,\n",
       "         [0., 0., ..., 1., 1.],\n",
       "         [0., 0., ..., 1., 1.]],\n",
       " \n",
       "        [[0., 0., ..., 1., 1.],\n",
       "         [0., 0., ..., 1., 1.],\n",
       "         ...,\n",
       "         [0., 0., ..., 1., 1.],\n",
       "         [0., 0., ..., 1., 1.]],\n",
       " \n",
       "        ...,\n",
       " \n",
       "        [[0., 0., ..., 1., 1.],\n",
       "         [0., 0., ..., 1., 1.],\n",
       "         ...,\n",
       "         [0., 0., ..., 1., 1.],\n",
       "         [0., 0., ..., 1., 1.]],\n",
       " \n",
       "        [[0., 0., ..., 1., 1.],\n",
       "         [0., 0., ..., 1., 1.],\n",
       "         ...,\n",
       "         [0., 0., ..., 1., 1.],\n",
       "         [0., 0., ..., 1., 1.]]])\n",
       " Coordinates:\n",
       "   * Z        (Z) float64 -1.0 -3.0 -5.0 -7.0 ... -379.0 -385.0 -391.0 -397.0\n",
       "   * X        (X) float64 50.0 150.0 250.0 ... 4.459e+04 4.559e+04 4.659e+04\n",
       "   * Y        (Y) float64 500.0 1.5e+03 2.5e+03 ... 5.03e+04 5.13e+04 5.23e+04\n",
       " Attributes:\n",
       "     description:  vertical fraction of open cell at cell center)"
      ]
     },
     "execution_count": 89,
     "metadata": {},
     "output_type": "execute_result"
    }
   ],
   "source": [
    "grid1.drF, grid1.dyF, grid1.HFacC"
   ]
  },
  {
   "cell_type": "code",
   "execution_count": 8,
   "id": "539c55d3",
   "metadata": {},
   "outputs": [],
   "source": [
    "uzx = state1.U.data[90:,:,35:45,:].mean(axis=(0,2))\n",
    "szx = state1.S.data[90:,:,35:45,:].mean(axis=(0,2))\n",
    "Qw = u[90:,:,35:45,sW].data.mean(0) * areaW[:,35:45,sW].data\n",
    "Qe = u[90:,:,35:45,sE].data.mean(0) * areaW[:,35:45,sE].data\n",
    "Fw = s.data[90:,:,35:45,sE].mean(0) * Qw\n",
    "Fe = s.data[90:,:,35:45,sW].mean(0) * Qe\n",
    "#Qw[Qw>0].sum()"
   ]
  },
  {
   "cell_type": "code",
   "execution_count": 9,
   "id": "9ae25375",
   "metadata": {},
   "outputs": [
    {
     "name": "stdout",
     "output_type": "stream",
     "text": [
      "Volume flux: west=-110.25227634236217,east=-180.1861156243831; Salinity: west=32.17263753109608,east=32.32677240796553\n"
     ]
    }
   ],
   "source": [
    "usE = uzx[:,sE]\n",
    "usW=uzx[:,sW]\n",
    "# Layer interface\n",
    "lW = np.where(usW > 0)[0][0]\n",
    "lE = np.where(usE > 0)[0][0]\n",
    "QW = Qw[:lW,:].sum()\n",
    "QE = Qe[:lE,:].sum()\n",
    "SW = Fw[:lW,:].sum() / QW\n",
    "SE = Fe[:lE,:].sum() / QE\n",
    "print('Volume flux: west=' + str(QW) + ',east='+str(QE)+'; Salinity: west='+str(SW)+',east='+str(SE))"
   ]
  },
  {
   "cell_type": "code",
   "execution_count": 12,
   "id": "f285f68e",
   "metadata": {},
   "outputs": [
    {
     "data": {
      "text/plain": [
       "(14257.582457293027,\n",
       " 4002.4829217286856,\n",
       " -14207.595460063565,\n",
       " -3952.5072805374084)"
      ]
     },
     "execution_count": 12,
     "metadata": {},
     "output_type": "execute_result"
    }
   ],
   "source": [
    "Qw[Qw>0].sum(), Qe[Qe>0].sum(), Qw[Qw<0].sum(), Qe[Qe<0].sum()"
   ]
  },
  {
   "cell_type": "code",
   "execution_count": 85,
   "id": "5090dd43",
   "metadata": {},
   "outputs": [
    {
     "data": {
      "text/plain": [
       "14"
      ]
     },
     "execution_count": 85,
     "metadata": {},
     "output_type": "execute_result"
    }
   ],
   "source": [
    "\n",
    "kk = np.where(usE > 0)\n",
    "np.argwhere(np.diff(kk)>2)[0][-1]"
   ]
  },
  {
   "cell_type": "code",
   "execution_count": 101,
   "id": "9a4c8acf",
   "metadata": {},
   "outputs": [],
   "source": [
    "# Exclude the upper layer for the TEF calculation\n",
    "S = state1.S.data\n",
    "U = (state1.U.data[:,:,:,1:] + state1.U.data[:,:,:,:-1]) / 2\n",
    "Uzx = U[89:,:,35:45,:].mean(axis=(0,2))\n",
    "for j in range(Uzx.shape[1]):\n",
    "    if any(Uzx[:,j]>0)==False:\n",
    "        pass\n",
    "    else:\n",
    "        mid = np.where(Uzx[:,j]>0)[0][0]\n",
    "        if mid>0:\n",
    "            S[:,:mid,:,j] = 0\n",
    "            U[:,:mid,:,j] = 0\n",
    "        else:\n",
    "            pass"
   ]
  },
  {
   "cell_type": "code",
   "execution_count": 107,
   "id": "b4940459",
   "metadata": {},
   "outputs": [
    {
     "data": {
      "text/plain": [
       "(array([ 0.0000000e+00,  0.0000000e+00,  0.0000000e+00,  0.0000000e+00,\n",
       "         5.7477164e-03,  1.3403377e-02,  2.0338301e-02,  2.6520466e-02,\n",
       "         3.1679735e-02,  3.5663523e-02,  3.8262829e-02,  3.9335575e-02,\n",
       "         3.8431920e-02,  3.6073770e-02,  3.2578561e-02,  2.7939562e-02,\n",
       "         2.1841824e-02,  1.4800218e-02,  6.3113361e-03, -4.4133142e-03,\n",
       "        -2.0837855e-02, -3.4060717e-02, -3.4333490e-02, -2.6513588e-02,\n",
       "        -1.8526666e-02, -1.2327636e-02, -7.7841841e-03, -4.4681625e-03,\n",
       "        -2.3258165e-03, -1.0827372e-03, -4.2545173e-04, -1.3178955e-04,\n",
       "        -2.5086978e-05, -1.5927246e-06, -9.2033415e-06, -2.3319628e-05,\n",
       "        -3.4385463e-05, -3.9695187e-05, -3.9943629e-05, -3.6988164e-05,\n",
       "        -3.2133150e-05, -2.6543745e-05, -2.1183398e-05, -1.6700489e-05,\n",
       "        -1.3433691e-05, -1.1473621e-05, -1.0741855e-05, -1.0996680e-05,\n",
       "        -1.1744364e-05, -1.0966130e-05, -9.0068152e-06, -8.5766560e-06,\n",
       "        -1.0252641e-05, -1.1394770e-05, -1.2031645e-05, -1.2223453e-05,\n",
       "        -1.2060320e-05, -1.1552015e-05, -1.0683949e-05, -9.3637345e-06,\n",
       "        -7.6378055e-06, -5.5947967e-06, -3.4655882e-06, -1.3700397e-06,\n",
       "         3.3075776e-07,  1.3720983e-06,  2.2616455e-06,  2.9376765e-06,\n",
       "         3.6095644e-06,  4.2319216e-06,  4.0691575e-06,  3.8063467e-06,\n",
       "         4.4873896e-06,  5.2445735e-06,  4.9010573e-06,  4.5226370e-06,\n",
       "         5.6603376e-06,  7.5002135e-06,  6.2688341e-06,  6.6327834e-06,\n",
       "         8.5795946e-06,  8.0404252e-06,  7.1561035e-06,  8.0978980e-06,\n",
       "         6.1932324e-06,  1.7339073e-06, -5.9475651e-06, -2.0313653e-05,\n",
       "        -3.5896002e-05,  0.0000000e+00], dtype=float32),\n",
       " array([ 0.      ,  0.      ,  0.      ,  0.      , 32.386623, 32.433247,\n",
       "        32.478203, 32.521416, 32.562847, 32.602528, 32.640633, 32.677536,\n",
       "        32.713154, 32.747246, 32.780315, 32.81276 , 32.845253, 32.878735,\n",
       "        32.915123, 32.958332, 33.039284, 33.199047, 33.366375, 33.478474,\n",
       "        33.555347, 33.61537 , 33.665092, 33.708324, 33.747696, 33.784184,\n",
       "        33.818096, 33.849895, 33.88003 , 33.908665, 33.93596 , 33.96188 ,\n",
       "        33.986557, 34.009987, 34.032146, 34.053017, 34.07267 , 34.09115 ,\n",
       "        34.108315, 34.124317, 34.13915 , 34.152695, 34.165146, 34.17641 ,\n",
       "        34.186584, 34.195988, 34.206062, 34.21662 , 34.226254, 34.234962,\n",
       "        34.242775, 34.249947, 34.256588, 34.262863, 34.26901 , 34.275116,\n",
       "        34.281197, 34.28767 , 34.294388, 34.301506, 34.30892 , 34.316376,\n",
       "        34.323826, 34.33134 , 34.33881 , 34.34633 , 34.353863, 34.361317,\n",
       "        34.368855, 34.376293, 34.383846, 34.39136 , 34.398823, 34.406353,\n",
       "        34.41387 , 34.421413, 34.428864, 34.436314, 34.443935, 34.45139 ,\n",
       "        34.458885, 34.46636 , 34.473816, 34.48112 , 34.487755,  0.      ],\n",
       "       dtype=float32))"
      ]
     },
     "execution_count": 107,
     "metadata": {},
     "output_type": "execute_result"
    }
   ],
   "source": [
    "U[89:,:,35:45,235].mean(axis=(0,2)), S[:,:,35:45,235].mean(axis=(0,2))"
   ]
  },
  {
   "cell_type": "code",
   "execution_count": 103,
   "id": "5ee9d4f0",
   "metadata": {},
   "outputs": [
    {
     "data": {
      "text/plain": [
       "array([-0.02087473, -0.01470359, -0.00803567, -0.00117042,  0.00530886,\n",
       "        0.0110807 ,  0.01664107,  0.0226366 ,  0.02698811,  0.03029838,\n",
       "        0.03232051,  0.03264056,  0.03284582,  0.03229995,  0.03074668,\n",
       "        0.02803979,  0.02423124,  0.01788625,  0.00635953, -0.01030064,\n",
       "       -0.03050123, -0.11087054,  0.        ,  0.        ,  0.        ,\n",
       "        0.        ,  0.        ,  0.        ,  0.        ,  0.        ,\n",
       "        0.        ,  0.        ,  0.        ,  0.        ,  0.        ,\n",
       "        0.        ,  0.        ,  0.        ,  0.        ,  0.        ,\n",
       "        0.        ,  0.        ,  0.        ,  0.        ,  0.        ,\n",
       "        0.        ,  0.        ,  0.        ,  0.        ,  0.        ,\n",
       "        0.        ,  0.        ,  0.        ,  0.        ,  0.        ,\n",
       "        0.        ,  0.        ,  0.        ,  0.        ,  0.        ,\n",
       "        0.        ,  0.        ,  0.        ,  0.        ,  0.        ,\n",
       "        0.        ,  0.        ,  0.        ,  0.        ,  0.        ,\n",
       "        0.        ,  0.        ,  0.        ,  0.        ,  0.        ,\n",
       "        0.        ,  0.        ,  0.        ,  0.        ,  0.        ,\n",
       "        0.        ,  0.        ,  0.        ,  0.        ,  0.        ,\n",
       "        0.        ,  0.        ,  0.        ,  0.        ,  0.        ],\n",
       "      dtype=float32)"
      ]
     },
     "execution_count": 103,
     "metadata": {},
     "output_type": "execute_result"
    }
   ],
   "source": [
    "Uzx[:,178]"
   ]
  },
  {
   "cell_type": "code",
   "execution_count": 104,
   "id": "8f96e618",
   "metadata": {},
   "outputs": [
    {
     "data": {
      "text/plain": [
       "4"
      ]
     },
     "execution_count": 104,
     "metadata": {},
     "output_type": "execute_result"
    }
   ],
   "source": [
    "np.where(Uzx[:,178]>0)[0][0]"
   ]
  },
  {
   "cell_type": "code",
   "execution_count": null,
   "id": "3ca16a81",
   "metadata": {},
   "outputs": [],
   "source": []
  }
 ],
 "metadata": {
  "kernelspec": {
   "display_name": "Python 3 (ipykernel)",
   "language": "python",
   "name": "python3"
  },
  "language_info": {
   "codemirror_mode": {
    "name": "ipython",
    "version": 3
   },
   "file_extension": ".py",
   "mimetype": "text/x-python",
   "name": "python",
   "nbconvert_exporter": "python",
   "pygments_lexer": "ipython3",
   "version": "3.7.11"
  }
 },
 "nbformat": 4,
 "nbformat_minor": 5
}
