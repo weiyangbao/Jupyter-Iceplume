{
 "cells": [
  {
   "cell_type": "code",
   "execution_count": 1,
   "metadata": {},
   "outputs": [],
   "source": [
    "# Heat transport and temperature\n",
    "import xarray as xr\n",
    "import numpy as np\n",
    "import matplotlib.pyplot as plt\n",
    "import os"
   ]
  },
  {
   "cell_type": "code",
   "execution_count": 20,
   "metadata": {},
   "outputs": [
    {
     "data": {
      "text/plain": [
       "(81, 50, 9, 50)"
      ]
     },
     "execution_count": 20,
     "metadata": {},
     "output_type": "execute_result"
    }
   ],
   "source": [
    "Cp = 4220  # Specific heat content J/kg/C\n",
    "rho = 1025 # Density\n",
    "ny = 9\n",
    "T0 = 9 # Initial temperature\n",
    "Area = np.empty([50, 27])\n",
    "Area[:10, :] = 100\n",
    "Area[10:20, :] = 200\n",
    "Area[20:30, :] = 300\n",
    "Area[30:40, :] = 800\n",
    "Area[40:, :] = 1600\n",
    "ga = np.repeat(np.array([[.5],[1],[1.5],[4],[8]]),10) * 200 * ny # Grid area\n",
    "#wei = np.repeat(np.array([[.5],[1],[1.5],[4],[8]]),10) / 15 # Weight coefficient for temperature calculation\n",
    "wei = Area / (200*15)\n",
    "\n",
    "state0 = xr.open_dataset('/Users/weiyangbao/Documents/Model_outputs/State700/Hs_010.nc')\n",
    "tn = len(state0.T) # End day\n",
    "state = state0.isel(Y=range(1,10), T=range(40,tn)) # Remove the boundary walls in y direction\n",
    "Time = state.T.data\n",
    "pt = state.Temp.data.mean(2) # T, Z, X\n",
    "u = state.U.data.mean(2)\n",
    "w = state.W.data.mean(2)\n",
    "np.shape(state.Temp.data)"
   ]
  },
  {
   "cell_type": "code",
   "execution_count": 21,
   "metadata": {},
   "outputs": [],
   "source": [
    "Hnet = np.empty(len(Time))\n",
    "pt_mean = np.empty(len(Time))\n",
    "for t in range(len(Time)):\n",
    "    pt_v = pt[t,:,2:29]\n",
    "    Hnet[t] = -np.sum(u[t,:,29]*ga*(pt_v[:,-1])) + np.sum(u[t,:,2]*ga*(pt_v[:,0]))\n",
    "    pp = pt_v * wei\n",
    "    masked = np.ma.masked_equal(pp, 0)\n",
    "    pt_mean[t] = pp[pp!=0].mean()\n",
    "    pt_xmean = np.empty(pt_v.shape[1])\n",
    "    mm = np.empty(pt_v.shape[1])\n",
    "    #for xl in range(27):\n",
    "        #pt_x = pt_v[:,xl] * wei\n",
    "        \n",
    "        #masked = np.ma.masked_equal(pt_v[:,xl], 0)*wei\n",
    "        #mm[xl] = masked.mean()\n",
    "        #pt_xmean[xl] = np.true_divide(pt_x.sum(),(pt_x!=0).sum()) # Non-zero mean\n",
    "    #pt_mean[t] = mm.mean()"
   ]
  },
  {
   "cell_type": "code",
   "execution_count": 42,
   "metadata": {},
   "outputs": [
    {
     "data": {
      "text/plain": [
       "Text(0, 0.5, 'Temperature (°C)')"
      ]
     },
     "execution_count": 42,
     "metadata": {},
     "output_type": "execute_result"
    },
    {
     "data": {
      "image/png": "[encoded data removed]",
      "text/plain": [
       "<Figure size 1152x288 with 1 Axes>"
      ]
     },
     "metadata": {
      "needs_background": "light"
     },
     "output_type": "display_data"
    }
   ],
   "source": [
    "pvol = pt.mean(0)[:,2:29]\n",
    "pvol[pvol != 0] = 1\n",
    "vmask = np.ma.masked_equal(pvol, 0)\n",
    "Vol = np.sum(vmask * Area * 200 ) * ny # Control volume\n",
    "\n",
    "\n",
    "dt = Time[1]-Time[0] # Time step\n",
    "pt_pre = np.empty(len(Time))\n",
    "pt_pre[0] = Hnet[0]*dt/Vol\n",
    "for j in range(1,len(Time)):\n",
    "    pt_pre[j] = Hnet[j-1:j+1].mean()*dt/Vol\n",
    "\n",
    "fig, ax = plt.subplots(figsize=(16,4)) \n",
    "plt.plot(Time/dt, pt_pre, 'b--', lw=1.5, label='estimated')\n",
    "plt.plot(Time/dt, pt_mean, 'r-', lw=1.5, label='observed')\n",
    "plt.legend(loc='best', fontsize=12)\n",
    "#ax.set_xlim([0,120])\n",
    "#ax.set_xticks(np.linspace(0,120,13))\n",
    "#ax.set_xticklabels(np.linspace(0,120,13, dtype = int), size = 15)\n",
    "#plt.title('$H_s = $'+str(Hs)+' $m,Q_f = $'+str(Qf)+' $m^3/s$', size=20)\n",
    "plt.xlabel(\"Time (Day)\", size=15, weight = 'bold')\n",
    "plt.ylabel(\"Temperature (\\N{DEGREE SIGN}C)\", size=15, weight = 'bold')"
   ]
  },
  {
   "cell_type": "code",
   "execution_count": null,
   "metadata": {},
   "outputs": [],
   "source": [
    "fig_path = \"/Users/weiyangbao/Documents/Jupyter_Figs/Transport/\"\n",
    "if not os.path.exists(fig_path):\n",
    "    os.makedirs(fig_path)\n",
    "fig.savefig(fig_path + '/EquationH'+str(Hs)+'.png', dpi = 150, bbox_inches='tight')"
   ]
  },
  {
   "cell_type": "code",
   "execution_count": 40,
   "metadata": {},
   "outputs": [
    {
     "data": {
      "text/plain": [
       "1341360000.0"
      ]
     },
     "execution_count": 40,
     "metadata": {},
     "output_type": "execute_result"
    }
   ],
   "source": [
    "Vol"
   ]
  },
  {
   "cell_type": "code",
   "execution_count": 34,
   "metadata": {},
   "outputs": [
    {
     "data": {
      "text/plain": [
       "43200.0"
      ]
     },
     "execution_count": 34,
     "metadata": {},
     "output_type": "execute_result"
    }
   ],
   "source": [
    "dt"
   ]
  },
  {
   "cell_type": "code",
   "execution_count": null,
   "metadata": {},
   "outputs": [],
   "source": []
  }
 ],
 "metadata": {
  "kernelspec": {
   "display_name": "Python 3",
   "language": "python",
   "name": "python3"
  },
  "language_info": {
   "codemirror_mode": {
    "name": "ipython",
    "version": 3
   },
   "file_extension": ".py",
   "mimetype": "text/x-python",
   "name": "python",
   "nbconvert_exporter": "python",
   "pygments_lexer": "ipython3",
   "version": "3.7.3"
  }
 },
 "nbformat": 4,
 "nbformat_minor": 4
}
