{
 "cells": [
  {
   "cell_type": "code",
   "execution_count": 1,
   "metadata": {},
   "outputs": [
    {
     "name": "stderr",
     "output_type": "stream",
     "text": [
      "/Users/weiyangbao/miniconda3/envs/py37/lib/python3.7/site-packages/xarray/core/merge.py:17: FutureWarning: The Panel class is removed from pandas. Accessing it from the top-level namespace will also be removed in the next version\n",
      "  PANDAS_TYPES = (pd.Series, pd.DataFrame, pd.Panel)\n"
     ]
    }
   ],
   "source": [
    "# Heat transport and temperature\n",
    "import xarray as xr\n",
    "import numpy as np\n",
    "import matplotlib.pyplot as plt\n",
    "import os"
   ]
  },
  {
   "cell_type": "code",
   "execution_count": 10,
   "metadata": {},
   "outputs": [],
   "source": [
    "Cp = 3994  # Specific heat content J/kg/C\n",
    "rho = 999.8 # Density\n",
    "ny = 9\n",
    "T0 = 9 # Initial temperature\n",
    "Area = np.empty([50, 9])\n",
    "Area[:10, :] = 100\n",
    "Area[10:20, :] = 200\n",
    "Area[20:30, :] = 300\n",
    "Area[30:40, :] = 800\n",
    "Area[40:, :] = 1600\n",
    "ga = np.repeat(np.array([[.5],[1],[1.5],[4],[8]]),10) * 200 * ny # Grid area\n",
    "#wei = np.repeat(np.array([[.5],[1],[1.5],[4],[8]]),10) / 15 # Weight coefficient for temperature calculation\n",
    "wi = np.empty([50, 28-3+1])\n",
    "wi[:10, :] = 0.5 / 150\n",
    "wi[10:20, :] = 1 / 150\n",
    "wi[20:30, :] = 1.5 / 150\n",
    "wi[30:40, :] = 4 / 150\n",
    "wi[40:, :] = 8 / 150\n",
    "\n",
    "sd = 10 # sill depth\n",
    "state01 = xr.open_dataset('/Users/weiyangbao/Documents/Model_outputs/State700/Hs_' + str(format(sd,'03d')) + '.nc')\n",
    "state02 = xr.open_dataset('/Users/weiyangbao/Documents/Model_outputs/State700/DFx_TH_' + str(format(sd,'03d')) + '.nc')\n",
    "state1 = state01.isel(Y=range(1,10), T=range(1,121)) # Remove the boundary walls in y direction\n",
    "state2 = state02.isel(Y=range(1,10), T=range(0,120)) \n",
    "\n",
    "Time = state1.T.data\n",
    "pt = state1.Temp.data # T, Z, Y, X\n",
    "#u = 0.5 * (state1.U.data[:,:,:,:-1] + state1.U.data[:,:,:,1:])\n",
    "u = np.diff(state1.U.data, axis=3)\n",
    "#upt = u * (pt)\n",
    "\n",
    "dfx0 = state2.DFxE_TH.data\n",
    "#dfx = 0.5 * (dfx0[:,:,:,:-1] + dfx0[:,:,:,1:])\n",
    "dfx = np.diff(state2.DFxE_TH.data, axis=3)\n"
   ]
  },
  {
   "cell_type": "code",
   "execution_count": 21,
   "metadata": {},
   "outputs": [
    {
     "data": {
      "text/plain": [
       "array([8.6984044 , 8.68760134, 8.68103507, 8.67976778, 8.6776863 ,\n",
       "       8.6768474 , 8.67852565, 8.67769513, 8.67777409, 8.67719703,\n",
       "       8.67188646, 8.66497327, 8.66030578, 8.66190275, 8.66087949,\n",
       "       8.65015512, 8.63985351, 8.63364069, 8.62626078, 8.61799261,\n",
       "       8.60990119, 8.60505423, 8.60527783, 8.60305688, 8.59792892,\n",
       "       8.58970058, 8.57996087, 8.56894508, 8.55844621, 8.55240593,\n",
       "       8.54342026, 8.52885648, 8.51643048, 8.50621038, 8.49775318,\n",
       "       8.48869458, 8.47889155, 8.4704676 , 8.46337101, 8.45811009,\n",
       "       8.45295466, 8.44291123, 8.43172909, 8.42381855, 8.41415071,\n",
       "       8.40412986, 8.39719587, 8.39349437, 8.38969507, 8.3853057 ,\n",
       "       8.38273751, 8.38324238, 8.38032353, 8.37376939, 8.36752885,\n",
       "       8.36171881, 8.35823753, 8.35011466, 8.34447963, 8.3425785 ,\n",
       "       8.33642636, 8.33461537, 8.33727703, 8.33671474, 8.33580168,\n",
       "       8.33437966, 8.32969   , 8.32812252, 8.32135018, 8.31250944,\n",
       "       8.31032357, 8.30356776, 8.29346805, 8.2885786 , 8.28380403,\n",
       "       8.27875725, 8.27582561, 8.27576982, 8.27159281, 8.26164192,\n",
       "       8.25463049, 8.25265415, 8.25761228, 8.25404608, 8.24536557,\n",
       "       8.2407567 , 8.23894994, 8.23950212, 8.23545662, 8.22589693,\n",
       "       8.2135981 , 8.20654537, 8.2065492 , 8.20126405, 8.19013562,\n",
       "       8.18696643, 8.18791102, 8.18425369, 8.17951737, 8.16994007,\n",
       "       8.15659624, 8.1449414 , 8.13550826, 8.13200417, 8.12995005,\n",
       "       8.1262021 , 8.12707592, 8.13081757, 8.12737745, 8.1206424 ,\n",
       "       8.11981008, 8.1163211 , 8.10662235, 8.10264054, 8.0975728 ,\n",
       "       8.09484715, 8.09500764, 8.09049439, 8.09279473, 8.09443445])"
      ]
     },
     "execution_count": 21,
     "metadata": {},
     "output_type": "execute_result"
    }
   ],
   "source": [
    "theta = pt.mean(2) # Average in Y\n",
    "Hnet = np.empty(len(Time))\n",
    "pt_situ = np.empty(len(Time))\n",
    "for t in range(len(Time)):\n",
    "    #pvol = pt[t,:,:,3:29]\n",
    "    #pt_situ[t] = pvol[pvol!=0].mean()\n",
    "    thetaV = theta[t,:,3:29] * wi / 26\n",
    "    pt_situ[t] = thetaV[thetaV!=0].sum()\n",
    "    #thetaV[thetaV!=0] = 1\n",
    "    mask = np.ma.masked_equal(thetaV, 0)\n",
    "    V = mask/mask * wi * 150 * 200 * 200 * ny\n",
    "    #Hnet[t] =  np.sum(pt[t,:,:,3]*Area/(200*150*9))\n",
    "    Hnet[t] =  np.sum(u[t,:,:,3]*pt[t,:,:,3]*Area) - np.sum(u[t,:,:,28]*pt[t,:,:,28] * Area) + np.sum(dfx[t,:,:,3]) - np.sum(dfx[t,:,:,28])\n",
    "    \n",
    "Vol = V.sum() # Control volume\n",
    "dt = Time[1]-Time[0] # Time step\n",
    "\n",
    "pt_pre = np.empty(len(Time))\n",
    "pt_pre[0] = pt_situ[0]\n",
    "for j in range(1,len(Time)):\n",
    "    deltaT = Hnet[j-1:j+1].mean()*dt/Vol\n",
    "    pt_pre[j] = pt_pre[j-1] + deltaT\n",
    "pt_pre"
   ]
  },
  {
   "cell_type": "code",
   "execution_count": 22,
   "metadata": {},
   "outputs": [
    {
     "data": {
      "text/plain": [
       "Text(0, 0.5, 'Temperature (°C)')"
      ]
     },
     "execution_count": 22,
     "metadata": {},
     "output_type": "execute_result"
    },
    {
     "data": {
      "image/png": "[encoded data removed]",
      "text/plain": [
       "<Figure size 1152x288 with 1 Axes>"
      ]
     },
     "metadata": {
      "needs_background": "light"
     },
     "output_type": "display_data"
    }
   ],
   "source": [
    "#pvol = pt[:,:,:,3:29]\n",
    "#pvol[pvol != 0] = 1\n",
    "#vmask = np.ma.masked_equal(pvol, 0)\n",
    "#Vol = np.sum(vmask * Area * 200 ) * ny # Control volume\n",
    "\n",
    "fig, ax = plt.subplots(figsize=(16,4)) \n",
    "plt.plot(Time/dt, pt_pre, 'b--', lw=1.5, label='estimated')\n",
    "plt.plot(Time/dt, pt_situ, 'r-', lw=1.5, label='observed')\n",
    "plt.legend(loc='best', fontsize=12)\n",
    "#ax.set_xlim([0,120])\n",
    "#ax.set_xticks(np.linspace(0,120,13))\n",
    "#ax.set_xticklabels(np.linspace(0,120,13, dtype = int), size = 15)\n",
    "plt.title('Sill Depth = '+str(sd)+' $m$', size=20)\n",
    "plt.xlabel(\"Iteration\", size=15, weight = 'bold')\n",
    "plt.ylabel(\"Temperature (\\N{DEGREE SIGN}C)\", size=15, weight = 'bold')"
   ]
  },
  {
   "cell_type": "code",
   "execution_count": null,
   "metadata": {},
   "outputs": [],
   "source": [
    "fig_path = \"/Users/weiyangbao/Documents/Jupyter_Figs/Transport/\"\n",
    "if not os.path.exists(fig_path):\n",
    "    os.makedirs(fig_path)\n",
    "fig.savefig(fig_path + '/EquationH'+str(sd)+'.png', dpi = 150, bbox_inches='tight')"
   ]
  }
 ],
 "metadata": {
  "kernelspec": {
   "display_name": "Python 3",
   "language": "python",
   "name": "python3"
  },
  "language_info": {
   "codemirror_mode": {
    "name": "ipython",
    "version": 3
   },
   "file_extension": ".py",
   "mimetype": "text/x-python",
   "name": "python",
   "nbconvert_exporter": "python",
   "pygments_lexer": "ipython3",
   "version": "3.7.4"
  }
 },
 "nbformat": 4,
 "nbformat_minor": 4
}
