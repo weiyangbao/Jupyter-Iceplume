{
 "cells": [
  {
   "cell_type": "code",
   "execution_count": 1,
   "metadata": {},
   "outputs": [],
   "source": [
    "# Exchange fluxes above the sill\n",
    "import xarray as xr\n",
    "import numpy as np\n",
    "import matplotlib.pyplot as plt\n",
    "import os"
   ]
  },
  {
   "cell_type": "code",
   "execution_count": 2,
   "metadata": {},
   "outputs": [
    {
     "data": {
      "text/plain": [
       "10.0"
      ]
     },
     "execution_count": 2,
     "metadata": {},
     "output_type": "execute_result"
    }
   ],
   "source": [
    "sd = 2 # Sill depth\n",
    "#/Volumes/Extreme SSD/MITgcm outputs\n",
    "#/work/oceans/wbao/MITgcm_results/iceplume/fjord_test\n",
    "#/Users/weiyangbao/.CMVolumes/Caviness-group/iceplume/\n",
    "file1 = xr.open_dataset('/work/oceans/wbao/MITgcm_results/iceplume/2_Qsg_maxhs/state_' + str(format(sd,'03d')) + '.nc')\n",
    "file2 = xr.open_dataset('/work/oceans/wbao/MITgcm_results/iceplume/2_Qsg_maxhs/icefrntA_' + str(format(sd,'03d')) + '.nc')\n",
    "T0 = 0 \n",
    "Tn = len(file1.T) # T0=275~Tn includes N=5 tidal periods (T=12.4 h)\n",
    "# X=range(1,120), Xp1=range(1,121), Y=range(30,39), Yp1=range(30,40)\n",
    "#state1 = file1.isel(T=range(T0,Tn)) # Remove the boundary walls and the shelf region\n",
    "state1 = file1.isel(T=~file1.get_index(\"T\").duplicated())\n",
    "grid1 = xr.open_dataset('/work/oceans/wbao/MITgcm_results/iceplume/2_Qsg_maxhs/grid_' + str(format(sd,'03d')) + '.nc')\n",
    "#file2 = xr.open_dataset('/Users/weiyangbao/Documents/Model_outputs/qf-tide-hourly/state_' + str(format(sd,'03d')) + '.nc')\n",
    "#state2 = file2.isel(X=range(120), Xp1=range(121), Y=range(30,39), Yp1=range(30,40)) # Remove the boundary walls and the shelf region\n",
    "#grid2 = xr.open_dataset('/Users/weiyangbao/Documents/Model_outputs/qf-tide-hourly/grid_' + str(format(sd,'03d')) + '.nc')\n",
    "\n",
    "time1 = state1.T.data / 86400\n",
    "#time2 = state2.T.data / 86400\n",
    "xs = 235\n",
    "u1 = state1.U.data[:,:,:,xs]\n",
    "#u2 = state2.U.data[:,:,:,xs]\n",
    "#u = state1.U.data[T0,:,5,xs]\n",
    "dis = state1.X.data\n",
    "xp1 = state1.Xp1.data\n",
    "\n",
    "# Area = np.empty([50, 9]) # Cross Y direction\n",
    "# Area[:10, :] = 100\n",
    "# Area[10:20, :] = 200\n",
    "# Area[20:30, :] = 300\n",
    "# Area[30:40, :] = 800\n",
    "# Area[40:, :] = 1600\n",
    "\n",
    "Area = np.empty([90, 10]) # Cross Y direction\n",
    "Area[:20, :] = 400\n",
    "Area[20:50, :] = 800\n",
    "Area[50:, :] = 1200\n",
    "\n",
    "pt1 = state1.Temp.data[:,:,:,xs]\n",
    "#pt2 = state2.Temp.data[:,:,:,xs]\n",
    "\n",
    "\n",
    "s1 = state1.S.data[:,:,:,xs]\n",
    "#s2 = state2.S.data[:,:,:,xs]\n",
    "\n",
    "\n",
    "\n",
    "HFacW = grid1.HFacW.data[:,35:45,xs] # vertical fraction of open cell at West face\n",
    "HFacC = grid1.HFacC\n",
    "# volume = ds.hFacC * ds.drF * ds.rA\n",
    "#state1.Xp1.data[72], state1.X.data[71]\n",
    "#len(time), time\n",
    "#time1\n",
    "pt1[0,0,40]"
   ]
  },
  {
   "cell_type": "code",
   "execution_count": 5,
   "metadata": {},
   "outputs": [
    {
     "data": {
      "text/plain": [
       "array([-1.64009016e-02, -1.62994098e-02, -1.60577800e-02, -1.55614885e-02,\n",
       "       -1.46453045e-02, -1.31067457e-02, -1.07499165e-02, -7.46640982e-03,\n",
       "       -3.34020657e-03,  1.33751438e-03,  6.12923084e-03,  1.06370924e-02,\n",
       "        1.46230096e-02,  1.79759506e-02,  2.06290949e-02,  2.26914510e-02,\n",
       "        2.41850857e-02,  2.52365917e-02,  2.58694030e-02,  2.60654259e-02,\n",
       "        2.53226794e-02,  2.26606205e-02,  1.90067608e-02,  1.53140360e-02,\n",
       "        1.19248033e-02,  8.93036928e-03,  6.22739736e-03,  3.75937345e-03,\n",
       "        1.52982166e-03, -4.59911156e-04, -2.25891755e-03, -3.89626366e-03,\n",
       "       -5.29900892e-03, -6.50793593e-03, -7.45829940e-03, -8.24349280e-03,\n",
       "       -8.86444468e-03, -9.40162409e-03, -9.58999433e-03, -9.86661948e-03,\n",
       "       -9.60969832e-03, -9.23660304e-03, -8.69044010e-03, -7.98607804e-03,\n",
       "       -7.07780244e-03, -5.97964879e-03, -4.74749552e-03, -3.55595513e-03,\n",
       "       -2.46156333e-03, -1.52134092e-03, -6.18266640e-04, -3.47242130e-05,\n",
       "        1.94584209e-04,  1.68147017e-04, -2.36817914e-06, -2.13596228e-04,\n",
       "       -4.04041435e-04, -5.47810632e-04, -6.41842722e-04, -6.90985762e-04,\n",
       "       -7.08455453e-04, -7.03168625e-04, -6.83634426e-04, -6.46473840e-04,\n",
       "       -5.93302655e-04, -5.35893545e-04, -4.93078202e-04, -4.71948995e-04,\n",
       "       -4.53592831e-04, -4.31236724e-04, -4.01125522e-04, -3.70680005e-04,\n",
       "       -3.47311929e-04, -3.27490066e-04, -3.10466741e-04, -2.94218597e-04,\n",
       "       -2.76350620e-04, -2.54631945e-04, -2.26892269e-04, -1.93527172e-04,\n",
       "       -1.57552859e-04, -1.18966593e-04, -8.10912024e-05, -5.65024275e-05,\n",
       "       -4.94094638e-05, -9.33878109e-05, -1.84859338e-04, -3.21182219e-04,\n",
       "       -5.04054886e-04, -4.54993366e-04], dtype=float32)"
      ]
     },
     "execution_count": 5,
     "metadata": {},
     "output_type": "execute_result"
    }
   ],
   "source": [
    "Ut = state1.U.data[90:,:,35:45,:].mean(axis=(0,2))\n",
    "Ut[:,120]"
   ]
  },
  {
   "cell_type": "code",
   "execution_count": null,
   "metadata": {},
   "outputs": [],
   "source": [
    "fig0, (ax1, ax2, ax3) = plt.subplots(3,1, sharex=True, figsize=(9,9))\n",
    "ts1 = time1 * 86400\n",
    "ts2 = time2 * 86400\n",
    "zi = 40\n",
    "ax1.plot(ts1,u1[:,zi,40],label=\"no restart\")\n",
    "ax1.plot(ts2,u2[:,zi,40],lw=.5,label=\"with restart\")\n",
    "ax1.set_title('$U$', size=15, weight='bold')\n",
    "ax1.legend(loc = 'best', fontsize=15)\n",
    "ax1.tick_params(labelsize=15)\n",
    "ax1.xaxis.set_visible(False)\n",
    "ax1.set_ylabel('($m/s$)', size=15)\n",
    "\n",
    "\n",
    "ax2.plot(ts1,pt1[:,zi,40], ts2, pt2[:,zi,40])\n",
    "ax2.set_title('$Temp$', size=15, weight='bold')\n",
    "#ax2.legend(loc = 'best', fontsize=15)\n",
    "ax2.tick_params(labelsize=15)\n",
    "ax2.xaxis.set_visible(False)\n",
    "ax2.set_ylabel('($^{\\circ}C$)', size=15)\n",
    "\n",
    "\n",
    "\n",
    "ax3.plot(ts1,s1[:,zi,40], ts2, s2[:,zi,40])\n",
    "ax3.set_title('$Sal$', size=15, weight='bold')\n",
    "#ax2.legend(loc = 'best', fontsize=15)\n",
    "ax3.tick_params(labelsize=15)\n",
    "ax3.set_ylabel('($psu$)', size=15)\n",
    "\n",
    "ax3.set_xlabel('Time (s)', size=15)"
   ]
  },
  {
   "cell_type": "code",
   "execution_count": 3,
   "metadata": {},
   "outputs": [
    {
     "data": {
      "text/plain": [
       "(120,\n",
       " 235,\n",
       " 178,\n",
       " <xarray.DataArray 'U' (Z: 90)>\n",
       " array([-0.06198541, -0.06081946, -0.05850172, -0.054727  , -0.04970447,\n",
       "        -0.04412095, -0.03840403, -0.03224806, -0.02651015, -0.01970286,\n",
       "        -0.01377034, -0.00407091,  0.00094499,  0.00449687,  0.00780643,\n",
       "         0.01004612,  0.01246248,  0.01645639,  0.02183527,  0.02562571,\n",
       "         0.023444  ,  0.00603429,         nan,         nan,         nan,\n",
       "                nan,         nan,         nan,         nan,         nan,\n",
       "                nan,         nan,         nan,         nan,         nan,\n",
       "                nan,         nan,         nan,         nan,         nan,\n",
       "                nan,         nan,         nan,         nan,         nan,\n",
       "                nan,         nan,         nan,         nan,         nan,\n",
       "                nan,         nan,         nan,         nan,         nan,\n",
       "                nan,         nan,         nan,         nan,         nan,\n",
       "                nan,         nan,         nan,         nan,         nan,\n",
       "                nan,         nan,         nan,         nan,         nan,\n",
       "                nan,         nan,         nan,         nan,         nan,\n",
       "                nan,         nan,         nan,         nan,         nan,\n",
       "                nan,         nan,         nan,         nan,         nan,\n",
       "                nan,         nan,         nan,         nan,         nan],\n",
       "       dtype=float32)\n",
       " Coordinates:\n",
       "     Xp1      float64 1.499e+04\n",
       "     Y        float64 2.65e+04\n",
       "   * Z        (Z) float64 -1.0 -3.0 -5.0 -7.0 ... -379.0 -385.0 -391.0 -397.0\n",
       "     T        float64 9.504e+05\n",
       " Attributes:\n",
       "     units:        m/s\n",
       "     coordinates:  XU YU RC iter)"
      ]
     },
     "execution_count": 3,
     "metadata": {},
     "output_type": "execute_result"
    }
   ],
   "source": [
    "idx = 130\n",
    "#dis[idx], xp1[idx], grid1.HFacC.data[:,35,idx]\n",
    "#grid1.dyF\n",
    "vol = grid1.HFacC * grid1.drF * grid1.rA # Z Y X\n",
    "areaC = grid1.HFacC * grid1.drF * grid1.dyF # Z Y X\n",
    "areaW = grid1.HFacW * grid1.drF * grid1.dyG # Z Y Xp1\n",
    "temp = state1.Temp.data\n",
    "s = state1.S.where(HFacC>0)\n",
    "U = state1.U.where(grid1.HFacW>0)\n",
    "sW = np.where(HFacC[-1,40,1:] == 0)[-1][0] # Sill west edge index\n",
    "sE = np.where(HFacC[-1,40,1:] == 0)[-1][-1] # Sill east edge index\n",
    "sC = np.ceil((sW+sE)/2).astype(int) # Sill crest index (178)\n",
    "#state1.U.data[5,:,40,178], U[5,:,40,178]\n",
    "#dis[sW], dis[sE], dis[sC]\n",
    "#dis[[sW,sC,sE,259]]\n",
    "#Q = u1[2,:,:] * areaW[:,:,xs].data\n",
    "sW, sE, sC, U[22,:,40,178]"
   ]
  },
  {
   "cell_type": "code",
   "execution_count": 4,
   "metadata": {},
   "outputs": [
    {
     "data": {
      "text/plain": [
       "52.816062613043414"
      ]
     },
     "execution_count": 4,
     "metadata": {},
     "output_type": "execute_result"
    }
   ],
   "source": [
    "Q1out = np.empty(len(time1))\n",
    "#Q2out = np.empty(len(time))\n",
    "Q1in = np.empty(len(time1))\n",
    "#Q2in = np.empty(len(time))\n",
    "for t in range(len(time1)):\n",
    "    Q1 = u1[t,:,:] * areaW.data[:,:,xs]\n",
    "    #Q2 = u2[t,:,:] * Area * HFacW\n",
    "    Q1out[t] = Q1[Q1 > 0].sum()\n",
    "    #Q2out[t] = Q2[Q2 > 0].sum()\n",
    "    Q1in[t] = Q1[Q1 < 0].sum()\n",
    "    #Q2in[t] = Q2[Q2 < 0].sum()\n",
    "\n",
    "np.mean(Q1out[1]+Q1in[1])\n",
    "#Q1in[[35,38]], Q1out[[35,38]]"
   ]
  },
  {
   "cell_type": "code",
   "execution_count": 5,
   "metadata": {},
   "outputs": [
    {
     "data": {
      "text/plain": [
       "array([ 0.        , 52.81606261, 62.84835387, 45.40568016, 45.7935678 ,\n",
       "       53.28335675, 54.18809492, 48.06680867, 49.28494764, 48.78564555,\n",
       "       49.8348367 , 52.14717826, 49.34540701, 49.15542515, 49.61337984,\n",
       "       51.43971293, 49.4427297 , 49.21766557, 50.81188364, 49.83590497,\n",
       "       49.38214415, 50.53843763, 49.86690562, 49.50955598, 50.57298004,\n",
       "       49.70415668, 49.75211887, 50.39859407, 49.65396159, 50.1866127 ,\n",
       "       49.89320012, 49.83007076, 50.2407136 , 49.74332253, 50.2113734 ,\n",
       "       49.80680169, 50.02625509, 49.98002192, 49.89934423, 50.11314041,\n",
       "       49.83826713, 50.13864626, 49.83692468, 50.09995353, 49.87504168,\n",
       "       50.04003543, 49.93258906, 49.98927785, 49.98373636, 49.94997515,\n",
       "       50.01824554, 49.92579479, 50.0337837 , 49.914371  , 50.03619906,\n",
       "       49.91543216, 50.02980887, 49.92379524, 50.0166105 , 49.93732037,\n",
       "       50.0040706 , 49.95342485, 49.98856398, 49.96749729, 49.97602742,\n",
       "       49.98182564, 49.96428008, 49.98855974, 49.95871727, 49.99325442,\n",
       "       49.9593628 , 49.99522122, 49.96324017, 49.99260593, 49.9682738 ,\n",
       "       49.98631626, 49.98044519, 49.98240317, 49.99059362, 49.97654064,\n",
       "       49.99837414, 49.9723304 , 49.9855262 , 49.97023317, 49.97958267,\n",
       "       49.97111952, 49.97761384, 49.9865885 , 49.98793833, 49.99587641,\n",
       "       49.9848074 , 49.99104824, 49.98360965, 49.97671401, 49.98006517,\n",
       "       49.98040493, 49.98603447, 49.98004196, 49.98122743, 49.98181081,\n",
       "       49.97698582, 49.98147814, 49.97798037, 49.97529373, 49.97998637,\n",
       "       49.97573472, 49.97626314, 49.97931731, 49.96898747, 49.96757743,\n",
       "       49.9760728 , 49.96768276, 49.97377536, 49.96703322, 49.96628838,\n",
       "       49.97178391, 49.96988365, 49.96761933, 49.9678683 , 49.96758718,\n",
       "       49.96336217])"
      ]
     },
     "execution_count": 5,
     "metadata": {},
     "output_type": "execute_result"
    },
    {
     "data": {
      "image/png": "[encoded data removed]",
      "text/plain": [
       "<Figure size 864x864 with 3 Axes>"
      ]
     },
     "metadata": {
      "needs_background": "light"
     },
     "output_type": "display_data"
    }
   ],
   "source": [
    "#fig_path = \"/Users/weiyangbao/Documents/Results_Figs/VolumeTest/\"\n",
    "#if not os.path.exists(fig_path):\n",
    "#    os.makedirs(fig_path)\n",
    "\n",
    "fig, (ax1, ax2, ax3) = plt.subplots(3,1, sharex=True, figsize=(12,12)) \n",
    "ax1.plot(time1,Q1in+Q1out, label='ConserveMass OFF')\n",
    "#ax1.plot(time,Q2in+Q2out, label='ConserveMass ON')\n",
    "ax1.set_title('$Q_{net}$', size=15, weight='bold')\n",
    "#ax1.legend(loc = 'best', fontsize=15)\n",
    "ax1.tick_params(labelsize=15)\n",
    "ax1.xaxis.set_visible(False)\n",
    "ax1.set_ylabel('Volume flux ($m^3/s$)', size=15)\n",
    "\n",
    "\n",
    "ax2.plot(time1,Q1out, label='ConserveMass OFF')\n",
    "#ax2.plot(time,Q2out, label='ConserveMass ON')\n",
    "#ax2.axvline(x=275, color='b',lw=2)\n",
    "\n",
    "ax2.set_title('$Q_1$', size=15, weight='bold')\n",
    "#ax2.legend(loc = 'best', fontsize=15)\n",
    "ax2.tick_params(labelsize=15)\n",
    "ax2.xaxis.set_visible(False)\n",
    "ax2.set_ylabel('Volume flux ($m^3/s$)', size=15)\n",
    "\n",
    "\n",
    "ax3.plot(time1,Q1in, label='ConserveMass OFF')\n",
    "#ax3.plot(time,Q2in, label='ConserveMass ON')\n",
    "#ax3.axvline(x=275, color='b',lw=2)\n",
    "ax3.set_title('$Q_2$', size=15, weight='bold')\n",
    "#ax3.legend(loc = 'best', fontsize=15)\n",
    "ax3.tick_params(labelsize=15)\n",
    "\n",
    "ax3.set_xlabel('Time (d)', size=15)\n",
    "ax3.set_ylabel('Volume flux ($m^3/s$)', size=15)\n",
    "Q1in+Q1out"
   ]
  },
  {
   "cell_type": "code",
   "execution_count": null,
   "metadata": {},
   "outputs": [],
   "source": [
    "N = np.arange(1,41,1)\n",
    "N / 1.03505, time1[-1], time1[90]"
   ]
  },
  {
   "cell_type": "code",
   "execution_count": null,
   "metadata": {},
   "outputs": [],
   "source": [
    "def volflux_ts(file, xidx):\n",
    "    State01 = xr.open_dataset('/Volumes/Extreme SSD/MITgcm outputs/qf700_strat_high/state_' + str(format(file,'03d')) + '.nc')\n",
    "    Grid01 = xr.open_dataset('/Volumes/Extreme SSD/MITgcm outputs/qf700_strat_high/grid_' + str(format(file,'03d')) + '.nc')\n",
    "    T0 = 1 # Start time\n",
    "    Tn = len(State01.T) # End time\n",
    "    State = State01.isel(X=range(1,120), Xp1=range(1,121), Y=range(30,39), T=range(T0,Tn))\n",
    "    Grid = Grid01.isel(X=range(1,120), Xp1=range(1,121), Y=range(30,39))    \n",
    "    \n",
    "    time = State.T.data / 86400\n",
    "    \n",
    "    Area = np.empty([50, 9]) # Cross Y direction\n",
    "    Area[:10, :] = 100\n",
    "    Area[10:20, :] = 200\n",
    "    Area[20:30, :] = 300\n",
    "    Area[30:40, :] = 800\n",
    "    Area[40:, :] = 1600\n",
    "\n",
    "    HFacW = Grid.HFacW.data[:,:,xidx] # vertical fraction of open cell at West face\n",
    "    \n",
    "    Q1 = np.empty(len(time))\n",
    "    Q2 = np.empty(len(time))\n",
    "    for t in range(len(time)):\n",
    "        Q = State.U.data[t,:,:,xidx] * Area * HFacW\n",
    "        Q1[t] = Q[Q > 0].sum()\n",
    "        Q2[t] = Q[Q < 0].sum()\n",
    "    \n",
    "    return time, Q1, Q2"
   ]
  },
  {
   "cell_type": "code",
   "execution_count": null,
   "metadata": {},
   "outputs": [],
   "source": [
    "prof = np.array([1,2,3,4])\n",
    "hsr = np.array([9, 12, 15, 18]) / 150\n",
    "xi = 47\n",
    "fig1 = plt.figure(figsize=(10,10))\n",
    "fig1.tight_layout()\n",
    "\n",
    "ax1 = fig1.add_subplot(211)\n",
    "#ax1.axvline(x=4.8, color='k',lw=1.5,ls='--')\n",
    "ax1.set_xlim([0, 30])\n",
    "ax1.set_title(r'(a) Down fjord', loc='center', size=15)\n",
    "#ax1.xaxis.set_visible(False)\n",
    "ax1.set_ylabel(r'Volume Flux [$m^3/s$]', size=15)\n",
    "ax1.grid(True)\n",
    "ax1.set_xticklabels([])\n",
    "ax1.spines[\"top\"].set_visible(False)\n",
    "ax1.spines[\"right\"].set_visible(False)\n",
    "\n",
    "\n",
    "\n",
    "ax2 = fig1.add_subplot(212)\n",
    "ax2.set_xlim([0, 30])\n",
    "ax2.set_title(r'(b) Up fjord', loc='center', size=15)\n",
    "ax2.set_ylabel(r'volume Flux [$m^3/s$]', size=15)\n",
    "ax2.set_xlabel('Time [d]', size=15)\n",
    "ax2.grid(True)\n",
    "ax2.spines[\"top\"].set_visible(False)\n",
    "ax2.spines[\"right\"].set_visible(False)\n",
    "\n",
    "#ax3 = fig1.add_subplot(313)\n",
    "#ax3.set_xlim([0, 30])\n",
    "#ax3.set_title(r'(c) Net', loc='center', size=15)\n",
    "#ax3.set_xlabel('Time [d]', size=15)\n",
    "#ax3.set_ylabel('Heat Flux [J/s]', size=15)\n",
    "#ax3.grid(True)\n",
    "#ax3.spines[\"top\"].set_visible(False)\n",
    "#ax3.spines[\"right\"].set_visible(False)\n",
    "\n",
    "for i in range(len(prof)):\n",
    "    ot, qp, qn = volflux_ts(prof[i],xi)\n",
    "    \n",
    "    ax1.plot(ot, qp, lw=2, label=str(prof[i]))\n",
    "    ax1.legend(title=r'case', loc='right', fontsize=12)\n",
    "    \n",
    "    ax2.plot(ot, qn, lw=2, label=str(prof[i]))\n",
    "    ax2.legend(title=r'case', loc='right', fontsize=12)\n",
    "    \n",
    "    #ax3.plot(ot, advhp+advhn, lw=2, label=str(hsr[i]))\n",
    "    #ax3.legend(title=r'$h_s/h$', loc='right', fontsize=12)"
   ]
  },
  {
   "cell_type": "code",
   "execution_count": null,
   "metadata": {},
   "outputs": [],
   "source": [
    "#fig_path = \"/Users/weiyangbao/Documents/Results_Figs/VolumeTest/\"\n",
    "\n",
    "fig_path =\"/home/1959/Jupyter_Figs/Qsg500n_004/\"\n",
    "if not os.path.exists(fig_path):\n",
    "    os.makedirs(fig_path)\n",
    "\n",
    "fig.savefig(fig_path + '/Q_test.png', dpi=200, bbox_inches='tight')    "
   ]
  },
  {
   "cell_type": "code",
   "execution_count": null,
   "metadata": {},
   "outputs": [],
   "source": []
  }
 ],
 "metadata": {
  "kernelspec": {
   "display_name": "Python 3 (ipykernel)",
   "language": "python",
   "name": "python3"
  },
  "language_info": {
   "codemirror_mode": {
    "name": "ipython",
    "version": 3
   },
   "file_extension": ".py",
   "mimetype": "text/x-python",
   "name": "python",
   "nbconvert_exporter": "python",
   "pygments_lexer": "ipython3",
   "version": "3.7.11"
  }
 },
 "nbformat": 4,
 "nbformat_minor": 4
}
