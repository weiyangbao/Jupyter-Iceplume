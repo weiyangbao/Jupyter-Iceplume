{
 "cells": [
  {
   "cell_type": "code",
   "execution_count": 1,
   "metadata": {},
   "outputs": [],
   "source": [
    "# Exchange fluxes above the sill\n",
    "import xarray as xr\n",
    "import numpy as np\n",
    "import matplotlib.pyplot as plt\n",
    "import os"
   ]
  },
  {
   "cell_type": "code",
   "execution_count": 2,
   "metadata": {},
   "outputs": [
    {
     "data": {
      "text/plain": [
       "array([ 0. ,  0.5,  1. ,  1.5,  2. ,  2.5,  3. ,  3.5,  4. ,  4.5,  5. ,\n",
       "        5.5,  6. ,  6.5,  7. ,  7.5,  8. ,  8.5,  9. ,  9.5, 10. , 10.5,\n",
       "       11. , 11.5, 12. , 12.5, 12. , 12.5, 13. , 13.5, 14. , 14.5, 15. ,\n",
       "       15.5, 16. , 16.5, 17. , 17.5, 18. , 18.5, 19. , 19.5, 20. , 20.5,\n",
       "       21. , 21.5, 22. , 22.5, 23. , 23.5, 24. , 24.5, 25. , 25.5, 26. ,\n",
       "       26.5, 27. , 27.5, 28. , 28.5, 29. , 29.5, 30. , 30.5, 31. , 31.5,\n",
       "       32. , 32.5, 33. , 33.5, 34. , 34.5, 35. , 35.5, 36. , 36.5, 37. ,\n",
       "       37.5, 38. , 38.5, 39. , 39.5, 40. , 40.5, 41. , 41.5, 42. , 42.5,\n",
       "       43. , 43.5, 44. , 44.5, 45. , 45.5, 46. , 46.5, 47. , 47.5, 48. ,\n",
       "       48.5, 49. , 49.5, 50. , 50.5, 51. , 51.5, 52. , 52.5, 53. , 53.5,\n",
       "       54. , 54.5, 55. , 55.5, 56. , 56.5, 57. , 57.5, 58. , 58.5, 59. ,\n",
       "       59.5, 60. ])"
      ]
     },
     "execution_count": 2,
     "metadata": {},
     "output_type": "execute_result"
    }
   ],
   "source": [
    "sd = 5 # Sill depth\n",
    "#/Volumes/Extreme SSD/MITgcm outputs\n",
    "#/work/oceans/wbao/MITgcm_results/iceplume/fjord_test\n",
    "#/Users/weiyangbao/.CMVolumes/Caviness-group/iceplume/\n",
    "file1 = xr.open_dataset('/work/oceans/wbao/MITgcm_results/iceplume/1_BaseCase/state_' + str(format(sd,'03d')) + '.nc')\n",
    "#file2 = xr.open_dataset('/work/oceans/wbao/MITgcm_results/iceplume/newModel_test/stateA_' + str(format(sd,'03d')) + '.nc')\n",
    "T0 = 0 \n",
    "Tn = len(file1.T) # T0=275~Tn includes N=5 tidal periods (T=12.4 h)\n",
    "# X=range(1,120), Xp1=range(1,121), Y=range(30,39), Yp1=range(30,40)\n",
    "state1 = file1.isel(T=range(T0,Tn)) # Remove the boundary walls and the shelf region\n",
    "#state2 = file2.isel(T=~file2.get_index(\"T\").duplicated())\n",
    "grid1 = xr.open_dataset('/work/oceans/wbao/MITgcm_results/iceplume/1_BaseCase/grid_' + str(format(sd,'03d')) + '.nc')\n",
    "#file2 = xr.open_dataset('/Users/weiyangbao/Documents/Model_outputs/qf-tide-hourly/state_' + str(format(sd,'03d')) + '.nc')\n",
    "#state2 = file2.isel(X=range(120), Xp1=range(121), Y=range(30,39), Yp1=range(30,40)) # Remove the boundary walls and the shelf region\n",
    "#grid2 = xr.open_dataset('/Users/weiyangbao/Documents/Model_outputs/qf-tide-hourly/grid_' + str(format(sd,'03d')) + '.nc')\n",
    "\n",
    "time1 = state1.T.data / 86400\n",
    "#time2 = state2.T.data / 86400\n",
    "xs = 5\n",
    "u1 = state1.U.data[:,:,:,xs]\n",
    "#u2 = state2.U.data[:,:,:,xs]\n",
    "#u = state1.U.data[T0,:,5,xs]\n",
    "dis = state1.X.data\n",
    "xp1 = state1.Xp1.data\n",
    "\n",
    "# Area = np.empty([50, 9]) # Cross Y direction\n",
    "# Area[:10, :] = 100\n",
    "# Area[10:20, :] = 200\n",
    "# Area[20:30, :] = 300\n",
    "# Area[30:40, :] = 800\n",
    "# Area[40:, :] = 1600\n",
    "\n",
    "Area = np.empty([90, 10]) # Cross Y direction\n",
    "Area[:20, :] = 400\n",
    "Area[20:50, :] = 800\n",
    "Area[50:, :] = 1200\n",
    "\n",
    "pt1 = state1.Temp.data[:,:,:,xs]\n",
    "#pt2 = state2.Temp.data[:,:,:,xs]\n",
    "\n",
    "\n",
    "s1 = state1.S.data[:,:,:,xs]\n",
    "#s2 = state2.S.data[:,:,:,xs]\n",
    "\n",
    "\n",
    "\n",
    "HFacW = grid1.HFacW.data[:,35:45,xs] # vertical fraction of open cell at West face\n",
    "HFacC = grid1.HFacC\n",
    "# volume = ds.hFacC * ds.drF * ds.rA\n",
    "#state1.Xp1.data[72], state1.X.data[71]\n",
    "#len(time), time\n",
    "time1"
   ]
  },
  {
   "cell_type": "code",
   "execution_count": null,
   "metadata": {},
   "outputs": [],
   "source": [
    "u1[:,15,40], u2[:,15,40], s1[:,15,40], s2[:,15,40]"
   ]
  },
  {
   "cell_type": "code",
   "execution_count": null,
   "metadata": {},
   "outputs": [],
   "source": [
    "fig0, (ax1, ax2, ax3) = plt.subplots(3,1, sharex=True, figsize=(9,9))\n",
    "ts1 = time1 * 86400\n",
    "ts2 = time2 * 86400\n",
    "zi = 40\n",
    "ax1.plot(ts1,u1[:,zi,40],label=\"no restart\")\n",
    "ax1.plot(ts2,u2[:,zi,40],lw=.5,label=\"with restart\")\n",
    "ax1.set_title('$U$', size=15, weight='bold')\n",
    "ax1.legend(loc = 'best', fontsize=15)\n",
    "ax1.tick_params(labelsize=15)\n",
    "ax1.xaxis.set_visible(False)\n",
    "ax1.set_ylabel('($m/s$)', size=15)\n",
    "\n",
    "\n",
    "ax2.plot(ts1,pt1[:,zi,40], ts2, pt2[:,zi,40])\n",
    "ax2.set_title('$Temp$', size=15, weight='bold')\n",
    "#ax2.legend(loc = 'best', fontsize=15)\n",
    "ax2.tick_params(labelsize=15)\n",
    "ax2.xaxis.set_visible(False)\n",
    "ax2.set_ylabel('($^{\\circ}C$)', size=15)\n",
    "\n",
    "\n",
    "\n",
    "ax3.plot(ts1,s1[:,zi,40], ts2, s2[:,zi,40])\n",
    "ax3.set_title('$Sal$', size=15, weight='bold')\n",
    "#ax2.legend(loc = 'best', fontsize=15)\n",
    "ax3.tick_params(labelsize=15)\n",
    "ax3.set_ylabel('($psu$)', size=15)\n",
    "\n",
    "ax3.set_xlabel('Time (s)', size=15)"
   ]
  },
  {
   "cell_type": "code",
   "execution_count": 3,
   "metadata": {},
   "outputs": [
    {
     "data": {
      "text/plain": [
       "(120, 235)"
      ]
     },
     "execution_count": 3,
     "metadata": {},
     "output_type": "execute_result"
    }
   ],
   "source": [
    "idx = 130\n",
    "#dis[idx], xp1[idx], grid1.HFacC.data[:,35,idx]\n",
    "#grid1.dyF\n",
    "vol = grid1.HFacC * grid1.drF * grid1.rA # Z Y X\n",
    "areaC = grid1.HFacC * grid1.drF * grid1.dyF # Z Y X\n",
    "areaW = grid1.HFacW * grid1.drF * grid1.dyG # Z Y Xp1\n",
    "temp = state1.Temp.data\n",
    "s = state1.S.where(HFacC>0)\n",
    "U = state1.U.where(grid1.HFacW>0)\n",
    "sW = np.where(HFacC[-1,40,1:] == 0)[-1][0] # Sill west edge index\n",
    "sE = np.where(HFacC[-1,40,1:] == 0)[-1][-1] # Sill east edge index\n",
    "sC = np.ceil((sW+sE)/2).astype(int) # Sill crest index (178)\n",
    "#state1.U.data[5,:,40,178], U[5,:,40,178]\n",
    "#dis[sW], dis[sE], dis[sC]\n",
    "#dis[[sW,sC,sE,259]]\n",
    "#Q = u1[2,:,:] * areaW[:,:,xs].data\n",
    "sW, sE"
   ]
  },
  {
   "cell_type": "code",
   "execution_count": 4,
   "metadata": {},
   "outputs": [
    {
     "data": {
      "text/plain": [
       "250.27275122465653"
      ]
     },
     "execution_count": 4,
     "metadata": {},
     "output_type": "execute_result"
    }
   ],
   "source": [
    "Q1out = np.empty(len(time1))\n",
    "#Q2out = np.empty(len(time))\n",
    "Q1in = np.empty(len(time1))\n",
    "#Q2in = np.empty(len(time))\n",
    "for t in range(len(time1)):\n",
    "    Q1 = u1[t,:,:] * areaW.data[:,:,xs]\n",
    "    #Q2 = u2[t,:,:] * Area * HFacW\n",
    "    Q1out[t] = Q1[Q1 > 0].sum()\n",
    "    #Q2out[t] = Q2[Q2 > 0].sum()\n",
    "    Q1in[t] = Q1[Q1 < 0].sum()\n",
    "    #Q2in[t] = Q2[Q2 < 0].sum()\n",
    "\n",
    "np.mean(Q1out[1]+Q1in[1])\n",
    "#Q1in[[35,38]], Q1out[[35,38]]"
   ]
  },
  {
   "cell_type": "code",
   "execution_count": 5,
   "metadata": {},
   "outputs": [
    {
     "data": {
      "text/plain": [
       "array([  0.        , 250.27275122, 252.15701196, 249.79714708,\n",
       "       249.65294377, 250.00259248, 250.21892906, 250.52731827,\n",
       "       249.8267777 , 250.16643999, 250.09594476, 249.7725564 ,\n",
       "       250.32672691, 249.78791803, 250.23782875, 249.84894527,\n",
       "       250.18593008, 249.90922681, 250.17065562, 249.91877488,\n",
       "       250.14240668, 249.9079635 , 250.14776161, 249.99651741,\n",
       "       250.07634074, 249.93101757, 250.07634074, 249.93197646,\n",
       "       250.10876554, 250.01515464, 250.08994805, 250.03130066,\n",
       "       250.06865025, 250.02340923, 250.07172477, 250.00965737,\n",
       "       250.01039879, 250.01065104, 250.06526969, 250.02371293,\n",
       "       249.97710294, 250.0450456 , 250.05094863, 249.93705351,\n",
       "       250.09422736, 250.01423993, 249.96111763, 250.02209677,\n",
       "       249.93781632, 250.06699735, 250.03777605, 250.29960452,\n",
       "       250.00069885, 249.93218572, 249.88572773, 249.84735223,\n",
       "       249.99910472, 250.06208985, 249.86538528, 249.98731856,\n",
       "       250.38108678, 250.3604985 , 250.22173717, 249.70076809,\n",
       "       249.22978409, 249.89322854, 249.9060571 , 250.51552143,\n",
       "       250.55909593, 249.22310219, 249.48120945, 250.68048259,\n",
       "       250.44820613, 249.09524555, 250.53539409, 249.88348784,\n",
       "       249.78360441, 249.91280836, 250.51782249, 250.16147931,\n",
       "       249.74837001, 249.95068607, 250.13427077, 250.38820031,\n",
       "       249.76079239, 249.76879589, 250.07924252, 249.95425328,\n",
       "       250.1169909 , 250.03325008, 249.74001755, 250.32826624,\n",
       "       249.98989103, 249.95532318, 250.23211421, 249.77082553,\n",
       "       249.95890785, 249.97373258, 250.0170011 , 249.86568504,\n",
       "       250.13745509, 250.29886046, 249.72459003, 249.82979452,\n",
       "       250.14106815, 250.10295906, 249.84237608, 249.89331008,\n",
       "       250.14480653, 250.03415576, 250.20457293, 249.84539644,\n",
       "       249.99348852, 249.87984947, 249.80411541, 250.02184254,\n",
       "       249.96062941, 250.01746694, 249.94808862, 250.02987208,\n",
       "       250.20678112, 250.09129675, 250.27600012])"
      ]
     },
     "execution_count": 5,
     "metadata": {},
     "output_type": "execute_result"
    },
    {
     "data": {
      "image/png": "[encoded data removed]",
      "text/plain": [
       "<Figure size 864x864 with 3 Axes>"
      ]
     },
     "metadata": {
      "needs_background": "light"
     },
     "output_type": "display_data"
    }
   ],
   "source": [
    "#fig_path = \"/Users/weiyangbao/Documents/Results_Figs/VolumeTest/\"\n",
    "#if not os.path.exists(fig_path):\n",
    "#    os.makedirs(fig_path)\n",
    "\n",
    "fig, (ax1, ax2, ax3) = plt.subplots(3,1, sharex=True, figsize=(12,12)) \n",
    "ax1.plot(time1,Q1in+Q1out, label='ConserveMass OFF')\n",
    "#ax1.plot(time,Q2in+Q2out, label='ConserveMass ON')\n",
    "ax1.set_title('$Q_{net}$', size=15, weight='bold')\n",
    "#ax1.legend(loc = 'best', fontsize=15)\n",
    "ax1.tick_params(labelsize=15)\n",
    "ax1.xaxis.set_visible(False)\n",
    "ax1.set_ylabel('Volume flux ($m^3/s$)', size=15)\n",
    "\n",
    "\n",
    "ax2.plot(time1,Q1out, label='ConserveMass OFF')\n",
    "#ax2.plot(time,Q2out, label='ConserveMass ON')\n",
    "#ax2.axvline(x=275, color='b',lw=2)\n",
    "\n",
    "ax2.set_title('$Q_1$', size=15, weight='bold')\n",
    "#ax2.legend(loc = 'best', fontsize=15)\n",
    "ax2.tick_params(labelsize=15)\n",
    "ax2.xaxis.set_visible(False)\n",
    "ax2.set_ylabel('Volume flux ($m^3/s$)', size=15)\n",
    "\n",
    "\n",
    "ax3.plot(time1,Q1in, label='ConserveMass OFF')\n",
    "#ax3.plot(time,Q2in, label='ConserveMass ON')\n",
    "#ax3.axvline(x=275, color='b',lw=2)\n",
    "ax3.set_title('$Q_2$', size=15, weight='bold')\n",
    "#ax3.legend(loc = 'best', fontsize=15)\n",
    "ax3.tick_params(labelsize=15)\n",
    "\n",
    "ax3.set_xlabel('Time (d)', size=15)\n",
    "ax3.set_ylabel('Volume flux ($m^3/s$)', size=15)\n",
    "Q1in+Q1out"
   ]
  },
  {
   "cell_type": "code",
   "execution_count": null,
   "metadata": {},
   "outputs": [],
   "source": [
    "def volflux_ts(file, xidx):\n",
    "    State01 = xr.open_dataset('/Volumes/Extreme SSD/MITgcm outputs/qf700_strat_high/state_' + str(format(file,'03d')) + '.nc')\n",
    "    Grid01 = xr.open_dataset('/Volumes/Extreme SSD/MITgcm outputs/qf700_strat_high/grid_' + str(format(file,'03d')) + '.nc')\n",
    "    T0 = 1 # Start time\n",
    "    Tn = len(State01.T) # End time\n",
    "    State = State01.isel(X=range(1,120), Xp1=range(1,121), Y=range(30,39), T=range(T0,Tn))\n",
    "    Grid = Grid01.isel(X=range(1,120), Xp1=range(1,121), Y=range(30,39))    \n",
    "    \n",
    "    time = State.T.data / 86400\n",
    "    \n",
    "    Area = np.empty([50, 9]) # Cross Y direction\n",
    "    Area[:10, :] = 100\n",
    "    Area[10:20, :] = 200\n",
    "    Area[20:30, :] = 300\n",
    "    Area[30:40, :] = 800\n",
    "    Area[40:, :] = 1600\n",
    "\n",
    "    HFacW = Grid.HFacW.data[:,:,xidx] # vertical fraction of open cell at West face\n",
    "    \n",
    "    Q1 = np.empty(len(time))\n",
    "    Q2 = np.empty(len(time))\n",
    "    for t in range(len(time)):\n",
    "        Q = State.U.data[t,:,:,xidx] * Area * HFacW\n",
    "        Q1[t] = Q[Q > 0].sum()\n",
    "        Q2[t] = Q[Q < 0].sum()\n",
    "    \n",
    "    return time, Q1, Q2"
   ]
  },
  {
   "cell_type": "code",
   "execution_count": null,
   "metadata": {},
   "outputs": [],
   "source": [
    "prof = np.array([1,2,3,4])\n",
    "hsr = np.array([9, 12, 15, 18]) / 150\n",
    "xi = 47\n",
    "fig1 = plt.figure(figsize=(10,10))\n",
    "fig1.tight_layout()\n",
    "\n",
    "ax1 = fig1.add_subplot(211)\n",
    "#ax1.axvline(x=4.8, color='k',lw=1.5,ls='--')\n",
    "ax1.set_xlim([0, 30])\n",
    "ax1.set_title(r'(a) Down fjord', loc='center', size=15)\n",
    "#ax1.xaxis.set_visible(False)\n",
    "ax1.set_ylabel(r'Volume Flux [$m^3/s$]', size=15)\n",
    "ax1.grid(True)\n",
    "ax1.set_xticklabels([])\n",
    "ax1.spines[\"top\"].set_visible(False)\n",
    "ax1.spines[\"right\"].set_visible(False)\n",
    "\n",
    "\n",
    "\n",
    "ax2 = fig1.add_subplot(212)\n",
    "ax2.set_xlim([0, 30])\n",
    "ax2.set_title(r'(b) Up fjord', loc='center', size=15)\n",
    "ax2.set_ylabel(r'volume Flux [$m^3/s$]', size=15)\n",
    "ax2.set_xlabel('Time [d]', size=15)\n",
    "ax2.grid(True)\n",
    "ax2.spines[\"top\"].set_visible(False)\n",
    "ax2.spines[\"right\"].set_visible(False)\n",
    "\n",
    "#ax3 = fig1.add_subplot(313)\n",
    "#ax3.set_xlim([0, 30])\n",
    "#ax3.set_title(r'(c) Net', loc='center', size=15)\n",
    "#ax3.set_xlabel('Time [d]', size=15)\n",
    "#ax3.set_ylabel('Heat Flux [J/s]', size=15)\n",
    "#ax3.grid(True)\n",
    "#ax3.spines[\"top\"].set_visible(False)\n",
    "#ax3.spines[\"right\"].set_visible(False)\n",
    "\n",
    "for i in range(len(prof)):\n",
    "    ot, qp, qn = volflux_ts(prof[i],xi)\n",
    "    \n",
    "    ax1.plot(ot, qp, lw=2, label=str(prof[i]))\n",
    "    ax1.legend(title=r'case', loc='right', fontsize=12)\n",
    "    \n",
    "    ax2.plot(ot, qn, lw=2, label=str(prof[i]))\n",
    "    ax2.legend(title=r'case', loc='right', fontsize=12)\n",
    "    \n",
    "    #ax3.plot(ot, advhp+advhn, lw=2, label=str(hsr[i]))\n",
    "    #ax3.legend(title=r'$h_s/h$', loc='right', fontsize=12)"
   ]
  },
  {
   "cell_type": "code",
   "execution_count": null,
   "metadata": {},
   "outputs": [],
   "source": [
    "#fig_path = \"/Users/weiyangbao/Documents/Results_Figs/VolumeTest/\"\n",
    "\n",
    "fig_path =\"/home/1959/Jupyter_Figs/Qsg500n_004/\"\n",
    "if not os.path.exists(fig_path):\n",
    "    os.makedirs(fig_path)\n",
    "\n",
    "fig.savefig(fig_path + '/Q_test.png', dpi=200, bbox_inches='tight')    "
   ]
  },
  {
   "cell_type": "code",
   "execution_count": null,
   "metadata": {},
   "outputs": [],
   "source": []
  }
 ],
 "metadata": {
  "kernelspec": {
   "display_name": "Python 3 (ipykernel)",
   "language": "python",
   "name": "python3"
  },
  "language_info": {
   "codemirror_mode": {
    "name": "ipython",
    "version": 3
   },
   "file_extension": ".py",
   "mimetype": "text/x-python",
   "name": "python",
   "nbconvert_exporter": "python",
   "pygments_lexer": "ipython3",
   "version": "3.7.11"
  }
 },
 "nbformat": 4,
 "nbformat_minor": 4
}
