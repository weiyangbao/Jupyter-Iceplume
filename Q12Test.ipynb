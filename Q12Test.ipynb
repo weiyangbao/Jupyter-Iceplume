{
 "cells": [
  {
   "cell_type": "code",
   "execution_count": 1,
   "metadata": {},
   "outputs": [],
   "source": [
    "# Exchange fluxes above the sill\n",
    "import xarray as xr\n",
    "import numpy as np\n",
    "import matplotlib.pyplot as plt\n",
    "import os"
   ]
  },
  {
   "cell_type": "code",
   "execution_count": 2,
   "metadata": {},
   "outputs": [
    {
     "data": {
      "text/plain": [
       "array([-0.04513431, -0.03596788, -0.02660988, -0.01146906,  0.00345579,\n",
       "        0.00507959, -0.00042774, -0.02223739,  0.        ,  0.        ,\n",
       "        0.        ,  0.        ,  0.        ,  0.        ,  0.        ,\n",
       "        0.        ,  0.        ,  0.        ,  0.        ,  0.        ,\n",
       "        0.        ,  0.        ,  0.        ,  0.        ,  0.        ,\n",
       "        0.        ,  0.        ,  0.        ,  0.        ,  0.        ,\n",
       "        0.        ,  0.        ,  0.        ,  0.        ,  0.        ,\n",
       "        0.        ,  0.        ,  0.        ,  0.        ,  0.        ,\n",
       "        0.        ,  0.        ,  0.        ,  0.        ,  0.        ,\n",
       "        0.        ,  0.        ,  0.        ,  0.        ,  0.        ,\n",
       "        0.        ,  0.        ,  0.        ,  0.        ,  0.        ,\n",
       "        0.        ,  0.        ,  0.        ,  0.        ,  0.        ,\n",
       "        0.        ,  0.        ,  0.        ,  0.        ,  0.        ,\n",
       "        0.        ,  0.        ,  0.        ,  0.        ,  0.        ,\n",
       "        0.        ,  0.        ,  0.        ,  0.        ,  0.        ,\n",
       "        0.        ,  0.        ,  0.        ,  0.        ,  0.        ,\n",
       "        0.        ,  0.        ,  0.        ,  0.        ,  0.        ,\n",
       "        0.        ,  0.        ,  0.        ,  0.        ,  0.        ],\n",
       "      dtype=float32)"
      ]
     },
     "execution_count": 2,
     "metadata": {},
     "output_type": "execute_result"
    }
   ],
   "source": [
    "sd = 1 # Sill depth\n",
    "#/Volumes/Extreme SSD/MITgcm outputs\n",
    "#/work/oceans/wbao/MITgcm_results/iceplume/fjord_test\n",
    "#/Users/weiyangbao/.CMVolumes/Caviness-group/iceplume/\n",
    "file1 = xr.open_dataset('/work/oceans/wbao/MITgcm_results/iceplume/4_Sz_minhs/state_' + str(format(sd,'03d')) + '.nc')\n",
    "#file2 = xr.open_dataset('/work/oceans/wbao/MITgcm_results/iceplume/shallow_fjord01/icefrntA_' + str(format(sd,'03d')) + '.nc')\n",
    "T0 = 0 \n",
    "Tn = len(file1.T) # T0=275~Tn includes N=5 tidal periods (T=12.4 h)\n",
    "# X=range(1,120), Xp1=range(1,121), Y=range(30,39), Yp1=range(30,40)\n",
    "#state1 = file1.isel(T=range(T0,Tn)) # Remove the boundary walls and the shelf region\n",
    "state1 = file1.isel(T=~file1.get_index(\"T\").duplicated())\n",
    "grid1 = xr.open_dataset('/work/oceans/wbao/MITgcm_results/iceplume/4_Sz_minhs/grid_' + str(format(sd,'03d')) + '.nc')\n",
    "#file2 = xr.open_dataset('/Users/weiyangbao/Documents/Model_outputs/qf-tide-hourly/state_' + str(format(sd,'03d')) + '.nc')\n",
    "#state2 = file2.isel(X=range(120), Xp1=range(121), Y=range(30,39), Yp1=range(30,40)) # Remove the boundary walls and the shelf region\n",
    "#grid2 = xr.open_dataset('/Users/weiyangbao/Documents/Model_outputs/qf-tide-hourly/grid_' + str(format(sd,'03d')) + '.nc')\n",
    "\n",
    "time1 = state1.T.data\n",
    "#time2 = state2.T.data / 86400\n",
    "xs = 178\n",
    "u1 = state1.U.data[:,:,:,xs]\n",
    "#u2 = state2.U.data[:,:,:,xs]\n",
    "#u = state1.U.data[T0,:,5,xs]\n",
    "dis = state1.X.data\n",
    "xp1 = state1.Xp1.data\n",
    "\n",
    "# Area = np.empty([50, 9]) # Cross Y direction\n",
    "# Area[:10, :] = 100\n",
    "# Area[10:20, :] = 200\n",
    "# Area[20:30, :] = 300\n",
    "# Area[30:40, :] = 800\n",
    "# Area[40:, :] = 1600\n",
    "\n",
    "Area = np.empty([45, 10]) # Cross Y direction\n",
    "Area[:10, :] = 400\n",
    "Area[10:25, :] = 800\n",
    "Area[25:, :] = 1200\n",
    "\n",
    "pt1 = state1.Temp.data[:,:,:,xs]\n",
    "#pt2 = state2.Temp.data[:,:,:,xs]\n",
    "\n",
    "\n",
    "s1 = state1.S.data[:,:,:,xs]\n",
    "#s2 = state2.S.data[:,:,:,xs]\n",
    "\n",
    "\n",
    "\n",
    "HFacW = grid1.HFacW.data[:,35:45,xs] # vertical fraction of open cell at West face\n",
    "HFacC = grid1.HFacC\n",
    "# volume = ds.hFacC * ds.drF * ds.rA\n",
    "#state1.Xp1.data[72], state1.X.data[71]\n",
    "#len(time), time\n",
    "#time1\n",
    "u1[10,:,40]"
   ]
  },
  {
   "cell_type": "code",
   "execution_count": null,
   "metadata": {},
   "outputs": [],
   "source": [
    "def IFA_shallow(datapath, case_id):\n",
    "    # Grid areas\n",
    "    Area = np.empty([90, 10])\n",
    "    Area[:20,:] = 200\n",
    "    Area[20:50,:] = 400\n",
    "    Area[50:,:] = 600\n",
    "    file0 = xr.open_dataset(datapath+'/icefrntA_' + str(format(case_id,'03d')) + '.nc')\n",
    "    file = file0.isel(T=~file0.get_index(\"T\").duplicated()) \n",
    "    t0 = 0\n",
    "    #t0 = 89\n",
    "    tn = len(file.T)\n",
    "    state = file.isel(Y=range(35,45), T=range(t0,tn))\n",
    "    MR = state.icefrntA.isel(X=1).data.mean(0) # Melt rate at the icefront\n",
    "    Qsm = (MR*Area).sum()/(24*3600)\n",
    "    return Qsm"
   ]
  },
  {
   "cell_type": "code",
   "execution_count": null,
   "metadata": {},
   "outputs": [],
   "source": [
    "path = '/work/oceans/wbao/MITgcm_results/iceplume/shallow_fjord01/'\n",
    "qsm1 = IFA_shallow(path,3)\n",
    "qsm1"
   ]
  },
  {
   "cell_type": "code",
   "execution_count": null,
   "metadata": {},
   "outputs": [],
   "source": [
    "fig0, (ax1, ax2, ax3) = plt.subplots(3,1, sharex=True, figsize=(9,9))\n",
    "ts1 = time1 * 86400\n",
    "ts2 = time2 * 86400\n",
    "zi = 40\n",
    "ax1.plot(ts1,u1[:,zi,40],label=\"no restart\")\n",
    "ax1.plot(ts2,u2[:,zi,40],lw=.5,label=\"with restart\")\n",
    "ax1.set_title('$U$', size=15, weight='bold')\n",
    "ax1.legend(loc = 'best', fontsize=15)\n",
    "ax1.tick_params(labelsize=15)\n",
    "ax1.xaxis.set_visible(False)\n",
    "ax1.set_ylabel('($m/s$)', size=15)\n",
    "\n",
    "\n",
    "ax2.plot(ts1,pt1[:,zi,40], ts2, pt2[:,zi,40])\n",
    "ax2.set_title('$Temp$', size=15, weight='bold')\n",
    "#ax2.legend(loc = 'best', fontsize=15)\n",
    "ax2.tick_params(labelsize=15)\n",
    "ax2.xaxis.set_visible(False)\n",
    "ax2.set_ylabel('($^{\\circ}C$)', size=15)\n",
    "\n",
    "\n",
    "\n",
    "ax3.plot(ts1,s1[:,zi,40], ts2, s2[:,zi,40])\n",
    "ax3.set_title('$Sal$', size=15, weight='bold')\n",
    "#ax2.legend(loc = 'best', fontsize=15)\n",
    "ax3.tick_params(labelsize=15)\n",
    "ax3.set_ylabel('($psu$)', size=15)\n",
    "\n",
    "ax3.set_xlabel('Time (s)', size=15)"
   ]
  },
  {
   "cell_type": "code",
   "execution_count": 3,
   "metadata": {},
   "outputs": [
    {
     "data": {
      "text/plain": [
       "(120, 235, 178)"
      ]
     },
     "execution_count": 3,
     "metadata": {},
     "output_type": "execute_result"
    }
   ],
   "source": [
    "idx = 130\n",
    "#dis[idx], xp1[idx], grid1.HFacC.data[:,35,idx]\n",
    "#grid1.dyF\n",
    "vol = grid1.HFacC * grid1.drF * grid1.rA # Z Y X\n",
    "areaC = grid1.HFacC * grid1.drF * grid1.dyF # Z Y X\n",
    "areaW = grid1.HFacW * grid1.drF * grid1.dyG # Z Y Xp1\n",
    "temp = state1.Temp.data\n",
    "s = state1.S.where(HFacC>0)\n",
    "U = state1.U.where(grid1.HFacW>0)\n",
    "sW = np.where(HFacC[-1,40,1:] == 0)[-1][0] # Sill west edge index\n",
    "sE = np.where(HFacC[-1,40,1:] == 0)[-1][-1] # Sill east edge index\n",
    "sC = np.ceil((sW+sE)/2).astype(int) # Sill crest index (178)\n",
    "#state1.U.data[5,:,40,178], U[5,:,40,178]\n",
    "#dis[sW], dis[sE], dis[sC]\n",
    "#dis[[sW,sC,sE,259]]\n",
    "#Q = u1[2,:,:] * areaW[:,:,xs].data\n",
    "sW, sE, sC"
   ]
  },
  {
   "cell_type": "code",
   "execution_count": 9,
   "metadata": {},
   "outputs": [
    {
     "data": {
      "text/plain": [
       "249.25851037260145"
      ]
     },
     "execution_count": 9,
     "metadata": {},
     "output_type": "execute_result"
    }
   ],
   "source": [
    "Q1out = np.empty(len(time1))\n",
    "#Q2out = np.empty(len(time))\n",
    "Q1in = np.empty(len(time1))\n",
    "#Q2in = np.empty(len(time))\n",
    "for t in range(len(time1)):\n",
    "    Q1 = u1[t,:,:] * areaW.data[:,:,xs]\n",
    "    #Q2 = u2[t,:,:] * Area * HFacW\n",
    "    Q1out[t] = Q1[Q1 > 0].sum()\n",
    "    #Q2out[t] = Q2[Q2 > 0].sum()\n",
    "    Q1in[t] = Q1[Q1 < 0].sum()\n",
    "    #Q2in[t] = Q2[Q2 < 0].sum()\n",
    "\n",
    "np.mean(Q1out[1]+Q1in[1])\n",
    "#Q1in[[35,38]], Q1out[[35,38]]"
   ]
  },
  {
   "cell_type": "code",
   "execution_count": 5,
   "metadata": {},
   "outputs": [
    {
     "data": {
      "text/plain": [
       "array([0.00000000e+00, 1.09135707e-10, 8.66968997e+00, 2.48670947e+02,\n",
       "       2.78946708e+02, 4.31675845e+02, 4.80533251e+02, 4.94781352e+02,\n",
       "       4.99950206e+02, 4.31382840e+02, 3.07714691e+02, 2.14952815e+02,\n",
       "       9.11080540e+01, 1.17471490e+01, 5.11863545e+00, 7.10183358e+00,\n",
       "       5.19605008e+01, 1.67673513e+02, 2.87691354e+02, 4.00832437e+02,\n",
       "       4.82939215e+02, 5.09022282e+02, 4.93874270e+02, 4.25777193e+02,\n",
       "       3.22710824e+02, 2.16678491e+02, 1.13658764e+02, 3.63639777e+01,\n",
       "       5.67337610e+00, 8.74029139e+00, 5.68702703e+01, 1.52894629e+02,\n",
       "       2.76410207e+02, 3.81727135e+02, 4.49469995e+02, 4.95626854e+02,\n",
       "       4.99169576e+02, 4.44472523e+02, 3.45812855e+02, 2.29557567e+02,\n",
       "       1.21243746e+02, 4.20034597e+01, 4.36438337e+00, 1.49417623e+01,\n",
       "       6.80187017e+01, 1.50607046e+02, 2.54004308e+02, 3.58855923e+02,\n",
       "       4.37265144e+02, 4.83843535e+02, 4.93568588e+02, 4.46330216e+02,\n",
       "       3.56130459e+02, 2.49672369e+02, 1.43839734e+02, 6.19841036e+01,\n",
       "       1.38992691e+01, 6.32263888e+00, 5.24250630e+01, 1.40202924e+02,\n",
       "       2.48103494e+02, 3.53775301e+02, 4.29910088e+02, 4.70891207e+02,\n",
       "       4.79392337e+02, 4.42459754e+02, 3.64676682e+02, 2.68619059e+02,\n",
       "       1.68489064e+02, 8.10105710e+01, 2.47507132e+01, 1.23495012e+01,\n",
       "       5.18622766e+01, 1.31770456e+02, 2.30676330e+02, 3.33688029e+02,\n",
       "       4.20147322e+02, 4.72527031e+02, 4.84290975e+02, 4.48790018e+02,\n",
       "       3.70981168e+02, 2.72838436e+02, 1.76442387e+02, 9.68078610e+01,\n",
       "       4.39983989e+01, 2.66319376e+01, 5.22334143e+01, 1.18883354e+02,\n",
       "       2.12343395e+02, 3.13987913e+02, 4.04247560e+02, 4.64162833e+02,\n",
       "       4.81499086e+02, 4.52232570e+02, 3.82087315e+02, 2.88447002e+02,\n",
       "       1.91180799e+02, 1.05750205e+02, 4.68337750e+01, 2.82627424e+01,\n",
       "       5.55560894e+01])"
      ]
     },
     "execution_count": 5,
     "metadata": {},
     "output_type": "execute_result"
    }
   ],
   "source": [
    "Q1out + Q1in"
   ]
  },
  {
   "cell_type": "code",
   "execution_count": null,
   "metadata": {},
   "outputs": [],
   "source": [
    "#fig_path = \"/Users/weiyangbao/Documents/Results_Figs/VolumeTest/\"\n",
    "#if not os.path.exists(fig_path):\n",
    "#    os.makedirs(fig_path)\n",
    "\n",
    "fig, (ax1, ax2, ax3) = plt.subplots(3,1, sharex=True, figsize=(12,12)) \n",
    "ax1.plot(time1,Q1in+Q1out, label='ConserveMass OFF')\n",
    "#ax1.plot(time,Q2in+Q2out, label='ConserveMass ON')\n",
    "ax1.set_title('$Q_{net}$', size=15, weight='bold')\n",
    "#ax1.legend(loc = 'best', fontsize=15)\n",
    "ax1.tick_params(labelsize=15)\n",
    "ax1.xaxis.set_visible(False)\n",
    "ax1.set_ylabel('Volume flux ($m^3/s$)', size=15)\n",
    "\n",
    "\n",
    "ax2.plot(time1,Q1out, label='ConserveMass OFF')\n",
    "#ax2.plot(time,Q2out, label='ConserveMass ON')\n",
    "#ax2.axvline(x=275, color='b',lw=2)\n",
    "\n",
    "ax2.set_title('$Q_1$', size=15, weight='bold')\n",
    "#ax2.legend(loc = 'best', fontsize=15)\n",
    "ax2.tick_params(labelsize=15)\n",
    "ax2.xaxis.set_visible(False)\n",
    "ax2.set_ylabel('Volume flux ($m^3/s$)', size=15)\n",
    "\n",
    "\n",
    "ax3.plot(time1,Q1in, label='ConserveMass OFF')\n",
    "#ax3.plot(time,Q2in, label='ConserveMass ON')\n",
    "#ax3.axvline(x=275, color='b',lw=2)\n",
    "ax3.set_title('$Q_2$', size=15, weight='bold')\n",
    "#ax3.legend(loc = 'best', fontsize=15)\n",
    "ax3.tick_params(labelsize=15)\n",
    "\n",
    "ax3.set_xlabel('Time (d)', size=15)\n",
    "ax3.set_ylabel('Volume flux ($m^3/s$)', size=15)\n",
    "Q1in+Q1out"
   ]
  },
  {
   "cell_type": "code",
   "execution_count": null,
   "metadata": {},
   "outputs": [],
   "source": [
    "N = np.arange(1,41,1)\n",
    "N / 1.03505, time1[-1], time1[90]"
   ]
  },
  {
   "cell_type": "code",
   "execution_count": null,
   "metadata": {},
   "outputs": [],
   "source": [
    "def volflux_ts(file, xidx):\n",
    "    State01 = xr.open_dataset('/Volumes/Extreme SSD/MITgcm outputs/qf700_strat_high/state_' + str(format(file,'03d')) + '.nc')\n",
    "    Grid01 = xr.open_dataset('/Volumes/Extreme SSD/MITgcm outputs/qf700_strat_high/grid_' + str(format(file,'03d')) + '.nc')\n",
    "    T0 = 1 # Start time\n",
    "    Tn = len(State01.T) # End time\n",
    "    State = State01.isel(X=range(1,120), Xp1=range(1,121), Y=range(30,39), T=range(T0,Tn))\n",
    "    Grid = Grid01.isel(X=range(1,120), Xp1=range(1,121), Y=range(30,39))    \n",
    "    \n",
    "    time = State.T.data / 86400\n",
    "    \n",
    "    Area = np.empty([50, 9]) # Cross Y direction\n",
    "    Area[:10, :] = 100\n",
    "    Area[10:20, :] = 200\n",
    "    Area[20:30, :] = 300\n",
    "    Area[30:40, :] = 800\n",
    "    Area[40:, :] = 1600\n",
    "\n",
    "    HFacW = Grid.HFacW.data[:,:,xidx] # vertical fraction of open cell at West face\n",
    "    \n",
    "    Q1 = np.empty(len(time))\n",
    "    Q2 = np.empty(len(time))\n",
    "    for t in range(len(time)):\n",
    "        Q = State.U.data[t,:,:,xidx] * Area * HFacW\n",
    "        Q1[t] = Q[Q > 0].sum()\n",
    "        Q2[t] = Q[Q < 0].sum()\n",
    "    \n",
    "    return time, Q1, Q2"
   ]
  },
  {
   "cell_type": "code",
   "execution_count": null,
   "metadata": {},
   "outputs": [],
   "source": [
    "prof = np.array([1,2,3,4])\n",
    "hsr = np.array([9, 12, 15, 18]) / 150\n",
    "xi = 47\n",
    "fig1 = plt.figure(figsize=(10,10))\n",
    "fig1.tight_layout()\n",
    "\n",
    "ax1 = fig1.add_subplot(211)\n",
    "#ax1.axvline(x=4.8, color='k',lw=1.5,ls='--')\n",
    "ax1.set_xlim([0, 30])\n",
    "ax1.set_title(r'(a) Down fjord', loc='center', size=15)\n",
    "#ax1.xaxis.set_visible(False)\n",
    "ax1.set_ylabel(r'Volume Flux [$m^3/s$]', size=15)\n",
    "ax1.grid(True)\n",
    "ax1.set_xticklabels([])\n",
    "ax1.spines[\"top\"].set_visible(False)\n",
    "ax1.spines[\"right\"].set_visible(False)\n",
    "\n",
    "\n",
    "\n",
    "ax2 = fig1.add_subplot(212)\n",
    "ax2.set_xlim([0, 30])\n",
    "ax2.set_title(r'(b) Up fjord', loc='center', size=15)\n",
    "ax2.set_ylabel(r'volume Flux [$m^3/s$]', size=15)\n",
    "ax2.set_xlabel('Time [d]', size=15)\n",
    "ax2.grid(True)\n",
    "ax2.spines[\"top\"].set_visible(False)\n",
    "ax2.spines[\"right\"].set_visible(False)\n",
    "\n",
    "#ax3 = fig1.add_subplot(313)\n",
    "#ax3.set_xlim([0, 30])\n",
    "#ax3.set_title(r'(c) Net', loc='center', size=15)\n",
    "#ax3.set_xlabel('Time [d]', size=15)\n",
    "#ax3.set_ylabel('Heat Flux [J/s]', size=15)\n",
    "#ax3.grid(True)\n",
    "#ax3.spines[\"top\"].set_visible(False)\n",
    "#ax3.spines[\"right\"].set_visible(False)\n",
    "\n",
    "for i in range(len(prof)):\n",
    "    ot, qp, qn = volflux_ts(prof[i],xi)\n",
    "    \n",
    "    ax1.plot(ot, qp, lw=2, label=str(prof[i]))\n",
    "    ax1.legend(title=r'case', loc='right', fontsize=12)\n",
    "    \n",
    "    ax2.plot(ot, qn, lw=2, label=str(prof[i]))\n",
    "    ax2.legend(title=r'case', loc='right', fontsize=12)\n",
    "    \n",
    "    #ax3.plot(ot, advhp+advhn, lw=2, label=str(hsr[i]))\n",
    "    #ax3.legend(title=r'$h_s/h$', loc='right', fontsize=12)"
   ]
  },
  {
   "cell_type": "code",
   "execution_count": null,
   "metadata": {},
   "outputs": [],
   "source": [
    "#fig_path = \"/Users/weiyangbao/Documents/Results_Figs/VolumeTest/\"\n",
    "\n",
    "fig_path =\"/home/1959/Jupyter_Figs/Qsg500n_004/\"\n",
    "if not os.path.exists(fig_path):\n",
    "    os.makedirs(fig_path)\n",
    "\n",
    "fig.savefig(fig_path + '/Q_test.png', dpi=200, bbox_inches='tight')    "
   ]
  },
  {
   "cell_type": "code",
   "execution_count": null,
   "metadata": {},
   "outputs": [],
   "source": []
  }
 ],
 "metadata": {
  "kernelspec": {
   "display_name": "Python 3 (ipykernel)",
   "language": "python",
   "name": "python3"
  },
  "language_info": {
   "codemirror_mode": {
    "name": "ipython",
    "version": 3
   },
   "file_extension": ".py",
   "mimetype": "text/x-python",
   "name": "python",
   "nbconvert_exporter": "python",
   "pygments_lexer": "ipython3",
   "version": "3.7.11"
  }
 },
 "nbformat": 4,
 "nbformat_minor": 4
}
