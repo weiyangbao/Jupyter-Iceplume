{
 "cells": [
  {
   "cell_type": "code",
   "execution_count": 1,
   "metadata": {},
   "outputs": [],
   "source": [
    "# Exchange fluxes above the sill\n",
    "import xarray as xr\n",
    "import numpy as np\n",
    "import matplotlib.pyplot as plt\n",
    "import os"
   ]
  },
  {
   "cell_type": "code",
   "execution_count": 2,
   "metadata": {},
   "outputs": [
    {
     "data": {
      "text/plain": [
       "array([-2.22916678e-02, -1.03028296e-02,  6.11534691e-04,  1.02383932e-02,\n",
       "        1.88689381e-02,  2.60447506e-02,  3.13900001e-02,  3.48004252e-02,\n",
       "        3.68075855e-02,  3.72138470e-02,  3.59100588e-02,  3.29320990e-02,\n",
       "        2.83211432e-02,  2.21307259e-02,  1.42091345e-02,  4.30707354e-03,\n",
       "       -7.30903586e-03, -2.05996204e-02, -3.63464504e-02, -5.28669246e-02,\n",
       "       -7.17712715e-02, -7.81875476e-02, -6.83720708e-02, -5.49331233e-02,\n",
       "       -4.10891660e-02, -3.09104118e-02, -2.33694781e-02, -1.75702218e-02,\n",
       "       -1.36299776e-02, -1.08942380e-02, -9.04175825e-03, -7.71874608e-03,\n",
       "       -6.73018862e-03, -5.95590379e-03, -5.32202935e-03, -4.78090812e-03,\n",
       "       -4.30153031e-03, -3.86613444e-03, -3.46573209e-03, -3.09550599e-03,\n",
       "       -2.75387825e-03, -2.44221091e-03, -2.16332567e-03, -1.91758224e-03,\n",
       "       -1.70208630e-03, -1.51393982e-03, -1.35262602e-03, -1.21596653e-03,\n",
       "       -1.09847903e-03, -9.94262984e-04, -8.76872218e-04, -7.81343842e-04,\n",
       "       -6.93864247e-04, -6.21167303e-04, -5.70333446e-04, -5.06392389e-04,\n",
       "       -4.70983912e-04, -4.26723796e-04, -3.78701370e-04, -3.66874330e-04,\n",
       "       -3.27464746e-04, -2.81166227e-04, -2.82727502e-04, -2.24558404e-04,\n",
       "       -1.90366351e-04, -2.11810257e-04, -1.56449489e-04, -1.05120162e-04,\n",
       "       -1.42811477e-04, -1.23894119e-04, -4.99636408e-05, -1.29695632e-04,\n",
       "       -4.46274098e-05, -3.61861348e-05, -1.06169529e-04,  1.25725364e-05,\n",
       "       -9.07081121e-05, -5.35456420e-05, -3.82517064e-05, -1.91400122e-05,\n",
       "       -6.01837528e-05, -5.94303674e-05, -4.99037051e-05, -4.53575085e-05,\n",
       "       -4.55599293e-05, -7.33248016e-05, -4.60026313e-05, -7.56558729e-05,\n",
       "       -1.11540292e-04,  0.00000000e+00], dtype=float32)"
      ]
     },
     "execution_count": 2,
     "metadata": {},
     "output_type": "execute_result"
    }
   ],
   "source": [
    "sd = 5 # Sill depth\n",
    "#/Volumes/Extreme SSD/MITgcm outputs\n",
    "#/work/oceans/wbao/MITgcm_results/iceplume/fjord_test\n",
    "#/Users/weiyangbao/.CMVolumes/Caviness-group/iceplume/\n",
    "file1 = xr.open_dataset('/work/oceans/wbao/MITgcm_results/iceplume/1_BaseCase/state_' + str(format(sd,'03d')) + '.nc')\n",
    "#file2 = xr.open_dataset('/work/oceans/wbao/MITgcm_results/iceplume/shallow_fjord01/icefrntA_' + str(format(sd,'03d')) + '.nc')\n",
    "T0 = 0 \n",
    "Tn = len(file1.T) # T0=275~Tn includes N=5 tidal periods (T=12.4 h)\n",
    "# X=range(1,120), Xp1=range(1,121), Y=range(30,39), Yp1=range(30,40)\n",
    "#state1 = file1.isel(T=range(T0,Tn)) # Remove the boundary walls and the shelf region\n",
    "state1 = file1.isel(T=~file1.get_index(\"T\").duplicated())\n",
    "grid1 = xr.open_dataset('/work/oceans/wbao/MITgcm_results/iceplume/1_BaseCase/grid_' + str(format(sd,'03d')) + '.nc')\n",
    "#file2 = xr.open_dataset('/Users/weiyangbao/Documents/Model_outputs/qf-tide-hourly/state_' + str(format(sd,'03d')) + '.nc')\n",
    "#state2 = file2.isel(X=range(120), Xp1=range(121), Y=range(30,39), Yp1=range(30,40)) # Remove the boundary walls and the shelf region\n",
    "#grid2 = xr.open_dataset('/Users/weiyangbao/Documents/Model_outputs/qf-tide-hourly/grid_' + str(format(sd,'03d')) + '.nc')\n",
    "\n",
    "time1 = state1.T.data\n",
    "#time2 = state2.T.data / 86400\n",
    "xs = 235\n",
    "u1 = state1.U.data[:,:,:,xs]\n",
    "#u2 = state2.U.data[:,:,:,xs]\n",
    "#u = state1.U.data[T0,:,5,xs]\n",
    "dis = state1.X.data\n",
    "xp1 = state1.Xp1.data\n",
    "\n",
    "# Area = np.empty([50, 9]) # Cross Y direction\n",
    "# Area[:10, :] = 100\n",
    "# Area[10:20, :] = 200\n",
    "# Area[20:30, :] = 300\n",
    "# Area[30:40, :] = 800\n",
    "# Area[40:, :] = 1600\n",
    "\n",
    "Area = np.empty([45, 10]) # Cross Y direction\n",
    "Area[:10, :] = 400\n",
    "Area[10:25, :] = 800\n",
    "Area[25:, :] = 1200\n",
    "\n",
    "pt1 = state1.Temp.data[:,:,:,xs]\n",
    "#pt2 = state2.Temp.data[:,:,:,xs]\n",
    "\n",
    "\n",
    "s1 = state1.S.data[:,:,:,xs]\n",
    "#s2 = state2.S.data[:,:,:,xs]\n",
    "\n",
    "\n",
    "\n",
    "HFacW = grid1.HFacW.data[:,35:45,xs] # vertical fraction of open cell at West face\n",
    "HFacC = grid1.HFacC\n",
    "# volume = ds.hFacC * ds.drF * ds.rA\n",
    "#state1.Xp1.data[72], state1.X.data[71]\n",
    "#len(time), time\n",
    "#time1\n",
    "u1[10,:,40]"
   ]
  },
  {
   "cell_type": "code",
   "execution_count": null,
   "metadata": {},
   "outputs": [],
   "source": [
    "def IFA_shallow(datapath, case_id):\n",
    "    # Grid areas\n",
    "    Area = np.empty([90, 10])\n",
    "    Area[:20,:] = 200\n",
    "    Area[20:50,:] = 400\n",
    "    Area[50:,:] = 600\n",
    "    file0 = xr.open_dataset(datapath+'/icefrntA_' + str(format(case_id,'03d')) + '.nc')\n",
    "    file = file0.isel(T=~file0.get_index(\"T\").duplicated()) \n",
    "    t0 = 0\n",
    "    #t0 = 89\n",
    "    tn = len(file.T)\n",
    "    state = file.isel(Y=range(35,45), T=range(t0,tn))\n",
    "    MR = state.icefrntA.isel(X=1).data.mean(0) # Melt rate at the icefront\n",
    "    Qsm = (MR*Area).sum()/(24*3600)\n",
    "    return Qsm"
   ]
  },
  {
   "cell_type": "code",
   "execution_count": null,
   "metadata": {},
   "outputs": [],
   "source": [
    "path = '/work/oceans/wbao/MITgcm_results/iceplume/shallow_fjord01/'\n",
    "qsm1 = IFA_shallow(path,3)\n",
    "qsm1"
   ]
  },
  {
   "cell_type": "code",
   "execution_count": null,
   "metadata": {},
   "outputs": [],
   "source": [
    "fig0, (ax1, ax2, ax3) = plt.subplots(3,1, sharex=True, figsize=(9,9))\n",
    "ts1 = time1 * 86400\n",
    "ts2 = time2 * 86400\n",
    "zi = 40\n",
    "ax1.plot(ts1,u1[:,zi,40],label=\"no restart\")\n",
    "ax1.plot(ts2,u2[:,zi,40],lw=.5,label=\"with restart\")\n",
    "ax1.set_title('$U$', size=15, weight='bold')\n",
    "ax1.legend(loc = 'best', fontsize=15)\n",
    "ax1.tick_params(labelsize=15)\n",
    "ax1.xaxis.set_visible(False)\n",
    "ax1.set_ylabel('($m/s$)', size=15)\n",
    "\n",
    "\n",
    "ax2.plot(ts1,pt1[:,zi,40], ts2, pt2[:,zi,40])\n",
    "ax2.set_title('$Temp$', size=15, weight='bold')\n",
    "#ax2.legend(loc = 'best', fontsize=15)\n",
    "ax2.tick_params(labelsize=15)\n",
    "ax2.xaxis.set_visible(False)\n",
    "ax2.set_ylabel('($^{\\circ}C$)', size=15)\n",
    "\n",
    "\n",
    "\n",
    "ax3.plot(ts1,s1[:,zi,40], ts2, s2[:,zi,40])\n",
    "ax3.set_title('$Sal$', size=15, weight='bold')\n",
    "#ax2.legend(loc = 'best', fontsize=15)\n",
    "ax3.tick_params(labelsize=15)\n",
    "ax3.set_ylabel('($psu$)', size=15)\n",
    "\n",
    "ax3.set_xlabel('Time (s)', size=15)"
   ]
  },
  {
   "cell_type": "code",
   "execution_count": 3,
   "metadata": {},
   "outputs": [
    {
     "data": {
      "text/plain": [
       "(120, 235, 178)"
      ]
     },
     "execution_count": 3,
     "metadata": {},
     "output_type": "execute_result"
    }
   ],
   "source": [
    "idx = 130\n",
    "#dis[idx], xp1[idx], grid1.HFacC.data[:,35,idx]\n",
    "#grid1.dyF\n",
    "vol = grid1.HFacC * grid1.drF * grid1.rA # Z Y X\n",
    "areaC = grid1.HFacC * grid1.drF * grid1.dyF # Z Y X\n",
    "areaW = grid1.HFacW * grid1.drF * grid1.dyG # Z Y Xp1\n",
    "temp = state1.Temp.data\n",
    "s = state1.S.where(HFacC>0)\n",
    "U = state1.U.where(grid1.HFacW>0)\n",
    "sW = np.where(HFacC[-1,40,1:] == 0)[-1][0] # Sill west edge index\n",
    "sE = np.where(HFacC[-1,40,1:] == 0)[-1][-1] # Sill east edge index\n",
    "sC = np.ceil((sW+sE)/2).astype(int) # Sill crest index (178)\n",
    "#state1.U.data[5,:,40,178], U[5,:,40,178]\n",
    "#dis[sW], dis[sE], dis[sC]\n",
    "#dis[[sW,sC,sE,259]]\n",
    "#Q = u1[2,:,:] * areaW[:,:,xs].data\n",
    "sW, sE, sC"
   ]
  },
  {
   "cell_type": "code",
   "execution_count": 4,
   "metadata": {},
   "outputs": [
    {
     "data": {
      "text/plain": [
       "269.2907742041996"
      ]
     },
     "execution_count": 4,
     "metadata": {},
     "output_type": "execute_result"
    }
   ],
   "source": [
    "Q1out = np.empty(len(time1))\n",
    "#Q2out = np.empty(len(time))\n",
    "Q1in = np.empty(len(time1))\n",
    "#Q2in = np.empty(len(time))\n",
    "for t in range(len(time1)):\n",
    "    Q1 = u1[t,:,:] * areaW.data[:,:,xs]\n",
    "    #Q2 = u2[t,:,:] * Area * HFacW\n",
    "    Q1out[t] = Q1[Q1 > 0].sum()\n",
    "    #Q2out[t] = Q2[Q2 > 0].sum()\n",
    "    Q1in[t] = Q1[Q1 < 0].sum()\n",
    "    #Q2in[t] = Q2[Q2 < 0].sum()\n",
    "\n",
    "np.mean(Q1out[1]+Q1in[1])\n",
    "#Q1in[[35,38]], Q1out[[35,38]]"
   ]
  },
  {
   "cell_type": "code",
   "execution_count": null,
   "metadata": {},
   "outputs": [],
   "source": [
    "Q1out + Q1in"
   ]
  },
  {
   "cell_type": "code",
   "execution_count": 5,
   "metadata": {},
   "outputs": [
    {
     "data": {
      "image/png": "[encoded data removed]",
      "text/plain": [
       "<Figure size 864x864 with 3 Axes>"
      ]
     },
     "metadata": {
      "needs_background": "light"
     },
     "output_type": "display_data"
    }
   ],
   "source": [
    "#fig_path = \"/Users/weiyangbao/Documents/Results_Figs/VolumeTest/\"\n",
    "#if not os.path.exists(fig_path):\n",
    "#    os.makedirs(fig_path)\n",
    "\n",
    "fig, (ax1, ax2, ax3) = plt.subplots(3,1, sharex=True, figsize=(12,12)) \n",
    "ax1.plot(time1,Q1in+Q1out, label='ConserveMass OFF')\n",
    "#ax1.plot(time,Q2in+Q2out, label='ConserveMass ON')\n",
    "ax1.set_title('$Q_{net}$', size=15, weight='bold')\n",
    "#ax1.legend(loc = 'best', fontsize=15)\n",
    "ax1.tick_params(labelsize=15)\n",
    "ax1.xaxis.set_visible(False)\n",
    "ax1.set_ylabel('Volume flux ($m^3/s$)', size=15)\n",
    "\n",
    "\n",
    "ax2.plot(time1,Q1out, label='ConserveMass OFF')\n",
    "#ax2.plot(time,Q2out, label='ConserveMass ON')\n",
    "#ax2.axvline(x=275, color='b',lw=2)\n",
    "\n",
    "ax2.set_title('$Q_1$', size=15, weight='bold')\n",
    "#ax2.legend(loc = 'best', fontsize=15)\n",
    "ax2.tick_params(labelsize=15)\n",
    "ax2.xaxis.set_visible(False)\n",
    "ax2.set_ylabel('Volume flux ($m^3/s$)', size=15)\n",
    "\n",
    "\n",
    "ax3.plot(time1,Q1in, label='ConserveMass OFF')\n",
    "#ax3.plot(time,Q2in, label='ConserveMass ON')\n",
    "#ax3.axvline(x=275, color='b',lw=2)\n",
    "ax3.set_title('$Q_2$', size=15, weight='bold')\n",
    "#ax3.legend(loc = 'best', fontsize=15)\n",
    "ax3.tick_params(labelsize=15)\n",
    "\n",
    "ax3.set_xlabel('Time (d)', size=15)\n",
    "ax3.set_ylabel('Volume flux ($m^3/s$)', size=15)\n",
    "plt.show()"
   ]
  },
  {
   "cell_type": "code",
   "execution_count": null,
   "metadata": {},
   "outputs": [],
   "source": [
    "N = np.arange(1,41,1)\n",
    "N / 1.03505, time1[-1], time1[90]"
   ]
  },
  {
   "cell_type": "code",
   "execution_count": null,
   "metadata": {},
   "outputs": [],
   "source": [
    "def volflux_ts(file, xidx):\n",
    "    State01 = xr.open_dataset('/Volumes/Extreme SSD/MITgcm outputs/qf700_strat_high/state_' + str(format(file,'03d')) + '.nc')\n",
    "    Grid01 = xr.open_dataset('/Volumes/Extreme SSD/MITgcm outputs/qf700_strat_high/grid_' + str(format(file,'03d')) + '.nc')\n",
    "    T0 = 1 # Start time\n",
    "    Tn = len(State01.T) # End time\n",
    "    State = State01.isel(X=range(1,120), Xp1=range(1,121), Y=range(30,39), T=range(T0,Tn))\n",
    "    Grid = Grid01.isel(X=range(1,120), Xp1=range(1,121), Y=range(30,39))    \n",
    "    \n",
    "    time = State.T.data / 86400\n",
    "    \n",
    "    Area = np.empty([50, 9]) # Cross Y direction\n",
    "    Area[:10, :] = 100\n",
    "    Area[10:20, :] = 200\n",
    "    Area[20:30, :] = 300\n",
    "    Area[30:40, :] = 800\n",
    "    Area[40:, :] = 1600\n",
    "\n",
    "    HFacW = Grid.HFacW.data[:,:,xidx] # vertical fraction of open cell at West face\n",
    "    \n",
    "    Q1 = np.empty(len(time))\n",
    "    Q2 = np.empty(len(time))\n",
    "    for t in range(len(time)):\n",
    "        Q = State.U.data[t,:,:,xidx] * Area * HFacW\n",
    "        Q1[t] = Q[Q > 0].sum()\n",
    "        Q2[t] = Q[Q < 0].sum()\n",
    "    \n",
    "    return time, Q1, Q2"
   ]
  },
  {
   "cell_type": "code",
   "execution_count": null,
   "metadata": {},
   "outputs": [],
   "source": [
    "prof = np.array([1,2,3,4])\n",
    "hsr = np.array([9, 12, 15, 18]) / 150\n",
    "xi = 47\n",
    "fig1 = plt.figure(figsize=(10,10))\n",
    "fig1.tight_layout()\n",
    "\n",
    "ax1 = fig1.add_subplot(211)\n",
    "#ax1.axvline(x=4.8, color='k',lw=1.5,ls='--')\n",
    "ax1.set_xlim([0, 30])\n",
    "ax1.set_title(r'(a) Down fjord', loc='center', size=15)\n",
    "#ax1.xaxis.set_visible(False)\n",
    "ax1.set_ylabel(r'Volume Flux [$m^3/s$]', size=15)\n",
    "ax1.grid(True)\n",
    "ax1.set_xticklabels([])\n",
    "ax1.spines[\"top\"].set_visible(False)\n",
    "ax1.spines[\"right\"].set_visible(False)\n",
    "\n",
    "\n",
    "\n",
    "ax2 = fig1.add_subplot(212)\n",
    "ax2.set_xlim([0, 30])\n",
    "ax2.set_title(r'(b) Up fjord', loc='center', size=15)\n",
    "ax2.set_ylabel(r'volume Flux [$m^3/s$]', size=15)\n",
    "ax2.set_xlabel('Time [d]', size=15)\n",
    "ax2.grid(True)\n",
    "ax2.spines[\"top\"].set_visible(False)\n",
    "ax2.spines[\"right\"].set_visible(False)\n",
    "\n",
    "#ax3 = fig1.add_subplot(313)\n",
    "#ax3.set_xlim([0, 30])\n",
    "#ax3.set_title(r'(c) Net', loc='center', size=15)\n",
    "#ax3.set_xlabel('Time [d]', size=15)\n",
    "#ax3.set_ylabel('Heat Flux [J/s]', size=15)\n",
    "#ax3.grid(True)\n",
    "#ax3.spines[\"top\"].set_visible(False)\n",
    "#ax3.spines[\"right\"].set_visible(False)\n",
    "\n",
    "for i in range(len(prof)):\n",
    "    ot, qp, qn = volflux_ts(prof[i],xi)\n",
    "    \n",
    "    ax1.plot(ot, qp, lw=2, label=str(prof[i]))\n",
    "    ax1.legend(title=r'case', loc='right', fontsize=12)\n",
    "    \n",
    "    ax2.plot(ot, qn, lw=2, label=str(prof[i]))\n",
    "    ax2.legend(title=r'case', loc='right', fontsize=12)\n",
    "    \n",
    "    #ax3.plot(ot, advhp+advhn, lw=2, label=str(hsr[i]))\n",
    "    #ax3.legend(title=r'$h_s/h$', loc='right', fontsize=12)"
   ]
  },
  {
   "cell_type": "code",
   "execution_count": null,
   "metadata": {},
   "outputs": [],
   "source": [
    "#fig_path = \"/Users/weiyangbao/Documents/Results_Figs/VolumeTest/\"\n",
    "\n",
    "fig_path =\"/home/1959/Jupyter_Figs/Qsg500n_004/\"\n",
    "if not os.path.exists(fig_path):\n",
    "    os.makedirs(fig_path)\n",
    "\n",
    "fig.savefig(fig_path + '/Q_test.png', dpi=200, bbox_inches='tight')    "
   ]
  },
  {
   "cell_type": "code",
   "execution_count": null,
   "metadata": {},
   "outputs": [],
   "source": []
  }
 ],
 "metadata": {
  "kernelspec": {
   "display_name": "Python 3 (ipykernel)",
   "language": "python",
   "name": "python3"
  },
  "language_info": {
   "codemirror_mode": {
    "name": "ipython",
    "version": 3
   },
   "file_extension": ".py",
   "mimetype": "text/x-python",
   "name": "python",
   "nbconvert_exporter": "python",
   "pygments_lexer": "ipython3",
   "version": "3.7.11"
  }
 },
 "nbformat": 4,
 "nbformat_minor": 4
}
