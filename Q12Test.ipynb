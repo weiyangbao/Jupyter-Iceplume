{
 "cells": [
  {
   "cell_type": "code",
   "execution_count": 1,
   "metadata": {},
   "outputs": [],
   "source": [
    "# Exchange fluxes above the sill\n",
    "import xarray as xr\n",
    "import numpy as np\n",
    "import matplotlib.pyplot as plt\n",
    "import os"
   ]
  },
  {
   "cell_type": "code",
   "execution_count": 7,
   "metadata": {},
   "outputs": [
    {
     "data": {
      "text/plain": [
       "10.0"
      ]
     },
     "execution_count": 7,
     "metadata": {},
     "output_type": "execute_result"
    }
   ],
   "source": [
    "sd = 5 # Sill depth\n",
    "#/Volumes/Extreme SSD/MITgcm outputs\n",
    "#/work/oceans/wbao/MITgcm_results/iceplume/fjord_test\n",
    "#/Users/weiyangbao/.CMVolumes/Caviness-group/iceplume/\n",
    "file1 = xr.open_dataset('/Volumes/Extreme SSD/MITgcm outputs/1_BaseCase/state_' + str(format(sd,'03d')) + '.nc')\n",
    "file2 = xr.open_dataset('/Volumes/Extreme SSD/MITgcm outputs/1_BaseCase/icefrntA_' + str(format(sd,'03d')) + '.nc')\n",
    "T0 = 0 \n",
    "Tn = len(file1.T) # T0=275~Tn includes N=5 tidal periods (T=12.4 h)\n",
    "# X=range(1,120), Xp1=range(1,121), Y=range(30,39), Yp1=range(30,40)\n",
    "#state1 = file1.isel(T=range(T0,Tn)) # Remove the boundary walls and the shelf region\n",
    "state1 = file1.isel(T=~file1.get_index(\"T\").duplicated())\n",
    "grid1 = xr.open_dataset('/Volumes/Extreme SSD/MITgcm outputs/1_BaseCase/grid_' + str(format(sd,'03d')) + '.nc')\n",
    "#file2 = xr.open_dataset('/Users/weiyangbao/Documents/Model_outputs/qf-tide-hourly/state_' + str(format(sd,'03d')) + '.nc')\n",
    "#state2 = file2.isel(X=range(120), Xp1=range(121), Y=range(30,39), Yp1=range(30,40)) # Remove the boundary walls and the shelf region\n",
    "#grid2 = xr.open_dataset('/Users/weiyangbao/Documents/Model_outputs/qf-tide-hourly/grid_' + str(format(sd,'03d')) + '.nc')\n",
    "\n",
    "time1 = state1.T.data / 86400\n",
    "#time2 = state2.T.data / 86400\n",
    "xs = 235\n",
    "u1 = state1.U.data[:,:,:,xs]\n",
    "#u2 = state2.U.data[:,:,:,xs]\n",
    "#u = state1.U.data[T0,:,5,xs]\n",
    "dis = state1.X.data\n",
    "xp1 = state1.Xp1.data\n",
    "\n",
    "# Area = np.empty([50, 9]) # Cross Y direction\n",
    "# Area[:10, :] = 100\n",
    "# Area[10:20, :] = 200\n",
    "# Area[20:30, :] = 300\n",
    "# Area[30:40, :] = 800\n",
    "# Area[40:, :] = 1600\n",
    "\n",
    "Area = np.empty([90, 10]) # Cross Y direction\n",
    "Area[:20, :] = 400\n",
    "Area[20:50, :] = 800\n",
    "Area[50:, :] = 1200\n",
    "\n",
    "pt1 = state1.Temp.data[:,:,:,xs]\n",
    "#pt2 = state2.Temp.data[:,:,:,xs]\n",
    "\n",
    "\n",
    "s1 = state1.S.data[:,:,:,xs]\n",
    "#s2 = state2.S.data[:,:,:,xs]\n",
    "\n",
    "\n",
    "\n",
    "HFacW = grid1.HFacW.data[:,35:45,xs] # vertical fraction of open cell at West face\n",
    "HFacC = grid1.HFacC\n",
    "# volume = ds.hFacC * ds.drF * ds.rA\n",
    "#state1.Xp1.data[72], state1.X.data[71]\n",
    "#len(time), time\n",
    "#time1\n",
    "pt1[0,0,40]"
   ]
  },
  {
   "cell_type": "code",
   "execution_count": null,
   "metadata": {},
   "outputs": [],
   "source": [
    "u1[:,15,40], u2[:,15,40], s1[:,15,40], s2[:,15,40]"
   ]
  },
  {
   "cell_type": "code",
   "execution_count": null,
   "metadata": {},
   "outputs": [],
   "source": [
    "fig0, (ax1, ax2, ax3) = plt.subplots(3,1, sharex=True, figsize=(9,9))\n",
    "ts1 = time1 * 86400\n",
    "ts2 = time2 * 86400\n",
    "zi = 40\n",
    "ax1.plot(ts1,u1[:,zi,40],label=\"no restart\")\n",
    "ax1.plot(ts2,u2[:,zi,40],lw=.5,label=\"with restart\")\n",
    "ax1.set_title('$U$', size=15, weight='bold')\n",
    "ax1.legend(loc = 'best', fontsize=15)\n",
    "ax1.tick_params(labelsize=15)\n",
    "ax1.xaxis.set_visible(False)\n",
    "ax1.set_ylabel('($m/s$)', size=15)\n",
    "\n",
    "\n",
    "ax2.plot(ts1,pt1[:,zi,40], ts2, pt2[:,zi,40])\n",
    "ax2.set_title('$Temp$', size=15, weight='bold')\n",
    "#ax2.legend(loc = 'best', fontsize=15)\n",
    "ax2.tick_params(labelsize=15)\n",
    "ax2.xaxis.set_visible(False)\n",
    "ax2.set_ylabel('($^{\\circ}C$)', size=15)\n",
    "\n",
    "\n",
    "\n",
    "ax3.plot(ts1,s1[:,zi,40], ts2, s2[:,zi,40])\n",
    "ax3.set_title('$Sal$', size=15, weight='bold')\n",
    "#ax2.legend(loc = 'best', fontsize=15)\n",
    "ax3.tick_params(labelsize=15)\n",
    "ax3.set_ylabel('($psu$)', size=15)\n",
    "\n",
    "ax3.set_xlabel('Time (s)', size=15)"
   ]
  },
  {
   "cell_type": "code",
   "execution_count": 8,
   "metadata": {},
   "outputs": [
    {
     "data": {
      "text/plain": [
       "(120,\n",
       " 235,\n",
       " 178,\n",
       " <xarray.DataArray 'U' (Z: 90)>\n",
       " array([ 0.08994982,  0.08970529,  0.0895564 ,  0.09031019,  0.08679446,\n",
       "         0.08705772,  0.08559218,  0.08220691,  0.08268254,  0.07747874,\n",
       "         0.07698002,  0.07167863,  0.06953618,  0.05870419,  0.0501381 ,\n",
       "         0.02694229, -0.00848573, -0.05840332, -0.12281363, -0.18610339,\n",
       "        -0.22832172, -0.2107984 ,         nan,         nan,         nan,\n",
       "                nan,         nan,         nan,         nan,         nan,\n",
       "                nan,         nan,         nan,         nan,         nan,\n",
       "                nan,         nan,         nan,         nan,         nan,\n",
       "                nan,         nan,         nan,         nan,         nan,\n",
       "                nan,         nan,         nan,         nan,         nan,\n",
       "                nan,         nan,         nan,         nan,         nan,\n",
       "                nan,         nan,         nan,         nan,         nan,\n",
       "                nan,         nan,         nan,         nan,         nan,\n",
       "                nan,         nan,         nan,         nan,         nan,\n",
       "                nan,         nan,         nan,         nan,         nan,\n",
       "                nan,         nan,         nan,         nan,         nan,\n",
       "                nan,         nan,         nan,         nan,         nan,\n",
       "                nan,         nan,         nan,         nan,         nan],\n",
       "       dtype=float32)\n",
       " Coordinates:\n",
       "     Xp1      float64 1.499e+04\n",
       "     Y        float64 2.65e+04\n",
       "   * Z        (Z) float64 -1.0 -3.0 -5.0 -7.0 ... -379.0 -385.0 -391.0 -397.0\n",
       "     T        float64 9.504e+05\n",
       " Attributes:\n",
       "     units:        m/s\n",
       "     coordinates:  XU YU RC iter)"
      ]
     },
     "execution_count": 8,
     "metadata": {},
     "output_type": "execute_result"
    }
   ],
   "source": [
    "idx = 130\n",
    "#dis[idx], xp1[idx], grid1.HFacC.data[:,35,idx]\n",
    "#grid1.dyF\n",
    "vol = grid1.HFacC * grid1.drF * grid1.rA # Z Y X\n",
    "areaC = grid1.HFacC * grid1.drF * grid1.dyF # Z Y X\n",
    "areaW = grid1.HFacW * grid1.drF * grid1.dyG # Z Y Xp1\n",
    "temp = state1.Temp.data\n",
    "s = state1.S.where(HFacC>0)\n",
    "U = state1.U.where(grid1.HFacW>0)\n",
    "sW = np.where(HFacC[-1,40,1:] == 0)[-1][0] # Sill west edge index\n",
    "sE = np.where(HFacC[-1,40,1:] == 0)[-1][-1] # Sill east edge index\n",
    "sC = np.ceil((sW+sE)/2).astype(int) # Sill crest index (178)\n",
    "#state1.U.data[5,:,40,178], U[5,:,40,178]\n",
    "#dis[sW], dis[sE], dis[sC]\n",
    "#dis[[sW,sC,sE,259]]\n",
    "#Q = u1[2,:,:] * areaW[:,:,xs].data\n",
    "sW, sE, sC, U[22,:,40,178]"
   ]
  },
  {
   "cell_type": "code",
   "execution_count": 5,
   "metadata": {},
   "outputs": [
    {
     "data": {
      "text/plain": [
       "379.54816496931016"
      ]
     },
     "execution_count": 5,
     "metadata": {},
     "output_type": "execute_result"
    }
   ],
   "source": [
    "Q1out = np.empty(len(time1))\n",
    "#Q2out = np.empty(len(time))\n",
    "Q1in = np.empty(len(time1))\n",
    "#Q2in = np.empty(len(time))\n",
    "for t in range(len(time1)):\n",
    "    Q1 = u1[t,:,:] * areaW.data[:,:,xs]\n",
    "    #Q2 = u2[t,:,:] * Area * HFacW\n",
    "    Q1out[t] = Q1[Q1 > 0].sum()\n",
    "    #Q2out[t] = Q2[Q2 > 0].sum()\n",
    "    Q1in[t] = Q1[Q1 < 0].sum()\n",
    "    #Q2in[t] = Q2[Q2 < 0].sum()\n",
    "\n",
    "np.mean(Q1out[1]+Q1in[1])\n",
    "#Q1in[[35,38]], Q1out[[35,38]]"
   ]
  },
  {
   "cell_type": "code",
   "execution_count": 6,
   "metadata": {},
   "outputs": [
    {
     "data": {
      "text/plain": [
       "array([  0.        , 379.54816497, 198.43942023, 269.97733496,\n",
       "       242.95651261, 252.79339409, 248.13916503, 250.99754774,\n",
       "       249.49458482, 250.13817292, 249.98988267, 249.77979335,\n",
       "       249.88150032, 249.80799379, 249.79574646, 249.84338644,\n",
       "       249.81846997, 249.83203704, 249.83013131, 249.81575985,\n",
       "       249.81589578, 249.81113682, 249.80886966, 249.80990552,\n",
       "       249.8106813 , 249.8111547 , 249.81231734, 249.81183217,\n",
       "       249.81222196, 249.81268341, 249.81273406, 249.81264661,\n",
       "       249.81309805, 249.81313331, 249.8142872 , 249.81420156,\n",
       "       249.81315852, 249.81159951, 249.81146452, 249.81199904,\n",
       "       249.8111332 , 249.80981142, 249.8099426 , 249.81060743,\n",
       "       249.81006546, 249.810482  , 249.80981006, 249.8099207 ,\n",
       "       249.8101404 , 249.80909331, 249.80955978, 249.80904482,\n",
       "       249.8087499 , 249.80852811, 249.80807213, 249.80772737,\n",
       "       249.80814644, 249.80740703, 249.80676308, 249.80637936,\n",
       "       249.80599799, 249.80647319, 249.80598017, 249.80572037,\n",
       "       249.80570145, 249.80570106, 249.8052036 , 249.80521461,\n",
       "       249.80509576, 249.80472064, 249.80471108, 249.80460708,\n",
       "       249.80458511, 249.80481558, 249.80456193, 249.80418633,\n",
       "       249.80454586, 249.80435401, 249.8041948 , 249.80448011,\n",
       "       249.80447482, 249.80429496, 249.80417617, 249.80446784,\n",
       "       249.80435253, 249.80398496, 249.80422466, 249.80414562,\n",
       "       249.80406049, 249.80420855, 249.80417974, 249.80412321,\n",
       "       249.80416489, 249.80420281, 249.80413925, 249.80423527,\n",
       "       249.80429   , 249.80395126, 249.80420037, 249.80425228,\n",
       "       249.80407623, 249.80412169, 249.80426477, 249.80426331,\n",
       "       249.80409639, 249.80415625, 249.80427456, 249.80410607,\n",
       "       249.80424455, 249.80417799, 249.80417426, 249.80417526,\n",
       "       249.80412026, 249.80406055, 249.80418036, 249.80398871,\n",
       "       249.80402839, 249.80416811, 249.80410476, 249.80400546,\n",
       "       249.80410347])"
      ]
     },
     "execution_count": 6,
     "metadata": {},
     "output_type": "execute_result"
    },
    {
     "data": {
      "image/png": "[encoded data removed]",
      "text/plain": [
       "<Figure size 864x864 with 3 Axes>"
      ]
     },
     "metadata": {
      "needs_background": "light"
     },
     "output_type": "display_data"
    }
   ],
   "source": [
    "#fig_path = \"/Users/weiyangbao/Documents/Results_Figs/VolumeTest/\"\n",
    "#if not os.path.exists(fig_path):\n",
    "#    os.makedirs(fig_path)\n",
    "\n",
    "fig, (ax1, ax2, ax3) = plt.subplots(3,1, sharex=True, figsize=(12,12)) \n",
    "ax1.plot(time1,Q1in+Q1out, label='ConserveMass OFF')\n",
    "#ax1.plot(time,Q2in+Q2out, label='ConserveMass ON')\n",
    "ax1.set_title('$Q_{net}$', size=15, weight='bold')\n",
    "#ax1.legend(loc = 'best', fontsize=15)\n",
    "ax1.tick_params(labelsize=15)\n",
    "ax1.xaxis.set_visible(False)\n",
    "ax1.set_ylabel('Volume flux ($m^3/s$)', size=15)\n",
    "\n",
    "\n",
    "ax2.plot(time1,Q1out, label='ConserveMass OFF')\n",
    "#ax2.plot(time,Q2out, label='ConserveMass ON')\n",
    "#ax2.axvline(x=275, color='b',lw=2)\n",
    "\n",
    "ax2.set_title('$Q_1$', size=15, weight='bold')\n",
    "#ax2.legend(loc = 'best', fontsize=15)\n",
    "ax2.tick_params(labelsize=15)\n",
    "ax2.xaxis.set_visible(False)\n",
    "ax2.set_ylabel('Volume flux ($m^3/s$)', size=15)\n",
    "\n",
    "\n",
    "ax3.plot(time1,Q1in, label='ConserveMass OFF')\n",
    "#ax3.plot(time,Q2in, label='ConserveMass ON')\n",
    "#ax3.axvline(x=275, color='b',lw=2)\n",
    "ax3.set_title('$Q_2$', size=15, weight='bold')\n",
    "#ax3.legend(loc = 'best', fontsize=15)\n",
    "ax3.tick_params(labelsize=15)\n",
    "\n",
    "ax3.set_xlabel('Time (d)', size=15)\n",
    "ax3.set_ylabel('Volume flux ($m^3/s$)', size=15)\n",
    "Q1in+Q1out"
   ]
  },
  {
   "cell_type": "code",
   "execution_count": null,
   "metadata": {},
   "outputs": [],
   "source": [
    "N = np.arange(1,41,1)\n",
    "N / 1.03505, time1[-1], time1[90]"
   ]
  },
  {
   "cell_type": "code",
   "execution_count": null,
   "metadata": {},
   "outputs": [],
   "source": [
    "def volflux_ts(file, xidx):\n",
    "    State01 = xr.open_dataset('/Volumes/Extreme SSD/MITgcm outputs/qf700_strat_high/state_' + str(format(file,'03d')) + '.nc')\n",
    "    Grid01 = xr.open_dataset('/Volumes/Extreme SSD/MITgcm outputs/qf700_strat_high/grid_' + str(format(file,'03d')) + '.nc')\n",
    "    T0 = 1 # Start time\n",
    "    Tn = len(State01.T) # End time\n",
    "    State = State01.isel(X=range(1,120), Xp1=range(1,121), Y=range(30,39), T=range(T0,Tn))\n",
    "    Grid = Grid01.isel(X=range(1,120), Xp1=range(1,121), Y=range(30,39))    \n",
    "    \n",
    "    time = State.T.data / 86400\n",
    "    \n",
    "    Area = np.empty([50, 9]) # Cross Y direction\n",
    "    Area[:10, :] = 100\n",
    "    Area[10:20, :] = 200\n",
    "    Area[20:30, :] = 300\n",
    "    Area[30:40, :] = 800\n",
    "    Area[40:, :] = 1600\n",
    "\n",
    "    HFacW = Grid.HFacW.data[:,:,xidx] # vertical fraction of open cell at West face\n",
    "    \n",
    "    Q1 = np.empty(len(time))\n",
    "    Q2 = np.empty(len(time))\n",
    "    for t in range(len(time)):\n",
    "        Q = State.U.data[t,:,:,xidx] * Area * HFacW\n",
    "        Q1[t] = Q[Q > 0].sum()\n",
    "        Q2[t] = Q[Q < 0].sum()\n",
    "    \n",
    "    return time, Q1, Q2"
   ]
  },
  {
   "cell_type": "code",
   "execution_count": null,
   "metadata": {},
   "outputs": [],
   "source": [
    "prof = np.array([1,2,3,4])\n",
    "hsr = np.array([9, 12, 15, 18]) / 150\n",
    "xi = 47\n",
    "fig1 = plt.figure(figsize=(10,10))\n",
    "fig1.tight_layout()\n",
    "\n",
    "ax1 = fig1.add_subplot(211)\n",
    "#ax1.axvline(x=4.8, color='k',lw=1.5,ls='--')\n",
    "ax1.set_xlim([0, 30])\n",
    "ax1.set_title(r'(a) Down fjord', loc='center', size=15)\n",
    "#ax1.xaxis.set_visible(False)\n",
    "ax1.set_ylabel(r'Volume Flux [$m^3/s$]', size=15)\n",
    "ax1.grid(True)\n",
    "ax1.set_xticklabels([])\n",
    "ax1.spines[\"top\"].set_visible(False)\n",
    "ax1.spines[\"right\"].set_visible(False)\n",
    "\n",
    "\n",
    "\n",
    "ax2 = fig1.add_subplot(212)\n",
    "ax2.set_xlim([0, 30])\n",
    "ax2.set_title(r'(b) Up fjord', loc='center', size=15)\n",
    "ax2.set_ylabel(r'volume Flux [$m^3/s$]', size=15)\n",
    "ax2.set_xlabel('Time [d]', size=15)\n",
    "ax2.grid(True)\n",
    "ax2.spines[\"top\"].set_visible(False)\n",
    "ax2.spines[\"right\"].set_visible(False)\n",
    "\n",
    "#ax3 = fig1.add_subplot(313)\n",
    "#ax3.set_xlim([0, 30])\n",
    "#ax3.set_title(r'(c) Net', loc='center', size=15)\n",
    "#ax3.set_xlabel('Time [d]', size=15)\n",
    "#ax3.set_ylabel('Heat Flux [J/s]', size=15)\n",
    "#ax3.grid(True)\n",
    "#ax3.spines[\"top\"].set_visible(False)\n",
    "#ax3.spines[\"right\"].set_visible(False)\n",
    "\n",
    "for i in range(len(prof)):\n",
    "    ot, qp, qn = volflux_ts(prof[i],xi)\n",
    "    \n",
    "    ax1.plot(ot, qp, lw=2, label=str(prof[i]))\n",
    "    ax1.legend(title=r'case', loc='right', fontsize=12)\n",
    "    \n",
    "    ax2.plot(ot, qn, lw=2, label=str(prof[i]))\n",
    "    ax2.legend(title=r'case', loc='right', fontsize=12)\n",
    "    \n",
    "    #ax3.plot(ot, advhp+advhn, lw=2, label=str(hsr[i]))\n",
    "    #ax3.legend(title=r'$h_s/h$', loc='right', fontsize=12)"
   ]
  },
  {
   "cell_type": "code",
   "execution_count": null,
   "metadata": {},
   "outputs": [],
   "source": [
    "#fig_path = \"/Users/weiyangbao/Documents/Results_Figs/VolumeTest/\"\n",
    "\n",
    "fig_path =\"/home/1959/Jupyter_Figs/Qsg500n_004/\"\n",
    "if not os.path.exists(fig_path):\n",
    "    os.makedirs(fig_path)\n",
    "\n",
    "fig.savefig(fig_path + '/Q_test.png', dpi=200, bbox_inches='tight')    "
   ]
  },
  {
   "cell_type": "code",
   "execution_count": null,
   "metadata": {},
   "outputs": [],
   "source": []
  }
 ],
 "metadata": {
  "kernelspec": {
   "display_name": "Python 3 (ipykernel)",
   "language": "python",
   "name": "python3"
  },
  "language_info": {
   "codemirror_mode": {
    "name": "ipython",
    "version": 3
   },
   "file_extension": ".py",
   "mimetype": "text/x-python",
   "name": "python",
   "nbconvert_exporter": "python",
   "pygments_lexer": "ipython3",
   "version": "3.7.11"
  }
 },
 "nbformat": 4,
 "nbformat_minor": 4
}
