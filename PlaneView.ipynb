{
 "cells": [
  {
   "cell_type": "code",
   "execution_count": 1,
   "metadata": {},
   "outputs": [],
   "source": [
    "import xarray as xr\n",
    "import numpy as np\n",
    "import matplotlib.pyplot as plt\n",
    "import os"
   ]
  },
  {
   "cell_type": "code",
   "execution_count": 2,
   "metadata": {},
   "outputs": [],
   "source": [
    "state0 = xr.open_dataset('/Users/weiyangbao/Desktop/sill12/state_004.nc')\n",
    "state = state0.isel(Y = range(1,10)) # Remove the boundary walls in y direction"
   ]
  },
  {
   "cell_type": "code",
   "execution_count": 3,
   "metadata": {},
   "outputs": [],
   "source": [
    "t = np.array([10, 30, 60]) #Time\n",
    "\n",
    "z = np.array([5, 15]) #Depth layer\n",
    "\n",
    "X = state.X.data / 1000\n",
    "Y = state.Y.data\n",
    "pt = state.Temp.data[:,z[0],:,:]\n",
    "s = state.S.data[:,z[0],:,:]\n",
    "\n",
    "u0 = state.U.data\n",
    "ux = (u0[:, :, :, 1:] + u0[:, :, :, :-1]) / 2 #Convert Xp1(grid corner) to X(grid center)\n",
    "u1 = ux[:,z[0],:,:] #dims=T,Y,X\n",
    "u2 = ux[:,z[1],:,:]\n",
    "\n",
    "v0 = state.V.data\n",
    "vy = (v0[:, :, 1:, :] + v0[:, :, :-1, :]) / 2 #Convert Yp1(grid corner) to Y(grid center)\n",
    "v1 = vy[:,z[0],1:10,:]\n",
    "v2 = vy[:,z[1],1:10,:]"
   ]
  },
  {
   "cell_type": "code",
   "execution_count": 4,
   "metadata": {},
   "outputs": [],
   "source": [
    "fig = plt.figure(figsize=(16,8))\n",
    "\n",
    "u1[:,:,::2] = np.nan\n",
    "v1[:,:,::2] = np.nan\n",
    "u2[:,:,::2] = np.nan\n",
    "v2[:,:,::2] = np.nan\n",
    "# Plot time 1 velocity field\n",
    "ax1 = fig.add_subplot(311)\n",
    "Q_11 = ax1.quiver(X,Y,u1[t[0],:,:], v1[t[0],:,:],scale=7, width=0.002, color='b')\n",
    "Q_12 = ax1.quiver(X,Y,u2[t[0],:,:], v2[t[0],:,:],scale=7, width=0.002, color='r')\n",
    "ax1.set_xlim([0,10])\n",
    "plt.yticks(fontsize = 15)\n",
    "ax1.quiverkey(Q_11, 0.8, 0.886, 0.25,r'0.25 $m/s$', fontproperties={'weight': 'bold', 'size' : 10}, coordinates='figure')\n",
    "ax1.quiverkey(Q_12, 0.85, 0.886, 0.15,r'0.15 $m/s$', fontproperties={'weight': 'bold', 'size' : 10}, coordinates='figure')\n",
    "ax1.set_title('Day ' + str(format(t[0]/2,'.1f')), loc='left', weight='bold')\n",
    "ax1.axes.get_xaxis().set_visible(False)\n",
    "\n",
    "# Plot time 2 velocity field\n",
    "ax2 = fig.add_subplot(312)\n",
    "Q_21 = ax2.quiver(X,Y,u1[t[1],:,:], v1[t[1],:,:],scale=7, width=0.002, color='b')\n",
    "Q_22 = ax2.quiver(X,Y,u2[t[1],:,:], v2[t[1],:,:],scale=7, width=0.002, color='r')\n",
    "ax2.set_xlim([0,10])\n",
    "plt.yticks(fontsize = 15)\n",
    "ax2.set_ylabel('Distance [m]', size = 15, weight = 'bold')\n",
    "ax2.set_title('Day ' + str(format(t[1]/2,'.1f')), loc='left', weight='bold')\n",
    "ax2.axes.get_xaxis().set_visible(False)\n",
    "\n",
    "\n",
    "\n",
    "# Plot time 3 velocity field\n",
    "ax3 = fig.add_subplot(313)\n",
    "Q_31 = ax3.quiver(X,Y,u1[t[2],:,:], v1[t[2],:,:],scale=7, width=0.002, color='b')\n",
    "Q_32 = ax3.quiver(X,Y,u2[t[2],:,:], v2[t[2],:,:],scale=7, width=0.002, color='r')\n",
    "ax3.set_xlim([0,10])\n",
    "plt.xticks(fontsize = 15)\n",
    "plt.yticks(fontsize = 15)\n",
    "ax3.set_title('Day ' + str(format(t[2]/2,'.1f')), loc='left', weight='bold')\n",
    "ax3.set_xlabel('Distance from glacier [km]', size = 15, weight = 'bold')\n",
    "\n",
    "plt.close()\n",
    "#fig.savefig(fig_path + 'Qsg' + str(Qsg) + '.png', dpi = 150, bbox_inches='tight')"
   ]
  },
  {
   "cell_type": "code",
   "execution_count": null,
   "metadata": {},
   "outputs": [],
   "source": []
  }
 ],
 "metadata": {
  "kernelspec": {
   "display_name": "Python 3",
   "language": "python",
   "name": "python3"
  },
  "language_info": {
   "codemirror_mode": {
    "name": "ipython",
    "version": 3
   },
   "file_extension": ".py",
   "mimetype": "text/x-python",
   "name": "python",
   "nbconvert_exporter": "python",
   "pygments_lexer": "ipython3",
   "version": "3.7.1"
  }
 },
 "nbformat": 4,
 "nbformat_minor": 2
}
