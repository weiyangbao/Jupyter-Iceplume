{
 "cells": [
  {
   "cell_type": "code",
   "execution_count": 1,
   "metadata": {},
   "outputs": [],
   "source": [
    "# Along-Fjord Properties Gif\n",
    "import xarray as xr\n",
    "import numpy as np\n",
    "import matplotlib\n",
    "import matplotlib.pyplot as plt\n",
    "import os\n",
    "import gsw"
   ]
  },
  {
   "cell_type": "code",
   "execution_count": 2,
   "metadata": {},
   "outputs": [
    {
     "data": {
      "text/plain": [
       "(50, 120)"
      ]
     },
     "execution_count": 2,
     "metadata": {},
     "output_type": "execute_result"
    }
   ],
   "source": [
    "Qsg = 700\n",
    "hs = 9\n",
    "File1 = xr.open_dataset('/Volumes/Extreme SSD/MITgcm outputs/qf' + str(format(Qsg,'03d')) + '_rot/state_' + str(format(hs,'03d')) + '.nc')\n",
    "File2 = xr.open_dataset('/Volumes/Extreme SSD/MITgcm outputs/qf' + str(format(Qsg,'03d')) + '_rot/grid_' + str(format(hs,'03d')) + '.nc')\n",
    "#File3 = xr.open_dataset('/Volumes/Extreme SSD/MITgcm outputs/qf' + str(format(Qsg,'03d')) + '_rot/Adv_' + str(format(hs,'03d')) + '.nc')\n",
    "File4 = xr.open_dataset('/Volumes/Extreme SSD/MITgcm outputs/qf' + str(format(Qsg,'03d')) + '_rot/Dif_' + str(format(hs,'03d')) + '.nc')\n",
    "\n",
    "T0 = 1\n",
    "Tn = len(File1.T)\n",
    "State = File1.isel(X=range(120), Xp1=range(121), Y=range(30,39), Yp1=range(30,40), T=range(T0,Tn))\n",
    "Grid = File2.isel(X=range(120), Xp1=range(121), Y=range(30,39), Yp1=range(30,40))\n",
    "#Adv = File3.isel(X=range(120), Xp1=range(121), Y=range(30,39), Yp1=range(30,40))\n",
    "Dif = File4.isel(X=range(120), Xp1=range(121), Y=range(30,39), Yp1=range(30,40))\n",
    "\n",
    "\n",
    "x = Grid.X.data\n",
    "z = Grid.Z.data\n",
    "CV = Grid.rA.data.mean(0) * Grid.HFacC.data.mean(1) * Grid.drF.data[:,None]  # Cell Volume\n",
    "#CV1 = CV0  * Grid.drF.data\n",
    "U0 = State.U.data.mean(2)\n",
    "u = (U0[:,:,1:]+U0[:,:,:-1])/2\n",
    "\n",
    "W0 = State.W.data.mean(2)\n",
    "bt = np.zeros((W0.shape[0],1,W0.shape[2])) # Add vertical velocity (0 m/s) at the bottom\n",
    "W = np.concatenate((W0, bt), axis=1)\n",
    "w = (W[:,1:,:] + W[:,:-1,:]) / 2\n",
    "\n",
    "\n",
    "s = State.S.data.mean(2) # Salinity\n",
    "pt = State.Temp.data.mean(2) # Potential temperature\n",
    "pres = gsw.p_from_z(z, 55)\n",
    "p = np.tile(pres,[len(x),1]).T\n",
    "\n",
    "\n",
    "Cp = 3994  # Specific heat content J/kg/C\n",
    "rho = 999.8 # Density\n",
    "Difx0 = Dif.DFxE_TH.data.mean(2) # Zonal Diffusive Flux of Pot.Temperature (degC.m^3/s)\n",
    "difx = (Difx0[:,:,1:]+Difx0[:,:,:-1])/2\n",
    "Difr0 = Dif.DFrI_TH.data.mean(2) # Vertical Diffusive Flux of Pot.Temperature (Implicit part)\n",
    "Difr = np.concatenate((Difr0, bt), axis=1)\n",
    "difz = (Difr[:,1:,:] + Difr[:,:-1,:]) / 2\n",
    "\n",
    "\n",
    "\n",
    "#np.shape(u), np.shape(w), np.shape(difx), np.shape(difz)\n",
    "np.shape(CV)"
   ]
  },
  {
   "cell_type": "code",
   "execution_count": 3,
   "metadata": {},
   "outputs": [
    {
     "data": {
      "text/plain": [
       "(array([ 10000.,  10000.,  10000.,  10000.,  10000.,  10000.,  10000.,\n",
       "         10000.,  10000.,  10000.,  20000.,  20000.,  20000.,  20000.,\n",
       "         20000.,  20000.,  20000.,  20000.,  20000.,  20000.,  30000.,\n",
       "         30000.,  30000.,  30000.,  30000.,  30000.,  30000.,  30000.,\n",
       "         30000.,  30000.,  80000.,  80000.,  80000.,  80000.,  80000.,\n",
       "         80000.,  80000.,  80000.,  80000.,  80000., 160000., 160000.,\n",
       "        160000., 160000., 160000., 160000., 160000., 160000., 160000.,\n",
       "        160000.]),\n",
       " array([ 10000.,  10000.,  10000.,  10000.,  10000.,  10000.,  10000.,\n",
       "         10000.,  10000.,  10000.,  20000.,  20000.,  20000.,  20000.,\n",
       "         20000.,  20000.,  20000.,  20000.,  20000.,  20000.,  30000.,\n",
       "         30000.,  30000.,  30000.,  30000.,  30000.,  30000.,  30000.,\n",
       "         30000.,  30000.,  80000.,  80000.,  80000.,  80000.,  80000.,\n",
       "         80000.,  80000.,  80000.,  80000.,  80000., 160000., 160000.,\n",
       "        160000., 160000., 160000., 160000., 160000., 160000., 160000.,\n",
       "        160000.]))"
      ]
     },
     "execution_count": 3,
     "metadata": {},
     "output_type": "execute_result"
    }
   ],
   "source": [
    "mask = (s == 0) # Exclude data covered by the sill\n",
    "s[mask] = np.nan\n",
    "u[mask] = np.nan\n",
    "w[mask] = np.nan\n",
    "difx[mask] = np.nan\n",
    "difz[mask] = np.nan\n",
    "\n",
    "range1 = np.array([np.nanmax(difx), np.nanmin(difx), np.nanmean(difx)])\n",
    "range2 = np.array([np.nanmax(difz), np.nanmin(difz), np.nanmean(difz)])\n",
    "\n",
    "cv = CV\n",
    "cv[:,4], cv[:,5]"
   ]
  },
  {
   "cell_type": "code",
   "execution_count": 17,
   "metadata": {},
   "outputs": [],
   "source": [
    "Xl, Xr = 53, 85 # X range\n",
    "Zu, Zl = 0, 31 # Z range\n",
    "\n",
    "cv = CV[Zu:Zl,Xl:Xr]\n",
    "\n",
    "cm = np.linspace(-5,5,20) # Contour range\n",
    "cs = np.linspace(1015,1021,20)\n",
    "cmap = 'RdBu_r'\n",
    "\n",
    "skip=(slice(None,None,3))\n",
    "\n",
    "\n",
    "fig_path = \"/Users/weiyangbao/Documents/Results_Figs/HeatBudget/\"\n",
    "if not os.path.exists(fig_path):\n",
    "    os.makedirs(fig_path)\n",
    "\n",
    "for t in range(24):\n",
    "    fig1 = plt.figure(figsize=(20,12))\n",
    "    fig1.tight_layout()  \n",
    "   \n",
    "    rho = gsw.rho(s[t,:,:], pt[t,:,:], p) # Density\n",
    "    \n",
    "    ax1 = fig1.add_subplot(211)\n",
    "    im1 = ax1.contourf(x[Xl:Xr], z[Zu:Zl], difx[t,Zu:Zl,Xl:Xr]/cv*1e5, cm, cmap=cmap, extend='both')\n",
    "    #ax1.plot(x[Xl:Xr],-h1[Xl:Xr], '--b',lw=2)\n",
    "    #ax1.plot(x[Xl:Xr],-h2[Xl:Xr], '--r',lw=2)\n",
    "    ax1.xaxis.set_visible(False)\n",
    "    ax1.set_xlim([x[Xl], x[Xr-1]])\n",
    "    ax1.set_facecolor('k')\n",
    "    # Set Colorbar\n",
    "    cbaxes = fig1.add_axes([0.75, .9, 0.15, 0.02])\n",
    "    cbar = fig1.colorbar(im1,cax=cbaxes, orientation='horizontal')\n",
    "    cbar.set_ticks([-5, 0, 5])\n",
    "    cbar.ax.set_title(r'Diffusive Heat $(\\times{10^{-5}}^\\circ$C/s)', size=12)\n",
    "    \n",
    "    # Plot isohalines\n",
    "    CS1 = ax1.contour(x[Xl:Xr], z[Zu:Zl], rho[Zu:Zl,Xl:Xr], cs, colors='grey', linewidths=1)\n",
    "    plt.clabel(CS1, cs[1::2], fmt='%1.1f', fontsize=10, inline=True)\n",
    "    ax1.axvline(x=5800, color='g',lw=2)\n",
    "    ax1.set_ylabel('Depth (m)', size=15)\n",
    "    ax1.tick_params(labelsize=12)\n",
    "    ax1.set_title(r'Zonal', loc='left', size=20)\n",
    "    ax1.set_title(r'Hour '+str(t), loc='center', size=20)\n",
    "    ax1.tick_params(labelsize=12)\n",
    "    \n",
    "    # Plot Velocity\n",
    "    Q_1 = ax1.quiver(x[Xl:Xr],z[Zu:Zl],u[t,Zu:Zl,Xl:Xr], w[t,Zu:Zl,Xl:Xr]*20,scale=10, width=0.001, color='k')\n",
    "    ax1.quiverkey(Q_1, 0.85, 0.5, 0.3,r'0.3 $m/s$', fontproperties={'size' : 15}, coordinates='figure')\n",
    "    \n",
    "    \n",
    "    ax2 = fig1.add_subplot(212)\n",
    "    im2 = ax2.contourf(x[Xl:Xr], z[Zu:Zl], difz[t, Zu:Zl,Xl:Xr]/cv*1e5, cm, cmap=cmap, extend='both')\n",
    "    ax2.set_xlim([x[Xl], x[Xr-1]])\n",
    "    ax2.set_facecolor('k')\n",
    "\n",
    "    # Plot isohalines\n",
    "    CS2 = ax2.contour(x[Xl:Xr], z[Zu:Zl], rho[Zu:Zl,Xl:Xr], cs, colors='grey', linewidths=1)\n",
    "    plt.clabel(CS2, cs[1::2], fmt='%1.1f', fontsize=10, inline=True)\n",
    "    ax2.axvline(x=5800, color='g',lw=2)\n",
    "    ax2.set_ylabel('Depth (m)', size=15)\n",
    "    ax2.tick_params(labelsize=12)\n",
    "    ax2.set_title(r'Vertical', loc='left', size=20)\n",
    "    ax2.set_xlabel('Distance from glacier (m)', size=15)\n",
    "    ax2.tick_params(labelsize=12)\n",
    "    \n",
    "    # Plot Velocity\n",
    "    Q_2 = ax2.quiver(x[Xl:Xr],z[Zu:Zl],u[t,Zu:Zl,Xl:Xr], w[t,Zu:Zl,Xl:Xr]*20,scale=10, width=0.001, color='k')\n",
    "    \n",
    "    plt.close()\n",
    "    fig1.savefig(fig_path + '/time_r' + format(t, '03d') + '.png', dpi=200, bbox_inches='tight')"
   ]
  },
  {
   "cell_type": "code",
   "execution_count": 18,
   "metadata": {},
   "outputs": [],
   "source": [
    "# Generate GIF from saved output figures\n",
    "import imageio\n",
    "import glob\n",
    "\n",
    "images = []\n",
    "imagenames = sorted(glob.glob(fig_path + '/time_r*.png'))\n",
    "\n",
    "for filename in imagenames:\n",
    "    images.append(imageio.imread(filename))\n",
    "imageio.mimsave(fig_path + 'hs009.gif', images, duration=.5)"
   ]
  },
  {
   "cell_type": "code",
   "execution_count": null,
   "metadata": {},
   "outputs": [],
   "source": []
  }
 ],
 "metadata": {
  "kernelspec": {
   "display_name": "Python 3",
   "language": "python",
   "name": "python3"
  },
  "language_info": {
   "codemirror_mode": {
    "name": "ipython",
    "version": 3
   },
   "file_extension": ".py",
   "mimetype": "text/x-python",
   "name": "python",
   "nbconvert_exporter": "python",
   "pygments_lexer": "ipython3",
   "version": "3.7.9"
  }
 },
 "nbformat": 4,
 "nbformat_minor": 4
}
