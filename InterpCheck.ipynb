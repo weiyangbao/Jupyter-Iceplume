{
 "cells": [
  {
   "cell_type": "code",
   "execution_count": 1,
   "metadata": {},
   "outputs": [],
   "source": [
    "import xarray as xr\n",
    "import numpy as np\n",
    "import matplotlib.pyplot as plt\n",
    "from scipy.interpolate import interp2d\n",
    "from scipy.interpolate import interp1d"
   ]
  },
  {
   "cell_type": "code",
   "execution_count": 2,
   "metadata": {},
   "outputs": [],
   "source": [
    "state0 = xr.open_dataset('/Users/weiyang/Desktop/sill12/state_002.nc')\n",
    "state = state0.isel(Y = range(1,10)) # Remove the boundary walls in y direction"
   ]
  },
  {
   "cell_type": "code",
   "execution_count": 67,
   "metadata": {},
   "outputs": [
    {
     "data": {
      "text/plain": [
       "(3.4702807754511014, -2.820221679400261, 179.6465277671814)"
      ]
     },
     "execution_count": 67,
     "metadata": {},
     "output_type": "execute_result"
    }
   ],
   "source": [
    "xloc = 27# Location in x-axsis 0~50\n",
    "\n",
    "z1 = np.arange(-1.5,-150,-3)\n",
    "z0 = state.Z.data\n",
    "y0 = state.Y.data\n",
    "\n",
    "#y, z = np.meshgrid(y0,z0)\n",
    "#yi, zi = np.meshgrid(y0,z1)\n",
    "from scipy.interpolate import griddata\n",
    "\n",
    "\n",
    "\n",
    "import numpy.ma as ma\n",
    "\n",
    "u = state.U.isel(T = 41, Xp1 = xloc).data\n",
    "u_corr = ma.masked_values (u, 0.)\n",
    "f_u = interp2d(y0, z0, u_corr) # Interpolate in Z direction\n",
    "u_interp = f_u(y0, z1)\n",
    "#zi = griddata((z,y),u_corr,(zi,yi),method='linear')\n",
    "Q1 = u[:10,:].sum() * 100\n",
    "Q2 = u[10:20,:].sum() * 200\n",
    "Q3 = u[20:30,:].sum() * 300\n",
    "Q4 = u[30:40,:].sum() * 800\n",
    "Q5 = u[40:,:].sum() * 1600\n",
    "Qsum = Q1 + Q2 + Q3 + Q4 + Q5\n",
    "\n",
    "uy = np.empty(len(y0))\n",
    "for i in range(len(y0)):\n",
    "    f = interp1d(z0, u_corr[:,i],bounds_error=False)\n",
    "    us[i] = np.interp(-z1,-z0,u_corr[:,i]).sum()\n",
    "\n",
    "u_interp[u_interp > 0].sum(), u_interp[u_interp < 0].sum(), Qsum"
   ]
  },
  {
   "cell_type": "code",
   "execution_count": 69,
   "metadata": {},
   "outputs": [
    {
     "data": {
      "text/plain": [
       "0.6500590960508404"
      ]
     },
     "execution_count": 69,
     "metadata": {},
     "output_type": "execute_result"
    }
   ],
   "source": [
    "u_interp.sum()"
   ]
  },
  {
   "cell_type": "code",
   "execution_count": 4,
   "metadata": {},
   "outputs": [
    {
     "data": {
      "text/plain": [
       "(array([  -0.25,   -0.75,   -1.25,   -1.75,   -2.25,   -2.75,   -3.25,\n",
       "          -3.75,   -4.25,   -4.75,   -5.5 ,   -6.5 ,   -7.5 ,   -8.5 ,\n",
       "          -9.5 ,  -10.5 ,  -11.5 ,  -12.5 ,  -13.5 ,  -14.5 ,  -15.75,\n",
       "         -17.25,  -18.75,  -20.25,  -21.75,  -23.25,  -24.75,  -26.25,\n",
       "         -27.75,  -29.25,  -32.  ,  -36.  ,  -40.  ,  -44.  ,  -48.  ,\n",
       "         -52.  ,  -56.  ,  -60.  ,  -64.  ,  -68.  ,  -74.  ,  -82.  ,\n",
       "         -90.  ,  -98.  , -106.  , -114.  , -122.  , -130.  , -138.  ,\n",
       "        -146.  ]),\n",
       " array([  -1.5,   -4.5,   -7.5,  -10.5,  -13.5,  -16.5,  -19.5,  -22.5,\n",
       "         -25.5,  -28.5,  -31.5,  -34.5,  -37.5,  -40.5,  -43.5,  -46.5,\n",
       "         -49.5,  -52.5,  -55.5,  -58.5,  -61.5,  -64.5,  -67.5,  -70.5,\n",
       "         -73.5,  -76.5,  -79.5,  -82.5,  -85.5,  -88.5,  -91.5,  -94.5,\n",
       "         -97.5, -100.5, -103.5, -106.5, -109.5, -112.5, -115.5, -118.5,\n",
       "        -121.5, -124.5, -127.5, -130.5, -133.5, -136.5, -139.5, -142.5,\n",
       "        -145.5, -148.5]),\n",
       " array([ 300.,  500.,  700.,  900., 1100., 1300., 1500., 1700., 1900.]))"
      ]
     },
     "execution_count": 4,
     "metadata": {},
     "output_type": "execute_result"
    }
   ],
   "source": [
    "z0,z1,uy"
   ]
  },
  {
   "cell_type": "code",
   "execution_count": 38,
   "metadata": {},
   "outputs": [
    {
     "data": {
      "text/plain": [
       "array([  -1.5,   -4.5,   -7.5,  -10.5,  -13.5,  -16.5,  -19.5,  -22.5,\n",
       "        -25.5,  -28.5,  -31.5,  -34.5,  -37.5,  -40.5,  -43.5,  -46.5,\n",
       "        -49.5,  -52.5,  -55.5,  -58.5,  -61.5,  -64.5,  -67.5,  -70.5,\n",
       "        -73.5,  -76.5,  -79.5,  -82.5,  -85.5,  -88.5,  -91.5,  -94.5,\n",
       "        -97.5, -100.5, -103.5, -106.5, -109.5, -112.5, -115.5, -118.5,\n",
       "       -121.5, -124.5, -127.5, -130.5, -133.5, -136.5, -139.5, -142.5,\n",
       "       -145.5])"
      ]
     },
     "execution_count": 38,
     "metadata": {},
     "output_type": "execute_result"
    }
   ],
   "source": [
    "z1[:-1]"
   ]
  },
  {
   "cell_type": "code",
   "execution_count": null,
   "metadata": {},
   "outputs": [],
   "source": [
    "z0 = state.Z.data\n",
    "y0 = state.Y.data\n",
    "yy, zz = np.meshgrid(y0, z0)\n",
    "np.shape(yy)"
   ]
  },
  {
   "cell_type": "code",
   "execution_count": null,
   "metadata": {},
   "outputs": [],
   "source": [
    "np.meshgrid?"
   ]
  },
  {
   "cell_type": "code",
   "execution_count": null,
   "metadata": {},
   "outputs": [],
   "source": []
  }
 ],
 "metadata": {
  "kernelspec": {
   "display_name": "Python 3",
   "language": "python",
   "name": "python3"
  },
  "language_info": {
   "codemirror_mode": {
    "name": "ipython",
    "version": 3
   },
   "file_extension": ".py",
   "mimetype": "text/x-python",
   "name": "python",
   "nbconvert_exporter": "python",
   "pygments_lexer": "ipython3",
   "version": "3.7.1"
  }
 },
 "nbformat": 4,
 "nbformat_minor": 2
}
