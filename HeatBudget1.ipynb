{
 "cells": [
  {
   "cell_type": "code",
   "execution_count": 17,
   "metadata": {},
   "outputs": [],
   "source": [
    "# Heat budget terms for the different layers\n",
    "import xarray as xr\n",
    "import numpy as np\n",
    "import matplotlib.pyplot as plt\n",
    "import os"
   ]
  },
  {
   "cell_type": "code",
   "execution_count": 18,
   "metadata": {},
   "outputs": [],
   "source": [
    "sd = 150 # sill depth\n",
    "\n",
    "state01 = xr.open_dataset('/Users/weiyangbao/Documents/Model_outputs/sill_drag/state_' + str(format(sd,'03d')) + '.nc')\n",
    "state02 = xr.open_dataset('/Users/weiyangbao/Documents/Model_outputs/sill_drag/Adv_' + str(format(sd,'03d')) + '.nc')\n",
    "state03 = xr.open_dataset('/Users/weiyangbao/Documents/Model_outputs/sill_drag/Dif_' + str(format(sd,'03d')) + '.nc')\n",
    "\n",
    "state1 = state01.isel(Y=range(1,10), T=range(40,121))\n",
    "state2 = state02.isel(Y=range(1,10), T=range(39,120))\n",
    "state3 = state03.isel(Y=range(1,10), T=range(39,120))\n",
    "\n",
    "Area = np.empty([50, 9]) # Cross Y direction\n",
    "Area[:10, :] = 100\n",
    "Area[10:20, :] = 200\n",
    "Area[20:30, :] = 300\n",
    "Area[30:40, :] = 800\n",
    "Area[40:, :] = 1600\n",
    "\n",
    "T0 = 9 # Initial temperature\n",
    "f = 3 # Control volume start index near the ice front\n",
    "s = 28 # Control volume end index at the sill crest\n",
    "Cp = 3994  # Specific heat content J/kg/C\n",
    "rho = 999.8 # Density"
   ]
  },
  {
   "cell_type": "code",
   "execution_count": 19,
   "metadata": {},
   "outputs": [],
   "source": [
    "# Read data in T,Z,Y,X\n",
    "pt = state1.Temp.data\n",
    "\n",
    "u0 = state1.U.data\n",
    "u = 0.5 * (u0[:,:,:,:-1] + u0[:,:,:,1:])\n",
    "\n",
    "w0 = state1.W.data\n",
    "w = 0.5 * (w0[:,:-1,:,:] + w0[:,1:,:,:])\n",
    "\n",
    "upt = u * (pt-T0)\n",
    "\n",
    "advx = state2.ADVx_TH.data * Cp * rho\n",
    "difx = state3.DFxE_TH.data * Cp * rho\n",
    "advr = state2.ADVr_TH.data * Cp * rho\n",
    "difr = state3.DFrI_TH.data * Cp * rho\n",
    "#dfx0 = state2.DFxE_TH.data\n",
    "#dfx = 0.5 * (dfx0[:,:,:,:-1] + dfx0[:,:,:,1:])\n",
    "\n",
    "#dfz0 = state3.DFrI_TH.data\n",
    "#dfz = 0.5 * (dfz0[:,:-1,:,:] + dfz0[:,1:,:,:])\n"
   ]
  },
  {
   "cell_type": "markdown",
   "metadata": {},
   "source": [
    "# Advective flux of potential temperature\n",
    "ADf = np.sum(Area * upt[:,:,:,f].mean(0)) * Cp * rho \n",
    "ADs = -np.sum(Area * upt[:,:,:,s].mean(0)) * Cp * rho \n",
    "\n",
    "# Diffusive flux of potential temperature\n",
    "DFf = np.sum(dfx[:,:,:,f].mean(0)) * Cp * rho\n",
    "DFs = -np.sum(dfx[:,:,:,s].mean(0)) * Cp * rho \n",
    "\n",
    "\"{:.2E}\".format(ADf), \"{:.2E}\".format(ADs), \"{:.2E}\".format(DFf), \"{:.2E}\".format(DFs), \"{:.2E}\".format(ADf+DFf+ADs+DFs)"
   ]
  },
  {
   "cell_type": "code",
   "execution_count": 20,
   "metadata": {},
   "outputs": [
    {
     "data": {
      "text/plain": [
       "('1.44E+08', '5.45E+08', '-7.16E+08', '2.86E+07', '1.44E+06')"
      ]
     },
     "execution_count": 20,
     "metadata": {},
     "output_type": "execute_result"
    }
   ],
   "source": [
    "# Advective flux of potential temperature\n",
    "ADf = np.sum(advx[:,:,:,f].mean(0))\n",
    "ADs = -np.sum(advx[:,:,:,s].mean(0))\n",
    "\n",
    "# Diffusive flux of potential temperature\n",
    "DFf = np.sum(difx[:,:,:,f].mean(0))\n",
    "DFs = -np.sum(difx[:,:,:,s].mean(0))\n",
    "\"{:.2E}\".format(ADf), \"{:.2E}\".format(ADs), \"{:.2E}\".format(DFf), \"{:.2E}\".format(DFs), \"{:.2E}\".format(ADf+DFf+ADs+DFs)"
   ]
  },
  {
   "cell_type": "code",
   "execution_count": 21,
   "metadata": {},
   "outputs": [],
   "source": [
    "## Budget terms for different layers\n",
    "\n",
    "uzx = u0.mean(axis=(0,2)) # Z, X\n",
    "# Time average\n",
    "wt = w.mean(0) # Z, Y, X\n",
    "#dfzt = dfz.mean(0)\n",
    "ptt = pt.mean(0)\n",
    "dxdy = 200**2\n",
    "\n",
    "# Find the interface and vertical flux of theta\n",
    "def Layer(uzx):\n",
    "    # Layer interface, zero velocity crossing point\n",
    "    X = uzx.shape[1]\n",
    "    ADzx = np.empty(X)\n",
    "    DFzx = np.empty(X)\n",
    "    itf = np.empty(X, dtype=int)\n",
    "    ADzx[[0,1,-2,-1]] = 0\n",
    "    DFzx[[0,1,-2,-1]] = 0\n",
    "    itf[[0,1,-2,-1]] = 0\n",
    "    for i in range(2,X-2):\n",
    "        l = np.where(uzx[:, i] < 0)[-1][0]\n",
    "        itf[i] = l\n",
    "        #ADzx[i] = np.sum(wt[l,:,i] * (ptt[l,:,i]-T0) * dxdy ) # Vertical advective flux through the interface\n",
    "        #DFzx[i] = np.sum(dfz[:,l,:,i].mean(0)) # Vertical diffusive flux through the interface\n",
    "        ADzx[i] = np.sum(advr[:,l,:,i].mean(0))\n",
    "        DFzx[i] = np.sum(difr[:,l,:,i].mean(0))\n",
    "    return (itf, ADzx, DFzx)"
   ]
  },
  {
   "cell_type": "markdown",
   "metadata": {},
   "source": [
    "itf, ADzx, DFzx = Layer(uzx)\n",
    "\n",
    "ADz = ADzx[f:s+1].sum() * Cp * rho\n",
    "DFz = DFzx[f:s+1].sum() * Cp * rho \n",
    "\n",
    "\n",
    "ADf1 = np.sum(Area[:itf[f],:] * upt[:,:itf[f],:,f].mean(0)) * Cp * rho \n",
    "ADs1 = -np.sum(Area[:itf[s],:] * upt[:,:itf[s],:,s].mean(0)) * Cp * rho \n",
    "DFf1 = np.sum(dfx[:,:itf[f],:,f].mean(0)) * Cp * rho \n",
    "DFs1 = -np.sum(dfx[:,:itf[s],:,s].mean(0))  \n",
    "\n",
    "\n",
    "ADf2 = np.sum(Area[itf[f]:,:] * upt[:,itf[f]:,:,f].mean(0)) * Cp * rho\n",
    "ADs2 = -np.sum(Area[itf[s]:,:] * upt[:,itf[s]:,:,s].mean(0)) * Cp * rho\n",
    "DFf2 = np.sum(dfx[:,itf[f]:,:,f].mean(0))\n",
    "DFs2 = -np.sum(dfx[:,itf[s]:,:,s].mean(0)) \n",
    "\n",
    "ptz = 0.5 * (ptt[itf[s]-1,:,f:s+1] + ptt[itf[s],:,f:s+1])\n",
    "ADz1 = np.sum(wt[itf[s],:,f:s+1].mean(0) * (ptz-T0) * dxdy)\n",
    "#ADz2 = np.sum(wt[itf[s],:,f:s+1] * (ptt[itf[s],:,f:s+1]-T0) * dxdy)\n",
    "DFz1 = np.sum(dfz[:,itf[s],:,f:s+1].mean(0))\n",
    "\n",
    "#ADf2 = np.sum(Area[itf[f]:,:] * upt[:,itf[f]:,:,f].mean(0))\n",
    "#ADs2 = ADs - ADs1\n",
    "\n",
    "\"{:.2E}\".format(DFf1), \"{:.2E}\".format(DFs1), \"{:.2E}\".format(ADz), \"{:.2E}\".format(DFz), \"{:.2E}\".format(ADf1+ADs1+DFf1+DFs1+ADz+DFz)"
   ]
  },
  {
   "cell_type": "code",
   "execution_count": 22,
   "metadata": {},
   "outputs": [
    {
     "data": {
      "text/plain": [
       "('1.04E+11', '-1.12E+11', '-4.05E+08', '1.17E+07')"
      ]
     },
     "execution_count": 22,
     "metadata": {},
     "output_type": "execute_result"
    }
   ],
   "source": [
    "itf, ADzx, DFzx = Layer(uzx)\n",
    "ADz = ADzx[f:s+1].sum() \n",
    "DFz = DFzx[f:s+1].sum() \n",
    "\n",
    "ADf1 = np.sum(advx[:,:itf[f],:,f].mean(0))\n",
    "ADs1 = -np.sum(advx[:,:itf[s],:,s].mean(0))\n",
    "DFf1 = np.sum(difx[:,:itf[f],:,f].mean(0))\n",
    "DFs1 = -np.sum(difx[:,:itf[s],:,s].mean(0))\n",
    "\n",
    "ADf2 = np.sum(advx[:,itf[f]:,:,f].mean(0))\n",
    "ADs2 = -np.sum(advx[:,itf[s]:,:,s].mean(0))\n",
    "DFf2 = np.sum(difx[:,itf[f]:,:,f].mean(0))\n",
    "DFs2 = -np.sum(difx[:,itf[s]:,:,s].mean(0))\n",
    "\n",
    "\n",
    "\"{:.2E}\".format(ADf1), \"{:.2E}\".format(ADs1), \"{:.2E}\".format(DFf1), \"{:.2E}\".format(DFs1)"
   ]
  },
  {
   "cell_type": "code",
   "execution_count": 23,
   "metadata": {},
   "outputs": [
    {
     "data": {
      "text/plain": [
       "('-1.03E+11', '1.13E+11', '-3.11E+08', '1.69E+07')"
      ]
     },
     "execution_count": 23,
     "metadata": {},
     "output_type": "execute_result"
    }
   ],
   "source": [
    "\"{:.2E}\".format(ADf2), \"{:.2E}\".format(ADs2), \"{:.2E}\".format(DFf2), \"{:.2E}\".format(DFs2)"
   ]
  },
  {
   "cell_type": "code",
   "execution_count": 24,
   "metadata": {},
   "outputs": [
    {
     "data": {
      "text/plain": [
       "('8.42E+09', '1.99E+08', '3.16E+08', '-3.14E+08')"
      ]
     },
     "execution_count": 24,
     "metadata": {},
     "output_type": "execute_result"
    }
   ],
   "source": [
    "\"{:.2E}\".format(ADz), \"{:.2E}\".format(DFz), \"{:.2E}\".format(ADf2+ADs2+DFf2+DFs2-ADz-DFz),\"{:.2E}\".format(ADf1+ADs1+DFf1+DFs1+ADz+DFz)"
   ]
  },
  {
   "cell_type": "code",
   "execution_count": null,
   "metadata": {},
   "outputs": [],
   "source": []
  }
 ],
 "metadata": {
  "kernelspec": {
   "display_name": "Python 3",
   "language": "python",
   "name": "python3"
  },
  "language_info": {
   "codemirror_mode": {
    "name": "ipython",
    "version": 3
   },
   "file_extension": ".py",
   "mimetype": "text/x-python",
   "name": "python",
   "nbconvert_exporter": "python",
   "pygments_lexer": "ipython3",
   "version": "3.7.4"
  }
 },
 "nbformat": 4,
 "nbformat_minor": 4
}
