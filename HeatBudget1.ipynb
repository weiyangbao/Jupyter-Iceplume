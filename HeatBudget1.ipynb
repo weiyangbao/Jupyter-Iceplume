{
 "cells": [
  {
   "cell_type": "code",
   "execution_count": 1,
   "metadata": {},
   "outputs": [
    {
     "name": "stderr",
     "output_type": "stream",
     "text": [
      "/Users/weiyangbao/miniconda3/envs/py37/lib/python3.7/site-packages/xarray/core/merge.py:17: FutureWarning: The Panel class is removed from pandas. Accessing it from the top-level namespace will also be removed in the next version\n",
      "  PANDAS_TYPES = (pd.Series, pd.DataFrame, pd.Panel)\n"
     ]
    }
   ],
   "source": [
    "# Heat budget terms for the different layers\n",
    "import xarray as xr\n",
    "import numpy as np\n",
    "import matplotlib.pyplot as plt\n",
    "import os"
   ]
  },
  {
   "cell_type": "code",
   "execution_count": 2,
   "metadata": {},
   "outputs": [],
   "source": [
    "sd = 15 # sill depth\n",
    "\n",
    "state01 = xr.open_dataset('/Users/weiyangbao/Documents/Model_outputs/State700/Hs_' + str(format(sd,'03d')) + '.nc')\n",
    "state02 = xr.open_dataset('/Users/weiyangbao/Documents/Model_outputs/State700/DFx_TH_' + str(format(sd,'03d')) + '.nc')\n",
    "state03 = xr.open_dataset('/Users/weiyangbao/Documents/Model_outputs/State700/DFrI_TH_' + str(format(sd,'03d')) + '.nc')\n",
    "\n",
    "state1 = state01.isel(Y=range(1,10), T=range(40,121))\n",
    "state2 = state02.isel(Y=range(1,10), T=range(39,120))\n",
    "state3 = state03.isel(Y=range(1,10), T=range(39,120))\n",
    "\n",
    "Area = np.empty([50, 9]) # Cross Y direction\n",
    "Area[:10, :] = 100\n",
    "Area[10:20, :] = 200\n",
    "Area[20:30, :] = 300\n",
    "Area[30:40, :] = 800\n",
    "Area[40:, :] = 1600\n",
    "\n",
    "T0 = 9 # Initial temperature\n",
    "f = 3 # Control volume start index near the ice front\n",
    "s = 28 # Control volume end index at the sill crest\n",
    "Cp = 4220  # Specific heat content J/kg/C\n",
    "rho = 1025 # Density"
   ]
  },
  {
   "cell_type": "code",
   "execution_count": 3,
   "metadata": {},
   "outputs": [],
   "source": [
    "# Read data in T,Z,Y,X\n",
    "pt = state1.Temp.data\n",
    "\n",
    "u0 = state1.U.data\n",
    "u = 0.5 * (u0[:,:,:,:-1] + u0[:,:,:,1:])\n",
    "\n",
    "w0 = state1.W.data\n",
    "w = 0.5 * (w0[:,:-1,:,:] + w0[:,1:,:,:])\n",
    "\n",
    "upt = u * (pt-T0)\n",
    "\n",
    "dfx0 = state2.DFxE_TH.data\n",
    "dfx = 0.5 * (dfx0[:,:,:,:-1] + dfx0[:,:,:,1:])\n",
    "\n",
    "dfz0 = state3.DFrI_TH.data\n",
    "dfz = 0.5 * (dfz0[:,:-1,:,:] + dfz0[:,1:,:,:])\n"
   ]
  },
  {
   "cell_type": "code",
   "execution_count": 4,
   "metadata": {},
   "outputs": [
    {
     "data": {
      "text/plain": [
       "('-2.72E+10', '2.60E+10', '-3.89E+08', '1.80E+09', '1.64E+08')"
      ]
     },
     "execution_count": 4,
     "metadata": {},
     "output_type": "execute_result"
    }
   ],
   "source": [
    "# Advective flux of potential temperature\n",
    "ADf = np.sum(Area * upt[:,:,:,f].mean(0)) * Cp * rho \n",
    "ADs = -np.sum(Area * upt[:,:,:,s].mean(0)) * Cp * rho \n",
    "\n",
    "# Diffusive flux of potential temperature\n",
    "DFf = np.sum(dfx[:,:,:,f].mean(0)) * Cp * rho\n",
    "DFs = -np.sum(dfx[:,:,:,s].mean(0)) * Cp * rho \n",
    "\n",
    "\"{:.2E}\".format(ADf), \"{:.2E}\".format(ADs), \"{:.2E}\".format(DFf), \"{:.2E}\".format(DFs), \"{:.2E}\".format(ADf+DFf+ADs+DFs)"
   ]
  },
  {
   "cell_type": "code",
   "execution_count": null,
   "metadata": {},
   "outputs": [],
   "source": []
  },
  {
   "cell_type": "code",
   "execution_count": 5,
   "metadata": {},
   "outputs": [],
   "source": [
    "## Budget terms for different layers\n",
    "\n",
    "uzx = u.mean(axis=(0,2)) # Z, X\n",
    "# Time average\n",
    "wt = w.mean(0) # Z, Y, X\n",
    "#dfzt = dfz.mean(0)\n",
    "ptt = pt.mean(0)\n",
    "dxdy = 200**2\n",
    "\n",
    "# Find the interface and vertical flux of theta\n",
    "def Layer(uzx):\n",
    "    # Layer interface, zero velocity crossing point\n",
    "    X = uzx.shape[1]\n",
    "    ADzx = np.empty(X)\n",
    "    DFzx = np.empty(X)\n",
    "    itf = np.empty(X, dtype=int)\n",
    "    ADzx[[0,-1]] = 0\n",
    "    DFzx[[0,-1]] = 0\n",
    "    itf[[0,-1]] = 0\n",
    "    for i in range(1,X-1):\n",
    "        l = np.where(uzx[:, i] < 0)[-1][0]\n",
    "        itf[i] = l\n",
    "        ADzx[i] = np.sum(wt[l,:,i] * (ptt[l,:,i]-T0) * dxdy ) # Vertical advective flux through the interface\n",
    "        DFzx[i] = np.sum(dfz[:,l,:,i].mean(0)) # Vertical diffusive flux through the interface\n",
    "    return (itf, ADzx, DFzx)"
   ]
  },
  {
   "cell_type": "code",
   "execution_count": 6,
   "metadata": {},
   "outputs": [
    {
     "data": {
      "text/plain": [
       "(-789.7588087012991, 42.92323, '4.44E+09', '2.32E+08', 333.52691756282)"
      ]
     },
     "execution_count": 6,
     "metadata": {},
     "output_type": "execute_result"
    }
   ],
   "source": [
    "itf, ADzx, DFzx = Layer(uzx)\n",
    "\n",
    "ADz = ADzx[f:s+1].sum() \n",
    "DFz = DFzx[f:s+1].sum() \n",
    "\n",
    "\n",
    "ADf1 = np.sum(Area[:itf[f],:] * upt[:,:itf[f],:,f].mean(0)) \n",
    "ADs1 = -np.sum(Area[:itf[s],:] * upt[:,:itf[s],:,s].mean(0)) \n",
    "DFf1 = np.sum(dfx[:,:itf[f],:,f].mean(0)) \n",
    "DFs1 = -np.sum(dfx[:,:itf[s],:,s].mean(0)) \n",
    "\n",
    "\n",
    "ADf2 = np.sum(Area[itf[f]:,:] * upt[:,itf[f]:,:,f].mean(0))\n",
    "ADs2 = -np.sum(Area[itf[s]:,:] * upt[:,itf[s]:,:,s].mean(0))\n",
    "DFf2 = np.sum(dfx[:,itf[f]:,:,f].mean(0))\n",
    "DFs2 = -np.sum(dfx[:,itf[s]:,:,s].mean(0))\n",
    "\n",
    "ptz = 0.5 * (ptt[itf[s]-1,:,f:s+1] + ptt[itf[s],:,f:s+1])\n",
    "ADz1 = np.sum(wt[itf[s],:,f:s+1].mean(0) * (ptz-T0) * dxdy)\n",
    "#ADz2 = np.sum(wt[itf[s],:,f:s+1] * (ptt[itf[s],:,f:s+1]-T0) * dxdy)\n",
    "DFz1 = np.sum(dfz[:,itf[s],:,f:s+1].mean(0))\n",
    "\n",
    "#ADf2 = np.sum(Area[itf[f]:,:] * upt[:,itf[f]:,:,f].mean(0))\n",
    "#ADs2 = ADs - ADs1\n",
    "\n",
    "ADf1+ADs1, DFf1+DFs1, \"{:.2E}\".format(ADz*Cp*rho), \"{:.2E}\".format(DFz*Cp*rho), ADf1+ADs1+DFf1+DFs1+ADz+ DFz"
   ]
  },
  {
   "cell_type": "code",
   "execution_count": null,
   "metadata": {},
   "outputs": [],
   "source": [
    "ADf2, ADs2, DFf2, DFs2, ADf2+ADs2+DFf2+DFs2-ADz"
   ]
  },
  {
   "cell_type": "code",
   "execution_count": null,
   "metadata": {},
   "outputs": [],
   "source": [
    "np.sum(w[:,0,:,f:s+1].mean(0) * (pt[:,0,:,f:s+1]-T0).mean(0) * dxdy), "
   ]
  },
  {
   "cell_type": "code",
   "execution_count": null,
   "metadata": {},
   "outputs": [],
   "source": [
    "np.sum(dfz[:,0,:,f:s+1].mean(0))"
   ]
  },
  {
   "cell_type": "code",
   "execution_count": null,
   "metadata": {},
   "outputs": [],
   "source": [
    "tem = pt.mean(axis=(0,2))\n",
    "tem[:,27]"
   ]
  },
  {
   "cell_type": "code",
   "execution_count": null,
   "metadata": {},
   "outputs": [],
   "source": [
    "T = upt.shape[0]\n",
    "\n",
    "ADft = np.empty(T)\n",
    "ADst = np.empty(T)\n",
    "DFft = np.empty(T)\n",
    "DFst = np.empty(T)\n",
    "for tt in range(T):\n",
    "    \n",
    "    ADft[tt] = np.sum(Area * upt[tt,:,:,f]) \n",
    "    ADst[tt] = -np.sum(Area * upt[tt,:,:,s]) \n",
    "\n",
    "    DFft[tt] = np.sum(dfx[tt,:,:,f])\n",
    "    DFst[tt] = -np.sum(dfx[tt,:,:,s])\n",
    "\n",
    "x = np.arange(81)    \n",
    "plt.plot(x,ADft)\n",
    "plt.plot(x,-ADst)\n",
    "#plt.plot(x,DFft)\n",
    "#plt.plot(x,DFst)"
   ]
  },
  {
   "cell_type": "code",
   "execution_count": null,
   "metadata": {},
   "outputs": [],
   "source": []
  }
 ],
 "metadata": {
  "kernelspec": {
   "display_name": "Python 3",
   "language": "python",
   "name": "python3"
  },
  "language_info": {
   "codemirror_mode": {
    "name": "ipython",
    "version": 3
   },
   "file_extension": ".py",
   "mimetype": "text/x-python",
   "name": "python",
   "nbconvert_exporter": "python",
   "pygments_lexer": "ipython3",
   "version": "3.7.4"
  }
 },
 "nbformat": 4,
 "nbformat_minor": 4
}
