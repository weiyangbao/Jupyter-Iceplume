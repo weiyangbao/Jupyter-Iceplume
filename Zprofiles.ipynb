{
 "cells": [
  {
   "cell_type": "code",
   "execution_count": 1,
   "metadata": {},
   "outputs": [],
   "source": [
    "import numpy as np\n",
    "import xarray as xr\n",
    "import matplotlib.pyplot as plt\n",
    "from scipy.interpolate import interp2d\n",
    "import gsw\n",
    "import os"
   ]
  },
  {
   "cell_type": "code",
   "execution_count": 4,
   "metadata": {},
   "outputs": [],
   "source": [
    "state0 = xr.open_dataset('/Users/weiyangbao/Desktop/sill12/state_002.nc')\n",
    "state = state0.isel(Y = range(1,10)) # Remove the boundary walls in y direction"
   ]
  },
  {
   "cell_type": "code",
   "execution_count": 7,
   "metadata": {},
   "outputs": [
    {
     "data": {
      "text/plain": [
       "(50, 50)"
      ]
     },
     "execution_count": 7,
     "metadata": {},
     "output_type": "execute_result"
    }
   ],
   "source": [
    "xloc = 28 # Location in x-axsis 0~50\n",
    "t = 41 # Time\n",
    "pt = state.Temp.isel(T = t)\n",
    "s = state.S.isel(T = t)\n",
    "u = state.U.isel(T = t)\n",
    "depth = state.Z.data\n",
    "# Mean value in Y direction, boundaries removed\n",
    "pt_ymean = pt.data.mean(1)\n",
    "s_ymean = s.data.mean(1)\n",
    "u_ymean = (u.data[:, :, 1:].mean(1) + u.data[:, :, :-1].mean(1)) / 2\n"
   ]
  },
  {
   "cell_type": "code",
   "execution_count": null,
   "metadata": {},
   "outputs": [],
   "source": []
  }
 ],
 "metadata": {
  "kernelspec": {
   "display_name": "Python 3",
   "language": "python",
   "name": "python3"
  },
  "language_info": {
   "codemirror_mode": {
    "name": "ipython",
    "version": 3
   },
   "file_extension": ".py",
   "mimetype": "text/x-python",
   "name": "python",
   "nbconvert_exporter": "python",
   "pygments_lexer": "ipython3",
   "version": "3.7.1"
  }
 },
 "nbformat": 4,
 "nbformat_minor": 2
}
