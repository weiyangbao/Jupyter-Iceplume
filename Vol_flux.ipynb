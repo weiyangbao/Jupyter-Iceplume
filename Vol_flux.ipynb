{
 "cells": [
  {
   "cell_type": "code",
   "execution_count": 4,
   "metadata": {},
   "outputs": [],
   "source": [
    "# Edited by Weiyang on 01/22/2019\n",
    "import xarray as xr\n",
    "import numpy as np\n",
    "import matplotlib.pyplot as plt\n",
    "import os"
   ]
  },
  {
   "cell_type": "code",
   "execution_count": 29,
   "metadata": {},
   "outputs": [
    {
     "data": {
      "text/plain": [
       "(200.01685, 200.01680748537183)"
      ]
     },
     "execution_count": 29,
     "metadata": {},
     "output_type": "execute_result"
    }
   ],
   "source": [
    "# Define a function to calculate volume flux above the sill crest\n",
    "def Vflux(filename, xloc):\n",
    "        \n",
    "    state0 = xr.open_dataset(filename)\n",
    "    state = state0.isel(Y = range(1,10)) # Remove the boundary walls in y direction\n",
    "    \n",
    "    # Grid areas\n",
    "    Area = np.empty([len(state.X), len(state.Y)])\n",
    "    Area[:10,:] = 100\n",
    "    Area[10:20,:] = 200\n",
    "    Area[20:30,:] = 300\n",
    "    Area[30:40,:] = 800\n",
    "    Area[40:,:] = 1600\n",
    "    \n",
    "    Qnet = np.empty(len(state.T))\n",
    "    Q_out = np.empty(len(state.T))\n",
    "    Q_in = np.empty(len(state.T))\n",
    "    for t in range(len(state.T)):\n",
    "        u = state.U.isel(T = t).data\n",
    "        u_ymean = (u[:, :, 1:] + u[:, :, :-1]) / 2\n",
    "        u_x = u_ymean[:, :, xloc] # Profile at the selected x location\n",
    "        Qx = u_x * Area\n",
    "        Qnet[t] = Qx.sum()\n",
    "        Q_in[t] = Qx[Qx < 0].sum()\n",
    "        Q_out[t] = Qx[Qx > 0].sum()\n",
    "    return (u_x, Qnet, Q_out, Q_in)\n",
    "# TEST\n",
    "#u_x, Qnet, Q_out, Q_in = Vflux('/work/oceans/wbao/MITgcm_results/iceplume/sill30/state_002.nc', 28)\n",
    "#Q = u_x[:10,:]*100 + u_x[10:20,:]*200 + u_x[20:30,:]*300 + u_x[30:40,:]*800 + u_x[40:,:]*1600\n",
    "#Q.sum(),Qnet[-1]"
   ]
  },
  {
   "cell_type": "code",
   "execution_count": 3,
   "metadata": {},
   "outputs": [],
   "source": [
    "#fig_path = \"/Users/weiyangbao/Documents/Jupyter_Figs//Sill012/Vol_flux\"\n",
    "fig_path = \"/home/1959/Jupyter_Figs/sill60/Vol_flux/\"\n",
    "if not os.path.exists(fig_path):\n",
    "    os.makedirs(fig_path)\n",
    "    \n",
    "import glob\n",
    "#files = glob.glob('/Users/weiyangbao/Desktop/sill12/state_*.nc')\n",
    "files = sorted(glob.glob('/work/oceans/wbao/MITgcm_results/iceplume/sill60/state_*.nc'))\n",
    "\n",
    "xloc = 27\n",
    "sill_depth = 60\n",
    "\n",
    "for i in range(len(files)):\n",
    "    \n",
    "    Qnet, Q_out, Q_in = Vflux(files[i], xloc)\n",
    "\n",
    "    fig, ax =plt.subplots(figsize=(12,6))\n",
    "    ax.set_xlim([0,240])\n",
    "    ax.set_xticks(np.linspace(0,240,13))\n",
    "    ax.set_xticklabels(np.linspace(0,120,13, dtype = int), size = 20)\n",
    "    #ax.set_ylim([0,4000])\n",
    "    #ax.set_yticks(np.linspace(0,4000,9))\n",
    "    #ax.set_yticklabels(np.linspace(0,4000,9, dtype = int), size = 20)\n",
    "    plt.yticks(fontsize = 20)\n",
    "    plt.xlabel(\"Time [Day]\", size = 20, weight = 'bold')\n",
    "    plt.ylabel(\"Volume Flux [m\\u00B3/s]\", size = 20, weight = 'bold')\n",
    "    plt.plot(Q_out, \"b-\", linewidth=1.5, label='Q_out')\n",
    "    plt.plot(-Q_in, \"r-\", linewidth=1.5, label='Q_in')\n",
    "    plt.legend(loc = 'right', fontsize = 15)\n",
    "    #plt.text(0, 3800, r'$sill$ $depth$: ' + str(sill_depth) + ' $m$', {'color': 'C2','fontsize': 15})\n",
    "    #plt.text(0, 3500, r'$Q_{sg}$: ' + str(100*(i+1)) + ' $m\\u00B3/s$', {'color': 'C2','fontsize': 15})\n",
    "    plt.title(\"Volume Transport Above The Sill Crest\", size = 25, weight = 'bold')\n",
    "    plt.close()\n",
    "    fig.savefig(fig_path + '/Qf_' + format(100*(i+1), '04d') + '.png', dpi = 150, bbox_inches='tight')"
   ]
  },
  {
   "cell_type": "code",
   "execution_count": null,
   "metadata": {},
   "outputs": [],
   "source": []
  }
 ],
 "metadata": {
  "kernelspec": {
   "display_name": "Python 3",
   "language": "python",
   "name": "python3"
  },
  "language_info": {
   "codemirror_mode": {
    "name": "ipython",
    "version": 3
   },
   "file_extension": ".py",
   "mimetype": "text/x-python",
   "name": "python",
   "nbconvert_exporter": "python",
   "pygments_lexer": "ipython3",
   "version": "3.7.1"
  }
 },
 "nbformat": 4,
 "nbformat_minor": 2
}
