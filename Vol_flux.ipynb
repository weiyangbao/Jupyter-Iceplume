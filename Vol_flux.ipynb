{
 "cells": [
  {
   "cell_type": "code",
   "execution_count": 19,
   "metadata": {},
   "outputs": [],
   "source": [
    "# Edited by Weiyang on 01/22/2019\n",
    "import xarray as xr\n",
    "import numpy as np\n",
    "#np.set_printoptions(threshold=np.nan)\n",
    "import matplotlib.pyplot as plt\n",
    "from scipy.interpolate import interp2d\n",
    "#import gsw\n",
    "import os"
   ]
  },
  {
   "cell_type": "code",
   "execution_count": 15,
   "metadata": {},
   "outputs": [],
   "source": [
    "# Define a function to calculate volume flux above the sill crest\n",
    "def Vflux(filename, sill_depth):\n",
    "    \n",
    "    from scipy.interpolate import interp2d\n",
    "    \n",
    "    state = xr.open_dataset(filename)\n",
    "    # Grid info\n",
    "    Zgrid = int(sill_depth / 3)\n",
    "    grid_size = 200 * 3\n",
    "    y = state.Y.data[1:10]\n",
    "    z0 = state.Z.data\n",
    "    z1 = np.arange(-1.5,-150,-3)\n",
    "    \n",
    "    Qs_out = np.empty(len(state.T))\n",
    "    Qs_in = np.empty(len(state.T))\n",
    "    for t in range(len(state.T)):\n",
    "        u = state.U.isel(T = t)        \n",
    "        u_sill = (u.data[:, 1:10, 29]) # Profile above the sill crest\n",
    "        f_u = interp2d(y, z0, u_sill) # Interpolate in Z direction\n",
    "        u_sill_interp = f_u(y, z1)\n",
    "        Qs = u_sill_interp[-Zgrid:,:] * grid_size\n",
    "        Qs_out[t] = Qs[Qs > 0].sum()\n",
    "        Qs_in[t] = -Qs[Qs < 0].sum()\n",
    "        \n",
    "    return (Qs_out, Qs_in)"
   ]
  },
  {
   "cell_type": "code",
   "execution_count": 20,
   "metadata": {},
   "outputs": [],
   "source": [
    "\n",
    "fig_path = \"/Users/weiyangbao/Documents/Jupyter/Vol_flux\"\n",
    "if not os.path.exists(fig_path):\n",
    "    os.makedirs(fig_path)\n",
    "    \n",
    "import glob\n",
    "files = glob.glob('/Users/weiyangbao/Desktop/sill12/state_*.nc')\n",
    "sill_depth = 12\n",
    "\n",
    "for i in range(len(files)):\n",
    "    Qs_out, Qs_in = Vflux(files[i], sill_depth)\n",
    "    #create figure\n",
    "    fig, ax =plt.subplots(figsize=(12,6))\n",
    "    ax.set_xlim([0,240])\n",
    "    ax.set_xticks(np.linspace(0,240,13))\n",
    "    ax.set_xticklabels(np.linspace(0,120,13, dtype = int), size = 20)\n",
    "    plt.yticks(fontsize = 20)\n",
    "    plt.xlabel(\"Time [Day]\", size = 20, weight = 'bold')\n",
    "    plt.ylabel(\"Volume Flux [m\\u00B3/s]\", size = 20, weight = 'bold')\n",
    "    #plt.tick_params(axis=\"y\", labelcolor=\"b\")\n",
    "    plt.plot(Qs_out, \"b-\", linewidth=1.5, label='Q_out')\n",
    "    plt.plot(Qs_in, \"r-\", linewidth=1.5, label='Q_in')\n",
    "    plt.legend(loc = 'right', fontsize = 15)\n",
    "    plt.title(\"Water Mass Transport Above The Sill Crest\", size = 25, weight = 'bold')\n",
    "    #fig.autofmt_xdate(rotation=50)\n",
    "  \n",
    "    #plt.show()\n",
    "    plt.close()\n",
    "    fig.savefig(fig_path + '/Qf' + format(i, '03d') + '.png', dpi = 150, bbox_inches='tight')"
   ]
  }
 ],
 "metadata": {
  "kernelspec": {
   "display_name": "Python 3",
   "language": "python",
   "name": "python3"
  },
  "language_info": {
   "codemirror_mode": {
    "name": "ipython",
    "version": 3
   },
   "file_extension": ".py",
   "mimetype": "text/x-python",
   "name": "python",
   "nbconvert_exporter": "python",
   "pygments_lexer": "ipython3",
   "version": "3.7.1"
  }
 },
 "nbformat": 4,
 "nbformat_minor": 2
}
