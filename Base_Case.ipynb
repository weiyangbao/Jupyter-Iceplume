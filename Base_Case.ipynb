{
 "cells": [
  {
   "cell_type": "code",
   "execution_count": 1,
   "metadata": {},
   "outputs": [
    {
     "name": "stderr",
     "output_type": "stream",
     "text": [
      "/Users/weiyangbao/miniconda3/envs/py37/lib/python3.7/site-packages/xarray/core/merge.py:17: FutureWarning: The Panel class is removed from pandas. Accessing it from the top-level namespace will also be removed in the next version\n",
      "  PANDAS_TYPES = (pd.Series, pd.DataFrame, pd.Panel)\n"
     ]
    }
   ],
   "source": [
    "import xarray as xr\n",
    "import numpy as np\n",
    "import matplotlib\n",
    "import matplotlib.pyplot as plt\n",
    "from mpl_toolkits.axes_grid1 import make_axes_locatable\n",
    "import os\n",
    "import gsw"
   ]
  },
  {
   "cell_type": "code",
   "execution_count": 2,
   "metadata": {},
   "outputs": [],
   "source": [
    "def State(Hs):\n",
    "    file = xr.open_dataset('/Users/weiyangbao/Documents/Model_outputs/Sills/Hs_' + str(format(Hs,'03d')) + '.nc')\n",
    "    t0 = 40\n",
    "    tn = len(file.T)\n",
    "    state = file.isel(Y=range(1,10), T=range(t0,tn))\n",
    "    X = state.X.data \n",
    "    x_dist = X / 1000\n",
    "    depth = state.Z.data\n",
    "    pres = gsw.p_from_z(depth, 0)\n",
    "    pt = state.Temp.data.mean(axis=(0,2)) # Y-axis average\n",
    "    s = state.S.data.mean(axis=(0,2))\n",
    "    p = np.tile(pres,[len(X),1]).T\n",
    "    rho = gsw.rho(s, pt, p)\n",
    "    \n",
    "    u0 = state.U.data # dims = T, Z, Y, Xp1\n",
    "    u_ymean = (u0[:, :, :, 1:].mean(2) + u0[:, :, :, :-1].mean(2)) / 2\n",
    "    u = u_ymean.mean(0) # dims = Z, X\n",
    "    u[u==0] = np.nan\n",
    "    \n",
    "    pt0 = file.Temp.data.mean(2)[1,:,:]\n",
    "    mask = (pt0 == 0)\n",
    "    pt[mask] = np.nan\n",
    "    s[mask] = np.nan\n",
    "    rho[mask] = np.nan\n",
    "    \n",
    "    h1 = np.empty(len(X)-2)\n",
    "    z_th = np.empty(len(X)-2)\n",
    "    for i in range(1,len(X)-1):\n",
    "        l = np.where(u[:, i] < 0)[-1][0] - 1\n",
    "        #z_th[i-1] =  w[l, i] * pt[l, i]\n",
    "        #h1[i-1] = -depth[l]\n",
    "        # Calculate layer depth\n",
    "        if l <= 9:\n",
    "            h1[i-1] = -depth[l]+0.25\n",
    "        elif l <= 19:\n",
    "            h1[i-1] = -depth[l]+0.5\n",
    "        elif l <= 29:\n",
    "            h1[i-1] = -depth[l]+0.75\n",
    "        elif l <= 39:\n",
    "            h1[i-1] = -depth[l]+2\n",
    "        elif l <= 49:\n",
    "            h1[i-1] = -depth[l]+4\n",
    "    \n",
    "    \n",
    "    return (x_dist, depth, pt, rho, h1)"
   ]
  },
  {
   "cell_type": "code",
   "execution_count": 3,
   "metadata": {},
   "outputs": [],
   "source": [
    "def IFA(Hs):\n",
    "    # Grid areas\n",
    "    Area = np.empty([50, 9])\n",
    "    Area[:10,:] = 100\n",
    "    Area[10:20,:] = 200\n",
    "    Area[20:30,:] = 300\n",
    "    Area[30:40,:] = 800\n",
    "    Area[40:,:] = 1600\n",
    "    file = xr.open_dataset('/Users/weiyangbao/Documents/Model_outputs/Qsm700/Hs_' + str(format(Hs,'03d')) + '.nc')\n",
    "    t0 = 40\n",
    "    tn = len(file.T)\n",
    "    state = file.isel(Y=range(1,10), T=range(t0,tn))\n",
    "    MR = state.icefrntA.isel(X=1).data.mean(0) # Melt rate at the icefront\n",
    "    Qsm = (MR*Area).sum()/(24*3600)\n",
    "    return Qsm"
   ]
  },
  {
   "cell_type": "code",
   "execution_count": 4,
   "metadata": {},
   "outputs": [
    {
     "ename": "IndexError",
     "evalue": "index 0 is out of bounds for axis 0 with size 0",
     "output_type": "error",
     "traceback": [
      "\u001b[0;31m---------------------------------------------------------------------------\u001b[0m",
      "\u001b[0;31mIndexError\u001b[0m                                Traceback (most recent call last)",
      "\u001b[0;32m<ipython-input-4-226b7771e116>\u001b[0m in \u001b[0;36m<module>\u001b[0;34m\u001b[0m\n\u001b[1;32m      5\u001b[0m     \u001b[0mQsm\u001b[0m\u001b[0;34m[\u001b[0m\u001b[0mi\u001b[0m\u001b[0;34m]\u001b[0m \u001b[0;34m=\u001b[0m \u001b[0mIFA\u001b[0m\u001b[0;34m(\u001b[0m\u001b[0mHs\u001b[0m\u001b[0;34m[\u001b[0m\u001b[0mi\u001b[0m\u001b[0;34m]\u001b[0m\u001b[0;34m)\u001b[0m\u001b[0;34m\u001b[0m\u001b[0;34m\u001b[0m\u001b[0m\n\u001b[1;32m      6\u001b[0m \u001b[0;34m\u001b[0m\u001b[0m\n\u001b[0;32m----> 7\u001b[0;31m \u001b[0mx1\u001b[0m\u001b[0;34m,\u001b[0m \u001b[0mz1\u001b[0m\u001b[0;34m,\u001b[0m \u001b[0mpt1\u001b[0m\u001b[0;34m,\u001b[0m \u001b[0mrho1\u001b[0m\u001b[0;34m,\u001b[0m \u001b[0mh1\u001b[0m \u001b[0;34m=\u001b[0m \u001b[0mState\u001b[0m\u001b[0;34m(\u001b[0m\u001b[0mHs\u001b[0m\u001b[0;34m[\u001b[0m\u001b[0;36m0\u001b[0m\u001b[0;34m]\u001b[0m\u001b[0;34m)\u001b[0m\u001b[0;34m\u001b[0m\u001b[0;34m\u001b[0m\u001b[0m\n\u001b[0m\u001b[1;32m      8\u001b[0m \u001b[0mx2\u001b[0m\u001b[0;34m,\u001b[0m \u001b[0mz2\u001b[0m\u001b[0;34m,\u001b[0m \u001b[0mpt2\u001b[0m\u001b[0;34m,\u001b[0m \u001b[0mrho2\u001b[0m\u001b[0;34m,\u001b[0m \u001b[0mh2\u001b[0m \u001b[0;34m=\u001b[0m \u001b[0mState\u001b[0m\u001b[0;34m(\u001b[0m\u001b[0mHs\u001b[0m\u001b[0;34m[\u001b[0m\u001b[0;36m1\u001b[0m\u001b[0;34m]\u001b[0m\u001b[0;34m)\u001b[0m\u001b[0;34m\u001b[0m\u001b[0;34m\u001b[0m\u001b[0m\n\u001b[1;32m      9\u001b[0m \u001b[0mx3\u001b[0m\u001b[0;34m,\u001b[0m \u001b[0mz3\u001b[0m\u001b[0;34m,\u001b[0m \u001b[0mpt3\u001b[0m\u001b[0;34m,\u001b[0m \u001b[0mrho3\u001b[0m\u001b[0;34m,\u001b[0m \u001b[0mh3\u001b[0m \u001b[0;34m=\u001b[0m \u001b[0mState\u001b[0m\u001b[0;34m(\u001b[0m\u001b[0mHs\u001b[0m\u001b[0;34m[\u001b[0m\u001b[0;36m2\u001b[0m\u001b[0;34m]\u001b[0m\u001b[0;34m)\u001b[0m\u001b[0;34m\u001b[0m\u001b[0;34m\u001b[0m\u001b[0m\n",
      "\u001b[0;32m<ipython-input-2-93180c505e60>\u001b[0m in \u001b[0;36mState\u001b[0;34m(Hs)\u001b[0m\n\u001b[1;32m     27\u001b[0m     \u001b[0mz_th\u001b[0m \u001b[0;34m=\u001b[0m \u001b[0mnp\u001b[0m\u001b[0;34m.\u001b[0m\u001b[0mempty\u001b[0m\u001b[0;34m(\u001b[0m\u001b[0mlen\u001b[0m\u001b[0;34m(\u001b[0m\u001b[0mX\u001b[0m\u001b[0;34m)\u001b[0m\u001b[0;34m-\u001b[0m\u001b[0;36m2\u001b[0m\u001b[0;34m)\u001b[0m\u001b[0;34m\u001b[0m\u001b[0;34m\u001b[0m\u001b[0m\n\u001b[1;32m     28\u001b[0m     \u001b[0;32mfor\u001b[0m \u001b[0mi\u001b[0m \u001b[0;32min\u001b[0m \u001b[0mrange\u001b[0m\u001b[0;34m(\u001b[0m\u001b[0;36m1\u001b[0m\u001b[0;34m,\u001b[0m\u001b[0mlen\u001b[0m\u001b[0;34m(\u001b[0m\u001b[0mX\u001b[0m\u001b[0;34m)\u001b[0m\u001b[0;34m-\u001b[0m\u001b[0;36m1\u001b[0m\u001b[0;34m)\u001b[0m\u001b[0;34m:\u001b[0m\u001b[0;34m\u001b[0m\u001b[0;34m\u001b[0m\u001b[0m\n\u001b[0;32m---> 29\u001b[0;31m         \u001b[0ml\u001b[0m \u001b[0;34m=\u001b[0m \u001b[0mnp\u001b[0m\u001b[0;34m.\u001b[0m\u001b[0mwhere\u001b[0m\u001b[0;34m(\u001b[0m\u001b[0mu\u001b[0m\u001b[0;34m[\u001b[0m\u001b[0;34m:\u001b[0m\u001b[0;34m,\u001b[0m \u001b[0mi\u001b[0m\u001b[0;34m]\u001b[0m \u001b[0;34m<\u001b[0m \u001b[0;36m0\u001b[0m\u001b[0;34m)\u001b[0m\u001b[0;34m[\u001b[0m\u001b[0;34m-\u001b[0m\u001b[0;36m1\u001b[0m\u001b[0;34m]\u001b[0m\u001b[0;34m[\u001b[0m\u001b[0;36m0\u001b[0m\u001b[0;34m]\u001b[0m \u001b[0;34m-\u001b[0m \u001b[0;36m1\u001b[0m\u001b[0;34m\u001b[0m\u001b[0;34m\u001b[0m\u001b[0m\n\u001b[0m\u001b[1;32m     30\u001b[0m         \u001b[0;31m#z_th[i-1] =  w[l, i] * pt[l, i]\u001b[0m\u001b[0;34m\u001b[0m\u001b[0;34m\u001b[0m\u001b[0;34m\u001b[0m\u001b[0m\n\u001b[1;32m     31\u001b[0m         \u001b[0;31m#h1[i-1] = -depth[l]\u001b[0m\u001b[0;34m\u001b[0m\u001b[0;34m\u001b[0m\u001b[0;34m\u001b[0m\u001b[0m\n",
      "\u001b[0;31mIndexError\u001b[0m: index 0 is out of bounds for axis 0 with size 0"
     ]
    }
   ],
   "source": [
    "Hs = np.array([10, 12, 15, 110, 150])\n",
    "\n",
    "Qsm = np.empty(len(Hs))\n",
    "for i in range(len(Hs)):\n",
    "    Qsm[i] = IFA(Hs[i])\n",
    "    \n",
    "x1, z1, pt1, rho1, h1 = State(Hs[0])\n",
    "x2, z2, pt2, rho2, h2 = State(Hs[1])\n",
    "x3, z3, pt3, rho3, h3 = State(Hs[2])\n",
    "x4, z4, pt4, rho4, h4 = State(Hs[3])\n",
    "#Qsm1 = IFA(Hs[0])\n",
    "#Qsm2 = IFA(Hs[1])\n",
    "#Qsm3 = IFA(Hs[2])\n",
    "#Qsm4 = IFA(Hs[3])\n",
    "\n",
    "gridsize = (4, 5)\n",
    "fig = plt.figure(figsize=(14, 12))\n",
    "ax1 = plt.subplot2grid(gridsize, (0, 0), colspan=4)\n",
    "ax2 = plt.subplot2grid(gridsize, (1, 0), colspan=4)\n",
    "ax3 = plt.subplot2grid(gridsize, (2, 0), colspan=4)\n",
    "ax4 = plt.subplot2grid(gridsize, (3, 0), colspan=4)\n",
    "ax5 = plt.subplot2grid(gridsize, (0, 4), colspan=1, rowspan=4)\n",
    "fig.tight_layout()\n",
    "\n",
    "ct = np.linspace(-4,0,17) # Contour range for temperature\n",
    "cmap = 'YlGnBu_r'\n",
    "\n",
    "\n",
    "im1 = ax1.contourf(x1,z1[:24],pt1[:24,:]-9, ct, cmap=cmap)\n",
    "#current_cmap = matplotlib.cm.get_cmap()\n",
    "#cmap.set_bad('red',1.)\n",
    "ax1.xaxis.set_visible(False)\n",
    "ax1.annotate(s='', xy=(0.56,0.5), xycoords='axes fraction', xytext=(0.56,1), textcoords='axes fraction',arrowprops={'arrowstyle': '<|-|>','color':'red','linewidth':4,'alpha':0.5})\n",
    "ax1.set_xlim([0.3,9.9])\n",
    "ax1.set_facecolor('k')\n",
    "#ax1.fill_between([x1[0], x1[1]], z1[0], z1[23])\n",
    "\n",
    "cbaxes = fig.add_axes([0.6, 1.01, 0.15, 0.01])\n",
    "cbar = fig.colorbar(im1,cax=cbaxes, orientation='horizontal')\n",
    "cbar.set_ticks([-4, -2, 0])\n",
    "cbar.ax.set_title('Temperature Anomaly (\\N{DEGREE SIGN}C)', size=10, weight='bold')\n",
    "# Plot isopycnals\n",
    "CS1 = ax1.contour(x1,z1[:24],rho1[:24,:],np.linspace(1012.5,1020.5,9), colors = 'gray')\n",
    "plt.clabel(CS1, fmt='%1.1f', fontsize=15, inline=1)\n",
    "ax1.plot(x1[1:-1],-h1, '--w', lw=2)\n",
    "ax1.set_ylabel('Depth (m)', size=15)\n",
    "ax1.tick_params(labelsize=12)\n",
    "ax1.set_title('(a) $\\mathregular{H_s}$ = ' + str(Hs[0]) + ' m', loc='left', size=15, weight='bold')\n",
    "\n",
    "im2 = ax2.contourf(x2,z2[:24],pt2[:24,:]-9, ct, cmap=cmap)\n",
    "ax2.xaxis.set_visible(False)\n",
    "ax2.annotate(s='', xy=(0.56,0.4), xycoords='axes fraction', xytext=(0.56,1), textcoords='axes fraction', arrowprops={'arrowstyle': '<|-|>','color':'red','linewidth':4,'alpha':0.5})\n",
    "#fig.colorbar(im2,ax=ax2)\n",
    "CS2 = ax2.contour(x2,z2[:24],rho2[:24,:],np.linspace(1012.5,1020.5,9), colors = 'gray')\n",
    "plt.clabel(CS2, fmt='%1.1f', fontsize=15, inline=1)\n",
    "ax2.plot(x2[1:-1],-h2, '--w', lw=2)\n",
    "ax2.set_ylabel('Depth (m)', size=15)\n",
    "ax2.tick_params(labelsize=12)\n",
    "ax2.set_title('(b) $\\mathregular{H_s}$ = ' + str(Hs[1]) + ' m', loc='left', size=15, weight='bold')\n",
    "ax2.set_xlim([0.3,9.9])\n",
    "ax2.set_facecolor('k')\n",
    "\n",
    "im3 = ax3.contourf(x3,z3[:24],pt3[:24,:]-9, ct, cmap=cmap)\n",
    "ax3.xaxis.set_visible(False)\n",
    "ax3.annotate(s='', xy=(0.56,0.25), xycoords='axes fraction', xytext=(0.56,1), textcoords='axes fraction', arrowprops={'arrowstyle': '<|-|>','color':'red','linewidth':4,'alpha':0.5})\n",
    "#fig.colorbar(im3,ax=ax3)\n",
    "CS3 = ax3.contour(x3,z3[:24],rho3[:24,:],np.linspace(1012.5,1020.5,9), colors = 'gray')\n",
    "plt.clabel(CS3, fmt='%1.1f', fontsize=15, inline=1)\n",
    "ax3.plot(x3[1:-1],-h3, '--w', lw=2)\n",
    "ax3.set_ylabel('Depth (m)', size=15)\n",
    "ax3.tick_params(labelsize=12)\n",
    "ax3.set_title('(c) $\\mathregular{H_s}$ = ' + str(Hs[2]) + ' m', loc='left', size=15, weight='bold')\n",
    "ax3.set_xlim([0.3,9.9])\n",
    "ax3.set_facecolor('k')\n",
    "\n",
    "im4 = ax4.contourf(x4,z4[:24],pt4[:24,:]-9, ct, cmap=cmap)\n",
    "ax4.annotate(s='', xy=(0.56,0), xycoords='axes fraction', xytext=(0.56,1), textcoords='axes fraction', arrowprops={'arrowstyle': '<|-','color':'red','linewidth':4,'alpha':0.5})\n",
    "#fig.colorbar(im4,ax=ax4)\n",
    "CS4 = ax4.contour(x4,z4[:24],rho4[:24,:],np.linspace(1012.5,1020.5,9), colors = 'gray')\n",
    "plt.clabel(CS4, fmt='%1.1f', fontsize=15, inline=1)\n",
    "ax4.plot(x4[1:-1],-h4, '--w', lw=2)\n",
    "\n",
    "ax4.set_ylabel('Depth (m)', size=15)\n",
    "#ax4.set_xlim([0,10])\n",
    "ax4.set_xlim([0.3,9.9])\n",
    "ax4.set_facecolor('k')\n",
    "ax4.set_xticks([0.3, 2, 4, 6, 8, 9.9])\n",
    "ax4.set_xticklabels([\"0\",\"2\",\"4\",\"6\",\"8\",\"10\"], size=15)\n",
    "\n",
    "ax4.set_xlabel('Distance from glacier (km)', size=15)\n",
    "ax4.tick_params(labelsize=12)\n",
    "ax4.set_title('(d) $\\mathregular{H_s}$ = ' + str(Hs[3]) + ' m', loc='left', size=15, weight='bold')\n",
    "\n",
    "ax5.plot(Qsm,[1,2,3,4,5],'o-',lw=3)\n",
    "ax5.grid(linestyle=':')\n",
    "ax5.invert_yaxis()\n",
    "#ax5.set_ylabel('Hs (m)', size=15)\n",
    "ax5.tick_params(labelsize=12)\n",
    "\n",
    "ax5.set_yticks([1, 2, 3, 4])\n",
    "ax5.set_yticklabels(['$\\mathregular{H_s}$=\\n10m','$\\mathregular{H_s}$=\\n12m','$\\mathregular{H_s}$=\\n15m','$\\mathregular{H_s}$=\\n110m'], size=15)\n",
    "#$\\mathregular{N_i}$\n",
    "ax5.set_xlabel(r'$\\mathregular{Q_{sm}}\\;(m^3/s)$', size=15, weight='bold')\n",
    "ax5.xaxis.set_label_position('top')\n",
    "ax5.xaxis.set_ticks_position('top') # this moves the ticks to the top\n",
    "ax5.set_title('(e)', loc='left', size=15, weight='bold')"
   ]
  },
  {
   "cell_type": "code",
   "execution_count": null,
   "metadata": {},
   "outputs": [],
   "source": [
    "fig_path = \"/Users/weiyangbao/Documents/Model_outputs/Theta/\"\n",
    "if not os.path.exists(fig_path):\n",
    "    os.makedirs(fig_path)\n",
    "fig.savefig(fig_path + '/Basemap.png', dpi = 150, bbox_inches='tight')    "
   ]
  },
  {
   "cell_type": "code",
   "execution_count": 8,
   "metadata": {},
   "outputs": [
    {
     "data": {
      "text/plain": [
       "array([1.49907998, 1.63237985, 1.77955139, 2.0095355 , 2.00826932])"
      ]
     },
     "execution_count": 8,
     "metadata": {},
     "output_type": "execute_result"
    }
   ],
   "source": [
    "Qsm"
   ]
  },
  {
   "cell_type": "code",
   "execution_count": null,
   "metadata": {},
   "outputs": [],
   "source": []
  }
 ],
 "metadata": {
  "kernelspec": {
   "display_name": "Python 3",
   "language": "python",
   "name": "python3"
  },
  "language_info": {
   "codemirror_mode": {
    "name": "ipython",
    "version": 3
   },
   "file_extension": ".py",
   "mimetype": "text/x-python",
   "name": "python",
   "nbconvert_exporter": "python",
   "pygments_lexer": "ipython3",
   "version": "3.7.4"
  }
 },
 "nbformat": 4,
 "nbformat_minor": 4
}
