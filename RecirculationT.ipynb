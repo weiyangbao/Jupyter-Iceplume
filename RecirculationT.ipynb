{
 "cells": [
  {
   "cell_type": "code",
   "execution_count": 1,
   "metadata": {},
   "outputs": [
    {
     "name": "stderr",
     "output_type": "stream",
     "text": [
      "/Users/weiyangbao/miniconda3/envs/py37/lib/python3.7/site-packages/xarray/core/merge.py:17: FutureWarning: The Panel class is removed from pandas. Accessing it from the top-level namespace will also be removed in the next version\n",
      "  PANDAS_TYPES = (pd.Series, pd.DataFrame, pd.Panel)\n"
     ]
    }
   ],
   "source": [
    "# Temperature transport near the constriction\n",
    "import xarray as xr\n",
    "import numpy as np\n",
    "import matplotlib.pyplot as plt\n",
    "import os\n",
    "import glob"
   ]
  },
  {
   "cell_type": "code",
   "execution_count": 2,
   "metadata": {},
   "outputs": [],
   "source": [
    "# Find the interface\n",
    "def Layer(u):\n",
    "    # Layer interface, zero velocity crossing point\n",
    "    uzx = u.mean(axis=(0,2)) # Z, X\n",
    "    X = uzx.shape[1]\n",
    "    itf = np.empty(X, dtype=int)\n",
    "    itf[[0,1,-2,-1]] = 0 # Remove data at fjord head and end\n",
    "    for i in range(2,X-2):\n",
    "        l = np.where(uzx[:, i] < 0)[-1][0]\n",
    "        itf[i] = l\n",
    "    return itf"
   ]
  },
  {
   "cell_type": "code",
   "execution_count": 3,
   "metadata": {},
   "outputs": [],
   "source": [
    "def TVEL(sd):\n",
    "    state01 = xr.open_dataset('/Users/weiyangbao/Documents/Model_outputs/Sills/state_' + str(format(sd,'03d')) + '.nc')\n",
    "    state02 = xr.open_dataset('/Users/weiyangbao/Documents/Model_outputs/Sills/grid_' + str(format(sd,'03d')) + '.nc')\n",
    "    #state03 = xr.open_dataset('/Users/weiyangbao/Documents/Model_outputs/Sills/Diagnostics/icefrntT_' + str(format(sd,'03d')) + '.nc')\n",
    "    state1 = state01.isel(Y=range(1,10), T=range(40,121))\n",
    "    \n",
    "    \n",
    "    u = state1.U.data\n",
    "    w = state1.W.data\n",
    "    #icefrntT = state03.icefrntT.data[39:,:,5,1] # Plume temperature at the front\n",
    "    \n",
    "    Area = np.empty([50, 9]) # Cross Y direction\n",
    "    Area[:10, :] = 100\n",
    "    Area[10:20, :] = 200\n",
    "    Area[20:30, :] = 300\n",
    "    Area[30:40, :] = 800\n",
    "    Area[40:, :] = 1600\n",
    "\n",
    "    f = 56 # section index at the front\n",
    "    s = 66-f  # section index at the sill\n",
    "    CellVol = state02.rA.data[None,1:-1,:] * state02.drF.data[:,None,None] * state02.HFacC.data[:,1:-1,:]\n",
    "    Temp = state1.Temp.data.mean(0)\n",
    "    \n",
    "    itf = Layer(u)\n",
    "    L = len(itf)-2 # exclude the open boundary at the fjord end\n",
    "    it = itf[f:]\n",
    "    ut = u[:,:,:,f:].mean(0)\n",
    "    wt = w[:,:,:,f:].mean(0)\n",
    "    HFacW = state02.HFacW.data[:,1:-1,f:] # vertical fraction of open cell at West face\n",
    "    rA = state02.rA.data[1:-1,f:] # r face area at cell center\n",
    "    \n",
    "    Vol1 = np.empty(L-f) # Upper layer volume\n",
    "    Vol2 = np.empty(L-f) # Lower layer volume\n",
    "    Tvol1 = np.empty(L-f)\n",
    "    Tvol2 = np.empty(L-f)\n",
    "    Vx1 = np.empty(L-f) # Horizontal volume transport for the upper layer\n",
    "    Vx2 = np.empty(L-f) # Horizontal volume transport for the lower layer\n",
    "    Vz = np.empty(L-f) # Vertical volume transport through the interface\n",
    "    for i in range(L-f):        \n",
    "        Vol1[i] = CellVol[:it[i],:,i+f].sum()\n",
    "        Vol2[i] = CellVol[it[i]:,:,i+f].sum()\n",
    "        Tvol1[i] = np.sum(Temp[:it[i],:,i+f] * CellVol[:it[i],:,i+f])\n",
    "        Tvol2[i] = np.sum(Temp[it[i]:,:,i+f] * CellVol[it[i]:,:,i+f])\n",
    "        Vx1[i] = np.sum(ut[:it[i],:,i] * HFacW[:it[i],:,i] * Area[:it[i],:])\n",
    "        Vx2[i] = np.sum(ut[it[i]:,:,i] * HFacW[it[i]:,:,i] * Area[it[i]:,:])\n",
    "        Vz[i] = np.sum(wt[it[i],:,i] * rA[:,i])\n",
    "    \n",
    "    T1 = Tvol1[:s].sum() / Vol1[:s].sum()\n",
    "    T2 = Tvol2[:s].sum() / Vol2[:s].sum()\n",
    "    Qr = Vx1[0] - Vx1[s] # Recirculation\n",
    "    #Qr2 = Vx2[0] - Vx2[s]\n",
    "    Qoc2 = -Vx2[s]\n",
    "    Qoc1 = Vx1[s]\n",
    "    Toc1 = Tvol1[s:].sum() / Vol1[s:].sum() # Upper temperature outside the fjord\n",
    "    Toc2 = Tvol2[s:].sum() / Vol2[s:].sum() # Lower temperature outside the fjord\n",
    "\n",
    "    return (T1, T2, Qr, Qoc1, Qoc2, Toc1, Toc2)"
   ]
  },
  {
   "cell_type": "code",
   "execution_count": null,
   "metadata": {},
   "outputs": [],
   "source": [
    "T1, T2, Qr, Qoc1, Qoc2, Toc1, Toc2 = TVEL(8)\n",
    "#T2 * (-Qr-Qoc), -Qr*T1-Qoc*Toc\n",
    "#Qr, Qoc\n",
    "Qoc1*Toc1, Qoc2*Toc2"
   ]
  },
  {
   "cell_type": "code",
   "execution_count": 4,
   "metadata": {},
   "outputs": [],
   "source": [
    "Hs = np.array([8, 9, 10, 11, 12, 13, 14, 15, 16, 18, 20, 22, 30, 110, 150]) # Sill depth [8, 9, 10, 11, 12, 13, 14, 15, 16, 18, 20, 22, 30, 110, 150]\n",
    "r = Hs / 150"
   ]
  },
  {
   "cell_type": "code",
   "execution_count": null,
   "metadata": {},
   "outputs": [],
   "source": [
    "fig1, ax =plt.subplots(figsize=(10,7))\n",
    "\n",
    "Tout_f = np.empty(len(r))\n",
    "Tin_f = np.empty(len(r))\n",
    "Tin_o = np.empty(len(r))\n",
    "T2e = np.empty(len(r))\n",
    "\n",
    "for j in range(len(Hs)):\n",
    "    T1, T2, Qr, Qoc2, Toc2 = TVEL(Hs[j])\n",
    "    Tout_f[j] = T1 \n",
    "    Tin_f[j] = T2\n",
    "    Tin_o[j] = Toc2\n",
    "    T2e[j] = (Qr*T1+Qoc2+Toc2)/(Qr+Qoc2)\n",
    "\n",
    "      \n",
    "ax.set_xlim([0,r[-1]])    \n",
    "plt.xticks(fontsize=15)\n",
    "plt.yticks(fontsize=15)\n",
    "plt.xlabel(r'$\\frac{H_s}{H}$', size=20)\n",
    "plt.ylabel('Temperature (\\N{DEGREE SIGN}C)', size=20)\n",
    "#ax.plot(r, Tout_f, 'o-', lw=2, label='$T_1$')\n",
    "ax.plot(r, Tin_f, 'o-', lw=2, label='$T_2$')\n",
    "ax.plot(r, T2e, 'o-', lw=2, label='$T_{2e}$')\n",
    "ax.plot(r, Tin_f-T2e, 'o-', lw=2, label='$\\Delta T$')\n",
    "ax.legend(loc = 'best', fontsize=15)"
   ]
  },
  {
   "cell_type": "code",
   "execution_count": 9,
   "metadata": {},
   "outputs": [
    {
     "data": {
      "image/png": "[encoded data removed]",
      "text/plain": [
       "<Figure size 720x504 with 1 Axes>"
      ]
     },
     "metadata": {
      "needs_background": "light"
     },
     "output_type": "display_data"
    }
   ],
   "source": [
    "fig2, ax =plt.subplots(figsize=(10,7))\n",
    "\n",
    "\n",
    "#ax.set(xlim=(3.1e4, 3.7e4), ylim=(3.1e4, 3.7e4))\n",
    "ax.set(xlim=(1e4, 3.7e4), ylim=(1e4, 3.7e4))\n",
    "plt.axis('square')\n",
    "plt.xticks(fontsize=15)\n",
    "plt.yticks(fontsize=15)\n",
    "plt.xlabel(r'LHS ($^\\circ C\\cdot m^3/s$)', size=20)\n",
    "plt.ylabel(r'RHS ($^\\circ C\\cdot m^3/s$)', size=20)\n",
    "ax.plot(ax.get_xlim(), ax.get_ylim(), ls=\"--\", c=\".3\")\n",
    "#loc_mark = [3.1e4, 3.7e4]\n",
    "loc_mark = [1e4, 3.7e4]\n",
    "plt.plot(loc_mark[0],loc_mark[1], marker='o', alpha=.7, ms=15, color='b', markeredgecolor='k')\n",
    "#plt.text(loc_mark[0]+3e2, loc_mark[1]-1e2, r'$\\frac{H_s}{H}$', fontsize=20)\n",
    "plt.text(loc_mark[0]+1e3, loc_mark[1]-5e2, r'$\\frac{H_s}{H}$', fontsize=20)\n",
    "for j in range(len(Hs)):\n",
    "    T1, T2, Qr, Qoc1, Qoc2, Toc1, Toc2 = TVEL(Hs[j])\n",
    "    #LHS = T2 * (Qr+Qoc2)\n",
    "    #RHS = Qr*T1+Qoc2*Toc2\n",
    "    LHS = T1 * Qoc1\n",
    "    RHS = Toc2 * Qoc2\n",
    "    ax.plot(LHS, RHS, marker='o', alpha=.7, ms=2*(j+3), color='b', markeredgecolor='k')  "
   ]
  },
  {
   "cell_type": "code",
   "execution_count": null,
   "metadata": {},
   "outputs": [],
   "source": [
    "fig3, ax =plt.subplots(figsize=(10,7))\n",
    "\n",
    "R = np.empty(len(r))\n",
    "\n",
    "for j in range(len(Hs)):\n",
    "    T1, T2, Toc, Qr, Qoc = TVEL(Hs[j])\n",
    "    R[j] = Qr/Qoc\n",
    "    \n",
    "      \n",
    "ax.set_xlim([0,r[-1]])    \n",
    "plt.xticks(fontsize=15)\n",
    "plt.yticks(fontsize=15)\n",
    "plt.xlabel(r'$\\frac{H_s}{H}$', size=20)\n",
    "plt.ylabel(r'($^\\circ C\\cdot m^3/s$)', size=20)\n",
    "ax.plot(r, R, 'o-k', lw=2, label=r'$\\frac{Q_r}{Q_oc}$')\n",
    "#ax.plot(r, Tin_f-Tout_f, 'o-', lw=2, label='dT')\n",
    "ax.legend(loc = 'best', fontsize=15)"
   ]
  },
  {
   "cell_type": "code",
   "execution_count": 7,
   "metadata": {},
   "outputs": [],
   "source": [
    "fig_path = \"/Users/weiyangbao/Documents/Jupyter_Figs/Transport/\"\n",
    "if not os.path.exists(fig_path):\n",
    "    os.makedirs(fig_path)\n",
    "fig2.savefig(fig_path + '/QocToc.png', dpi = 150, bbox_inches='tight')"
   ]
  },
  {
   "cell_type": "code",
   "execution_count": null,
   "metadata": {},
   "outputs": [],
   "source": []
  }
 ],
 "metadata": {
  "kernelspec": {
   "display_name": "Python 3",
   "language": "python",
   "name": "python3"
  },
  "language_info": {
   "codemirror_mode": {
    "name": "ipython",
    "version": 3
   },
   "file_extension": ".py",
   "mimetype": "text/x-python",
   "name": "python",
   "nbconvert_exporter": "python",
   "pygments_lexer": "ipython3",
   "version": "3.7.4"
  }
 },
 "nbformat": 4,
 "nbformat_minor": 4
}
