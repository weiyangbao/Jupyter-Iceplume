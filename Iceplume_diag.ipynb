{
 "cells": [
  {
   "cell_type": "code",
   "execution_count": 1,
   "metadata": {},
   "outputs": [
    {
     "name": "stderr",
     "output_type": "stream",
     "text": [
      "/Users/weiyangbao/miniconda3/envs/py37/lib/python3.7/site-packages/xarray/core/merge.py:17: FutureWarning: The Panel class is removed from pandas. Accessing it from the top-level namespace will also be removed in the next version\n",
      "  PANDAS_TYPES = (pd.Series, pd.DataFrame, pd.Panel)\n"
     ]
    }
   ],
   "source": [
    "# Iceplume diagnostics in MITgcm\n",
    "import xarray as xr\n",
    "import numpy as np\n",
    "import matplotlib.pyplot as plt\n",
    "import os\n",
    "import glob"
   ]
  },
  {
   "cell_type": "code",
   "execution_count": 38,
   "metadata": {},
   "outputs": [
    {
     "data": {
      "text/plain": [
       "(array([21.295078, 22.114014, 22.99589 , 23.785803, 24.569826, 25.32592 ,\n",
       "        26.022469, 26.616602, 27.278147, 27.88952 , 28.981428, 30.23868 ,\n",
       "        30.261593, 30.06178 , 29.86262 , 29.66425 , 29.46684 , 29.270613,\n",
       "        29.07584 , 28.882832, 28.69182 , 28.409185, 28.131033, 27.857101,\n",
       "        27.587048, 27.320427, 27.05668 , 26.795218, 26.535458, 26.277027,\n",
       "        26.02006 , 25.341148, 24.676777, 24.038696, 23.430109, 22.844885,\n",
       "        22.276897, 21.72318 , 21.18224 , 20.653538, 20.139547, 19.149607,\n",
       "        18.205765, 17.31358 , 16.482145, 15.730194, 15.094509, 14.646812,\n",
       "        14.550316, 15.306284], dtype=float32),\n",
       " array([22.167654, 23.21438 , 24.063469, 24.828705, 25.67672 , 26.510275,\n",
       "        27.263369, 27.903818, 28.626537, 29.179682, 30.061628, 30.803278,\n",
       "        30.628777, 30.429142, 30.230228, 30.032196, 29.835236, 29.639605,\n",
       "        29.445631, 29.253675, 29.06404 , 28.784098, 28.509329, 28.23941 ,\n",
       "        27.973858, 27.712076, 27.45336 , 27.197035, 26.942453, 26.689043,\n",
       "        26.43651 , 25.764025, 25.090815, 24.420906, 23.763329, 23.124716,\n",
       "        22.506174, 21.907911, 21.330765, 20.774992, 20.242096, 19.226562,\n",
       "        18.262896, 17.354187, 16.510391, 15.750204, 15.108795, 14.657048,\n",
       "        14.558633, 15.314237], dtype=float32))"
      ]
     },
     "execution_count": 38,
     "metadata": {},
     "output_type": "execute_result"
    }
   ],
   "source": [
    "sd = 1\n",
    "state01 = xr.open_dataset('/Users/weiyangbao/Documents/Model_outputs/Sills/Diagnostics/icefrntR_' + str(format(sd,'03d')) + '.nc')\n",
    "T = state01.icefrntR.data # plume temperature\n",
    "T[3,:,5,1], T[5,:,5,1]"
   ]
  },
  {
   "cell_type": "code",
   "execution_count": null,
   "metadata": {},
   "outputs": [],
   "source": []
  }
 ],
 "metadata": {
  "kernelspec": {
   "display_name": "Python 3",
   "language": "python",
   "name": "python3"
  },
  "language_info": {
   "codemirror_mode": {
    "name": "ipython",
    "version": 3
   },
   "file_extension": ".py",
   "mimetype": "text/x-python",
   "name": "python",
   "nbconvert_exporter": "python",
   "pygments_lexer": "ipython3",
   "version": "3.7.4"
  }
 },
 "nbformat": 4,
 "nbformat_minor": 4
}
