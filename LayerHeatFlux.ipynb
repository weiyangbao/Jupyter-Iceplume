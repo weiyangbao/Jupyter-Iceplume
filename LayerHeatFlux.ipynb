{
 "cells": [
  {
   "cell_type": "code",
   "execution_count": 1,
   "metadata": {},
   "outputs": [],
   "source": [
    "# Heat budget for the lower layer\n",
    "import xarray as xr\n",
    "import numpy as np\n",
    "import matplotlib.pyplot as plt\n",
    "import os\n",
    "import glob"
   ]
  },
  {
   "cell_type": "code",
   "execution_count": 51,
   "metadata": {},
   "outputs": [],
   "source": [
    "# Find the uppler and lower layer depth above the sill crest\n",
    "def Layer(u):\n",
    "    # Layer interface, zero velocity crossing point\n",
    "    #l = np.empty(len(X)-2)\n",
    "    h1 = np.empty(len(X))\n",
    "    z_th = np.empty(len(X))\n",
    "    h1[0] = h1[-1] = np.nan\n",
    "    z_th[0] = z_th[-1] = np.nan\n",
    "    itf = np.empty(len(X)-1)\n",
    "    itf[0] = np.nan\n",
    "    for i in range(1,len(X)-1):\n",
    "        l = np.where(u[:, i] < 0)[-1][0]\n",
    "        itf[i] = l\n",
    "        z_th[i] = w[l, i] * pt[l-1:l+1, i].mean() *  200 * 200 \n",
    "        # Calculate layer depth\n",
    "        h1[i] = depth[l]\n",
    "        #if l <= 9:\n",
    "        #    h1[i] = -depth[l]+0.25\n",
    "        #elif l <= 19:\n",
    "        #    h1[i] = -depth[l]+0.5\n",
    "        #elif l <= 29:\n",
    "       #     h1[i] = -depth[l]+0.75\n",
    "        #elif l <= 39:\n",
    "       #     h1[i] = -depth[l]+2\n",
    "       # elif l <= 49:\n",
    "        #    h1[i] = -depth[l]+4\n",
    "    return (itf, z_th, h1)"
   ]
  },
  {
   "cell_type": "code",
   "execution_count": 52,
   "metadata": {},
   "outputs": [
    {
     "data": {
      "text/plain": [
       "array([-20891.55126786, -21905.68868779, -23095.32280779])"
      ]
     },
     "execution_count": 52,
     "metadata": {},
     "output_type": "execute_result"
    },
    {
     "data": {
      "image/png": "[encoded data removed]",
      "text/plain": [
       "<Figure size 1728x432 with 1 Axes>"
      ]
     },
     "metadata": {
      "needs_background": "light"
     },
     "output_type": "display_data"
    }
   ],
   "source": [
    "Cp = 4220  # Specific heat content J/kg/C\n",
    "rho = 1025 # Density\n",
    "# Grid areas\n",
    "Area = np.empty(50)\n",
    "Area[:10] = 100\n",
    "Area[10:20] = 200\n",
    "Area[20:30] = 300\n",
    "Area[30:40] = 800\n",
    "Area[40:] = 1600\n",
    "\n",
    "\n",
    "files = sorted(glob.glob('/Users/weiyangbao/Documents/Model_outputs/state700/Hs*.nc'))\n",
    "Hs = np.array([10, 12, 15])\n",
    "fig, ax = plt.subplots(figsize=(24,6)) \n",
    "\n",
    "H1 = np.empty(len(Hs))\n",
    "H2 = np.empty(len(Hs))\n",
    "H3 = np.empty(len(Hs))\n",
    "for i in range(len(files)):\n",
    "    state0 = xr.open_dataset(files[i])\n",
    "    t0 = 60 # Start from day 30\n",
    "    tn = len(state0.T) # End day\n",
    "    state = state0.isel(Y = range(1,10), T = range(t0,tn)) # Remove the boundary walls in y direction\n",
    "    pt = state.Temp.data.mean(axis=(0,2))\n",
    "    w = state.W.data.mean(axis=(0,2))\n",
    "    X = state.X.data\n",
    "    x_dist = X / 1000\n",
    "    depth = state.Zl.data\n",
    "    u0 = state.U.data # dims = T, Z, Y, Xp1\n",
    "    u_ymean = (u0[:, :, :, 1:].mean(2) + u0[:, :, :, :-1].mean(2)) / 2\n",
    "    u = u_ymean.mean(0) # dims = Z, X\n",
    "    u[u==0] = np.nan\n",
    "    itf, z_th, h1 = Layer(u)\n",
    "    \n",
    "    Q1 = u[:,1]*pt[:,1] * Area  * Cp * rho\n",
    "    Q2 = u[:,28]*pt[:,28] * Area  * Cp * rho\n",
    "    #Q2 = Q2[~np.isnan(Q2)]\n",
    "    H1[i] = Q1[np.int(itf[1]):].sum()\n",
    "    H2[i] = Q2[np.int(itf[28]):].sum()\n",
    "    H3[i] = z_th[1:-1].sum() * 9\n",
    "    \n",
    "H3"
   ]
  },
  {
   "cell_type": "code",
   "execution_count": null,
   "metadata": {},
   "outputs": [],
   "source": []
  }
 ],
 "metadata": {
  "kernelspec": {
   "display_name": "Python 3",
   "language": "python",
   "name": "python3"
  },
  "language_info": {
   "codemirror_mode": {
    "name": "ipython",
    "version": 3
   },
   "file_extension": ".py",
   "mimetype": "text/x-python",
   "name": "python",
   "nbconvert_exporter": "python",
   "pygments_lexer": "ipython3",
   "version": "3.7.3"
  }
 },
 "nbformat": 4,
 "nbformat_minor": 2
}
