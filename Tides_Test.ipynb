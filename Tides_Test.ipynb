{
 "cells": [
  {
   "cell_type": "code",
   "execution_count": 1,
   "metadata": {},
   "outputs": [],
   "source": [
    "# Read and plot sea surface elevation in tidal runs\n",
    "import xarray as xr\n",
    "import numpy as np\n",
    "import matplotlib.pyplot as plt\n",
    "import gsw\n",
    "import os"
   ]
  },
  {
   "cell_type": "code",
   "execution_count": 2,
   "metadata": {},
   "outputs": [
    {
     "ename": "ValueError",
     "evalue": "operands could not be broadcast together with shapes (169,59,220) (169,9,220) ",
     "output_type": "error",
     "traceback": [
      "\u001b[0;31m---------------------------------------------------------------------------\u001b[0m",
      "\u001b[0;31mValueError\u001b[0m                                Traceback (most recent call last)",
      "\u001b[0;32m<ipython-input-2-50f0c46eda18>\u001b[0m in \u001b[0;36m<module>\u001b[0;34m\u001b[0m\n\u001b[1;32m     19\u001b[0m \u001b[0;34m\u001b[0m\u001b[0m\n\u001b[1;32m     20\u001b[0m \u001b[0mmag_x\u001b[0m \u001b[0;34m=\u001b[0m \u001b[0mnp\u001b[0m\u001b[0;34m.\u001b[0m\u001b[0msqrt\u001b[0m\u001b[0;34m(\u001b[0m\u001b[0mu_ymean\u001b[0m\u001b[0;34m**\u001b[0m\u001b[0;36m2\u001b[0m \u001b[0;34m+\u001b[0m \u001b[0mw_ymean\u001b[0m\u001b[0;34m**\u001b[0m\u001b[0;36m2\u001b[0m\u001b[0;34m)\u001b[0m\u001b[0;34m\u001b[0m\u001b[0;34m\u001b[0m\u001b[0m\n\u001b[0;32m---> 21\u001b[0;31m \u001b[0mmag_surf\u001b[0m \u001b[0;34m=\u001b[0m \u001b[0mnp\u001b[0m\u001b[0;34m.\u001b[0m\u001b[0msqrt\u001b[0m\u001b[0;34m(\u001b[0m\u001b[0mv_surf\u001b[0m\u001b[0;34m**\u001b[0m\u001b[0;36m2\u001b[0m \u001b[0;34m+\u001b[0m \u001b[0mu_surf\u001b[0m\u001b[0;34m**\u001b[0m\u001b[0;36m2\u001b[0m\u001b[0;34m)\u001b[0m\u001b[0;34m\u001b[0m\u001b[0;34m\u001b[0m\u001b[0m\n\u001b[0m\u001b[1;32m     22\u001b[0m \u001b[0;31m#mag_surf.max(), mag_x.max(),\u001b[0m\u001b[0;34m\u001b[0m\u001b[0;34m\u001b[0m\u001b[0;34m\u001b[0m\u001b[0m\n",
      "\u001b[0;31mValueError\u001b[0m: operands could not be broadcast together with shapes (169,59,220) (169,9,220) "
     ]
    }
   ],
   "source": [
    "sd = 150 # Sill depth\n",
    "file1 = xr.open_dataset('/Users/weiyangbao/Documents/MATLAB/Model_outputs/shelf-tide/state_' + str(format(sd,'03d')) + '.nc')\n",
    "grid = xr.open_dataset('/Users/weiyangbao/Documents/MATLAB/Model_outputs/shelf-tide/grid_' + str(format(sd,'03d')) + '.nc')\n",
    "state1 = file1.isel(Y = range(1,10)) # Remove the boundary walls in y direction\n",
    "ssa = state1.Eta.data # Sea surface anomaly (m), in T, Y, X dimensions\n",
    "time = state1.T.data / 3600\n",
    "x = state1.X.data / 1000\n",
    "z = state1.Z.data\n",
    "y = state1.Y.data\n",
    "u0 = state1.U.data\n",
    "v0 = state1.V.data\n",
    "w0 = state1.W.data\n",
    "u_ymean = (u0[:, :, :, 1:].mean(2) + u0[:, :, :, :-1].mean(2)) / 2\n",
    "u_surf = (u0[:, 0, :, 1:] + u0[:, 0, :, :-1]) / 2\n",
    "v = (v0[:,:,1:,:] + v0[:,:,:-1,:]) / 2\n",
    "v_surf = v[:,0,1:-1,:]\n",
    "w_ymean = w0[:,:,:,:].mean(2)\n",
    "w_surf = w0[:,0,:,:]\n",
    "\n",
    "mag_x = np.sqrt(u_ymean**2 + w_ymean**2)\n",
    "mag_surf = np.sqrt(v_surf**2 + u_surf**2)\n",
    "#mag_surf.max(), mag_x.max(),"
   ]
  },
  {
   "cell_type": "code",
   "execution_count": 3,
   "metadata": {},
   "outputs": [],
   "source": [
    "fig_path = \"/Users/weiyangbao/Documents/Jupyter_Figs/Tides/\"\n",
    "if not os.path.exists(fig_path):\n",
    "    os.makedirs(fig_path)"
   ]
  },
  {
   "cell_type": "code",
   "execution_count": 4,
   "metadata": {},
   "outputs": [],
   "source": [
    "for t in range(48):\n",
    "    fig0, ax = plt.subplots(figsize=(15,5))  \n",
    "\n",
    "    ct = np.linspace(0,0.2,20) # Contour range for temperature 0.02\n",
    "    vel = mag_surf[t,:,:]\n",
    "    vt = v[t,0,1:-1,:]\n",
    "    u_surft = u_surf[t,:,:]\n",
    "    plt.contourf(x,y,vel, ct, cmap = 'RdYlBu_r')\n",
    "    cbar = plt.colorbar(ticks = np.linspace(0,0.2,9))\n",
    "    cbar.ax.tick_params(labelsize = 15)\n",
    "    cbar.set_label('Velocity (m/s)', size = 20, weight = 'bold')\n",
    "    \n",
    "\n",
    "\n",
    "# Plot velocity(Z, X) field\n",
    "    #ut[[1,2,3,4,6,7,8,9,11,12,14,15,17,18,19,21,23,24,26,27,29,30], :] = np.nan\n",
    "    #wt[[1,2,3,4,6,7,8,9,11,12,14,15,17,18,19,21,23,24,26,27,29,30], :] = np.nan\n",
    "    u_surft[:,::2] = np.nan\n",
    "    vt[:,::2] = np.nan\n",
    "    #u_surft[::2,:] = np.nan\n",
    "    #vt[::2,:] = np.nan   \n",
    "    Q = ax.quiver(x,y,0.1*u_surft,0.1*vt, width=0.002, scale=1)\n",
    "#ax.quiverkey(Q, 0.7, 0.89, 0.2,r'0.2 $m/s$', fontproperties={'weight': 'bold', 'size' : 10}, coordinates='figure')\n",
    "\n",
    "    ax.set_xlim([0,max(x)])\n",
    "#ax.set_xticklabels(np.linspace(0,10,6, dtype = int), size = 20)\n",
    "    ax.set_ylim([y[1],y[-1]])\n",
    "#ax.set_yticklabels(np.linspace(-150,0,11, dtype = int), size = 20)\n",
    "    plt.yticks(fontsize = 20)\n",
    "    plt.xticks(fontsize = 20)\n",
    "    ax.set_xlabel('Distance from glacier [km]', size = 20)\n",
    "    ax.set_ylabel('Width [m]', size = 20)\n",
    "    plt.title('Hour ' + str(t), size = 20)\n",
    "    plt.close()\n",
    "    fig0.savefig(fig_path + '/PlanFjord' + format(t, '03d') + '.png', dpi = 200, bbox_inches='tight')"
   ]
  },
  {
   "cell_type": "code",
   "execution_count": null,
   "metadata": {},
   "outputs": [],
   "source": [
    "for t in range(48):\n",
    "    fig0, ax = plt.subplots(figsize=(15,5))  \n",
    "\n",
    "    ct = np.linspace(0,0.2,20) # Contour range for 0.02, 0.45\n",
    "    vel = mag_x[t,:,:]\n",
    "    ut = u_ymean[t,:,:]\n",
    "    wt = w_ymean[t,:,:]\n",
    "    mask = (vel == 0)\n",
    "    vel[mask] = np.nan\n",
    "    plt.contourf(x,z,vel, ct, cmap = 'RdYlBu_r')\n",
    "    cbar = plt.colorbar(ticks = np.linspace(0,0.2,9))\n",
    "    cbar.ax.tick_params(labelsize = 15)\n",
    "    cbar.set_label('Velocity (m/s)', size = 20, weight = 'bold')\n",
    "    \n",
    "\n",
    "\n",
    "# Plot velocity(Z, X) field\n",
    "    ut[[2,3,4,6,5,8,9,11,12,14,15,17,18,19,21,23,24,26,27,29,30], :] = np.nan\n",
    "    wt[[2,3,4,6,5,8,9,11,12,14,15,17,18,19,21,23,24,26,27,29,30], :] = np.nan\n",
    "    ut[:,::2] = np.nan\n",
    "    wt[:,::2] = np.nan\n",
    "    ut[::2,:] = np.nan\n",
    "    wt[::2,:] = np.nan   \n",
    "    Q = ax.quiver(x,z,0.1*ut,0.1*wt, width=0.002, scale=1)\n",
    "#ax.quiverkey(Q, 0.7, 0.89, 0.2,r'0.2 $m/s$', fontproperties={'weight': 'bold', 'size' : 10}, coordinates='figure')\n",
    "\n",
    "    ax.set_xlim([0,max(x)])\n",
    "#ax.set_xticklabels(np.linspace(0,10,6, dtype = int), size = 20)\n",
    "    ax.set_ylim([min(z),0])\n",
    "#ax.set_yticklabels(np.linspace(-150,0,11, dtype = int), size = 20)\n",
    "    plt.yticks(fontsize = 20)\n",
    "    plt.xticks(fontsize = 20)\n",
    "    ax.set_xlabel('Distance from glacier [km]', size = 20)\n",
    "    ax.set_ylabel('Depth [m]', size = 20)\n",
    "    plt.title('Hour ' + str(t), size = 20)\n",
    "    plt.close()\n",
    "    fig0.savefig(fig_path + '/AlongFjord' + format(t, '03d') + '.png', dpi = 200, bbox_inches='tight')"
   ]
  },
  {
   "cell_type": "code",
   "execution_count": null,
   "metadata": {},
   "outputs": [],
   "source": [
    "count = 0\n",
    "for t in range(24):\n",
    "    count += 1\n",
    "    fig1, ax =plt.subplots(figsize=(10,7))\n",
    "    ax.set_xlim([0,x[20]])\n",
    "    ax.set_ylim([-1e-5,1e-5])\n",
    "    plt.xticks(fontsize=15)\n",
    "    plt.yticks(fontsize=15)\n",
    "    plt.xlabel('Along fjord distance (m)', size=20)\n",
    "    plt.ylabel('Free surface anomaly (m)', size=20)\n",
    "    ax.axhline(y=0,color='k',linestyle=':')\n",
    "    ax.plot(x[1:20], ssa[t,5,1:20], 'o-b')\n",
    "    #ax.plot(r, Tin_f-T2e, 'o-', lw=2, label='$\\Delta T$')\n",
    "    #ax.legend(loc = 'best', fontsize=15)\n",
    "    plt.title('Hour ' + str(int(t)), size = 20, weight = 'bold')\n",
    "    plt.close()\n",
    "    fig1.savefig(fig_path + '/time' + format(count, '03d') + '.png', dpi = 200, bbox_inches='tight')"
   ]
  },
  {
   "cell_type": "code",
   "execution_count": 5,
   "metadata": {},
   "outputs": [],
   "source": [
    "# Generate GIF from saved output figures\n",
    "import imageio\n",
    "import glob\n",
    "\n",
    "images = []\n",
    "imagenames = sorted(glob.glob(fig_path + '/PlanFjord*.png'))\n",
    "\n",
    "for filename in imagenames:\n",
    "    images.append(imageio.imread(filename))\n",
    "imageio.mimsave(fig_path + '/Plan48h.gif', images, duration=.5)"
   ]
  },
  {
   "cell_type": "code",
   "execution_count": null,
   "metadata": {},
   "outputs": [],
   "source": [
    "fig2, ax =plt.subplots(figsize=(12,6))\n",
    "ax.set_xlim([0,time[-1]])\n",
    "plt.xticks(fontsize=15)\n",
    "plt.yticks(fontsize=15)\n",
    "plt.xlabel('Time (h)', size=20)\n",
    "plt.ylabel('Free surface anomaly (m)', size=20)\n",
    "ax.plot(time[:], ssa[:,5,10], 'o-b') # x = 1, 45, 115\n",
    "ax.axhline(y=0,color='k',linestyle=':')\n",
    "ax.grid(linestyle='--', linewidth='0.5')\n",
    "#plt.title('Fjord Mouth', size = 20, weight = 'bold')\n",
    "fig2.savefig(fig_path + '/Eta.png', dpi = 200, bbox_inches='tight')"
   ]
  },
  {
   "cell_type": "code",
   "execution_count": 23,
   "metadata": {},
   "outputs": [
    {
     "data": {
      "text/plain": [
       "(1.825922421899539, -0.04228832200169563)"
      ]
     },
     "execution_count": 23,
     "metadata": {},
     "output_type": "execute_result"
    }
   ],
   "source": [
    "Area = np.empty([50, 9]) # Cross Y direction\n",
    "Area[:10, :] = 100\n",
    "Area[10:20, :] = 200\n",
    "Area[20:30, :] = 300\n",
    "Area[30:40, :] = 800\n",
    "Area[40:, :] = 1600\n",
    "\n",
    "H = 150\n",
    "L = state1.Xp1.data[-2]\n",
    "W = 1800\n",
    "\n",
    "Q = np.empty(6)\n",
    "for i in range(1,7):\n",
    "    Q[i-1] = np.sum((u0[i,:,:,-2]*0+0.005) * Area) * 3600\n",
    "    #Q[i-1] = 0.05 * 800 *3600\n",
    "V = np.abs(Q.sum())\n",
    "\n",
    "eta = V / (L*W)\n",
    "uE = np.sum(u0[2,:,:,-2]*Area) / (150*1800)\n",
    "eta, uE"
   ]
  },
  {
   "cell_type": "code",
   "execution_count": null,
   "metadata": {},
   "outputs": [],
   "source": []
  }
 ],
 "metadata": {
  "kernelspec": {
   "display_name": "Python 3",
   "language": "python",
   "name": "python3"
  },
  "language_info": {
   "codemirror_mode": {
    "name": "ipython",
    "version": 3
   },
   "file_extension": ".py",
   "mimetype": "text/x-python",
   "name": "python",
   "nbconvert_exporter": "python",
   "pygments_lexer": "ipython3",
   "version": "3.7.6"
  }
 },
 "nbformat": 4,
 "nbformat_minor": 4
}
