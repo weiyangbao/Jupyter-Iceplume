{
 "cells": [
  {
   "cell_type": "code",
   "execution_count": 1,
   "metadata": {},
   "outputs": [],
   "source": [
    "# Inflow entrainment\n",
    "import xarray as xr\n",
    "import numpy as np\n",
    "import matplotlib.pyplot as plt\n",
    "import os\n",
    "import glob\n",
    "import gsw"
   ]
  },
  {
   "cell_type": "code",
   "execution_count": 2,
   "metadata": {},
   "outputs": [],
   "source": [
    "# Find the interface\n",
    "def Layer(u):\n",
    "    # Layer interface, zero velocity crossing point\n",
    "    uzx = u.mean(axis=(0,2)) # Z, X\n",
    "    X = uzx.shape[1]\n",
    "    itf = np.empty(X, dtype=int)\n",
    "    itf[[0,1,-2,-1]] = 0 # Remove data at fjord head and end\n",
    "    for i in range(2,X-2):\n",
    "        l = np.where(uzx[:, i] < 0)[-1][0]\n",
    "        itf[i] = l\n",
    "    return itf"
   ]
  },
  {
   "cell_type": "code",
   "execution_count": 31,
   "metadata": {},
   "outputs": [],
   "source": [
    "def QR(sd):\n",
    "    state01 = xr.open_dataset('/Users/weiyangbao/Documents/Model_outputs/Sills/state_' + str(format(sd,'03d')) + '.nc')\n",
    "    state02 = xr.open_dataset('/Users/weiyangbao/Documents/Model_outputs/Sills/grid_' + str(format(sd,'03d')) + '.nc')\n",
    "    #state03 = xr.open_dataset('/Users/weiyangbao/Documents/Model_outputs/Sills/Diagnostics/icefrntT_' + str(format(sd,'03d')) + '.nc')\n",
    "    state1 = state01.isel(Y=range(1,10), T=range(40,121))\n",
    "    \n",
    "    \n",
    "    u = state1.U.data\n",
    "    w = state1.W.data\n",
    "    #icefrntT = state03.icefrntT.data[39:,:,5,1] # Plume temperature at the front\n",
    "    drF = state02.drF.data\n",
    "    Area = np.empty([50, 9]) # Cross Y direction\n",
    "    Area[:10, :] = 100\n",
    "    Area[10:20, :] = 200\n",
    "    Area[20:30, :] = 300\n",
    "    Area[30:40, :] = 800\n",
    "    Area[40:, :] = 1600\n",
    "\n",
    "    f = 52 # section index starting from the sill slope 52\n",
    "    s = 66-f  # section index at the sill\n",
    "    Ls = state1.Xp1.data[66] - state1.Xp1.data[f] # Entrainment zone horizontal scale\n",
    "    CellVol = state02.rA.data[None,1:-1,:] * state02.drF.data[:,None,None] * state02.HFacC.data[:,1:-1,:]\n",
    "    Temp = state1.Temp.data.mean(0)\n",
    "    \n",
    "    itf = Layer(u)\n",
    "    L = len(itf)-2 # exclude the open boundary at the fjord end\n",
    "    it = itf[f:]\n",
    "    ut = u[:,:,:,f:].mean(0)\n",
    "    wt = w[:,:,:,f:].mean(0)\n",
    "    HFacW = state02.HFacW.data[:,1:-1,f:] # vertical fraction of open cell at West face\n",
    "    drF = state02.drF.data\n",
    "    \n",
    "    rA = state02.rA.data[1:-1,f:] # r face area at cell center   \n",
    "\n",
    "    Vx1 = np.empty(L-f) # Horizontal volume transport for the upper layer\n",
    "    Vx2 = np.empty(L-f) # Horizontal volume transport for the lower layer\n",
    "    Vz = np.empty(L-f) # Vertical volume transport through the interface\n",
    "    u2 = np.empty(L-f)\n",
    "    h2 = np.empty(L-f)\n",
    "    for i in range(L-f):\n",
    "        Vx1[i] = np.sum(ut[:it[i],:,i] * HFacW[:it[i],:,i] * Area[:it[i],:])\n",
    "        Vx2[i] = np.sum(ut[it[i]:,:,i] * HFacW[it[i]:,:,i] * Area[it[i]:,:])\n",
    "        Vz[i] = np.sum(wt[it[i],:,i] * rA[:,i])\n",
    "        gh = HFacW[:,:,i].mean(1) * drF\n",
    "        h2[i] = sd - np.sum(gh[:it[i]])\n",
    "        u2[i] = np.sum(ut[it[i]:,:,i].mean(1) * gh[it[i]:]) / h2[i]\n",
    "        #u2[i] = ut[it[i],:,i].mean()\n",
    "       \n",
    "    Qr = Vx1[0] - Vx1[s] # Recirculation\n",
    "    Q1 = 4900 - Vx1[s]\n",
    "    U2 = -u2[s]\n",
    "    Q2 = Vx1[0]\n",
    "    hr = h2[s] / sd\n",
    "    Qw = -Vz[:s].sum()\n",
    "    return (Q1, Qr, Qw, hr)"
   ]
  },
  {
   "cell_type": "code",
   "execution_count": 27,
   "metadata": {},
   "outputs": [
    {
     "data": {
      "text/plain": [
       "(496.5056573972106, 170.34946158528328)"
      ]
     },
     "execution_count": 27,
     "metadata": {},
     "output_type": "execute_result"
    }
   ],
   "source": [
    "Q1, Qr, U2, hr = QR(22)\n",
    "Q1, Qr"
   ]
  },
  {
   "cell_type": "code",
   "execution_count": 6,
   "metadata": {},
   "outputs": [],
   "source": [
    "def BulkFroude(Hs):\n",
    "    file = xr.open_dataset('/Users/weiyangbao/Documents/Model_outputs/Sills/state_' + str(format(Hs,'03d')) + '.nc')\n",
    "    grid = xr.open_dataset('/Users/weiyangbao/Documents/Model_outputs/Sills/grid_' + str(format(Hs,'03d')) + '.nc')\n",
    "    state = file.isel(Y=range(1,10), T=range(40,len(file.T)))\n",
    "    depth = state.Z.data\n",
    "    xdis = state.X.data\n",
    "    #gh = np.repeat(np.array([[.5],[1],[1.5],[4],[8]]),10) # Grid height \n",
    "    drF = grid.drF.data # r cell face separation\n",
    "    pres = gsw.p_from_z(depth, 0)\n",
    "    pt = state.Temp.data.mean(axis=(0,2)) # Y-axis average\n",
    "    s = state.S.data.mean(axis=(0,2))\n",
    "    P = np.tile(pres,[len(xdis),1]).T\n",
    "    rho = gsw.rho(s, pt, P)\n",
    "    \n",
    "    u0 = state.U.data # dims = T, Z, Y, Xp1\n",
    "    u_x = (u0[:, :, :, 1:] + u0[:, :, :, :-1]) / 2 # Convert the value to grid center in x direction\n",
    "    u = u_x.mean(axis=(0,2)) # dims = Z, X\n",
    "    #u[u==0] = np.nan\n",
    "       \n",
    "    Fr1 = np.empty(len(xdis))\n",
    "    Fr2 = np.empty(len(xdis))\n",
    "    U1 = np.empty(len(xdis))\n",
    "    U2 = np.empty(len(xdis))\n",
    "    H2 = np.empty(len(xdis))\n",
    "    Gr = np.empty(len(xdis))\n",
    "    N = np.empty(len(xdis))\n",
    "    Mix = np.empty(len(xdis))\n",
    "    Fr1[[0,-1]] = np.nan\n",
    "    Fr2[[0,-1]] = np.nan\n",
    "    U1[[0,-1]] = np.nan\n",
    "    U2[[0,-1]] = np.nan\n",
    "    H2[[0,-1]] = np.nan\n",
    "    Gr[[0,-1]] = np.nan\n",
    "    N[[0,-1]] = np.nan\n",
    "    Mix[[0,-1]] = np.nan\n",
    "    for i in range(1,len(xdis)-1):           \n",
    "        p = np.where(u[:,i] < 0)[-1][0]\n",
    "        gh = grid.HFacC.data[:,1:10,i].mean(1) * drF\n",
    "        h1 = gh[:p].sum()\n",
    "        u1 = np.sum(u[:p,i] * gh[:p] / h1) \n",
    "        rho1 = np.sum(rho[:p,i] * gh[:p] / h1)\n",
    "        s1 = np.sum(s[:p,i] * gh[:p] / h1)\n",
    "        \n",
    "        if sum(j < 0 for j in u[p:,i]) == len(gh)-p:\n",
    "            n = len(gh) - p\n",
    "        else:    \n",
    "            n = np.where(u[p:,i] >= 0)[-1][0]\n",
    "            \n",
    "        h2 = gh[p:p+n].sum()\n",
    "        u2 = np.sum(u[p:p+n,i] * gh[p:p+n] / h2)\n",
    "        rho2 = np.sum(rho[p:p+n,i] * gh[p:p+n] / h2)\n",
    "        s2 = np.sum(s[p:p+n,i] * gh[p:p+n] / h2)\n",
    "        N2array, Parray = gsw.stability.Nsquared(s[:p+n,i], pt[:p+n,i], P[:p+n,i])\n",
    "        N[i] = N2array.mean()\n",
    "        Mix[i] = s2 / (s2 - s1)\n",
    "        g = 9.8 * (rho2-rho1) / rho2\n",
    "        Fr1[i] = u1 ** 2 / (g * h1)\n",
    "        Fr2[i] = u2 ** 2 / (g * h2)\n",
    "        U1[i] = u1\n",
    "        U2[i] = u2\n",
    "        H2[i] = h2\n",
    "        Gr[i] = np.sqrt(g*h2)\n",
    "        \n",
    "    h = H2[65]\n",
    "    U = U2[65]\n",
    "    Ri = Gr[65] * h / ((U1[65]-U2[65])**2)\n",
    "    cos = 600 / np.sqrt(600**2 + (150-Hs)**2)\n",
    "    s = (150-Hs) / np.sqrt(600**2 + (150-Hs)**2)\n",
    "    Cd = 2.5e-3\n",
    "    FrB = Fr2[65] / cos\n",
    "    #ug = np.cbrt(Gr[65]*h*U*s/Cd)\n",
    "    ug = np.sqrt(Gr[65]*h)\n",
    "    ns = N[65]\n",
    "    B = U*h*1800*(ns**1.5)/(Gr[65]**2)\n",
    "    return (ug, h, Mix)"
   ]
  },
  {
   "cell_type": "code",
   "execution_count": null,
   "metadata": {},
   "outputs": [],
   "source": [
    "file = xr.open_dataset('/Users/weiyangbao/Documents/Model_outputs/Sills/state_' + str(format(20,'03d')) + '.nc')\n",
    "state = file.isel(Y=range(1,10), T=range(40,len(file.T)))\n",
    "depth = state.Z.data\n",
    "xdis = state.Xp1.data\n",
    "u = state.U.data.mean(axis=(0,2))\n",
    "state.X.data[65]"
   ]
  },
  {
   "cell_type": "code",
   "execution_count": 32,
   "metadata": {},
   "outputs": [
    {
     "name": "stderr",
     "output_type": "stream",
     "text": [
      "/Users/weiyangbao/miniconda3/envs/py37/lib/python3.7/site-packages/ipykernel_launcher.py:46: RuntimeWarning: divide by zero encountered in double_scalars\n"
     ]
    }
   ],
   "source": [
    "H = 150\n",
    "L = 600 # Slope width of the sill\n",
    "W = 1800 # Fjord width\n",
    "Hs = np.array([8, 9, 10, 11, 12, 13, 14, 15, 16, 18, 20, 22]) # Sill depth [8, 9, 10, 11, 12, 13, 14, 15, 16, 18, 20, 22, 30, 110, 150]\n",
    "\n",
    "tan = (H-Hs) / L\n",
    "cos = L / np.sqrt(L**2 + (H-Hs)**2)\n",
    "sin = (H-Hs) / np.sqrt(L**2 + (H-Hs)**2)\n",
    "#ns, h, Ri = BulkFroude(13)\n",
    "Q1, Qr, U2, Ls = QR(10)\n",
    "U, h, P = BulkFroude(150)\n",
    "#P[1:-1].mean(), P, Q1"
   ]
  },
  {
   "cell_type": "code",
   "execution_count": null,
   "metadata": {},
   "outputs": [],
   "source": [
    "fig1, ax =plt.subplots(figsize=(10,7))\n",
    "\n",
    "Re = np.empty(len(Hs))\n",
    "We = np.empty(len(Hs))\n",
    "R = np.empty(len(Hs))\n",
    "for j in range(len(Hs)):\n",
    "    Q2, Qr, U2, Ls = QR(Hs[j])\n",
    "    U, h, mix = BulkFroude(Hs[j])\n",
    "    R[j] = U * np.sqrt(sin[j]/2.5e-3)\n",
    "    Re[j] = Qr\n",
    "    #We[j] =  np.sqrt(L**2+(H-Hs[j])**2)\n",
    "    We[j] = U2 * 0.071 * W * (H-Hs[j])\n",
    "      \n",
    "#ax.set(xlim=(3200, 5500), ylim=(3200, 5500))\n",
    "ax.set(xlim=(0, 3800), ylim=(0, 3800))\n",
    "plt.axis('square')\n",
    "plt.xticks(fontsize=15)\n",
    "plt.yticks(fontsize=15)\n",
    "plt.xticks(fontsize=15)\n",
    "plt.yticks(fontsize=15)\n",
    "plt.xlabel(r'$Q_r (m^3/s)$', size=20)\n",
    "plt.ylabel(r'$Q_e (m^3/s)$', size=20)\n",
    "ax.plot(ax.get_xlim(), ax.get_ylim(), ls=\"--\", c=\".3\")\n",
    "ax.plot(Re, We, 'o-', lw=2, label=r'$\\frac{Q_r}{Q_oc}$')\n",
    "#ax.plot(r, Tin_f-Tout_f, 'o-', lw=2, label='dT')\n",
    "#ax.legend(loc = 'best', fontsize=15)\n",
    "We"
   ]
  },
  {
   "cell_type": "code",
   "execution_count": 43,
   "metadata": {},
   "outputs": [
    {
     "name": "stderr",
     "output_type": "stream",
     "text": [
      "/Users/weiyangbao/miniconda3/envs/py37/lib/python3.7/site-packages/ipykernel_launcher.py:46: RuntimeWarning: divide by zero encountered in double_scalars\n"
     ]
    },
    {
     "data": {
      "text/plain": [
       "(array([3741.2102839 , 3553.40547233, 3277.2259824 , 2852.67368238,\n",
       "        2434.92042236, 2176.30925886, 1863.03515448, 1729.45795641,\n",
       "        1480.90355191, 1047.76264066,  632.09542762,  170.34946159]),\n",
       " array([3133.42631366, 2909.29632157, 2707.81862959, 2533.85390174,\n",
       "        2271.91459499, 2097.07044736, 1862.34108682, 1775.53686048,\n",
       "        1595.81361227, 1209.34764221,  852.6419308 ,  496.5056574 ]))"
      ]
     },
     "execution_count": 43,
     "metadata": {},
     "output_type": "execute_result"
    },
    {
     "data": {
      "image/png": "[encoded data removed]",
      "text/plain": [
       "<Figure size 720x504 with 1 Axes>"
      ]
     },
     "metadata": {
      "needs_background": "light"
     },
     "output_type": "display_data"
    }
   ],
   "source": [
    "fig2, ax =plt.subplots(figsize=(10,7))\n",
    "Qf = 700\n",
    "r = Hs / H\n",
    "Pfac = np.empty(len(Hs))\n",
    "Q1 = np.empty(len(Hs))\n",
    "QW = np.empty(len(Hs))\n",
    "R =  np.empty(len(Hs))\n",
    "for k in range(len(Hs)):\n",
    "    Q, Qr, Qw, Ls = QR(Hs[k])\n",
    "    Q1[k] = Q\n",
    "    QW[k] = Qw\n",
    "    R[k] = Qr\n",
    "    \n",
    "      \n",
    "ax.set(xlim=(100, 4400), ylim=(100, 4400))\n",
    "plt.axis('square')   \n",
    "plt.xticks(fontsize=15)\n",
    "plt.yticks(fontsize=15)\n",
    "#plt.xlabel(r'$\\frac{H_s}{H}$', size=20)\n",
    "plt.xlabel(r'$Q_{f1}-Q_{oc1}$', size=20)\n",
    "plt.ylabel(r'Volume Flux ($m^3/s$)', size=20)\n",
    "ax.plot(R,Q1, 'o-', lw=2, label='$\\overline{P}*Q_{f}-Q_{oc1}$')\n",
    "ax.plot(R,QW, 'o-', lw=2, label='$Q_{w}$')\n",
    "ax.plot(ax.get_xlim(), ax.get_ylim(), ls=\"--\", c=\".3\")\n",
    "ax.legend(loc = 'best', fontsize=15)\n",
    "#ax.axhline(y=4900,color='k',linestyle=':')\n",
    "#ax.axhline(y=Q1.mean(),color='r',linestyle='--')\n",
    "#ax.plot(r, Tin_f-Tout_f, 'o-', lw=2, label='dT')\n",
    "#ax.legend(loc = 'best', fontsize=15)\n",
    "R, Q1"
   ]
  },
  {
   "cell_type": "code",
   "execution_count": 44,
   "metadata": {},
   "outputs": [],
   "source": [
    "fig_path = \"/Users/weiyangbao/Documents/Jupyter_Figs/Transport/\"\n",
    "if not os.path.exists(fig_path):\n",
    "    os.makedirs(fig_path)\n",
    "fig2.savefig(fig_path + '/Recir.png', dpi = 150, bbox_inches='tight')"
   ]
  },
  {
   "cell_type": "code",
   "execution_count": null,
   "metadata": {},
   "outputs": [],
   "source": []
  }
 ],
 "metadata": {
  "kernelspec": {
   "display_name": "Python 3",
   "language": "python",
   "name": "python3"
  },
  "language_info": {
   "codemirror_mode": {
    "name": "ipython",
    "version": 3
   },
   "file_extension": ".py",
   "mimetype": "text/x-python",
   "name": "python",
   "nbconvert_exporter": "python",
   "pygments_lexer": "ipython3",
   "version": "3.7.7"
  }
 },
 "nbformat": 4,
 "nbformat_minor": 4
}
